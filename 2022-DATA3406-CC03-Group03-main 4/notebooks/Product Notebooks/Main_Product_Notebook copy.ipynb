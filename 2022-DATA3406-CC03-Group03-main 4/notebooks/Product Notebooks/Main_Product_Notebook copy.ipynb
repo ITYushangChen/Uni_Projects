{
 "cells": [
  {
   "cell_type": "code",
   "execution_count": 91,
   "id": "e7b6e67e",
   "metadata": {
    "scrolled": true
   },
   "outputs": [
    {
     "data": {
      "text/html": [
       "\n",
       "    <style> body {font-family: \"Roboto Condensed Light\", \"Roboto Condensed\";} h2 {padding: 10px 12px; background-color: #E64626; position: static; color: #ffffff; font-size: 40px;} .text_cell_render p { font-size: 15px; } .text_cell_render h1 { font-size: 30px; } h1 {padding: 10px 12px; background-color: #E64626; color: #ffffff; font-size: 40px;} .text_cell_render h3 { padding: 10px 12px; background-color: #0148A4; position: static; color: #ffffff; font-size: 20px;} h4:before{ \n",
       "    content: \"@\"; font-family:\"Wingdings\"; font-style:regular; margin-right: 4px;} .text_cell_render h4 {padding: 8px; font-family: \"Roboto Condensed Light\"; position: static; font-style: italic; background-color: #FFB800; color: #ffffff; font-size: 18px; text-align: center; border-radius: 5px;}input[type=submit] {background-color: #E64626; border: solid; border-color: #734036; color: white; padding: 8px 16px; text-decoration: none; margin: 4px 2px; cursor: pointer; border-radius: 20px;}</style>\n",
       "    <script> code_show=true; function code_toggle() {if (code_show){$('div.input').hide();} else {$('div.input').show();} code_show = !code_show} $( document ).ready(code_toggle);</script>\n",
       "    <form action=\"javascript:code_toggle()\"><input type=\"submit\" value=\"Hide/show all code.\"></form>\n"
      ],
      "text/plain": [
       "<IPython.core.display.HTML object>"
      ]
     },
     "execution_count": 91,
     "metadata": {},
     "output_type": "execute_result"
    }
   ],
   "source": [
    "# Material last updated: 15 Oct 2022\n",
    "# Note materials were designed with the Roboto Condensed font, which can be installed here: https://www.1001fonts.com/roboto-condensed-font.html\n",
    "\n",
    "from IPython.display import HTML\n",
    "HTML('''\n",
    "    <style> body {font-family: \"Roboto Condensed Light\", \"Roboto Condensed\";} h2 {padding: 10px 12px; background-color: #E64626; position: static; color: #ffffff; font-size: 40px;} .text_cell_render p { font-size: 15px; } .text_cell_render h1 { font-size: 30px; } h1 {padding: 10px 12px; background-color: #E64626; color: #ffffff; font-size: 40px;} .text_cell_render h3 { padding: 10px 12px; background-color: #0148A4; position: static; color: #ffffff; font-size: 20px;} h4:before{ \n",
    "    content: \"@\"; font-family:\"Wingdings\"; font-style:regular; margin-right: 4px;} .text_cell_render h4 {padding: 8px; font-family: \"Roboto Condensed Light\"; position: static; font-style: italic; background-color: #FFB800; color: #ffffff; font-size: 18px; text-align: center; border-radius: 5px;}input[type=submit] {background-color: #E64626; border: solid; border-color: #734036; color: white; padding: 8px 16px; text-decoration: none; margin: 4px 2px; cursor: pointer; border-radius: 20px;}</style>\n",
    "    <script> code_show=true; function code_toggle() {if (code_show){$('div.input').hide();} else {$('div.input').show();} code_show = !code_show} $( document ).ready(code_toggle);</script>\n",
    "    <form action=\"javascript:code_toggle()\"><input type=\"submit\" value=\"Hide/show all code.\"></form>\n",
    "''')"
   ]
  },
  {
   "cell_type": "markdown",
   "id": "bbe530de",
   "metadata": {},
   "source": [
    "# Trends in Step Activity across the Week\n",
    "\n",
    "**Group:** 2022-DATA3406-CC03-Group03\n",
    "**Authors:** Emily Cai, Amelia Xie, Callum Smith, Yushang Chen, Ziyang Lin\n",
    "\n",
    "## Purpose:\n",
    "The purpose of the analysis is to better understand the inter- and intra-week patterns that can be discerned from step tracking data. The problem the report aims to investigate is biases revealed by and resulting from step trackers, within the context of rising usage of step trackers and their data. Biases within the step tracking data can be due to underlying emergent patterns in human behaviour, systematic tracking errors from step trackers, and behavioural nudges caused by and relating to an individual having their step data available. Examples of possible emergent patterns may be less activity during weekends, systematic undercounting of steps for misplaced step trackers, and users being nudged towards a static 10 000 daily steps. These biases hold importance for relevant stakeholders, as the significant rise in smartphone trackers, has not been met with significantly available analysis and advice to users to correct these biases, and promote stronger health outcomes. The people that use step tracking apps or devices are not made aware of the changes these devices make to their behaviour, or the natural patterns within their exercise behaviour. Interventions to inform users and develop nudge against the biases may lead to significant increases in outcomes for users, and other stakeholders.\n",
    "\n",
    "## Stakeholders \n",
    "### Users of general step trackers\n",
    "The impact of our research on members of the public who use step trackers may be significant in the areas of health and wellbeing. Our research may result in making known biases within step trackers that reduce health outcomes, whilst also driving changes to step trackers such that governments and developers nudge users towards more desirable health outcomes. \n",
    "\n",
    "The relationship between stronger health outcomes, particularly cardiovascular health, and exercise is significant and well-studied (1). The research delineates between different kinds of activity and its effects on long-term health outcomes, such as differentiating between low, medium, and high intensity exercise. Research by Yang (2019) [5] recommends 150-300 minutes of moderate intensity, and 75-150 minutes of vigorously intense activity per week for adults (3) Step trackers do not significantly delineate between intensity of activity, only number of steps, leading to a weaker relationship between step counts and achieving desired health outcomes.\n",
    "\n",
    "Many steps trackers share a default, inflexible target for users of 10 000 steps every day, biasing users away from their specific needs, goals and ability. Groupings of users just above this 10 000 step level implies that the goals is acting as a behavioural nudge to increase, or reduce the number of steps taken. The implementation of a moving daily goal of moderate/vigorous physical activity (e.g. lower target on rainy work days and higher on sunny weekends) would better match to a user’s long-run activity goals, and be able to adapt to recent conditions (e.g. rest days after intense exercise). These methods of matching better to a users’ ability and goals may lead to greater motivation and superior health outcomes for users.\n",
    "\n",
    "Risks for general users would come through the usage of their information. Under a consequentialist ethical framework, the moral value of an action is the sum of its consequences. Under the scenario that nudges are implemented to reduce the biases within our research, a consequence of that may be increased usage and collection of personal data by governments and step tracker developers. To create a personalised health target, a government or company would likely collect a wide band of health information to improve accuracy of the recommendation model. This health data may be misused and mishandled, whether maliciously through data breaches, or by the stakeholders themselves through targeted advertising and insurance premium adjustment. This risk of private health information being mismanaged is relatively small, but should still be strongly considered.\n",
    "\n",
    "Another risk for society is the racial/socioeconomic justice within the world. Steps trackers are typically available through smartphones, and time for 300 minutes of recreational exercise are both more available to people with a higher socioeconomic status. By making the intervention of owning and using a step tracker more significant, a greater divide in health outcomes between socioeconomic lines may emerge. Counteractions to this may be in the form of government subsidised step tracking programs, such as those carried out in Singapore [4], which gave rewards more attractive to lower socioeconomic groups to incentivise them to participate. This risk of unintended, unjust consequences can be mitigated through careful and considered implementation of behavioural nudges.\n",
    "\n",
    "### People whose data was collected in the datasets\n",
    "The role of the participants in the data collection is to act as a representative sample, such that greater trends in bias can be found. The participants in the initial data collection are significant stakeholders, as our analysis intimately describes aspects of their fitness, they were likely unaware of. Maintaining the anonymity and privacy of the subjects of the data is a significant concern, as the small sample size of our analysis risks them being deanonymized. The greatest importance for the participants is that their privacy and consent be respected.\n",
    "\n",
    "### Step tracker developers\n",
    "The role of the developers of step tracker apps and devices would be able to use our analysis to add new features that would act as behavioural nudges to their step trackers. Developers could create dynamic recommendations or goals for physical activity. For example, adding recommendations to be more active on the weekends, or adjusting step counts towards individuals’ specific needs, would both be nudges that could act against known bias in the users. In our analysis, there was a bias towards participants being systematically less active on weekends. Individuals have different health needs and abilities, while step trackers are largely inflexible in their recommendation of 10 000 steps, targeting an outcome rather than the underlying health goal. Another factor is that by setting an outside goal, step tracker users can be demotivated [2], as a unambitious goals cause participants to stop too qickly, and overly ambitious goals cause participants to give up. The anchoring bias towards a static step goal, rather than a desired health outcome, obscures the cause-effect users see, pushing behaviour away from the underlying health outcome they are seeking, and towards an imperfectly correlated step goal.\n",
    "A risk with developers of step tracking apps is the privacy of user’s data being jeopardised. If step tracker developers follow recommendation to move from a step focused to a health focused, then this health data may be extracted for the purposes of advertising or insurance, creating an ethical concern. \n",
    "\n",
    "### Other researchers\n",
    "Other researchers are interested in the outcomes of our analysis, and the validity of our analysis. Our analysis adds to the general body of work around step trackers, which other researchers can use in their own research to better understand the biases in people using step trackers.\n",
    "\n",
    "### Governments\n",
    "Governments can create behavioural nudges to reduce the biases that are present within our research. One example of how a government can counteract these biases is the Singapore government’s STEP program, where participants were incentivised through prizes to compete step goals. This program may be enhanced through the consideration of other biases, such as weekend/weekday variances, as well as hourly trends for different people. Push notifications may be more effective on sunny weekends than rainy weekdays, leading to a greater outcome for users.\n",
    "\n",
    "\n",
    "## Raw Data\n",
    "We used 2 data sources for our analysis and rejected using another dataset on ethical concerns. We used the provided datasets, a weather dataset, and a sunlight dataset from the faculty and the Bureau of Meteorology respectively. \n",
    "### Provided datasets\n",
    "The process of data collection is assumed to be through the use of step trackers on volunteers, which were students of the university of Sydney. The systematic biases are compared to the general population are unclear. The data was provided by Professor Judy Kay and is assumed to be owned by the university. One conflict is that Professor Kay wishes to use these datasets as a learning tool, and thereby would have incentive to create easy to analyse datasets, which may be conflict with the dataset being reflective of the underlying patterns within the population. For example, this bias could be resultant from more step-tracking datasets being collected, and datasets with missing values and inconsistent trends may have been rejected, which may select for a person significantly different to the general population. Another conflict is between the researchers collecting the step tracking data, and the participants the data is collected from, as the participants want less information to be collected, whilst the researchers want more data collected. This may create a systematic bias towards which people entered the study, and how they acted during the trial, creating a disconnect between this sample and the general population. We managed the data through the Universities GitHub Enterprise server. This maintains the security of the datasets, as only those who have access to the USYD enterprise server can access the data. In the analysis, the data was remained immutable, as copies were taken, which left the original file intact. At the completing of the project, the data will not be distributed with the code to ensure privacy of participants.\n",
    "### BOM\n",
    "The datasets used described the rainfall from the Observatory Hill weather station and solar exposure from the Centennial Park station. The data was downloaded from the bureau’s open access, which includes a license for the permitted usage of the data There exist no conflicts of interest with the creating of the dataset, but there is room for p-hacking the pseudo arbitrary choosing of the weather station, as slight variations between weather stations readings may effect the statistical significance of the final results. The data is stored similarly to the provided datasets, securely on the USYD Github server, and at the conclusion of the project, will be provided, as it is a publicly available dataset without privacy concerns.\n",
    " \n",
    "### Rejected dataset\n",
    "For Yushang’s pragmatic 3, he used his personal data extracted from his step tracker. We did not continue to use this data in the assignment 2 report due to ethical and privacy concerns. The dataset contained raw data, non-anonymised data from his Iphone, which included location, steps, and other health data. We did not believe we were able to adequately anonymise the dataset, and therefore were unable to protect privacy. It was agreed that this was too much sensitive data to release, and thus unethical to include in the final report.\n",
    "\n",
    "## References\n",
    "1. https://www.ncbi.nlm.nih.gov/pmc/articles/PMC6172294/\n",
    "2. https://www.ncbi.nlm.nih.gov/pmc/articles/PMC5854216\n",
    "3. https://www.ncbi.nlm.nih.gov/pmc/articles/PMC6536904/4\n",
    "3. https://dl.acm.org/doi/abs/10.1145/3328928\n",
    "5. https://www.ncbi.nlm.nih.gov/pmc/articles/PMC6536904/\n",
    "\n",
    "\n",
    "\n",
    "\n",
    "### WIP - improvements\n",
    "Use this section only if the notebook is not final.\n",
    "\n",
    "Notable TODOs:\n",
    "- todo 1; Testing\n",
    "- todo 2; Conclusion\n",
    "- todo 3. Recheck literate programming\n",
    "\n"
   ]
  },
  {
   "cell_type": "markdown",
   "id": "b44a46f9",
   "metadata": {},
   "source": [
    "# Setup\n",
    "\n",
    "### Library import\n",
    "We imported all the required Python libraries\n",
    "\n",
    "* pandas\n",
    "* numpy\n",
    "* CategoricalDtype from pandas.api.types \n",
    "* Path (pathlib)\n",
    "* seaborn\n",
    "* matplotlib.pyplot (matplotlib)\n",
    "* plotly.graph_objects (plotly)\n",
    "* plotly.express (plotly)\n",
    "* widgets (ipywidgets)\n",
    "* ttest_ind (scipy)\n",
    "* pearsonr (scipy)\n",
    "* itertools\n",
    "* IPython.display"
   ]
  },
  {
   "cell_type": "code",
   "execution_count": 92,
   "id": "7c76b98b",
   "metadata": {
    "scrolled": true
   },
   "outputs": [
    {
     "name": "stderr",
     "output_type": "stream",
     "text": [
      "/var/folders/3k/d46tnkpn5ssg21k_ywpr9g5m0000gn/T/ipykernel_1646/414777948.py:7: DeprecationWarning:\n",
      "\n",
      "Please use `pearsonr` from the `scipy.stats` namespace, the `scipy.stats.stats` namespace is deprecated.\n",
      "\n"
     ]
    }
   ],
   "source": [
    "# Data manipulation\n",
    "import pandas as pd\n",
    "import numpy as np\n",
    "from pandas.api.types import CategoricalDtype\n",
    "from pathlib import Path\n",
    "from scipy.stats import ttest_ind\n",
    "from scipy.stats.stats import pearsonr\n",
    "from IPython.display import display_html\n",
    "from itertools import chain,cycle\n",
    "\n",
    "\n",
    "# Visualizations\n",
    "import seaborn as sns\n",
    "import matplotlib.pyplot as plt\n",
    "import plotly.graph_objects as go\n",
    "import plotly.express as px\n",
    "from ipywidgets import widgets"
   ]
  },
  {
   "cell_type": "markdown",
   "id": "f5999c70",
   "metadata": {},
   "source": [
    "### Data import\n",
    "We retrieve all the required data for the analysis.\n",
    "\n",
    "Datasets for:\n",
    "\n",
    "* Participant 1\n",
    "* Participant 2\n",
    "* Participant 3\n",
    "* Participant 4\n",
    "* Participant 5\n",
    "* Participant 7\n",
    "* Participant 8\n",
    "* Rainfall\n",
    "* Sun exposure\n",
    "\n",
    "A copy of the raw datasets are made and this is the dataset that we will use in our analysis"
   ]
  },
  {
   "cell_type": "code",
   "execution_count": 93,
   "id": "f8a3f983",
   "metadata": {
    "scrolled": true
   },
   "outputs": [],
   "source": [
    "# Include data paths\n",
    "dataset_path = Path('../../datasets')\n",
    "add_dataset_path = Path('../../datasets/additional')\n",
    "# Import datasets\n",
    "raw_data_p1 = pd.read_csv(dataset_path / 'Participant-01.csv')\n",
    "p1 = raw_data_p1.copy()\n",
    "\n",
    "raw_data_p2 = pd.read_csv(dataset_path / 'Participant-02-detail.csv')\n",
    "p2 = raw_data_p2.copy()\n",
    "\n",
    "raw_data_p3 = pd.read_csv(dataset_path / 'Participant-03.csv')\n",
    "p3 = raw_data_p3.copy()\n",
    "\n",
    "raw_data_p4 = pd.read_csv(dataset_path / 'Participant-04.csv')\n",
    "p4 = raw_data_p4.copy()\n",
    "\n",
    "\n",
    "raw_data_p5 = pd.read_csv(dataset_path / 'Participant-05-detail.csv')\n",
    "p5 = raw_data_p5.copy()\n",
    "\n",
    "raw_data_p7 = pd.read_csv(dataset_path / 'Participant-07.csv')\n",
    "p7 = raw_data_p7.copy()\n",
    "\n",
    "raw_data_p8 = pd.read_csv(dataset_path / 'Participant-08.csv')\n",
    "p8 = raw_data_p8.copy()\n",
    "\n",
    "# for climate datasets the year month day are separated i need them to be together therefore i parsed them together\n",
    "raw_data = pd.read_csv(add_dataset_path / 'rainfall_syd.csv',parse_dates= {\"Date\" : [\"Year\",\"Month\",\"Day\"]})\n",
    "sydrain = raw_data.copy()\n",
    "\n",
    "raw_data2 = pd.read_csv(add_dataset_path / 'solar_cent_park.csv',parse_dates= {\"Date\" : [\"Year\",\"Month\",\"Day\"]})\n",
    "sun = raw_data2.copy()"
   ]
  },
  {
   "cell_type": "markdown",
   "id": "7c3474da",
   "metadata": {},
   "source": [
    "# Data Cleaning\n",
    "\n",
    "1. The variable name containing data for step counts is different therefore is renamed 'Steps\" in all 7 datasets so there is consistency."
   ]
  },
  {
   "cell_type": "code",
   "execution_count": 94,
   "id": "baafa66a",
   "metadata": {
    "scrolled": true
   },
   "outputs": [],
   "source": [
    "# Author: Emily\n",
    "# Last Modified: 31/10/2022\n",
    "# change the variable name for Step count so it is 'Steps' for all participant datasets; reduces confusion\n",
    "p1 = p1.rename(columns={'Steps (count)':'Steps'})\n",
    "p2 = p2.rename(columns={'Count':'Steps'})\n",
    "p3 = p3.rename(columns={'Steps (count)':'Steps'})\n",
    "p4 = p4.rename(columns={'Steps (count)':'Steps'})\n",
    "p5 = p5.rename(columns={'Count':'Steps'})\n",
    "p7 = p7.rename(columns={'Steps (count)':'Steps'})\n",
    "p8 = p8.rename(columns={'Steps (count)':'Steps'})"
   ]
  },
  {
   "cell_type": "markdown",
   "id": "d3afac95",
   "metadata": {},
   "source": [
    "2. From duplicate testing, duplicates were found for the datasets of p2 and p5 therefore these duplicate values are dropped from the datasets."
   ]
  },
  {
   "cell_type": "code",
   "execution_count": 95,
   "id": "735ee91f",
   "metadata": {},
   "outputs": [
    {
     "data": {
      "text/html": [
       "<div>\n",
       "<style scoped>\n",
       "    .dataframe tbody tr th:only-of-type {\n",
       "        vertical-align: middle;\n",
       "    }\n",
       "\n",
       "    .dataframe tbody tr th {\n",
       "        vertical-align: top;\n",
       "    }\n",
       "\n",
       "    .dataframe thead th {\n",
       "        text-align: right;\n",
       "    }\n",
       "</style>\n",
       "<table border=\"1\" class=\"dataframe\">\n",
       "  <thead>\n",
       "    <tr style=\"text-align: right;\">\n",
       "      <th></th>\n",
       "      <th>Source</th>\n",
       "      <th>Date</th>\n",
       "      <th>Hour</th>\n",
       "      <th>Steps</th>\n",
       "    </tr>\n",
       "  </thead>\n",
       "  <tbody>\n",
       "    <tr>\n",
       "      <th>16</th>\n",
       "      <td>P2’s Apple Watch</td>\n",
       "      <td>2022-01-01</td>\n",
       "      <td>6</td>\n",
       "      <td>15</td>\n",
       "    </tr>\n",
       "    <tr>\n",
       "      <th>43</th>\n",
       "      <td>P2’s Apple Watch</td>\n",
       "      <td>2022-01-01</td>\n",
       "      <td>11</td>\n",
       "      <td>26</td>\n",
       "    </tr>\n",
       "    <tr>\n",
       "      <th>132</th>\n",
       "      <td>P2’s Apple Watch</td>\n",
       "      <td>2022-01-02</td>\n",
       "      <td>10</td>\n",
       "      <td>154</td>\n",
       "    </tr>\n",
       "    <tr>\n",
       "      <th>134</th>\n",
       "      <td>P2’s Apple Watch</td>\n",
       "      <td>2022-01-02</td>\n",
       "      <td>10</td>\n",
       "      <td>150</td>\n",
       "    </tr>\n",
       "    <tr>\n",
       "      <th>135</th>\n",
       "      <td>P2’s Apple Watch</td>\n",
       "      <td>2022-01-02</td>\n",
       "      <td>10</td>\n",
       "      <td>151</td>\n",
       "    </tr>\n",
       "    <tr>\n",
       "      <th>...</th>\n",
       "      <td>...</td>\n",
       "      <td>...</td>\n",
       "      <td>...</td>\n",
       "      <td>...</td>\n",
       "    </tr>\n",
       "    <tr>\n",
       "      <th>31540</th>\n",
       "      <td>P2’s Apple Watch</td>\n",
       "      <td>2022-09-01</td>\n",
       "      <td>7</td>\n",
       "      <td>8</td>\n",
       "    </tr>\n",
       "    <tr>\n",
       "      <th>31555</th>\n",
       "      <td>P2’s Apple Watch</td>\n",
       "      <td>2022-09-01</td>\n",
       "      <td>9</td>\n",
       "      <td>33</td>\n",
       "    </tr>\n",
       "    <tr>\n",
       "      <th>31569</th>\n",
       "      <td>P2’s Apple Watch</td>\n",
       "      <td>2022-09-01</td>\n",
       "      <td>13</td>\n",
       "      <td>16</td>\n",
       "    </tr>\n",
       "    <tr>\n",
       "      <th>31572</th>\n",
       "      <td>P2’s Apple Watch</td>\n",
       "      <td>2022-09-01</td>\n",
       "      <td>14</td>\n",
       "      <td>4</td>\n",
       "    </tr>\n",
       "    <tr>\n",
       "      <th>31604</th>\n",
       "      <td>P2’s Apple Watch</td>\n",
       "      <td>2022-09-01</td>\n",
       "      <td>17</td>\n",
       "      <td>107</td>\n",
       "    </tr>\n",
       "  </tbody>\n",
       "</table>\n",
       "<p>1671 rows × 4 columns</p>\n",
       "</div>"
      ],
      "text/plain": [
       "                 Source        Date  Hour  Steps\n",
       "16     P2’s Apple Watch  2022-01-01     6     15\n",
       "43     P2’s Apple Watch  2022-01-01    11     26\n",
       "132    P2’s Apple Watch  2022-01-02    10    154\n",
       "134    P2’s Apple Watch  2022-01-02    10    150\n",
       "135    P2’s Apple Watch  2022-01-02    10    151\n",
       "...                 ...         ...   ...    ...\n",
       "31540  P2’s Apple Watch  2022-09-01     7      8\n",
       "31555  P2’s Apple Watch  2022-09-01     9     33\n",
       "31569  P2’s Apple Watch  2022-09-01    13     16\n",
       "31572  P2’s Apple Watch  2022-09-01    14      4\n",
       "31604  P2’s Apple Watch  2022-09-01    17    107\n",
       "\n",
       "[1671 rows x 4 columns]"
      ]
     },
     "execution_count": 95,
     "metadata": {},
     "output_type": "execute_result"
    }
   ],
   "source": [
    "# testing for duplicates in for each participant.\n",
    "p2[p2.duplicated()]"
   ]
  },
  {
   "cell_type": "code",
   "execution_count": 96,
   "id": "0df8c46d",
   "metadata": {
    "scrolled": true
   },
   "outputs": [],
   "source": [
    "# Author: Emily\n",
    "# Last Modified: 31/10/2022\n",
    "# will now drop the duplicates as identified by duplicated testing \n",
    "p2.drop_duplicates(keep=False, inplace=True)\n",
    "p5.drop_duplicates(keep=False, inplace=True)"
   ]
  },
  {
   "cell_type": "markdown",
   "id": "ac491ed1",
   "metadata": {},
   "source": [
    "3. The dataset for each participant is checked for missing values; all 8 participants have no missing values.\n",
    "    However the dataset for rainfall has missing values"
   ]
  },
  {
   "cell_type": "code",
   "execution_count": 97,
   "id": "0d6ac0fe",
   "metadata": {},
   "outputs": [
    {
     "data": {
      "text/plain": [
       "True"
      ]
     },
     "execution_count": 97,
     "metadata": {},
     "output_type": "execute_result"
    }
   ],
   "source": [
    "# Checking if there are any null values for each participant\n",
    "sydrain.isnull().values.any()"
   ]
  },
  {
   "cell_type": "code",
   "execution_count": 98,
   "id": "904df099",
   "metadata": {},
   "outputs": [],
   "source": [
    "sydrain.dropna(inplace=True)"
   ]
  },
  {
   "cell_type": "markdown",
   "id": "141d92d6",
   "metadata": {},
   "source": [
    "   4. The missing values is dropped from the rainfall dataset"
   ]
  },
  {
   "cell_type": "code",
   "execution_count": 99,
   "id": "007ac0b6",
   "metadata": {},
   "outputs": [
    {
     "data": {
      "text/plain": [
       "False"
      ]
     },
     "execution_count": 99,
     "metadata": {},
     "output_type": "execute_result"
    }
   ],
   "source": [
    "sydrain.isnull().values.any()"
   ]
  },
  {
   "cell_type": "markdown",
   "id": "32653ea6",
   "metadata": {},
   "source": [
    "# Data processing\n",
    "\n",
    "1. Before the data can be used the dates given in the datasets need to be converted to datetime datatype, the weekday name, month names,year and date in YYYY-MM-DD need to be extracted and added as a column to the dataset, and the days of the weeks ordered from weekday to weekend so that when displayed it does not cause confusion.\n",
    "\n",
    "    Days of the week are ordered like so: 'Monday', 'Tuesday', 'Wednesday', 'Thursday', 'Friday', 'Saturday', 'Sunday', as it is a familiar order of the days of the week to most people.\n",
    "\n",
    "    Due to the different formating of the raw data given, there is different operations that apply on the datasets therefore two functions are used to complete what is mentioned in the paragraph above.\n",
    "\n",
    "    Function sub(data) is used for the datasets for participant 1, 3, 4, 7, 8. e.g sub(p1)\n",
    "\n",
    "    Function subdetail(data) is used for detailed datasets of participant 2 and 5 e.g. subdetail(p2)\n",
    "    "
   ]
  },
  {
   "cell_type": "code",
   "execution_count": 100,
   "id": "209b935d",
   "metadata": {
    "scrolled": true
   },
   "outputs": [],
   "source": [
    "# Author: Emily\n",
    "# Last Modified: 31/10/2022\n",
    "# i want to create a function that subs in the dataset for the following operations so I don't have to repeat these steps\n",
    "def sub(data):\n",
    "#     convert start,finish columns to datetime formats\n",
    "    data['Start'] = pd.to_datetime(data['Start'])\n",
    "    data['Finish'] = pd.to_datetime(data['Finish'])\n",
    "#     extract the weekday name, month names , year and date in YYYY-MM-DD format from start column\n",
    "    data['WeekDay'] = data['Start'].dt.day_name()\n",
    "    data['Month'] = data['Start'].dt.month_name()\n",
    "    data['Year'] = data['Start'].dt.year\n",
    "    data['Date'] = data['Start'].dt.date\n",
    "#     convert date to datetime format\n",
    "    data['Date'] = pd.to_datetime(data['Date'])\n",
    "#     week days are ordered so that it's matches the order that day of the week are.\n",
    "    cats = [ 'Monday', 'Tuesday', 'Wednesday', 'Thursday', 'Friday', 'Saturday', 'Sunday']\n",
    "    cat_type = CategoricalDtype(categories=cats, ordered=True)\n",
    "    data['WeekDay'] = data['WeekDay'].astype(cat_type)\n",
    "\n"
   ]
  },
  {
   "cell_type": "code",
   "execution_count": 101,
   "id": "4f005242",
   "metadata": {
    "scrolled": true
   },
   "outputs": [],
   "source": [
    "# Author: Emily\n",
    "# Last Modified: 31/10/2022\n",
    "# function for detail data\n",
    "def subdetail(data):\n",
    "#     convert date to datetime format\n",
    "    data['Date'] = pd.to_datetime(data['Date'])\n",
    "#     extract week day and month from date\n",
    "    data['WeekDay'] = data['Date'].dt.day_name()\n",
    "    data['Month'] = data['Date'].dt.month_name()\n",
    "    data['Year'] = data['Date'].dt.year\n",
    "#     order week days\n",
    "    cats = [ 'Monday', 'Tuesday', 'Wednesday', 'Thursday', 'Friday', 'Saturday', 'Sunday']\n",
    "    cat_type = CategoricalDtype(categories=cats, ordered=True)\n",
    "    data['WeekDay'] = data['WeekDay'].astype(cat_type)\n",
    "\n",
    "    \n"
   ]
  },
  {
   "cell_type": "markdown",
   "id": "f590ccaf",
   "metadata": {},
   "source": [
    "2. As data for solar exposure and rainfall is also used in this analysis, a function is also created to add the month and day of the week to the dataset, and order the days of the week into the order that is commonly known.\n",
    "\n",
    "    Function subw(data) is used for the dataset 'sydrain' or 'sun'"
   ]
  },
  {
   "cell_type": "code",
   "execution_count": 102,
   "id": "fab4176d",
   "metadata": {
    "scrolled": true
   },
   "outputs": [],
   "source": [
    "# Author: Emily\n",
    "# Last Modified: 31/10/2022\n",
    "# function for weather dataset\n",
    "def subw(data):\n",
    "#     extract week day and month from date\n",
    "    data['Month'] = data['Date'].dt.month_name()\n",
    "    data['WeekDay'] = data['Date'].dt.day_name()\n",
    "#     order week days\n",
    "    cats = [ 'Monday', 'Tuesday', 'Wednesday', 'Thursday', 'Friday', 'Saturday', 'Sunday']\n",
    "    cat_type = CategoricalDtype(categories=cats, ordered=True)\n",
    "    data['WeekDay'] = data['WeekDay'].astype(cat_type)"
   ]
  },
  {
   "cell_type": "code",
   "execution_count": 103,
   "id": "27348fed",
   "metadata": {
    "scrolled": true
   },
   "outputs": [],
   "source": [
    "# Author: Emily\n",
    "# Last Modified: 31/10/2022\n",
    "# now sub the datasets into the functions\n",
    "sub(p1)\n",
    "subdetail(p2)\n",
    "sub(p3)\n",
    "sub(p4)\n",
    "subdetail(p5)\n",
    "sub(p7)\n",
    "sub(p8)\n",
    "subw(sydrain)\n",
    "subw(sun)\n"
   ]
  },
  {
   "cell_type": "markdown",
   "id": "c5bedb3f",
   "metadata": {},
   "source": [
    "3. Participant 2 dataset contains data points from both their mobile phone and smartwatch, aggregating would resulting in duplicate data. We keep only data from the smartwatch as it is usually more accurate."
   ]
  },
  {
   "cell_type": "code",
   "execution_count": 104,
   "id": "c21164d4",
   "metadata": {
    "scrolled": true
   },
   "outputs": [],
   "source": [
    "# Author: Emily\n",
    "# Last Modified: 31/10/2022\n",
    "\n",
    "#     dataset contains data points from both their mobile phone and smartwatch, \n",
    "# aggregating would resulting in duplicate data. We keep only data from the smartwatch as it is usually more accurate\n",
    "p2 = p2[p2['Source'].str.contains('Watch')]\n",
    "\n"
   ]
  },
  {
   "cell_type": "markdown",
   "id": "ffd138a1",
   "metadata": {},
   "source": [
    "4. Detailed datasets are group by hour as it has more than one record for each hour in comparision to the non-detailed datasets where each hour only exist once."
   ]
  },
  {
   "cell_type": "code",
   "execution_count": 105,
   "id": "13bd258d",
   "metadata": {
    "scrolled": true
   },
   "outputs": [],
   "source": [
    "# Author: Emily\n",
    "# Last Modified: 31/10/2022\n",
    "# group by hour as detailed datasets has more than one record for each hour incomparision to the non-detailed datasets.\n",
    "p2 = p2.groupby(['Date','Hour']).agg({'Steps':'sum','WeekDay':'first','Month':'first','Year':'first','Source':'first'}).reset_index()\n",
    "p5 = p5.groupby(['Date','Hour']).agg({'Steps':'sum','WeekDay':'first','Month':'first','Year':'first','Source':'first'}).reset_index()"
   ]
  },
  {
   "cell_type": "markdown",
   "id": "5b2a0c4b",
   "metadata": {},
   "source": [
    "# Data Exploration\n",
    "\n",
    "## Driving Question : What biases are there in people's step data\n",
    "\n",
    "\n",
    "First taking a look at the general trends of the average step count across the week using a bar graph.\n",
    "\n",
    "_The graph shown below is the step activty across the week for participant 8_"
   ]
  },
  {
   "cell_type": "code",
   "execution_count": 106,
   "id": "0e9966ba",
   "metadata": {
    "scrolled": false
   },
   "outputs": [
    {
     "data": {
      "text/plain": [
       "Text(0.5, 1.0, 'Hourly Average Steps')"
      ]
     },
     "execution_count": 106,
     "metadata": {},
     "output_type": "execute_result"
    },
    {
     "data": {
      "image/png": "[encoded data removed]",
      "text/plain": [
       "<Figure size 1800x400 with 2 Axes>"
      ]
     },
     "metadata": {},
     "output_type": "display_data"
    }
   ],
   "source": [
    "# Author: Emily\n",
    "# Last Editted: 1/11/2022\n",
    "# function that is able to make a bar graph show the average step count across the week for any participant\n",
    "def graphavg(df):\n",
    "#     group by date \n",
    "    data = df.groupby(['Date'], as_index=False).agg({'Steps': 'sum','WeekDay': 'first','Month': 'first'})\n",
    "#     then group by the day of the week where average is given\n",
    "    week_avg = data.groupby(['WeekDay'])['Steps'].mean().reset_index()\n",
    "#     then converted into a bar graph\n",
    "    fig = px.bar(week_avg, x='WeekDay', y='Steps',title=\"Average Step Count for Days of the Week\")\n",
    "# add a title\n",
    "    fig.update_layout(title_text='Average Step Count for Days of the Week ', title_x=0.5)\n",
    "    fig.show()\n",
    "    \n",
    "# call the function with the participant e.g. p2, p7\n",
    "# graphavg(p8)\n",
    "\n",
    "\n",
    "\n",
    "\n",
    "#Create dataset by concatenating all datasets together \n",
    "# days = pd.concat([p1, p2, p3, p4, p5, p7, p8])\n",
    "\n",
    "# #reset Hour column to a be rounded to the nearest whole number\n",
    "days['Hour'] = days['Start'].dt.hour.round(0)\n",
    "\n",
    "#Create matrix where graphs will be added into\n",
    "fig, axes = plt.subplots(1, 2, figsize=(18, 4), sharey=False, sharex=False)\n",
    "fig.suptitle('Biases across the datasets', fontsize = 20)\n",
    "\n",
    "#Create both barplots, and point them towards axies of the above matrix\n",
    "sns.barplot(ax=axes[0], data=days, x=\"WeekDay\", y=\"Steps\", color = 'grey')\n",
    "sns.barplot(ax=axes[1], data=days, x=\"Hour\", y=\"Steps\", color = 'grey')\n",
    "\n",
    "#crete titles of graphs\\n\",\n",
    "axes[0].set_title('Daily Average Steps Trend', fontsize = 15)\n",
    "axes[1].set_title('Hourly Average Steps', fontsize = 15)\n",
    "\n"
   ]
  },
  {
   "cell_type": "markdown",
   "id": "5af4375d",
   "metadata": {},
   "source": [
    "By looking at the average steps counts each days of the week, there is no visible trend that was observable on all participants. Wednesday however, was a day that had a high level of activity for multiple participants (Participant 1, 2, 3 and 8) and Saturday was also another day that show higher step activity for 2 participants. Within the participant's data Friday was the day that showed lower step activity where it had the lowest steps for 4 participants.\n",
    "\n",
    "\n",
    "Next looking at the whether there is a preference for walking on weekdays or weekends.\n",
    "\n",
    "_NOTE! To see the plot for individual participants, please select the participant using the drop down menu_"
   ]
  },
  {
   "cell_type": "code",
   "execution_count": 107,
   "id": "3c0c4e60",
   "metadata": {},
   "outputs": [],
   "source": [
    "# Code that groups the data for all participants into weekend and weekdays; to then be put into graph with drop down menu\n",
    "#NOTE CODE MAY LOOK COMPLICATED BUT REALLY IS JUST REPEATED FOR ALL 8 PARTICIPANTS \n",
    "\n",
    "# first group the data by dates, so we can see how many steps are made each day\n",
    "day = p1.groupby(['Date'], as_index=False).agg({'Steps': 'sum','WeekDay': 'first','Month': 'first'})\n",
    "day2 = p2.groupby(['Date'], as_index=False).agg({'Steps': 'sum','WeekDay': 'first','Month': 'first'})\n",
    "day3 = p3.groupby(['Date'], as_index=False).agg({'Steps': 'sum','WeekDay': 'first','Month': 'first'})\n",
    "day4 = p4.groupby(['Date'], as_index=False).agg({'Steps': 'sum','WeekDay': 'first','Month': 'first'})\n",
    "day5 = p5.groupby(['Date'], as_index=False).agg({'Steps': 'sum','WeekDay': 'first','Month': 'first'})\n",
    "day7 = p7.groupby(['Date'], as_index=False).agg({'Steps': 'sum','WeekDay': 'first','Month': 'first'})\n",
    "day8 = p8.groupby(['Date'], as_index=False).agg({'Steps': 'sum','WeekDay': 'first','Month': 'first'})\n",
    "# sort the dates into what weeks they are in the year\n",
    "day['Week'] =  day['Date'].dt.isocalendar().week\n",
    "day2['Week'] =  day2['Date'].dt.isocalendar().week\n",
    "day3['Week'] =  day3['Date'].dt.isocalendar().week\n",
    "day4['Week'] =  day4['Date'].dt.isocalendar().week\n",
    "day5['Week'] =  day5['Date'].dt.isocalendar().week\n",
    "day7['Week'] =  day7['Date'].dt.isocalendar().week\n",
    "day8['Week'] =  day8['Date'].dt.isocalendar().week\n",
    "\n",
    "# I wanted to drop the week 52 which is from 2021 and not 2022 but first made a copy so the data is not lost\n",
    "newday = day.copy()\n",
    "newday.drop(newday[newday['Week'] == 52].index, inplace = True)\n",
    "newday2 = day2.copy()\n",
    "newday2.drop(newday2[newday2['Week'] == 52].index, inplace = True)\n",
    "newday2.drop(newday2[newday2['Week'] == 40].index, inplace = True)\n",
    "newday3 = day3.copy()\n",
    "newday3.drop(newday3[newday3['Week'] == 52].index, inplace = True)\n",
    "newday4 = day4.copy()\n",
    "newday4.drop(newday4[newday4['Week'] == 52].index, inplace = True)\n",
    "newday5 = day5.copy()\n",
    "newday5.drop(newday5[newday5['Week'] == 52].index, inplace = True)\n",
    "newday7 = day7.copy()\n",
    "newday7.drop(newday7[newday7['Week'] == 52].index, inplace = True)\n",
    "newday8 = day8.copy()\n",
    "newday8.drop(newday8[newday8['Week'] == 52].index, inplace = True)\n",
    "#   Check if date is a day on weekend (Saturday, Sunday); True if is weekend, False if weekday\n",
    "newday[\"Is Weekend\"] = newday['Date'].dt.dayofweek > 4\n",
    "newday2[\"Is Weekend\"] = newday2['Date'].dt.dayofweek > 4\n",
    "newday3[\"Is Weekend\"] = newday3['Date'].dt.dayofweek > 4\n",
    "newday4[\"Is Weekend\"] = newday4['Date'].dt.dayofweek > 4\n",
    "newday5[\"Is Weekend\"] = newday5['Date'].dt.dayofweek > 4\n",
    "newday7[\"Is Weekend\"] = newday7['Date'].dt.dayofweek > 4\n",
    "newday8[\"Is Weekend\"] = newday8['Date'].dt.dayofweek > 4\n",
    "#   groups the data by weekend and week\n",
    "df = newday.groupby(['Is Weekend','Week']).agg({'Steps': 'mean'}).reset_index()\n",
    "df2 = newday2.groupby(['Is Weekend','Week']).agg({'Steps': 'mean'}).reset_index()\n",
    "df3 = newday3.groupby(['Is Weekend','Week']).agg({'Steps': 'mean'}).reset_index()\n",
    "df4 = newday4.groupby(['Is Weekend','Week']).agg({'Steps': 'mean'}).reset_index()\n",
    "df5 = newday5.groupby(['Is Weekend','Week']).agg({'Steps': 'mean'}).reset_index()\n",
    "df7 = newday7.groupby(['Is Weekend','Week']).agg({'Steps': 'mean'}).reset_index()\n",
    "df8 = newday8.groupby(['Is Weekend','Week']).agg({'Steps': 'mean'}).reset_index()"
   ]
  },
  {
   "cell_type": "code",
   "execution_count": 108,
   "id": "1da89e98",
   "metadata": {},
   "outputs": [
    {
     "ename": "ValueError",
     "evalue": "Mime type rendering requires nbformat>=4.2.0 but it is not installed",
     "output_type": "error",
     "traceback": [
      "\u001b[0;31m---------------------------------------------------------------------------\u001b[0m",
      "\u001b[0;31mValueError\u001b[0m                                Traceback (most recent call last)",
      "File \u001b[0;32m~/Library/Python/3.10/lib/python/site-packages/IPython/core/formatters.py:921\u001b[0m, in \u001b[0;36mIPythonDisplayFormatter.__call__\u001b[0;34m(self, obj)\u001b[0m\n\u001b[1;32m    919\u001b[0m method \u001b[39m=\u001b[39m get_real_method(obj, \u001b[39mself\u001b[39m\u001b[39m.\u001b[39mprint_method)\n\u001b[1;32m    920\u001b[0m \u001b[39mif\u001b[39;00m method \u001b[39mis\u001b[39;00m \u001b[39mnot\u001b[39;00m \u001b[39mNone\u001b[39;00m:\n\u001b[0;32m--> 921\u001b[0m     method()\n\u001b[1;32m    922\u001b[0m     \u001b[39mreturn\u001b[39;00m \u001b[39mTrue\u001b[39;00m\n",
      "File \u001b[0;32m/usr/local/lib/python3.10/site-packages/plotly/basedatatypes.py:842\u001b[0m, in \u001b[0;36mBaseFigure._ipython_display_\u001b[0;34m(self)\u001b[0m\n\u001b[1;32m    839\u001b[0m \u001b[39mimport\u001b[39;00m \u001b[39mplotly\u001b[39;00m\u001b[39m.\u001b[39;00m\u001b[39mio\u001b[39;00m \u001b[39mas\u001b[39;00m \u001b[39mpio\u001b[39;00m\n\u001b[1;32m    841\u001b[0m \u001b[39mif\u001b[39;00m pio\u001b[39m.\u001b[39mrenderers\u001b[39m.\u001b[39mrender_on_display \u001b[39mand\u001b[39;00m pio\u001b[39m.\u001b[39mrenderers\u001b[39m.\u001b[39mdefault:\n\u001b[0;32m--> 842\u001b[0m     pio\u001b[39m.\u001b[39;49mshow(\u001b[39mself\u001b[39;49m)\n\u001b[1;32m    843\u001b[0m \u001b[39melse\u001b[39;00m:\n\u001b[1;32m    844\u001b[0m     \u001b[39mprint\u001b[39m(\u001b[39mrepr\u001b[39m(\u001b[39mself\u001b[39m))\n",
      "File \u001b[0;32m/usr/local/lib/python3.10/site-packages/plotly/io/_renderers.py:396\u001b[0m, in \u001b[0;36mshow\u001b[0;34m(fig, renderer, validate, **kwargs)\u001b[0m\n\u001b[1;32m    391\u001b[0m         \u001b[39mraise\u001b[39;00m \u001b[39mValueError\u001b[39;00m(\n\u001b[1;32m    392\u001b[0m             \u001b[39m\"\u001b[39m\u001b[39mMime type rendering requires ipython but it is not installed\u001b[39m\u001b[39m\"\u001b[39m\n\u001b[1;32m    393\u001b[0m         )\n\u001b[1;32m    395\u001b[0m     \u001b[39mif\u001b[39;00m \u001b[39mnot\u001b[39;00m nbformat \u001b[39mor\u001b[39;00m LooseVersion(nbformat\u001b[39m.\u001b[39m__version__) \u001b[39m<\u001b[39m LooseVersion(\u001b[39m\"\u001b[39m\u001b[39m4.2.0\u001b[39m\u001b[39m\"\u001b[39m):\n\u001b[0;32m--> 396\u001b[0m         \u001b[39mraise\u001b[39;00m \u001b[39mValueError\u001b[39;00m(\n\u001b[1;32m    397\u001b[0m             \u001b[39m\"\u001b[39m\u001b[39mMime type rendering requires nbformat>=4.2.0 but it is not installed\u001b[39m\u001b[39m\"\u001b[39m\n\u001b[1;32m    398\u001b[0m         )\n\u001b[1;32m    400\u001b[0m     ipython_display\u001b[39m.\u001b[39mdisplay(bundle, raw\u001b[39m=\u001b[39m\u001b[39mTrue\u001b[39;00m)\n\u001b[1;32m    402\u001b[0m \u001b[39m# external renderers\u001b[39;00m\n",
      "\u001b[0;31mValueError\u001b[0m: Mime type rendering requires nbformat>=4.2.0 but it is not installed"
     ]
    },
    {
     "data": {
      "application/vnd.plotly.v1+json": {
       "config": {
        "plotlyServerURL": "https://plot.ly"
       },
       "data": [
        {
         "name": "Participant 1 Weekend",
         "type": "scatter",
         "x": [
          1,
          2,
          3,
          4,
          5,
          6,
          7,
          8,
          9,
          10,
          11,
          12,
          13,
          14,
          15,
          16,
          17,
          18,
          19,
          20,
          21,
          22,
          23,
          24,
          25,
          26,
          27,
          28,
          29,
          30,
          31,
          32,
          33,
          34
         ],
         "y": [
          7493.499999999999,
          11152.500000000007,
          10554.999999999996,
          8506.500000000004,
          9020.5,
          9052.5,
          6785.999999999998,
          8426.825823879848,
          3621.499999999999,
          8689.5,
          17662.999999999996,
          6740.066851401573,
          8350.999999999996,
          8265.499999999998,
          6931.499999999998,
          6744.500000000001,
          10954.03161990334,
          7557.999999999998,
          4148.5,
          6048.5,
          4748.000000000002,
          12969,
          10458.999999999998,
          4838.999999999998,
          7923.9074038885265,
          4879.999999999998,
          7971.500000000005,
          8684,
          6974.000000000003,
          4936.500000000002,
          8125.394814807025,
          10859.999999999996,
          10792,
          12777.499999999998
         ]
        },
        {
         "name": "Participant 1 Weekday",
         "type": "scatter",
         "x": [
          1,
          2,
          3,
          4,
          5,
          6,
          7,
          8,
          9,
          10,
          11,
          12,
          13,
          14,
          15,
          16,
          17,
          18,
          19,
          20,
          21,
          22,
          23,
          24,
          25,
          26,
          27,
          28,
          29,
          30,
          31,
          32,
          33,
          34,
          35
         ],
         "y": [
          11928.8,
          10976.43376939031,
          11145.565360992772,
          10183.000000000004,
          8069.799999999998,
          9561.18500619978,
          9365.599999999995,
          7269.799999999998,
          6564.2,
          6404.305313393592,
          6837.066650565002,
          9170.800000000003,
          7588.4,
          6560.199999999997,
          8202.081911543122,
          5885.564570153443,
          9875.34765105536,
          10083.2,
          7469.4,
          5669.162922434349,
          5010.200000000001,
          8057.6,
          14116.679661842947,
          12072.800000000001,
          7413.200000000003,
          9235.2,
          7500.5999999999985,
          11223.599999999995,
          8190,
          9413.2,
          8175.8,
          7599.600000000003,
          10757.614890496616,
          6661.999999999998,
          9643.18368863179
         ]
        },
        {
         "name": "Participant 2 Weekend",
         "type": "scatter",
         "x": [
          1,
          2,
          3,
          4,
          5,
          6,
          7,
          8,
          9,
          10,
          11,
          12,
          13,
          14,
          15,
          16,
          17,
          18,
          19,
          20,
          21,
          22,
          23,
          24,
          25,
          26,
          27,
          28,
          29,
          30,
          31,
          32,
          33,
          34
         ],
         "y": [
          7362.5,
          9523,
          7660.5,
          7274.5,
          5317,
          6963.5,
          4861,
          6858,
          2831.5,
          7446,
          13359.5,
          6468.5,
          7407,
          6321,
          5191.5,
          4921.5,
          8224,
          6624,
          2749.5,
          7670,
          4761,
          6413,
          6823,
          2937.5,
          5109,
          3085,
          6152.5,
          6658,
          4794.5,
          5410,
          5303.5,
          7421.5,
          6447,
          10110.5
         ]
        },
        {
         "name": "Participant 2 Weekday",
         "type": "scatter",
         "x": [
          1,
          2,
          3,
          4,
          5,
          6,
          7,
          8,
          9,
          10,
          11,
          12,
          13,
          14,
          15,
          16,
          17,
          18,
          19,
          20,
          21,
          22,
          23,
          24,
          25,
          26,
          27,
          28,
          29,
          30,
          31,
          32,
          33,
          34,
          35
         ],
         "y": [
          8528.4,
          7561.2,
          8225.6,
          6932.4,
          6701,
          4717.4,
          7722.2,
          5828.6,
          5226.2,
          5967.8,
          6717,
          7303.8,
          6890.4,
          6295.8,
          7111.6,
          5647,
          6942,
          7121.4,
          5153.4,
          6837,
          4526.6,
          7646.4,
          10596.6,
          8798,
          6872.8,
          7716.4,
          5547,
          8012.2,
          5460.4,
          7579.8,
          6427.2,
          7049,
          6028,
          7082.8,
          7752.25
         ]
        },
        {
         "name": "Participant 3 Weekend",
         "type": "scatter",
         "x": [
          1,
          2,
          3,
          4,
          5,
          6,
          7,
          8,
          9,
          10,
          11,
          12,
          13,
          14,
          15,
          16,
          17,
          18,
          19,
          20,
          21,
          22,
          24,
          25,
          26,
          27,
          28,
          29,
          30,
          31,
          32,
          33,
          34,
          35,
          39,
          40,
          44,
          48
         ],
         "y": [
          11714,
          3920.49999975,
          586.5,
          7220.5,
          5795.00000056,
          3095,
          7919.0000002,
          5130.5000001,
          5053.0000004,
          68,
          8979.0000002,
          3828.99999995,
          8977.00000023,
          1584,
          3666.0000002,
          812.49999999,
          1538.499999995,
          6295.9999998,
          4410.4999998,
          3912,
          358.49999999199997,
          9018.4999999605,
          1185.5,
          5893.5000002,
          5378.9999997,
          13050.0000002,
          1243.000000035,
          1400.999999984,
          5679.500000135,
          5190.5,
          15335.000000299999,
          621.5,
          1706.5,
          4956.9999998,
          5600.4999995,
          6469.9999993,
          6006.000000354999,
          8970.000000165
         ]
        },
        {
         "name": "Participant 3 Weekday",
         "type": "scatter",
         "x": [
          1,
          2,
          3,
          4,
          5,
          6,
          7,
          8,
          9,
          10,
          11,
          12,
          13,
          14,
          15,
          16,
          17,
          18,
          19,
          20,
          21,
          22,
          23,
          24,
          25,
          26,
          27,
          28,
          29,
          30,
          31,
          32,
          33,
          34,
          35,
          36,
          40,
          44,
          45,
          48,
          49
         ],
         "y": [
          5897.600000064,
          685.5,
          280,
          227,
          8175.20000018,
          5719,
          11904.1999996942,
          8376.599999926,
          2620.9999999399997,
          2773,
          7853.0000000656,
          8555.800000184001,
          3873.7999999759995,
          4197.599999976001,
          3056.6666665333337,
          4542.9999999,
          4941,
          11690.599999964,
          10507.9999998,
          9623.999999844,
          6840.39999998,
          426.99999999600004,
          6720.500000100999,
          6741.000000075999,
          9180.000000092,
          5882.4000000206,
          4764.400000006,
          4337.333333233333,
          5664.40000003,
          4075.0000000219998,
          4697.799999944,
          9429.999999635,
          9617.200000084,
          8817.000000175,
          8874.000000084,
          5188.7499999925,
          5201.1999998302,
          4748.7499998,
          8592.500000085001,
          1685.5,
          6425.249999726249
         ]
        },
        {
         "name": "Participant 4 Weekend",
         "type": "scatter",
         "x": [
          1,
          2,
          3,
          4,
          5,
          6,
          7,
          8,
          9,
          10,
          11,
          12,
          13,
          14,
          15,
          16,
          17,
          18,
          19,
          20,
          21,
          22,
          23,
          24,
          25,
          26,
          27,
          28,
          29,
          30,
          31,
          32,
          33,
          34,
          35
         ],
         "y": [
          11006.000000000007,
          17337.857824879346,
          13245.058927328475,
          17307.5,
          15153.737785469042,
          16785.5,
          18049.999999999996,
          11340.499999999996,
          16905.63098745235,
          15131.499999999996,
          14438,
          17771.5,
          15646.679475806402,
          21814.5,
          18944.25354756527,
          15135.500000000004,
          16994.909043045587,
          17975.278581294166,
          16669,
          20362.057256219618,
          16564.5,
          15281.500000000007,
          13114.500000000004,
          13869.320429015828,
          18775,
          14479.03655140465,
          13255.197283597568,
          10598.2272833111,
          16529.293438611003,
          17198.907491497306,
          14866.856158089015,
          17096.5,
          17056,
          8271.06266390333,
          12176.68051907885
         ]
        },
        {
         "name": "Participant 4 Weekday",
         "type": "scatter",
         "x": [
          1,
          2,
          3,
          4,
          5,
          6,
          7,
          8,
          9,
          10,
          11,
          12,
          13,
          14,
          15,
          16,
          17,
          18,
          19,
          20,
          21,
          22,
          23,
          24,
          25,
          26,
          27,
          28,
          29,
          30,
          31,
          32,
          33,
          34,
          35,
          36
         ],
         "y": [
          9825.001668293215,
          7464.925976986606,
          10043.687022708813,
          9615.38995057379,
          8384.847043884467,
          10523.275241281526,
          9462.263931351838,
          10357.311300415944,
          8089.199999999999,
          9341.781429611152,
          11842.004508723749,
          7750.710125374726,
          11288.33085354038,
          11744.666818471305,
          10747.134076215985,
          7505.762804013973,
          12228.199999999997,
          11002.805766222144,
          11632.340529013454,
          12165.429801938606,
          9245.731340898452,
          8322.088852871759,
          8160.201137471513,
          8872.2,
          7453,
          7064.671495523578,
          12972.75639245477,
          11290.732459642168,
          11777.285003774414,
          10954.675394517766,
          7038.692223252185,
          9167.600000000002,
          9939.821773158536,
          10305.826460686714,
          11229.204302156842,
          11858.5
         ]
        },
        {
         "name": "Participant 5 Weekend",
         "type": "scatter",
         "x": [
          5,
          6,
          7,
          8,
          9,
          10,
          11,
          12,
          13,
          14,
          15,
          16,
          17,
          18,
          19,
          20,
          21,
          22,
          23,
          24,
          25,
          26,
          27,
          28,
          29,
          30,
          31,
          32,
          33,
          34
         ],
         "y": [
          4135.5,
          6213,
          5051.5,
          7411.5,
          6611.5,
          9593,
          5577.5,
          14677,
          24111.5,
          15727.5,
          7797.5,
          13377,
          22618.5,
          5719,
          9528.5,
          10943.5,
          8915.5,
          13783,
          14222.5,
          12390.5,
          11867,
          7648,
          6009.5,
          10152.5,
          6954,
          10209.5,
          8635.5,
          5754.5,
          10207.5,
          12686.5
         ]
        },
        {
         "name": "Participant 5 Weekday",
         "type": "scatter",
         "x": [
          1,
          2,
          4,
          5,
          6,
          7,
          8,
          9,
          10,
          11,
          12,
          13,
          14,
          15,
          16,
          17,
          18,
          19,
          20,
          21,
          22,
          23,
          24,
          25,
          26,
          27,
          28,
          29,
          30,
          31,
          32,
          33,
          34,
          35
         ],
         "y": [
          6479,
          239,
          4,
          4120,
          7105.6,
          5091.8,
          6920.6,
          7436.6,
          8806.4,
          10004.2,
          12186.4,
          5783.6,
          13823.2,
          14646.6,
          9671.6,
          17177.4,
          6184.6,
          6303,
          7503.6,
          7594.6,
          8096.4,
          10777,
          20673.4,
          18628.8,
          7445.2,
          7660.4,
          10399,
          6619.6,
          6219.2,
          7179,
          4466.8,
          9206,
          8946.4,
          8284.5
         ]
        },
        {
         "name": "Participant 7 Weekend",
         "type": "scatter",
         "x": [
          1,
          2,
          3,
          4,
          5,
          6,
          7,
          8,
          9,
          10,
          11,
          12,
          13,
          14,
          15,
          16,
          17,
          18,
          19,
          20,
          21,
          22,
          23,
          24,
          25,
          26,
          27,
          28,
          29,
          30,
          31,
          32,
          33,
          34,
          35,
          36
         ],
         "y": [
          6318.499999999999,
          4909.000000000002,
          4621.5,
          6614.999999999997,
          5770.999999999997,
          8607.500000000005,
          8648,
          4871.5,
          8352.5,
          9995.5,
          8385,
          8684.000000000004,
          7516.5,
          7061.500000000004,
          9410.000000000004,
          9577.000000000004,
          2727.0000000000005,
          6084,
          8731.5,
          4569.499999999999,
          9593.999999999996,
          7044.000000000002,
          6613.000000000002,
          7614,
          6174.5,
          4372,
          6175,
          7638.499999999998,
          8143,
          9650.5,
          8829.017921077571,
          9607.499999999998,
          7960.8664958580375,
          7342.444226438449,
          8264.199059797673,
          8082.000000000003
         ]
        },
        {
         "name": "Participant 7 Weekday",
         "type": "scatter",
         "x": [
          1,
          2,
          3,
          4,
          5,
          6,
          7,
          8,
          9,
          10,
          11,
          12,
          13,
          14,
          15,
          16,
          17,
          18,
          19,
          20,
          21,
          22,
          23,
          24,
          25,
          26,
          27,
          28,
          29,
          30,
          31,
          32,
          33,
          34,
          35,
          36,
          37
         ],
         "y": [
          7074.200000000002,
          7190.800000000001,
          11072.399999999998,
          7779.4,
          8246.399999999998,
          7994.200000000002,
          9858.399999999998,
          7537.600000000001,
          6917,
          6740.2,
          8021.2,
          9933.399999999998,
          7977.600000000001,
          9032.8,
          8628.8,
          7615.799999999998,
          4372.200000000001,
          8158,
          7580,
          8144.599999999997,
          7745.6,
          7721,
          7772.4000000000015,
          6236.999999999996,
          6525.6,
          10088.4,
          5984.4000000000015,
          7867.399999999999,
          7322.799999999997,
          8408.200000000006,
          8932.599999999999,
          7537.9239975461705,
          8778.916375085226,
          8004.738007576758,
          6710.146703255034,
          9808.536800589543,
          6542.183243953544
         ]
        },
        {
         "name": "Participant 8 Weekend",
         "type": "scatter",
         "x": [
          1,
          2,
          3,
          4,
          5,
          6,
          7,
          8,
          9,
          10,
          11,
          12,
          13,
          14,
          15,
          16,
          17,
          18,
          19,
          20,
          21,
          22,
          23,
          24,
          25,
          26,
          27,
          28,
          29,
          30,
          31,
          32,
          33,
          34,
          35,
          36
         ],
         "y": [
          7703,
          5056,
          8234.000000000004,
          5479.000000000005,
          8582,
          9477.499999999998,
          8105,
          10659.999999999995,
          3342.5,
          9391.999999999996,
          12106,
          11675,
          3527.5000000000014,
          9780.000000000002,
          13567,
          10904.5,
          11962.999999999996,
          9858.5,
          10159.499999999993,
          9184.5,
          7134,
          8024.500000000003,
          6036.499999999999,
          10444,
          8717.999999999996,
          8962.499999999993,
          10599.5,
          7384.5,
          8683.000000000004,
          8236.499999999996,
          10661.999999999996,
          10419.5,
          12832.999999999998,
          12214.000000000002,
          9045,
          10004.5
         ]
        },
        {
         "name": "Participant 8 Weekday",
         "type": "scatter",
         "x": [
          1,
          2,
          3,
          4,
          5,
          6,
          7,
          8,
          9,
          10,
          11,
          12,
          13,
          14,
          15,
          16,
          17,
          18,
          19,
          20,
          21,
          22,
          23,
          24,
          25,
          26,
          27,
          28,
          29,
          30,
          31,
          32,
          33,
          34,
          35,
          36,
          37
         ],
         "y": [
          7142.799999999998,
          7584.400000000003,
          5479.599999999997,
          8287.8,
          6674.199999999997,
          10931.8,
          7144.800000000001,
          8898.599999999999,
          3578,
          7219.6,
          9319,
          10350.400000000001,
          11420.600000000002,
          2328.4,
          8349.6,
          12123.399999999998,
          10147.400000000003,
          10538.999999999996,
          12610.6,
          10823.8,
          6378.600000000001,
          6061.000000000002,
          5708.799999999999,
          8519.4,
          8178.5999999999985,
          7272.199999999999,
          8647.400000000001,
          5345.000000000001,
          8170.6,
          11908.400000000003,
          10444.200000000003,
          7502.999999999998,
          7688.200000000003,
          7507,
          10929.200000000003,
          16016.999999999996,
          228
         ]
        }
       ],
       "layout": {
        "template": {
         "data": {
          "bar": [
           {
            "error_x": {
             "color": "#2a3f5f"
            },
            "error_y": {
             "color": "#2a3f5f"
            },
            "marker": {
             "line": {
              "color": "#E5ECF6",
              "width": 0.5
             },
             "pattern": {
              "fillmode": "overlay",
              "size": 10,
              "solidity": 0.2
             }
            },
            "type": "bar"
           }
          ],
          "barpolar": [
           {
            "marker": {
             "line": {
              "color": "#E5ECF6",
              "width": 0.5
             },
             "pattern": {
              "fillmode": "overlay",
              "size": 10,
              "solidity": 0.2
             }
            },
            "type": "barpolar"
           }
          ],
          "carpet": [
           {
            "aaxis": {
             "endlinecolor": "#2a3f5f",
             "gridcolor": "white",
             "linecolor": "white",
             "minorgridcolor": "white",
             "startlinecolor": "#2a3f5f"
            },
            "baxis": {
             "endlinecolor": "#2a3f5f",
             "gridcolor": "white",
             "linecolor": "white",
             "minorgridcolor": "white",
             "startlinecolor": "#2a3f5f"
            },
            "type": "carpet"
           }
          ],
          "choropleth": [
           {
            "colorbar": {
             "outlinewidth": 0,
             "ticks": ""
            },
            "type": "choropleth"
           }
          ],
          "contour": [
           {
            "colorbar": {
             "outlinewidth": 0,
             "ticks": ""
            },
            "colorscale": [
             [
              0,
              "#0d0887"
             ],
             [
              0.1111111111111111,
              "#46039f"
             ],
             [
              0.2222222222222222,
              "#7201a8"
             ],
             [
              0.3333333333333333,
              "#9c179e"
             ],
             [
              0.4444444444444444,
              "#bd3786"
             ],
             [
              0.5555555555555556,
              "#d8576b"
             ],
             [
              0.6666666666666666,
              "#ed7953"
             ],
             [
              0.7777777777777778,
              "#fb9f3a"
             ],
             [
              0.8888888888888888,
              "#fdca26"
             ],
             [
              1,
              "#f0f921"
             ]
            ],
            "type": "contour"
           }
          ],
          "contourcarpet": [
           {
            "colorbar": {
             "outlinewidth": 0,
             "ticks": ""
            },
            "type": "contourcarpet"
           }
          ],
          "heatmap": [
           {
            "colorbar": {
             "outlinewidth": 0,
             "ticks": ""
            },
            "colorscale": [
             [
              0,
              "#0d0887"
             ],
             [
              0.1111111111111111,
              "#46039f"
             ],
             [
              0.2222222222222222,
              "#7201a8"
             ],
             [
              0.3333333333333333,
              "#9c179e"
             ],
             [
              0.4444444444444444,
              "#bd3786"
             ],
             [
              0.5555555555555556,
              "#d8576b"
             ],
             [
              0.6666666666666666,
              "#ed7953"
             ],
             [
              0.7777777777777778,
              "#fb9f3a"
             ],
             [
              0.8888888888888888,
              "#fdca26"
             ],
             [
              1,
              "#f0f921"
             ]
            ],
            "type": "heatmap"
           }
          ],
          "heatmapgl": [
           {
            "colorbar": {
             "outlinewidth": 0,
             "ticks": ""
            },
            "colorscale": [
             [
              0,
              "#0d0887"
             ],
             [
              0.1111111111111111,
              "#46039f"
             ],
             [
              0.2222222222222222,
              "#7201a8"
             ],
             [
              0.3333333333333333,
              "#9c179e"
             ],
             [
              0.4444444444444444,
              "#bd3786"
             ],
             [
              0.5555555555555556,
              "#d8576b"
             ],
             [
              0.6666666666666666,
              "#ed7953"
             ],
             [
              0.7777777777777778,
              "#fb9f3a"
             ],
             [
              0.8888888888888888,
              "#fdca26"
             ],
             [
              1,
              "#f0f921"
             ]
            ],
            "type": "heatmapgl"
           }
          ],
          "histogram": [
           {
            "marker": {
             "pattern": {
              "fillmode": "overlay",
              "size": 10,
              "solidity": 0.2
             }
            },
            "type": "histogram"
           }
          ],
          "histogram2d": [
           {
            "colorbar": {
             "outlinewidth": 0,
             "ticks": ""
            },
            "colorscale": [
             [
              0,
              "#0d0887"
             ],
             [
              0.1111111111111111,
              "#46039f"
             ],
             [
              0.2222222222222222,
              "#7201a8"
             ],
             [
              0.3333333333333333,
              "#9c179e"
             ],
             [
              0.4444444444444444,
              "#bd3786"
             ],
             [
              0.5555555555555556,
              "#d8576b"
             ],
             [
              0.6666666666666666,
              "#ed7953"
             ],
             [
              0.7777777777777778,
              "#fb9f3a"
             ],
             [
              0.8888888888888888,
              "#fdca26"
             ],
             [
              1,
              "#f0f921"
             ]
            ],
            "type": "histogram2d"
           }
          ],
          "histogram2dcontour": [
           {
            "colorbar": {
             "outlinewidth": 0,
             "ticks": ""
            },
            "colorscale": [
             [
              0,
              "#0d0887"
             ],
             [
              0.1111111111111111,
              "#46039f"
             ],
             [
              0.2222222222222222,
              "#7201a8"
             ],
             [
              0.3333333333333333,
              "#9c179e"
             ],
             [
              0.4444444444444444,
              "#bd3786"
             ],
             [
              0.5555555555555556,
              "#d8576b"
             ],
             [
              0.6666666666666666,
              "#ed7953"
             ],
             [
              0.7777777777777778,
              "#fb9f3a"
             ],
             [
              0.8888888888888888,
              "#fdca26"
             ],
             [
              1,
              "#f0f921"
             ]
            ],
            "type": "histogram2dcontour"
           }
          ],
          "mesh3d": [
           {
            "colorbar": {
             "outlinewidth": 0,
             "ticks": ""
            },
            "type": "mesh3d"
           }
          ],
          "parcoords": [
           {
            "line": {
             "colorbar": {
              "outlinewidth": 0,
              "ticks": ""
             }
            },
            "type": "parcoords"
           }
          ],
          "pie": [
           {
            "automargin": true,
            "type": "pie"
           }
          ],
          "scatter": [
           {
            "fillpattern": {
             "fillmode": "overlay",
             "size": 10,
             "solidity": 0.2
            },
            "type": "scatter"
           }
          ],
          "scatter3d": [
           {
            "line": {
             "colorbar": {
              "outlinewidth": 0,
              "ticks": ""
             }
            },
            "marker": {
             "colorbar": {
              "outlinewidth": 0,
              "ticks": ""
             }
            },
            "type": "scatter3d"
           }
          ],
          "scattercarpet": [
           {
            "marker": {
             "colorbar": {
              "outlinewidth": 0,
              "ticks": ""
             }
            },
            "type": "scattercarpet"
           }
          ],
          "scattergeo": [
           {
            "marker": {
             "colorbar": {
              "outlinewidth": 0,
              "ticks": ""
             }
            },
            "type": "scattergeo"
           }
          ],
          "scattergl": [
           {
            "marker": {
             "colorbar": {
              "outlinewidth": 0,
              "ticks": ""
             }
            },
            "type": "scattergl"
           }
          ],
          "scattermapbox": [
           {
            "marker": {
             "colorbar": {
              "outlinewidth": 0,
              "ticks": ""
             }
            },
            "type": "scattermapbox"
           }
          ],
          "scatterpolar": [
           {
            "marker": {
             "colorbar": {
              "outlinewidth": 0,
              "ticks": ""
             }
            },
            "type": "scatterpolar"
           }
          ],
          "scatterpolargl": [
           {
            "marker": {
             "colorbar": {
              "outlinewidth": 0,
              "ticks": ""
             }
            },
            "type": "scatterpolargl"
           }
          ],
          "scatterternary": [
           {
            "marker": {
             "colorbar": {
              "outlinewidth": 0,
              "ticks": ""
             }
            },
            "type": "scatterternary"
           }
          ],
          "surface": [
           {
            "colorbar": {
             "outlinewidth": 0,
             "ticks": ""
            },
            "colorscale": [
             [
              0,
              "#0d0887"
             ],
             [
              0.1111111111111111,
              "#46039f"
             ],
             [
              0.2222222222222222,
              "#7201a8"
             ],
             [
              0.3333333333333333,
              "#9c179e"
             ],
             [
              0.4444444444444444,
              "#bd3786"
             ],
             [
              0.5555555555555556,
              "#d8576b"
             ],
             [
              0.6666666666666666,
              "#ed7953"
             ],
             [
              0.7777777777777778,
              "#fb9f3a"
             ],
             [
              0.8888888888888888,
              "#fdca26"
             ],
             [
              1,
              "#f0f921"
             ]
            ],
            "type": "surface"
           }
          ],
          "table": [
           {
            "cells": {
             "fill": {
              "color": "#EBF0F8"
             },
             "line": {
              "color": "white"
             }
            },
            "header": {
             "fill": {
              "color": "#C8D4E3"
             },
             "line": {
              "color": "white"
             }
            },
            "type": "table"
           }
          ]
         },
         "layout": {
          "annotationdefaults": {
           "arrowcolor": "#2a3f5f",
           "arrowhead": 0,
           "arrowwidth": 1
          },
          "autotypenumbers": "strict",
          "coloraxis": {
           "colorbar": {
            "outlinewidth": 0,
            "ticks": ""
           }
          },
          "colorscale": {
           "diverging": [
            [
             0,
             "#8e0152"
            ],
            [
             0.1,
             "#c51b7d"
            ],
            [
             0.2,
             "#de77ae"
            ],
            [
             0.3,
             "#f1b6da"
            ],
            [
             0.4,
             "#fde0ef"
            ],
            [
             0.5,
             "#f7f7f7"
            ],
            [
             0.6,
             "#e6f5d0"
            ],
            [
             0.7,
             "#b8e186"
            ],
            [
             0.8,
             "#7fbc41"
            ],
            [
             0.9,
             "#4d9221"
            ],
            [
             1,
             "#276419"
            ]
           ],
           "sequential": [
            [
             0,
             "#0d0887"
            ],
            [
             0.1111111111111111,
             "#46039f"
            ],
            [
             0.2222222222222222,
             "#7201a8"
            ],
            [
             0.3333333333333333,
             "#9c179e"
            ],
            [
             0.4444444444444444,
             "#bd3786"
            ],
            [
             0.5555555555555556,
             "#d8576b"
            ],
            [
             0.6666666666666666,
             "#ed7953"
            ],
            [
             0.7777777777777778,
             "#fb9f3a"
            ],
            [
             0.8888888888888888,
             "#fdca26"
            ],
            [
             1,
             "#f0f921"
            ]
           ],
           "sequentialminus": [
            [
             0,
             "#0d0887"
            ],
            [
             0.1111111111111111,
             "#46039f"
            ],
            [
             0.2222222222222222,
             "#7201a8"
            ],
            [
             0.3333333333333333,
             "#9c179e"
            ],
            [
             0.4444444444444444,
             "#bd3786"
            ],
            [
             0.5555555555555556,
             "#d8576b"
            ],
            [
             0.6666666666666666,
             "#ed7953"
            ],
            [
             0.7777777777777778,
             "#fb9f3a"
            ],
            [
             0.8888888888888888,
             "#fdca26"
            ],
            [
             1,
             "#f0f921"
            ]
           ]
          },
          "colorway": [
           "#636efa",
           "#EF553B",
           "#00cc96",
           "#ab63fa",
           "#FFA15A",
           "#19d3f3",
           "#FF6692",
           "#B6E880",
           "#FF97FF",
           "#FECB52"
          ],
          "font": {
           "color": "#2a3f5f"
          },
          "geo": {
           "bgcolor": "white",
           "lakecolor": "white",
           "landcolor": "#E5ECF6",
           "showlakes": true,
           "showland": true,
           "subunitcolor": "white"
          },
          "hoverlabel": {
           "align": "left"
          },
          "hovermode": "closest",
          "mapbox": {
           "style": "light"
          },
          "paper_bgcolor": "white",
          "plot_bgcolor": "#E5ECF6",
          "polar": {
           "angularaxis": {
            "gridcolor": "white",
            "linecolor": "white",
            "ticks": ""
           },
           "bgcolor": "#E5ECF6",
           "radialaxis": {
            "gridcolor": "white",
            "linecolor": "white",
            "ticks": ""
           }
          },
          "scene": {
           "xaxis": {
            "backgroundcolor": "#E5ECF6",
            "gridcolor": "white",
            "gridwidth": 2,
            "linecolor": "white",
            "showbackground": true,
            "ticks": "",
            "zerolinecolor": "white"
           },
           "yaxis": {
            "backgroundcolor": "#E5ECF6",
            "gridcolor": "white",
            "gridwidth": 2,
            "linecolor": "white",
            "showbackground": true,
            "ticks": "",
            "zerolinecolor": "white"
           },
           "zaxis": {
            "backgroundcolor": "#E5ECF6",
            "gridcolor": "white",
            "gridwidth": 2,
            "linecolor": "white",
            "showbackground": true,
            "ticks": "",
            "zerolinecolor": "white"
           }
          },
          "shapedefaults": {
           "line": {
            "color": "#2a3f5f"
           }
          },
          "ternary": {
           "aaxis": {
            "gridcolor": "white",
            "linecolor": "white",
            "ticks": ""
           },
           "baxis": {
            "gridcolor": "white",
            "linecolor": "white",
            "ticks": ""
           },
           "bgcolor": "#E5ECF6",
           "caxis": {
            "gridcolor": "white",
            "linecolor": "white",
            "ticks": ""
           }
          },
          "title": {
           "x": 0.05
          },
          "xaxis": {
           "automargin": true,
           "gridcolor": "white",
           "linecolor": "white",
           "ticks": "",
           "title": {
            "standoff": 15
           },
           "zerolinecolor": "white",
           "zerolinewidth": 2
          },
          "yaxis": {
           "automargin": true,
           "gridcolor": "white",
           "linecolor": "white",
           "ticks": "",
           "title": {
            "standoff": 15
           },
           "zerolinecolor": "white",
           "zerolinewidth": 2
          }
         }
        },
        "title": {
         "text": "Weekend vs WeekDay: Number of steps made by Participant 8",
         "x": 0.5
        },
        "updatemenus": [
         {
          "active": 0,
          "buttons": [
           {
            "args": [
             {
              "visible": [
               true,
               true,
               false,
               false,
               false,
               false,
               false,
               false,
               false,
               false,
               false,
               false,
               false,
               false
              ]
             },
             {
              "title": "Weekend vs WeekDay: Number of steps made by Participant 1",
              "xaxis": {
               "title": "Week"
              },
              "yaxis": {
               "title": "Average Step Count"
              }
             }
            ],
            "label": "Participant 1",
            "method": "update"
           },
           {
            "args": [
             {
              "visible": [
               false,
               false,
               true,
               true,
               false,
               false,
               false,
               false,
               false,
               false,
               false,
               false,
               false,
               false
              ]
             },
             {
              "title": "Weekend vs WeekDay: Number of steps made by Participant 2",
              "xaxis": {
               "title": "Week"
              },
              "yaxis": {
               "title": "Average Step Count"
              }
             }
            ],
            "label": "Participant 2",
            "method": "update"
           },
           {
            "args": [
             {
              "visible": [
               false,
               false,
               false,
               false,
               true,
               true,
               false,
               false,
               false,
               false,
               false,
               false,
               false,
               false
              ]
             },
             {
              "title": "Weekend vs WeekDay: Number of steps made by Participant 3",
              "xaxis": {
               "title": "Week"
              },
              "yaxis": {
               "title": "Average Step Count"
              }
             }
            ],
            "label": "Participant 3",
            "method": "update"
           },
           {
            "args": [
             {
              "visible": [
               false,
               false,
               false,
               false,
               false,
               false,
               true,
               true,
               false,
               false,
               false,
               false,
               false,
               false
              ]
             },
             {
              "title": "Weekend vs WeekDay: Number of steps made by Participant 4",
              "xaxis": {
               "title": "Week"
              },
              "yaxis": {
               "title": "Average Step Count"
              }
             }
            ],
            "label": "Participant 4",
            "method": "update"
           },
           {
            "args": [
             {
              "visible": [
               false,
               false,
               false,
               false,
               false,
               false,
               false,
               false,
               true,
               true,
               false,
               false,
               false,
               false
              ]
             },
             {
              "title": "Weekend vs WeekDay: Number of steps made by Participant 5",
              "xaxis": {
               "title": "Week"
              },
              "yaxis": {
               "title": "Average Step Count"
              }
             }
            ],
            "label": "Participant 5",
            "method": "update"
           },
           {
            "args": [
             {
              "visible": [
               false,
               false,
               false,
               false,
               false,
               false,
               false,
               false,
               false,
               false,
               true,
               true,
               false,
               false
              ]
             },
             {
              "title": "Weekend vs WeekDay: Number of steps made by Participant 7",
              "xaxis": {
               "title": "Week"
              },
              "yaxis": {
               "title": "Average Step Count"
              }
             }
            ],
            "label": "Participant 7",
            "method": "update"
           },
           {
            "args": [
             {
              "visible": [
               false,
               false,
               false,
               false,
               false,
               false,
               false,
               false,
               false,
               false,
               false,
               false,
               true,
               true
              ]
             },
             {
              "title": "Weekend vs WeekDay: Number of steps made by Participant 8",
              "xaxis": {
               "title": "Week"
              },
              "yaxis": {
               "title": "Average Step Count"
              }
             }
            ],
            "label": "Participant 8",
            "method": "update"
           }
          ]
         }
        ]
       }
      },
      "text/html": [
       "<div>                        <script type=\"text/javascript\">window.PlotlyConfig = {MathJaxConfig: 'local'};</script>\n",
       "        <script src=\"https://cdn.plot.ly/plotly-2.16.1.min.js\"></script>                <div id=\"261db88f-8068-410c-a10f-dc4fa6e97b51\" class=\"plotly-graph-div\" style=\"height:100%; width:100%;\"></div>            <script type=\"text/javascript\">                                    window.PLOTLYENV=window.PLOTLYENV || {};                                    if (document.getElementById(\"261db88f-8068-410c-a10f-dc4fa6e97b51\")) {                    Plotly.newPlot(                        \"261db88f-8068-410c-a10f-dc4fa6e97b51\",                        [{\"name\":\"Participant 1 Weekend\",\"x\":[1,2,3,4,5,6,7,8,9,10,11,12,13,14,15,16,17,18,19,20,21,22,23,24,25,26,27,28,29,30,31,32,33,34],\"y\":[7493.499999999999,11152.500000000007,10554.999999999996,8506.500000000004,9020.5,9052.5,6785.999999999998,8426.825823879848,3621.499999999999,8689.5,17662.999999999996,6740.066851401573,8350.999999999996,8265.499999999998,6931.499999999998,6744.500000000001,10954.03161990334,7557.999999999998,4148.5,6048.5,4748.000000000002,12969.0,10458.999999999998,4838.999999999998,7923.9074038885265,4879.999999999998,7971.500000000005,8684.0,6974.000000000003,4936.500000000002,8125.394814807025,10859.999999999996,10792.0,12777.499999999998],\"type\":\"scatter\"},{\"name\":\"Participant 1 Weekday\",\"x\":[1,2,3,4,5,6,7,8,9,10,11,12,13,14,15,16,17,18,19,20,21,22,23,24,25,26,27,28,29,30,31,32,33,34,35],\"y\":[11928.8,10976.43376939031,11145.565360992772,10183.000000000004,8069.799999999998,9561.18500619978,9365.599999999995,7269.799999999998,6564.2,6404.305313393592,6837.066650565002,9170.800000000003,7588.4,6560.199999999997,8202.081911543122,5885.564570153443,9875.34765105536,10083.2,7469.4,5669.162922434349,5010.200000000001,8057.6,14116.679661842947,12072.800000000001,7413.200000000003,9235.2,7500.5999999999985,11223.599999999995,8190.0,9413.2,8175.8,7599.600000000003,10757.614890496616,6661.999999999998,9643.18368863179],\"type\":\"scatter\"},{\"name\":\"Participant 2 Weekend\",\"x\":[1,2,3,4,5,6,7,8,9,10,11,12,13,14,15,16,17,18,19,20,21,22,23,24,25,26,27,28,29,30,31,32,33,34],\"y\":[7362.5,9523.0,7660.5,7274.5,5317.0,6963.5,4861.0,6858.0,2831.5,7446.0,13359.5,6468.5,7407.0,6321.0,5191.5,4921.5,8224.0,6624.0,2749.5,7670.0,4761.0,6413.0,6823.0,2937.5,5109.0,3085.0,6152.5,6658.0,4794.5,5410.0,5303.5,7421.5,6447.0,10110.5],\"type\":\"scatter\"},{\"name\":\"Participant 2 Weekday\",\"x\":[1,2,3,4,5,6,7,8,9,10,11,12,13,14,15,16,17,18,19,20,21,22,23,24,25,26,27,28,29,30,31,32,33,34,35],\"y\":[8528.4,7561.2,8225.6,6932.4,6701.0,4717.4,7722.2,5828.6,5226.2,5967.8,6717.0,7303.8,6890.4,6295.8,7111.6,5647.0,6942.0,7121.4,5153.4,6837.0,4526.6,7646.4,10596.6,8798.0,6872.8,7716.4,5547.0,8012.2,5460.4,7579.8,6427.2,7049.0,6028.0,7082.8,7752.25],\"type\":\"scatter\"},{\"name\":\"Participant 3 Weekend\",\"x\":[1,2,3,4,5,6,7,8,9,10,11,12,13,14,15,16,17,18,19,20,21,22,24,25,26,27,28,29,30,31,32,33,34,35,39,40,44,48],\"y\":[11714.0,3920.49999975,586.5,7220.5,5795.00000056,3095.0,7919.0000002,5130.5000001,5053.0000004,68.0,8979.0000002,3828.99999995,8977.00000023,1584.0,3666.0000002,812.49999999,1538.499999995,6295.9999998,4410.4999998,3912.0,358.49999999199997,9018.4999999605,1185.5,5893.5000002,5378.9999997,13050.0000002,1243.000000035,1400.999999984,5679.500000135,5190.5,15335.000000299999,621.5,1706.5,4956.9999998,5600.4999995,6469.9999993,6006.000000354999,8970.000000165],\"type\":\"scatter\"},{\"name\":\"Participant 3 Weekday\",\"x\":[1,2,3,4,5,6,7,8,9,10,11,12,13,14,15,16,17,18,19,20,21,22,23,24,25,26,27,28,29,30,31,32,33,34,35,36,40,44,45,48,49],\"y\":[5897.600000064,685.5,280.0,227.0,8175.20000018,5719.0,11904.1999996942,8376.599999926,2620.9999999399997,2773.0,7853.0000000656,8555.800000184001,3873.7999999759995,4197.599999976001,3056.6666665333337,4542.9999999,4941.0,11690.599999964,10507.9999998,9623.999999844,6840.39999998,426.99999999600004,6720.500000100999,6741.000000075999,9180.000000092,5882.4000000206,4764.400000006,4337.333333233333,5664.40000003,4075.0000000219998,4697.799999944,9429.999999635,9617.200000084,8817.000000175,8874.000000084,5188.7499999925,5201.1999998302,4748.7499998,8592.500000085001,1685.5,6425.249999726249],\"type\":\"scatter\"},{\"name\":\"Participant 4 Weekend\",\"x\":[1,2,3,4,5,6,7,8,9,10,11,12,13,14,15,16,17,18,19,20,21,22,23,24,25,26,27,28,29,30,31,32,33,34,35],\"y\":[11006.000000000007,17337.857824879346,13245.058927328475,17307.5,15153.737785469042,16785.5,18049.999999999996,11340.499999999996,16905.63098745235,15131.499999999996,14438.0,17771.5,15646.679475806402,21814.5,18944.25354756527,15135.500000000004,16994.909043045587,17975.278581294166,16669.0,20362.057256219618,16564.5,15281.500000000007,13114.500000000004,13869.320429015828,18775.0,14479.03655140465,13255.197283597568,10598.2272833111,16529.293438611003,17198.907491497306,14866.856158089015,17096.5,17056.0,8271.06266390333,12176.68051907885],\"type\":\"scatter\"},{\"name\":\"Participant 4 Weekday\",\"x\":[1,2,3,4,5,6,7,8,9,10,11,12,13,14,15,16,17,18,19,20,21,22,23,24,25,26,27,28,29,30,31,32,33,34,35,36],\"y\":[9825.001668293215,7464.925976986606,10043.687022708813,9615.38995057379,8384.847043884467,10523.275241281526,9462.263931351838,10357.311300415944,8089.199999999999,9341.781429611152,11842.004508723749,7750.710125374726,11288.33085354038,11744.666818471305,10747.134076215985,7505.762804013973,12228.199999999997,11002.805766222144,11632.340529013454,12165.429801938606,9245.731340898452,8322.088852871759,8160.201137471513,8872.2,7453.0,7064.671495523578,12972.75639245477,11290.732459642168,11777.285003774414,10954.675394517766,7038.692223252185,9167.600000000002,9939.821773158536,10305.826460686714,11229.204302156842,11858.5],\"type\":\"scatter\"},{\"name\":\"Participant 5 Weekend\",\"x\":[5,6,7,8,9,10,11,12,13,14,15,16,17,18,19,20,21,22,23,24,25,26,27,28,29,30,31,32,33,34],\"y\":[4135.5,6213.0,5051.5,7411.5,6611.5,9593.0,5577.5,14677.0,24111.5,15727.5,7797.5,13377.0,22618.5,5719.0,9528.5,10943.5,8915.5,13783.0,14222.5,12390.5,11867.0,7648.0,6009.5,10152.5,6954.0,10209.5,8635.5,5754.5,10207.5,12686.5],\"type\":\"scatter\"},{\"name\":\"Participant 5 Weekday\",\"x\":[1,2,4,5,6,7,8,9,10,11,12,13,14,15,16,17,18,19,20,21,22,23,24,25,26,27,28,29,30,31,32,33,34,35],\"y\":[6479.0,239.0,4.0,4120.0,7105.6,5091.8,6920.6,7436.6,8806.4,10004.2,12186.4,5783.6,13823.2,14646.6,9671.6,17177.4,6184.6,6303.0,7503.6,7594.6,8096.4,10777.0,20673.4,18628.8,7445.2,7660.4,10399.0,6619.6,6219.2,7179.0,4466.8,9206.0,8946.4,8284.5],\"type\":\"scatter\"},{\"name\":\"Participant 7 Weekend\",\"x\":[1,2,3,4,5,6,7,8,9,10,11,12,13,14,15,16,17,18,19,20,21,22,23,24,25,26,27,28,29,30,31,32,33,34,35,36],\"y\":[6318.499999999999,4909.000000000002,4621.5,6614.999999999997,5770.999999999997,8607.500000000005,8648.0,4871.5,8352.5,9995.5,8385.0,8684.000000000004,7516.5,7061.500000000004,9410.000000000004,9577.000000000004,2727.0000000000005,6084.0,8731.5,4569.499999999999,9593.999999999996,7044.000000000002,6613.000000000002,7614.0,6174.5,4372.0,6175.0,7638.499999999998,8143.0,9650.5,8829.017921077571,9607.499999999998,7960.8664958580375,7342.444226438449,8264.199059797673,8082.000000000003],\"type\":\"scatter\"},{\"name\":\"Participant 7 Weekday\",\"x\":[1,2,3,4,5,6,7,8,9,10,11,12,13,14,15,16,17,18,19,20,21,22,23,24,25,26,27,28,29,30,31,32,33,34,35,36,37],\"y\":[7074.200000000002,7190.800000000001,11072.399999999998,7779.4,8246.399999999998,7994.200000000002,9858.399999999998,7537.600000000001,6917.0,6740.2,8021.2,9933.399999999998,7977.600000000001,9032.8,8628.8,7615.799999999998,4372.200000000001,8158.0,7580.0,8144.599999999997,7745.6,7721.0,7772.4000000000015,6236.999999999996,6525.6,10088.4,5984.4000000000015,7867.399999999999,7322.799999999997,8408.200000000006,8932.599999999999,7537.9239975461705,8778.916375085226,8004.738007576758,6710.146703255034,9808.536800589543,6542.183243953544],\"type\":\"scatter\"},{\"name\":\"Participant 8 Weekend\",\"x\":[1,2,3,4,5,6,7,8,9,10,11,12,13,14,15,16,17,18,19,20,21,22,23,24,25,26,27,28,29,30,31,32,33,34,35,36],\"y\":[7703.0,5056.0,8234.000000000004,5479.000000000005,8582.0,9477.499999999998,8105.0,10659.999999999995,3342.5,9391.999999999996,12106.0,11675.0,3527.5000000000014,9780.000000000002,13567.0,10904.5,11962.999999999996,9858.5,10159.499999999993,9184.5,7134.0,8024.500000000003,6036.499999999999,10444.0,8717.999999999996,8962.499999999993,10599.5,7384.5,8683.000000000004,8236.499999999996,10661.999999999996,10419.5,12832.999999999998,12214.000000000002,9045.0,10004.5],\"type\":\"scatter\"},{\"name\":\"Participant 8 Weekday\",\"x\":[1,2,3,4,5,6,7,8,9,10,11,12,13,14,15,16,17,18,19,20,21,22,23,24,25,26,27,28,29,30,31,32,33,34,35,36,37],\"y\":[7142.799999999998,7584.400000000003,5479.599999999997,8287.8,6674.199999999997,10931.8,7144.800000000001,8898.599999999999,3578.0,7219.6,9319.0,10350.400000000001,11420.600000000002,2328.4,8349.6,12123.399999999998,10147.400000000003,10538.999999999996,12610.6,10823.8,6378.600000000001,6061.000000000002,5708.799999999999,8519.4,8178.5999999999985,7272.199999999999,8647.400000000001,5345.000000000001,8170.6,11908.400000000003,10444.200000000003,7502.999999999998,7688.200000000003,7507.0,10929.200000000003,16016.999999999996,228.0],\"type\":\"scatter\"}],                        {\"template\":{\"data\":{\"histogram2dcontour\":[{\"type\":\"histogram2dcontour\",\"colorbar\":{\"outlinewidth\":0,\"ticks\":\"\"},\"colorscale\":[[0.0,\"#0d0887\"],[0.1111111111111111,\"#46039f\"],[0.2222222222222222,\"#7201a8\"],[0.3333333333333333,\"#9c179e\"],[0.4444444444444444,\"#bd3786\"],[0.5555555555555556,\"#d8576b\"],[0.6666666666666666,\"#ed7953\"],[0.7777777777777778,\"#fb9f3a\"],[0.8888888888888888,\"#fdca26\"],[1.0,\"#f0f921\"]]}],\"choropleth\":[{\"type\":\"choropleth\",\"colorbar\":{\"outlinewidth\":0,\"ticks\":\"\"}}],\"histogram2d\":[{\"type\":\"histogram2d\",\"colorbar\":{\"outlinewidth\":0,\"ticks\":\"\"},\"colorscale\":[[0.0,\"#0d0887\"],[0.1111111111111111,\"#46039f\"],[0.2222222222222222,\"#7201a8\"],[0.3333333333333333,\"#9c179e\"],[0.4444444444444444,\"#bd3786\"],[0.5555555555555556,\"#d8576b\"],[0.6666666666666666,\"#ed7953\"],[0.7777777777777778,\"#fb9f3a\"],[0.8888888888888888,\"#fdca26\"],[1.0,\"#f0f921\"]]}],\"heatmap\":[{\"type\":\"heatmap\",\"colorbar\":{\"outlinewidth\":0,\"ticks\":\"\"},\"colorscale\":[[0.0,\"#0d0887\"],[0.1111111111111111,\"#46039f\"],[0.2222222222222222,\"#7201a8\"],[0.3333333333333333,\"#9c179e\"],[0.4444444444444444,\"#bd3786\"],[0.5555555555555556,\"#d8576b\"],[0.6666666666666666,\"#ed7953\"],[0.7777777777777778,\"#fb9f3a\"],[0.8888888888888888,\"#fdca26\"],[1.0,\"#f0f921\"]]}],\"heatmapgl\":[{\"type\":\"heatmapgl\",\"colorbar\":{\"outlinewidth\":0,\"ticks\":\"\"},\"colorscale\":[[0.0,\"#0d0887\"],[0.1111111111111111,\"#46039f\"],[0.2222222222222222,\"#7201a8\"],[0.3333333333333333,\"#9c179e\"],[0.4444444444444444,\"#bd3786\"],[0.5555555555555556,\"#d8576b\"],[0.6666666666666666,\"#ed7953\"],[0.7777777777777778,\"#fb9f3a\"],[0.8888888888888888,\"#fdca26\"],[1.0,\"#f0f921\"]]}],\"contourcarpet\":[{\"type\":\"contourcarpet\",\"colorbar\":{\"outlinewidth\":0,\"ticks\":\"\"}}],\"contour\":[{\"type\":\"contour\",\"colorbar\":{\"outlinewidth\":0,\"ticks\":\"\"},\"colorscale\":[[0.0,\"#0d0887\"],[0.1111111111111111,\"#46039f\"],[0.2222222222222222,\"#7201a8\"],[0.3333333333333333,\"#9c179e\"],[0.4444444444444444,\"#bd3786\"],[0.5555555555555556,\"#d8576b\"],[0.6666666666666666,\"#ed7953\"],[0.7777777777777778,\"#fb9f3a\"],[0.8888888888888888,\"#fdca26\"],[1.0,\"#f0f921\"]]}],\"surface\":[{\"type\":\"surface\",\"colorbar\":{\"outlinewidth\":0,\"ticks\":\"\"},\"colorscale\":[[0.0,\"#0d0887\"],[0.1111111111111111,\"#46039f\"],[0.2222222222222222,\"#7201a8\"],[0.3333333333333333,\"#9c179e\"],[0.4444444444444444,\"#bd3786\"],[0.5555555555555556,\"#d8576b\"],[0.6666666666666666,\"#ed7953\"],[0.7777777777777778,\"#fb9f3a\"],[0.8888888888888888,\"#fdca26\"],[1.0,\"#f0f921\"]]}],\"mesh3d\":[{\"type\":\"mesh3d\",\"colorbar\":{\"outlinewidth\":0,\"ticks\":\"\"}}],\"scatter\":[{\"fillpattern\":{\"fillmode\":\"overlay\",\"size\":10,\"solidity\":0.2},\"type\":\"scatter\"}],\"parcoords\":[{\"type\":\"parcoords\",\"line\":{\"colorbar\":{\"outlinewidth\":0,\"ticks\":\"\"}}}],\"scatterpolargl\":[{\"type\":\"scatterpolargl\",\"marker\":{\"colorbar\":{\"outlinewidth\":0,\"ticks\":\"\"}}}],\"bar\":[{\"error_x\":{\"color\":\"#2a3f5f\"},\"error_y\":{\"color\":\"#2a3f5f\"},\"marker\":{\"line\":{\"color\":\"#E5ECF6\",\"width\":0.5},\"pattern\":{\"fillmode\":\"overlay\",\"size\":10,\"solidity\":0.2}},\"type\":\"bar\"}],\"scattergeo\":[{\"type\":\"scattergeo\",\"marker\":{\"colorbar\":{\"outlinewidth\":0,\"ticks\":\"\"}}}],\"scatterpolar\":[{\"type\":\"scatterpolar\",\"marker\":{\"colorbar\":{\"outlinewidth\":0,\"ticks\":\"\"}}}],\"histogram\":[{\"marker\":{\"pattern\":{\"fillmode\":\"overlay\",\"size\":10,\"solidity\":0.2}},\"type\":\"histogram\"}],\"scattergl\":[{\"type\":\"scattergl\",\"marker\":{\"colorbar\":{\"outlinewidth\":0,\"ticks\":\"\"}}}],\"scatter3d\":[{\"type\":\"scatter3d\",\"line\":{\"colorbar\":{\"outlinewidth\":0,\"ticks\":\"\"}},\"marker\":{\"colorbar\":{\"outlinewidth\":0,\"ticks\":\"\"}}}],\"scattermapbox\":[{\"type\":\"scattermapbox\",\"marker\":{\"colorbar\":{\"outlinewidth\":0,\"ticks\":\"\"}}}],\"scatterternary\":[{\"type\":\"scatterternary\",\"marker\":{\"colorbar\":{\"outlinewidth\":0,\"ticks\":\"\"}}}],\"scattercarpet\":[{\"type\":\"scattercarpet\",\"marker\":{\"colorbar\":{\"outlinewidth\":0,\"ticks\":\"\"}}}],\"carpet\":[{\"aaxis\":{\"endlinecolor\":\"#2a3f5f\",\"gridcolor\":\"white\",\"linecolor\":\"white\",\"minorgridcolor\":\"white\",\"startlinecolor\":\"#2a3f5f\"},\"baxis\":{\"endlinecolor\":\"#2a3f5f\",\"gridcolor\":\"white\",\"linecolor\":\"white\",\"minorgridcolor\":\"white\",\"startlinecolor\":\"#2a3f5f\"},\"type\":\"carpet\"}],\"table\":[{\"cells\":{\"fill\":{\"color\":\"#EBF0F8\"},\"line\":{\"color\":\"white\"}},\"header\":{\"fill\":{\"color\":\"#C8D4E3\"},\"line\":{\"color\":\"white\"}},\"type\":\"table\"}],\"barpolar\":[{\"marker\":{\"line\":{\"color\":\"#E5ECF6\",\"width\":0.5},\"pattern\":{\"fillmode\":\"overlay\",\"size\":10,\"solidity\":0.2}},\"type\":\"barpolar\"}],\"pie\":[{\"automargin\":true,\"type\":\"pie\"}]},\"layout\":{\"autotypenumbers\":\"strict\",\"colorway\":[\"#636efa\",\"#EF553B\",\"#00cc96\",\"#ab63fa\",\"#FFA15A\",\"#19d3f3\",\"#FF6692\",\"#B6E880\",\"#FF97FF\",\"#FECB52\"],\"font\":{\"color\":\"#2a3f5f\"},\"hovermode\":\"closest\",\"hoverlabel\":{\"align\":\"left\"},\"paper_bgcolor\":\"white\",\"plot_bgcolor\":\"#E5ECF6\",\"polar\":{\"bgcolor\":\"#E5ECF6\",\"angularaxis\":{\"gridcolor\":\"white\",\"linecolor\":\"white\",\"ticks\":\"\"},\"radialaxis\":{\"gridcolor\":\"white\",\"linecolor\":\"white\",\"ticks\":\"\"}},\"ternary\":{\"bgcolor\":\"#E5ECF6\",\"aaxis\":{\"gridcolor\":\"white\",\"linecolor\":\"white\",\"ticks\":\"\"},\"baxis\":{\"gridcolor\":\"white\",\"linecolor\":\"white\",\"ticks\":\"\"},\"caxis\":{\"gridcolor\":\"white\",\"linecolor\":\"white\",\"ticks\":\"\"}},\"coloraxis\":{\"colorbar\":{\"outlinewidth\":0,\"ticks\":\"\"}},\"colorscale\":{\"sequential\":[[0.0,\"#0d0887\"],[0.1111111111111111,\"#46039f\"],[0.2222222222222222,\"#7201a8\"],[0.3333333333333333,\"#9c179e\"],[0.4444444444444444,\"#bd3786\"],[0.5555555555555556,\"#d8576b\"],[0.6666666666666666,\"#ed7953\"],[0.7777777777777778,\"#fb9f3a\"],[0.8888888888888888,\"#fdca26\"],[1.0,\"#f0f921\"]],\"sequentialminus\":[[0.0,\"#0d0887\"],[0.1111111111111111,\"#46039f\"],[0.2222222222222222,\"#7201a8\"],[0.3333333333333333,\"#9c179e\"],[0.4444444444444444,\"#bd3786\"],[0.5555555555555556,\"#d8576b\"],[0.6666666666666666,\"#ed7953\"],[0.7777777777777778,\"#fb9f3a\"],[0.8888888888888888,\"#fdca26\"],[1.0,\"#f0f921\"]],\"diverging\":[[0,\"#8e0152\"],[0.1,\"#c51b7d\"],[0.2,\"#de77ae\"],[0.3,\"#f1b6da\"],[0.4,\"#fde0ef\"],[0.5,\"#f7f7f7\"],[0.6,\"#e6f5d0\"],[0.7,\"#b8e186\"],[0.8,\"#7fbc41\"],[0.9,\"#4d9221\"],[1,\"#276419\"]]},\"xaxis\":{\"gridcolor\":\"white\",\"linecolor\":\"white\",\"ticks\":\"\",\"title\":{\"standoff\":15},\"zerolinecolor\":\"white\",\"automargin\":true,\"zerolinewidth\":2},\"yaxis\":{\"gridcolor\":\"white\",\"linecolor\":\"white\",\"ticks\":\"\",\"title\":{\"standoff\":15},\"zerolinecolor\":\"white\",\"automargin\":true,\"zerolinewidth\":2},\"scene\":{\"xaxis\":{\"backgroundcolor\":\"#E5ECF6\",\"gridcolor\":\"white\",\"linecolor\":\"white\",\"showbackground\":true,\"ticks\":\"\",\"zerolinecolor\":\"white\",\"gridwidth\":2},\"yaxis\":{\"backgroundcolor\":\"#E5ECF6\",\"gridcolor\":\"white\",\"linecolor\":\"white\",\"showbackground\":true,\"ticks\":\"\",\"zerolinecolor\":\"white\",\"gridwidth\":2},\"zaxis\":{\"backgroundcolor\":\"#E5ECF6\",\"gridcolor\":\"white\",\"linecolor\":\"white\",\"showbackground\":true,\"ticks\":\"\",\"zerolinecolor\":\"white\",\"gridwidth\":2}},\"shapedefaults\":{\"line\":{\"color\":\"#2a3f5f\"}},\"annotationdefaults\":{\"arrowcolor\":\"#2a3f5f\",\"arrowhead\":0,\"arrowwidth\":1},\"geo\":{\"bgcolor\":\"white\",\"landcolor\":\"#E5ECF6\",\"subunitcolor\":\"white\",\"showland\":true,\"showlakes\":true,\"lakecolor\":\"white\"},\"title\":{\"x\":0.05},\"mapbox\":{\"style\":\"light\"}}},\"updatemenus\":[{\"active\":0,\"buttons\":[{\"args\":[{\"visible\":[true,true,false,false,false,false,false,false,false,false,false,false,false,false]},{\"title\":\"Weekend vs WeekDay: Number of steps made by Participant 1\",\"xaxis\":{\"title\":\"Week\"},\"yaxis\":{\"title\":\"Average Step Count\"}}],\"label\":\"Participant 1\",\"method\":\"update\"},{\"args\":[{\"visible\":[false,false,true,true,false,false,false,false,false,false,false,false,false,false]},{\"title\":\"Weekend vs WeekDay: Number of steps made by Participant 2\",\"xaxis\":{\"title\":\"Week\"},\"yaxis\":{\"title\":\"Average Step Count\"}}],\"label\":\"Participant 2\",\"method\":\"update\"},{\"args\":[{\"visible\":[false,false,false,false,true,true,false,false,false,false,false,false,false,false]},{\"title\":\"Weekend vs WeekDay: Number of steps made by Participant 3\",\"xaxis\":{\"title\":\"Week\"},\"yaxis\":{\"title\":\"Average Step Count\"}}],\"label\":\"Participant 3\",\"method\":\"update\"},{\"args\":[{\"visible\":[false,false,false,false,false,false,true,true,false,false,false,false,false,false]},{\"title\":\"Weekend vs WeekDay: Number of steps made by Participant 4\",\"xaxis\":{\"title\":\"Week\"},\"yaxis\":{\"title\":\"Average Step Count\"}}],\"label\":\"Participant 4\",\"method\":\"update\"},{\"args\":[{\"visible\":[false,false,false,false,false,false,false,false,true,true,false,false,false,false]},{\"title\":\"Weekend vs WeekDay: Number of steps made by Participant 5\",\"xaxis\":{\"title\":\"Week\"},\"yaxis\":{\"title\":\"Average Step Count\"}}],\"label\":\"Participant 5\",\"method\":\"update\"},{\"args\":[{\"visible\":[false,false,false,false,false,false,false,false,false,false,true,true,false,false]},{\"title\":\"Weekend vs WeekDay: Number of steps made by Participant 7\",\"xaxis\":{\"title\":\"Week\"},\"yaxis\":{\"title\":\"Average Step Count\"}}],\"label\":\"Participant 7\",\"method\":\"update\"},{\"args\":[{\"visible\":[false,false,false,false,false,false,false,false,false,false,false,false,true,true]},{\"title\":\"Weekend vs WeekDay: Number of steps made by Participant 8\",\"xaxis\":{\"title\":\"Week\"},\"yaxis\":{\"title\":\"Average Step Count\"}}],\"label\":\"Participant 8\",\"method\":\"update\"}]}],\"title\":{\"text\":\"Weekend vs WeekDay: Number of steps made by Participant 8\",\"x\":0.5}},                        {\"responsive\": true}                    )                };                            </script>        </div>"
      ],
      "text/plain": [
       "Figure({\n",
       "    'data': [{'name': 'Participant 1 Weekend',\n",
       "              'type': 'scatter',\n",
       "              'x': array([1, 2, 3, 4, 5, 6, 7, 8, 9, 10, 11, 12, 13, 14, 15, 16, 17, 18, 19, 20,\n",
       "                          21, 22, 23, 24, 25, 26, 27, 28, 29, 30, 31, 32, 33, 34], dtype=object),\n",
       "              'y': array([ 7493.5       , 11152.5       , 10555.        ,  8506.5       ,\n",
       "                           9020.5       ,  9052.5       ,  6786.        ,  8426.82582388,\n",
       "                           3621.5       ,  8689.5       , 17663.        ,  6740.0668514 ,\n",
       "                           8351.        ,  8265.5       ,  6931.5       ,  6744.5       ,\n",
       "                          10954.0316199 ,  7558.        ,  4148.5       ,  6048.5       ,\n",
       "                           4748.        , 12969.        , 10459.        ,  4839.        ,\n",
       "                           7923.90740389,  4880.        ,  7971.5       ,  8684.        ,\n",
       "                           6974.        ,  4936.5       ,  8125.39481481, 10860.        ,\n",
       "                          10792.        , 12777.5       ])},\n",
       "             {'name': 'Participant 1 Weekday',\n",
       "              'type': 'scatter',\n",
       "              'x': array([1, 2, 3, 4, 5, 6, 7, 8, 9, 10, 11, 12, 13, 14, 15, 16, 17, 18, 19, 20,\n",
       "                          21, 22, 23, 24, 25, 26, 27, 28, 29, 30, 31, 32, 33, 34, 35],\n",
       "                         dtype=object),\n",
       "              'y': array([11928.8       , 10976.43376939, 11145.56536099, 10183.        ,\n",
       "                           8069.8       ,  9561.1850062 ,  9365.6       ,  7269.8       ,\n",
       "                           6564.2       ,  6404.30531339,  6837.06665057,  9170.8       ,\n",
       "                           7588.4       ,  6560.2       ,  8202.08191154,  5885.56457015,\n",
       "                           9875.34765106, 10083.2       ,  7469.4       ,  5669.16292243,\n",
       "                           5010.2       ,  8057.6       , 14116.67966184, 12072.8       ,\n",
       "                           7413.2       ,  9235.2       ,  7500.6       , 11223.6       ,\n",
       "                           8190.        ,  9413.2       ,  8175.8       ,  7599.6       ,\n",
       "                          10757.6148905 ,  6662.        ,  9643.18368863])},\n",
       "             {'name': 'Participant 2 Weekend',\n",
       "              'type': 'scatter',\n",
       "              'x': array([1, 2, 3, 4, 5, 6, 7, 8, 9, 10, 11, 12, 13, 14, 15, 16, 17, 18, 19, 20,\n",
       "                          21, 22, 23, 24, 25, 26, 27, 28, 29, 30, 31, 32, 33, 34], dtype=object),\n",
       "              'y': array([ 7362.5,  9523. ,  7660.5,  7274.5,  5317. ,  6963.5,  4861. ,  6858. ,\n",
       "                           2831.5,  7446. , 13359.5,  6468.5,  7407. ,  6321. ,  5191.5,  4921.5,\n",
       "                           8224. ,  6624. ,  2749.5,  7670. ,  4761. ,  6413. ,  6823. ,  2937.5,\n",
       "                           5109. ,  3085. ,  6152.5,  6658. ,  4794.5,  5410. ,  5303.5,  7421.5,\n",
       "                           6447. , 10110.5])},\n",
       "             {'name': 'Participant 2 Weekday',\n",
       "              'type': 'scatter',\n",
       "              'x': array([1, 2, 3, 4, 5, 6, 7, 8, 9, 10, 11, 12, 13, 14, 15, 16, 17, 18, 19, 20,\n",
       "                          21, 22, 23, 24, 25, 26, 27, 28, 29, 30, 31, 32, 33, 34, 35],\n",
       "                         dtype=object),\n",
       "              'y': array([ 8528.4 ,  7561.2 ,  8225.6 ,  6932.4 ,  6701.  ,  4717.4 ,  7722.2 ,\n",
       "                           5828.6 ,  5226.2 ,  5967.8 ,  6717.  ,  7303.8 ,  6890.4 ,  6295.8 ,\n",
       "                           7111.6 ,  5647.  ,  6942.  ,  7121.4 ,  5153.4 ,  6837.  ,  4526.6 ,\n",
       "                           7646.4 , 10596.6 ,  8798.  ,  6872.8 ,  7716.4 ,  5547.  ,  8012.2 ,\n",
       "                           5460.4 ,  7579.8 ,  6427.2 ,  7049.  ,  6028.  ,  7082.8 ,  7752.25])},\n",
       "             {'name': 'Participant 3 Weekend',\n",
       "              'type': 'scatter',\n",
       "              'x': array([1, 2, 3, 4, 5, 6, 7, 8, 9, 10, 11, 12, 13, 14, 15, 16, 17, 18, 19, 20,\n",
       "                          21, 22, 24, 25, 26, 27, 28, 29, 30, 31, 32, 33, 34, 35, 39, 40, 44, 48],\n",
       "                         dtype=object),\n",
       "              'y': array([11714.        ,  3920.49999975,   586.5       ,  7220.5       ,\n",
       "                           5795.00000056,  3095.        ,  7919.0000002 ,  5130.5000001 ,\n",
       "                           5053.0000004 ,    68.        ,  8979.0000002 ,  3828.99999995,\n",
       "                           8977.00000023,  1584.        ,  3666.0000002 ,   812.49999999,\n",
       "                           1538.5       ,  6295.9999998 ,  4410.4999998 ,  3912.        ,\n",
       "                            358.49999999,  9018.49999996,  1185.5       ,  5893.5000002 ,\n",
       "                           5378.9999997 , 13050.0000002 ,  1243.00000004,  1400.99999998,\n",
       "                           5679.50000013,  5190.5       , 15335.0000003 ,   621.5       ,\n",
       "                           1706.5       ,  4956.9999998 ,  5600.4999995 ,  6469.9999993 ,\n",
       "                           6006.00000035,  8970.00000017])},\n",
       "             {'name': 'Participant 3 Weekday',\n",
       "              'type': 'scatter',\n",
       "              'x': array([1, 2, 3, 4, 5, 6, 7, 8, 9, 10, 11, 12, 13, 14, 15, 16, 17, 18, 19, 20,\n",
       "                          21, 22, 23, 24, 25, 26, 27, 28, 29, 30, 31, 32, 33, 34, 35, 36, 40, 44,\n",
       "                          45, 48, 49], dtype=object),\n",
       "              'y': array([ 5897.60000006,   685.5       ,   280.        ,   227.        ,\n",
       "                           8175.20000018,  5719.        , 11904.19999969,  8376.59999993,\n",
       "                           2620.99999994,  2773.        ,  7853.00000007,  8555.80000018,\n",
       "                           3873.79999998,  4197.59999998,  3056.66666653,  4542.9999999 ,\n",
       "                           4941.        , 11690.59999996, 10507.9999998 ,  9623.99999984,\n",
       "                           6840.39999998,   427.        ,  6720.5000001 ,  6741.00000008,\n",
       "                           9180.00000009,  5882.40000002,  4764.40000001,  4337.33333323,\n",
       "                           5664.40000003,  4075.00000002,  4697.79999994,  9429.99999963,\n",
       "                           9617.20000008,  8817.00000017,  8874.00000008,  5188.74999999,\n",
       "                           5201.19999983,  4748.7499998 ,  8592.50000009,  1685.5       ,\n",
       "                           6425.24999973])},\n",
       "             {'name': 'Participant 4 Weekend',\n",
       "              'type': 'scatter',\n",
       "              'x': array([1, 2, 3, 4, 5, 6, 7, 8, 9, 10, 11, 12, 13, 14, 15, 16, 17, 18, 19, 20,\n",
       "                          21, 22, 23, 24, 25, 26, 27, 28, 29, 30, 31, 32, 33, 34, 35],\n",
       "                         dtype=object),\n",
       "              'y': array([11006.        , 17337.85782488, 13245.05892733, 17307.5       ,\n",
       "                          15153.73778547, 16785.5       , 18050.        , 11340.5       ,\n",
       "                          16905.63098745, 15131.5       , 14438.        , 17771.5       ,\n",
       "                          15646.67947581, 21814.5       , 18944.25354757, 15135.5       ,\n",
       "                          16994.90904305, 17975.27858129, 16669.        , 20362.05725622,\n",
       "                          16564.5       , 15281.5       , 13114.5       , 13869.32042902,\n",
       "                          18775.        , 14479.0365514 , 13255.1972836 , 10598.22728331,\n",
       "                          16529.29343861, 17198.9074915 , 14866.85615809, 17096.5       ,\n",
       "                          17056.        ,  8271.0626639 , 12176.68051908])},\n",
       "             {'name': 'Participant 4 Weekday',\n",
       "              'type': 'scatter',\n",
       "              'x': array([1, 2, 3, 4, 5, 6, 7, 8, 9, 10, 11, 12, 13, 14, 15, 16, 17, 18, 19, 20,\n",
       "                          21, 22, 23, 24, 25, 26, 27, 28, 29, 30, 31, 32, 33, 34, 35, 36],\n",
       "                         dtype=object),\n",
       "              'y': array([ 9825.00166829,  7464.92597699, 10043.68702271,  9615.38995057,\n",
       "                           8384.84704388, 10523.27524128,  9462.26393135, 10357.31130042,\n",
       "                           8089.2       ,  9341.78142961, 11842.00450872,  7750.71012537,\n",
       "                          11288.33085354, 11744.66681847, 10747.13407622,  7505.76280401,\n",
       "                          12228.2       , 11002.80576622, 11632.34052901, 12165.42980194,\n",
       "                           9245.7313409 ,  8322.08885287,  8160.20113747,  8872.2       ,\n",
       "                           7453.        ,  7064.67149552, 12972.75639245, 11290.73245964,\n",
       "                          11777.28500377, 10954.67539452,  7038.69222325,  9167.6       ,\n",
       "                           9939.82177316, 10305.82646069, 11229.20430216, 11858.5       ])},\n",
       "             {'name': 'Participant 5 Weekend',\n",
       "              'type': 'scatter',\n",
       "              'x': array([5, 6, 7, 8, 9, 10, 11, 12, 13, 14, 15, 16, 17, 18, 19, 20, 21, 22, 23,\n",
       "                          24, 25, 26, 27, 28, 29, 30, 31, 32, 33, 34], dtype=object),\n",
       "              'y': array([ 4135.5,  6213. ,  5051.5,  7411.5,  6611.5,  9593. ,  5577.5, 14677. ,\n",
       "                          24111.5, 15727.5,  7797.5, 13377. , 22618.5,  5719. ,  9528.5, 10943.5,\n",
       "                           8915.5, 13783. , 14222.5, 12390.5, 11867. ,  7648. ,  6009.5, 10152.5,\n",
       "                           6954. , 10209.5,  8635.5,  5754.5, 10207.5, 12686.5])},\n",
       "             {'name': 'Participant 5 Weekday',\n",
       "              'type': 'scatter',\n",
       "              'x': array([1, 2, 4, 5, 6, 7, 8, 9, 10, 11, 12, 13, 14, 15, 16, 17, 18, 19, 20, 21,\n",
       "                          22, 23, 24, 25, 26, 27, 28, 29, 30, 31, 32, 33, 34, 35], dtype=object),\n",
       "              'y': array([6.47900e+03, 2.39000e+02, 4.00000e+00, 4.12000e+03, 7.10560e+03,\n",
       "                          5.09180e+03, 6.92060e+03, 7.43660e+03, 8.80640e+03, 1.00042e+04,\n",
       "                          1.21864e+04, 5.78360e+03, 1.38232e+04, 1.46466e+04, 9.67160e+03,\n",
       "                          1.71774e+04, 6.18460e+03, 6.30300e+03, 7.50360e+03, 7.59460e+03,\n",
       "                          8.09640e+03, 1.07770e+04, 2.06734e+04, 1.86288e+04, 7.44520e+03,\n",
       "                          7.66040e+03, 1.03990e+04, 6.61960e+03, 6.21920e+03, 7.17900e+03,\n",
       "                          4.46680e+03, 9.20600e+03, 8.94640e+03, 8.28450e+03])},\n",
       "             {'name': 'Participant 7 Weekend',\n",
       "              'type': 'scatter',\n",
       "              'x': array([1, 2, 3, 4, 5, 6, 7, 8, 9, 10, 11, 12, 13, 14, 15, 16, 17, 18, 19, 20,\n",
       "                          21, 22, 23, 24, 25, 26, 27, 28, 29, 30, 31, 32, 33, 34, 35, 36],\n",
       "                         dtype=object),\n",
       "              'y': array([6318.5       , 4909.        , 4621.5       , 6615.        ,\n",
       "                          5771.        , 8607.5       , 8648.        , 4871.5       ,\n",
       "                          8352.5       , 9995.5       , 8385.        , 8684.        ,\n",
       "                          7516.5       , 7061.5       , 9410.        , 9577.        ,\n",
       "                          2727.        , 6084.        , 8731.5       , 4569.5       ,\n",
       "                          9594.        , 7044.        , 6613.        , 7614.        ,\n",
       "                          6174.5       , 4372.        , 6175.        , 7638.5       ,\n",
       "                          8143.        , 9650.5       , 8829.01792108, 9607.5       ,\n",
       "                          7960.86649586, 7342.44422644, 8264.1990598 , 8082.        ])},\n",
       "             {'name': 'Participant 7 Weekday',\n",
       "              'type': 'scatter',\n",
       "              'x': array([1, 2, 3, 4, 5, 6, 7, 8, 9, 10, 11, 12, 13, 14, 15, 16, 17, 18, 19, 20,\n",
       "                          21, 22, 23, 24, 25, 26, 27, 28, 29, 30, 31, 32, 33, 34, 35, 36, 37],\n",
       "                         dtype=object),\n",
       "              'y': array([ 7074.2       ,  7190.8       , 11072.4       ,  7779.4       ,\n",
       "                           8246.4       ,  7994.2       ,  9858.4       ,  7537.6       ,\n",
       "                           6917.        ,  6740.2       ,  8021.2       ,  9933.4       ,\n",
       "                           7977.6       ,  9032.8       ,  8628.8       ,  7615.8       ,\n",
       "                           4372.2       ,  8158.        ,  7580.        ,  8144.6       ,\n",
       "                           7745.6       ,  7721.        ,  7772.4       ,  6237.        ,\n",
       "                           6525.6       , 10088.4       ,  5984.4       ,  7867.4       ,\n",
       "                           7322.8       ,  8408.2       ,  8932.6       ,  7537.92399755,\n",
       "                           8778.91637509,  8004.73800758,  6710.14670326,  9808.53680059,\n",
       "                           6542.18324395])},\n",
       "             {'name': 'Participant 8 Weekend',\n",
       "              'type': 'scatter',\n",
       "              'x': array([1, 2, 3, 4, 5, 6, 7, 8, 9, 10, 11, 12, 13, 14, 15, 16, 17, 18, 19, 20,\n",
       "                          21, 22, 23, 24, 25, 26, 27, 28, 29, 30, 31, 32, 33, 34, 35, 36],\n",
       "                         dtype=object),\n",
       "              'y': array([ 7703. ,  5056. ,  8234. ,  5479. ,  8582. ,  9477.5,  8105. , 10660. ,\n",
       "                           3342.5,  9392. , 12106. , 11675. ,  3527.5,  9780. , 13567. , 10904.5,\n",
       "                          11963. ,  9858.5, 10159.5,  9184.5,  7134. ,  8024.5,  6036.5, 10444. ,\n",
       "                           8718. ,  8962.5, 10599.5,  7384.5,  8683. ,  8236.5, 10662. , 10419.5,\n",
       "                          12833. , 12214. ,  9045. , 10004.5])},\n",
       "             {'name': 'Participant 8 Weekday',\n",
       "              'type': 'scatter',\n",
       "              'x': array([1, 2, 3, 4, 5, 6, 7, 8, 9, 10, 11, 12, 13, 14, 15, 16, 17, 18, 19, 20,\n",
       "                          21, 22, 23, 24, 25, 26, 27, 28, 29, 30, 31, 32, 33, 34, 35, 36, 37],\n",
       "                         dtype=object),\n",
       "              'y': array([ 7142.8,  7584.4,  5479.6,  8287.8,  6674.2, 10931.8,  7144.8,  8898.6,\n",
       "                           3578. ,  7219.6,  9319. , 10350.4, 11420.6,  2328.4,  8349.6, 12123.4,\n",
       "                          10147.4, 10539. , 12610.6, 10823.8,  6378.6,  6061. ,  5708.8,  8519.4,\n",
       "                           8178.6,  7272.2,  8647.4,  5345. ,  8170.6, 11908.4, 10444.2,  7503. ,\n",
       "                           7688.2,  7507. , 10929.2, 16017. ,   228. ])}],\n",
       "    'layout': {'template': '...',\n",
       "               'title': {'text': 'Weekend vs WeekDay: Number of steps made by Participant 8', 'x': 0.5},\n",
       "               'updatemenus': [{'active': 0,\n",
       "                                'buttons': [{'args': [{'visible': [True, True,\n",
       "                                                                   False, False,\n",
       "                                                                   False, False,\n",
       "                                                                   False, False,\n",
       "                                                                   False, False,\n",
       "                                                                   False, False,\n",
       "                                                                   False, False]},\n",
       "                                                      {'title': 'Weekend vs WeekDay: Number of steps made by Participant 1',\n",
       "                                                       'xaxis': {'title': 'Week'},\n",
       "                                                       'yaxis': {'title': 'Average Step Count'}}],\n",
       "                                             'label': 'Participant 1',\n",
       "                                             'method': 'update'},\n",
       "                                            {'args': [{'visible': [False, False,\n",
       "                                                                   True, True,\n",
       "                                                                   False, False,\n",
       "                                                                   False, False,\n",
       "                                                                   False, False,\n",
       "                                                                   False, False,\n",
       "                                                                   False, False]},\n",
       "                                                      {'title': 'Weekend vs WeekDay: Number of steps made by Participant 2',\n",
       "                                                       'xaxis': {'title': 'Week'},\n",
       "                                                       'yaxis': {'title': 'Average Step Count'}}],\n",
       "                                             'label': 'Participant 2',\n",
       "                                             'method': 'update'},\n",
       "                                            {'args': [{'visible': [False, False,\n",
       "                                                                   False, False,\n",
       "                                                                   True, True,\n",
       "                                                                   False, False,\n",
       "                                                                   False, False,\n",
       "                                                                   False, False,\n",
       "                                                                   False, False]},\n",
       "                                                      {'title': 'Weekend vs WeekDay: Number of steps made by Participant 3',\n",
       "                                                       'xaxis': {'title': 'Week'},\n",
       "                                                       'yaxis': {'title': 'Average Step Count'}}],\n",
       "                                             'label': 'Participant 3',\n",
       "                                             'method': 'update'},\n",
       "                                            {'args': [{'visible': [False, False,\n",
       "                                                                   False, False,\n",
       "                                                                   False, False,\n",
       "                                                                   True, True,\n",
       "                                                                   False, False,\n",
       "                                                                   False, False,\n",
       "                                                                   False, False]},\n",
       "                                                      {'title': 'Weekend vs WeekDay: Number of steps made by Participant 4',\n",
       "                                                       'xaxis': {'title': 'Week'},\n",
       "                                                       'yaxis': {'title': 'Average Step Count'}}],\n",
       "                                             'label': 'Participant 4',\n",
       "                                             'method': 'update'},\n",
       "                                            {'args': [{'visible': [False, False,\n",
       "                                                                   False, False,\n",
       "                                                                   False, False,\n",
       "                                                                   False, False,\n",
       "                                                                   True, True,\n",
       "                                                                   False, False,\n",
       "                                                                   False, False]},\n",
       "                                                      {'title': 'Weekend vs WeekDay: Number of steps made by Participant 5',\n",
       "                                                       'xaxis': {'title': 'Week'},\n",
       "                                                       'yaxis': {'title': 'Average Step Count'}}],\n",
       "                                             'label': 'Participant 5',\n",
       "                                             'method': 'update'},\n",
       "                                            {'args': [{'visible': [False, False,\n",
       "                                                                   False, False,\n",
       "                                                                   False, False,\n",
       "                                                                   False, False,\n",
       "                                                                   False, False,\n",
       "                                                                   True, True,\n",
       "                                                                   False, False]},\n",
       "                                                      {'title': 'Weekend vs WeekDay: Number of steps made by Participant 7',\n",
       "                                                       'xaxis': {'title': 'Week'},\n",
       "                                                       'yaxis': {'title': 'Average Step Count'}}],\n",
       "                                             'label': 'Participant 7',\n",
       "                                             'method': 'update'},\n",
       "                                            {'args': [{'visible': [False, False,\n",
       "                                                                   False, False,\n",
       "                                                                   False, False,\n",
       "                                                                   False, False,\n",
       "                                                                   False, False,\n",
       "                                                                   False, False,\n",
       "                                                                   True, True]},\n",
       "                                                      {'title': 'Weekend vs WeekDay: Number of steps made by Participant 8',\n",
       "                                                       'xaxis': {'title': 'Week'},\n",
       "                                                       'yaxis': {'title': 'Average Step Count'}}],\n",
       "                                             'label': 'Participant 8',\n",
       "                                             'method': 'update'}]}]}\n",
       "})"
      ]
     },
     "execution_count": 108,
     "metadata": {},
     "output_type": "execute_result"
    }
   ],
   "source": [
    "# Author: Emily\n",
    "# Last edit: 31/10/2022\n",
    "# Now creating a line graph that show the participants average step counts over the week for weekend vs weekday\n",
    "import plotly.express as px \n",
    "\n",
    "# Initialize figure\n",
    "fig = go.Figure()\n",
    "\n",
    "# Add Traces\n",
    "# CODE FOR PARTICIPANT 1\n",
    "# separate into two dataframes of weekend and weekday\n",
    "wkdf = df.loc[df[\"Is Weekend\"]==True]\n",
    "wddf = df.loc[df[\"Is Weekend\"]!=True]\n",
    "# create the line plots; one for weekend, one for weekday\n",
    "fig.add_trace(\n",
    "    go.Scatter(x=wkdf[\"Week\"], y=wkdf[\"Steps\"],name='Participant 1 Weekend'))\n",
    "fig.add_trace(\n",
    "    go.Scatter(x=wddf[\"Week\"], y=wddf[\"Steps\"],name='Participant 1 Weekday'))\n",
    "\n",
    "# REPEAT FOR PARTICIPANT 2\n",
    "wkdf2 = df2.loc[df2[\"Is Weekend\"]==True]\n",
    "wddf2 = df2.loc[df2[\"Is Weekend\"]!=True]\n",
    "fig.add_trace(\n",
    "    go.Scatter(x=wkdf2[\"Week\"], y=wkdf2[\"Steps\"],name='Participant 2 Weekend'))\n",
    "fig.add_trace(\n",
    "    go.Scatter(x=wddf2[\"Week\"], y=wddf2[\"Steps\"],name='Participant 2 Weekday'))\n",
    "\n",
    "# REPEAT FOR PARTICIPANT 3\n",
    "wkdf3 = df3.loc[df3[\"Is Weekend\"]==True]\n",
    "wddf3 = df3.loc[df3[\"Is Weekend\"]!=True]\n",
    "fig.add_trace(\n",
    "    go.Scatter(x=wkdf3[\"Week\"], y=wkdf3[\"Steps\"],name='Participant 3 Weekend'))\n",
    "fig.add_trace(\n",
    "    go.Scatter(x=wddf3[\"Week\"], y=wddf3[\"Steps\"],name='Participant 3 Weekday'))\n",
    "\n",
    "# REPEAT FOR PARTICIPANT 4\n",
    "wkdf4 = df4.loc[df4[\"Is Weekend\"]==True]\n",
    "wddf4 = df4.loc[df4[\"Is Weekend\"]!=True]\n",
    "fig.add_trace(\n",
    "    go.Scatter(x=wkdf4[\"Week\"], y=wkdf4[\"Steps\"],name='Participant 4 Weekend'))\n",
    "fig.add_trace(\n",
    "    go.Scatter(x=wddf4[\"Week\"], y=wddf4[\"Steps\"],name='Participant 4 Weekday'))\n",
    "\n",
    "# REPEAT FOR PARTICIPANT 5\n",
    "wkdf5 = df5.loc[df5[\"Is Weekend\"]==True]\n",
    "wddf5 = df5.loc[df5[\"Is Weekend\"]!=True]\n",
    "fig.add_trace(\n",
    "    go.Scatter(x=wkdf5[\"Week\"], y=wkdf5[\"Steps\"],name='Participant 5 Weekend'))\n",
    "fig.add_trace(\n",
    "    go.Scatter(x=wddf5[\"Week\"], y=wddf5[\"Steps\"],name='Participant 5 Weekday'))\n",
    "\n",
    "# REPEAT FOR PARTICIPANT 7\n",
    "wkdf7 = df7.loc[df7[\"Is Weekend\"]==True]\n",
    "wddf7 = df7.loc[df7[\"Is Weekend\"]!=True]\n",
    "fig.add_trace(\n",
    "    go.Scatter(x=wkdf7[\"Week\"], y=wkdf7[\"Steps\"],name='Participant 7 Weekend'))\n",
    "fig.add_trace(\n",
    "    go.Scatter(x=wddf7[\"Week\"], y=wddf7[\"Steps\"],name='Participant 7 Weekday'))\n",
    "\n",
    "# REPEAT FOR PARTICIPANT 8\n",
    "wkdf8 = df8.loc[df8[\"Is Weekend\"]==True]\n",
    "wddf8 = df8.loc[df8[\"Is Weekend\"]!=True]\n",
    "fig.add_trace(\n",
    "    go.Scatter(x=wkdf8[\"Week\"], y=wkdf8[\"Steps\"],name='Participant 8 Weekend'))\n",
    "fig.add_trace(\n",
    "    go.Scatter(x=wddf8[\"Week\"], y=wddf8[\"Steps\"],name='Participant 8 Weekday'))\n",
    "# fig.show()\n",
    "# ADDS the traces above together with a drop down menu\n",
    "fig.update_layout(\n",
    "    updatemenus=[\n",
    "        dict(\n",
    "            active=0,\n",
    "            buttons=list([\n",
    "                dict(label=\"Participant 1\",\n",
    "                     method=\"update\",\n",
    "#                      line below decides what traces get show, since we want to see particpant 1; then only the first two positions is true\n",
    "                     args=[{\"visible\": [True, True, False, False, False, False, False,False, False, False, False, False, False,False]},\n",
    "                           {\"title\": \"Weekend vs WeekDay: Number of steps made by Participant 1\",\n",
    "                           'xaxis': {'title': 'Week'},\n",
    "                          'yaxis': {'title': 'Average Step Count'}}]),\n",
    "                dict(label=\"Participant 2\",\n",
    "                     method=\"update\",\n",
    "#                      to see the participant 2 data, only the next 2 conseqcutive positions is true and repeated so on below\n",
    "                     args=[{\"visible\": [False, False, True, True,False, False, False,False, False, False, False, False, False,False]},\n",
    "                           {\"title\": \"Weekend vs WeekDay: Number of steps made by Participant 2\",\n",
    "                           'xaxis': {'title': 'Week'},\n",
    "                          'yaxis': {'title': 'Average Step Count'}}]),\n",
    "                dict(label=\"Participant 3\",\n",
    "                     method=\"update\",\n",
    "                     args=[{\"visible\": [False, False, False, False,True, True, False,False, False, False, False, False, False,False]},\n",
    "                           {\"title\": \"Weekend vs WeekDay: Number of steps made by Participant 3\",\n",
    "                           'xaxis': {'title': 'Week'},\n",
    "                          'yaxis': {'title': 'Average Step Count'}}]),\n",
    "                dict(label=\"Participant 4\",\n",
    "                     method=\"update\",\n",
    "                     args=[{\"visible\": [False, False, False, False, False, False, True,True, False, False, False, False, False,False]},\n",
    "                           {\"title\": \"Weekend vs WeekDay: Number of steps made by Participant 4\",\n",
    "                           'xaxis': {'title': 'Week'},\n",
    "                          'yaxis': {'title': 'Average Step Count'}}]),\n",
    "                dict(label=\"Participant 5\",\n",
    "                     method=\"update\",\n",
    "                     args=[{\"visible\": [False, False, False, False, False,False,False,False, True, True, False, False, False,False]},\n",
    "                           {\"title\": \"Weekend vs WeekDay: Number of steps made by Participant 5\",\n",
    "                           'xaxis': {'title': 'Week'},\n",
    "                          'yaxis': {'title': 'Average Step Count'}}]),\n",
    "                dict(label=\"Participant 7\",\n",
    "                     method=\"update\",\n",
    "                     args=[{\"visible\": [False, False, False, False, False, False, False,False, False, False, True, True, False,False]},\n",
    "                           {\"title\": \"Weekend vs WeekDay: Number of steps made by Participant 7\",\n",
    "                           'xaxis': {'title': 'Week'},\n",
    "                          'yaxis': {'title': 'Average Step Count'}}]),\n",
    "                dict(label=\"Participant 8\",\n",
    "                     method=\"update\",\n",
    "                     args=[{\"visible\": [False, False, False, False, False, False,False,False, False, False, False, False, True,True]},\n",
    "                           {\"title\": \"Weekend vs WeekDay: Number of steps made by Participant 8\",\n",
    "                           'xaxis': {'title': 'Week'},\n",
    "                          'yaxis': {'title': 'Average Step Count'}}])\n",
    "                \n",
    "            ]),\n",
    "        )\n",
    "    ])\n",
    "# sets the title for each graph\n",
    "fig.update_layout(title_text='Weekend vs WeekDay: Number of steps made by Participant 1', title_x=0.5)\n",
    "fig.update_layout(title_text='Weekend vs WeekDay: Number of steps made by Participant 2', title_x=0.5)\n",
    "fig.update_layout(title_text='Weekend vs WeekDay: Number of steps made by Participant 3', title_x=0.5)\n",
    "fig.update_layout(title_text='Weekend vs WeekDay: Number of steps made by Participant 4', title_x=0.5)\n",
    "fig.update_layout(title_text='Weekend vs WeekDay: Number of steps made by Participant 5', title_x=0.5)\n",
    "fig.update_layout(title_text='Weekend vs WeekDay: Number of steps made by Participant 7', title_x=0.5)\n",
    "fig.update_layout(title_text='Weekend vs WeekDay: Number of steps made by Participant 8', title_x=0.5)"
   ]
  },
  {
   "cell_type": "markdown",
   "id": "2a24d57e",
   "metadata": {},
   "source": [
    "Looking at the graphs, it can be observed that participants are more likely to see peaks in their step activity on Weekends, where there is a significant increase in steps. However there is not a major significant difference between the weekend and weekday step counts that shows a preference for weekday or weekend activity for most participant. Participant 4 however demonstrated a clear preference for step activty during the weekend.\n",
    "\n",
    "**Testing if Weekends and Weekdays have different average numbers of steps?**\n",
    "To look into this further and see if there is really any significant preference for weekend or weekday for step activity. Testing could be done."
   ]
  },
  {
   "cell_type": "code",
   "execution_count": 109,
   "id": "074e2efb",
   "metadata": {},
   "outputs": [
    {
     "data": {
      "text/plain": [
       "Ttest_indResult(statistic=1.1428204905857797, pvalue=0.2568577578887856)"
      ]
     },
     "execution_count": 109,
     "metadata": {},
     "output_type": "execute_result"
    }
   ],
   "source": [
    "# Author: Callum\n",
    "# perform t-test on participant-3 dataset between the weekend and weekday means \n",
    "ttest_ind(wddf3['Steps'], wkdf3['Steps'], equal_var=False)"
   ]
  },
  {
   "cell_type": "code",
   "execution_count": 110,
   "id": "a69b4f09",
   "metadata": {},
   "outputs": [
    {
     "data": {
      "text/plain": [
       "Ttest_indResult(statistic=-10.306796986514229, pvalue=1.8662205292249243e-14)"
      ]
     },
     "execution_count": 110,
     "metadata": {},
     "output_type": "execute_result"
    }
   ],
   "source": [
    "# Author: Callum\n",
    "#perform t-test on participant-4 dataset between the weekend and weekday means \n",
    "ttest_ind(wddf4['Steps'], wkdf4['Steps'], equal_var=False)"
   ]
  },
  {
   "cell_type": "code",
   "execution_count": 111,
   "id": "f3142700",
   "metadata": {},
   "outputs": [
    {
     "data": {
      "text/plain": [
       "Ttest_indResult(statistic=-1.27547606226601, pvalue=0.20644447475201472)"
      ]
     },
     "execution_count": 111,
     "metadata": {},
     "output_type": "execute_result"
    }
   ],
   "source": [
    "# Author: Callum\n",
    "#perform t-test on participant-8 dataset between the weekend and weekday means \n",
    "ttest_ind(wddf8['Steps'], wkdf8['Steps'], equal_var=False)"
   ]
  },
  {
   "cell_type": "markdown",
   "id": "d77a2511",
   "metadata": {},
   "source": [
    "A Welch t-test was used to test whether there is a difference in steps between weekends and weekday, taking the result for the comparison between datasets 3, 4, and 8 as an example. As the p-values for datasets 3 and 4 are less than 0.05, there is a statistically significant difference between the mean steps taken on weekdays and weekends in those datasets.\n",
    "\n",
    "Dataset 8 had a p-value of 0.28, which implies that there is not statistically significant difference between the average steps taken on a weekend-day, as opposed to a weekday-day.\n",
    "\n",
    "This bifurcation of results shows how individual behaviour causes this trend to emerge."
   ]
  },
  {
   "cell_type": "markdown",
   "id": "ee63ac04",
   "metadata": {},
   "source": [
    "## Sub Questions\n",
    "\n",
    "### What are the trends for different times of day across the week?\n",
    "\n",
    "**Hypothesis**: I anticipate that most participants's step counts will typically peak in the morning as they commute to work/university or go for a morning run. I expect there will be another peak around lunchtime and the amount of step counts will wane towards the end of the day.\n",
    "\n",
    "For each participant, I will create an \"hour\" column to represent the starting time that the step counts for each hour was recorded."
   ]
  },
  {
   "cell_type": "code",
   "execution_count": 112,
   "id": "08cb4080",
   "metadata": {
    "scrolled": true
   },
   "outputs": [],
   "source": [
    "# Author: Emily\n",
    "# 24/10/22\n",
    "p1['Hour'] = p1['Start'].dt.hour\n",
    "p3['Hour'] = p3['Start'].dt.hour\n",
    "p4['Hour'] = p4['Start'].dt.hour\n",
    "p7['Hour'] = p7['Start'].dt.hour\n",
    "p8['Hour'] = p8['Start'].dt.hour"
   ]
  },
  {
   "cell_type": "markdown",
   "id": "5f510e31",
   "metadata": {},
   "source": [
    "These hours have been further broken down into the different times of day categorised as follows:\n",
    "\n",
    "* \"night\" represents the period between the hours of 0 to 5 inclusive\n",
    "* \"morning\" represents the period between the hours of 6 to 11 inclusive\n",
    "* \"afternoon\" represents the period between the hours of 12 to 17 inclusive\n",
    "* \"evening\" represents the period between the hours of 18 to 23 inclusive\n",
    "\n",
    "The following plot shows the distribution of step counts for the different times of days across the week."
   ]
  },
  {
   "cell_type": "code",
   "execution_count": 113,
   "id": "5ebbc905",
   "metadata": {
    "scrolled": false
   },
   "outputs": [
    {
     "data": {
      "image/png": "[encoded data removed]",
      "text/plain": [
       "<Figure size 1199.5x600 with 7 Axes>"
      ]
     },
     "metadata": {},
     "output_type": "display_data"
    }
   ],
   "source": [
    "# Authors: Amelia, Emily\n",
    "# 19/10/22 - 29/10/22\n",
    "\"\"\"Function that outputs an ecdf plot for any given participant\n",
    "    parameters: \n",
    "        df: a dataframe of the format p#, \n",
    "        where # is a number between 1 and 8 inclusive (not including 6)\n",
    "            \n",
    "\"\"\"\n",
    "def graphHour(df):\n",
    "    df[\"time of day\"] = pd.qcut(df[\"Hour\"], 4, labels = [\"night\", \"morning\", \"afternoon\", \"evening\"])\n",
    "    sns.set(style=\"darkgrid\") \n",
    "    plot = sns.displot(\n",
    "        data=df, y=\"Steps\", hue=\"time of day\", col='WeekDay', col_wrap = 4,\n",
    "        kind=\"ecdf\", height=3, aspect=.9, palette=\"cubehelix\"\n",
    "    )\n",
    "    \n",
    "    plot.set_axis_labels(\"Percentile (%)\") # set x labels\n",
    "    \"\"\"change number of sig figs for percentiles to be 1, \n",
    "    as the decimal representation (3 sig figs) unnecessarily shows too many zeroes\n",
    "    when this level of detail is not needed and can be overwhelming visually.\n",
    "    The percentage representation looks a lot less cluttered and makes the plot\n",
    "    easier to interpret.\n",
    "    \"\"\"\n",
    "    plot.set_xticklabels(['0','25','50','75','100'])\n",
    "    # write the caption\n",
    "    plt.figtext(0.5,10**-10, \"To interpret the ecdf plot, compare the percentile \"\n",
    "    + \"against the steps to see the distribution\" +\n",
    "    \" of step counts at any given point in time.\", ha=\"center\", va=\"center\", \n",
    "    fontsize=15, bbox={\"facecolor\":\"#1cdac4\", \"alpha\":0.5})\n",
    "\n",
    "graphHour(p7)"
   ]
  },
  {
   "cell_type": "markdown",
   "id": "71f55211",
   "metadata": {},
   "source": [
    "ECDF plots presents information with less uncertainty than histograms, as different bin sizes can lead to binning bias. With ECDF plots, the information is shown clearly in an unambiguous format.\n",
    "\n",
    "Using participant 7 as an example, we can see that this participant is most noticeably most active on Sunday afternoons, followed by Thursday mornings. Although there are higher step counts recorded on Saturday afternoons and Tuesday mornings, they seem to account for a smaller proportion of step counts. Other than these observations, the trends appear to be fairly consistent throughout the week.\n",
    "\n",
    "The ecdf plot contains lots of information that may be hard to absorb. The following heatmap uses colour to convey levels of fitness activity throughout the day, which may be better for a quick overview."
   ]
  },
  {
   "cell_type": "code",
   "execution_count": null,
   "id": "f8ccc34d",
   "metadata": {
    "scrolled": true
   },
   "outputs": [
    {
     "data": {
      "image/png": "[encoded data removed]",
      "text/plain": [
       "<Figure size 432x288 with 2 Axes>"
      ]
     },
     "metadata": {},
     "output_type": "display_data"
    }
   ],
   "source": [
    "# Authors: Amelia, Emily\n",
    "# 19/10/22 - 29/10/22\n",
    "\"\"\"Function that outputs a heatmap for any given participant\n",
    "    parameters: \n",
    "        df: a dataframe of the format p#, \n",
    "        where # is a number between 1 and 8 inclusive (not including 6)\n",
    "            \n",
    "\"\"\"\n",
    "def graphHour3(df):\n",
    "    df[\"time of day\"] = pd.qcut(df[\"Hour\"], 4, labels = [\"night\", \"morning\", \"afternoon\", \"evening\"])\n",
    "    # obtain the mean step counts for each hour of each day of the week\n",
    "    hour_dow_count = df.groupby(['time of day','WeekDay']).agg({'Steps': 'mean'}).reset_index()\n",
    "    # change the format such that each cell contains a step count value\n",
    "    hour_dow_count = hour_dow_count.pivot(\"time of day\", \"WeekDay\", \"Steps\")\n",
    "    # change the order of the days of the week\n",
    "    hour_dow_count = hour_dow_count.reindex(\n",
    "        columns = [\n",
    "        'Monday',\n",
    "        'Tuesday',\n",
    "        'Wednesday',\n",
    "        'Thursday',\n",
    "        'Friday',\n",
    "        'Saturday',\n",
    "        'Sunday'])\n",
    "    # plot the heatmap\n",
    "    hmap = sns.heatmap(hour_dow_count, cmap=\"coolwarm\")\n",
    "    # add label to colorbar\n",
    "    cb = hmap.collections[0].colorbar\n",
    "    cb.set_label('Steps (average)', labelpad=20)\n",
    "    \n",
    "    \n",
    "graphHour3(p1)"
   ]
  },
  {
   "cell_type": "markdown",
   "id": "42c873a0",
   "metadata": {},
   "source": [
    "_The mean step counts taken at any given time is indicated by the intensity of colour, where warmer colour represent higher step counts._"
   ]
  },
  {
   "cell_type": "markdown",
   "id": "85350c3a",
   "metadata": {},
   "source": [
    "The mean step counts taken at any given time is indicated by the intensity of colour, where warmer colours represent higher step counts. The uncertainty here is that the colours blur together and it is difficult to know the precise mean at any given time. The mean groups many different values together, including outliers, so it is hard to know the skewness of the data.\n",
    "\n",
    "Using participant 1 as an example, they are most active on Sunday afternoons and consistently average high step counts in the afternoon across the week. The mornings are generally unpredictable and evenings typically have lower step counts.\n",
    "\n",
    "**Results:** I predicted that most participants are active in the mornings: this turned out not to be the case. The afternoons tend to have more step count activity. While nights are the most inactive period for most, there were some participants that recorded their highest step counts during this time. This could be due to these participants being in a different time zone or working late-night shifts. Overall, the most active times of day seem to be largely dependent on the individual and it is hard to make a blanket statement about the participants' activity levels across different times of day.\n",
    "\n",
    "### Does the step patterns across the week differ with season?"
   ]
  },
  {
   "cell_type": "markdown",
   "id": "6d39f2b8",
   "metadata": {},
   "source": [
    "It has been researched that people can tend to be less active during Winter time as they staying indoors more due to the cold. Therefore we want to analyse if participants' step activity are impacted by the seasonal changes. \n",
    "\n",
    "**Initial Hypothesis**: Participants will be the most active in summer in participular the weekends.\n",
    "\n",
    "Reason: hypothesis is formed with knowledge that people then to be less active in winter and that Australia being a country that isn't typically known for winter sports but more summer sports, therefore it would be understandable if participant's activity dropped in the winter and be the highest in summer as not only they have accessibility to summer sports now but that are also more likely to go out of the house.\n",
    "\n",
    "\n",
    "**Assumptions made**: that the participants were all in Australia during the whole 8 month duration as the months are grouped based on the Australian classification of the seasons where;\n",
    "\n",
    "Spring - September, October and November.\n",
    "\n",
    "Summer - December, January and February.\n",
    "\n",
    "Autumn - March, April and May.\n",
    "\n",
    "Winter - June, July and August.\n",
    "\n",
    "However, as we are lacking in data for the months of September, October and November, the season of Spring is not analysed in this sub question.\n",
    "\n",
    "\n",
    "A bar graph is chosen to compare the three seasons as when comparing trends across the week in different seasons, bar graphs provides a simple and direct visualisation of the seasons side by side enabling direct comparision. The numbers of colours used is also not excessive. There is a drop down menu provided which enables the viewer to view the trends for each season, instead of all the seasons at once, this allows more a clearer view of the trend in each season.\n",
    "\n",
    "_to view the graph for a different participant, please change the code in the code block below, then run both code blocks below_"
   ]
  },
  {
   "cell_type": "code",
   "execution_count": 118,
   "id": "d49f2b3c",
   "metadata": {
    "scrolled": true
   },
   "outputs": [],
   "source": [
    "# Author: Emily\n",
    "# Last Modified: 31/10/2022\n",
    "# Function that creates a dataset to only have these three months\n",
    "def getMonths(input, m1, m2, m3):\n",
    "    return input.loc[(input.Date.dt.month==m1) | (input.Date.dt.month==m2) | (input.Date.dt.month==m3)]\n",
    "\n",
    "# Group by date. \n",
    "# SWITCH HERE! For a different participant, change 'p3' to participant 'p1', 'p2', 'p7' etc.\n",
    "df = p8.groupby(['Date'], as_index=False).agg({'Steps': 'sum','WeekDay': 'first','Month': 'first'})\n",
    "\n",
    "# sub the function in\n",
    "Autumn = getMonths(df,3,4,5)\n",
    "Winter = getMonths(df,6,7,8)\n",
    "Summer = getMonths(df,12,1,2)\n",
    "\n",
    "# group by weekday\n",
    "Aut = Autumn.groupby('WeekDay').agg({'Steps':'mean'}).reset_index()\n",
    "Win = Winter.groupby('WeekDay').agg({'Steps':'mean'}).reset_index()\n",
    "Sum = Summer.groupby('WeekDay').agg({'Steps':'mean'}).reset_index()"
   ]
  },
  {
   "cell_type": "markdown",
   "id": "6fd678b7",
   "metadata": {},
   "source": [
    "Now as an example, lets visualise Participant 8's average step count across the week for different seasons.\n",
    "\n",
    "_please first click on the drop down menu to select the graph_"
   ]
  },
  {
   "cell_type": "code",
   "execution_count": 119,
   "id": "f82e8b2e",
   "metadata": {
    "scrolled": false
   },
   "outputs": [
    {
     "ename": "ValueError",
     "evalue": "Mime type rendering requires nbformat>=4.2.0 but it is not installed",
     "output_type": "error",
     "traceback": [
      "\u001b[0;31m---------------------------------------------------------------------------\u001b[0m",
      "\u001b[0;31mValueError\u001b[0m                                Traceback (most recent call last)",
      "File \u001b[0;32m~/Library/Python/3.10/lib/python/site-packages/IPython/core/formatters.py:921\u001b[0m, in \u001b[0;36mIPythonDisplayFormatter.__call__\u001b[0;34m(self, obj)\u001b[0m\n\u001b[1;32m    919\u001b[0m method \u001b[39m=\u001b[39m get_real_method(obj, \u001b[39mself\u001b[39m\u001b[39m.\u001b[39mprint_method)\n\u001b[1;32m    920\u001b[0m \u001b[39mif\u001b[39;00m method \u001b[39mis\u001b[39;00m \u001b[39mnot\u001b[39;00m \u001b[39mNone\u001b[39;00m:\n\u001b[0;32m--> 921\u001b[0m     method()\n\u001b[1;32m    922\u001b[0m     \u001b[39mreturn\u001b[39;00m \u001b[39mTrue\u001b[39;00m\n",
      "File \u001b[0;32m/usr/local/lib/python3.10/site-packages/plotly/basedatatypes.py:842\u001b[0m, in \u001b[0;36mBaseFigure._ipython_display_\u001b[0;34m(self)\u001b[0m\n\u001b[1;32m    839\u001b[0m \u001b[39mimport\u001b[39;00m \u001b[39mplotly\u001b[39;00m\u001b[39m.\u001b[39;00m\u001b[39mio\u001b[39;00m \u001b[39mas\u001b[39;00m \u001b[39mpio\u001b[39;00m\n\u001b[1;32m    841\u001b[0m \u001b[39mif\u001b[39;00m pio\u001b[39m.\u001b[39mrenderers\u001b[39m.\u001b[39mrender_on_display \u001b[39mand\u001b[39;00m pio\u001b[39m.\u001b[39mrenderers\u001b[39m.\u001b[39mdefault:\n\u001b[0;32m--> 842\u001b[0m     pio\u001b[39m.\u001b[39;49mshow(\u001b[39mself\u001b[39;49m)\n\u001b[1;32m    843\u001b[0m \u001b[39melse\u001b[39;00m:\n\u001b[1;32m    844\u001b[0m     \u001b[39mprint\u001b[39m(\u001b[39mrepr\u001b[39m(\u001b[39mself\u001b[39m))\n",
      "File \u001b[0;32m/usr/local/lib/python3.10/site-packages/plotly/io/_renderers.py:396\u001b[0m, in \u001b[0;36mshow\u001b[0;34m(fig, renderer, validate, **kwargs)\u001b[0m\n\u001b[1;32m    391\u001b[0m         \u001b[39mraise\u001b[39;00m \u001b[39mValueError\u001b[39;00m(\n\u001b[1;32m    392\u001b[0m             \u001b[39m\"\u001b[39m\u001b[39mMime type rendering requires ipython but it is not installed\u001b[39m\u001b[39m\"\u001b[39m\n\u001b[1;32m    393\u001b[0m         )\n\u001b[1;32m    395\u001b[0m     \u001b[39mif\u001b[39;00m \u001b[39mnot\u001b[39;00m nbformat \u001b[39mor\u001b[39;00m LooseVersion(nbformat\u001b[39m.\u001b[39m__version__) \u001b[39m<\u001b[39m LooseVersion(\u001b[39m\"\u001b[39m\u001b[39m4.2.0\u001b[39m\u001b[39m\"\u001b[39m):\n\u001b[0;32m--> 396\u001b[0m         \u001b[39mraise\u001b[39;00m \u001b[39mValueError\u001b[39;00m(\n\u001b[1;32m    397\u001b[0m             \u001b[39m\"\u001b[39m\u001b[39mMime type rendering requires nbformat>=4.2.0 but it is not installed\u001b[39m\u001b[39m\"\u001b[39m\n\u001b[1;32m    398\u001b[0m         )\n\u001b[1;32m    400\u001b[0m     ipython_display\u001b[39m.\u001b[39mdisplay(bundle, raw\u001b[39m=\u001b[39m\u001b[39mTrue\u001b[39;00m)\n\u001b[1;32m    402\u001b[0m \u001b[39m# external renderers\u001b[39;00m\n",
      "\u001b[0;31mValueError\u001b[0m: Mime type rendering requires nbformat>=4.2.0 but it is not installed"
     ]
    },
    {
     "data": {
      "application/vnd.plotly.v1+json": {
       "config": {
        "plotlyServerURL": "https://plot.ly"
       },
       "data": [
        {
         "marker": {
          "color": "rgb(240, 90, 101)"
         },
         "name": "Summer",
         "type": "bar",
         "x": [
          "Monday",
          "Tuesday",
          "Wednesday",
          "Thursday",
          "Friday",
          "Saturday",
          "Sunday"
         ],
         "y": [
          7075.999999999999,
          7613.499999999998,
          8625.749999999998,
          7963.875,
          7502.625,
          8585.111111111111,
          7144.444444444443
         ]
        },
        {
         "marker": {
          "color": "rgb(250, 148, 34)"
         },
         "name": "Autumn",
         "type": "bar",
         "x": [
          "Monday",
          "Tuesday",
          "Wednesday",
          "Thursday",
          "Friday",
          "Saturday",
          "Sunday"
         ],
         "y": [
          8481.692307692309,
          8518.785714285714,
          9492.384615384613,
          9457.692307692309,
          8086.23076923077,
          9944.384615384613,
          8916.23076923077
         ]
        },
        {
         "marker": {
          "color": "rgb(83, 205, 241)"
         },
         "name": "Winter",
         "type": "bar",
         "x": [
          "Monday",
          "Tuesday",
          "Wednesday",
          "Thursday",
          "Friday",
          "Saturday",
          "Sunday"
         ],
         "y": [
          9611.615384615385,
          7959.230769230768,
          8712.285714285716,
          7329.2307692307695,
          7495.307692307693,
          9919.384615384615,
          9037.153846153844
         ]
        }
       ],
       "layout": {
        "bargap": 0.15,
        "bargroupgap": 0.1,
        "barmode": "group",
        "legend": {
         "bgcolor": "rgba(255, 255, 255, 0)",
         "bordercolor": "rgba(255, 255, 255, 0)",
         "x": 0,
         "y": 1
        },
        "template": {
         "data": {
          "bar": [
           {
            "error_x": {
             "color": "#2a3f5f"
            },
            "error_y": {
             "color": "#2a3f5f"
            },
            "marker": {
             "line": {
              "color": "#E5ECF6",
              "width": 0.5
             },
             "pattern": {
              "fillmode": "overlay",
              "size": 10,
              "solidity": 0.2
             }
            },
            "type": "bar"
           }
          ],
          "barpolar": [
           {
            "marker": {
             "line": {
              "color": "#E5ECF6",
              "width": 0.5
             },
             "pattern": {
              "fillmode": "overlay",
              "size": 10,
              "solidity": 0.2
             }
            },
            "type": "barpolar"
           }
          ],
          "carpet": [
           {
            "aaxis": {
             "endlinecolor": "#2a3f5f",
             "gridcolor": "white",
             "linecolor": "white",
             "minorgridcolor": "white",
             "startlinecolor": "#2a3f5f"
            },
            "baxis": {
             "endlinecolor": "#2a3f5f",
             "gridcolor": "white",
             "linecolor": "white",
             "minorgridcolor": "white",
             "startlinecolor": "#2a3f5f"
            },
            "type": "carpet"
           }
          ],
          "choropleth": [
           {
            "colorbar": {
             "outlinewidth": 0,
             "ticks": ""
            },
            "type": "choropleth"
           }
          ],
          "contour": [
           {
            "colorbar": {
             "outlinewidth": 0,
             "ticks": ""
            },
            "colorscale": [
             [
              0,
              "#0d0887"
             ],
             [
              0.1111111111111111,
              "#46039f"
             ],
             [
              0.2222222222222222,
              "#7201a8"
             ],
             [
              0.3333333333333333,
              "#9c179e"
             ],
             [
              0.4444444444444444,
              "#bd3786"
             ],
             [
              0.5555555555555556,
              "#d8576b"
             ],
             [
              0.6666666666666666,
              "#ed7953"
             ],
             [
              0.7777777777777778,
              "#fb9f3a"
             ],
             [
              0.8888888888888888,
              "#fdca26"
             ],
             [
              1,
              "#f0f921"
             ]
            ],
            "type": "contour"
           }
          ],
          "contourcarpet": [
           {
            "colorbar": {
             "outlinewidth": 0,
             "ticks": ""
            },
            "type": "contourcarpet"
           }
          ],
          "heatmap": [
           {
            "colorbar": {
             "outlinewidth": 0,
             "ticks": ""
            },
            "colorscale": [
             [
              0,
              "#0d0887"
             ],
             [
              0.1111111111111111,
              "#46039f"
             ],
             [
              0.2222222222222222,
              "#7201a8"
             ],
             [
              0.3333333333333333,
              "#9c179e"
             ],
             [
              0.4444444444444444,
              "#bd3786"
             ],
             [
              0.5555555555555556,
              "#d8576b"
             ],
             [
              0.6666666666666666,
              "#ed7953"
             ],
             [
              0.7777777777777778,
              "#fb9f3a"
             ],
             [
              0.8888888888888888,
              "#fdca26"
             ],
             [
              1,
              "#f0f921"
             ]
            ],
            "type": "heatmap"
           }
          ],
          "heatmapgl": [
           {
            "colorbar": {
             "outlinewidth": 0,
             "ticks": ""
            },
            "colorscale": [
             [
              0,
              "#0d0887"
             ],
             [
              0.1111111111111111,
              "#46039f"
             ],
             [
              0.2222222222222222,
              "#7201a8"
             ],
             [
              0.3333333333333333,
              "#9c179e"
             ],
             [
              0.4444444444444444,
              "#bd3786"
             ],
             [
              0.5555555555555556,
              "#d8576b"
             ],
             [
              0.6666666666666666,
              "#ed7953"
             ],
             [
              0.7777777777777778,
              "#fb9f3a"
             ],
             [
              0.8888888888888888,
              "#fdca26"
             ],
             [
              1,
              "#f0f921"
             ]
            ],
            "type": "heatmapgl"
           }
          ],
          "histogram": [
           {
            "marker": {
             "pattern": {
              "fillmode": "overlay",
              "size": 10,
              "solidity": 0.2
             }
            },
            "type": "histogram"
           }
          ],
          "histogram2d": [
           {
            "colorbar": {
             "outlinewidth": 0,
             "ticks": ""
            },
            "colorscale": [
             [
              0,
              "#0d0887"
             ],
             [
              0.1111111111111111,
              "#46039f"
             ],
             [
              0.2222222222222222,
              "#7201a8"
             ],
             [
              0.3333333333333333,
              "#9c179e"
             ],
             [
              0.4444444444444444,
              "#bd3786"
             ],
             [
              0.5555555555555556,
              "#d8576b"
             ],
             [
              0.6666666666666666,
              "#ed7953"
             ],
             [
              0.7777777777777778,
              "#fb9f3a"
             ],
             [
              0.8888888888888888,
              "#fdca26"
             ],
             [
              1,
              "#f0f921"
             ]
            ],
            "type": "histogram2d"
           }
          ],
          "histogram2dcontour": [
           {
            "colorbar": {
             "outlinewidth": 0,
             "ticks": ""
            },
            "colorscale": [
             [
              0,
              "#0d0887"
             ],
             [
              0.1111111111111111,
              "#46039f"
             ],
             [
              0.2222222222222222,
              "#7201a8"
             ],
             [
              0.3333333333333333,
              "#9c179e"
             ],
             [
              0.4444444444444444,
              "#bd3786"
             ],
             [
              0.5555555555555556,
              "#d8576b"
             ],
             [
              0.6666666666666666,
              "#ed7953"
             ],
             [
              0.7777777777777778,
              "#fb9f3a"
             ],
             [
              0.8888888888888888,
              "#fdca26"
             ],
             [
              1,
              "#f0f921"
             ]
            ],
            "type": "histogram2dcontour"
           }
          ],
          "mesh3d": [
           {
            "colorbar": {
             "outlinewidth": 0,
             "ticks": ""
            },
            "type": "mesh3d"
           }
          ],
          "parcoords": [
           {
            "line": {
             "colorbar": {
              "outlinewidth": 0,
              "ticks": ""
             }
            },
            "type": "parcoords"
           }
          ],
          "pie": [
           {
            "automargin": true,
            "type": "pie"
           }
          ],
          "scatter": [
           {
            "fillpattern": {
             "fillmode": "overlay",
             "size": 10,
             "solidity": 0.2
            },
            "type": "scatter"
           }
          ],
          "scatter3d": [
           {
            "line": {
             "colorbar": {
              "outlinewidth": 0,
              "ticks": ""
             }
            },
            "marker": {
             "colorbar": {
              "outlinewidth": 0,
              "ticks": ""
             }
            },
            "type": "scatter3d"
           }
          ],
          "scattercarpet": [
           {
            "marker": {
             "colorbar": {
              "outlinewidth": 0,
              "ticks": ""
             }
            },
            "type": "scattercarpet"
           }
          ],
          "scattergeo": [
           {
            "marker": {
             "colorbar": {
              "outlinewidth": 0,
              "ticks": ""
             }
            },
            "type": "scattergeo"
           }
          ],
          "scattergl": [
           {
            "marker": {
             "colorbar": {
              "outlinewidth": 0,
              "ticks": ""
             }
            },
            "type": "scattergl"
           }
          ],
          "scattermapbox": [
           {
            "marker": {
             "colorbar": {
              "outlinewidth": 0,
              "ticks": ""
             }
            },
            "type": "scattermapbox"
           }
          ],
          "scatterpolar": [
           {
            "marker": {
             "colorbar": {
              "outlinewidth": 0,
              "ticks": ""
             }
            },
            "type": "scatterpolar"
           }
          ],
          "scatterpolargl": [
           {
            "marker": {
             "colorbar": {
              "outlinewidth": 0,
              "ticks": ""
             }
            },
            "type": "scatterpolargl"
           }
          ],
          "scatterternary": [
           {
            "marker": {
             "colorbar": {
              "outlinewidth": 0,
              "ticks": ""
             }
            },
            "type": "scatterternary"
           }
          ],
          "surface": [
           {
            "colorbar": {
             "outlinewidth": 0,
             "ticks": ""
            },
            "colorscale": [
             [
              0,
              "#0d0887"
             ],
             [
              0.1111111111111111,
              "#46039f"
             ],
             [
              0.2222222222222222,
              "#7201a8"
             ],
             [
              0.3333333333333333,
              "#9c179e"
             ],
             [
              0.4444444444444444,
              "#bd3786"
             ],
             [
              0.5555555555555556,
              "#d8576b"
             ],
             [
              0.6666666666666666,
              "#ed7953"
             ],
             [
              0.7777777777777778,
              "#fb9f3a"
             ],
             [
              0.8888888888888888,
              "#fdca26"
             ],
             [
              1,
              "#f0f921"
             ]
            ],
            "type": "surface"
           }
          ],
          "table": [
           {
            "cells": {
             "fill": {
              "color": "#EBF0F8"
             },
             "line": {
              "color": "white"
             }
            },
            "header": {
             "fill": {
              "color": "#C8D4E3"
             },
             "line": {
              "color": "white"
             }
            },
            "type": "table"
           }
          ]
         },
         "layout": {
          "annotationdefaults": {
           "arrowcolor": "#2a3f5f",
           "arrowhead": 0,
           "arrowwidth": 1
          },
          "autotypenumbers": "strict",
          "coloraxis": {
           "colorbar": {
            "outlinewidth": 0,
            "ticks": ""
           }
          },
          "colorscale": {
           "diverging": [
            [
             0,
             "#8e0152"
            ],
            [
             0.1,
             "#c51b7d"
            ],
            [
             0.2,
             "#de77ae"
            ],
            [
             0.3,
             "#f1b6da"
            ],
            [
             0.4,
             "#fde0ef"
            ],
            [
             0.5,
             "#f7f7f7"
            ],
            [
             0.6,
             "#e6f5d0"
            ],
            [
             0.7,
             "#b8e186"
            ],
            [
             0.8,
             "#7fbc41"
            ],
            [
             0.9,
             "#4d9221"
            ],
            [
             1,
             "#276419"
            ]
           ],
           "sequential": [
            [
             0,
             "#0d0887"
            ],
            [
             0.1111111111111111,
             "#46039f"
            ],
            [
             0.2222222222222222,
             "#7201a8"
            ],
            [
             0.3333333333333333,
             "#9c179e"
            ],
            [
             0.4444444444444444,
             "#bd3786"
            ],
            [
             0.5555555555555556,
             "#d8576b"
            ],
            [
             0.6666666666666666,
             "#ed7953"
            ],
            [
             0.7777777777777778,
             "#fb9f3a"
            ],
            [
             0.8888888888888888,
             "#fdca26"
            ],
            [
             1,
             "#f0f921"
            ]
           ],
           "sequentialminus": [
            [
             0,
             "#0d0887"
            ],
            [
             0.1111111111111111,
             "#46039f"
            ],
            [
             0.2222222222222222,
             "#7201a8"
            ],
            [
             0.3333333333333333,
             "#9c179e"
            ],
            [
             0.4444444444444444,
             "#bd3786"
            ],
            [
             0.5555555555555556,
             "#d8576b"
            ],
            [
             0.6666666666666666,
             "#ed7953"
            ],
            [
             0.7777777777777778,
             "#fb9f3a"
            ],
            [
             0.8888888888888888,
             "#fdca26"
            ],
            [
             1,
             "#f0f921"
            ]
           ]
          },
          "colorway": [
           "#636efa",
           "#EF553B",
           "#00cc96",
           "#ab63fa",
           "#FFA15A",
           "#19d3f3",
           "#FF6692",
           "#B6E880",
           "#FF97FF",
           "#FECB52"
          ],
          "font": {
           "color": "#2a3f5f"
          },
          "geo": {
           "bgcolor": "white",
           "lakecolor": "white",
           "landcolor": "#E5ECF6",
           "showlakes": true,
           "showland": true,
           "subunitcolor": "white"
          },
          "hoverlabel": {
           "align": "left"
          },
          "hovermode": "closest",
          "mapbox": {
           "style": "light"
          },
          "paper_bgcolor": "white",
          "plot_bgcolor": "#E5ECF6",
          "polar": {
           "angularaxis": {
            "gridcolor": "white",
            "linecolor": "white",
            "ticks": ""
           },
           "bgcolor": "#E5ECF6",
           "radialaxis": {
            "gridcolor": "white",
            "linecolor": "white",
            "ticks": ""
           }
          },
          "scene": {
           "xaxis": {
            "backgroundcolor": "#E5ECF6",
            "gridcolor": "white",
            "gridwidth": 2,
            "linecolor": "white",
            "showbackground": true,
            "ticks": "",
            "zerolinecolor": "white"
           },
           "yaxis": {
            "backgroundcolor": "#E5ECF6",
            "gridcolor": "white",
            "gridwidth": 2,
            "linecolor": "white",
            "showbackground": true,
            "ticks": "",
            "zerolinecolor": "white"
           },
           "zaxis": {
            "backgroundcolor": "#E5ECF6",
            "gridcolor": "white",
            "gridwidth": 2,
            "linecolor": "white",
            "showbackground": true,
            "ticks": "",
            "zerolinecolor": "white"
           }
          },
          "shapedefaults": {
           "line": {
            "color": "#2a3f5f"
           }
          },
          "ternary": {
           "aaxis": {
            "gridcolor": "white",
            "linecolor": "white",
            "ticks": ""
           },
           "baxis": {
            "gridcolor": "white",
            "linecolor": "white",
            "ticks": ""
           },
           "bgcolor": "#E5ECF6",
           "caxis": {
            "gridcolor": "white",
            "linecolor": "white",
            "ticks": ""
           }
          },
          "title": {
           "x": 0.05
          },
          "xaxis": {
           "automargin": true,
           "gridcolor": "white",
           "linecolor": "white",
           "ticks": "",
           "title": {
            "standoff": 15
           },
           "zerolinecolor": "white",
           "zerolinewidth": 2
          },
          "yaxis": {
           "automargin": true,
           "gridcolor": "white",
           "linecolor": "white",
           "ticks": "",
           "title": {
            "standoff": 15
           },
           "zerolinecolor": "white",
           "zerolinewidth": 2
          }
         }
        },
        "title": {
         "x": 0.5
        },
        "updatemenus": [
         {
          "active": 0,
          "buttons": [
           {
            "args": [
             {
              "visible": [
               true,
               true,
               true
              ]
             },
             {
              "title": "Average step count of days of the week over in different seasons",
              "xaxis": {
               "title": "Day of the Week"
              },
              "yaxis": {
               "title": "Average Step Count"
              }
             }
            ],
            "label": "Seasons",
            "method": "update"
           },
           {
            "args": [
             {
              "visible": [
               true,
               false,
               false
              ]
             },
             {
              "title": "Average step count of days of the week over in Summer",
              "xaxis": {
               "title": "Day of the Week"
              },
              "yaxis": {
               "title": "Average Step Count"
              }
             }
            ],
            "label": "Summer",
            "method": "update"
           },
           {
            "args": [
             {
              "visible": [
               false,
               true,
               false
              ]
             },
             {
              "title": "Average step count of days of the week over in Autumn",
              "xaxis": {
               "title": "Day of the Week"
              },
              "yaxis": {
               "title": "Average Step Count"
              }
             }
            ],
            "label": "Autumn",
            "method": "update"
           },
           {
            "args": [
             {
              "visible": [
               false,
               false,
               true
              ]
             },
             {
              "title": "Average step count of days of the week over in Winter",
              "xaxis": {
               "title": "Day of the Week"
              },
              "yaxis": {
               "title": "Average Step Count"
              }
             }
            ],
            "label": "Winter",
            "method": "update"
           }
          ]
         }
        ]
       }
      },
      "text/html": [
       "<div>                        <script type=\"text/javascript\">window.PlotlyConfig = {MathJaxConfig: 'local'};</script>\n",
       "        <script src=\"https://cdn.plot.ly/plotly-2.16.1.min.js\"></script>                <div id=\"9201e8cc-8dcd-4558-aa69-5c00a742abd3\" class=\"plotly-graph-div\" style=\"height:100%; width:100%;\"></div>            <script type=\"text/javascript\">                                    window.PLOTLYENV=window.PLOTLYENV || {};                                    if (document.getElementById(\"9201e8cc-8dcd-4558-aa69-5c00a742abd3\")) {                    Plotly.newPlot(                        \"9201e8cc-8dcd-4558-aa69-5c00a742abd3\",                        [{\"marker\":{\"color\":\"rgb(240, 90, 101)\"},\"name\":\"Summer\",\"x\":[\"Monday\",\"Tuesday\",\"Wednesday\",\"Thursday\",\"Friday\",\"Saturday\",\"Sunday\"],\"y\":[7075.999999999999,7613.499999999998,8625.749999999998,7963.875,7502.625,8585.111111111111,7144.444444444443],\"type\":\"bar\"},{\"marker\":{\"color\":\"rgb(250, 148, 34)\"},\"name\":\"Autumn\",\"x\":[\"Monday\",\"Tuesday\",\"Wednesday\",\"Thursday\",\"Friday\",\"Saturday\",\"Sunday\"],\"y\":[8481.692307692309,8518.785714285714,9492.384615384613,9457.692307692309,8086.23076923077,9944.384615384613,8916.23076923077],\"type\":\"bar\"},{\"marker\":{\"color\":\"rgb(83, 205, 241)\"},\"name\":\"Winter\",\"x\":[\"Monday\",\"Tuesday\",\"Wednesday\",\"Thursday\",\"Friday\",\"Saturday\",\"Sunday\"],\"y\":[9611.615384615385,7959.230769230768,8712.285714285716,7329.2307692307695,7495.307692307693,9919.384615384615,9037.153846153844],\"type\":\"bar\"}],                        {\"template\":{\"data\":{\"histogram2dcontour\":[{\"type\":\"histogram2dcontour\",\"colorbar\":{\"outlinewidth\":0,\"ticks\":\"\"},\"colorscale\":[[0.0,\"#0d0887\"],[0.1111111111111111,\"#46039f\"],[0.2222222222222222,\"#7201a8\"],[0.3333333333333333,\"#9c179e\"],[0.4444444444444444,\"#bd3786\"],[0.5555555555555556,\"#d8576b\"],[0.6666666666666666,\"#ed7953\"],[0.7777777777777778,\"#fb9f3a\"],[0.8888888888888888,\"#fdca26\"],[1.0,\"#f0f921\"]]}],\"choropleth\":[{\"type\":\"choropleth\",\"colorbar\":{\"outlinewidth\":0,\"ticks\":\"\"}}],\"histogram2d\":[{\"type\":\"histogram2d\",\"colorbar\":{\"outlinewidth\":0,\"ticks\":\"\"},\"colorscale\":[[0.0,\"#0d0887\"],[0.1111111111111111,\"#46039f\"],[0.2222222222222222,\"#7201a8\"],[0.3333333333333333,\"#9c179e\"],[0.4444444444444444,\"#bd3786\"],[0.5555555555555556,\"#d8576b\"],[0.6666666666666666,\"#ed7953\"],[0.7777777777777778,\"#fb9f3a\"],[0.8888888888888888,\"#fdca26\"],[1.0,\"#f0f921\"]]}],\"heatmap\":[{\"type\":\"heatmap\",\"colorbar\":{\"outlinewidth\":0,\"ticks\":\"\"},\"colorscale\":[[0.0,\"#0d0887\"],[0.1111111111111111,\"#46039f\"],[0.2222222222222222,\"#7201a8\"],[0.3333333333333333,\"#9c179e\"],[0.4444444444444444,\"#bd3786\"],[0.5555555555555556,\"#d8576b\"],[0.6666666666666666,\"#ed7953\"],[0.7777777777777778,\"#fb9f3a\"],[0.8888888888888888,\"#fdca26\"],[1.0,\"#f0f921\"]]}],\"heatmapgl\":[{\"type\":\"heatmapgl\",\"colorbar\":{\"outlinewidth\":0,\"ticks\":\"\"},\"colorscale\":[[0.0,\"#0d0887\"],[0.1111111111111111,\"#46039f\"],[0.2222222222222222,\"#7201a8\"],[0.3333333333333333,\"#9c179e\"],[0.4444444444444444,\"#bd3786\"],[0.5555555555555556,\"#d8576b\"],[0.6666666666666666,\"#ed7953\"],[0.7777777777777778,\"#fb9f3a\"],[0.8888888888888888,\"#fdca26\"],[1.0,\"#f0f921\"]]}],\"contourcarpet\":[{\"type\":\"contourcarpet\",\"colorbar\":{\"outlinewidth\":0,\"ticks\":\"\"}}],\"contour\":[{\"type\":\"contour\",\"colorbar\":{\"outlinewidth\":0,\"ticks\":\"\"},\"colorscale\":[[0.0,\"#0d0887\"],[0.1111111111111111,\"#46039f\"],[0.2222222222222222,\"#7201a8\"],[0.3333333333333333,\"#9c179e\"],[0.4444444444444444,\"#bd3786\"],[0.5555555555555556,\"#d8576b\"],[0.6666666666666666,\"#ed7953\"],[0.7777777777777778,\"#fb9f3a\"],[0.8888888888888888,\"#fdca26\"],[1.0,\"#f0f921\"]]}],\"surface\":[{\"type\":\"surface\",\"colorbar\":{\"outlinewidth\":0,\"ticks\":\"\"},\"colorscale\":[[0.0,\"#0d0887\"],[0.1111111111111111,\"#46039f\"],[0.2222222222222222,\"#7201a8\"],[0.3333333333333333,\"#9c179e\"],[0.4444444444444444,\"#bd3786\"],[0.5555555555555556,\"#d8576b\"],[0.6666666666666666,\"#ed7953\"],[0.7777777777777778,\"#fb9f3a\"],[0.8888888888888888,\"#fdca26\"],[1.0,\"#f0f921\"]]}],\"mesh3d\":[{\"type\":\"mesh3d\",\"colorbar\":{\"outlinewidth\":0,\"ticks\":\"\"}}],\"scatter\":[{\"fillpattern\":{\"fillmode\":\"overlay\",\"size\":10,\"solidity\":0.2},\"type\":\"scatter\"}],\"parcoords\":[{\"type\":\"parcoords\",\"line\":{\"colorbar\":{\"outlinewidth\":0,\"ticks\":\"\"}}}],\"scatterpolargl\":[{\"type\":\"scatterpolargl\",\"marker\":{\"colorbar\":{\"outlinewidth\":0,\"ticks\":\"\"}}}],\"bar\":[{\"error_x\":{\"color\":\"#2a3f5f\"},\"error_y\":{\"color\":\"#2a3f5f\"},\"marker\":{\"line\":{\"color\":\"#E5ECF6\",\"width\":0.5},\"pattern\":{\"fillmode\":\"overlay\",\"size\":10,\"solidity\":0.2}},\"type\":\"bar\"}],\"scattergeo\":[{\"type\":\"scattergeo\",\"marker\":{\"colorbar\":{\"outlinewidth\":0,\"ticks\":\"\"}}}],\"scatterpolar\":[{\"type\":\"scatterpolar\",\"marker\":{\"colorbar\":{\"outlinewidth\":0,\"ticks\":\"\"}}}],\"histogram\":[{\"marker\":{\"pattern\":{\"fillmode\":\"overlay\",\"size\":10,\"solidity\":0.2}},\"type\":\"histogram\"}],\"scattergl\":[{\"type\":\"scattergl\",\"marker\":{\"colorbar\":{\"outlinewidth\":0,\"ticks\":\"\"}}}],\"scatter3d\":[{\"type\":\"scatter3d\",\"line\":{\"colorbar\":{\"outlinewidth\":0,\"ticks\":\"\"}},\"marker\":{\"colorbar\":{\"outlinewidth\":0,\"ticks\":\"\"}}}],\"scattermapbox\":[{\"type\":\"scattermapbox\",\"marker\":{\"colorbar\":{\"outlinewidth\":0,\"ticks\":\"\"}}}],\"scatterternary\":[{\"type\":\"scatterternary\",\"marker\":{\"colorbar\":{\"outlinewidth\":0,\"ticks\":\"\"}}}],\"scattercarpet\":[{\"type\":\"scattercarpet\",\"marker\":{\"colorbar\":{\"outlinewidth\":0,\"ticks\":\"\"}}}],\"carpet\":[{\"aaxis\":{\"endlinecolor\":\"#2a3f5f\",\"gridcolor\":\"white\",\"linecolor\":\"white\",\"minorgridcolor\":\"white\",\"startlinecolor\":\"#2a3f5f\"},\"baxis\":{\"endlinecolor\":\"#2a3f5f\",\"gridcolor\":\"white\",\"linecolor\":\"white\",\"minorgridcolor\":\"white\",\"startlinecolor\":\"#2a3f5f\"},\"type\":\"carpet\"}],\"table\":[{\"cells\":{\"fill\":{\"color\":\"#EBF0F8\"},\"line\":{\"color\":\"white\"}},\"header\":{\"fill\":{\"color\":\"#C8D4E3\"},\"line\":{\"color\":\"white\"}},\"type\":\"table\"}],\"barpolar\":[{\"marker\":{\"line\":{\"color\":\"#E5ECF6\",\"width\":0.5},\"pattern\":{\"fillmode\":\"overlay\",\"size\":10,\"solidity\":0.2}},\"type\":\"barpolar\"}],\"pie\":[{\"automargin\":true,\"type\":\"pie\"}]},\"layout\":{\"autotypenumbers\":\"strict\",\"colorway\":[\"#636efa\",\"#EF553B\",\"#00cc96\",\"#ab63fa\",\"#FFA15A\",\"#19d3f3\",\"#FF6692\",\"#B6E880\",\"#FF97FF\",\"#FECB52\"],\"font\":{\"color\":\"#2a3f5f\"},\"hovermode\":\"closest\",\"hoverlabel\":{\"align\":\"left\"},\"paper_bgcolor\":\"white\",\"plot_bgcolor\":\"#E5ECF6\",\"polar\":{\"bgcolor\":\"#E5ECF6\",\"angularaxis\":{\"gridcolor\":\"white\",\"linecolor\":\"white\",\"ticks\":\"\"},\"radialaxis\":{\"gridcolor\":\"white\",\"linecolor\":\"white\",\"ticks\":\"\"}},\"ternary\":{\"bgcolor\":\"#E5ECF6\",\"aaxis\":{\"gridcolor\":\"white\",\"linecolor\":\"white\",\"ticks\":\"\"},\"baxis\":{\"gridcolor\":\"white\",\"linecolor\":\"white\",\"ticks\":\"\"},\"caxis\":{\"gridcolor\":\"white\",\"linecolor\":\"white\",\"ticks\":\"\"}},\"coloraxis\":{\"colorbar\":{\"outlinewidth\":0,\"ticks\":\"\"}},\"colorscale\":{\"sequential\":[[0.0,\"#0d0887\"],[0.1111111111111111,\"#46039f\"],[0.2222222222222222,\"#7201a8\"],[0.3333333333333333,\"#9c179e\"],[0.4444444444444444,\"#bd3786\"],[0.5555555555555556,\"#d8576b\"],[0.6666666666666666,\"#ed7953\"],[0.7777777777777778,\"#fb9f3a\"],[0.8888888888888888,\"#fdca26\"],[1.0,\"#f0f921\"]],\"sequentialminus\":[[0.0,\"#0d0887\"],[0.1111111111111111,\"#46039f\"],[0.2222222222222222,\"#7201a8\"],[0.3333333333333333,\"#9c179e\"],[0.4444444444444444,\"#bd3786\"],[0.5555555555555556,\"#d8576b\"],[0.6666666666666666,\"#ed7953\"],[0.7777777777777778,\"#fb9f3a\"],[0.8888888888888888,\"#fdca26\"],[1.0,\"#f0f921\"]],\"diverging\":[[0,\"#8e0152\"],[0.1,\"#c51b7d\"],[0.2,\"#de77ae\"],[0.3,\"#f1b6da\"],[0.4,\"#fde0ef\"],[0.5,\"#f7f7f7\"],[0.6,\"#e6f5d0\"],[0.7,\"#b8e186\"],[0.8,\"#7fbc41\"],[0.9,\"#4d9221\"],[1,\"#276419\"]]},\"xaxis\":{\"gridcolor\":\"white\",\"linecolor\":\"white\",\"ticks\":\"\",\"title\":{\"standoff\":15},\"zerolinecolor\":\"white\",\"automargin\":true,\"zerolinewidth\":2},\"yaxis\":{\"gridcolor\":\"white\",\"linecolor\":\"white\",\"ticks\":\"\",\"title\":{\"standoff\":15},\"zerolinecolor\":\"white\",\"automargin\":true,\"zerolinewidth\":2},\"scene\":{\"xaxis\":{\"backgroundcolor\":\"#E5ECF6\",\"gridcolor\":\"white\",\"linecolor\":\"white\",\"showbackground\":true,\"ticks\":\"\",\"zerolinecolor\":\"white\",\"gridwidth\":2},\"yaxis\":{\"backgroundcolor\":\"#E5ECF6\",\"gridcolor\":\"white\",\"linecolor\":\"white\",\"showbackground\":true,\"ticks\":\"\",\"zerolinecolor\":\"white\",\"gridwidth\":2},\"zaxis\":{\"backgroundcolor\":\"#E5ECF6\",\"gridcolor\":\"white\",\"linecolor\":\"white\",\"showbackground\":true,\"ticks\":\"\",\"zerolinecolor\":\"white\",\"gridwidth\":2}},\"shapedefaults\":{\"line\":{\"color\":\"#2a3f5f\"}},\"annotationdefaults\":{\"arrowcolor\":\"#2a3f5f\",\"arrowhead\":0,\"arrowwidth\":1},\"geo\":{\"bgcolor\":\"white\",\"landcolor\":\"#E5ECF6\",\"subunitcolor\":\"white\",\"showland\":true,\"showlakes\":true,\"lakecolor\":\"white\"},\"title\":{\"x\":0.05},\"mapbox\":{\"style\":\"light\"}}},\"updatemenus\":[{\"active\":0,\"buttons\":[{\"args\":[{\"visible\":[true,true,true]},{\"title\":\"Average step count of days of the week over in different seasons\",\"xaxis\":{\"title\":\"Day of the Week\"},\"yaxis\":{\"title\":\"Average Step Count\"}}],\"label\":\"Seasons\",\"method\":\"update\"},{\"args\":[{\"visible\":[true,false,false]},{\"title\":\"Average step count of days of the week over in Summer\",\"xaxis\":{\"title\":\"Day of the Week\"},\"yaxis\":{\"title\":\"Average Step Count\"}}],\"label\":\"Summer\",\"method\":\"update\"},{\"args\":[{\"visible\":[false,true,false]},{\"title\":\"Average step count of days of the week over in Autumn\",\"xaxis\":{\"title\":\"Day of the Week\"},\"yaxis\":{\"title\":\"Average Step Count\"}}],\"label\":\"Autumn\",\"method\":\"update\"},{\"args\":[{\"visible\":[false,false,true]},{\"title\":\"Average step count of days of the week over in Winter\",\"xaxis\":{\"title\":\"Day of the Week\"},\"yaxis\":{\"title\":\"Average Step Count\"}}],\"label\":\"Winter\",\"method\":\"update\"}]}],\"title\":{\"x\":0.5},\"legend\":{\"x\":0,\"y\":1.0,\"bgcolor\":\"rgba(255, 255, 255, 0)\",\"bordercolor\":\"rgba(255, 255, 255, 0)\"},\"barmode\":\"group\",\"bargap\":0.15,\"bargroupgap\":0.1},                        {\"responsive\": true}                    )                };                            </script>        </div>"
      ],
      "text/plain": [
       "Figure({\n",
       "    'data': [{'marker': {'color': 'rgb(240, 90, 101)'},\n",
       "              'name': 'Summer',\n",
       "              'type': 'bar',\n",
       "              'x': array(['Monday', 'Tuesday', 'Wednesday', 'Thursday', 'Friday', 'Saturday',\n",
       "                          'Sunday'], dtype=object),\n",
       "              'y': array([7076.        , 7613.5       , 8625.75      , 7963.875     ,\n",
       "                          7502.625     , 8585.11111111, 7144.44444444])},\n",
       "             {'marker': {'color': 'rgb(250, 148, 34)'},\n",
       "              'name': 'Autumn',\n",
       "              'type': 'bar',\n",
       "              'x': array(['Monday', 'Tuesday', 'Wednesday', 'Thursday', 'Friday', 'Saturday',\n",
       "                          'Sunday'], dtype=object),\n",
       "              'y': array([8481.69230769, 8518.78571429, 9492.38461538, 9457.69230769,\n",
       "                          8086.23076923, 9944.38461538, 8916.23076923])},\n",
       "             {'marker': {'color': 'rgb(83, 205, 241)'},\n",
       "              'name': 'Winter',\n",
       "              'type': 'bar',\n",
       "              'x': array(['Monday', 'Tuesday', 'Wednesday', 'Thursday', 'Friday', 'Saturday',\n",
       "                          'Sunday'], dtype=object),\n",
       "              'y': array([9611.61538462, 7959.23076923, 8712.28571429, 7329.23076923,\n",
       "                          7495.30769231, 9919.38461538, 9037.15384615])}],\n",
       "    'layout': {'bargap': 0.15,\n",
       "               'bargroupgap': 0.1,\n",
       "               'barmode': 'group',\n",
       "               'legend': {'bgcolor': 'rgba(255, 255, 255, 0)', 'bordercolor': 'rgba(255, 255, 255, 0)', 'x': 0, 'y': 1.0},\n",
       "               'template': '...',\n",
       "               'title': {'x': 0.5},\n",
       "               'updatemenus': [{'active': 0,\n",
       "                                'buttons': [{'args': [{'visible': [True, True, True]},\n",
       "                                                      {'title': 'Average step count of days of the week over in different seasons',\n",
       "                                                       'xaxis': {'title': 'Day of the Week'},\n",
       "                                                       'yaxis': {'title': 'Average Step Count'}}],\n",
       "                                             'label': 'Seasons',\n",
       "                                             'method': 'update'},\n",
       "                                            {'args': [{'visible': [True, False, False]},\n",
       "                                                      {'title': 'Average step count of days of the week over in Summer',\n",
       "                                                       'xaxis': {'title': 'Day of the Week'},\n",
       "                                                       'yaxis': {'title': 'Average Step Count'}}],\n",
       "                                             'label': 'Summer',\n",
       "                                             'method': 'update'},\n",
       "                                            {'args': [{'visible': [False, True, False]},\n",
       "                                                      {'title': 'Average step count of days of the week over in Autumn',\n",
       "                                                       'xaxis': {'title': 'Day of the Week'},\n",
       "                                                       'yaxis': {'title': 'Average Step Count'}}],\n",
       "                                             'label': 'Autumn',\n",
       "                                             'method': 'update'},\n",
       "                                            {'args': [{'visible': [False, False, True]},\n",
       "                                                      {'title': 'Average step count of days of the week over in Winter',\n",
       "                                                       'xaxis': {'title': 'Day of the Week'},\n",
       "                                                       'yaxis': {'title': 'Average Step Count'}}],\n",
       "                                             'label': 'Winter',\n",
       "                                             'method': 'update'}]}]}\n",
       "})"
      ]
     },
     "execution_count": 119,
     "metadata": {},
     "output_type": "execute_result"
    }
   ],
   "source": [
    "# Author: Emily\n",
    "# Last Modified: 31/10/2022\n",
    "# This is an interactive graph allows you to compares the seasons but also each season by it self. Able to analyse the trends separately\n",
    "# THIS CODE BLOCK DOES NOT NEED TO BE CHANGED when switching participants!!! Just rerun this block!\n",
    "# Initialize figure\n",
    "fig = go.Figure()\n",
    "\n",
    "# Add Traces which are basically the layers for the graph, set colours to colours that are typically associated with each season\n",
    "fig.add_trace(\n",
    "    go.Bar(name='Summer', x=Sum[\"WeekDay\"], y=Sum['Steps'],marker_color='rgb(240, 90, 101)'))\n",
    "\n",
    "fig.add_trace(\n",
    "    go.Bar(name='Autumn', x=Aut[\"WeekDay\"], y=Aut['Steps'],marker_color='rgb(250, 148, 34)'))\n",
    "\n",
    "fig.add_trace(\n",
    "    go.Bar(name='Winter', x=Win[\"WeekDay\"], y=Win['Steps'],marker_color='rgb(83, 205, 241)'))\n",
    "\n",
    "# put the traces together with a drop down menu, along with title, x-axis label, y-axis label\n",
    "fig.update_layout(\n",
    "    updatemenus=[\n",
    "        dict(\n",
    "            active=0,\n",
    "            buttons=list([\n",
    "                dict(label=\"Seasons\",\n",
    "                     method=\"update\",\n",
    "                     args=[{\"visible\": [True, True, True]},\n",
    "                           {\"title\": \"Average step count of days of the week over in different seasons\",\n",
    "                           'xaxis': {'title': 'Day of the Week'},\n",
    "                          'yaxis': {'title': 'Average Step Count'}}]),\n",
    "                dict(label=\"Summer\",\n",
    "                     method=\"update\",\n",
    "                     args=[{\"visible\": [True, False, False]},\n",
    "                           {\"title\": \"Average step count of days of the week over in Summer\",\n",
    "                           'xaxis': {'title': 'Day of the Week'},\n",
    "                          'yaxis': {'title': 'Average Step Count'}}]),\n",
    "                dict(label=\"Autumn\",\n",
    "                     method=\"update\",\n",
    "                     args=[{\"visible\": [False, True, False]},\n",
    "                           {\"title\": \"Average step count of days of the week over in Autumn\",\n",
    "                           'xaxis': {'title': 'Day of the Week'},\n",
    "                          'yaxis': {'title': 'Average Step Count'}}]),\n",
    "                dict(label=\"Winter\",\n",
    "                     method=\"update\",\n",
    "                     args=[{\"visible\": [False,False, True]},\n",
    "                           {\"title\": \"Average step count of days of the week over in Winter\",\n",
    "                           'xaxis': {'title': 'Day of the Week'},\n",
    "                          'yaxis': {'title': 'Average Step Count'}}])\n",
    "                \n",
    "                \n",
    "            ]),\n",
    "        )\n",
    "    ])\n",
    "\n",
    "# Update the positioning of title and gap between bars.\n",
    "fig.update_layout(\n",
    "    title_x=0.5,\n",
    "    \n",
    "        legend=dict(\n",
    "            x=0,\n",
    "            y=1.0,\n",
    "            bgcolor='rgba(255, 255, 255, 0)',\n",
    "            bordercolor='rgba(255, 255, 255, 0)'\n",
    "        ),\n",
    "        barmode='group',\n",
    "        bargap=0.15, # gap between bars of adjacent location coordinates.\n",
    "        bargroupgap=0.1 # gap between bars of the same location coordinate.\n",
    "    )\n"
   ]
  },
  {
   "cell_type": "markdown",
   "id": "ac7412ef",
   "metadata": {},
   "source": [
    "We can see that the assumption for participants being most active in the summer is not applicable to this participant as for everyday across the week, it can be observed that Summer has the lowest steps in comparision to Autumn and Winter. Autumn seems to be the season where the steps counts are highest for this participant. Looking at each season separately, we can see this participant has higher step counts on Saturdays.\n",
    "\n",
    "\n",
    "Now taking a look at the median step count for each day of the week in each season:"
   ]
  },
  {
   "cell_type": "code",
   "execution_count": 120,
   "id": "c92e179b",
   "metadata": {},
   "outputs": [
    {
     "data": {
      "text/html": [
       "<th style=\"text-align:center\"><td style=\"vertical-align:top\"><h2 style=\"text-align: center;\">Autumn</h2><table style=\"display:inline\" border=\"1\" class=\"dataframe\">\n",
       "  <thead>\n",
       "    <tr style=\"text-align: right;\">\n",
       "      <th></th>\n",
       "      <th>WeekDay</th>\n",
       "      <th>Steps</th>\n",
       "    </tr>\n",
       "  </thead>\n",
       "  <tbody>\n",
       "    <tr>\n",
       "      <th>0</th>\n",
       "      <td>Monday</td>\n",
       "      <td>8360.0</td>\n",
       "    </tr>\n",
       "    <tr>\n",
       "      <th>1</th>\n",
       "      <td>Tuesday</td>\n",
       "      <td>9139.0</td>\n",
       "    </tr>\n",
       "    <tr>\n",
       "      <th>2</th>\n",
       "      <td>Wednesday</td>\n",
       "      <td>9555.0</td>\n",
       "    </tr>\n",
       "    <tr>\n",
       "      <th>3</th>\n",
       "      <td>Thursday</td>\n",
       "      <td>10269.0</td>\n",
       "    </tr>\n",
       "    <tr>\n",
       "      <th>4</th>\n",
       "      <td>Friday</td>\n",
       "      <td>6662.0</td>\n",
       "    </tr>\n",
       "    <tr>\n",
       "      <th>5</th>\n",
       "      <td>Saturday</td>\n",
       "      <td>10278.0</td>\n",
       "    </tr>\n",
       "    <tr>\n",
       "      <th>6</th>\n",
       "      <td>Sunday</td>\n",
       "      <td>9720.0</td>\n",
       "    </tr>\n",
       "  </tbody>\n",
       "</table style=\"display:inline\"></td></th><th style=\"text-align:center\"><td style=\"vertical-align:top\"><h2 style=\"text-align: center;\">Winter</h2><table style=\"display:inline\" border=\"1\" class=\"dataframe\">\n",
       "  <thead>\n",
       "    <tr style=\"text-align: right;\">\n",
       "      <th></th>\n",
       "      <th>WeekDay</th>\n",
       "      <th>Steps</th>\n",
       "    </tr>\n",
       "  </thead>\n",
       "  <tbody>\n",
       "    <tr>\n",
       "      <th>0</th>\n",
       "      <td>Monday</td>\n",
       "      <td>9541.0</td>\n",
       "    </tr>\n",
       "    <tr>\n",
       "      <th>1</th>\n",
       "      <td>Tuesday</td>\n",
       "      <td>8245.0</td>\n",
       "    </tr>\n",
       "    <tr>\n",
       "      <th>2</th>\n",
       "      <td>Wednesday</td>\n",
       "      <td>8137.5</td>\n",
       "    </tr>\n",
       "    <tr>\n",
       "      <th>3</th>\n",
       "      <td>Thursday</td>\n",
       "      <td>7513.0</td>\n",
       "    </tr>\n",
       "    <tr>\n",
       "      <th>4</th>\n",
       "      <td>Friday</td>\n",
       "      <td>6927.0</td>\n",
       "    </tr>\n",
       "    <tr>\n",
       "      <th>5</th>\n",
       "      <td>Saturday</td>\n",
       "      <td>10084.0</td>\n",
       "    </tr>\n",
       "    <tr>\n",
       "      <th>6</th>\n",
       "      <td>Sunday</td>\n",
       "      <td>9165.0</td>\n",
       "    </tr>\n",
       "  </tbody>\n",
       "</table style=\"display:inline\"></td></th><th style=\"text-align:center\"><td style=\"vertical-align:top\"><h2 style=\"text-align: center;\">Summer</h2><table style=\"display:inline\" border=\"1\" class=\"dataframe\">\n",
       "  <thead>\n",
       "    <tr style=\"text-align: right;\">\n",
       "      <th></th>\n",
       "      <th>WeekDay</th>\n",
       "      <th>Steps</th>\n",
       "    </tr>\n",
       "  </thead>\n",
       "  <tbody>\n",
       "    <tr>\n",
       "      <th>0</th>\n",
       "      <td>Monday</td>\n",
       "      <td>6462.0</td>\n",
       "    </tr>\n",
       "    <tr>\n",
       "      <th>1</th>\n",
       "      <td>Tuesday</td>\n",
       "      <td>8465.5</td>\n",
       "    </tr>\n",
       "    <tr>\n",
       "      <th>2</th>\n",
       "      <td>Wednesday</td>\n",
       "      <td>8712.5</td>\n",
       "    </tr>\n",
       "    <tr>\n",
       "      <th>3</th>\n",
       "      <td>Thursday</td>\n",
       "      <td>8304.5</td>\n",
       "    </tr>\n",
       "    <tr>\n",
       "      <th>4</th>\n",
       "      <td>Friday</td>\n",
       "      <td>7516.5</td>\n",
       "    </tr>\n",
       "    <tr>\n",
       "      <th>5</th>\n",
       "      <td>Saturday</td>\n",
       "      <td>8100.0</td>\n",
       "    </tr>\n",
       "    <tr>\n",
       "      <th>6</th>\n",
       "      <td>Sunday</td>\n",
       "      <td>7635.0</td>\n",
       "    </tr>\n",
       "  </tbody>\n",
       "</table style=\"display:inline\"></td></th>"
      ]
     },
     "metadata": {},
     "output_type": "display_data"
    }
   ],
   "source": [
    "\n",
    "# group by weekday, with median step count\n",
    "x = Autumn.groupby('WeekDay').agg({'Steps':'median'}).reset_index()\n",
    "y= Winter.groupby('WeekDay').agg({'Steps':'median'}).reset_index()\n",
    "z= Summer.groupby('WeekDay').agg({'Steps':'median'}).reset_index()\n",
    "\n",
    "# Author credit to ntg on stack exchange (https://stackoverflow.com/questions/38783027/jupyter-notebook-display-two-pandas-tables-side-by-side)\n",
    "# Function that places output tables side by side\n",
    "def display_side_by_side(*args,titles=cycle([''])):\n",
    "    html_str=''\n",
    "    for df,title in zip(args, chain(titles,cycle(['</br>'])) ):\n",
    "        html_str+='<th style=\"text-align:center\"><td style=\"vertical-align:top\">'\n",
    "        html_str+=f'<h2 style=\"text-align: center;\">{title}</h2>'\n",
    "        html_str+=df.to_html().replace('table','table style=\"display:inline\"')\n",
    "        html_str+='</td></th>'\n",
    "    display_html(html_str,raw=True)\n",
    "    \n",
    "display_side_by_side(x,y,z, titles=['Autumn','Winter','Summer']) "
   ]
  },
  {
   "cell_type": "markdown",
   "id": "bf0c971d",
   "metadata": {},
   "source": [
    "Looking at the median, we can see that summer in comparision to other seasons still have lower step counts for each day of the week, and our assumption that participants being most active in the summer, is not still true. "
   ]
  },
  {
   "cell_type": "markdown",
   "id": "945a6cb8",
   "metadata": {},
   "source": [
    "**Overall Results**\n",
    "\n",
    "The assumptions that Participants would have higher step counts for weekends during the summer is not True as besides Participant 3 which showed a clear difference that during summer the step counts increase for the weekends, no other participant show a hgiher step activity for weekends in summer. There were 2 participants which showed a higher step count in summer, however the day that they were most active was during Wednesdays and not the weekends. The was one participant that showed a preference for Saturday where their steps had a significant increase compared to other days of the week however showed similar level of steps for all seasons. There was also one participant that showed lower steps in summer. Overall it seems that different individuals have different preference for seasons and Australians having higher activity in summer can not be applied as a general assumption for everyone.\n",
    "\n",
    "Additionally the use of calculating the mean for step count, does introduce uncertainty into the results as the mean of any finite set of measurements is not going to be exactly equal to the quantity's true value. It is in this analysis as a representation of a typical value and therefore serves as a standard for comparison for the observations. Also to reduce uncertainty, the median value of the step counts for each day is calculated where it returns the central tendency and is not impacted by outliers."
   ]
  },
  {
   "cell_type": "markdown",
   "id": "ade4981d",
   "metadata": {},
   "source": [
    "### Does step count across the week have a correlation with weather?\n",
    "\n",
    "Understanding if there is a correlation between Steps and Weather, not only could benefit the individual in getting deeper insight into their preferences but also be of interest to event planners and health organisation as by understanding the relationship between steps and weather, they could better plan future events with consideration of weather.\n",
    "\n",
    "**Initial Hypothesis**: Participants will be less affected by rainfall during weekdays and show stronger corelation to sun exposure on weekends.\n",
    "\n",
    "Reason: participants will be less affected by rainfall for weekdays as often for work and school, people have a requirement to be there, in comparision to weekends where they have a day off (for most people) therefore they have a choice to not go out on days that rain. participants will show stronger correlation to sun exposure on weekends as people tend to plan social outings on weekends, therefore it is more likely that the plan goes through for days that are sunny.\n",
    "\n",
    "**Assumptions made**: that the participants have some locational association with the University of Sydney or the area around the CBD of Sydney as the rainfall and solar exposure datasets is retrieved from the nearest weather station to the University of Sydney. This introduces high level of uncertainty into the analysis as the participant could have no relation to USYD or the city of Sydney on a daily basis.\n",
    "\n",
    "Two bar graph is chosen to visualise the correlation for each day of the week between step count and rainfall or stepcount and solar exposure. \n",
    "\n",
    "\n",
    "\n",
    "_to view the graph for a different participant, please change the code in the code block below, then run all code blocks below_"
   ]
  },
  {
   "cell_type": "code",
   "execution_count": null,
   "id": "b5da14f2",
   "metadata": {
    "scrolled": true
   },
   "outputs": [],
   "source": [
    "# Author: Emily\n",
    "# Last Modified: 31/10/2022\n",
    "# group data by date and find which week does the date belong to in the year.\n",
    "# CHANGE PARTICIPANTS HERE: CHANGE p#.groupby.. in the line below to the participant you want e.g. p2.groupby...,p7.groupby...\n",
    "day = p1.groupby(['Date'], as_index=False).agg({'Steps': 'sum','WeekDay': 'first','Month': 'first'})\n",
    "day['Week'] =  day['Date'].dt.isocalendar().week"
   ]
  },
  {
   "cell_type": "markdown",
   "id": "d22f3bf0",
   "metadata": {},
   "source": [
    "Looking at the correlation between step count and sun exposure for participant 1 as example:"
   ]
  },
  {
   "cell_type": "code",
   "execution_count": null,
   "id": "0d638a5f",
   "metadata": {
    "scrolled": true
   },
   "outputs": [
    {
     "data": {
      "image/png": "[encoded data removed]",
      "text/plain": [
       "<Figure size 720x360 with 1 Axes>"
      ]
     },
     "metadata": {},
     "output_type": "display_data"
    }
   ],
   "source": [
    "# Author: Emily\n",
    "# Last Modified: 31/10/2022\n",
    "# DO NOT CHANGE THIS CHUNK OF CODE\n",
    "# creates a function that calculates the correlaton between step count and sun exposure for each day across the week\n",
    "def graphsuncorr(df):\n",
    "#     combines participant step data with sun exposure data\n",
    "    test = pd.merge(df,sun[['Daily global solar exposure (MJ/m*m)','Date']],on='Date', how='left')\n",
    "    t2 = test.groupby(['WeekDay','Week']).agg({'Steps':'mean','Daily global solar exposure (MJ/m*m)':'mean'}).reset_index()\n",
    "#     dictionary that stores the correlation for days across the week\n",
    "    cor = {}\n",
    "#     separate by day of week \n",
    "    m = t2.loc[t2['WeekDay']=='Monday']\n",
    "    t = t2.loc[t2['WeekDay']=='Tuesday']\n",
    "    w = t2.loc[t2['WeekDay']=='Wednesday']\n",
    "    th = t2.loc[t2['WeekDay']=='Thursday']\n",
    "    f = t2.loc[t2['WeekDay']=='Friday']\n",
    "    s = t2.loc[t2['WeekDay']=='Saturday']\n",
    "    sn = t2.loc[t2['WeekDay']=='Sunday']\n",
    "\n",
    "#     calculate correlation (using corr function) individually for days across week, put into dictionary\n",
    "    cor['Monday'] = m['Steps'].corr(m['Daily global solar exposure (MJ/m*m)'])\n",
    "    cor['Tuesday'] = t['Steps'].corr(t['Daily global solar exposure (MJ/m*m)'])\n",
    "    cor['Wednesday'] = w['Steps'].corr(w['Daily global solar exposure (MJ/m*m)'])\n",
    "    cor['Thursday'] = th['Steps'].corr(th['Daily global solar exposure (MJ/m*m)'])\n",
    "    cor['Friday'] = f['Steps'].corr(f['Daily global solar exposure (MJ/m*m)'])\n",
    "    cor['Saturday'] = s['Steps'].corr(s['Daily global solar exposure (MJ/m*m)'])\n",
    "    cor['Sunday'] = sn['Steps'].corr(sn['Daily global solar exposure (MJ/m*m)'])\n",
    "\n",
    "# now plot the bar graph\n",
    "    plt.rcParams[\"figure.figsize\"] = (10,5)\n",
    "#     goes through dictionary then plots the values \n",
    "    plt.bar(range(len(cor)), list(cor.values()), align='center')\n",
    "#     the x-ticks are keys of the dictionary which are week day names\n",
    "    plt.xticks(range(len(cor)), list(cor.keys()))\n",
    "#     set title, x-label, y-label\n",
    "    plt.xlabel('Days of the Week') \n",
    "    plt.ylabel('Correlation coefficient') \n",
    "    plt.title(\"Correlation between Step Count and Sun Exposure\",fontsize=15)\n",
    "    plt.show()\n",
    "\n",
    "    \n",
    "# call function to get correlation graph for participant    \n",
    "graphsuncorr(day)"
   ]
  },
  {
   "cell_type": "markdown",
   "id": "31266d97",
   "metadata": {},
   "source": [
    "From the graph we can see that for Wednesday, Friday and Sunday your step count have moderate positive correlation with the amount of sunlight as it has a higher corelation coefficient and that these days show a stronger correlation between steps ad sun exposure. The correlation for all days across the week is positive, therefore for days that have higher sun exposure, participant 1 is possible to make more steps.\n",
    "\n",
    "Now looking at the correlation between step count and rainfall for participant 1:"
   ]
  },
  {
   "cell_type": "code",
   "execution_count": null,
   "id": "416c9fd1",
   "metadata": {
    "scrolled": true
   },
   "outputs": [
    {
     "data": {
      "image/png": "[encoded data removed]",
      "text/plain": [
       "<Figure size 720x360 with 1 Axes>"
      ]
     },
     "metadata": {},
     "output_type": "display_data"
    }
   ],
   "source": [
    "# Author: Emily\n",
    "# Last Modified: 31/10/2022\n",
    "# DO NOT CHANGE THIS CHUNK OF CODE\n",
    "# creates a function that calculates the correlaton between step count and rainfall for each day across the week\n",
    "def graphrfcorr(df):\n",
    "    #     combines participant step data with rainfall data\n",
    "    test = pd.merge(df,sydrain[['Rainfall amount (millimetres)','Date']],on='Date', how='left')\n",
    "    t2 = test.groupby(['WeekDay','Week']).agg({'Steps':'mean','Rainfall amount (millimetres)':'mean'}).reset_index()\n",
    "    #     dictionary that stores the correlation for days across the week\n",
    "    cor = {}\n",
    "    #     separate by day of week \n",
    "    m = t2.loc[t2['WeekDay']=='Monday']\n",
    "    t = t2.loc[t2['WeekDay']=='Tuesday']\n",
    "    w = t2.loc[t2['WeekDay']=='Wednesday']\n",
    "    th = t2.loc[t2['WeekDay']=='Thursday']\n",
    "    f = t2.loc[t2['WeekDay']=='Friday']\n",
    "    s = t2.loc[t2['WeekDay']=='Saturday']\n",
    "    sn = t2.loc[t2['WeekDay']=='Sunday']\n",
    "    \n",
    "    #     calculate correlation (using corr function) individually for days across week, put into dictionary\n",
    "\n",
    "    cor['Monday'] = m['Steps'].corr(m['Rainfall amount (millimetres)'])\n",
    "    cor['Tuesday'] = t['Steps'].corr(t['Rainfall amount (millimetres)'])\n",
    "    cor['Wednesday'] = w['Steps'].corr(w['Rainfall amount (millimetres)'])\n",
    "    cor['Thursday'] = th['Steps'].corr(th['Rainfall amount (millimetres)'])\n",
    "    cor['Friday'] = f['Steps'].corr(f['Rainfall amount (millimetres)'])\n",
    "    cor['Saturday'] = s['Steps'].corr(s['Rainfall amount (millimetres)'])\n",
    "    cor['Sunday'] = sn['Steps'].corr(sn['Rainfall amount (millimetres)'])\n",
    "\n",
    "    # now plot the bar graph\n",
    "    plt.rcParams[\"figure.figsize\"] = (10,5)\n",
    "    #     goes through dictionary then plots the values \n",
    "    plt.bar(range(len(cor)), list(cor.values()), align='center')\n",
    "    #     the x-ticks are keys of the dictionary which are week day names\n",
    "    plt.xticks(range(len(cor)), list(cor.keys()))\n",
    "#     plot title, x-label, y-label\n",
    "    plt.xlabel('Days of the Week') \n",
    "    plt.ylabel('Correlation coefficient') \n",
    "    plt.title(\"Correlation between Step Count and Rainfall\",fontsize=15)\n",
    "    plt.show()\n",
    "    \n",
    "    \n",
    "# call function to get correlation graph for participant    \n",
    "graphrfcorr(day)"
   ]
  },
  {
   "cell_type": "markdown",
   "id": "29159511",
   "metadata": {},
   "source": [
    "We can see that for most weekdays and Sunday, the amount of steps participant 1 take show a slight negative correlation with the amount of rain. This means that for days with higher rainfall, they are slightly likely to be less active. However it can be seen that Friday and Saturday has low positive correlation, showing that for these day their steps are not impacted by the rain and continue to make their steps like a day with no rain.\n",
    "\n",
    "Now testing if the correlation coefficient between two variables is statistically significant, a correlation test is done using the pearsonr function from the SciPy library. This is the result of the testing for participant 1\n",
    "\n",
    "First testing the correlation for Sun Exposure and Step Count."
   ]
  },
  {
   "cell_type": "code",
   "execution_count": null,
   "id": "c86a887c",
   "metadata": {},
   "outputs": [
    {
     "data": {
      "text/plain": [
       "(0.29571017487702744, 2.4686751914637604e-06)"
      ]
     },
     "execution_count": 31,
     "metadata": {},
     "output_type": "execute_result"
    }
   ],
   "source": [
    "# TO TEST FOR ANOTHER PARTICIPANT CHANGE p# in the code chunk above then rerun code chunks.\n",
    "# Correlation test for Sun Exposure\n",
    "test = pd.merge(day,sun[['Daily global solar exposure (MJ/m*m)','Date']],on='Date', how='left')\n",
    "test.dropna(inplace=True)\n",
    "pearsonr(test['Steps'], test['Daily global solar exposure (MJ/m*m)'])\n"
   ]
  },
  {
   "cell_type": "markdown",
   "id": "8b1bc07c",
   "metadata": {},
   "source": [
    "Since the correlation coefficient is not very close to 1 as it is around 0.3, this tells us that there is a weak positive association between the two variables.\n",
    "\n",
    "Additionally looking at the corresponding p-value which is less than 0.05, we can conclude that there is a statistically significant association between the two variables.\n",
    "\n",
    "Next testing the correlation between Rainfall and Step count"
   ]
  },
  {
   "cell_type": "code",
   "execution_count": null,
   "id": "6f20e941",
   "metadata": {},
   "outputs": [
    {
     "data": {
      "text/plain": [
       "(-0.10987907822806635, 0.0880759885611699)"
      ]
     },
     "execution_count": 32,
     "metadata": {},
     "output_type": "execute_result"
    }
   ],
   "source": [
    "# Correlation test for Rainfall\n",
    "test2 = pd.merge(day,sydrain[['Rainfall amount (millimetres)','Date']],on='Date', how='left')\n",
    "test2.dropna(inplace=True)\n",
    "pearsonr(test2['Steps'], test2['Rainfall amount (millimetres)'])\n"
   ]
  },
  {
   "cell_type": "markdown",
   "id": "849936c4",
   "metadata": {},
   "source": [
    "Since the correlation coefficient is at -0.1, this tells us that there is a very weak negative association between the two variables.\n",
    "\n",
    "However looking at the corresponding p-value which is around 0.09 and greater than 0.05, we can conclude that no effect was observed between the two variables.\n",
    "\n",
    "**Overall Results**\n",
    "\n",
    "The assumption that Participants will be less affected by rainfall during weekdays and show stronger corelation to sun exposure on weekends is not true. Rainfall for most participants show a negative correlation with step count meaning that for days that rain more participants walk less, which does not support the assumption that during weekdays the correlation will still be positive as people still have to walk as much to get to mandatory job or school. Friday and Saturday surprisingly was positive for quite a few participant's step correlation with rainfall, which might suggest these two days people go out as normal and their plans are not impacted by rain. For sun exposure's correation to step count, the initial assumption was that there would be higher correlation on weekends, this could not be identified in the data as for most participants most days of the week showed a similiar weak to moderate correlation and there wasn't any particular day that had a stand out correlation. \n",
    "\n",
    "However, it is to note that corelation does not mean causation for this result where the change in one variable is the cause of the change in the values of the other variable. Having higher rain or sun exposure does not cause steps to increase or decrease.\n",
    "\n",
    "Additionally the impact of uncertainty could be present in the analysis, as reflected in the graphs of participants where there was low correlation and testing showed that p values of greater than 0.05. Particpant 8 for example in the testing showed that for both correlation with rain and sun exposure that there was no effect being the two variables. This may be a result of the location that the weather data that was used was not relevant for the participant as they could have resided in a place outside the city of sydney and therefore this analysis showed no effect. While for further analysis, it would provide more accrurate results if the general location of participants was known, however this could risk the confidentiality of the participants."
   ]
  },
  {
   "cell_type": "markdown",
   "id": "f4430521",
   "metadata": {},
   "source": [
    "### How frequently does the participant reaches the recommended 7,500 and 10,000-step goal?\n",
    "\n",
    "We're interested in how frequent the participant reaches the recommended 7,500-[1] and 10,000-step[2] goal. The threshold values are also used by health promotion campaigns and other researchers, as they provide a clear target for the participants[3].\n",
    "\n",
    "Take participant 2 as an exmaple. We first calculate their daily step counts:"
   ]
  },
  {
   "cell_type": "code",
   "execution_count": null,
   "id": "cc7821e5",
   "metadata": {
    "scrolled": true
   },
   "outputs": [
    {
     "data": {
      "image/png": "[encoded data removed]",
      "text/plain": [
       "<Figure size 720x360 with 1 Axes>"
      ]
     },
     "metadata": {},
     "output_type": "display_data"
    }
   ],
   "source": [
    "# Author: Ziyang Lin\n",
    "# Aggregate dataset by day\n",
    "daily_sums_p1 = p1.groupby('Date').agg({'Steps':'sum','WeekDay':'first','Year':'first','Month':'first'}).reset_index()\n",
    "daily_sums_p2 = p2.groupby('Date').agg({'Steps':'sum','WeekDay':'first','Year':'first','Month':'first'}).reset_index()\n",
    "daily_sums_p3 = p3.groupby('Date').agg({'Steps':'sum','WeekDay':'first','Year':'first','Month':'first'}).reset_index()\n",
    "daily_sums_p4 = p4.groupby('Date').agg({'Steps':'sum','WeekDay':'first','Year':'first','Month':'first'}).reset_index()\n",
    "daily_sums_p5 = p5.groupby('Date').agg({'Steps':'sum','WeekDay':'first','Year':'first','Month':'first'}).reset_index()\n",
    "daily_sums_p7 = p7.groupby('Date').agg({'Steps':'sum','WeekDay':'first','Year':'first','Month':'first'}).reset_index()\n",
    "daily_sums_p8 = p8.groupby('Date').agg({'Steps':'sum','WeekDay':'first','Year':'first','Month':'first'}).reset_index()\n",
    "\n",
    "def plot_weekday_patterns(daily_sums, suffix):\n",
    "    weekdays = ['Mon', 'Tue', 'Wed', 'Thu', 'Fri', 'Sat', 'Sun']\n",
    "    num_weekday_days = daily_sums.groupby('WeekDay').size()\n",
    "    p_days_7500 = daily_sums[daily_sums['Steps'] > 7500].groupby('WeekDay').size() / num_weekday_days * 100\n",
    "    p_days_10000 = daily_sums[daily_sums['Steps'] > 10000].groupby('WeekDay').size() / num_weekday_days * 100\n",
    "\n",
    "    x = np.arange(7)\n",
    "    width = 0.4\n",
    "\n",
    "    fig, ax = plt.subplots()\n",
    "\n",
    "    bar_7500 = ax.bar(x - width / 2, p_days_7500, width=width, color='#E6BA7E', label='>7,500')\n",
    "    # put numbers above bars\n",
    "    ax.bar_label(bar_7500, fmt='%d')\n",
    "    bar_10000 = ax.bar(x + width / 2, p_days_10000, width=width, color='#FA8D3E', label='>10,000')\n",
    "    ax.bar_label(bar_10000, fmt='%d')\n",
    "\n",
    "    # don't show the frame\n",
    "    ax.set(frame_on=False)\n",
    "    plt.title(f'Percentage of days that participant reached goal - {suffix}')\n",
    "    plt.xticks(x, labels=weekdays)\n",
    "    plt.legend()\n",
    "    plt.show()\n",
    "\n",
    "plot_weekday_patterns(daily_sums_p2, 'P2')"
   ]
  },
  {
   "cell_type": "markdown",
   "id": "7adc9044",
   "metadata": {},
   "source": [
    "The plot agrees with the other statistics. We can see that the participant usually walks more on Tuesdays, Wednesdays, and Saturdays. Friday is the overall least active day.\n",
    "\n",
    "To see the the trends over a longer time period, we group the data by month and see the percentage of days within each month that the participant reached their goal."
   ]
  },
  {
   "cell_type": "code",
   "execution_count": null,
   "id": "0bdec670",
   "metadata": {
    "scrolled": true
   },
   "outputs": [
    {
     "data": {
      "image/png": "[encoded data removed]",
      "text/plain": [
       "<Figure size 720x360 with 1 Axes>"
      ]
     },
     "metadata": {},
     "output_type": "display_data"
    }
   ],
   "source": [
    "# show only data in 2022\n",
    "def plot_month_patterns(daily_sums,suffix):\n",
    "    weekdays = ['Mon', 'Tue', 'Wed', 'Thu', 'Fri', 'Sat', 'Sun']\n",
    "    months = ['Jan', 'Feb', 'Mar', 'Apr', 'May', 'Jun', 'Jul', 'Aug', 'Sep', 'Oct', 'Nov', 'Dec']\n",
    "    num_month_days = daily_sums[daily_sums['Year'] == 2022].groupby('Month').size()\n",
    "    p_days_7500 = daily_sums[daily_sums['Steps'] > 7500].groupby('Month').size() / num_month_days * 100\n",
    "    p_days_10000 = daily_sums[daily_sums['Steps'] > 10000].groupby('Month').size() / num_month_days * 100\n",
    "\n",
    "    # convert the month from string (e.g. january) to number 1-12 to be used as x-axis\n",
    "    x = pd.to_datetime(daily_sums[daily_sums['Year'] == 2022]['Month'].unique(),format='%B').month\n",
    "    # corresponding labels (Jan, Feb, ...)\n",
    "    labels = [months[mo - 1] for mo in x]\n",
    "    width = 0.4\n",
    "\n",
    "    fig, ax = plt.subplots()\n",
    "    bar_7500 = ax.bar(x - width / 2, p_days_7500, width=width, color='#81A1C1', label='>7,500')\n",
    "    ax.bar_label(bar_7500, fmt='%d')\n",
    "    bar_10000 = ax.bar(x + width / 2, p_days_10000, width=width, color='#5E81AC', label='>10,000')\n",
    "    ax.bar_label(bar_10000, fmt='%d')\n",
    "    plt.xticks(x,labels)\n",
    "\n",
    "    ax.set(frame_on=False)\n",
    "    plt.title(f'Percentage of days that participant reached goal (by month) - {suffix}')\n",
    "    plt.legend()\n",
    "    plt.show()\n",
    "    \n",
    "plot_month_patterns(daily_sums_p2, 'P2')"
   ]
  },
  {
   "cell_type": "markdown",
   "id": "8502ed19",
   "metadata": {},
   "source": [
    "We notice that the participant was the most active in January and June. One possible explanation is that university vacations allowed them to travel or exercise more often than on other days.\n",
    "\n",
    "We can test our hypothesis that the participant has a higher average daily step count in January and June."
   ]
  },
  {
   "cell_type": "code",
   "execution_count": null,
   "id": "89310c85",
   "metadata": {
    "scrolled": true
   },
   "outputs": [
    {
     "name": "stdout",
     "output_type": "stream",
     "text": [
      "January: Ttest_indResult(statistic=2.8886127777684405, pvalue=0.003105932281554633)\n",
      "June: Ttest_indResult(statistic=1.5864364978341459, pvalue=0.06114104213775089)\n"
     ]
    }
   ],
   "source": [
    "from scipy.stats import ttest_ind\n",
    "\n",
    "steps_jan = daily_sums_p2[daily_sums_p2['Month'] == 'January']\n",
    "steps_jun = daily_sums_p2[daily_sums_p2['Month'] == 'June']\n",
    "steps_other = daily_sums_p2[(daily_sums_p2['Month'] != 'January') & (daily_sums_p2['Month'] != 'June')]\n",
    "\n",
    "print('January:', ttest_ind(steps_jan['Steps'], steps_other['Steps'], equal_var=False, alternative='greater'))\n",
    "print('June:', ttest_ind(steps_jun['Steps'], steps_other['Steps'], equal_var=False, alternative='greater'))"
   ]
  },
  {
   "cell_type": "markdown",
   "id": "2cdc5963",
   "metadata": {},
   "source": [
    "In the January sample, we observed a p-value less than 0.05. We reject the null hypothesis and conclude that participant 2 is more active in January than rest of the time.\n",
    "\n",
    "However, the June sample yielded a p-value greater than 0.05, so we retain the null hypothesis.\n",
    "\n",
    "\n",
    "**General conclusion for all participants**\n",
    "\n",
    "Across all datasets, we can see that most participants reach the 7,500 and 10,000-step goals more often on one or two days of the week. This weekly pattern may be because of their workout routines.\n",
    "\n",
    "By comparison, there isn't a clear monthly pattern over all participants. The amount of data might be a limiting factor here, as we only have data from January 2022 to September 20022.\n",
    "\n",
    "**Uncertainty**\n",
    "\n",
    "One source of uncertainty is the absence of data. From the above plot we can see that participant 5 did not reach the 10,000-step goal at all in January. When inspecting the dataset, we observed that they only wore the tracker for 9 days in January.\n",
    "\n",
    "It is also possible that the step count data did not cover all forms of physical activity.\n",
    "\n",
    "**Benefits**\n",
    "\n",
    "By observing the patterns in how often the participant reaches the recommended daily activity levels, we can understand the factors that may influence physical activity. Our results can help public health organisations and the government to make informed decisions when making recommendations."
   ]
  },
  {
   "cell_type": "markdown",
   "id": "b09908ba",
   "metadata": {},
   "source": [
    "### What is the composition of activity for days of the week?\n",
    "\n",
    "**Hypothesis**\n",
    "\n",
    "We have an assumptions that all the participants are students or staffs in the university of Sydney. Based on it, we estimate that all the week day would be evenly distributed because people usually have a similar routine either for working or studying. Weekend would depends on individuals. For example, some people may enjoy playing video game at home when they are free and other people might prefer to hang out at leisure time."
   ]
  },
  {
   "cell_type": "code",
   "execution_count": 121,
   "id": "3ebacc8e",
   "metadata": {
    "scrolled": true
   },
   "outputs": [],
   "source": [
    "# Define visualize_percentage(df) function to make a stacked bar graph of daily step percentage for 0-5k, 5-10k and above 10k\n",
    "# parameter df is dataframe with columns required:\n",
    "#   Date: the date of step count record\n",
    "#   Steps: hourly step counts\n",
    "#   Weekday: the week day of that Date\n",
    "def visualize_percentage(df):\n",
    "    # make a daily step count dataframe\n",
    "    df = df.groupby('Date').agg({'Steps':'sum','WeekDay':'first'}).reset_index()\n",
    "    # categorize daily step into 0-5k, 5-10k and above 10k\n",
    "    df.loc[df['Steps'] < 10000,'Step_index'] = '5k-10k'\n",
    "    df.loc[df['Steps'] < 5000,'Step_index'] = '<5k'\n",
    "    df.loc[df['Steps'] > 10000,'Step_index'] = '>10k'\n",
    "    df = df[['WeekDay','Step_index']].copy()\n",
    "    # sort the weekday into an order (reference: Emily)\n",
    "    cats = ['Monday','Tuesday','Wednesday','Thursday','Friday','Saturday','Sunday']\n",
    "    cat_type = CategoricalDtype(categories=cats, ordered=False)\n",
    "    df['WeekDay'] = df['WeekDay'].astype(cat_type)\n",
    "    # calculate all the numbers. [[Monday <5k : x1, 5k-10k : x2 >10k : x3],[Tuesday ...]...]\n",
    "    df = pd.get_dummies(df['Step_index']).groupby(df['WeekDay']).sum().reset_index()\n",
    "    # make the plot for the dataframe\n",
    "    df = df.loc[:,['WeekDay','<5k','5k-10k','>10k']]\n",
    "    df.plot(\n",
    "        x = 'WeekDay',\n",
    "        kind = 'barh',\n",
    "        stacked = True,\n",
    "        title = 'Percentage Stacked Bar Graph of Daily Step',\n",
    "        mark_right = True)\n",
    "    # write the percentage text into the graph [reference: Geeksforgeeks(https://www.geeksforgeeks.org/stacked-percentage-bar-plot-in-matplotlib/)]\n",
    "    df_total = df['<5k'] + df['5k-10k'] + df['>10k']\n",
    "    df_rel = df[df.columns[1:]].div(df_total, 0)*100\n",
    "    for n in df_rel:\n",
    "        for i, (cs, ab, pc) in enumerate(zip(df.iloc[:, 1:].cumsum(1)[n], \n",
    "                                             df[n], df_rel[n])):\n",
    "            plt.text(cs - ab / 2, i, str(np.round(pc, 1)) + '%', \n",
    "                     va = 'center', ha = 'center')\n",
    "    return df"
   ]
  },
  {
   "cell_type": "code",
   "execution_count": 123,
   "id": "bce5262e",
   "metadata": {
    "scrolled": false
   },
   "outputs": [
    {
     "data": {
      "application/vnd.jupyter.widget-view+json": {
       "model_id": "87427e54368d4c0bbdcbaa798f149c52",
       "version_major": 2,
       "version_minor": 0
      },
      "text/plain": [
       "interactive(children=(Dropdown(description='Participant', options=('Participant 1', 'Participant 2', 'Particip…"
      ]
     },
     "metadata": {},
     "output_type": "display_data"
    }
   ],
   "source": [
    "# create a interactive widgets using IPyWidgets library\n",
    "def choose_participant(Participant):\n",
    "    # Selecting different participants\n",
    "    if Participant == \"Participant 1\":\n",
    "        df = p1\n",
    "        print(\"Visualization for Participant 1\")\n",
    "    if Participant == \"Participant 2\":\n",
    "        df = p2\n",
    "        print(\"Visualization for Participant 2\")\n",
    "    if Participant == \"Participant 3\":\n",
    "        df = p3\n",
    "        print(\"Visualization for Participant 3\")\n",
    "\n",
    "    if Participant == \"Participant 4\":\n",
    "        df = p4\n",
    "        print(\"Visualization for Participant 4\")\n",
    "\n",
    "    if Participant == \"Participant 5\":\n",
    "        df = p5\n",
    "        print(\"Visualization for Participant 5\")\n",
    "\n",
    "    if Participant == \"Participant 7\":\n",
    "        df = p7\n",
    "        print(\"Visualization for Participant 7\")\n",
    "\n",
    "    if Participant == \"Participant 8\":\n",
    "        df = p8\n",
    "        print(\"Visualization for Participant 8\")\n",
    "    visualize_percentage(df)\n",
    "widgets.interact(choose_participant, Participant=[\"Participant 1\",\"Participant 2\", \"Participant 3\", \"Participant 4\",\"Participant 5\",\"Participant 7\",\"Participant 8\"]);"
   ]
  },
  {
   "cell_type": "markdown",
   "id": "621d78bb",
   "metadata": {},
   "source": [
    "In general, Saturday has more proportion on >10k and less on <5k. This could mean a lot of people tend to go out at Saturday and chill at home at Sunday. For weekday, inactive day (0-5k) occurs most at Tuesday for half of the participants. Comparing weekend and weekday, there is no significant general difference could be found. Some participants is much more active at weekend like Participant 4, about 92% of his Saturday are active day which steps above 10k. However, for participant 3, weekend is less active compare to weekday. More than half of the weekend days are inactive."
   ]
  },
  {
   "cell_type": "markdown",
   "id": "64d5aa74",
   "metadata": {},
   "source": [
    "### Results\n",
    "The patterns investigated in the report may reveal biases that exist within users of step trackers, allowing stakeholders to make positive impacts. 5 sub-questions were investigated in the report, and their results are discussed below.\n",
    "\n",
    "### What are the trends for different times of day across the week?\n",
    "\n",
    "The results of the trends in hourly activity across the week show that the participants have a significant bias in the lower activity level on Sunday mornings. This result may be erroneous due to our sample not reflecting the underlying population, as out data is biased towards university students who may sleep in on Sunday mornings more than the general population. \n",
    "\n",
    "### Does the step patterns across the week differ with season?\n",
    "\n",
    "The seasonal differences in steps taken shows a difference in step patterns across seasons. Contrary to expectations, summer had the lowest number of average daily steps. This finding may be biased by the relatively few observations of seasons, as the data only stretched over one year. This bias in the collected data make it more difficult to split season from more secular trends, for example Autumn and Winter were further in the sample period for all participants, which could be a confounding factor to the finding that summer had fewer steps, as people could have simply been less used to the step tracking equipment and tracked fewer steps due to human error.  \n",
    "\n",
    "### Does step count across the week have a correlation with weather?\n",
    "\n",
    "Emily: For sunlight there was a correlation, for rain there was less of a correlation, particularly between participants. This could be improved through \n",
    "\n",
    "Positive correlations were found between step counts and sun exposure, ranging between 0.15 and 0.45. This lined up with expectation that people are more likely to walk on sunny days. Mixed correlations were found between step counts and rainfall, not aligning with expectations. The original hypothesis was that rain should either have no effect, or a negative effect on steps taken. For Friday and Saturday, the correlations were a small positive, whilst all other days were small negatives. Using statistical testing, the correlation between steps and sun exposure was found to be significant, whereas the correlation between rainfall and average steps was not statistically significant. \n",
    "\n",
    "\n",
    "### How frequently does the participant reaches the recommended 7,500 and 10,000-step goal?\n",
    "\n",
    "Participants crossed the 7500 step threshold far less than half days, and missed the 10 000 step goal on more than 75% of days. By not reaching the implied goal and having significant variation in success across the week shows how human biases reduce the participants ability to achieve their optimal health outcomes. These results describe the basis for further work on behavioural nudges to allow the users of step trackers to better meet their health targets.\n",
    "\n",
    "### What is the composition of activity for days of the week?\n",
    "\n",
    "The results describe how different days have significantly different compositions, showing underlying trends on how people step on those days. Specifically, from other sub-questions, we know Saturday has significantly more steps than other days, but the composition of steps shows that it has the 2nd highest likelihood of having fewer than 5k steps. This implies a story of bifurcation, where Saturday effects the underlying distribution of steps differently for different people, as both very low and very high step counts become more likely. One explanation for this may be that those who are motivated have more time to walk on. Weekends, whereas less motivated people are not required to take as many steps for work or university, leading to a bifurcation of people’s step patterns. This relates to the driving question, as this difference in composition between days points towards a bias towards the optimal number of steps that should be recommended as to achieve weekly health targets.\n",
    "\n",
    "\n",
    "### Suggested next steps\n",
    "\n",
    "Further steps would be both to repeat this analysis with new, more representative datasets, and to implement behavioural nudges to alter these biases found in participants. Repeating this analysis with larger and more carefully selected samples of the population would allow the results to be generalised to a greater extent. This could be done through increasing the sample size, and by reducing the biases towards university (particularly USYD) students. A good candidate for a dataset like this would be either a private dataset from a step tracker provider, or from a government step tracking program. These could either be prospective studies, or retrospective studies. \n"
   ]
  },
  {
   "cell_type": "markdown",
   "id": "dcd0fb78",
   "metadata": {},
   "source": [
    "# References\n",
    "We report here relevant references:\n",
    "\n",
    "[1] A. E. Paluch et al., “Daily steps and all-cause mortality: a meta-analysis of 15 international cohorts,” The Lancet Public Health, vol. 7, no. 3, pp. e219–e228, Mar. 2022, doi: 10.1016/S2468-2667(21)00302-9.\n",
    "\n",
    "[2] Anthony L. Komaroff, “How many steps should I take each day? - Harvard Health.” https://www.health.harvard.edu/staying-healthy/how-many-steps-should-i-take-each-day (accessed Sep. 20, 2022).\n",
    "\n",
    "[3] Duncan, M. J., Brown, W. J., Mummery, W. K., & Vandelanotte, C. (2018). 10,000 Steps Australia: a community-wide eHealth physical activity promotion programme. British Journal of Sports Medicine, 52(14), 885-886.\n",
    "\n",
    "[4] Add caption to plot python | Autoscripts.net. (n.d.). Www.autoscripts.net. Retrieved October 31, 2022, from https://www.autoscripts.net/add-caption-to-plot-python/#adding-caption-below-x-axis-for-a-scatter-plot-using-matplotlibNarula, M. (2021, May 13). \n",
    "\n",
    "[5] Set Axis Ticks in Seaborn Plots. Delft Stack. https://www.delftstack.com/howto/seaborn/set-axis-tick-labels-seaborn-python/Stack Exchange. (2018, March 30). \n",
    "\n",
    "[6] reporting - Should percentages be reported with decimal places? Cross Validated. https://stats.stackexchange.com/questions/7129/should-percentages-be-reported-with-decimal-places\n",
    "\n",
    "[7] Stack Overflow. (2018, September 6). python - Moving label of seaborn colour bar. Stack Overflow. https://stackoverflow.com/questions/52205416/moving-label-of-seaborn-colourbar#:~:text=You%20can%20use%20ax.collections.colorbarto%20get%20access%20to%20the\n",
    "\n",
    "[8] Folkstalk.com. (2022). Retrieved 19 October 2022, from https://www.folkstalk.com/2022/09/showing-multiple-tables-from-the-same-input-box-jupyter-with-code-examples.html.\n",
    "\n",
    "[9]. Small multiple time series — seaborn 0.12.1 documentation. Seaborn.pydata.org. (2022). Retrieved 19 October 2022, from https://seaborn.pydata.org/examples/timeseries_facets.html."
   ]
  },
  {
   "cell_type": "code",
   "execution_count": null,
   "id": "7fafe734",
   "metadata": {
    "scrolled": true
   },
   "outputs": [],
   "source": []
  },
  {
   "cell_type": "markdown",
   "id": "f7c3ff9d",
   "metadata": {},
   "source": []
  }
 ],
 "metadata": {
  "kernelspec": {
   "display_name": "Python 3.10.6 64-bit",
   "language": "python",
   "name": "python3"
  },
  "language_info": {
   "codemirror_mode": {
    "name": "ipython",
    "version": 3
   },
   "file_extension": ".py",
   "mimetype": "text/x-python",
   "name": "python",
   "nbconvert_exporter": "python",
   "pygments_lexer": "ipython3",
   "version": "3.10.6"
  },
  "vscode": {
   "interpreter": {
    "hash": "aee8b7b246df8f9039afb4144a1f6fd8d2ca17a180786b69acc140d282b71a49"
   }
  }
 },
 "nbformat": 4,
 "nbformat_minor": 5
}
