{
 "cells": [
  {
   "cell_type": "code",
   "execution_count": 22,
   "id": "1d8c61cb",
   "metadata": {},
   "outputs": [
    {
     "data": {
      "text/html": [
       "\n",
       "    <style> body {font-family: \"Roboto Condensed Light\", \"Roboto Condensed\";} h2 {padding: 10px 12px; background-color: #E64626; position: static; color: #ffffff; font-size: 40px;} .text_cell_render p { font-size: 15px; } .text_cell_render h1 { font-size: 30px; } h1 {padding: 10px 12px; background-color: #E64626; color: #ffffff; font-size: 40px;} .text_cell_render h3 { padding: 10px 12px; background-color: #0148A4; position: static; color: #ffffff; font-size: 20px;} h4:before{ \n",
       "    content: \"@\"; font-family:\"Wingdings\"; font-style:regular; margin-right: 4px;} .text_cell_render h4 {padding: 8px; font-family: \"Roboto Condensed Light\"; position: static; font-style: italic; background-color: #FFB800; color: #ffffff; font-size: 18px; text-align: center; border-radius: 5px;}input[type=submit] {background-color: #E64626; border: solid; border-color: #734036; color: white; padding: 8px 16px; text-decoration: none; margin: 4px 2px; cursor: pointer; border-radius: 20px;}</style>\n",
       "    <script> code_show=true; function code_toggle() {if (code_show){$('div.input').hide();} else {$('div.input').show();} code_show = !code_show} $( document ).ready(code_toggle);</script>\n",
       "    <form action=\"javascript:code_toggle()\"><input type=\"submit\" value=\"Hide/show all code.\"></form>\n"
      ],
      "text/plain": [
       "<IPython.core.display.HTML object>"
      ]
     },
     "execution_count": 22,
     "metadata": {},
     "output_type": "execute_result"
    }
   ],
   "source": [
    "# Material last updated: 15 Oct 2022\n",
    "# Note materials were designed with the Roboto Condensed font, which can be installed here: https://www.1001fonts.com/roboto-condensed-font.html\n",
    "\n",
    "from IPython.display import HTML\n",
    "HTML('''\n",
    "    <style> body {font-family: \"Roboto Condensed Light\", \"Roboto Condensed\";} h2 {padding: 10px 12px; background-color: #E64626; position: static; color: #ffffff; font-size: 40px;} .text_cell_render p { font-size: 15px; } .text_cell_render h1 { font-size: 30px; } h1 {padding: 10px 12px; background-color: #E64626; color: #ffffff; font-size: 40px;} .text_cell_render h3 { padding: 10px 12px; background-color: #0148A4; position: static; color: #ffffff; font-size: 20px;} h4:before{ \n",
    "    content: \"@\"; font-family:\"Wingdings\"; font-style:regular; margin-right: 4px;} .text_cell_render h4 {padding: 8px; font-family: \"Roboto Condensed Light\"; position: static; font-style: italic; background-color: #FFB800; color: #ffffff; font-size: 18px; text-align: center; border-radius: 5px;}input[type=submit] {background-color: #E64626; border: solid; border-color: #734036; color: white; padding: 8px 16px; text-decoration: none; margin: 4px 2px; cursor: pointer; border-radius: 20px;}</style>\n",
    "    <script> code_show=true; function code_toggle() {if (code_show){$('div.input').hide();} else {$('div.input').show();} code_show = !code_show} $( document ).ready(code_toggle);</script>\n",
    "    <form action=\"javascript:code_toggle()\"><input type=\"submit\" value=\"Hide/show all code.\"></form>\n",
    "''')"
   ]
  },
  {
   "cell_type": "markdown",
   "id": "35951d41",
   "metadata": {},
   "source": [
    "# Draft Product Notebook\n",
    "\n",
    "\n",
    "## Purpose\n",
    "Our group whants to study the trends in the week in step activity...\n",
    "\n",
    "## Methodology\n",
    "Using Pandas, Matplotlib and python.\n",
    "\n",
    "## WIP - improvements\n",
    "All code last updated: 23/10/2022\n",
    "\n",
    "Notable TODOs:\n",
    "- Literate Programming for code\n",
    "- Explain each result in words\n",
    "- \n",
    "\n",
    "## Results\n",
    "Describe and comment the most important results.\n",
    "\n",
    "## Suggested next steps\n",
    "State suggested next steps, based on results obtained in this notebook."
   ]
  },
  {
   "cell_type": "markdown",
   "id": "feb784e0",
   "metadata": {},
   "source": [
    "# Setup\n",
    "\n",
    "## Library import\n",
    "We import all the required Python libraries"
   ]
  },
  {
   "cell_type": "code",
   "execution_count": 23,
   "id": "375de9b1",
   "metadata": {},
   "outputs": [],
   "source": [
    "# Data manipulation\n",
    "import pandas as pd\n",
    "import numpy as np\n",
    "from pandas.api.types import CategoricalDtype\n",
    "from pathlib import Path\n",
    "\n",
    "# Visualizations\n",
    "import seaborn as sns\n",
    "import matplotlib.pyplot as plt\n",
    "import plotly.graph_objects as go\n",
    "import plotly.express as px\n"
   ]
  },
  {
   "cell_type": "markdown",
   "id": "4d3a670b",
   "metadata": {},
   "source": [
    "## Suppress all warnings\n",
    "Ignore all future warnings"
   ]
  },
  {
   "cell_type": "code",
   "execution_count": 24,
   "id": "eca54165",
   "metadata": {},
   "outputs": [],
   "source": [
    "import warnings\n",
    "warnings.filterwarnings('ignore')"
   ]
  },
  {
   "cell_type": "markdown",
   "id": "a1b1e35c",
   "metadata": {},
   "source": [
    "\n",
    "# Data import\n",
    "We retrieve all the required data for the analysis.\n",
    "\n",
    "Datasets for:\n",
    "* Participant 1\n",
    "* Participant 2\n",
    "* Participant 3\n",
    "* Participant 4\n",
    "* Participant 5\n",
    "* Participant 7\n",
    "* Participant 8\n",
    "* Rainfall\n",
    "* Sun exposure"
   ]
  },
  {
   "cell_type": "code",
   "execution_count": 25,
   "id": "4ed96da7",
   "metadata": {},
   "outputs": [],
   "source": [
    "# Include data paths\n",
    "dataset_path = Path('../../../datasets')\n",
    "add_dataset_path = Path('../../../datasets/additional')\n",
    "# Import datasets\n",
    "raw_data_p1 = pd.read_csv(dataset_path / 'Participant-01.csv')\n",
    "p1 = raw_data_p1.copy()\n",
    "\n",
    "raw_data_p2 = pd.read_csv(dataset_path / 'Participant-02-detail.csv')\n",
    "p2 = raw_data_p2.copy()\n",
    "\n",
    "raw_data_p3 = pd.read_csv(dataset_path / 'Participant-03.csv')\n",
    "p3 = raw_data_p3.copy()\n",
    "\n",
    "raw_data_p4 = pd.read_csv(dataset_path / 'Participant-04.csv')\n",
    "p4 = raw_data_p4.copy()\n",
    "\n",
    "\n",
    "raw_data_p5 = pd.read_csv(dataset_path / 'Participant-05-detail.csv')\n",
    "p5 = raw_data_p5.copy()\n",
    "\n",
    "raw_data_p7 = pd.read_csv(dataset_path / 'Participant-07.csv')\n",
    "p7 = raw_data_p7.copy()\n",
    "\n",
    "raw_data_p8 = pd.read_csv(dataset_path / 'Participant-08.csv')\n",
    "p8 = raw_data_p8.copy()\n",
    "\n",
    "# for climate datasets the year month day are separated i need them to be together therefore i parsed them together\n",
    "raw_data = pd.read_csv(add_dataset_path / 'rainfall_syd.csv',parse_dates= {\"Date\" : [\"Year\",\"Month\",\"Day\"]})\n",
    "sydrain = raw_data.copy()\n",
    "\n",
    "raw_data2 = pd.read_csv(add_dataset_path / 'solar_cent_park.csv',parse_dates= {\"Date\" : [\"Year\",\"Month\",\"Day\"]})\n",
    "sun = raw_data2.copy()"
   ]
  },
  {
   "cell_type": "markdown",
   "id": "99bbccbd",
   "metadata": {},
   "source": [
    "# Data processing\n",
    "Put here the core of the notebook. Feel free di further split this section into subsections."
   ]
  },
  {
   "cell_type": "code",
   "execution_count": 26,
   "id": "3276e912",
   "metadata": {},
   "outputs": [],
   "source": [
    "# i want to create a function that subs in the dataset for the following operations so I don't have to repeat these steps\n",
    "def sub(data):\n",
    "#     convert start,finish columns to datetime formats\n",
    "    data['Start'] = pd.to_datetime(data['Start'])\n",
    "    data['Finish'] = pd.to_datetime(data['Finish'])\n",
    "#     extract the weekday name, month names and date in YYYY-MM-DD format from start column\n",
    "    data['WeekDay'] = data['Start'].dt.day_name()\n",
    "    data['Month'] = data['Start'].dt.month_name()\n",
    "    data['Year'] = data['Start'].dt.year\n",
    "    data['Date'] = data['Start'].dt.date\n",
    "#     convert date to datetime format\n",
    "    data['Date'] = pd.to_datetime(data['Date'])\n",
    "#     week days are ordered so that it's matches the order that day of the week are.\n",
    "    cats = [ 'Monday', 'Tuesday', 'Wednesday', 'Thursday', 'Friday', 'Saturday', 'Sunday']\n",
    "    cat_type = CategoricalDtype(categories=cats, ordered=True)\n",
    "    data['WeekDay'] = data['WeekDay'].astype(cat_type)\n",
    "\n",
    "    \n",
    "# function for detail data\n",
    "def subdetail(data):\n",
    "#     convert date to datetime format\n",
    "    data['Date'] = pd.to_datetime(data['Date'])\n",
    "#     extract week day and month from date\n",
    "    data['WeekDay'] = data['Date'].dt.day_name()\n",
    "    data['Month'] = data['Date'].dt.month_name()\n",
    "    data['Year'] = data['Date'].dt.year\n",
    "#     order week days\n",
    "    cats = [ 'Monday', 'Tuesday', 'Wednesday', 'Thursday', 'Friday', 'Saturday', 'Sunday']\n",
    "    cat_type = CategoricalDtype(categories=cats, ordered=True)\n",
    "    data['WeekDay'] = data['WeekDay'].astype(cat_type)\n",
    "\n",
    "    \n",
    "\n",
    "    \n",
    "# function for weather dataset\n",
    "def subw(data):\n",
    "#     extract week day and month from date\n",
    "    data['Month'] = data['Date'].dt.month_name()\n",
    "    data['WeekDay'] = data['Date'].dt.day_name()\n",
    "#     order week days\n",
    "    cats = [ 'Monday', 'Tuesday', 'Wednesday', 'Thursday', 'Friday', 'Saturday', 'Sunday']\n",
    "    cat_type = CategoricalDtype(categories=cats, ordered=True)\n",
    "    data['WeekDay'] = data['WeekDay'].astype(cat_type)"
   ]
  },
  {
   "cell_type": "code",
   "execution_count": 27,
   "id": "1b4ec220",
   "metadata": {},
   "outputs": [],
   "source": [
    "# now sub the datasets into the functions\n",
    "sub(p1)\n",
    "subdetail(p2)\n",
    "sub(p3)\n",
    "sub(p4)\n",
    "subdetail(p5)\n",
    "sub(p7)\n",
    "sub(p8)\n",
    "subw(sydrain)\n",
    "subw(sun)\n",
    "\n",
    "# change count name so it matches format of non-detail datasets\n",
    "p1 = p1.rename(columns={'Steps (count)':'Steps'})\n",
    "p2 = p2.rename(columns={'Count':'Steps'})\n",
    "p3 = p3.rename(columns={'Steps (count)':'Steps'})\n",
    "p4 = p4.rename(columns={'Steps (count)':'Steps'})\n",
    "p5 = p5.rename(columns={'Count':'Steps'})\n",
    "p7 = p7.rename(columns={'Steps (count)':'Steps'})\n",
    "p8 = p8.rename(columns={'Steps (count)':'Steps'})\n",
    "\n",
    "# will now drop the duplicates\n",
    "p2.drop_duplicates(keep=False, inplace=True)\n",
    "p5.drop_duplicates(keep=False, inplace=True)\n",
    "\n",
    "\n",
    "#     dataset contains data points from both their mobile phone and smartwatch, \n",
    "# aggregating would resulting in duplicate data. We keep only data from the smartwatch as it is usually more accurate\n",
    "p2 = p2[p2['Source'].str.contains('Watch')]\n",
    "\n",
    "\n",
    "# group by hour\n",
    "p2 = p2.groupby(['Date','Hour']).agg({'Steps':'sum','WeekDay':'first','Month':'first','Year':'first','Source':'first'}).reset_index()\n",
    "p5 = p5.groupby(['Date','Hour']).agg({'Steps':'sum','WeekDay':'first','Month':'first','Year':'first','Source':'first'}).reset_index()"
   ]
  },
  {
   "cell_type": "markdown",
   "id": "4bfb9a71",
   "metadata": {},
   "source": [
    "## Data Exploration"
   ]
  },
  {
   "cell_type": "code",
   "execution_count": 28,
   "id": "61e31542",
   "metadata": {},
   "outputs": [],
   "source": [
    "# first group the data by dates\n",
    "day = p1.groupby(['Date'], as_index=False).agg({'Steps': 'sum','WeekDay': 'first','Month': 'first'})\n",
    "day2 = p2.groupby(['Date'], as_index=False).agg({'Steps': 'sum','WeekDay': 'first','Month': 'first'})\n",
    "day3 = p3.groupby(['Date'], as_index=False).agg({'Steps': 'sum','WeekDay': 'first','Month': 'first'})\n",
    "day4 = p4.groupby(['Date'], as_index=False).agg({'Steps': 'sum','WeekDay': 'first','Month': 'first'})\n",
    "day5 = p5.groupby(['Date'], as_index=False).agg({'Steps': 'sum','WeekDay': 'first','Month': 'first'})\n",
    "day7 = p7.groupby(['Date'], as_index=False).agg({'Steps': 'sum','WeekDay': 'first','Month': 'first'})\n",
    "day8 = p8.groupby(['Date'], as_index=False).agg({'Steps': 'sum','WeekDay': 'first','Month': 'first'})\n"
   ]
  },
  {
   "cell_type": "code",
   "execution_count": 29,
   "id": "5370b5fd",
   "metadata": {
    "scrolled": true
   },
   "outputs": [
    {
     "data": {
      "text/html": [
       "<table style=\"display:inline\" border=\"1\" class=\"dataframe\">\n",
       "  <thead>\n",
       "    <tr style=\"text-align: right;\">\n",
       "      <th></th>\n",
       "      <th>Steps</th>\n",
       "    </tr>\n",
       "  </thead>\n",
       "  <tbody>\n",
       "    <tr>\n",
       "      <th>count</th>\n",
       "      <td>246.000000</td>\n",
       "    </tr>\n",
       "    <tr>\n",
       "      <th>mean</th>\n",
       "      <td>8571.745569</td>\n",
       "    </tr>\n",
       "    <tr>\n",
       "      <th>std</th>\n",
       "      <td>4051.592687</td>\n",
       "    </tr>\n",
       "    <tr>\n",
       "      <th>min</th>\n",
       "      <td>0.000000</td>\n",
       "    </tr>\n",
       "    <tr>\n",
       "      <th>25%</th>\n",
       "      <td>5913.250000</td>\n",
       "    </tr>\n",
       "    <tr>\n",
       "      <th>50%</th>\n",
       "      <td>7948.000000</td>\n",
       "    </tr>\n",
       "    <tr>\n",
       "      <th>75%</th>\n",
       "      <td>10388.750000</td>\n",
       "    </tr>\n",
       "    <tr>\n",
       "      <th>max</th>\n",
       "      <td>25660.398309</td>\n",
       "    </tr>\n",
       "  </tbody>\n",
       "</table style=\"display:inline\"><table style=\"display:inline\" border=\"1\" class=\"dataframe\">\n",
       "  <thead>\n",
       "    <tr style=\"text-align: right;\">\n",
       "      <th></th>\n",
       "      <th>Steps</th>\n",
       "    </tr>\n",
       "  </thead>\n",
       "  <tbody>\n",
       "    <tr>\n",
       "      <th>count</th>\n",
       "      <td>245.000000</td>\n",
       "    </tr>\n",
       "    <tr>\n",
       "      <th>mean</th>\n",
       "      <td>6733.926531</td>\n",
       "    </tr>\n",
       "    <tr>\n",
       "      <th>std</th>\n",
       "      <td>3174.437606</td>\n",
       "    </tr>\n",
       "    <tr>\n",
       "      <th>min</th>\n",
       "      <td>36.000000</td>\n",
       "    </tr>\n",
       "    <tr>\n",
       "      <th>25%</th>\n",
       "      <td>4437.000000</td>\n",
       "    </tr>\n",
       "    <tr>\n",
       "      <th>50%</th>\n",
       "      <td>6195.000000</td>\n",
       "    </tr>\n",
       "    <tr>\n",
       "      <th>75%</th>\n",
       "      <td>8567.000000</td>\n",
       "    </tr>\n",
       "    <tr>\n",
       "      <th>max</th>\n",
       "      <td>22028.000000</td>\n",
       "    </tr>\n",
       "  </tbody>\n",
       "</table style=\"display:inline\"><table style=\"display:inline\" border=\"1\" class=\"dataframe\">\n",
       "  <thead>\n",
       "    <tr style=\"text-align: right;\">\n",
       "      <th></th>\n",
       "      <th>Steps</th>\n",
       "    </tr>\n",
       "  </thead>\n",
       "  <tbody>\n",
       "    <tr>\n",
       "      <th>count</th>\n",
       "      <td>252.000000</td>\n",
       "    </tr>\n",
       "    <tr>\n",
       "      <th>mean</th>\n",
       "      <td>5682.694444</td>\n",
       "    </tr>\n",
       "    <tr>\n",
       "      <th>std</th>\n",
       "      <td>4773.957109</td>\n",
       "    </tr>\n",
       "    <tr>\n",
       "      <th>min</th>\n",
       "      <td>0.000000</td>\n",
       "    </tr>\n",
       "    <tr>\n",
       "      <th>25%</th>\n",
       "      <td>718.500000</td>\n",
       "    </tr>\n",
       "    <tr>\n",
       "      <th>50%</th>\n",
       "      <td>6234.500001</td>\n",
       "    </tr>\n",
       "    <tr>\n",
       "      <th>75%</th>\n",
       "      <td>9390.500000</td>\n",
       "    </tr>\n",
       "    <tr>\n",
       "      <th>max</th>\n",
       "      <td>28205.000000</td>\n",
       "    </tr>\n",
       "  </tbody>\n",
       "</table style=\"display:inline\"><table style=\"display:inline\" border=\"1\" class=\"dataframe\">\n",
       "  <thead>\n",
       "    <tr style=\"text-align: right;\">\n",
       "      <th></th>\n",
       "      <th>Steps</th>\n",
       "    </tr>\n",
       "  </thead>\n",
       "  <tbody>\n",
       "    <tr>\n",
       "      <th>count</th>\n",
       "      <td>251.000000</td>\n",
       "    </tr>\n",
       "    <tr>\n",
       "      <th>mean</th>\n",
       "      <td>11513.477565</td>\n",
       "    </tr>\n",
       "    <tr>\n",
       "      <th>std</th>\n",
       "      <td>6296.500896</td>\n",
       "    </tr>\n",
       "    <tr>\n",
       "      <th>min</th>\n",
       "      <td>1925.000000</td>\n",
       "    </tr>\n",
       "    <tr>\n",
       "      <th>25%</th>\n",
       "      <td>6854.002844</td>\n",
       "    </tr>\n",
       "    <tr>\n",
       "      <th>50%</th>\n",
       "      <td>9436.665183</td>\n",
       "    </tr>\n",
       "    <tr>\n",
       "      <th>75%</th>\n",
       "      <td>14486.500000</td>\n",
       "    </tr>\n",
       "    <tr>\n",
       "      <th>max</th>\n",
       "      <td>29467.000000</td>\n",
       "    </tr>\n",
       "  </tbody>\n",
       "</table style=\"display:inline\"><table style=\"display:inline\" border=\"1\" class=\"dataframe\">\n",
       "  <thead>\n",
       "    <tr style=\"text-align: right;\">\n",
       "      <th></th>\n",
       "      <th>Steps</th>\n",
       "    </tr>\n",
       "  </thead>\n",
       "  <tbody>\n",
       "    <tr>\n",
       "      <th>count</th>\n",
       "      <td>222.000000</td>\n",
       "    </tr>\n",
       "    <tr>\n",
       "      <th>mean</th>\n",
       "      <td>9327.445946</td>\n",
       "    </tr>\n",
       "    <tr>\n",
       "      <th>std</th>\n",
       "      <td>5992.085395</td>\n",
       "    </tr>\n",
       "    <tr>\n",
       "      <th>min</th>\n",
       "      <td>4.000000</td>\n",
       "    </tr>\n",
       "    <tr>\n",
       "      <th>25%</th>\n",
       "      <td>5524.750000</td>\n",
       "    </tr>\n",
       "    <tr>\n",
       "      <th>50%</th>\n",
       "      <td>8371.000000</td>\n",
       "    </tr>\n",
       "    <tr>\n",
       "      <th>75%</th>\n",
       "      <td>11308.250000</td>\n",
       "    </tr>\n",
       "    <tr>\n",
       "      <th>max</th>\n",
       "      <td>46523.000000</td>\n",
       "    </tr>\n",
       "  </tbody>\n",
       "</table style=\"display:inline\"><table style=\"display:inline\" border=\"1\" class=\"dataframe\">\n",
       "  <thead>\n",
       "    <tr style=\"text-align: right;\">\n",
       "      <th></th>\n",
       "      <th>Steps</th>\n",
       "    </tr>\n",
       "  </thead>\n",
       "  <tbody>\n",
       "    <tr>\n",
       "      <th>count</th>\n",
       "      <td>256.000000</td>\n",
       "    </tr>\n",
       "    <tr>\n",
       "      <th>mean</th>\n",
       "      <td>7748.444263</td>\n",
       "    </tr>\n",
       "    <tr>\n",
       "      <th>std</th>\n",
       "      <td>2583.766599</td>\n",
       "    </tr>\n",
       "    <tr>\n",
       "      <th>min</th>\n",
       "      <td>1346.000000</td>\n",
       "    </tr>\n",
       "    <tr>\n",
       "      <th>25%</th>\n",
       "      <td>6134.250000</td>\n",
       "    </tr>\n",
       "    <tr>\n",
       "      <th>50%</th>\n",
       "      <td>7786.500000</td>\n",
       "    </tr>\n",
       "    <tr>\n",
       "      <th>75%</th>\n",
       "      <td>9805.258961</td>\n",
       "    </tr>\n",
       "    <tr>\n",
       "      <th>max</th>\n",
       "      <td>15092.000000</td>\n",
       "    </tr>\n",
       "  </tbody>\n",
       "</table style=\"display:inline\"><table style=\"display:inline\" border=\"1\" class=\"dataframe\">\n",
       "  <thead>\n",
       "    <tr style=\"text-align: right;\">\n",
       "      <th></th>\n",
       "      <th>Steps</th>\n",
       "    </tr>\n",
       "  </thead>\n",
       "  <tbody>\n",
       "    <tr>\n",
       "      <th>count</th>\n",
       "      <td>255.000000</td>\n",
       "    </tr>\n",
       "    <tr>\n",
       "      <th>mean</th>\n",
       "      <td>8657.560784</td>\n",
       "    </tr>\n",
       "    <tr>\n",
       "      <th>std</th>\n",
       "      <td>3557.050338</td>\n",
       "    </tr>\n",
       "    <tr>\n",
       "      <th>min</th>\n",
       "      <td>228.000000</td>\n",
       "    </tr>\n",
       "    <tr>\n",
       "      <th>25%</th>\n",
       "      <td>6376.500000</td>\n",
       "    </tr>\n",
       "    <tr>\n",
       "      <th>50%</th>\n",
       "      <td>8762.000000</td>\n",
       "    </tr>\n",
       "    <tr>\n",
       "      <th>75%</th>\n",
       "      <td>10738.000000</td>\n",
       "    </tr>\n",
       "    <tr>\n",
       "      <th>max</th>\n",
       "      <td>22769.000000</td>\n",
       "    </tr>\n",
       "  </tbody>\n",
       "</table style=\"display:inline\">"
      ]
     },
     "metadata": {},
     "output_type": "display_data"
    }
   ],
   "source": [
    "# function that displays results tables side by side for easy comparison from reference 1\n",
    "from IPython.display import display_html\n",
    "def display_side_by_side(*args):\n",
    "    html_str=''\n",
    "    for df in args:\n",
    "        html_str+=df.to_html()\n",
    "    display_html(html_str.replace('table','table style=\"display:inline\"'),raw=True)\n",
    "# first look at the general trends of the data\n",
    "display_side_by_side(day.describe(),day2.describe(),day3.describe(),day4.describe(),day5.describe(),day7.describe(),day8.describe())"
   ]
  },
  {
   "cell_type": "code",
   "execution_count": 30,
   "id": "3971c365",
   "metadata": {},
   "outputs": [
    {
     "data": {
      "application/vnd.plotly.v1+json": {
       "config": {
        "plotlyServerURL": "https://plot.ly"
       },
       "data": [
        {
         "name": "Participant 1",
         "type": "bar",
         "x": [
          "Friday",
          "Saturday",
          "Sunday",
          "Monday",
          "Tuesday",
          "Wednesday",
          "Thursday",
          "Friday",
          "Saturday",
          "Sunday",
          "Monday",
          "Tuesday",
          "Wednesday",
          "Thursday",
          "Friday",
          "Saturday",
          "Sunday",
          "Monday",
          "Tuesday",
          "Wednesday",
          "Thursday",
          "Friday",
          "Saturday",
          "Sunday",
          "Monday",
          "Tuesday",
          "Wednesday",
          "Thursday",
          "Friday",
          "Saturday",
          "Sunday",
          "Monday",
          "Tuesday",
          "Wednesday",
          "Thursday",
          "Friday",
          "Saturday",
          "Sunday",
          "Monday",
          "Tuesday",
          "Wednesday",
          "Thursday",
          "Friday",
          "Saturday",
          "Sunday",
          "Monday",
          "Tuesday",
          "Wednesday",
          "Thursday",
          "Friday",
          "Saturday",
          "Sunday",
          "Monday",
          "Tuesday",
          "Wednesday",
          "Thursday",
          "Friday",
          "Saturday",
          "Sunday",
          "Monday",
          "Tuesday",
          "Wednesday",
          "Thursday",
          "Friday",
          "Saturday",
          "Sunday",
          "Monday",
          "Tuesday",
          "Wednesday",
          "Thursday",
          "Friday",
          "Saturday",
          "Sunday",
          "Monday",
          "Tuesday",
          "Wednesday",
          "Thursday",
          "Friday",
          "Saturday",
          "Sunday",
          "Monday",
          "Tuesday",
          "Wednesday",
          "Thursday",
          "Friday",
          "Saturday",
          "Sunday",
          "Monday",
          "Tuesday",
          "Wednesday",
          "Thursday",
          "Friday",
          "Saturday",
          "Sunday",
          "Monday",
          "Tuesday",
          "Wednesday",
          "Thursday",
          "Friday",
          "Saturday",
          "Sunday",
          "Monday",
          "Tuesday",
          "Wednesday",
          "Thursday",
          "Friday",
          "Saturday",
          "Sunday",
          "Monday",
          "Tuesday",
          "Wednesday",
          "Thursday",
          "Friday",
          "Saturday",
          "Sunday",
          "Monday",
          "Tuesday",
          "Wednesday",
          "Thursday",
          "Friday",
          "Saturday",
          "Sunday",
          "Monday",
          "Tuesday",
          "Wednesday",
          "Thursday",
          "Friday",
          "Saturday",
          "Sunday",
          "Monday",
          "Tuesday",
          "Wednesday",
          "Thursday",
          "Friday",
          "Saturday",
          "Sunday",
          "Monday",
          "Tuesday",
          "Wednesday",
          "Thursday",
          "Friday",
          "Saturday",
          "Sunday",
          "Monday",
          "Tuesday",
          "Wednesday",
          "Thursday",
          "Friday",
          "Saturday",
          "Sunday",
          "Monday",
          "Tuesday",
          "Wednesday",
          "Thursday",
          "Friday",
          "Saturday",
          "Sunday",
          "Monday",
          "Tuesday",
          "Wednesday",
          "Thursday",
          "Friday",
          "Saturday",
          "Sunday",
          "Monday",
          "Tuesday",
          "Wednesday",
          "Thursday",
          "Friday",
          "Saturday",
          "Sunday",
          "Monday",
          "Tuesday",
          "Wednesday",
          "Thursday",
          "Friday",
          "Saturday",
          "Sunday",
          "Monday",
          "Tuesday",
          "Wednesday",
          "Thursday",
          "Friday",
          "Saturday",
          "Sunday",
          "Monday",
          "Tuesday",
          "Wednesday",
          "Thursday",
          "Friday",
          "Saturday",
          "Sunday",
          "Monday",
          "Tuesday",
          "Wednesday",
          "Thursday",
          "Friday",
          "Saturday",
          "Sunday",
          "Monday",
          "Tuesday",
          "Wednesday",
          "Thursday",
          "Friday",
          "Saturday",
          "Sunday",
          "Monday",
          "Tuesday",
          "Wednesday",
          "Thursday",
          "Friday",
          "Saturday",
          "Sunday",
          "Monday",
          "Tuesday",
          "Wednesday",
          "Thursday",
          "Friday",
          "Saturday",
          "Sunday",
          "Monday",
          "Tuesday",
          "Wednesday",
          "Thursday",
          "Friday",
          "Saturday",
          "Sunday",
          "Monday",
          "Tuesday",
          "Wednesday",
          "Thursday",
          "Friday",
          "Saturday",
          "Sunday",
          "Monday",
          "Tuesday",
          "Wednesday",
          "Thursday",
          "Friday",
          "Saturday",
          "Sunday",
          "Monday",
          "Tuesday",
          "Wednesday",
          "Thursday",
          "Friday"
         ],
         "y": [
          0,
          11609,
          10337,
          6310,
          14395,
          11025.999999999998,
          18721,
          9192.000000000004,
          6330,
          8656.999999999998,
          9349,
          1637.9999999999998,
          9986,
          10918.168846951536,
          22991.00000000001,
          11547.00000000001,
          10758.000000000004,
          16132.999999999993,
          4244,
          8801.075067245944,
          7838.751737717924,
          18711.000000000004,
          16627.999999999993,
          4482,
          13590.000000000002,
          7644.000000000002,
          13905.00000000001,
          8846,
          6929.999999999999,
          11941.000000000002,
          5072.000000000004,
          8907,
          6986,
          6626,
          11455.999999999998,
          6373.999999999995,
          11266,
          6774.999999999998,
          6466.000000000004,
          8701.000000000004,
          14722,
          10339.999999999996,
          7576.925030998889,
          2231,
          15874,
          3600.999999999997,
          10247.999999999985,
          15808.999999999995,
          8786,
          8384.000000000004,
          3527.9999999999986,
          10043.999999999998,
          9250,
          4516.999999999996,
          7920.999999999994,
          11177.000000000002,
          3484,
          8618.999999999993,
          8234.651647759703,
          7495.000000000004,
          4376,
          8869,
          6587,
          5494,
          3056,
          4186.999999999998,
          2926,
          3677.526566967964,
          7001,
          6953,
          11463.999999999996,
          6893,
          10486,
          8230.999999999989,
          8618.000000000002,
          5343,
          4319,
          7674.333252825019,
          13556.999999999998,
          21768.999999999996,
          14107.999999999996,
          10503.000000000004,
          7143.999999999999,
          7562.0000000000055,
          6537.000000000007,
          10105.133702803147,
          3374.9999999999995,
          9178.000000000002,
          8105.999999999998,
          7883.000000000004,
          8107,
          4668,
          8517.999999999993,
          8184.000000000002,
          5120.000000000002,
          6743.999999999999,
          8882.999999999998,
          4627.999999999996,
          7425.999999999991,
          3957.999999999997,
          12573,
          8628.999999999998,
          10452,
          4766,
          9486.409557715615,
          7677,
          9664.999999999996,
          4198,
          4928.000000000001,
          7844.82285076721,
          4740.0000000000055,
          4859,
          7055.999999999999,
          5491.0000000000055,
          7997.999999999996,
          16804,
          3930.0000000000036,
          13376.738255276798,
          6332,
          8933.999999999998,
          6499.063239806683,
          15408.999999999998,
          7899.999999999996,
          8978,
          15354.000000000004,
          8902.000000000004,
          9282,
          8514.999999999996,
          6601,
          5242.999999999999,
          9495.999999999996,
          10404.999999999998,
          6113.000000000002,
          6090,
          6184.999999999999,
          2112,
          5761.000000000001,
          12571.49589932237,
          4688.318712849374,
          3423.999999999998,
          1901,
          11374,
          723,
          1617.999999999999,
          4835.999999999996,
          8714,
          4767.0000000000055,
          5116.000000000002,
          6083.305829522975,
          3412.694170477029,
          5099,
          13719,
          11983.999999999996,
          5735,
          3751,
          18868.000000000004,
          7069.999999999996,
          13663.000000000002,
          25660.398309214754,
          14232.999999999993,
          11034.999999999998,
          5991.999999999996,
          7341,
          13576.999999999996,
          10095.000000000005,
          6768,
          5828,
          23076.000000000004,
          14596.999999999998,
          2186.999999999998,
          7490.999999999999,
          5118.000000000004,
          10325.000000000007,
          9974.000000000004,
          5877,
          5772,
          6975.814807777062,
          8871.99999999999,
          13394.999999999996,
          9410.000000000004,
          9168.000000000002,
          7783,
          6420.000000000004,
          3610,
          6149.999999999995,
          9116.999999999998,
          4935.000000000001,
          4958.000000000002,
          8994,
          9498.999999999995,
          7546.0000000000055,
          8397.000000000004,
          12990.999999999989,
          17390.999999999996,
          9567.999999999998,
          7058.999999999996,
          9108.999999999996,
          6829.999999999998,
          10538.000000000004,
          7575.999999999996,
          5887,
          12421.999999999998,
          7957.000000000002,
          7108.000000000001,
          6398.000000000004,
          7550.000000000002,
          6772.999999999996,
          7303,
          15092.813368842097,
          7456.186631157907,
          10440.999999999996,
          4430.000000000004,
          5443,
          8267.000000000005,
          10676.999999999996,
          6875,
          7121,
          7938.999999999996,
          9213.78962961405,
          7037,
          4425,
          5167,
          13966.000000000011,
          8989.000000000004,
          5451,
          15237.999999999995,
          6481.999999999996,
          10883.999999999998,
          8213.999999999998,
          9965.074452483088,
          10245,
          14480,
          9783.999999999996,
          11800.000000000002,
          7813,
          4276.000000000004,
          8292,
          7509.999999999993,
          5418.999999999996,
          13935.999999999996,
          11619,
          8332.91844315895,
          8834,
          14871,
          14604.000000000004,
          1574.000000000002
         ]
        },
        {
         "name": "Participant 2",
         "type": "bar",
         "x": [
          "Friday",
          "Saturday",
          "Sunday",
          "Monday",
          "Tuesday",
          "Wednesday",
          "Thursday",
          "Friday",
          "Saturday",
          "Sunday",
          "Monday",
          "Tuesday",
          "Wednesday",
          "Thursday",
          "Friday",
          "Saturday",
          "Sunday",
          "Monday",
          "Tuesday",
          "Wednesday",
          "Thursday",
          "Friday",
          "Saturday",
          "Sunday",
          "Monday",
          "Tuesday",
          "Wednesday",
          "Thursday",
          "Friday",
          "Saturday",
          "Sunday",
          "Monday",
          "Tuesday",
          "Wednesday",
          "Thursday",
          "Friday",
          "Saturday",
          "Sunday",
          "Monday",
          "Tuesday",
          "Wednesday",
          "Thursday",
          "Friday",
          "Saturday",
          "Sunday",
          "Monday",
          "Tuesday",
          "Wednesday",
          "Thursday",
          "Friday",
          "Saturday",
          "Sunday",
          "Monday",
          "Tuesday",
          "Wednesday",
          "Thursday",
          "Friday",
          "Saturday",
          "Sunday",
          "Monday",
          "Tuesday",
          "Wednesday",
          "Thursday",
          "Friday",
          "Saturday",
          "Sunday",
          "Monday",
          "Tuesday",
          "Wednesday",
          "Thursday",
          "Friday",
          "Saturday",
          "Sunday",
          "Monday",
          "Tuesday",
          "Wednesday",
          "Thursday",
          "Friday",
          "Saturday",
          "Sunday",
          "Monday",
          "Tuesday",
          "Wednesday",
          "Thursday",
          "Friday",
          "Saturday",
          "Sunday",
          "Monday",
          "Tuesday",
          "Wednesday",
          "Thursday",
          "Friday",
          "Saturday",
          "Sunday",
          "Monday",
          "Tuesday",
          "Wednesday",
          "Thursday",
          "Friday",
          "Saturday",
          "Sunday",
          "Monday",
          "Tuesday",
          "Wednesday",
          "Thursday",
          "Friday",
          "Saturday",
          "Sunday",
          "Monday",
          "Tuesday",
          "Wednesday",
          "Thursday",
          "Friday",
          "Saturday",
          "Sunday",
          "Monday",
          "Tuesday",
          "Wednesday",
          "Thursday",
          "Friday",
          "Saturday",
          "Sunday",
          "Monday",
          "Tuesday",
          "Wednesday",
          "Thursday",
          "Friday",
          "Saturday",
          "Sunday",
          "Monday",
          "Tuesday",
          "Wednesday",
          "Thursday",
          "Friday",
          "Saturday",
          "Sunday",
          "Monday",
          "Tuesday",
          "Wednesday",
          "Thursday",
          "Friday",
          "Saturday",
          "Sunday",
          "Monday",
          "Tuesday",
          "Wednesday",
          "Thursday",
          "Friday",
          "Saturday",
          "Sunday",
          "Monday",
          "Tuesday",
          "Wednesday",
          "Thursday",
          "Friday",
          "Saturday",
          "Sunday",
          "Monday",
          "Tuesday",
          "Wednesday",
          "Thursday",
          "Friday",
          "Saturday",
          "Sunday",
          "Monday",
          "Tuesday",
          "Wednesday",
          "Thursday",
          "Friday",
          "Saturday",
          "Sunday",
          "Monday",
          "Tuesday",
          "Wednesday",
          "Thursday",
          "Friday",
          "Saturday",
          "Sunday",
          "Monday",
          "Tuesday",
          "Wednesday",
          "Thursday",
          "Friday",
          "Saturday",
          "Sunday",
          "Monday",
          "Tuesday",
          "Wednesday",
          "Thursday",
          "Friday",
          "Saturday",
          "Sunday",
          "Monday",
          "Tuesday",
          "Wednesday",
          "Thursday",
          "Friday",
          "Saturday",
          "Sunday",
          "Monday",
          "Tuesday",
          "Wednesday",
          "Thursday",
          "Friday",
          "Saturday",
          "Sunday",
          "Monday",
          "Tuesday",
          "Wednesday",
          "Thursday",
          "Friday",
          "Saturday",
          "Sunday",
          "Monday",
          "Tuesday",
          "Wednesday",
          "Thursday",
          "Friday",
          "Saturday",
          "Sunday",
          "Monday",
          "Tuesday",
          "Wednesday",
          "Thursday",
          "Friday",
          "Saturday",
          "Sunday",
          "Monday",
          "Tuesday",
          "Wednesday",
          "Thursday",
          "Friday",
          "Saturday",
          "Sunday",
          "Monday",
          "Tuesday",
          "Wednesday",
          "Thursday",
          "Friday",
          "Saturday",
          "Sunday",
          "Monday",
          "Tuesday",
          "Wednesday",
          "Thursday"
         ],
         "y": [
          36,
          11271,
          10709,
          4956,
          11115,
          9371,
          12214,
          4986,
          5684,
          9041,
          8334,
          2046,
          5964,
          9511,
          11951,
          10361,
          8685,
          11539,
          4043,
          6286,
          7008,
          12252,
          12003,
          3318,
          9323,
          5136,
          7491,
          7526,
          5186,
          9409,
          5140,
          5894,
          10384,
          2247,
          9540,
          5440,
          7744,
          2890,
          2527,
          3248,
          6992,
          6355,
          4465,
          1852,
          12075,
          8511,
          7015,
          10065,
          7810,
          5210,
          3205,
          6517,
          8501,
          3047,
          6303,
          6422,
          4870,
          7135,
          6581,
          5313,
          5446,
          4008,
          5595,
          5769,
          2921,
          2742,
          3803,
          4825,
          3641,
          7723,
          9847,
          5855,
          9037,
          8101,
          7577,
          7467,
          3229,
          7211,
          10655,
          16064,
          10235,
          6039,
          6043,
          8007,
          6195,
          10433,
          2504,
          8102,
          10127,
          6386,
          6085,
          3752,
          8036,
          6778,
          3367,
          11045,
          5989,
          4700,
          6378,
          3304,
          9338,
          7808,
          9326,
          5375,
          7200,
          5849,
          7561,
          2822,
          2843,
          7772,
          10383,
          4160,
          3077,
          4492,
          5351,
          13694,
          3604,
          8601,
          2733,
          6078,
          5564,
          10884,
          8126,
          6956,
          5575,
          7723,
          7227,
          6988,
          6260,
          3350,
          8034,
          8567,
          787,
          5029,
          3697,
          1802,
          6057,
          10837,
          4972,
          10095,
          2224,
          11156,
          4184,
          2334,
          4452,
          6634,
          6148,
          3065,
          6417,
          3105,
          2355,
          11054,
          10885,
          8190,
          5748,
          11112,
          1714,
          9942,
          22028,
          10147,
          7954,
          2912,
          3142,
          10504,
          8183,
          5402,
          5302,
          19220,
          5883,
          3067,
          2808,
          2632,
          9908,
          11005,
          6675,
          4144,
          3042,
          7176,
          12214,
          7347,
          7737,
          6177,
          5107,
          2630,
          3540,
          4340,
          3996,
          4825,
          8423,
          6151,
          6480,
          5825,
          12222,
          8122,
          4448,
          4437,
          10832,
          3358,
          9958,
          5577,
          2874,
          5966,
          6068,
          6817,
          5791,
          3798,
          4853,
          3583,
          12931,
          11120,
          5412,
          8519,
          2301,
          4281,
          8706,
          7314,
          5229,
          6606,
          5104,
          5503,
          4269,
          3856,
          12581,
          8799,
          5740,
          11817,
          3026,
          3820,
          5169,
          6154,
          3609,
          11388,
          4641,
          8253,
          5706,
          4351,
          9082,
          4550,
          11725,
          11731,
          8490,
          6624,
          9169,
          8413,
          6803
         ]
        },
        {
         "name": "Participant 3",
         "type": "bar",
         "x": [
          "Friday",
          "Saturday",
          "Sunday",
          "Monday",
          "Tuesday",
          "Wednesday",
          "Thursday",
          "Friday",
          "Saturday",
          "Sunday",
          "Thursday",
          "Friday",
          "Saturday",
          "Sunday",
          "Monday",
          "Tuesday",
          "Wednesday",
          "Thursday",
          "Friday",
          "Saturday",
          "Sunday",
          "Monday",
          "Tuesday",
          "Wednesday",
          "Thursday",
          "Friday",
          "Saturday",
          "Sunday",
          "Monday",
          "Tuesday",
          "Wednesday",
          "Thursday",
          "Friday",
          "Saturday",
          "Sunday",
          "Monday",
          "Tuesday",
          "Wednesday",
          "Sunday",
          "Monday",
          "Tuesday",
          "Wednesday",
          "Thursday",
          "Friday",
          "Saturday",
          "Sunday",
          "Monday",
          "Tuesday",
          "Wednesday",
          "Thursday",
          "Friday",
          "Saturday",
          "Sunday",
          "Monday",
          "Tuesday",
          "Wednesday",
          "Thursday",
          "Friday",
          "Saturday",
          "Sunday",
          "Monday",
          "Tuesday",
          "Wednesday",
          "Sunday",
          "Monday",
          "Tuesday",
          "Wednesday",
          "Thursday",
          "Friday",
          "Saturday",
          "Sunday",
          "Monday",
          "Tuesday",
          "Wednesday",
          "Thursday",
          "Friday",
          "Saturday",
          "Sunday",
          "Monday",
          "Tuesday",
          "Wednesday",
          "Thursday",
          "Friday",
          "Saturday",
          "Sunday",
          "Monday",
          "Tuesday",
          "Wednesday",
          "Thursday",
          "Friday",
          "Saturday",
          "Wednesday",
          "Thursday",
          "Friday",
          "Saturday",
          "Sunday",
          "Monday",
          "Tuesday",
          "Wednesday",
          "Thursday",
          "Friday",
          "Saturday",
          "Sunday",
          "Monday",
          "Tuesday",
          "Wednesday",
          "Thursday",
          "Friday",
          "Saturday",
          "Sunday",
          "Monday",
          "Tuesday",
          "Wednesday",
          "Thursday",
          "Friday",
          "Saturday",
          "Sunday",
          "Monday",
          "Friday",
          "Saturday",
          "Sunday",
          "Monday",
          "Tuesday",
          "Wednesday",
          "Thursday",
          "Friday",
          "Saturday",
          "Sunday",
          "Monday",
          "Tuesday",
          "Wednesday",
          "Thursday",
          "Friday",
          "Saturday",
          "Sunday",
          "Monday",
          "Tuesday",
          "Wednesday",
          "Thursday",
          "Friday",
          "Saturday",
          "Sunday",
          "Monday",
          "Tuesday",
          "Wednesday",
          "Thursday",
          "Monday",
          "Tuesday",
          "Wednesday",
          "Thursday",
          "Friday",
          "Saturday",
          "Sunday",
          "Monday",
          "Tuesday",
          "Wednesday",
          "Thursday",
          "Friday",
          "Saturday",
          "Sunday",
          "Monday",
          "Tuesday",
          "Wednesday",
          "Thursday",
          "Friday",
          "Saturday",
          "Sunday",
          "Monday",
          "Tuesday",
          "Wednesday",
          "Thursday",
          "Friday",
          "Saturday",
          "Wednesday",
          "Thursday",
          "Friday",
          "Saturday",
          "Sunday",
          "Monday",
          "Tuesday",
          "Wednesday",
          "Thursday",
          "Friday",
          "Saturday",
          "Sunday",
          "Monday",
          "Tuesday",
          "Wednesday",
          "Thursday",
          "Friday",
          "Saturday",
          "Sunday",
          "Monday",
          "Tuesday",
          "Wednesday",
          "Thursday",
          "Friday",
          "Saturday",
          "Sunday",
          "Monday",
          "Tuesday",
          "Saturday",
          "Sunday",
          "Monday",
          "Tuesday",
          "Wednesday",
          "Thursday",
          "Friday",
          "Saturday",
          "Sunday",
          "Monday",
          "Tuesday",
          "Wednesday",
          "Thursday",
          "Friday",
          "Saturday",
          "Sunday",
          "Monday",
          "Tuesday",
          "Wednesday",
          "Thursday",
          "Friday",
          "Saturday",
          "Sunday",
          "Monday",
          "Tuesday",
          "Wednesday",
          "Thursday",
          "Saturday",
          "Sunday",
          "Monday",
          "Tuesday",
          "Wednesday",
          "Thursday",
          "Friday",
          "Saturday",
          "Tuesday",
          "Wednesday",
          "Thursday",
          "Friday",
          "Saturday",
          "Sunday",
          "Monday",
          "Tuesday",
          "Thursday",
          "Friday",
          "Saturday",
          "Sunday",
          "Monday",
          "Tuesday",
          "Wednesday",
          "Thursday"
         ],
         "y": [
          0,
          1613.999999981,
          43,
          7460.9999998,
          9360.9999995,
          5008.0000003000005,
          857,
          6801.00000072,
          10577,
          12851,
          649,
          722,
          4664.9999995,
          3176,
          134,
          797,
          217,
          127,
          125,
          936,
          237,
          769,
          122,
          184,
          31,
          29,
          9,
          14432,
          6223.0000006,
          5822,
          11343.9999995,
          4361.0000007,
          13126.0000001,
          11410.00000112,
          180,
          1836,
          7305,
          8016,
          3095,
          11424.999999761,
          7916.9999996,
          15800.999999619999,
          12503.999999849999,
          11873.99999964,
          7690,
          8148.000000399999,
          10610.9999995,
          6217.00000003,
          7688,
          9440.0000005,
          7926.999999600001,
          666,
          9595.0000002,
          69,
          1959,
          9708.9999997,
          727,
          641,
          9269.0000008,
          837,
          1176,
          5905,
          1238,
          68,
          87.99999999799999,
          8522.0000001,
          8936.0000002,
          10816,
          10903.00000003,
          4897,
          13061.0000004,
          8580,
          7958,
          7719.00000022,
          10096.0000003,
          8426.0000004,
          6301.9999999,
          1356,
          751.9999999800001,
          75,
          8715,
          9765.9999999,
          61,
          7548.00000039,
          10406.00000007,
          0,
          13013.999999880001,
          542,
          711,
          6721,
          1584,
          8172.999999600001,
          909,
          88,
          6246.0000004,
          1086,
          72,
          67,
          12941.9999999,
          9596.9999996,
          37,
          176,
          1448.99999998,
          3234,
          61,
          7181,
          5798.0000001,
          8430.9999999,
          2840.99999999,
          236,
          9510.00000012,
          11734.9999999,
          8911,
          28204.999999800002,
          92,
          33,
          12558.9999996,
          11337.9999996,
          9678,
          2183,
          6637.999999600001,
          8506.9999995,
          9753.99999954,
          10644.0000001,
          9516.00000032,
          9698.999999759999,
          2108,
          5716,
          9977.9999999,
          7878,
          15618,
          607,
          121,
          644.99999998,
          72.000000004,
          671,
          123,
          669.99999998,
          131,
          540,
          10217.99999971,
          7819.000000211,
          12002.0000002,
          682,
          3968.000000004,
          10230.0000002,
          53,
          555.99999999,
          11058,
          9119.99999999,
          12918.0000004,
          1745,
          626,
          11467.0000004,
          8130.0000003000005,
          12606.99999966,
          9793.0000001,
          3903,
          11777.0000004,
          10,
          7767.0000002,
          4917.999999963,
          7650,
          6267.00000024,
          2809.9999997,
          721,
          10036.9999994,
          7977.9999999,
          2849,
          9637.0000001,
          703.0000000299999,
          2655,
          13050.0000002,
          42,
          5676,
          7293.9999996999995,
          1874.0000000700002,
          612,
          8582.0000005,
          8582.9999997,
          7504,
          908.99999996,
          2743.99999999,
          2768.999999968,
          33,
          499.00000001,
          16,
          6570,
          7544,
          5746.0000001,
          4372.00000027,
          6987,
          45,
          9623.9999995,
          711,
          9318.00000022,
          3791,
          10311,
          70,
          11050.99999947,
          7808.9999998,
          8483,
          22187.000000599997,
          7224.99999957,
          8212,
          8919.0000002,
          13097.00000045,
          10633.0000002,
          632,
          611,
          13077.9999999,
          6708.999999899999,
          5808.0000004,
          9952.000000075,
          8538.000000600001,
          2295,
          1118,
          12679.0000002,
          9600.0000002,
          8648.00000002,
          2684,
          10759,
          1231,
          8682.9999996,
          6560,
          426,
          4034.0000001000003,
          9734.99999987,
          551,
          10649.999999,
          13390.999999599999,
          647.9999999910001,
          7418.9999996,
          733,
          3814.99999996,
          6469.9999993,
          62,
          9367.9999998,
          9467.999999399999,
          97,
          8045.00000081,
          3966.9999999,
          9374.0000001,
          7811.00000007,
          2023,
          1348,
          8770.9999998,
          9169.00000053,
          4570.999999975,
          2733,
          11521.99999893,
          6875
         ]
        },
        {
         "name": "Participant 4",
         "type": "bar",
         "x": [
          "Saturday",
          "Sunday",
          "Monday",
          "Tuesday",
          "Wednesday",
          "Thursday",
          "Friday",
          "Saturday",
          "Sunday",
          "Monday",
          "Tuesday",
          "Wednesday",
          "Thursday",
          "Friday",
          "Saturday",
          "Sunday",
          "Monday",
          "Tuesday",
          "Wednesday",
          "Thursday",
          "Friday",
          "Saturday",
          "Sunday",
          "Monday",
          "Tuesday",
          "Wednesday",
          "Thursday",
          "Friday",
          "Saturday",
          "Sunday",
          "Monday",
          "Tuesday",
          "Wednesday",
          "Thursday",
          "Friday",
          "Saturday",
          "Sunday",
          "Monday",
          "Tuesday",
          "Wednesday",
          "Thursday",
          "Friday",
          "Saturday",
          "Sunday",
          "Monday",
          "Tuesday",
          "Wednesday",
          "Thursday",
          "Friday",
          "Saturday",
          "Sunday",
          "Monday",
          "Tuesday",
          "Wednesday",
          "Thursday",
          "Friday",
          "Saturday",
          "Sunday",
          "Monday",
          "Tuesday",
          "Wednesday",
          "Thursday",
          "Friday",
          "Saturday",
          "Sunday",
          "Monday",
          "Tuesday",
          "Wednesday",
          "Thursday",
          "Friday",
          "Saturday",
          "Sunday",
          "Monday",
          "Tuesday",
          "Wednesday",
          "Thursday",
          "Friday",
          "Saturday",
          "Sunday",
          "Monday",
          "Tuesday",
          "Wednesday",
          "Thursday",
          "Friday",
          "Saturday",
          "Sunday",
          "Monday",
          "Tuesday",
          "Wednesday",
          "Thursday",
          "Friday",
          "Saturday",
          "Sunday",
          "Monday",
          "Tuesday",
          "Wednesday",
          "Thursday",
          "Friday",
          "Saturday",
          "Sunday",
          "Monday",
          "Tuesday",
          "Wednesday",
          "Thursday",
          "Friday",
          "Saturday",
          "Sunday",
          "Monday",
          "Tuesday",
          "Wednesday",
          "Thursday",
          "Friday",
          "Saturday",
          "Sunday",
          "Monday",
          "Tuesday",
          "Wednesday",
          "Thursday",
          "Friday",
          "Saturday",
          "Sunday",
          "Monday",
          "Tuesday",
          "Wednesday",
          "Thursday",
          "Friday",
          "Saturday",
          "Sunday",
          "Monday",
          "Tuesday",
          "Wednesday",
          "Thursday",
          "Friday",
          "Saturday",
          "Sunday",
          "Monday",
          "Tuesday",
          "Wednesday",
          "Thursday",
          "Friday",
          "Saturday",
          "Sunday",
          "Monday",
          "Tuesday",
          "Wednesday",
          "Thursday",
          "Friday",
          "Saturday",
          "Sunday",
          "Monday",
          "Tuesday",
          "Wednesday",
          "Thursday",
          "Friday",
          "Saturday",
          "Sunday",
          "Monday",
          "Tuesday",
          "Wednesday",
          "Thursday",
          "Friday",
          "Saturday",
          "Sunday",
          "Monday",
          "Tuesday",
          "Wednesday",
          "Thursday",
          "Friday",
          "Saturday",
          "Sunday",
          "Monday",
          "Tuesday",
          "Wednesday",
          "Thursday",
          "Friday",
          "Saturday",
          "Sunday",
          "Monday",
          "Tuesday",
          "Wednesday",
          "Thursday",
          "Friday",
          "Saturday",
          "Sunday",
          "Monday",
          "Tuesday",
          "Wednesday",
          "Thursday",
          "Friday",
          "Saturday",
          "Sunday",
          "Monday",
          "Tuesday",
          "Wednesday",
          "Thursday",
          "Friday",
          "Saturday",
          "Sunday",
          "Monday",
          "Tuesday",
          "Wednesday",
          "Thursday",
          "Friday",
          "Saturday",
          "Sunday",
          "Monday",
          "Tuesday",
          "Wednesday",
          "Thursday",
          "Friday",
          "Saturday",
          "Sunday",
          "Monday",
          "Tuesday",
          "Wednesday",
          "Thursday",
          "Friday",
          "Saturday",
          "Sunday",
          "Monday",
          "Tuesday",
          "Wednesday",
          "Thursday",
          "Friday",
          "Saturday",
          "Sunday",
          "Monday",
          "Tuesday",
          "Wednesday",
          "Thursday",
          "Friday",
          "Saturday",
          "Sunday",
          "Monday",
          "Tuesday",
          "Wednesday",
          "Thursday",
          "Friday",
          "Saturday",
          "Sunday",
          "Monday",
          "Tuesday",
          "Wednesday",
          "Thursday",
          "Friday",
          "Saturday",
          "Sunday",
          "Monday",
          "Tuesday",
          "Wednesday",
          "Thursday"
         ],
         "y": [
          6291.000000000001,
          17815,
          8173.715752563299,
          8843.948159155982,
          8341.34442974679,
          6381.999999999996,
          17384.000000000004,
          15248.000000000011,
          6764.000000000004,
          7351.616541858881,
          10433.000000000002,
          7326.891083058931,
          4739,
          7474.122260015211,
          23558.99999999998,
          11116.715649758708,
          10628.815119808762,
          8351.000000000002,
          6461.619993735303,
          17917.000000000004,
          6859.999999999999,
          20566.999999999996,
          5923.117854656953,
          7688,
          15664.94975286896,
          5127.999999999996,
          12349.000000000002,
          7246.999999999998,
          26690.999999999996,
          7924.000000000006,
          5143.000000000001,
          7361.999999999997,
          6143.321922518873,
          18013,
          5262.913296903462,
          23347.000000000004,
          6960.475570938082,
          5385.000000000003,
          14665.000000000002,
          6407.9999999999945,
          17857.376206407633,
          8300.999999999993,
          25701,
          7869.999999999996,
          10885.000000000005,
          13991,
          6280.45624332978,
          11372.000000000002,
          4782.863413429402,
          27774.999999999996,
          8324.999999999996,
          8620.76836158192,
          12245.78814049781,
          11669,
          11693.999999999996,
          7556.999999999997,
          17623.999999999996,
          5056.999999999998,
          5533,
          12914.999999999993,
          8659.000000000002,
          4386,
          8953,
          26011.031920941947,
          7800.230053962752,
          5326,
          10018,
          10174.907148055758,
          12474.000000000004,
          8716,
          22585,
          7677.9999999999945,
          14255.000000000004,
          13196.022543618752,
          11014.999999999996,
          13129.999999999998,
          7614,
          5554.999999999998,
          23321.000000000004,
          5714.910059278686,
          13672.071855303133,
          6401.000000000005,
          7179.999999999994,
          5785.56871229181,
          27971,
          7571.999999999999,
          6790.65426770191,
          17986.999999999993,
          11814.000000000005,
          13890.999999999989,
          5958.999999999997,
          24638.3589516128,
          6655.000000000002,
          8887,
          17874.083331145783,
          3828,
          11874.22847055717,
          16260.022290653576,
          29017,
          14611.999999999998,
          8402.670381079934,
          11575,
          6102.999999999997,
          16747,
          10908.000000000002,
          26223.334803005626,
          11665.172292124915,
          6055.54056137176,
          3985,
          9207.574262444541,
          9249.4086712044,
          9031.29052504917,
          21956.000000000004,
          8315.000000000002,
          18303.999999999993,
          17482.999999999996,
          4613,
          12964.999999999995,
          7776.0000000000055,
          26135.999999999996,
          7853.818086091178,
          7095.999999999995,
          14962,
          6923.02883111072,
          14093.000000000004,
          11940.000000000004,
          24772.000000000004,
          11178.557162588328,
          5823.999999999999,
          10950,
          12540.175738819242,
          11875,
          16972.52690624803,
          24885.999999999996,
          8452,
          5434.090514100628,
          16495,
          18935.000000000004,
          10862.0584955924,
          9100.999999999995,
          27535.11451243924,
          13189,
          4538,
          14839.999999999995,
          8607.000000000002,
          11758.656704492258,
          6484.999999999998,
          24741.000000000004,
          8388,
          5264.538723486051,
          3597.9999999999995,
          11712.999999999996,
          16552.905540872747,
          4481.999999999998,
          27166.000000000015,
          3397.0000000000005,
          3658.999999999999,
          4925,
          6848.0056873575695,
          14122,
          11246.999999999998,
          20694.000000000007,
          5534.999999999998,
          4270,
          14666.999999999998,
          8786.999999999998,
          3985.0000000000005,
          12652.000000000004,
          22215.640858031657,
          5523,
          7591.999999999999,
          10169.000000000004,
          4336,
          9160.999999999996,
          6006.999999999996,
          26305.000000000004,
          11244.999999999995,
          1925,
          3961.9999999999964,
          6688.919661827578,
          14257,
          8490.437815790321,
          12752.0731028093,
          16206,
          29467.000000000004,
          14360.999999999995,
          9846.157131710837,
          2267.9999999999964,
          8921.624830563023,
          22757.37516943698,
          3753.0193977581575,
          8658.97027113205,
          8561.57634197172,
          8643.788459921081,
          11567.327225185983,
          19022,
          6142.4545666222,
          15054,
          10043.235939430951,
          13450,
          19896,
          9204.189079441112,
          6293.000000000001,
          21196.390935263647,
          11862.195941958358,
          9707.999999999998,
          6639.999999999998,
          11712.216387466364,
          9035,
          17678.160585122474,
          26939.000000000004,
          7458.814982994611,
          7907.000000000001,
          5460.505389688468,
          7547.9999999999945,
          8063,
          6214.955726572457,
          22716.000000000004,
          7017.712316178026,
          20699,
          2427,
          9469.000000000011,
          9403,
          3840.000000000001,
          25089,
          9103.999999999996,
          11651.000000000004,
          4141.443682906771,
          7885.999999999996,
          16584,
          9436.665182885907,
          21346,
          12766.000000000004,
          7315,
          12763,
          11440.000000000002,
          11858.132303433575,
          8152.999999999999,
          11370.125327806662,
          5172,
          14686.000000000002,
          9184.019739795971,
          10954,
          15260.999999999998,
          6061.001770988241,
          18080,
          6273.361038157697,
          8598,
          14000.000000000002,
          10517.000000000002,
          14319
         ]
        },
        {
         "name": "Participant 5",
         "type": "bar",
         "x": [
          "Saturday",
          "Sunday",
          "Monday",
          "Tuesday",
          "Wednesday",
          "Thursday",
          "Friday",
          "Monday",
          "Thursday",
          "Tuesday",
          "Wednesday",
          "Thursday",
          "Friday",
          "Saturday",
          "Sunday",
          "Monday",
          "Tuesday",
          "Wednesday",
          "Thursday",
          "Friday",
          "Saturday",
          "Sunday",
          "Monday",
          "Tuesday",
          "Wednesday",
          "Thursday",
          "Friday",
          "Saturday",
          "Sunday",
          "Monday",
          "Tuesday",
          "Wednesday",
          "Thursday",
          "Friday",
          "Saturday",
          "Sunday",
          "Monday",
          "Tuesday",
          "Wednesday",
          "Thursday",
          "Friday",
          "Saturday",
          "Sunday",
          "Monday",
          "Tuesday",
          "Wednesday",
          "Thursday",
          "Friday",
          "Saturday",
          "Sunday",
          "Monday",
          "Tuesday",
          "Wednesday",
          "Thursday",
          "Friday",
          "Saturday",
          "Sunday",
          "Monday",
          "Tuesday",
          "Wednesday",
          "Thursday",
          "Friday",
          "Saturday",
          "Sunday",
          "Monday",
          "Tuesday",
          "Wednesday",
          "Thursday",
          "Friday",
          "Saturday",
          "Sunday",
          "Monday",
          "Tuesday",
          "Wednesday",
          "Thursday",
          "Friday",
          "Saturday",
          "Sunday",
          "Monday",
          "Tuesday",
          "Wednesday",
          "Thursday",
          "Friday",
          "Saturday",
          "Sunday",
          "Monday",
          "Tuesday",
          "Wednesday",
          "Thursday",
          "Friday",
          "Saturday",
          "Sunday",
          "Monday",
          "Tuesday",
          "Wednesday",
          "Thursday",
          "Friday",
          "Saturday",
          "Sunday",
          "Monday",
          "Tuesday",
          "Wednesday",
          "Thursday",
          "Friday",
          "Saturday",
          "Sunday",
          "Monday",
          "Tuesday",
          "Wednesday",
          "Thursday",
          "Friday",
          "Saturday",
          "Sunday",
          "Monday",
          "Tuesday",
          "Wednesday",
          "Thursday",
          "Friday",
          "Saturday",
          "Sunday",
          "Monday",
          "Tuesday",
          "Wednesday",
          "Thursday",
          "Friday",
          "Saturday",
          "Sunday",
          "Monday",
          "Tuesday",
          "Wednesday",
          "Thursday",
          "Friday",
          "Saturday",
          "Sunday",
          "Monday",
          "Tuesday",
          "Wednesday",
          "Thursday",
          "Friday",
          "Saturday",
          "Sunday",
          "Monday",
          "Tuesday",
          "Wednesday",
          "Thursday",
          "Friday",
          "Saturday",
          "Sunday",
          "Monday",
          "Tuesday",
          "Wednesday",
          "Thursday",
          "Friday",
          "Saturday",
          "Sunday",
          "Monday",
          "Tuesday",
          "Wednesday",
          "Thursday",
          "Friday",
          "Saturday",
          "Sunday",
          "Monday",
          "Tuesday",
          "Wednesday",
          "Thursday",
          "Friday",
          "Saturday",
          "Sunday",
          "Monday",
          "Tuesday",
          "Wednesday",
          "Thursday",
          "Friday",
          "Saturday",
          "Sunday",
          "Monday",
          "Tuesday",
          "Wednesday",
          "Thursday",
          "Friday",
          "Saturday",
          "Sunday",
          "Monday",
          "Tuesday",
          "Wednesday",
          "Thursday",
          "Friday",
          "Saturday",
          "Sunday",
          "Monday",
          "Tuesday",
          "Wednesday",
          "Thursday",
          "Friday",
          "Saturday",
          "Sunday",
          "Monday",
          "Tuesday",
          "Wednesday",
          "Thursday",
          "Friday",
          "Saturday",
          "Sunday",
          "Monday",
          "Tuesday",
          "Wednesday",
          "Thursday",
          "Friday",
          "Saturday",
          "Sunday",
          "Monday",
          "Tuesday",
          "Wednesday",
          "Thursday",
          "Friday",
          "Saturday",
          "Sunday",
          "Monday",
          "Tuesday",
          "Wednesday",
          "Thursday"
         ],
         "y": [
          114,
          8479,
          5104,
          8031,
          7743,
          8810,
          2707,
          239,
          4,
          32,
          6440,
          5468,
          4540,
          2916,
          5355,
          12351,
          7261,
          5843,
          3825,
          6248,
          3046,
          9380,
          8369,
          4992,
          4516,
          4179,
          3403,
          3022,
          7081,
          10126,
          6778,
          8282,
          6267,
          3150,
          5071,
          9752,
          8489,
          4658,
          9049,
          11677,
          3310,
          3246,
          9977,
          9900,
          3354,
          6553,
          15940,
          8285,
          9061,
          10125,
          17175,
          9825,
          9155,
          8625,
          5241,
          8726,
          2429,
          12484,
          9000,
          9272,
          15764,
          14412,
          16677,
          12677,
          12132,
          6447,
          163,
          6598,
          3578,
          22396,
          25827,
          13992,
          13125,
          9451,
          14067,
          18481,
          8253,
          23202,
          15145,
          18749,
          11676,
          17630,
          10033,
          7395,
          8200,
          9763,
          6093,
          9860,
          4826,
          17816,
          8969,
          17785,
          9476,
          4245,
          7694,
          17949,
          46523,
          31052,
          14185,
          12940,
          3494,
          2792,
          6811,
          4886,
          6119,
          5319,
          12266,
          3242,
          3720,
          8254,
          4033,
          8002,
          11055,
          12208,
          4415,
          4782,
          10831,
          5282,
          8160,
          13727,
          8081,
          7025,
          6876,
          7618,
          8373,
          11384,
          6447,
          6680,
          10100,
          8626,
          6391,
          8685,
          11052,
          16514,
          18939,
          8212,
          11065,
          6528,
          9141,
          7307,
          21138,
          16138,
          15736,
          43749,
          15597,
          12147,
          12063,
          12718,
          21048,
          15012,
          28205,
          14414,
          14465,
          9378,
          14356,
          3511,
          2330,
          5296,
          12512,
          13577,
          7183,
          8113,
          7133,
          5672,
          5877,
          6283,
          13337,
          7109,
          4910,
          10886,
          11012,
          11349,
          9193,
          9555,
          10617,
          9688,
          8903,
          7180,
          4115,
          4236,
          8664,
          7488,
          6420,
          5536,
          7359,
          4363,
          3293,
          10545,
          10374,
          10045,
          6935,
          13649,
          4804,
          3158,
          7349,
          11078,
          6193,
          3564,
          3742,
          5486,
          5169,
          4373,
          5521,
          5988,
          5188,
          10557,
          8648,
          8424,
          13213,
          10751,
          9664,
          6084,
          8671,
          8195,
          10596,
          11186,
          12485,
          12888,
          5994,
          9820,
          10523,
          6801
         ]
        },
        {
         "name": "Participant 7",
         "type": "bar",
         "x": [
          "Saturday",
          "Sunday",
          "Monday",
          "Tuesday",
          "Wednesday",
          "Thursday",
          "Friday",
          "Saturday",
          "Sunday",
          "Monday",
          "Tuesday",
          "Wednesday",
          "Thursday",
          "Friday",
          "Saturday",
          "Sunday",
          "Monday",
          "Tuesday",
          "Wednesday",
          "Thursday",
          "Friday",
          "Saturday",
          "Sunday",
          "Monday",
          "Tuesday",
          "Wednesday",
          "Thursday",
          "Friday",
          "Saturday",
          "Sunday",
          "Monday",
          "Tuesday",
          "Wednesday",
          "Thursday",
          "Friday",
          "Saturday",
          "Sunday",
          "Monday",
          "Tuesday",
          "Wednesday",
          "Thursday",
          "Friday",
          "Saturday",
          "Sunday",
          "Monday",
          "Tuesday",
          "Wednesday",
          "Thursday",
          "Friday",
          "Saturday",
          "Sunday",
          "Monday",
          "Tuesday",
          "Wednesday",
          "Thursday",
          "Friday",
          "Saturday",
          "Sunday",
          "Monday",
          "Tuesday",
          "Wednesday",
          "Thursday",
          "Friday",
          "Saturday",
          "Sunday",
          "Monday",
          "Tuesday",
          "Wednesday",
          "Thursday",
          "Friday",
          "Saturday",
          "Sunday",
          "Monday",
          "Tuesday",
          "Wednesday",
          "Thursday",
          "Friday",
          "Saturday",
          "Sunday",
          "Monday",
          "Tuesday",
          "Wednesday",
          "Thursday",
          "Friday",
          "Saturday",
          "Sunday",
          "Monday",
          "Tuesday",
          "Wednesday",
          "Thursday",
          "Friday",
          "Saturday",
          "Sunday",
          "Monday",
          "Tuesday",
          "Wednesday",
          "Thursday",
          "Friday",
          "Saturday",
          "Sunday",
          "Monday",
          "Tuesday",
          "Wednesday",
          "Thursday",
          "Friday",
          "Saturday",
          "Sunday",
          "Monday",
          "Tuesday",
          "Wednesday",
          "Thursday",
          "Friday",
          "Saturday",
          "Sunday",
          "Monday",
          "Tuesday",
          "Wednesday",
          "Thursday",
          "Friday",
          "Saturday",
          "Sunday",
          "Monday",
          "Tuesday",
          "Wednesday",
          "Thursday",
          "Friday",
          "Saturday",
          "Sunday",
          "Monday",
          "Tuesday",
          "Wednesday",
          "Thursday",
          "Friday",
          "Saturday",
          "Sunday",
          "Monday",
          "Tuesday",
          "Wednesday",
          "Thursday",
          "Friday",
          "Saturday",
          "Sunday",
          "Monday",
          "Tuesday",
          "Wednesday",
          "Thursday",
          "Friday",
          "Saturday",
          "Sunday",
          "Monday",
          "Tuesday",
          "Wednesday",
          "Thursday",
          "Friday",
          "Saturday",
          "Sunday",
          "Monday",
          "Tuesday",
          "Wednesday",
          "Thursday",
          "Friday",
          "Saturday",
          "Sunday",
          "Monday",
          "Tuesday",
          "Wednesday",
          "Thursday",
          "Friday",
          "Saturday",
          "Sunday",
          "Monday",
          "Tuesday",
          "Wednesday",
          "Thursday",
          "Friday",
          "Saturday",
          "Sunday",
          "Monday",
          "Tuesday",
          "Wednesday",
          "Thursday",
          "Friday",
          "Saturday",
          "Sunday",
          "Monday",
          "Tuesday",
          "Wednesday",
          "Thursday",
          "Friday",
          "Saturday",
          "Sunday",
          "Monday",
          "Tuesday",
          "Wednesday",
          "Thursday",
          "Friday",
          "Saturday",
          "Sunday",
          "Monday",
          "Tuesday",
          "Wednesday",
          "Thursday",
          "Friday",
          "Saturday",
          "Sunday",
          "Monday",
          "Tuesday",
          "Wednesday",
          "Thursday",
          "Friday",
          "Saturday",
          "Sunday",
          "Monday",
          "Tuesday",
          "Wednesday",
          "Thursday",
          "Friday",
          "Saturday",
          "Sunday",
          "Monday",
          "Tuesday",
          "Wednesday",
          "Thursday",
          "Friday",
          "Saturday",
          "Sunday",
          "Monday",
          "Tuesday",
          "Wednesday",
          "Thursday",
          "Friday",
          "Saturday",
          "Sunday",
          "Monday",
          "Tuesday",
          "Wednesday",
          "Thursday",
          "Friday",
          "Saturday",
          "Sunday",
          "Monday",
          "Tuesday",
          "Wednesday",
          "Thursday",
          "Friday",
          "Saturday",
          "Sunday",
          "Monday",
          "Tuesday",
          "Wednesday",
          "Thursday",
          "Friday",
          "Saturday",
          "Sunday",
          "Monday",
          "Tuesday"
         ],
         "y": [
          6758,
          8034.999999999998,
          7241.000000000001,
          5955,
          11107.000000000007,
          3271.000000000002,
          7797.000000000001,
          8673.000000000004,
          3963.999999999995,
          7433,
          3411.0000000000005,
          10357.000000000004,
          9202.000000000007,
          5550.9999999999945,
          5449,
          4369.000000000004,
          11126,
          8205.999999999996,
          11177,
          10787.999999999998,
          14064.999999999998,
          6867,
          2376,
          10060.999999999995,
          8438,
          3674,
          9020.000000000004,
          7704.000000000001,
          10327.999999999995,
          2902,
          6640,
          10079.999999999998,
          7059,
          10065.999999999996,
          7386.999999999997,
          6954.999999999995,
          4586.999999999999,
          12165,
          3281.0000000000027,
          4243.000000000002,
          12110.000000000004,
          8172.000000000001,
          7780.000000000005,
          9435.000000000005,
          8292.999999999996,
          13429.999999999993,
          9802.999999999996,
          11095.999999999998,
          6670.0000000000055,
          10351.000000000002,
          6944.999999999996,
          7208.000000000003,
          8013.000000000001,
          10124.000000000004,
          7075.000000000003,
          5267.999999999997,
          5668,
          4075.000000000001,
          9362,
          4400,
          11325.999999999996,
          3791.0000000000005,
          5706,
          10051,
          6653.999999999999,
          6266.999999999995,
          6394.000000000005,
          9023.999999999995,
          7223.000000000002,
          4793,
          12852.999999999998,
          7138,
          5535,
          6826.000000000004,
          7673.000000000002,
          8019.000000000001,
          12052.999999999993,
          8390.000000000005,
          8379.999999999993,
          10050,
          15091.999999999989,
          7167.999999999998,
          8189.000000000002,
          9167.999999999993,
          11025.000000000004,
          6343.000000000003,
          8856.999999999998,
          4397.000000000004,
          5451,
          13493.000000000002,
          7690.0000000000055,
          10669,
          4364,
          10089.000000000002,
          11848.999999999993,
          9211.99999999999,
          7497.000000000003,
          6517.000000000002,
          7583.000000000003,
          6540.000000000005,
          12092,
          11031,
          7008.000000000002,
          10058.999999999989,
          2954,
          10043.000000000005,
          8777,
          8692,
          7180.999999999998,
          5337,
          7822.000000000004,
          9046.999999999993,
          7117.000000000006,
          12037,
          10101,
          4823.000000000005,
          2425,
          2237,
          2274.999999999999,
          3544.000000000001,
          1910,
          2165.9999999999995,
          10123.000000000013,
          6585.000000000001,
          11147.999999999995,
          10767.999999999996,
          5364.999999999999,
          6803.000000000002,
          7947.999999999998,
          7424.00000000001,
          7355,
          7923.999999999995,
          7248.9999999999945,
          12581.000000000002,
          4882,
          8887.000000000002,
          8134.999999999992,
          10406.999999999996,
          8229,
          5065,
          7792.999999999998,
          1345.9999999999995,
          10351.999999999996,
          5199,
          10853.000000000004,
          6852,
          5471.999999999998,
          11157,
          8030.999999999994,
          9229.000000000002,
          4839,
          9238.999999999998,
          9573.000000000004,
          5725,
          6145,
          7943.000000000005,
          4324,
          6797.999999999999,
          10717,
          9203.000000000005,
          7820.000000000002,
          6137,
          7089.000000000005,
          10183.999999999993,
          6157.9999999999945,
          3306,
          6497.999999999995,
          5039,
          9550,
          5678,
          6619,
          4864,
          7830.000000000001,
          7189.000000000003,
          6125.9999999999945,
          6045,
          6304,
          9245.999999999998,
          7649,
          10284.999999999993,
          12637.000000000004,
          10625.000000000004,
          3391,
          5353,
          4511,
          10395.00000000001,
          5239,
          4607,
          5170,
          6144,
          6206.000000000001,
          10598.99999999999,
          5851.999999999997,
          9091.000000000004,
          6891.999999999998,
          6903.000000000004,
          9339.999999999998,
          5936.999999999999,
          8764.999999999998,
          7051.999999999996,
          7347.999999999998,
          4853,
          8595.999999999996,
          9203.000000000004,
          7082.999999999997,
          10501.000000000011,
          8263.000000000004,
          8900.000000000007,
          10246.000000000004,
          4131,
          11873,
          7427.999999999998,
          10510.999999999996,
          7544.999999999997,
          6374,
          10371.999999999998,
          9861,
          9812.035842155145,
          7846,
          7280,
          6753,
          8503.192369358183,
          6849,
          8304.42761837267,
          9014.999999999996,
          10200,
          10972.000000000002,
          10312.04464416856,
          6106,
          8604.53723125757,
          7899.999999999995,
          8641.861653605905,
          7279.871338110169,
          6654.50885192466,
          10803.20775434967,
          8922.76623386611,
          8116.207197743346,
          5527,
          6044.999999999993,
          8639.888452876905,
          8016.9110864214035,
          11837.384971189924,
          7845.437458663842,
          2957,
          2894.0000000000005,
          8608.250644230395,
          7920.147475364952,
          11370.218818263027,
          11465.061083066379,
          7863.519654666039,
          10875.000000000005,
          7468.884446952269,
          9341.000000000004,
          6823.000000000002,
          11035.366487907088,
          2049
         ]
        },
        {
         "name": "Participant 8",
         "type": "bar",
         "x": [
          "Saturday",
          "Sunday",
          "Monday",
          "Tuesday",
          "Wednesday",
          "Thursday",
          "Friday",
          "Saturday",
          "Sunday",
          "Monday",
          "Tuesday",
          "Wednesday",
          "Thursday",
          "Friday",
          "Saturday",
          "Sunday",
          "Monday",
          "Tuesday",
          "Wednesday",
          "Thursday",
          "Friday",
          "Saturday",
          "Sunday",
          "Monday",
          "Tuesday",
          "Wednesday",
          "Thursday",
          "Friday",
          "Saturday",
          "Sunday",
          "Monday",
          "Tuesday",
          "Wednesday",
          "Thursday",
          "Friday",
          "Saturday",
          "Sunday",
          "Monday",
          "Tuesday",
          "Wednesday",
          "Thursday",
          "Friday",
          "Saturday",
          "Sunday",
          "Monday",
          "Tuesday",
          "Wednesday",
          "Thursday",
          "Friday",
          "Saturday",
          "Sunday",
          "Monday",
          "Tuesday",
          "Wednesday",
          "Thursday",
          "Friday",
          "Saturday",
          "Sunday",
          "Monday",
          "Tuesday",
          "Wednesday",
          "Thursday",
          "Friday",
          "Saturday",
          "Sunday",
          "Monday",
          "Tuesday",
          "Wednesday",
          "Thursday",
          "Friday",
          "Saturday",
          "Sunday",
          "Monday",
          "Tuesday",
          "Wednesday",
          "Thursday",
          "Friday",
          "Saturday",
          "Sunday",
          "Monday",
          "Tuesday",
          "Wednesday",
          "Thursday",
          "Friday",
          "Saturday",
          "Sunday",
          "Monday",
          "Tuesday",
          "Wednesday",
          "Thursday",
          "Friday",
          "Saturday",
          "Sunday",
          "Monday",
          "Tuesday",
          "Wednesday",
          "Thursday",
          "Friday",
          "Saturday",
          "Sunday",
          "Monday",
          "Tuesday",
          "Wednesday",
          "Thursday",
          "Friday",
          "Saturday",
          "Sunday",
          "Monday",
          "Tuesday",
          "Wednesday",
          "Thursday",
          "Friday",
          "Saturday",
          "Sunday",
          "Monday",
          "Tuesday",
          "Wednesday",
          "Thursday",
          "Friday",
          "Saturday",
          "Sunday",
          "Monday",
          "Tuesday",
          "Wednesday",
          "Thursday",
          "Friday",
          "Saturday",
          "Sunday",
          "Monday",
          "Tuesday",
          "Wednesday",
          "Thursday",
          "Friday",
          "Saturday",
          "Sunday",
          "Monday",
          "Tuesday",
          "Wednesday",
          "Thursday",
          "Friday",
          "Saturday",
          "Sunday",
          "Monday",
          "Tuesday",
          "Wednesday",
          "Thursday",
          "Friday",
          "Saturday",
          "Sunday",
          "Monday",
          "Tuesday",
          "Wednesday",
          "Thursday",
          "Friday",
          "Saturday",
          "Sunday",
          "Monday",
          "Tuesday",
          "Wednesday",
          "Thursday",
          "Friday",
          "Saturday",
          "Sunday",
          "Monday",
          "Tuesday",
          "Wednesday",
          "Thursday",
          "Friday",
          "Saturday",
          "Sunday",
          "Monday",
          "Tuesday",
          "Wednesday",
          "Thursday",
          "Friday",
          "Saturday",
          "Sunday",
          "Monday",
          "Tuesday",
          "Wednesday",
          "Thursday",
          "Friday",
          "Saturday",
          "Sunday",
          "Monday",
          "Tuesday",
          "Wednesday",
          "Thursday",
          "Friday",
          "Saturday",
          "Sunday",
          "Monday",
          "Tuesday",
          "Wednesday",
          "Thursday",
          "Friday",
          "Saturday",
          "Sunday",
          "Monday",
          "Tuesday",
          "Wednesday",
          "Thursday",
          "Friday",
          "Saturday",
          "Sunday",
          "Monday",
          "Tuesday",
          "Wednesday",
          "Thursday",
          "Friday",
          "Saturday",
          "Sunday",
          "Monday",
          "Tuesday",
          "Wednesday",
          "Thursday",
          "Friday",
          "Saturday",
          "Sunday",
          "Monday",
          "Tuesday",
          "Wednesday",
          "Thursday",
          "Friday",
          "Saturday",
          "Sunday",
          "Monday",
          "Tuesday",
          "Wednesday",
          "Thursday",
          "Friday",
          "Saturday",
          "Sunday",
          "Monday",
          "Tuesday",
          "Wednesday",
          "Thursday",
          "Friday",
          "Saturday",
          "Sunday",
          "Monday",
          "Tuesday",
          "Wednesday",
          "Thursday",
          "Friday",
          "Saturday",
          "Sunday",
          "Monday",
          "Tuesday",
          "Wednesday",
          "Thursday",
          "Friday",
          "Saturday",
          "Sunday",
          "Monday"
         ],
         "y": [
          7312,
          7660.999999999993,
          6462.000000000001,
          5453.9999999999945,
          8657.999999999996,
          8966,
          6173.999999999998,
          7888,
          7518,
          8455.000000000004,
          11112.999999999996,
          1773.0000000000002,
          3835,
          12746.000000000011,
          8099.999999999999,
          2012,
          5783.000000000001,
          3638.9999999999945,
          8766.999999999998,
          6524.999999999999,
          2683.999999999995,
          7145.000000000005,
          9323.000000000004,
          5956,
          8145.000000000001,
          11853.999999999996,
          9657.999999999998,
          5826.000000000002,
          3323.0000000000027,
          7635.000000000006,
          3418.999999999999,
          3015,
          12802.999999999993,
          6493,
          7640.999999999995,
          10710.000000000005,
          6453.9999999999945,
          12519.999999999993,
          11302,
          10309.999999999995,
          11405.000000000007,
          9122,
          11434.999999999996,
          7520,
          4315.000000000002,
          8786.000000000004,
          7588.000000000002,
          7642.999999999999,
          7392,
          8229.999999999996,
          7980.000000000003,
          10163.999999999995,
          9454,
          7253,
          9186,
          8436,
          13122.999999999995,
          8196.999999999995,
          6609.999999999999,
          2099.0000000000005,
          2559.9999999999995,
          4245,
          2376.0000000000005,
          3902.0000000000005,
          2783,
          2533.9999999999995,
          7351.000000000002,
          11791,
          10269,
          4153,
          9845.999999999993,
          8938,
          8359.999999999993,
          8973.000000000004,
          15265,
          9195,
          4802,
          13927,
          10285,
          9080.999999999998,
          12735.000000000002,
          12460.000000000002,
          8682.000000000002,
          8794.000000000002,
          10766.000000000002,
          12584,
          12555,
          9305.00000000001,
          9555,
          14029,
          11659.000000000004,
          4693.000000000003,
          2362,
          1471.9999999999998,
          1928.9999999999998,
          2777,
          2623,
          2841,
          11334,
          8226.000000000004,
          7924.000000000001,
          10055.999999999996,
          6192.000000000004,
          11356.000000000002,
          6220,
          15536.999999999996,
          11597.000000000004,
          11232,
          8590.999999999998,
          15475.999999999989,
          12888.999999999996,
          12429.000000000004,
          12088.999999999993,
          9720.00000000001,
          12582.000000000005,
          9911.000000000004,
          5474,
          12459,
          10311.000000000004,
          10176.999999999996,
          13748.999999999998,
          7134.999999999995,
          11429.999999999985,
          9286.999999999998,
          10086.000000000002,
          14757.000000000002,
          10045,
          9672,
          10689.999999999998,
          13626.999999999996,
          11808.000000000002,
          10680.000000000004,
          16248.000000000004,
          10277.999999999985,
          10040.999999999998,
          15060,
          10114.000000000004,
          11982.999999999993,
          10300,
          6661.999999999999,
          13037,
          5332,
          7256,
          5858.000000000002,
          8773.000000000002,
          6137,
          3869.0000000000036,
          3646,
          10622,
          4381,
          7284.0000000000055,
          5230,
          7070.0000000000055,
          6339.999999999999,
          11791.000000000005,
          4258,
          9034.000000000002,
          3312.999999999999,
          6697.999999999998,
          5616.999999999998,
          3882.0000000000005,
          7176.000000000002,
          4896.999999999996,
          7424.999999999998,
          4679.000000000004,
          8885,
          13156.999999999995,
          8451.000000000002,
          10218,
          10669.999999999998,
          13096.999999999993,
          6796.999999999998,
          10590,
          4266.000000000001,
          6143,
          7891,
          9544.999999999995,
          8937,
          6677.999999999998,
          5299.999999999999,
          7674.999999999998,
          7770.999999999998,
          9134.999999999989,
          8789.999999999998,
          11354,
          8517.999999999998,
          9939.000000000002,
          5480.000000000002,
          7946.000000000003,
          10083.999999999998,
          11115,
          1800.0000000000005,
          10017.000000000002,
          4833.000000000003,
          3801,
          6274,
          2154,
          12615,
          10167.999999999998,
          4944,
          7489,
          9470,
          8781.999999999998,
          8762.000000000007,
          8603.999999999998,
          9541.000000000002,
          15082.999999999996,
          13771.000000000002,
          9140.000000000002,
          12007.000000000013,
          8123.9999999999945,
          8348.999999999998,
          13970.000000000005,
          9286,
          8648.000000000004,
          8055,
          12262.000000000002,
          11882.999999999998,
          9440.999999999993,
          7130.999999999996,
          8245,
          10342,
          5721.999999999998,
          6074.999999999999,
          14297,
          6541.999999999999,
          12950.00000000001,
          7164,
          3887,
          7512.999999999998,
          6927.000000000004,
          12173.999999999998,
          13491.999999999998,
          7897.000000000002,
          9117.999999999996,
          7627,
          8314.000000000002,
          4579,
          15263.000000000004,
          9165,
          11646.999999999998,
          9627.999999999998,
          18733.00000000001,
          4984.000000000001,
          9654.000000000004,
          6413.000000000003,
          11676.999999999998,
          8946.999999999993,
          12427.999999999995,
          22769,
          18148.999999999993,
          17792.000000000004,
          14373,
          5636,
          228
         ]
        }
       ],
       "layout": {
        "template": {
         "data": {
          "bar": [
           {
            "error_x": {
             "color": "#2a3f5f"
            },
            "error_y": {
             "color": "#2a3f5f"
            },
            "marker": {
             "line": {
              "color": "#E5ECF6",
              "width": 0.5
             },
             "pattern": {
              "fillmode": "overlay",
              "size": 10,
              "solidity": 0.2
             }
            },
            "type": "bar"
           }
          ],
          "barpolar": [
           {
            "marker": {
             "line": {
              "color": "#E5ECF6",
              "width": 0.5
             },
             "pattern": {
              "fillmode": "overlay",
              "size": 10,
              "solidity": 0.2
             }
            },
            "type": "barpolar"
           }
          ],
          "carpet": [
           {
            "aaxis": {
             "endlinecolor": "#2a3f5f",
             "gridcolor": "white",
             "linecolor": "white",
             "minorgridcolor": "white",
             "startlinecolor": "#2a3f5f"
            },
            "baxis": {
             "endlinecolor": "#2a3f5f",
             "gridcolor": "white",
             "linecolor": "white",
             "minorgridcolor": "white",
             "startlinecolor": "#2a3f5f"
            },
            "type": "carpet"
           }
          ],
          "choropleth": [
           {
            "colorbar": {
             "outlinewidth": 0,
             "ticks": ""
            },
            "type": "choropleth"
           }
          ],
          "contour": [
           {
            "colorbar": {
             "outlinewidth": 0,
             "ticks": ""
            },
            "colorscale": [
             [
              0,
              "#0d0887"
             ],
             [
              0.1111111111111111,
              "#46039f"
             ],
             [
              0.2222222222222222,
              "#7201a8"
             ],
             [
              0.3333333333333333,
              "#9c179e"
             ],
             [
              0.4444444444444444,
              "#bd3786"
             ],
             [
              0.5555555555555556,
              "#d8576b"
             ],
             [
              0.6666666666666666,
              "#ed7953"
             ],
             [
              0.7777777777777778,
              "#fb9f3a"
             ],
             [
              0.8888888888888888,
              "#fdca26"
             ],
             [
              1,
              "#f0f921"
             ]
            ],
            "type": "contour"
           }
          ],
          "contourcarpet": [
           {
            "colorbar": {
             "outlinewidth": 0,
             "ticks": ""
            },
            "type": "contourcarpet"
           }
          ],
          "heatmap": [
           {
            "colorbar": {
             "outlinewidth": 0,
             "ticks": ""
            },
            "colorscale": [
             [
              0,
              "#0d0887"
             ],
             [
              0.1111111111111111,
              "#46039f"
             ],
             [
              0.2222222222222222,
              "#7201a8"
             ],
             [
              0.3333333333333333,
              "#9c179e"
             ],
             [
              0.4444444444444444,
              "#bd3786"
             ],
             [
              0.5555555555555556,
              "#d8576b"
             ],
             [
              0.6666666666666666,
              "#ed7953"
             ],
             [
              0.7777777777777778,
              "#fb9f3a"
             ],
             [
              0.8888888888888888,
              "#fdca26"
             ],
             [
              1,
              "#f0f921"
             ]
            ],
            "type": "heatmap"
           }
          ],
          "heatmapgl": [
           {
            "colorbar": {
             "outlinewidth": 0,
             "ticks": ""
            },
            "colorscale": [
             [
              0,
              "#0d0887"
             ],
             [
              0.1111111111111111,
              "#46039f"
             ],
             [
              0.2222222222222222,
              "#7201a8"
             ],
             [
              0.3333333333333333,
              "#9c179e"
             ],
             [
              0.4444444444444444,
              "#bd3786"
             ],
             [
              0.5555555555555556,
              "#d8576b"
             ],
             [
              0.6666666666666666,
              "#ed7953"
             ],
             [
              0.7777777777777778,
              "#fb9f3a"
             ],
             [
              0.8888888888888888,
              "#fdca26"
             ],
             [
              1,
              "#f0f921"
             ]
            ],
            "type": "heatmapgl"
           }
          ],
          "histogram": [
           {
            "marker": {
             "pattern": {
              "fillmode": "overlay",
              "size": 10,
              "solidity": 0.2
             }
            },
            "type": "histogram"
           }
          ],
          "histogram2d": [
           {
            "colorbar": {
             "outlinewidth": 0,
             "ticks": ""
            },
            "colorscale": [
             [
              0,
              "#0d0887"
             ],
             [
              0.1111111111111111,
              "#46039f"
             ],
             [
              0.2222222222222222,
              "#7201a8"
             ],
             [
              0.3333333333333333,
              "#9c179e"
             ],
             [
              0.4444444444444444,
              "#bd3786"
             ],
             [
              0.5555555555555556,
              "#d8576b"
             ],
             [
              0.6666666666666666,
              "#ed7953"
             ],
             [
              0.7777777777777778,
              "#fb9f3a"
             ],
             [
              0.8888888888888888,
              "#fdca26"
             ],
             [
              1,
              "#f0f921"
             ]
            ],
            "type": "histogram2d"
           }
          ],
          "histogram2dcontour": [
           {
            "colorbar": {
             "outlinewidth": 0,
             "ticks": ""
            },
            "colorscale": [
             [
              0,
              "#0d0887"
             ],
             [
              0.1111111111111111,
              "#46039f"
             ],
             [
              0.2222222222222222,
              "#7201a8"
             ],
             [
              0.3333333333333333,
              "#9c179e"
             ],
             [
              0.4444444444444444,
              "#bd3786"
             ],
             [
              0.5555555555555556,
              "#d8576b"
             ],
             [
              0.6666666666666666,
              "#ed7953"
             ],
             [
              0.7777777777777778,
              "#fb9f3a"
             ],
             [
              0.8888888888888888,
              "#fdca26"
             ],
             [
              1,
              "#f0f921"
             ]
            ],
            "type": "histogram2dcontour"
           }
          ],
          "mesh3d": [
           {
            "colorbar": {
             "outlinewidth": 0,
             "ticks": ""
            },
            "type": "mesh3d"
           }
          ],
          "parcoords": [
           {
            "line": {
             "colorbar": {
              "outlinewidth": 0,
              "ticks": ""
             }
            },
            "type": "parcoords"
           }
          ],
          "pie": [
           {
            "automargin": true,
            "type": "pie"
           }
          ],
          "scatter": [
           {
            "fillpattern": {
             "fillmode": "overlay",
             "size": 10,
             "solidity": 0.2
            },
            "type": "scatter"
           }
          ],
          "scatter3d": [
           {
            "line": {
             "colorbar": {
              "outlinewidth": 0,
              "ticks": ""
             }
            },
            "marker": {
             "colorbar": {
              "outlinewidth": 0,
              "ticks": ""
             }
            },
            "type": "scatter3d"
           }
          ],
          "scattercarpet": [
           {
            "marker": {
             "colorbar": {
              "outlinewidth": 0,
              "ticks": ""
             }
            },
            "type": "scattercarpet"
           }
          ],
          "scattergeo": [
           {
            "marker": {
             "colorbar": {
              "outlinewidth": 0,
              "ticks": ""
             }
            },
            "type": "scattergeo"
           }
          ],
          "scattergl": [
           {
            "marker": {
             "colorbar": {
              "outlinewidth": 0,
              "ticks": ""
             }
            },
            "type": "scattergl"
           }
          ],
          "scattermapbox": [
           {
            "marker": {
             "colorbar": {
              "outlinewidth": 0,
              "ticks": ""
             }
            },
            "type": "scattermapbox"
           }
          ],
          "scatterpolar": [
           {
            "marker": {
             "colorbar": {
              "outlinewidth": 0,
              "ticks": ""
             }
            },
            "type": "scatterpolar"
           }
          ],
          "scatterpolargl": [
           {
            "marker": {
             "colorbar": {
              "outlinewidth": 0,
              "ticks": ""
             }
            },
            "type": "scatterpolargl"
           }
          ],
          "scatterternary": [
           {
            "marker": {
             "colorbar": {
              "outlinewidth": 0,
              "ticks": ""
             }
            },
            "type": "scatterternary"
           }
          ],
          "surface": [
           {
            "colorbar": {
             "outlinewidth": 0,
             "ticks": ""
            },
            "colorscale": [
             [
              0,
              "#0d0887"
             ],
             [
              0.1111111111111111,
              "#46039f"
             ],
             [
              0.2222222222222222,
              "#7201a8"
             ],
             [
              0.3333333333333333,
              "#9c179e"
             ],
             [
              0.4444444444444444,
              "#bd3786"
             ],
             [
              0.5555555555555556,
              "#d8576b"
             ],
             [
              0.6666666666666666,
              "#ed7953"
             ],
             [
              0.7777777777777778,
              "#fb9f3a"
             ],
             [
              0.8888888888888888,
              "#fdca26"
             ],
             [
              1,
              "#f0f921"
             ]
            ],
            "type": "surface"
           }
          ],
          "table": [
           {
            "cells": {
             "fill": {
              "color": "#EBF0F8"
             },
             "line": {
              "color": "white"
             }
            },
            "header": {
             "fill": {
              "color": "#C8D4E3"
             },
             "line": {
              "color": "white"
             }
            },
            "type": "table"
           }
          ]
         },
         "layout": {
          "annotationdefaults": {
           "arrowcolor": "#2a3f5f",
           "arrowhead": 0,
           "arrowwidth": 1
          },
          "autotypenumbers": "strict",
          "coloraxis": {
           "colorbar": {
            "outlinewidth": 0,
            "ticks": ""
           }
          },
          "colorscale": {
           "diverging": [
            [
             0,
             "#8e0152"
            ],
            [
             0.1,
             "#c51b7d"
            ],
            [
             0.2,
             "#de77ae"
            ],
            [
             0.3,
             "#f1b6da"
            ],
            [
             0.4,
             "#fde0ef"
            ],
            [
             0.5,
             "#f7f7f7"
            ],
            [
             0.6,
             "#e6f5d0"
            ],
            [
             0.7,
             "#b8e186"
            ],
            [
             0.8,
             "#7fbc41"
            ],
            [
             0.9,
             "#4d9221"
            ],
            [
             1,
             "#276419"
            ]
           ],
           "sequential": [
            [
             0,
             "#0d0887"
            ],
            [
             0.1111111111111111,
             "#46039f"
            ],
            [
             0.2222222222222222,
             "#7201a8"
            ],
            [
             0.3333333333333333,
             "#9c179e"
            ],
            [
             0.4444444444444444,
             "#bd3786"
            ],
            [
             0.5555555555555556,
             "#d8576b"
            ],
            [
             0.6666666666666666,
             "#ed7953"
            ],
            [
             0.7777777777777778,
             "#fb9f3a"
            ],
            [
             0.8888888888888888,
             "#fdca26"
            ],
            [
             1,
             "#f0f921"
            ]
           ],
           "sequentialminus": [
            [
             0,
             "#0d0887"
            ],
            [
             0.1111111111111111,
             "#46039f"
            ],
            [
             0.2222222222222222,
             "#7201a8"
            ],
            [
             0.3333333333333333,
             "#9c179e"
            ],
            [
             0.4444444444444444,
             "#bd3786"
            ],
            [
             0.5555555555555556,
             "#d8576b"
            ],
            [
             0.6666666666666666,
             "#ed7953"
            ],
            [
             0.7777777777777778,
             "#fb9f3a"
            ],
            [
             0.8888888888888888,
             "#fdca26"
            ],
            [
             1,
             "#f0f921"
            ]
           ]
          },
          "colorway": [
           "#636efa",
           "#EF553B",
           "#00cc96",
           "#ab63fa",
           "#FFA15A",
           "#19d3f3",
           "#FF6692",
           "#B6E880",
           "#FF97FF",
           "#FECB52"
          ],
          "font": {
           "color": "#2a3f5f"
          },
          "geo": {
           "bgcolor": "white",
           "lakecolor": "white",
           "landcolor": "#E5ECF6",
           "showlakes": true,
           "showland": true,
           "subunitcolor": "white"
          },
          "hoverlabel": {
           "align": "left"
          },
          "hovermode": "closest",
          "mapbox": {
           "style": "light"
          },
          "paper_bgcolor": "white",
          "plot_bgcolor": "#E5ECF6",
          "polar": {
           "angularaxis": {
            "gridcolor": "white",
            "linecolor": "white",
            "ticks": ""
           },
           "bgcolor": "#E5ECF6",
           "radialaxis": {
            "gridcolor": "white",
            "linecolor": "white",
            "ticks": ""
           }
          },
          "scene": {
           "xaxis": {
            "backgroundcolor": "#E5ECF6",
            "gridcolor": "white",
            "gridwidth": 2,
            "linecolor": "white",
            "showbackground": true,
            "ticks": "",
            "zerolinecolor": "white"
           },
           "yaxis": {
            "backgroundcolor": "#E5ECF6",
            "gridcolor": "white",
            "gridwidth": 2,
            "linecolor": "white",
            "showbackground": true,
            "ticks": "",
            "zerolinecolor": "white"
           },
           "zaxis": {
            "backgroundcolor": "#E5ECF6",
            "gridcolor": "white",
            "gridwidth": 2,
            "linecolor": "white",
            "showbackground": true,
            "ticks": "",
            "zerolinecolor": "white"
           }
          },
          "shapedefaults": {
           "line": {
            "color": "#2a3f5f"
           }
          },
          "ternary": {
           "aaxis": {
            "gridcolor": "white",
            "linecolor": "white",
            "ticks": ""
           },
           "baxis": {
            "gridcolor": "white",
            "linecolor": "white",
            "ticks": ""
           },
           "bgcolor": "#E5ECF6",
           "caxis": {
            "gridcolor": "white",
            "linecolor": "white",
            "ticks": ""
           }
          },
          "title": {
           "x": 0.05
          },
          "xaxis": {
           "automargin": true,
           "gridcolor": "white",
           "linecolor": "white",
           "ticks": "",
           "title": {
            "standoff": 15
           },
           "zerolinecolor": "white",
           "zerolinewidth": 2
          },
          "yaxis": {
           "automargin": true,
           "gridcolor": "white",
           "linecolor": "white",
           "ticks": "",
           "title": {
            "standoff": 15
           },
           "zerolinecolor": "white",
           "zerolinewidth": 2
          }
         }
        },
        "updatemenus": [
         {
          "active": 0,
          "buttons": [
           {
            "args": [
             {
              "visible": [
               true,
               true,
               true,
               true,
               true,
               true,
               true
              ]
             },
             {
              "title": "Number of steps made"
             }
            ],
            "label": "All",
            "method": "update"
           },
           {
            "args": [
             {
              "visible": [
               true,
               false,
               false,
               false,
               false,
               false,
               false
              ]
             },
             {
              "title": "Number of steps made by Participant 1"
             }
            ],
            "label": "Participant 1",
            "method": "update"
           },
           {
            "args": [
             {
              "visible": [
               false,
               true,
               false,
               false,
               false,
               false,
               false
              ]
             },
             {
              "title": "Number of steps made by Participant 2"
             }
            ],
            "label": "Participant 2",
            "method": "update"
           },
           {
            "args": [
             {
              "visible": [
               false,
               false,
               true,
               false,
               false,
               false,
               false
              ]
             },
             {
              "title": "Number of steps made by Participant 3"
             }
            ],
            "label": "Participant 3",
            "method": "update"
           },
           {
            "args": [
             {
              "visible": [
               false,
               false,
               false,
               true,
               false,
               false,
               false
              ]
             },
             {
              "title": "Number of steps made by Participant 4"
             }
            ],
            "label": "Participant 4",
            "method": "update"
           },
           {
            "args": [
             {
              "visible": [
               false,
               false,
               false,
               false,
               true,
               false,
               false
              ]
             },
             {
              "title": "Number of steps made by Participant 5"
             }
            ],
            "label": "Participant 5",
            "method": "update"
           },
           {
            "args": [
             {
              "visible": [
               false,
               false,
               false,
               false,
               false,
               true,
               false
              ]
             },
             {
              "title": "Number of steps made by Participant 7"
             }
            ],
            "label": "Participant 7",
            "method": "update"
           },
           {
            "args": [
             {
              "visible": [
               false,
               false,
               false,
               false,
               false,
               false,
               true
              ]
             },
             {
              "title": "Number of steps made by Participant 8"
             }
            ],
            "label": "Participant 8",
            "method": "update"
           }
          ]
         }
        ],
        "xaxis": {
         "categoryarray": [
          "Monday",
          "Tuesday",
          "Wednesday",
          "Thursday",
          "Friday",
          "Saturday",
          "Sunday"
         ],
         "categoryorder": "array"
        }
       }
      },
      "text/html": [
       "<div>                            <div id=\"20232f58-a463-47f2-bdbd-2f2ac1da7c51\" class=\"plotly-graph-div\" style=\"height:525px; width:100%;\"></div>            <script type=\"text/javascript\">                require([\"plotly\"], function(Plotly) {                    window.PLOTLYENV=window.PLOTLYENV || {};                                    if (document.getElementById(\"20232f58-a463-47f2-bdbd-2f2ac1da7c51\")) {                    Plotly.newPlot(                        \"20232f58-a463-47f2-bdbd-2f2ac1da7c51\",                        [{\"name\":\"Participant 1\",\"x\":[\"Friday\",\"Saturday\",\"Sunday\",\"Monday\",\"Tuesday\",\"Wednesday\",\"Thursday\",\"Friday\",\"Saturday\",\"Sunday\",\"Monday\",\"Tuesday\",\"Wednesday\",\"Thursday\",\"Friday\",\"Saturday\",\"Sunday\",\"Monday\",\"Tuesday\",\"Wednesday\",\"Thursday\",\"Friday\",\"Saturday\",\"Sunday\",\"Monday\",\"Tuesday\",\"Wednesday\",\"Thursday\",\"Friday\",\"Saturday\",\"Sunday\",\"Monday\",\"Tuesday\",\"Wednesday\",\"Thursday\",\"Friday\",\"Saturday\",\"Sunday\",\"Monday\",\"Tuesday\",\"Wednesday\",\"Thursday\",\"Friday\",\"Saturday\",\"Sunday\",\"Monday\",\"Tuesday\",\"Wednesday\",\"Thursday\",\"Friday\",\"Saturday\",\"Sunday\",\"Monday\",\"Tuesday\",\"Wednesday\",\"Thursday\",\"Friday\",\"Saturday\",\"Sunday\",\"Monday\",\"Tuesday\",\"Wednesday\",\"Thursday\",\"Friday\",\"Saturday\",\"Sunday\",\"Monday\",\"Tuesday\",\"Wednesday\",\"Thursday\",\"Friday\",\"Saturday\",\"Sunday\",\"Monday\",\"Tuesday\",\"Wednesday\",\"Thursday\",\"Friday\",\"Saturday\",\"Sunday\",\"Monday\",\"Tuesday\",\"Wednesday\",\"Thursday\",\"Friday\",\"Saturday\",\"Sunday\",\"Monday\",\"Tuesday\",\"Wednesday\",\"Thursday\",\"Friday\",\"Saturday\",\"Sunday\",\"Monday\",\"Tuesday\",\"Wednesday\",\"Thursday\",\"Friday\",\"Saturday\",\"Sunday\",\"Monday\",\"Tuesday\",\"Wednesday\",\"Thursday\",\"Friday\",\"Saturday\",\"Sunday\",\"Monday\",\"Tuesday\",\"Wednesday\",\"Thursday\",\"Friday\",\"Saturday\",\"Sunday\",\"Monday\",\"Tuesday\",\"Wednesday\",\"Thursday\",\"Friday\",\"Saturday\",\"Sunday\",\"Monday\",\"Tuesday\",\"Wednesday\",\"Thursday\",\"Friday\",\"Saturday\",\"Sunday\",\"Monday\",\"Tuesday\",\"Wednesday\",\"Thursday\",\"Friday\",\"Saturday\",\"Sunday\",\"Monday\",\"Tuesday\",\"Wednesday\",\"Thursday\",\"Friday\",\"Saturday\",\"Sunday\",\"Monday\",\"Tuesday\",\"Wednesday\",\"Thursday\",\"Friday\",\"Saturday\",\"Sunday\",\"Monday\",\"Tuesday\",\"Wednesday\",\"Thursday\",\"Friday\",\"Saturday\",\"Sunday\",\"Monday\",\"Tuesday\",\"Wednesday\",\"Thursday\",\"Friday\",\"Saturday\",\"Sunday\",\"Monday\",\"Tuesday\",\"Wednesday\",\"Thursday\",\"Friday\",\"Saturday\",\"Sunday\",\"Monday\",\"Tuesday\",\"Wednesday\",\"Thursday\",\"Friday\",\"Saturday\",\"Sunday\",\"Monday\",\"Tuesday\",\"Wednesday\",\"Thursday\",\"Friday\",\"Saturday\",\"Sunday\",\"Monday\",\"Tuesday\",\"Wednesday\",\"Thursday\",\"Friday\",\"Saturday\",\"Sunday\",\"Monday\",\"Tuesday\",\"Wednesday\",\"Thursday\",\"Friday\",\"Saturday\",\"Sunday\",\"Monday\",\"Tuesday\",\"Wednesday\",\"Thursday\",\"Friday\",\"Saturday\",\"Sunday\",\"Monday\",\"Tuesday\",\"Wednesday\",\"Thursday\",\"Friday\",\"Saturday\",\"Sunday\",\"Monday\",\"Tuesday\",\"Wednesday\",\"Thursday\",\"Friday\",\"Saturday\",\"Sunday\",\"Monday\",\"Tuesday\",\"Wednesday\",\"Thursday\",\"Friday\",\"Saturday\",\"Sunday\",\"Monday\",\"Tuesday\",\"Wednesday\",\"Thursday\",\"Friday\",\"Saturday\",\"Sunday\",\"Monday\",\"Tuesday\",\"Wednesday\",\"Thursday\",\"Friday\",\"Saturday\",\"Sunday\",\"Monday\",\"Tuesday\",\"Wednesday\",\"Thursday\",\"Friday\"],\"y\":[0.0,11609.0,10337.0,6310.0,14395.0,11025.999999999998,18721.0,9192.000000000004,6330.0,8656.999999999998,9349.0,1637.9999999999998,9986.0,10918.168846951536,22991.00000000001,11547.00000000001,10758.000000000004,16132.999999999993,4244.0,8801.075067245944,7838.751737717924,18711.000000000004,16627.999999999993,4482.0,13590.000000000002,7644.000000000002,13905.00000000001,8846.0,6929.999999999999,11941.000000000002,5072.000000000004,8907.0,6986.0,6626.0,11455.999999999998,6373.999999999995,11266.0,6774.999999999998,6466.000000000004,8701.000000000004,14722.0,10339.999999999996,7576.925030998889,2231.0,15874.0,3600.999999999997,10247.999999999985,15808.999999999995,8786.0,8384.000000000004,3527.9999999999986,10043.999999999998,9250.0,4516.999999999996,7920.999999999994,11177.000000000002,3484.0,8618.999999999993,8234.651647759703,7495.000000000004,4376.0,8869.0,6587.0,5494.0,3056.0,4186.999999999998,2926.0,3677.526566967964,7001.0,6953.0,11463.999999999996,6893.0,10486.0,8230.999999999989,8618.000000000002,5343.0,4319.0,7674.333252825019,13556.999999999998,21768.999999999996,14107.999999999996,10503.000000000004,7143.999999999999,7562.0000000000055,6537.000000000007,10105.133702803147,3374.9999999999995,9178.000000000002,8105.999999999998,7883.000000000004,8107.0,4668.0,8517.999999999993,8184.000000000002,5120.000000000002,6743.999999999999,8882.999999999998,4627.999999999996,7425.999999999991,3957.999999999997,12573.0,8628.999999999998,10452.0,4766.0,9486.409557715615,7677.0,9664.999999999996,4198.0,4928.000000000001,7844.82285076721,4740.0000000000055,4859.0,7055.999999999999,5491.0000000000055,7997.999999999996,16804.0,3930.0000000000036,13376.738255276798,6332.0,8933.999999999998,6499.063239806683,15408.999999999998,7899.999999999996,8978.0,15354.000000000004,8902.000000000004,9282.0,8514.999999999996,6601.0,5242.999999999999,9495.999999999996,10404.999999999998,6113.000000000002,6090.0,6184.999999999999,2112.0,5761.000000000001,12571.49589932237,4688.318712849374,3423.999999999998,1901.0,11374.0,723.0,1617.999999999999,4835.999999999996,8714.0,4767.0000000000055,5116.000000000002,6083.305829522975,3412.694170477029,5099.0,13719.0,11983.999999999996,5735.0,3751.0,18868.000000000004,7069.999999999996,13663.000000000002,25660.398309214754,14232.999999999993,11034.999999999998,5991.999999999996,7341.0,13576.999999999996,10095.000000000005,6768.0,5828.0,23076.000000000004,14596.999999999998,2186.999999999998,7490.999999999999,5118.000000000004,10325.000000000007,9974.000000000004,5877.0,5772.0,6975.814807777062,8871.99999999999,13394.999999999996,9410.000000000004,9168.000000000002,7783.0,6420.000000000004,3610.0,6149.999999999995,9116.999999999998,4935.000000000001,4958.000000000002,8994.0,9498.999999999995,7546.0000000000055,8397.000000000004,12990.999999999989,17390.999999999996,9567.999999999998,7058.999999999996,9108.999999999996,6829.999999999998,10538.000000000004,7575.999999999996,5887.0,12421.999999999998,7957.000000000002,7108.000000000001,6398.000000000004,7550.000000000002,6772.999999999996,7303.0,15092.813368842097,7456.186631157907,10440.999999999996,4430.000000000004,5443.0,8267.000000000005,10676.999999999996,6875.0,7121.0,7938.999999999996,9213.78962961405,7037.0,4425.0,5167.0,13966.000000000011,8989.000000000004,5451.0,15237.999999999995,6481.999999999996,10883.999999999998,8213.999999999998,9965.074452483088,10245.0,14480.0,9783.999999999996,11800.000000000002,7813.0,4276.000000000004,8292.0,7509.999999999993,5418.999999999996,13935.999999999996,11619.0,8332.91844315895,8834.0,14871.0,14604.000000000004,1574.000000000002],\"type\":\"bar\"},{\"name\":\"Participant 2\",\"x\":[\"Friday\",\"Saturday\",\"Sunday\",\"Monday\",\"Tuesday\",\"Wednesday\",\"Thursday\",\"Friday\",\"Saturday\",\"Sunday\",\"Monday\",\"Tuesday\",\"Wednesday\",\"Thursday\",\"Friday\",\"Saturday\",\"Sunday\",\"Monday\",\"Tuesday\",\"Wednesday\",\"Thursday\",\"Friday\",\"Saturday\",\"Sunday\",\"Monday\",\"Tuesday\",\"Wednesday\",\"Thursday\",\"Friday\",\"Saturday\",\"Sunday\",\"Monday\",\"Tuesday\",\"Wednesday\",\"Thursday\",\"Friday\",\"Saturday\",\"Sunday\",\"Monday\",\"Tuesday\",\"Wednesday\",\"Thursday\",\"Friday\",\"Saturday\",\"Sunday\",\"Monday\",\"Tuesday\",\"Wednesday\",\"Thursday\",\"Friday\",\"Saturday\",\"Sunday\",\"Monday\",\"Tuesday\",\"Wednesday\",\"Thursday\",\"Friday\",\"Saturday\",\"Sunday\",\"Monday\",\"Tuesday\",\"Wednesday\",\"Thursday\",\"Friday\",\"Saturday\",\"Sunday\",\"Monday\",\"Tuesday\",\"Wednesday\",\"Thursday\",\"Friday\",\"Saturday\",\"Sunday\",\"Monday\",\"Tuesday\",\"Wednesday\",\"Thursday\",\"Friday\",\"Saturday\",\"Sunday\",\"Monday\",\"Tuesday\",\"Wednesday\",\"Thursday\",\"Friday\",\"Saturday\",\"Sunday\",\"Monday\",\"Tuesday\",\"Wednesday\",\"Thursday\",\"Friday\",\"Saturday\",\"Sunday\",\"Monday\",\"Tuesday\",\"Wednesday\",\"Thursday\",\"Friday\",\"Saturday\",\"Sunday\",\"Monday\",\"Tuesday\",\"Wednesday\",\"Thursday\",\"Friday\",\"Saturday\",\"Sunday\",\"Monday\",\"Tuesday\",\"Wednesday\",\"Thursday\",\"Friday\",\"Saturday\",\"Sunday\",\"Monday\",\"Tuesday\",\"Wednesday\",\"Thursday\",\"Friday\",\"Saturday\",\"Sunday\",\"Monday\",\"Tuesday\",\"Wednesday\",\"Thursday\",\"Friday\",\"Saturday\",\"Sunday\",\"Monday\",\"Tuesday\",\"Wednesday\",\"Thursday\",\"Friday\",\"Saturday\",\"Sunday\",\"Monday\",\"Tuesday\",\"Wednesday\",\"Thursday\",\"Friday\",\"Saturday\",\"Sunday\",\"Monday\",\"Tuesday\",\"Wednesday\",\"Thursday\",\"Friday\",\"Saturday\",\"Sunday\",\"Monday\",\"Tuesday\",\"Wednesday\",\"Thursday\",\"Friday\",\"Saturday\",\"Sunday\",\"Monday\",\"Tuesday\",\"Wednesday\",\"Thursday\",\"Friday\",\"Saturday\",\"Sunday\",\"Monday\",\"Tuesday\",\"Wednesday\",\"Thursday\",\"Friday\",\"Saturday\",\"Sunday\",\"Monday\",\"Tuesday\",\"Wednesday\",\"Thursday\",\"Friday\",\"Saturday\",\"Sunday\",\"Monday\",\"Tuesday\",\"Wednesday\",\"Thursday\",\"Friday\",\"Saturday\",\"Sunday\",\"Monday\",\"Tuesday\",\"Wednesday\",\"Thursday\",\"Friday\",\"Saturday\",\"Sunday\",\"Monday\",\"Tuesday\",\"Wednesday\",\"Thursday\",\"Friday\",\"Saturday\",\"Sunday\",\"Monday\",\"Tuesday\",\"Wednesday\",\"Thursday\",\"Friday\",\"Saturday\",\"Sunday\",\"Monday\",\"Tuesday\",\"Wednesday\",\"Thursday\",\"Friday\",\"Saturday\",\"Sunday\",\"Monday\",\"Tuesday\",\"Wednesday\",\"Thursday\",\"Friday\",\"Saturday\",\"Sunday\",\"Monday\",\"Tuesday\",\"Wednesday\",\"Thursday\",\"Friday\",\"Saturday\",\"Sunday\",\"Monday\",\"Tuesday\",\"Wednesday\",\"Thursday\",\"Friday\",\"Saturday\",\"Sunday\",\"Monday\",\"Tuesday\",\"Wednesday\",\"Thursday\",\"Friday\",\"Saturday\",\"Sunday\",\"Monday\",\"Tuesday\",\"Wednesday\",\"Thursday\"],\"y\":[36,11271,10709,4956,11115,9371,12214,4986,5684,9041,8334,2046,5964,9511,11951,10361,8685,11539,4043,6286,7008,12252,12003,3318,9323,5136,7491,7526,5186,9409,5140,5894,10384,2247,9540,5440,7744,2890,2527,3248,6992,6355,4465,1852,12075,8511,7015,10065,7810,5210,3205,6517,8501,3047,6303,6422,4870,7135,6581,5313,5446,4008,5595,5769,2921,2742,3803,4825,3641,7723,9847,5855,9037,8101,7577,7467,3229,7211,10655,16064,10235,6039,6043,8007,6195,10433,2504,8102,10127,6386,6085,3752,8036,6778,3367,11045,5989,4700,6378,3304,9338,7808,9326,5375,7200,5849,7561,2822,2843,7772,10383,4160,3077,4492,5351,13694,3604,8601,2733,6078,5564,10884,8126,6956,5575,7723,7227,6988,6260,3350,8034,8567,787,5029,3697,1802,6057,10837,4972,10095,2224,11156,4184,2334,4452,6634,6148,3065,6417,3105,2355,11054,10885,8190,5748,11112,1714,9942,22028,10147,7954,2912,3142,10504,8183,5402,5302,19220,5883,3067,2808,2632,9908,11005,6675,4144,3042,7176,12214,7347,7737,6177,5107,2630,3540,4340,3996,4825,8423,6151,6480,5825,12222,8122,4448,4437,10832,3358,9958,5577,2874,5966,6068,6817,5791,3798,4853,3583,12931,11120,5412,8519,2301,4281,8706,7314,5229,6606,5104,5503,4269,3856,12581,8799,5740,11817,3026,3820,5169,6154,3609,11388,4641,8253,5706,4351,9082,4550,11725,11731,8490,6624,9169,8413,6803],\"type\":\"bar\"},{\"name\":\"Participant 3\",\"x\":[\"Friday\",\"Saturday\",\"Sunday\",\"Monday\",\"Tuesday\",\"Wednesday\",\"Thursday\",\"Friday\",\"Saturday\",\"Sunday\",\"Thursday\",\"Friday\",\"Saturday\",\"Sunday\",\"Monday\",\"Tuesday\",\"Wednesday\",\"Thursday\",\"Friday\",\"Saturday\",\"Sunday\",\"Monday\",\"Tuesday\",\"Wednesday\",\"Thursday\",\"Friday\",\"Saturday\",\"Sunday\",\"Monday\",\"Tuesday\",\"Wednesday\",\"Thursday\",\"Friday\",\"Saturday\",\"Sunday\",\"Monday\",\"Tuesday\",\"Wednesday\",\"Sunday\",\"Monday\",\"Tuesday\",\"Wednesday\",\"Thursday\",\"Friday\",\"Saturday\",\"Sunday\",\"Monday\",\"Tuesday\",\"Wednesday\",\"Thursday\",\"Friday\",\"Saturday\",\"Sunday\",\"Monday\",\"Tuesday\",\"Wednesday\",\"Thursday\",\"Friday\",\"Saturday\",\"Sunday\",\"Monday\",\"Tuesday\",\"Wednesday\",\"Sunday\",\"Monday\",\"Tuesday\",\"Wednesday\",\"Thursday\",\"Friday\",\"Saturday\",\"Sunday\",\"Monday\",\"Tuesday\",\"Wednesday\",\"Thursday\",\"Friday\",\"Saturday\",\"Sunday\",\"Monday\",\"Tuesday\",\"Wednesday\",\"Thursday\",\"Friday\",\"Saturday\",\"Sunday\",\"Monday\",\"Tuesday\",\"Wednesday\",\"Thursday\",\"Friday\",\"Saturday\",\"Wednesday\",\"Thursday\",\"Friday\",\"Saturday\",\"Sunday\",\"Monday\",\"Tuesday\",\"Wednesday\",\"Thursday\",\"Friday\",\"Saturday\",\"Sunday\",\"Monday\",\"Tuesday\",\"Wednesday\",\"Thursday\",\"Friday\",\"Saturday\",\"Sunday\",\"Monday\",\"Tuesday\",\"Wednesday\",\"Thursday\",\"Friday\",\"Saturday\",\"Sunday\",\"Monday\",\"Friday\",\"Saturday\",\"Sunday\",\"Monday\",\"Tuesday\",\"Wednesday\",\"Thursday\",\"Friday\",\"Saturday\",\"Sunday\",\"Monday\",\"Tuesday\",\"Wednesday\",\"Thursday\",\"Friday\",\"Saturday\",\"Sunday\",\"Monday\",\"Tuesday\",\"Wednesday\",\"Thursday\",\"Friday\",\"Saturday\",\"Sunday\",\"Monday\",\"Tuesday\",\"Wednesday\",\"Thursday\",\"Monday\",\"Tuesday\",\"Wednesday\",\"Thursday\",\"Friday\",\"Saturday\",\"Sunday\",\"Monday\",\"Tuesday\",\"Wednesday\",\"Thursday\",\"Friday\",\"Saturday\",\"Sunday\",\"Monday\",\"Tuesday\",\"Wednesday\",\"Thursday\",\"Friday\",\"Saturday\",\"Sunday\",\"Monday\",\"Tuesday\",\"Wednesday\",\"Thursday\",\"Friday\",\"Saturday\",\"Wednesday\",\"Thursday\",\"Friday\",\"Saturday\",\"Sunday\",\"Monday\",\"Tuesday\",\"Wednesday\",\"Thursday\",\"Friday\",\"Saturday\",\"Sunday\",\"Monday\",\"Tuesday\",\"Wednesday\",\"Thursday\",\"Friday\",\"Saturday\",\"Sunday\",\"Monday\",\"Tuesday\",\"Wednesday\",\"Thursday\",\"Friday\",\"Saturday\",\"Sunday\",\"Monday\",\"Tuesday\",\"Saturday\",\"Sunday\",\"Monday\",\"Tuesday\",\"Wednesday\",\"Thursday\",\"Friday\",\"Saturday\",\"Sunday\",\"Monday\",\"Tuesday\",\"Wednesday\",\"Thursday\",\"Friday\",\"Saturday\",\"Sunday\",\"Monday\",\"Tuesday\",\"Wednesday\",\"Thursday\",\"Friday\",\"Saturday\",\"Sunday\",\"Monday\",\"Tuesday\",\"Wednesday\",\"Thursday\",\"Saturday\",\"Sunday\",\"Monday\",\"Tuesday\",\"Wednesday\",\"Thursday\",\"Friday\",\"Saturday\",\"Tuesday\",\"Wednesday\",\"Thursday\",\"Friday\",\"Saturday\",\"Sunday\",\"Monday\",\"Tuesday\",\"Thursday\",\"Friday\",\"Saturday\",\"Sunday\",\"Monday\",\"Tuesday\",\"Wednesday\",\"Thursday\"],\"y\":[0.0,1613.999999981,43.0,7460.9999998,9360.9999995,5008.0000003000005,857.0,6801.00000072,10577.0,12851.0,649.0,722.0,4664.9999995,3176.0,134.0,797.0,217.0,127.0,125.0,936.0,237.0,769.0,122.0,184.0,31.0,29.0,9.0,14432.0,6223.0000006,5822.0,11343.9999995,4361.0000007,13126.0000001,11410.00000112,180.0,1836.0,7305.0,8016.0,3095.0,11424.999999761,7916.9999996,15800.999999619999,12503.999999849999,11873.99999964,7690.0,8148.000000399999,10610.9999995,6217.00000003,7688.0,9440.0000005,7926.999999600001,666.0,9595.0000002,69.0,1959.0,9708.9999997,727.0,641.0,9269.0000008,837.0,1176.0,5905.0,1238.0,68.0,87.99999999799999,8522.0000001,8936.0000002,10816.0,10903.00000003,4897.0,13061.0000004,8580.0,7958.0,7719.00000022,10096.0000003,8426.0000004,6301.9999999,1356.0,751.9999999800001,75.0,8715.0,9765.9999999,61.0,7548.00000039,10406.00000007,0.0,13013.999999880001,542.0,711.0,6721.0,1584.0,8172.999999600001,909.0,88.0,6246.0000004,1086.0,72.0,67.0,12941.9999999,9596.9999996,37.0,176.0,1448.99999998,3234.0,61.0,7181.0,5798.0000001,8430.9999999,2840.99999999,236.0,9510.00000012,11734.9999999,8911.0,28204.999999800002,92.0,33.0,12558.9999996,11337.9999996,9678.0,2183.0,6637.999999600001,8506.9999995,9753.99999954,10644.0000001,9516.00000032,9698.999999759999,2108.0,5716.0,9977.9999999,7878.0,15618.0,607.0,121.0,644.99999998,72.000000004,671.0,123.0,669.99999998,131.0,540.0,10217.99999971,7819.000000211,12002.0000002,682.0,3968.000000004,10230.0000002,53.0,555.99999999,11058.0,9119.99999999,12918.0000004,1745.0,626.0,11467.0000004,8130.0000003000005,12606.99999966,9793.0000001,3903.0,11777.0000004,10.0,7767.0000002,4917.999999963,7650.0,6267.00000024,2809.9999997,721.0,10036.9999994,7977.9999999,2849.0,9637.0000001,703.0000000299999,2655.0,13050.0000002,42.0,5676.0,7293.9999996999995,1874.0000000700002,612.0,8582.0000005,8582.9999997,7504.0,908.99999996,2743.99999999,2768.999999968,33.0,499.00000001,16.0,6570.0,7544.0,5746.0000001,4372.00000027,6987.0,45.0,9623.9999995,711.0,9318.00000022,3791.0,10311.0,70.0,11050.99999947,7808.9999998,8483.0,22187.000000599997,7224.99999957,8212.0,8919.0000002,13097.00000045,10633.0000002,632.0,611.0,13077.9999999,6708.999999899999,5808.0000004,9952.000000075,8538.000000600001,2295.0,1118.0,12679.0000002,9600.0000002,8648.00000002,2684.0,10759.0,1231.0,8682.9999996,6560.0,426.0,4034.0000001000003,9734.99999987,551.0,10649.999999,13390.999999599999,647.9999999910001,7418.9999996,733.0,3814.99999996,6469.9999993,62.0,9367.9999998,9467.999999399999,97.0,8045.00000081,3966.9999999,9374.0000001,7811.00000007,2023.0,1348.0,8770.9999998,9169.00000053,4570.999999975,2733.0,11521.99999893,6875.0],\"type\":\"bar\"},{\"name\":\"Participant 4\",\"x\":[\"Saturday\",\"Sunday\",\"Monday\",\"Tuesday\",\"Wednesday\",\"Thursday\",\"Friday\",\"Saturday\",\"Sunday\",\"Monday\",\"Tuesday\",\"Wednesday\",\"Thursday\",\"Friday\",\"Saturday\",\"Sunday\",\"Monday\",\"Tuesday\",\"Wednesday\",\"Thursday\",\"Friday\",\"Saturday\",\"Sunday\",\"Monday\",\"Tuesday\",\"Wednesday\",\"Thursday\",\"Friday\",\"Saturday\",\"Sunday\",\"Monday\",\"Tuesday\",\"Wednesday\",\"Thursday\",\"Friday\",\"Saturday\",\"Sunday\",\"Monday\",\"Tuesday\",\"Wednesday\",\"Thursday\",\"Friday\",\"Saturday\",\"Sunday\",\"Monday\",\"Tuesday\",\"Wednesday\",\"Thursday\",\"Friday\",\"Saturday\",\"Sunday\",\"Monday\",\"Tuesday\",\"Wednesday\",\"Thursday\",\"Friday\",\"Saturday\",\"Sunday\",\"Monday\",\"Tuesday\",\"Wednesday\",\"Thursday\",\"Friday\",\"Saturday\",\"Sunday\",\"Monday\",\"Tuesday\",\"Wednesday\",\"Thursday\",\"Friday\",\"Saturday\",\"Sunday\",\"Monday\",\"Tuesday\",\"Wednesday\",\"Thursday\",\"Friday\",\"Saturday\",\"Sunday\",\"Monday\",\"Tuesday\",\"Wednesday\",\"Thursday\",\"Friday\",\"Saturday\",\"Sunday\",\"Monday\",\"Tuesday\",\"Wednesday\",\"Thursday\",\"Friday\",\"Saturday\",\"Sunday\",\"Monday\",\"Tuesday\",\"Wednesday\",\"Thursday\",\"Friday\",\"Saturday\",\"Sunday\",\"Monday\",\"Tuesday\",\"Wednesday\",\"Thursday\",\"Friday\",\"Saturday\",\"Sunday\",\"Monday\",\"Tuesday\",\"Wednesday\",\"Thursday\",\"Friday\",\"Saturday\",\"Sunday\",\"Monday\",\"Tuesday\",\"Wednesday\",\"Thursday\",\"Friday\",\"Saturday\",\"Sunday\",\"Monday\",\"Tuesday\",\"Wednesday\",\"Thursday\",\"Friday\",\"Saturday\",\"Sunday\",\"Monday\",\"Tuesday\",\"Wednesday\",\"Thursday\",\"Friday\",\"Saturday\",\"Sunday\",\"Monday\",\"Tuesday\",\"Wednesday\",\"Thursday\",\"Friday\",\"Saturday\",\"Sunday\",\"Monday\",\"Tuesday\",\"Wednesday\",\"Thursday\",\"Friday\",\"Saturday\",\"Sunday\",\"Monday\",\"Tuesday\",\"Wednesday\",\"Thursday\",\"Friday\",\"Saturday\",\"Sunday\",\"Monday\",\"Tuesday\",\"Wednesday\",\"Thursday\",\"Friday\",\"Saturday\",\"Sunday\",\"Monday\",\"Tuesday\",\"Wednesday\",\"Thursday\",\"Friday\",\"Saturday\",\"Sunday\",\"Monday\",\"Tuesday\",\"Wednesday\",\"Thursday\",\"Friday\",\"Saturday\",\"Sunday\",\"Monday\",\"Tuesday\",\"Wednesday\",\"Thursday\",\"Friday\",\"Saturday\",\"Sunday\",\"Monday\",\"Tuesday\",\"Wednesday\",\"Thursday\",\"Friday\",\"Saturday\",\"Sunday\",\"Monday\",\"Tuesday\",\"Wednesday\",\"Thursday\",\"Friday\",\"Saturday\",\"Sunday\",\"Monday\",\"Tuesday\",\"Wednesday\",\"Thursday\",\"Friday\",\"Saturday\",\"Sunday\",\"Monday\",\"Tuesday\",\"Wednesday\",\"Thursday\",\"Friday\",\"Saturday\",\"Sunday\",\"Monday\",\"Tuesday\",\"Wednesday\",\"Thursday\",\"Friday\",\"Saturday\",\"Sunday\",\"Monday\",\"Tuesday\",\"Wednesday\",\"Thursday\",\"Friday\",\"Saturday\",\"Sunday\",\"Monday\",\"Tuesday\",\"Wednesday\",\"Thursday\",\"Friday\",\"Saturday\",\"Sunday\",\"Monday\",\"Tuesday\",\"Wednesday\",\"Thursday\",\"Friday\",\"Saturday\",\"Sunday\",\"Monday\",\"Tuesday\",\"Wednesday\",\"Thursday\",\"Friday\",\"Saturday\",\"Sunday\",\"Monday\",\"Tuesday\",\"Wednesday\",\"Thursday\"],\"y\":[6291.000000000001,17815.0,8173.715752563299,8843.948159155982,8341.34442974679,6381.999999999996,17384.000000000004,15248.000000000011,6764.000000000004,7351.616541858881,10433.000000000002,7326.891083058931,4739.0,7474.122260015211,23558.99999999998,11116.715649758708,10628.815119808762,8351.000000000002,6461.619993735303,17917.000000000004,6859.999999999999,20566.999999999996,5923.117854656953,7688.0,15664.94975286896,5127.999999999996,12349.000000000002,7246.999999999998,26690.999999999996,7924.000000000006,5143.000000000001,7361.999999999997,6143.321922518873,18013.0,5262.913296903462,23347.000000000004,6960.475570938082,5385.000000000003,14665.000000000002,6407.9999999999945,17857.376206407633,8300.999999999993,25701.0,7869.999999999996,10885.000000000005,13991.0,6280.45624332978,11372.000000000002,4782.863413429402,27774.999999999996,8324.999999999996,8620.76836158192,12245.78814049781,11669.0,11693.999999999996,7556.999999999997,17623.999999999996,5056.999999999998,5533.0,12914.999999999993,8659.000000000002,4386.0,8953.0,26011.031920941947,7800.230053962752,5326.0,10018.0,10174.907148055758,12474.000000000004,8716.0,22585.0,7677.9999999999945,14255.000000000004,13196.022543618752,11014.999999999996,13129.999999999998,7614.0,5554.999999999998,23321.000000000004,5714.910059278686,13672.071855303133,6401.000000000005,7179.999999999994,5785.56871229181,27971.0,7571.999999999999,6790.65426770191,17986.999999999993,11814.000000000005,13890.999999999989,5958.999999999997,24638.3589516128,6655.000000000002,8887.0,17874.083331145783,3828.0,11874.22847055717,16260.022290653576,29017.0,14611.999999999998,8402.670381079934,11575.0,6102.999999999997,16747.0,10908.000000000002,26223.334803005626,11665.172292124915,6055.54056137176,3985.0,9207.574262444541,9249.4086712044,9031.29052504917,21956.000000000004,8315.000000000002,18303.999999999993,17482.999999999996,4613.0,12964.999999999995,7776.0000000000055,26135.999999999996,7853.818086091178,7095.999999999995,14962.0,6923.02883111072,14093.000000000004,11940.000000000004,24772.000000000004,11178.557162588328,5823.999999999999,10950.0,12540.175738819242,11875.0,16972.52690624803,24885.999999999996,8452.0,5434.090514100628,16495.0,18935.000000000004,10862.0584955924,9100.999999999995,27535.11451243924,13189.0,4538.0,14839.999999999995,8607.000000000002,11758.656704492258,6484.999999999998,24741.000000000004,8388.0,5264.538723486051,3597.9999999999995,11712.999999999996,16552.905540872747,4481.999999999998,27166.000000000015,3397.0000000000005,3658.999999999999,4925.0,6848.0056873575695,14122.0,11246.999999999998,20694.000000000007,5534.999999999998,4270.0,14666.999999999998,8786.999999999998,3985.0000000000005,12652.000000000004,22215.640858031657,5523.0,7591.999999999999,10169.000000000004,4336.0,9160.999999999996,6006.999999999996,26305.000000000004,11244.999999999995,1925.0,3961.9999999999964,6688.919661827578,14257.0,8490.437815790321,12752.0731028093,16206.0,29467.000000000004,14360.999999999995,9846.157131710837,2267.9999999999964,8921.624830563023,22757.37516943698,3753.0193977581575,8658.97027113205,8561.57634197172,8643.788459921081,11567.327225185983,19022.0,6142.4545666222,15054.0,10043.235939430951,13450.0,19896.0,9204.189079441112,6293.000000000001,21196.390935263647,11862.195941958358,9707.999999999998,6639.999999999998,11712.216387466364,9035.0,17678.160585122474,26939.000000000004,7458.814982994611,7907.000000000001,5460.505389688468,7547.9999999999945,8063.0,6214.955726572457,22716.000000000004,7017.712316178026,20699.0,2427.0,9469.000000000011,9403.0,3840.000000000001,25089.0,9103.999999999996,11651.000000000004,4141.443682906771,7885.999999999996,16584.0,9436.665182885907,21346.0,12766.000000000004,7315.0,12763.0,11440.000000000002,11858.132303433575,8152.999999999999,11370.125327806662,5172.0,14686.000000000002,9184.019739795971,10954.0,15260.999999999998,6061.001770988241,18080.0,6273.361038157697,8598.0,14000.000000000002,10517.000000000002,14319.0],\"type\":\"bar\"},{\"name\":\"Participant 5\",\"x\":[\"Saturday\",\"Sunday\",\"Monday\",\"Tuesday\",\"Wednesday\",\"Thursday\",\"Friday\",\"Monday\",\"Thursday\",\"Tuesday\",\"Wednesday\",\"Thursday\",\"Friday\",\"Saturday\",\"Sunday\",\"Monday\",\"Tuesday\",\"Wednesday\",\"Thursday\",\"Friday\",\"Saturday\",\"Sunday\",\"Monday\",\"Tuesday\",\"Wednesday\",\"Thursday\",\"Friday\",\"Saturday\",\"Sunday\",\"Monday\",\"Tuesday\",\"Wednesday\",\"Thursday\",\"Friday\",\"Saturday\",\"Sunday\",\"Monday\",\"Tuesday\",\"Wednesday\",\"Thursday\",\"Friday\",\"Saturday\",\"Sunday\",\"Monday\",\"Tuesday\",\"Wednesday\",\"Thursday\",\"Friday\",\"Saturday\",\"Sunday\",\"Monday\",\"Tuesday\",\"Wednesday\",\"Thursday\",\"Friday\",\"Saturday\",\"Sunday\",\"Monday\",\"Tuesday\",\"Wednesday\",\"Thursday\",\"Friday\",\"Saturday\",\"Sunday\",\"Monday\",\"Tuesday\",\"Wednesday\",\"Thursday\",\"Friday\",\"Saturday\",\"Sunday\",\"Monday\",\"Tuesday\",\"Wednesday\",\"Thursday\",\"Friday\",\"Saturday\",\"Sunday\",\"Monday\",\"Tuesday\",\"Wednesday\",\"Thursday\",\"Friday\",\"Saturday\",\"Sunday\",\"Monday\",\"Tuesday\",\"Wednesday\",\"Thursday\",\"Friday\",\"Saturday\",\"Sunday\",\"Monday\",\"Tuesday\",\"Wednesday\",\"Thursday\",\"Friday\",\"Saturday\",\"Sunday\",\"Monday\",\"Tuesday\",\"Wednesday\",\"Thursday\",\"Friday\",\"Saturday\",\"Sunday\",\"Monday\",\"Tuesday\",\"Wednesday\",\"Thursday\",\"Friday\",\"Saturday\",\"Sunday\",\"Monday\",\"Tuesday\",\"Wednesday\",\"Thursday\",\"Friday\",\"Saturday\",\"Sunday\",\"Monday\",\"Tuesday\",\"Wednesday\",\"Thursday\",\"Friday\",\"Saturday\",\"Sunday\",\"Monday\",\"Tuesday\",\"Wednesday\",\"Thursday\",\"Friday\",\"Saturday\",\"Sunday\",\"Monday\",\"Tuesday\",\"Wednesday\",\"Thursday\",\"Friday\",\"Saturday\",\"Sunday\",\"Monday\",\"Tuesday\",\"Wednesday\",\"Thursday\",\"Friday\",\"Saturday\",\"Sunday\",\"Monday\",\"Tuesday\",\"Wednesday\",\"Thursday\",\"Friday\",\"Saturday\",\"Sunday\",\"Monday\",\"Tuesday\",\"Wednesday\",\"Thursday\",\"Friday\",\"Saturday\",\"Sunday\",\"Monday\",\"Tuesday\",\"Wednesday\",\"Thursday\",\"Friday\",\"Saturday\",\"Sunday\",\"Monday\",\"Tuesday\",\"Wednesday\",\"Thursday\",\"Friday\",\"Saturday\",\"Sunday\",\"Monday\",\"Tuesday\",\"Wednesday\",\"Thursday\",\"Friday\",\"Saturday\",\"Sunday\",\"Monday\",\"Tuesday\",\"Wednesday\",\"Thursday\",\"Friday\",\"Saturday\",\"Sunday\",\"Monday\",\"Tuesday\",\"Wednesday\",\"Thursday\",\"Friday\",\"Saturday\",\"Sunday\",\"Monday\",\"Tuesday\",\"Wednesday\",\"Thursday\",\"Friday\",\"Saturday\",\"Sunday\",\"Monday\",\"Tuesday\",\"Wednesday\",\"Thursday\",\"Friday\",\"Saturday\",\"Sunday\",\"Monday\",\"Tuesday\",\"Wednesday\",\"Thursday\",\"Friday\",\"Saturday\",\"Sunday\",\"Monday\",\"Tuesday\",\"Wednesday\",\"Thursday\"],\"y\":[114,8479,5104,8031,7743,8810,2707,239,4,32,6440,5468,4540,2916,5355,12351,7261,5843,3825,6248,3046,9380,8369,4992,4516,4179,3403,3022,7081,10126,6778,8282,6267,3150,5071,9752,8489,4658,9049,11677,3310,3246,9977,9900,3354,6553,15940,8285,9061,10125,17175,9825,9155,8625,5241,8726,2429,12484,9000,9272,15764,14412,16677,12677,12132,6447,163,6598,3578,22396,25827,13992,13125,9451,14067,18481,8253,23202,15145,18749,11676,17630,10033,7395,8200,9763,6093,9860,4826,17816,8969,17785,9476,4245,7694,17949,46523,31052,14185,12940,3494,2792,6811,4886,6119,5319,12266,3242,3720,8254,4033,8002,11055,12208,4415,4782,10831,5282,8160,13727,8081,7025,6876,7618,8373,11384,6447,6680,10100,8626,6391,8685,11052,16514,18939,8212,11065,6528,9141,7307,21138,16138,15736,43749,15597,12147,12063,12718,21048,15012,28205,14414,14465,9378,14356,3511,2330,5296,12512,13577,7183,8113,7133,5672,5877,6283,13337,7109,4910,10886,11012,11349,9193,9555,10617,9688,8903,7180,4115,4236,8664,7488,6420,5536,7359,4363,3293,10545,10374,10045,6935,13649,4804,3158,7349,11078,6193,3564,3742,5486,5169,4373,5521,5988,5188,10557,8648,8424,13213,10751,9664,6084,8671,8195,10596,11186,12485,12888,5994,9820,10523,6801],\"type\":\"bar\"},{\"name\":\"Participant 7\",\"x\":[\"Saturday\",\"Sunday\",\"Monday\",\"Tuesday\",\"Wednesday\",\"Thursday\",\"Friday\",\"Saturday\",\"Sunday\",\"Monday\",\"Tuesday\",\"Wednesday\",\"Thursday\",\"Friday\",\"Saturday\",\"Sunday\",\"Monday\",\"Tuesday\",\"Wednesday\",\"Thursday\",\"Friday\",\"Saturday\",\"Sunday\",\"Monday\",\"Tuesday\",\"Wednesday\",\"Thursday\",\"Friday\",\"Saturday\",\"Sunday\",\"Monday\",\"Tuesday\",\"Wednesday\",\"Thursday\",\"Friday\",\"Saturday\",\"Sunday\",\"Monday\",\"Tuesday\",\"Wednesday\",\"Thursday\",\"Friday\",\"Saturday\",\"Sunday\",\"Monday\",\"Tuesday\",\"Wednesday\",\"Thursday\",\"Friday\",\"Saturday\",\"Sunday\",\"Monday\",\"Tuesday\",\"Wednesday\",\"Thursday\",\"Friday\",\"Saturday\",\"Sunday\",\"Monday\",\"Tuesday\",\"Wednesday\",\"Thursday\",\"Friday\",\"Saturday\",\"Sunday\",\"Monday\",\"Tuesday\",\"Wednesday\",\"Thursday\",\"Friday\",\"Saturday\",\"Sunday\",\"Monday\",\"Tuesday\",\"Wednesday\",\"Thursday\",\"Friday\",\"Saturday\",\"Sunday\",\"Monday\",\"Tuesday\",\"Wednesday\",\"Thursday\",\"Friday\",\"Saturday\",\"Sunday\",\"Monday\",\"Tuesday\",\"Wednesday\",\"Thursday\",\"Friday\",\"Saturday\",\"Sunday\",\"Monday\",\"Tuesday\",\"Wednesday\",\"Thursday\",\"Friday\",\"Saturday\",\"Sunday\",\"Monday\",\"Tuesday\",\"Wednesday\",\"Thursday\",\"Friday\",\"Saturday\",\"Sunday\",\"Monday\",\"Tuesday\",\"Wednesday\",\"Thursday\",\"Friday\",\"Saturday\",\"Sunday\",\"Monday\",\"Tuesday\",\"Wednesday\",\"Thursday\",\"Friday\",\"Saturday\",\"Sunday\",\"Monday\",\"Tuesday\",\"Wednesday\",\"Thursday\",\"Friday\",\"Saturday\",\"Sunday\",\"Monday\",\"Tuesday\",\"Wednesday\",\"Thursday\",\"Friday\",\"Saturday\",\"Sunday\",\"Monday\",\"Tuesday\",\"Wednesday\",\"Thursday\",\"Friday\",\"Saturday\",\"Sunday\",\"Monday\",\"Tuesday\",\"Wednesday\",\"Thursday\",\"Friday\",\"Saturday\",\"Sunday\",\"Monday\",\"Tuesday\",\"Wednesday\",\"Thursday\",\"Friday\",\"Saturday\",\"Sunday\",\"Monday\",\"Tuesday\",\"Wednesday\",\"Thursday\",\"Friday\",\"Saturday\",\"Sunday\",\"Monday\",\"Tuesday\",\"Wednesday\",\"Thursday\",\"Friday\",\"Saturday\",\"Sunday\",\"Monday\",\"Tuesday\",\"Wednesday\",\"Thursday\",\"Friday\",\"Saturday\",\"Sunday\",\"Monday\",\"Tuesday\",\"Wednesday\",\"Thursday\",\"Friday\",\"Saturday\",\"Sunday\",\"Monday\",\"Tuesday\",\"Wednesday\",\"Thursday\",\"Friday\",\"Saturday\",\"Sunday\",\"Monday\",\"Tuesday\",\"Wednesday\",\"Thursday\",\"Friday\",\"Saturday\",\"Sunday\",\"Monday\",\"Tuesday\",\"Wednesday\",\"Thursday\",\"Friday\",\"Saturday\",\"Sunday\",\"Monday\",\"Tuesday\",\"Wednesday\",\"Thursday\",\"Friday\",\"Saturday\",\"Sunday\",\"Monday\",\"Tuesday\",\"Wednesday\",\"Thursday\",\"Friday\",\"Saturday\",\"Sunday\",\"Monday\",\"Tuesday\",\"Wednesday\",\"Thursday\",\"Friday\",\"Saturday\",\"Sunday\",\"Monday\",\"Tuesday\",\"Wednesday\",\"Thursday\",\"Friday\",\"Saturday\",\"Sunday\",\"Monday\",\"Tuesday\",\"Wednesday\",\"Thursday\",\"Friday\",\"Saturday\",\"Sunday\",\"Monday\",\"Tuesday\",\"Wednesday\",\"Thursday\",\"Friday\",\"Saturday\",\"Sunday\",\"Monday\",\"Tuesday\",\"Wednesday\",\"Thursday\",\"Friday\",\"Saturday\",\"Sunday\",\"Monday\",\"Tuesday\"],\"y\":[6758.0,8034.999999999998,7241.000000000001,5955.0,11107.000000000007,3271.000000000002,7797.000000000001,8673.000000000004,3963.999999999995,7433.0,3411.0000000000005,10357.000000000004,9202.000000000007,5550.9999999999945,5449.0,4369.000000000004,11126.0,8205.999999999996,11177.0,10787.999999999998,14064.999999999998,6867.0,2376.0,10060.999999999995,8438.0,3674.0,9020.000000000004,7704.000000000001,10327.999999999995,2902.0,6640.0,10079.999999999998,7059.0,10065.999999999996,7386.999999999997,6954.999999999995,4586.999999999999,12165.0,3281.0000000000027,4243.000000000002,12110.000000000004,8172.000000000001,7780.000000000005,9435.000000000005,8292.999999999996,13429.999999999993,9802.999999999996,11095.999999999998,6670.0000000000055,10351.000000000002,6944.999999999996,7208.000000000003,8013.000000000001,10124.000000000004,7075.000000000003,5267.999999999997,5668.0,4075.000000000001,9362.0,4400.0,11325.999999999996,3791.0000000000005,5706.0,10051.0,6653.999999999999,6266.999999999995,6394.000000000005,9023.999999999995,7223.000000000002,4793.0,12852.999999999998,7138.0,5535.0,6826.000000000004,7673.000000000002,8019.000000000001,12052.999999999993,8390.000000000005,8379.999999999993,10050.0,15091.999999999989,7167.999999999998,8189.000000000002,9167.999999999993,11025.000000000004,6343.000000000003,8856.999999999998,4397.000000000004,5451.0,13493.000000000002,7690.0000000000055,10669.0,4364.0,10089.000000000002,11848.999999999993,9211.99999999999,7497.000000000003,6517.000000000002,7583.000000000003,6540.000000000005,12092.0,11031.0,7008.000000000002,10058.999999999989,2954.0,10043.000000000005,8777.0,8692.0,7180.999999999998,5337.0,7822.000000000004,9046.999999999993,7117.000000000006,12037.0,10101.0,4823.000000000005,2425.0,2237.0,2274.999999999999,3544.000000000001,1910.0,2165.9999999999995,10123.000000000013,6585.000000000001,11147.999999999995,10767.999999999996,5364.999999999999,6803.000000000002,7947.999999999998,7424.00000000001,7355.0,7923.999999999995,7248.9999999999945,12581.000000000002,4882.0,8887.000000000002,8134.999999999992,10406.999999999996,8229.0,5065.0,7792.999999999998,1345.9999999999995,10351.999999999996,5199.0,10853.000000000004,6852.0,5471.999999999998,11157.0,8030.999999999994,9229.000000000002,4839.0,9238.999999999998,9573.000000000004,5725.0,6145.0,7943.000000000005,4324.0,6797.999999999999,10717.0,9203.000000000005,7820.000000000002,6137.0,7089.000000000005,10183.999999999993,6157.9999999999945,3306.0,6497.999999999995,5039.0,9550.0,5678.0,6619.0,4864.0,7830.000000000001,7189.000000000003,6125.9999999999945,6045.0,6304.0,9245.999999999998,7649.0,10284.999999999993,12637.000000000004,10625.000000000004,3391.0,5353.0,4511.0,10395.00000000001,5239.0,4607.0,5170.0,6144.0,6206.000000000001,10598.99999999999,5851.999999999997,9091.000000000004,6891.999999999998,6903.000000000004,9339.999999999998,5936.999999999999,8764.999999999998,7051.999999999996,7347.999999999998,4853.0,8595.999999999996,9203.000000000004,7082.999999999997,10501.000000000011,8263.000000000004,8900.000000000007,10246.000000000004,4131.0,11873.0,7427.999999999998,10510.999999999996,7544.999999999997,6374.0,10371.999999999998,9861.0,9812.035842155145,7846.0,7280.0,6753.0,8503.192369358183,6849.0,8304.42761837267,9014.999999999996,10200.0,10972.000000000002,10312.04464416856,6106.0,8604.53723125757,7899.999999999995,8641.861653605905,7279.871338110169,6654.50885192466,10803.20775434967,8922.76623386611,8116.207197743346,5527.0,6044.999999999993,8639.888452876905,8016.9110864214035,11837.384971189924,7845.437458663842,2957.0,2894.0000000000005,8608.250644230395,7920.147475364952,11370.218818263027,11465.061083066379,7863.519654666039,10875.000000000005,7468.884446952269,9341.000000000004,6823.000000000002,11035.366487907088,2049.0],\"type\":\"bar\"},{\"name\":\"Participant 8\",\"x\":[\"Saturday\",\"Sunday\",\"Monday\",\"Tuesday\",\"Wednesday\",\"Thursday\",\"Friday\",\"Saturday\",\"Sunday\",\"Monday\",\"Tuesday\",\"Wednesday\",\"Thursday\",\"Friday\",\"Saturday\",\"Sunday\",\"Monday\",\"Tuesday\",\"Wednesday\",\"Thursday\",\"Friday\",\"Saturday\",\"Sunday\",\"Monday\",\"Tuesday\",\"Wednesday\",\"Thursday\",\"Friday\",\"Saturday\",\"Sunday\",\"Monday\",\"Tuesday\",\"Wednesday\",\"Thursday\",\"Friday\",\"Saturday\",\"Sunday\",\"Monday\",\"Tuesday\",\"Wednesday\",\"Thursday\",\"Friday\",\"Saturday\",\"Sunday\",\"Monday\",\"Tuesday\",\"Wednesday\",\"Thursday\",\"Friday\",\"Saturday\",\"Sunday\",\"Monday\",\"Tuesday\",\"Wednesday\",\"Thursday\",\"Friday\",\"Saturday\",\"Sunday\",\"Monday\",\"Tuesday\",\"Wednesday\",\"Thursday\",\"Friday\",\"Saturday\",\"Sunday\",\"Monday\",\"Tuesday\",\"Wednesday\",\"Thursday\",\"Friday\",\"Saturday\",\"Sunday\",\"Monday\",\"Tuesday\",\"Wednesday\",\"Thursday\",\"Friday\",\"Saturday\",\"Sunday\",\"Monday\",\"Tuesday\",\"Wednesday\",\"Thursday\",\"Friday\",\"Saturday\",\"Sunday\",\"Monday\",\"Tuesday\",\"Wednesday\",\"Thursday\",\"Friday\",\"Saturday\",\"Sunday\",\"Monday\",\"Tuesday\",\"Wednesday\",\"Thursday\",\"Friday\",\"Saturday\",\"Sunday\",\"Monday\",\"Tuesday\",\"Wednesday\",\"Thursday\",\"Friday\",\"Saturday\",\"Sunday\",\"Monday\",\"Tuesday\",\"Wednesday\",\"Thursday\",\"Friday\",\"Saturday\",\"Sunday\",\"Monday\",\"Tuesday\",\"Wednesday\",\"Thursday\",\"Friday\",\"Saturday\",\"Sunday\",\"Monday\",\"Tuesday\",\"Wednesday\",\"Thursday\",\"Friday\",\"Saturday\",\"Sunday\",\"Monday\",\"Tuesday\",\"Wednesday\",\"Thursday\",\"Friday\",\"Saturday\",\"Sunday\",\"Monday\",\"Tuesday\",\"Wednesday\",\"Thursday\",\"Friday\",\"Saturday\",\"Sunday\",\"Monday\",\"Tuesday\",\"Wednesday\",\"Thursday\",\"Friday\",\"Saturday\",\"Sunday\",\"Monday\",\"Tuesday\",\"Wednesday\",\"Thursday\",\"Friday\",\"Saturday\",\"Sunday\",\"Monday\",\"Tuesday\",\"Wednesday\",\"Thursday\",\"Friday\",\"Saturday\",\"Sunday\",\"Monday\",\"Tuesday\",\"Wednesday\",\"Thursday\",\"Friday\",\"Saturday\",\"Sunday\",\"Monday\",\"Tuesday\",\"Wednesday\",\"Thursday\",\"Friday\",\"Saturday\",\"Sunday\",\"Monday\",\"Tuesday\",\"Wednesday\",\"Thursday\",\"Friday\",\"Saturday\",\"Sunday\",\"Monday\",\"Tuesday\",\"Wednesday\",\"Thursday\",\"Friday\",\"Saturday\",\"Sunday\",\"Monday\",\"Tuesday\",\"Wednesday\",\"Thursday\",\"Friday\",\"Saturday\",\"Sunday\",\"Monday\",\"Tuesday\",\"Wednesday\",\"Thursday\",\"Friday\",\"Saturday\",\"Sunday\",\"Monday\",\"Tuesday\",\"Wednesday\",\"Thursday\",\"Friday\",\"Saturday\",\"Sunday\",\"Monday\",\"Tuesday\",\"Wednesday\",\"Thursday\",\"Friday\",\"Saturday\",\"Sunday\",\"Monday\",\"Tuesday\",\"Wednesday\",\"Thursday\",\"Friday\",\"Saturday\",\"Sunday\",\"Monday\",\"Tuesday\",\"Wednesday\",\"Thursday\",\"Friday\",\"Saturday\",\"Sunday\",\"Monday\",\"Tuesday\",\"Wednesday\",\"Thursday\",\"Friday\",\"Saturday\",\"Sunday\",\"Monday\",\"Tuesday\",\"Wednesday\",\"Thursday\",\"Friday\",\"Saturday\",\"Sunday\",\"Monday\",\"Tuesday\",\"Wednesday\",\"Thursday\",\"Friday\",\"Saturday\",\"Sunday\",\"Monday\"],\"y\":[7312.0,7660.999999999993,6462.000000000001,5453.9999999999945,8657.999999999996,8966.0,6173.999999999998,7888.0,7518.0,8455.000000000004,11112.999999999996,1773.0000000000002,3835.0,12746.000000000011,8099.999999999999,2012.0,5783.000000000001,3638.9999999999945,8766.999999999998,6524.999999999999,2683.999999999995,7145.000000000005,9323.000000000004,5956.0,8145.000000000001,11853.999999999996,9657.999999999998,5826.000000000002,3323.0000000000027,7635.000000000006,3418.999999999999,3015.0,12802.999999999993,6493.0,7640.999999999995,10710.000000000005,6453.9999999999945,12519.999999999993,11302.0,10309.999999999995,11405.000000000007,9122.0,11434.999999999996,7520.0,4315.000000000002,8786.000000000004,7588.000000000002,7642.999999999999,7392.0,8229.999999999996,7980.000000000003,10163.999999999995,9454.0,7253.0,9186.0,8436.0,13122.999999999995,8196.999999999995,6609.999999999999,2099.0000000000005,2559.9999999999995,4245.0,2376.0000000000005,3902.0000000000005,2783.0,2533.9999999999995,7351.000000000002,11791.0,10269.0,4153.0,9845.999999999993,8938.0,8359.999999999993,8973.000000000004,15265.0,9195.0,4802.0,13927.0,10285.0,9080.999999999998,12735.000000000002,12460.000000000002,8682.000000000002,8794.000000000002,10766.000000000002,12584.0,12555.0,9305.00000000001,9555.0,14029.0,11659.000000000004,4693.000000000003,2362.0,1471.9999999999998,1928.9999999999998,2777.0,2623.0,2841.0,11334.0,8226.000000000004,7924.000000000001,10055.999999999996,6192.000000000004,11356.000000000002,6220.0,15536.999999999996,11597.000000000004,11232.0,8590.999999999998,15475.999999999989,12888.999999999996,12429.000000000004,12088.999999999993,9720.00000000001,12582.000000000005,9911.000000000004,5474.0,12459.0,10311.000000000004,10176.999999999996,13748.999999999998,7134.999999999995,11429.999999999985,9286.999999999998,10086.000000000002,14757.000000000002,10045.0,9672.0,10689.999999999998,13626.999999999996,11808.000000000002,10680.000000000004,16248.000000000004,10277.999999999985,10040.999999999998,15060.0,10114.000000000004,11982.999999999993,10300.0,6661.999999999999,13037.0,5332.0,7256.0,5858.000000000002,8773.000000000002,6137.0,3869.0000000000036,3646.0,10622.0,4381.0,7284.0000000000055,5230.0,7070.0000000000055,6339.999999999999,11791.000000000005,4258.0,9034.000000000002,3312.999999999999,6697.999999999998,5616.999999999998,3882.0000000000005,7176.000000000002,4896.999999999996,7424.999999999998,4679.000000000004,8885.0,13156.999999999995,8451.000000000002,10218.0,10669.999999999998,13096.999999999993,6796.999999999998,10590.0,4266.000000000001,6143.0,7891.0,9544.999999999995,8937.0,6677.999999999998,5299.999999999999,7674.999999999998,7770.999999999998,9134.999999999989,8789.999999999998,11354.0,8517.999999999998,9939.000000000002,5480.000000000002,7946.000000000003,10083.999999999998,11115.0,1800.0000000000005,10017.000000000002,4833.000000000003,3801.0,6274.0,2154.0,12615.0,10167.999999999998,4944.0,7489.0,9470.0,8781.999999999998,8762.000000000007,8603.999999999998,9541.000000000002,15082.999999999996,13771.000000000002,9140.000000000002,12007.000000000013,8123.9999999999945,8348.999999999998,13970.000000000005,9286.0,8648.000000000004,8055.0,12262.000000000002,11882.999999999998,9440.999999999993,7130.999999999996,8245.0,10342.0,5721.999999999998,6074.999999999999,14297.0,6541.999999999999,12950.00000000001,7164.0,3887.0,7512.999999999998,6927.000000000004,12173.999999999998,13491.999999999998,7897.000000000002,9117.999999999996,7627.0,8314.000000000002,4579.0,15263.000000000004,9165.0,11646.999999999998,9627.999999999998,18733.00000000001,4984.000000000001,9654.000000000004,6413.000000000003,11676.999999999998,8946.999999999993,12427.999999999995,22769.0,18148.999999999993,17792.000000000004,14373.0,5636.0,228.0],\"type\":\"bar\"}],                        {\"template\":{\"data\":{\"histogram2dcontour\":[{\"type\":\"histogram2dcontour\",\"colorbar\":{\"outlinewidth\":0,\"ticks\":\"\"},\"colorscale\":[[0.0,\"#0d0887\"],[0.1111111111111111,\"#46039f\"],[0.2222222222222222,\"#7201a8\"],[0.3333333333333333,\"#9c179e\"],[0.4444444444444444,\"#bd3786\"],[0.5555555555555556,\"#d8576b\"],[0.6666666666666666,\"#ed7953\"],[0.7777777777777778,\"#fb9f3a\"],[0.8888888888888888,\"#fdca26\"],[1.0,\"#f0f921\"]]}],\"choropleth\":[{\"type\":\"choropleth\",\"colorbar\":{\"outlinewidth\":0,\"ticks\":\"\"}}],\"histogram2d\":[{\"type\":\"histogram2d\",\"colorbar\":{\"outlinewidth\":0,\"ticks\":\"\"},\"colorscale\":[[0.0,\"#0d0887\"],[0.1111111111111111,\"#46039f\"],[0.2222222222222222,\"#7201a8\"],[0.3333333333333333,\"#9c179e\"],[0.4444444444444444,\"#bd3786\"],[0.5555555555555556,\"#d8576b\"],[0.6666666666666666,\"#ed7953\"],[0.7777777777777778,\"#fb9f3a\"],[0.8888888888888888,\"#fdca26\"],[1.0,\"#f0f921\"]]}],\"heatmap\":[{\"type\":\"heatmap\",\"colorbar\":{\"outlinewidth\":0,\"ticks\":\"\"},\"colorscale\":[[0.0,\"#0d0887\"],[0.1111111111111111,\"#46039f\"],[0.2222222222222222,\"#7201a8\"],[0.3333333333333333,\"#9c179e\"],[0.4444444444444444,\"#bd3786\"],[0.5555555555555556,\"#d8576b\"],[0.6666666666666666,\"#ed7953\"],[0.7777777777777778,\"#fb9f3a\"],[0.8888888888888888,\"#fdca26\"],[1.0,\"#f0f921\"]]}],\"heatmapgl\":[{\"type\":\"heatmapgl\",\"colorbar\":{\"outlinewidth\":0,\"ticks\":\"\"},\"colorscale\":[[0.0,\"#0d0887\"],[0.1111111111111111,\"#46039f\"],[0.2222222222222222,\"#7201a8\"],[0.3333333333333333,\"#9c179e\"],[0.4444444444444444,\"#bd3786\"],[0.5555555555555556,\"#d8576b\"],[0.6666666666666666,\"#ed7953\"],[0.7777777777777778,\"#fb9f3a\"],[0.8888888888888888,\"#fdca26\"],[1.0,\"#f0f921\"]]}],\"contourcarpet\":[{\"type\":\"contourcarpet\",\"colorbar\":{\"outlinewidth\":0,\"ticks\":\"\"}}],\"contour\":[{\"type\":\"contour\",\"colorbar\":{\"outlinewidth\":0,\"ticks\":\"\"},\"colorscale\":[[0.0,\"#0d0887\"],[0.1111111111111111,\"#46039f\"],[0.2222222222222222,\"#7201a8\"],[0.3333333333333333,\"#9c179e\"],[0.4444444444444444,\"#bd3786\"],[0.5555555555555556,\"#d8576b\"],[0.6666666666666666,\"#ed7953\"],[0.7777777777777778,\"#fb9f3a\"],[0.8888888888888888,\"#fdca26\"],[1.0,\"#f0f921\"]]}],\"surface\":[{\"type\":\"surface\",\"colorbar\":{\"outlinewidth\":0,\"ticks\":\"\"},\"colorscale\":[[0.0,\"#0d0887\"],[0.1111111111111111,\"#46039f\"],[0.2222222222222222,\"#7201a8\"],[0.3333333333333333,\"#9c179e\"],[0.4444444444444444,\"#bd3786\"],[0.5555555555555556,\"#d8576b\"],[0.6666666666666666,\"#ed7953\"],[0.7777777777777778,\"#fb9f3a\"],[0.8888888888888888,\"#fdca26\"],[1.0,\"#f0f921\"]]}],\"mesh3d\":[{\"type\":\"mesh3d\",\"colorbar\":{\"outlinewidth\":0,\"ticks\":\"\"}}],\"scatter\":[{\"fillpattern\":{\"fillmode\":\"overlay\",\"size\":10,\"solidity\":0.2},\"type\":\"scatter\"}],\"parcoords\":[{\"type\":\"parcoords\",\"line\":{\"colorbar\":{\"outlinewidth\":0,\"ticks\":\"\"}}}],\"scatterpolargl\":[{\"type\":\"scatterpolargl\",\"marker\":{\"colorbar\":{\"outlinewidth\":0,\"ticks\":\"\"}}}],\"bar\":[{\"error_x\":{\"color\":\"#2a3f5f\"},\"error_y\":{\"color\":\"#2a3f5f\"},\"marker\":{\"line\":{\"color\":\"#E5ECF6\",\"width\":0.5},\"pattern\":{\"fillmode\":\"overlay\",\"size\":10,\"solidity\":0.2}},\"type\":\"bar\"}],\"scattergeo\":[{\"type\":\"scattergeo\",\"marker\":{\"colorbar\":{\"outlinewidth\":0,\"ticks\":\"\"}}}],\"scatterpolar\":[{\"type\":\"scatterpolar\",\"marker\":{\"colorbar\":{\"outlinewidth\":0,\"ticks\":\"\"}}}],\"histogram\":[{\"marker\":{\"pattern\":{\"fillmode\":\"overlay\",\"size\":10,\"solidity\":0.2}},\"type\":\"histogram\"}],\"scattergl\":[{\"type\":\"scattergl\",\"marker\":{\"colorbar\":{\"outlinewidth\":0,\"ticks\":\"\"}}}],\"scatter3d\":[{\"type\":\"scatter3d\",\"line\":{\"colorbar\":{\"outlinewidth\":0,\"ticks\":\"\"}},\"marker\":{\"colorbar\":{\"outlinewidth\":0,\"ticks\":\"\"}}}],\"scattermapbox\":[{\"type\":\"scattermapbox\",\"marker\":{\"colorbar\":{\"outlinewidth\":0,\"ticks\":\"\"}}}],\"scatterternary\":[{\"type\":\"scatterternary\",\"marker\":{\"colorbar\":{\"outlinewidth\":0,\"ticks\":\"\"}}}],\"scattercarpet\":[{\"type\":\"scattercarpet\",\"marker\":{\"colorbar\":{\"outlinewidth\":0,\"ticks\":\"\"}}}],\"carpet\":[{\"aaxis\":{\"endlinecolor\":\"#2a3f5f\",\"gridcolor\":\"white\",\"linecolor\":\"white\",\"minorgridcolor\":\"white\",\"startlinecolor\":\"#2a3f5f\"},\"baxis\":{\"endlinecolor\":\"#2a3f5f\",\"gridcolor\":\"white\",\"linecolor\":\"white\",\"minorgridcolor\":\"white\",\"startlinecolor\":\"#2a3f5f\"},\"type\":\"carpet\"}],\"table\":[{\"cells\":{\"fill\":{\"color\":\"#EBF0F8\"},\"line\":{\"color\":\"white\"}},\"header\":{\"fill\":{\"color\":\"#C8D4E3\"},\"line\":{\"color\":\"white\"}},\"type\":\"table\"}],\"barpolar\":[{\"marker\":{\"line\":{\"color\":\"#E5ECF6\",\"width\":0.5},\"pattern\":{\"fillmode\":\"overlay\",\"size\":10,\"solidity\":0.2}},\"type\":\"barpolar\"}],\"pie\":[{\"automargin\":true,\"type\":\"pie\"}]},\"layout\":{\"autotypenumbers\":\"strict\",\"colorway\":[\"#636efa\",\"#EF553B\",\"#00cc96\",\"#ab63fa\",\"#FFA15A\",\"#19d3f3\",\"#FF6692\",\"#B6E880\",\"#FF97FF\",\"#FECB52\"],\"font\":{\"color\":\"#2a3f5f\"},\"hovermode\":\"closest\",\"hoverlabel\":{\"align\":\"left\"},\"paper_bgcolor\":\"white\",\"plot_bgcolor\":\"#E5ECF6\",\"polar\":{\"bgcolor\":\"#E5ECF6\",\"angularaxis\":{\"gridcolor\":\"white\",\"linecolor\":\"white\",\"ticks\":\"\"},\"radialaxis\":{\"gridcolor\":\"white\",\"linecolor\":\"white\",\"ticks\":\"\"}},\"ternary\":{\"bgcolor\":\"#E5ECF6\",\"aaxis\":{\"gridcolor\":\"white\",\"linecolor\":\"white\",\"ticks\":\"\"},\"baxis\":{\"gridcolor\":\"white\",\"linecolor\":\"white\",\"ticks\":\"\"},\"caxis\":{\"gridcolor\":\"white\",\"linecolor\":\"white\",\"ticks\":\"\"}},\"coloraxis\":{\"colorbar\":{\"outlinewidth\":0,\"ticks\":\"\"}},\"colorscale\":{\"sequential\":[[0.0,\"#0d0887\"],[0.1111111111111111,\"#46039f\"],[0.2222222222222222,\"#7201a8\"],[0.3333333333333333,\"#9c179e\"],[0.4444444444444444,\"#bd3786\"],[0.5555555555555556,\"#d8576b\"],[0.6666666666666666,\"#ed7953\"],[0.7777777777777778,\"#fb9f3a\"],[0.8888888888888888,\"#fdca26\"],[1.0,\"#f0f921\"]],\"sequentialminus\":[[0.0,\"#0d0887\"],[0.1111111111111111,\"#46039f\"],[0.2222222222222222,\"#7201a8\"],[0.3333333333333333,\"#9c179e\"],[0.4444444444444444,\"#bd3786\"],[0.5555555555555556,\"#d8576b\"],[0.6666666666666666,\"#ed7953\"],[0.7777777777777778,\"#fb9f3a\"],[0.8888888888888888,\"#fdca26\"],[1.0,\"#f0f921\"]],\"diverging\":[[0,\"#8e0152\"],[0.1,\"#c51b7d\"],[0.2,\"#de77ae\"],[0.3,\"#f1b6da\"],[0.4,\"#fde0ef\"],[0.5,\"#f7f7f7\"],[0.6,\"#e6f5d0\"],[0.7,\"#b8e186\"],[0.8,\"#7fbc41\"],[0.9,\"#4d9221\"],[1,\"#276419\"]]},\"xaxis\":{\"gridcolor\":\"white\",\"linecolor\":\"white\",\"ticks\":\"\",\"title\":{\"standoff\":15},\"zerolinecolor\":\"white\",\"automargin\":true,\"zerolinewidth\":2},\"yaxis\":{\"gridcolor\":\"white\",\"linecolor\":\"white\",\"ticks\":\"\",\"title\":{\"standoff\":15},\"zerolinecolor\":\"white\",\"automargin\":true,\"zerolinewidth\":2},\"scene\":{\"xaxis\":{\"backgroundcolor\":\"#E5ECF6\",\"gridcolor\":\"white\",\"linecolor\":\"white\",\"showbackground\":true,\"ticks\":\"\",\"zerolinecolor\":\"white\",\"gridwidth\":2},\"yaxis\":{\"backgroundcolor\":\"#E5ECF6\",\"gridcolor\":\"white\",\"linecolor\":\"white\",\"showbackground\":true,\"ticks\":\"\",\"zerolinecolor\":\"white\",\"gridwidth\":2},\"zaxis\":{\"backgroundcolor\":\"#E5ECF6\",\"gridcolor\":\"white\",\"linecolor\":\"white\",\"showbackground\":true,\"ticks\":\"\",\"zerolinecolor\":\"white\",\"gridwidth\":2}},\"shapedefaults\":{\"line\":{\"color\":\"#2a3f5f\"}},\"annotationdefaults\":{\"arrowcolor\":\"#2a3f5f\",\"arrowhead\":0,\"arrowwidth\":1},\"geo\":{\"bgcolor\":\"white\",\"landcolor\":\"#E5ECF6\",\"subunitcolor\":\"white\",\"showland\":true,\"showlakes\":true,\"lakecolor\":\"white\"},\"title\":{\"x\":0.05},\"mapbox\":{\"style\":\"light\"}}},\"updatemenus\":[{\"active\":0,\"buttons\":[{\"args\":[{\"visible\":[true,true,true,true,true,true,true]},{\"title\":\"Number of steps made\"}],\"label\":\"All\",\"method\":\"update\"},{\"args\":[{\"visible\":[true,false,false,false,false,false,false]},{\"title\":\"Number of steps made by Participant 1\"}],\"label\":\"Participant 1\",\"method\":\"update\"},{\"args\":[{\"visible\":[false,true,false,false,false,false,false]},{\"title\":\"Number of steps made by Participant 2\"}],\"label\":\"Participant 2\",\"method\":\"update\"},{\"args\":[{\"visible\":[false,false,true,false,false,false,false]},{\"title\":\"Number of steps made by Participant 3\"}],\"label\":\"Participant 3\",\"method\":\"update\"},{\"args\":[{\"visible\":[false,false,false,true,false,false,false]},{\"title\":\"Number of steps made by Participant 4\"}],\"label\":\"Participant 4\",\"method\":\"update\"},{\"args\":[{\"visible\":[false,false,false,false,true,false,false]},{\"title\":\"Number of steps made by Participant 5\"}],\"label\":\"Participant 5\",\"method\":\"update\"},{\"args\":[{\"visible\":[false,false,false,false,false,true,false]},{\"title\":\"Number of steps made by Participant 7\"}],\"label\":\"Participant 7\",\"method\":\"update\"},{\"args\":[{\"visible\":[false,false,false,false,false,false,true]},{\"title\":\"Number of steps made by Participant 8\"}],\"label\":\"Participant 8\",\"method\":\"update\"}]}],\"xaxis\":{\"categoryorder\":\"array\",\"categoryarray\":[\"Monday\",\"Tuesday\",\"Wednesday\",\"Thursday\",\"Friday\",\"Saturday\",\"Sunday\"]}},                        {\"responsive\": true}                    ).then(function(){\n",
       "                            \n",
       "var gd = document.getElementById('20232f58-a463-47f2-bdbd-2f2ac1da7c51');\n",
       "var x = new MutationObserver(function (mutations, observer) {{\n",
       "        var display = window.getComputedStyle(gd).display;\n",
       "        if (!display || display === 'none') {{\n",
       "            console.log([gd, 'removed!']);\n",
       "            Plotly.purge(gd);\n",
       "            observer.disconnect();\n",
       "        }}\n",
       "}});\n",
       "\n",
       "// Listen for the removal of the full notebook cells\n",
       "var notebookContainer = gd.closest('#notebook-container');\n",
       "if (notebookContainer) {{\n",
       "    x.observe(notebookContainer, {childList: true});\n",
       "}}\n",
       "\n",
       "// Listen for the clearing of the current output cell\n",
       "var outputEl = gd.closest('.output');\n",
       "if (outputEl) {{\n",
       "    x.observe(outputEl, {childList: true});\n",
       "}}\n",
       "\n",
       "                        })                };                });            </script>        </div>"
      ]
     },
     "metadata": {},
     "output_type": "display_data"
    }
   ],
   "source": [
    "# I want to create a graph with dropdown menus so the user can change the participant\n",
    "week_avg = day.groupby(['WeekDay'])['Steps'].mean().reset_index()\n",
    "\n",
    "\n",
    "\n",
    "# Initialize figure\n",
    "fig = go.Figure()\n",
    "\n",
    "# Add Traces\n",
    "\n",
    "fig.add_trace(\n",
    "    go.Bar(x=day[\"WeekDay\"], y=day[\"Steps\"],name='Participant 1'))\n",
    "\n",
    "fig.add_trace(\n",
    "    go.Bar(x=day2[\"WeekDay\"], y=day2[\"Steps\"],name='Participant 2'))\n",
    "\n",
    "fig.add_trace(\n",
    "    go.Bar(x=day3[\"WeekDay\"], y=day3[\"Steps\"],name='Participant 3'))\n",
    "\n",
    "fig.add_trace(\n",
    "    go.Bar(x=day4[\"WeekDay\"], y=day4[\"Steps\"],name='Participant 4'))\n",
    "\n",
    "fig.add_trace(\n",
    "    go.Bar(x=day5[\"WeekDay\"], y=day5[\"Steps\"],name='Participant 5'))\n",
    "\n",
    "fig.add_trace(\n",
    "    go.Bar(x=day7[\"WeekDay\"], y=day7[\"Steps\"],name='Participant 7'))\n",
    "\n",
    "fig.add_trace(\n",
    "    go.Bar(x=day8[\"WeekDay\"], y=day8[\"Steps\"],name='Participant 8'))\n",
    "\n",
    "\n",
    "\n",
    "fig.update_layout(\n",
    "    updatemenus=[\n",
    "        dict(\n",
    "            active=0,\n",
    "            buttons=list([\n",
    "                dict(label=\"All\",\n",
    "                     method=\"update\",\n",
    "                     args=[{\"visible\": [True, True, True, True, True,True,True]},\n",
    "                           {\"title\": \"Number of steps made\"}]),\n",
    "                dict(label=\"Participant 1\",\n",
    "                     method=\"update\",\n",
    "                     args=[{\"visible\": [True, False, False, False, False, False, False]},\n",
    "                           {\"title\": \"Number of steps made by Participant 1\"}]),\n",
    "                dict(label=\"Participant 2\",\n",
    "                     method=\"update\",\n",
    "                     args=[{\"visible\": [False, True, False, False,False, False, False]},\n",
    "                           {\"title\": \"Number of steps made by Participant 2\"}]),\n",
    "                dict(label=\"Participant 3\",\n",
    "                     method=\"update\",\n",
    "                     args=[{\"visible\": [False, False, True, False,False, False, False]},\n",
    "                           {\"title\": \"Number of steps made by Participant 3\"}]),\n",
    "                dict(label=\"Participant 4\",\n",
    "                     method=\"update\",\n",
    "                     args=[{\"visible\": [False, False, False, True, False, False, False]},\n",
    "                           {\"title\": \"Number of steps made by Participant 4\"}]),\n",
    "                dict(label=\"Participant 5\",\n",
    "                     method=\"update\",\n",
    "                     args=[{\"visible\": [False, False, False, False, True,False,False]},\n",
    "                           {\"title\": \"Number of steps made by Participant 5\"}]),\n",
    "                dict(label=\"Participant 7\",\n",
    "                     method=\"update\",\n",
    "                     args=[{\"visible\": [False, False, False, False, False, True, False]},\n",
    "                           {\"title\": \"Number of steps made by Participant 7\"}]),\n",
    "                dict(label=\"Participant 8\",\n",
    "                     method=\"update\",\n",
    "                     args=[{\"visible\": [False, False, False, False, False, False,True]},\n",
    "                           {\"title\": \"Number of steps made by Participant 8\"}])\n",
    "            ]),\n",
    "        )\n",
    "    ])\n",
    "# fig.update_layout(title_text='Number of steps made', title_x=0.5)\n",
    "fig.update_xaxes(categoryorder='array', categoryarray= ['Monday','Tuesday','Wednesday','Thursday','Friday','Saturday','Sunday'])"
   ]
  },
  {
   "cell_type": "code",
   "execution_count": 31,
   "id": "6eae58ed",
   "metadata": {},
   "outputs": [],
   "source": [
    "# first sort the dates into what weeks they are in the year\n",
    "day['Week'] =  day['Date'].dt.isocalendar().week\n",
    "day2['Week'] =  day2['Date'].dt.isocalendar().week\n",
    "day3['Week'] =  day3['Date'].dt.isocalendar().week\n",
    "day4['Week'] =  day4['Date'].dt.isocalendar().week\n",
    "day5['Week'] =  day5['Date'].dt.isocalendar().week\n",
    "day7['Week'] =  day7['Date'].dt.isocalendar().week\n",
    "day8['Week'] =  day8['Date'].dt.isocalendar().week\n",
    "\n",
    "# I wanted to drop the week 52 which is from 2021 and not 2022 but first made a copy so the data is not lost\n",
    "newday = day.copy()\n",
    "newday.drop(newday[newday['Week'] == 52].index, inplace = True)\n",
    "newday2 = day2.copy()\n",
    "newday2.drop(newday2[newday2['Week'] == 52].index, inplace = True)\n",
    "newday2.drop(newday2[newday2['Week'] == 40].index, inplace = True)\n",
    "newday3 = day3.copy()\n",
    "newday3.drop(newday3[newday3['Week'] == 52].index, inplace = True)\n",
    "newday4 = day4.copy()\n",
    "newday4.drop(newday4[newday4['Week'] == 52].index, inplace = True)\n",
    "newday5 = day5.copy()\n",
    "newday5.drop(newday5[newday5['Week'] == 52].index, inplace = True)\n",
    "newday7 = day7.copy()\n",
    "newday7.drop(newday7[newday7['Week'] == 52].index, inplace = True)\n",
    "newday8 = day8.copy()\n",
    "newday8.drop(newday8[newday8['Week'] == 52].index, inplace = True)\n",
    "\n",
    "newday[\"Is Weekend\"] = newday['Date'].dt.dayofweek > 4\n",
    "newday2[\"Is Weekend\"] = newday2['Date'].dt.dayofweek > 4\n",
    "newday3[\"Is Weekend\"] = newday3['Date'].dt.dayofweek > 4\n",
    "newday4[\"Is Weekend\"] = newday4['Date'].dt.dayofweek > 4\n",
    "newday5[\"Is Weekend\"] = newday5['Date'].dt.dayofweek > 4\n",
    "newday7[\"Is Weekend\"] = newday7['Date'].dt.dayofweek > 4\n",
    "newday8[\"Is Weekend\"] = newday8['Date'].dt.dayofweek > 4\n",
    "\n",
    "df = newday.groupby(['Is Weekend','Week']).agg({'Steps': 'mean'}).reset_index()\n",
    "df2 = newday2.groupby(['Is Weekend','Week']).agg({'Steps': 'mean'}).reset_index()\n",
    "df3 = newday3.groupby(['Is Weekend','Week']).agg({'Steps': 'mean'}).reset_index()\n",
    "df4 = newday4.groupby(['Is Weekend','Week']).agg({'Steps': 'mean'}).reset_index()\n",
    "df5 = newday5.groupby(['Is Weekend','Week']).agg({'Steps': 'mean'}).reset_index()\n",
    "df7 = newday7.groupby(['Is Weekend','Week']).agg({'Steps': 'mean'}).reset_index()\n",
    "df8 = newday8.groupby(['Is Weekend','Week']).agg({'Steps': 'mean'}).reset_index()"
   ]
  },
  {
   "cell_type": "code",
   "execution_count": 32,
   "id": "c2f204ce",
   "metadata": {},
   "outputs": [
    {
     "data": {
      "application/vnd.plotly.v1+json": {
       "config": {
        "plotlyServerURL": "https://plot.ly"
       },
       "data": [
        {
         "name": "Participant 1 Weekend",
         "type": "scatter",
         "x": [
          1,
          2,
          3,
          4,
          5,
          6,
          7,
          8,
          9,
          10,
          11,
          12,
          13,
          14,
          15,
          16,
          17,
          18,
          19,
          20,
          21,
          22,
          23,
          24,
          25,
          26,
          27,
          28,
          29,
          30,
          31,
          32,
          33,
          34
         ],
         "y": [
          7493.499999999999,
          11152.500000000007,
          10554.999999999996,
          8506.500000000004,
          9020.5,
          9052.5,
          6785.999999999998,
          8426.825823879848,
          3621.499999999999,
          8689.5,
          17662.999999999996,
          6740.066851401573,
          8350.999999999996,
          8265.499999999998,
          6931.499999999998,
          6744.500000000001,
          10954.03161990334,
          7557.999999999998,
          4148.5,
          6048.5,
          4748.000000000002,
          12969,
          10458.999999999998,
          4838.999999999998,
          7923.9074038885265,
          4879.999999999998,
          7971.500000000005,
          8684,
          6974.000000000003,
          4936.500000000002,
          8125.394814807025,
          10859.999999999996,
          10792,
          12777.499999999998
         ]
        },
        {
         "name": "Participant 1 Weekday",
         "type": "scatter",
         "x": [
          1,
          2,
          3,
          4,
          5,
          6,
          7,
          8,
          9,
          10,
          11,
          12,
          13,
          14,
          15,
          16,
          17,
          18,
          19,
          20,
          21,
          22,
          23,
          24,
          25,
          26,
          27,
          28,
          29,
          30,
          31,
          32,
          33,
          34,
          35
         ],
         "y": [
          11928.8,
          10976.43376939031,
          11145.565360992772,
          10183.000000000004,
          8069.799999999998,
          9561.18500619978,
          9365.599999999995,
          7269.799999999998,
          6564.2,
          6404.305313393592,
          6837.066650565002,
          9170.800000000003,
          7588.4,
          6560.199999999997,
          8202.081911543122,
          5885.564570153443,
          9875.34765105536,
          10083.2,
          7469.4,
          5669.162922434349,
          5010.200000000001,
          8057.6,
          14116.679661842947,
          12072.800000000001,
          7413.200000000003,
          9235.2,
          7500.5999999999985,
          11223.599999999995,
          8190,
          9413.2,
          8175.8,
          7599.600000000003,
          10757.614890496616,
          6661.999999999998,
          9643.18368863179
         ]
        },
        {
         "name": "Participant 2 Weekend",
         "type": "scatter",
         "x": [
          1,
          2,
          3,
          4,
          5,
          6,
          7,
          8,
          9,
          10,
          11,
          12,
          13,
          14,
          15,
          16,
          17,
          18,
          19,
          20,
          21,
          22,
          23,
          24,
          25,
          26,
          27,
          28,
          29,
          30,
          31,
          32,
          33,
          34
         ],
         "y": [
          7362.5,
          9523,
          7660.5,
          7274.5,
          5317,
          6963.5,
          4861,
          6858,
          2831.5,
          7446,
          13359.5,
          6468.5,
          7407,
          6321,
          5191.5,
          4921.5,
          8224,
          6624,
          2749.5,
          7670,
          4761,
          6413,
          6823,
          2937.5,
          5109,
          3085,
          6152.5,
          6658,
          4794.5,
          5410,
          5303.5,
          7421.5,
          6447,
          10110.5
         ]
        },
        {
         "name": "Participant 2 Weekday",
         "type": "scatter",
         "x": [
          1,
          2,
          3,
          4,
          5,
          6,
          7,
          8,
          9,
          10,
          11,
          12,
          13,
          14,
          15,
          16,
          17,
          18,
          19,
          20,
          21,
          22,
          23,
          24,
          25,
          26,
          27,
          28,
          29,
          30,
          31,
          32,
          33,
          34,
          35
         ],
         "y": [
          8528.4,
          7561.2,
          8225.6,
          6932.4,
          6701,
          4717.4,
          7722.2,
          5828.6,
          5226.2,
          5967.8,
          6717,
          7303.8,
          6890.4,
          6295.8,
          7111.6,
          5647,
          6942,
          7121.4,
          5153.4,
          6837,
          4526.6,
          7646.4,
          10596.6,
          8798,
          6872.8,
          7716.4,
          5547,
          8012.2,
          5460.4,
          7579.8,
          6427.2,
          7049,
          6028,
          7082.8,
          7752.25
         ]
        },
        {
         "name": "Participant 3 Weekend",
         "type": "scatter",
         "x": [
          1,
          2,
          3,
          4,
          5,
          6,
          7,
          8,
          9,
          10,
          11,
          12,
          13,
          14,
          15,
          16,
          17,
          18,
          19,
          20,
          21,
          22,
          24,
          25,
          26,
          27,
          28,
          29,
          30,
          31,
          32,
          33,
          34,
          35,
          39,
          40,
          44,
          48
         ],
         "y": [
          11714,
          3920.49999975,
          586.5,
          7220.5,
          5795.00000056,
          3095,
          7919.0000002,
          5130.5000001,
          5053.0000004,
          68,
          8979.0000002,
          3828.99999995,
          8977.00000023,
          1584,
          3666.0000002,
          812.49999999,
          1538.499999995,
          6295.9999998,
          4410.4999998,
          3912,
          358.49999999199997,
          9018.4999999605,
          1185.5,
          5893.5000002,
          5378.9999997,
          13050.0000002,
          1243.000000035,
          1400.999999984,
          5679.500000135,
          5190.5,
          15335.000000299999,
          621.5,
          1706.5,
          4956.9999998,
          5600.4999995,
          6469.9999993,
          6006.000000354999,
          8970.000000165
         ]
        },
        {
         "name": "Participant 3 Weekday",
         "type": "scatter",
         "x": [
          1,
          2,
          3,
          4,
          5,
          6,
          7,
          8,
          9,
          10,
          11,
          12,
          13,
          14,
          15,
          16,
          17,
          18,
          19,
          20,
          21,
          22,
          23,
          24,
          25,
          26,
          27,
          28,
          29,
          30,
          31,
          32,
          33,
          34,
          35,
          36,
          40,
          44,
          45,
          48,
          49
         ],
         "y": [
          5897.600000064,
          685.5,
          280,
          227,
          8175.20000018,
          5719,
          11904.1999996942,
          8376.599999926,
          2620.9999999399997,
          2773,
          7853.0000000656,
          8555.800000184001,
          3873.7999999759995,
          4197.599999976001,
          3056.6666665333337,
          4542.9999999,
          4941,
          11690.599999964,
          10507.9999998,
          9623.999999844,
          6840.39999998,
          426.99999999600004,
          6720.500000100999,
          6741.000000075999,
          9180.000000092,
          5882.4000000206,
          4764.400000006,
          4337.333333233333,
          5664.40000003,
          4075.0000000219998,
          4697.799999944,
          9429.999999635,
          9617.200000084,
          8817.000000175,
          8874.000000084,
          5188.7499999925,
          5201.1999998302,
          4748.7499998,
          8592.500000085001,
          1685.5,
          6425.249999726249
         ]
        },
        {
         "name": "Participant 4 Weekend",
         "type": "scatter",
         "x": [
          1,
          2,
          3,
          4,
          5,
          6,
          7,
          8,
          9,
          10,
          11,
          12,
          13,
          14,
          15,
          16,
          17,
          18,
          19,
          20,
          21,
          22,
          23,
          24,
          25,
          26,
          27,
          28,
          29,
          30,
          31,
          32,
          33,
          34,
          35
         ],
         "y": [
          11006.000000000007,
          17337.857824879346,
          13245.058927328475,
          17307.5,
          15153.737785469042,
          16785.5,
          18049.999999999996,
          11340.499999999996,
          16905.63098745235,
          15131.499999999996,
          14438,
          17771.5,
          15646.679475806402,
          21814.5,
          18944.25354756527,
          15135.500000000004,
          16994.909043045587,
          17975.278581294166,
          16669,
          20362.057256219618,
          16564.5,
          15281.500000000007,
          13114.500000000004,
          13869.320429015828,
          18775,
          14479.03655140465,
          13255.197283597568,
          10598.2272833111,
          16529.293438611003,
          17198.907491497306,
          14866.856158089015,
          17096.5,
          17056,
          8271.06266390333,
          12176.68051907885
         ]
        },
        {
         "name": "Participant 4 Weekday",
         "type": "scatter",
         "x": [
          1,
          2,
          3,
          4,
          5,
          6,
          7,
          8,
          9,
          10,
          11,
          12,
          13,
          14,
          15,
          16,
          17,
          18,
          19,
          20,
          21,
          22,
          23,
          24,
          25,
          26,
          27,
          28,
          29,
          30,
          31,
          32,
          33,
          34,
          35,
          36
         ],
         "y": [
          9825.001668293215,
          7464.925976986606,
          10043.687022708813,
          9615.38995057379,
          8384.847043884467,
          10523.275241281526,
          9462.263931351838,
          10357.311300415944,
          8089.199999999999,
          9341.781429611152,
          11842.004508723749,
          7750.710125374726,
          11288.33085354038,
          11744.666818471305,
          10747.134076215985,
          7505.762804013973,
          12228.199999999997,
          11002.805766222144,
          11632.340529013454,
          12165.429801938606,
          9245.731340898452,
          8322.088852871759,
          8160.201137471513,
          8872.2,
          7453,
          7064.671495523578,
          12972.75639245477,
          11290.732459642168,
          11777.285003774414,
          10954.675394517766,
          7038.692223252185,
          9167.600000000002,
          9939.821773158536,
          10305.826460686714,
          11229.204302156842,
          11858.5
         ]
        },
        {
         "name": "Participant 5 Weekend",
         "type": "scatter",
         "x": [
          5,
          6,
          7,
          8,
          9,
          10,
          11,
          12,
          13,
          14,
          15,
          16,
          17,
          18,
          19,
          20,
          21,
          22,
          23,
          24,
          25,
          26,
          27,
          28,
          29,
          30,
          31,
          32,
          33,
          34
         ],
         "y": [
          4135.5,
          6213,
          5051.5,
          7411.5,
          6611.5,
          9593,
          5577.5,
          14677,
          24111.5,
          15727.5,
          7797.5,
          13377,
          22618.5,
          5719,
          9528.5,
          10943.5,
          8915.5,
          13783,
          14222.5,
          12390.5,
          11867,
          7648,
          6009.5,
          10152.5,
          6954,
          10209.5,
          8635.5,
          5754.5,
          10207.5,
          12686.5
         ]
        },
        {
         "name": "Participant 5 Weekday",
         "type": "scatter",
         "x": [
          1,
          2,
          4,
          5,
          6,
          7,
          8,
          9,
          10,
          11,
          12,
          13,
          14,
          15,
          16,
          17,
          18,
          19,
          20,
          21,
          22,
          23,
          24,
          25,
          26,
          27,
          28,
          29,
          30,
          31,
          32,
          33,
          34,
          35
         ],
         "y": [
          6479,
          239,
          4,
          4120,
          7105.6,
          5091.8,
          6920.6,
          7436.6,
          8806.4,
          10004.2,
          12186.4,
          5783.6,
          13823.2,
          14646.6,
          9671.6,
          17177.4,
          6184.6,
          6303,
          7503.6,
          7594.6,
          8096.4,
          10777,
          20673.4,
          18628.8,
          7445.2,
          7660.4,
          10399,
          6619.6,
          6219.2,
          7179,
          4466.8,
          9206,
          8946.4,
          8284.5
         ]
        },
        {
         "name": "Participant 7 Weekend",
         "type": "scatter",
         "x": [
          1,
          2,
          3,
          4,
          5,
          6,
          7,
          8,
          9,
          10,
          11,
          12,
          13,
          14,
          15,
          16,
          17,
          18,
          19,
          20,
          21,
          22,
          23,
          24,
          25,
          26,
          27,
          28,
          29,
          30,
          31,
          32,
          33,
          34,
          35,
          36
         ],
         "y": [
          6318.499999999999,
          4909.000000000002,
          4621.5,
          6614.999999999997,
          5770.999999999997,
          8607.500000000005,
          8648,
          4871.5,
          8352.5,
          9995.5,
          8385,
          8684.000000000004,
          7516.5,
          7061.500000000004,
          9410.000000000004,
          9577.000000000004,
          2727.0000000000005,
          6084,
          8731.5,
          4569.499999999999,
          9593.999999999996,
          7044.000000000002,
          6613.000000000002,
          7614,
          6174.5,
          4372,
          6175,
          7638.499999999998,
          8143,
          9650.5,
          8829.017921077571,
          9607.499999999998,
          7960.8664958580375,
          7342.444226438449,
          8264.199059797673,
          8082.000000000003
         ]
        },
        {
         "name": "Participant 7 Weekday",
         "type": "scatter",
         "x": [
          1,
          2,
          3,
          4,
          5,
          6,
          7,
          8,
          9,
          10,
          11,
          12,
          13,
          14,
          15,
          16,
          17,
          18,
          19,
          20,
          21,
          22,
          23,
          24,
          25,
          26,
          27,
          28,
          29,
          30,
          31,
          32,
          33,
          34,
          35,
          36,
          37
         ],
         "y": [
          7074.200000000002,
          7190.800000000001,
          11072.399999999998,
          7779.4,
          8246.399999999998,
          7994.200000000002,
          9858.399999999998,
          7537.600000000001,
          6917,
          6740.2,
          8021.2,
          9933.399999999998,
          7977.600000000001,
          9032.8,
          8628.8,
          7615.799999999998,
          4372.200000000001,
          8158,
          7580,
          8144.599999999997,
          7745.6,
          7721,
          7772.4000000000015,
          6236.999999999996,
          6525.6,
          10088.4,
          5984.4000000000015,
          7867.399999999999,
          7322.799999999997,
          8408.200000000006,
          8932.599999999999,
          7537.9239975461705,
          8778.916375085226,
          8004.738007576758,
          6710.146703255034,
          9808.536800589543,
          6542.183243953544
         ]
        },
        {
         "name": "Participant 8 Weekend",
         "type": "scatter",
         "x": [
          1,
          2,
          3,
          4,
          5,
          6,
          7,
          8,
          9,
          10,
          11,
          12,
          13,
          14,
          15,
          16,
          17,
          18,
          19,
          20,
          21,
          22,
          23,
          24,
          25,
          26,
          27,
          28,
          29,
          30,
          31,
          32,
          33,
          34,
          35,
          36
         ],
         "y": [
          7703,
          5056,
          8234.000000000004,
          5479.000000000005,
          8582,
          9477.499999999998,
          8105,
          10659.999999999995,
          3342.5,
          9391.999999999996,
          12106,
          11675,
          3527.5000000000014,
          9780.000000000002,
          13567,
          10904.5,
          11962.999999999996,
          9858.5,
          10159.499999999993,
          9184.5,
          7134,
          8024.500000000003,
          6036.499999999999,
          10444,
          8717.999999999996,
          8962.499999999993,
          10599.5,
          7384.5,
          8683.000000000004,
          8236.499999999996,
          10661.999999999996,
          10419.5,
          12832.999999999998,
          12214.000000000002,
          9045,
          10004.5
         ]
        },
        {
         "name": "Participant 8 Weekday",
         "type": "scatter",
         "x": [
          1,
          2,
          3,
          4,
          5,
          6,
          7,
          8,
          9,
          10,
          11,
          12,
          13,
          14,
          15,
          16,
          17,
          18,
          19,
          20,
          21,
          22,
          23,
          24,
          25,
          26,
          27,
          28,
          29,
          30,
          31,
          32,
          33,
          34,
          35,
          36,
          37
         ],
         "y": [
          7142.799999999998,
          7584.400000000003,
          5479.599999999997,
          8287.8,
          6674.199999999997,
          10931.8,
          7144.800000000001,
          8898.599999999999,
          3578,
          7219.6,
          9319,
          10350.400000000001,
          11420.600000000002,
          2328.4,
          8349.6,
          12123.399999999998,
          10147.400000000003,
          10538.999999999996,
          12610.6,
          10823.8,
          6378.600000000001,
          6061.000000000002,
          5708.799999999999,
          8519.4,
          8178.5999999999985,
          7272.199999999999,
          8647.400000000001,
          5345.000000000001,
          8170.6,
          11908.400000000003,
          10444.200000000003,
          7502.999999999998,
          7688.200000000003,
          7507,
          10929.200000000003,
          16016.999999999996,
          228
         ]
        }
       ],
       "layout": {
        "template": {
         "data": {
          "bar": [
           {
            "error_x": {
             "color": "#2a3f5f"
            },
            "error_y": {
             "color": "#2a3f5f"
            },
            "marker": {
             "line": {
              "color": "#E5ECF6",
              "width": 0.5
             },
             "pattern": {
              "fillmode": "overlay",
              "size": 10,
              "solidity": 0.2
             }
            },
            "type": "bar"
           }
          ],
          "barpolar": [
           {
            "marker": {
             "line": {
              "color": "#E5ECF6",
              "width": 0.5
             },
             "pattern": {
              "fillmode": "overlay",
              "size": 10,
              "solidity": 0.2
             }
            },
            "type": "barpolar"
           }
          ],
          "carpet": [
           {
            "aaxis": {
             "endlinecolor": "#2a3f5f",
             "gridcolor": "white",
             "linecolor": "white",
             "minorgridcolor": "white",
             "startlinecolor": "#2a3f5f"
            },
            "baxis": {
             "endlinecolor": "#2a3f5f",
             "gridcolor": "white",
             "linecolor": "white",
             "minorgridcolor": "white",
             "startlinecolor": "#2a3f5f"
            },
            "type": "carpet"
           }
          ],
          "choropleth": [
           {
            "colorbar": {
             "outlinewidth": 0,
             "ticks": ""
            },
            "type": "choropleth"
           }
          ],
          "contour": [
           {
            "colorbar": {
             "outlinewidth": 0,
             "ticks": ""
            },
            "colorscale": [
             [
              0,
              "#0d0887"
             ],
             [
              0.1111111111111111,
              "#46039f"
             ],
             [
              0.2222222222222222,
              "#7201a8"
             ],
             [
              0.3333333333333333,
              "#9c179e"
             ],
             [
              0.4444444444444444,
              "#bd3786"
             ],
             [
              0.5555555555555556,
              "#d8576b"
             ],
             [
              0.6666666666666666,
              "#ed7953"
             ],
             [
              0.7777777777777778,
              "#fb9f3a"
             ],
             [
              0.8888888888888888,
              "#fdca26"
             ],
             [
              1,
              "#f0f921"
             ]
            ],
            "type": "contour"
           }
          ],
          "contourcarpet": [
           {
            "colorbar": {
             "outlinewidth": 0,
             "ticks": ""
            },
            "type": "contourcarpet"
           }
          ],
          "heatmap": [
           {
            "colorbar": {
             "outlinewidth": 0,
             "ticks": ""
            },
            "colorscale": [
             [
              0,
              "#0d0887"
             ],
             [
              0.1111111111111111,
              "#46039f"
             ],
             [
              0.2222222222222222,
              "#7201a8"
             ],
             [
              0.3333333333333333,
              "#9c179e"
             ],
             [
              0.4444444444444444,
              "#bd3786"
             ],
             [
              0.5555555555555556,
              "#d8576b"
             ],
             [
              0.6666666666666666,
              "#ed7953"
             ],
             [
              0.7777777777777778,
              "#fb9f3a"
             ],
             [
              0.8888888888888888,
              "#fdca26"
             ],
             [
              1,
              "#f0f921"
             ]
            ],
            "type": "heatmap"
           }
          ],
          "heatmapgl": [
           {
            "colorbar": {
             "outlinewidth": 0,
             "ticks": ""
            },
            "colorscale": [
             [
              0,
              "#0d0887"
             ],
             [
              0.1111111111111111,
              "#46039f"
             ],
             [
              0.2222222222222222,
              "#7201a8"
             ],
             [
              0.3333333333333333,
              "#9c179e"
             ],
             [
              0.4444444444444444,
              "#bd3786"
             ],
             [
              0.5555555555555556,
              "#d8576b"
             ],
             [
              0.6666666666666666,
              "#ed7953"
             ],
             [
              0.7777777777777778,
              "#fb9f3a"
             ],
             [
              0.8888888888888888,
              "#fdca26"
             ],
             [
              1,
              "#f0f921"
             ]
            ],
            "type": "heatmapgl"
           }
          ],
          "histogram": [
           {
            "marker": {
             "pattern": {
              "fillmode": "overlay",
              "size": 10,
              "solidity": 0.2
             }
            },
            "type": "histogram"
           }
          ],
          "histogram2d": [
           {
            "colorbar": {
             "outlinewidth": 0,
             "ticks": ""
            },
            "colorscale": [
             [
              0,
              "#0d0887"
             ],
             [
              0.1111111111111111,
              "#46039f"
             ],
             [
              0.2222222222222222,
              "#7201a8"
             ],
             [
              0.3333333333333333,
              "#9c179e"
             ],
             [
              0.4444444444444444,
              "#bd3786"
             ],
             [
              0.5555555555555556,
              "#d8576b"
             ],
             [
              0.6666666666666666,
              "#ed7953"
             ],
             [
              0.7777777777777778,
              "#fb9f3a"
             ],
             [
              0.8888888888888888,
              "#fdca26"
             ],
             [
              1,
              "#f0f921"
             ]
            ],
            "type": "histogram2d"
           }
          ],
          "histogram2dcontour": [
           {
            "colorbar": {
             "outlinewidth": 0,
             "ticks": ""
            },
            "colorscale": [
             [
              0,
              "#0d0887"
             ],
             [
              0.1111111111111111,
              "#46039f"
             ],
             [
              0.2222222222222222,
              "#7201a8"
             ],
             [
              0.3333333333333333,
              "#9c179e"
             ],
             [
              0.4444444444444444,
              "#bd3786"
             ],
             [
              0.5555555555555556,
              "#d8576b"
             ],
             [
              0.6666666666666666,
              "#ed7953"
             ],
             [
              0.7777777777777778,
              "#fb9f3a"
             ],
             [
              0.8888888888888888,
              "#fdca26"
             ],
             [
              1,
              "#f0f921"
             ]
            ],
            "type": "histogram2dcontour"
           }
          ],
          "mesh3d": [
           {
            "colorbar": {
             "outlinewidth": 0,
             "ticks": ""
            },
            "type": "mesh3d"
           }
          ],
          "parcoords": [
           {
            "line": {
             "colorbar": {
              "outlinewidth": 0,
              "ticks": ""
             }
            },
            "type": "parcoords"
           }
          ],
          "pie": [
           {
            "automargin": true,
            "type": "pie"
           }
          ],
          "scatter": [
           {
            "fillpattern": {
             "fillmode": "overlay",
             "size": 10,
             "solidity": 0.2
            },
            "type": "scatter"
           }
          ],
          "scatter3d": [
           {
            "line": {
             "colorbar": {
              "outlinewidth": 0,
              "ticks": ""
             }
            },
            "marker": {
             "colorbar": {
              "outlinewidth": 0,
              "ticks": ""
             }
            },
            "type": "scatter3d"
           }
          ],
          "scattercarpet": [
           {
            "marker": {
             "colorbar": {
              "outlinewidth": 0,
              "ticks": ""
             }
            },
            "type": "scattercarpet"
           }
          ],
          "scattergeo": [
           {
            "marker": {
             "colorbar": {
              "outlinewidth": 0,
              "ticks": ""
             }
            },
            "type": "scattergeo"
           }
          ],
          "scattergl": [
           {
            "marker": {
             "colorbar": {
              "outlinewidth": 0,
              "ticks": ""
             }
            },
            "type": "scattergl"
           }
          ],
          "scattermapbox": [
           {
            "marker": {
             "colorbar": {
              "outlinewidth": 0,
              "ticks": ""
             }
            },
            "type": "scattermapbox"
           }
          ],
          "scatterpolar": [
           {
            "marker": {
             "colorbar": {
              "outlinewidth": 0,
              "ticks": ""
             }
            },
            "type": "scatterpolar"
           }
          ],
          "scatterpolargl": [
           {
            "marker": {
             "colorbar": {
              "outlinewidth": 0,
              "ticks": ""
             }
            },
            "type": "scatterpolargl"
           }
          ],
          "scatterternary": [
           {
            "marker": {
             "colorbar": {
              "outlinewidth": 0,
              "ticks": ""
             }
            },
            "type": "scatterternary"
           }
          ],
          "surface": [
           {
            "colorbar": {
             "outlinewidth": 0,
             "ticks": ""
            },
            "colorscale": [
             [
              0,
              "#0d0887"
             ],
             [
              0.1111111111111111,
              "#46039f"
             ],
             [
              0.2222222222222222,
              "#7201a8"
             ],
             [
              0.3333333333333333,
              "#9c179e"
             ],
             [
              0.4444444444444444,
              "#bd3786"
             ],
             [
              0.5555555555555556,
              "#d8576b"
             ],
             [
              0.6666666666666666,
              "#ed7953"
             ],
             [
              0.7777777777777778,
              "#fb9f3a"
             ],
             [
              0.8888888888888888,
              "#fdca26"
             ],
             [
              1,
              "#f0f921"
             ]
            ],
            "type": "surface"
           }
          ],
          "table": [
           {
            "cells": {
             "fill": {
              "color": "#EBF0F8"
             },
             "line": {
              "color": "white"
             }
            },
            "header": {
             "fill": {
              "color": "#C8D4E3"
             },
             "line": {
              "color": "white"
             }
            },
            "type": "table"
           }
          ]
         },
         "layout": {
          "annotationdefaults": {
           "arrowcolor": "#2a3f5f",
           "arrowhead": 0,
           "arrowwidth": 1
          },
          "autotypenumbers": "strict",
          "coloraxis": {
           "colorbar": {
            "outlinewidth": 0,
            "ticks": ""
           }
          },
          "colorscale": {
           "diverging": [
            [
             0,
             "#8e0152"
            ],
            [
             0.1,
             "#c51b7d"
            ],
            [
             0.2,
             "#de77ae"
            ],
            [
             0.3,
             "#f1b6da"
            ],
            [
             0.4,
             "#fde0ef"
            ],
            [
             0.5,
             "#f7f7f7"
            ],
            [
             0.6,
             "#e6f5d0"
            ],
            [
             0.7,
             "#b8e186"
            ],
            [
             0.8,
             "#7fbc41"
            ],
            [
             0.9,
             "#4d9221"
            ],
            [
             1,
             "#276419"
            ]
           ],
           "sequential": [
            [
             0,
             "#0d0887"
            ],
            [
             0.1111111111111111,
             "#46039f"
            ],
            [
             0.2222222222222222,
             "#7201a8"
            ],
            [
             0.3333333333333333,
             "#9c179e"
            ],
            [
             0.4444444444444444,
             "#bd3786"
            ],
            [
             0.5555555555555556,
             "#d8576b"
            ],
            [
             0.6666666666666666,
             "#ed7953"
            ],
            [
             0.7777777777777778,
             "#fb9f3a"
            ],
            [
             0.8888888888888888,
             "#fdca26"
            ],
            [
             1,
             "#f0f921"
            ]
           ],
           "sequentialminus": [
            [
             0,
             "#0d0887"
            ],
            [
             0.1111111111111111,
             "#46039f"
            ],
            [
             0.2222222222222222,
             "#7201a8"
            ],
            [
             0.3333333333333333,
             "#9c179e"
            ],
            [
             0.4444444444444444,
             "#bd3786"
            ],
            [
             0.5555555555555556,
             "#d8576b"
            ],
            [
             0.6666666666666666,
             "#ed7953"
            ],
            [
             0.7777777777777778,
             "#fb9f3a"
            ],
            [
             0.8888888888888888,
             "#fdca26"
            ],
            [
             1,
             "#f0f921"
            ]
           ]
          },
          "colorway": [
           "#636efa",
           "#EF553B",
           "#00cc96",
           "#ab63fa",
           "#FFA15A",
           "#19d3f3",
           "#FF6692",
           "#B6E880",
           "#FF97FF",
           "#FECB52"
          ],
          "font": {
           "color": "#2a3f5f"
          },
          "geo": {
           "bgcolor": "white",
           "lakecolor": "white",
           "landcolor": "#E5ECF6",
           "showlakes": true,
           "showland": true,
           "subunitcolor": "white"
          },
          "hoverlabel": {
           "align": "left"
          },
          "hovermode": "closest",
          "mapbox": {
           "style": "light"
          },
          "paper_bgcolor": "white",
          "plot_bgcolor": "#E5ECF6",
          "polar": {
           "angularaxis": {
            "gridcolor": "white",
            "linecolor": "white",
            "ticks": ""
           },
           "bgcolor": "#E5ECF6",
           "radialaxis": {
            "gridcolor": "white",
            "linecolor": "white",
            "ticks": ""
           }
          },
          "scene": {
           "xaxis": {
            "backgroundcolor": "#E5ECF6",
            "gridcolor": "white",
            "gridwidth": 2,
            "linecolor": "white",
            "showbackground": true,
            "ticks": "",
            "zerolinecolor": "white"
           },
           "yaxis": {
            "backgroundcolor": "#E5ECF6",
            "gridcolor": "white",
            "gridwidth": 2,
            "linecolor": "white",
            "showbackground": true,
            "ticks": "",
            "zerolinecolor": "white"
           },
           "zaxis": {
            "backgroundcolor": "#E5ECF6",
            "gridcolor": "white",
            "gridwidth": 2,
            "linecolor": "white",
            "showbackground": true,
            "ticks": "",
            "zerolinecolor": "white"
           }
          },
          "shapedefaults": {
           "line": {
            "color": "#2a3f5f"
           }
          },
          "ternary": {
           "aaxis": {
            "gridcolor": "white",
            "linecolor": "white",
            "ticks": ""
           },
           "baxis": {
            "gridcolor": "white",
            "linecolor": "white",
            "ticks": ""
           },
           "bgcolor": "#E5ECF6",
           "caxis": {
            "gridcolor": "white",
            "linecolor": "white",
            "ticks": ""
           }
          },
          "title": {
           "x": 0.05
          },
          "xaxis": {
           "automargin": true,
           "gridcolor": "white",
           "linecolor": "white",
           "ticks": "",
           "title": {
            "standoff": 15
           },
           "zerolinecolor": "white",
           "zerolinewidth": 2
          },
          "yaxis": {
           "automargin": true,
           "gridcolor": "white",
           "linecolor": "white",
           "ticks": "",
           "title": {
            "standoff": 15
           },
           "zerolinecolor": "white",
           "zerolinewidth": 2
          }
         }
        },
        "updatemenus": [
         {
          "active": 0,
          "buttons": [
           {
            "args": [
             {
              "visible": [
               true,
               true,
               false,
               false,
               false,
               false,
               false,
               false,
               false,
               false,
               false,
               false,
               false,
               false
              ]
             },
             {
              "title": "Weekend vs WeekDay: Number of steps made by Participant 1"
             }
            ],
            "label": "Participant 1",
            "method": "update"
           },
           {
            "args": [
             {
              "visible": [
               false,
               false,
               true,
               true,
               false,
               false,
               false,
               false,
               false,
               false,
               false,
               false,
               false,
               false
              ]
             },
             {
              "title": "Weekend vs WeekDay: Number of steps made by Participant 2"
             }
            ],
            "label": "Participant 2",
            "method": "update"
           },
           {
            "args": [
             {
              "visible": [
               false,
               false,
               false,
               false,
               true,
               true,
               false,
               false,
               false,
               false,
               false,
               false,
               false,
               false
              ]
             },
             {
              "title": "Weekend vs WeekDay: Number of steps made by Participant 3"
             }
            ],
            "label": "Participant 3",
            "method": "update"
           },
           {
            "args": [
             {
              "visible": [
               false,
               false,
               false,
               false,
               false,
               false,
               true,
               true,
               false,
               false,
               false,
               false,
               false,
               false
              ]
             },
             {
              "title": "Weekend vs WeekDay: Number of steps made by Participant 4"
             }
            ],
            "label": "Participant 4",
            "method": "update"
           },
           {
            "args": [
             {
              "visible": [
               false,
               false,
               false,
               false,
               false,
               false,
               false,
               false,
               true,
               true,
               false,
               false,
               false,
               false
              ]
             },
             {
              "title": "Weekend vs WeekDay: Number of steps made by Participant 5"
             }
            ],
            "label": "Participant 5",
            "method": "update"
           },
           {
            "args": [
             {
              "visible": [
               false,
               false,
               false,
               false,
               false,
               false,
               false,
               false,
               false,
               false,
               true,
               true,
               false,
               false
              ]
             },
             {
              "title": "Weekend vs WeekDay: Number of steps made by Participant 7"
             }
            ],
            "label": "Participant 7",
            "method": "update"
           },
           {
            "args": [
             {
              "visible": [
               false,
               false,
               false,
               false,
               false,
               false,
               false,
               false,
               false,
               false,
               false,
               false,
               true,
               true
              ]
             },
             {
              "title": "Weekend vs WeekDay: Number of steps made by Participant 8"
             }
            ],
            "label": "Participant 8",
            "method": "update"
           }
          ]
         }
        ]
       }
      },
      "text/html": [
       "<div>                            <div id=\"7d4b5bdb-9660-4ddb-bcae-1d70e0f7dff5\" class=\"plotly-graph-div\" style=\"height:525px; width:100%;\"></div>            <script type=\"text/javascript\">                require([\"plotly\"], function(Plotly) {                    window.PLOTLYENV=window.PLOTLYENV || {};                                    if (document.getElementById(\"7d4b5bdb-9660-4ddb-bcae-1d70e0f7dff5\")) {                    Plotly.newPlot(                        \"7d4b5bdb-9660-4ddb-bcae-1d70e0f7dff5\",                        [{\"name\":\"Participant 1 Weekend\",\"x\":[1,2,3,4,5,6,7,8,9,10,11,12,13,14,15,16,17,18,19,20,21,22,23,24,25,26,27,28,29,30,31,32,33,34],\"y\":[7493.499999999999,11152.500000000007,10554.999999999996,8506.500000000004,9020.5,9052.5,6785.999999999998,8426.825823879848,3621.499999999999,8689.5,17662.999999999996,6740.066851401573,8350.999999999996,8265.499999999998,6931.499999999998,6744.500000000001,10954.03161990334,7557.999999999998,4148.5,6048.5,4748.000000000002,12969.0,10458.999999999998,4838.999999999998,7923.9074038885265,4879.999999999998,7971.500000000005,8684.0,6974.000000000003,4936.500000000002,8125.394814807025,10859.999999999996,10792.0,12777.499999999998],\"type\":\"scatter\"},{\"name\":\"Participant 1 Weekday\",\"x\":[1,2,3,4,5,6,7,8,9,10,11,12,13,14,15,16,17,18,19,20,21,22,23,24,25,26,27,28,29,30,31,32,33,34,35],\"y\":[11928.8,10976.43376939031,11145.565360992772,10183.000000000004,8069.799999999998,9561.18500619978,9365.599999999995,7269.799999999998,6564.2,6404.305313393592,6837.066650565002,9170.800000000003,7588.4,6560.199999999997,8202.081911543122,5885.564570153443,9875.34765105536,10083.2,7469.4,5669.162922434349,5010.200000000001,8057.6,14116.679661842947,12072.800000000001,7413.200000000003,9235.2,7500.5999999999985,11223.599999999995,8190.0,9413.2,8175.8,7599.600000000003,10757.614890496616,6661.999999999998,9643.18368863179],\"type\":\"scatter\"},{\"name\":\"Participant 2 Weekend\",\"x\":[1,2,3,4,5,6,7,8,9,10,11,12,13,14,15,16,17,18,19,20,21,22,23,24,25,26,27,28,29,30,31,32,33,34],\"y\":[7362.5,9523.0,7660.5,7274.5,5317.0,6963.5,4861.0,6858.0,2831.5,7446.0,13359.5,6468.5,7407.0,6321.0,5191.5,4921.5,8224.0,6624.0,2749.5,7670.0,4761.0,6413.0,6823.0,2937.5,5109.0,3085.0,6152.5,6658.0,4794.5,5410.0,5303.5,7421.5,6447.0,10110.5],\"type\":\"scatter\"},{\"name\":\"Participant 2 Weekday\",\"x\":[1,2,3,4,5,6,7,8,9,10,11,12,13,14,15,16,17,18,19,20,21,22,23,24,25,26,27,28,29,30,31,32,33,34,35],\"y\":[8528.4,7561.2,8225.6,6932.4,6701.0,4717.4,7722.2,5828.6,5226.2,5967.8,6717.0,7303.8,6890.4,6295.8,7111.6,5647.0,6942.0,7121.4,5153.4,6837.0,4526.6,7646.4,10596.6,8798.0,6872.8,7716.4,5547.0,8012.2,5460.4,7579.8,6427.2,7049.0,6028.0,7082.8,7752.25],\"type\":\"scatter\"},{\"name\":\"Participant 3 Weekend\",\"x\":[1,2,3,4,5,6,7,8,9,10,11,12,13,14,15,16,17,18,19,20,21,22,24,25,26,27,28,29,30,31,32,33,34,35,39,40,44,48],\"y\":[11714.0,3920.49999975,586.5,7220.5,5795.00000056,3095.0,7919.0000002,5130.5000001,5053.0000004,68.0,8979.0000002,3828.99999995,8977.00000023,1584.0,3666.0000002,812.49999999,1538.499999995,6295.9999998,4410.4999998,3912.0,358.49999999199997,9018.4999999605,1185.5,5893.5000002,5378.9999997,13050.0000002,1243.000000035,1400.999999984,5679.500000135,5190.5,15335.000000299999,621.5,1706.5,4956.9999998,5600.4999995,6469.9999993,6006.000000354999,8970.000000165],\"type\":\"scatter\"},{\"name\":\"Participant 3 Weekday\",\"x\":[1,2,3,4,5,6,7,8,9,10,11,12,13,14,15,16,17,18,19,20,21,22,23,24,25,26,27,28,29,30,31,32,33,34,35,36,40,44,45,48,49],\"y\":[5897.600000064,685.5,280.0,227.0,8175.20000018,5719.0,11904.1999996942,8376.599999926,2620.9999999399997,2773.0,7853.0000000656,8555.800000184001,3873.7999999759995,4197.599999976001,3056.6666665333337,4542.9999999,4941.0,11690.599999964,10507.9999998,9623.999999844,6840.39999998,426.99999999600004,6720.500000100999,6741.000000075999,9180.000000092,5882.4000000206,4764.400000006,4337.333333233333,5664.40000003,4075.0000000219998,4697.799999944,9429.999999635,9617.200000084,8817.000000175,8874.000000084,5188.7499999925,5201.1999998302,4748.7499998,8592.500000085001,1685.5,6425.249999726249],\"type\":\"scatter\"},{\"name\":\"Participant 4 Weekend\",\"x\":[1,2,3,4,5,6,7,8,9,10,11,12,13,14,15,16,17,18,19,20,21,22,23,24,25,26,27,28,29,30,31,32,33,34,35],\"y\":[11006.000000000007,17337.857824879346,13245.058927328475,17307.5,15153.737785469042,16785.5,18049.999999999996,11340.499999999996,16905.63098745235,15131.499999999996,14438.0,17771.5,15646.679475806402,21814.5,18944.25354756527,15135.500000000004,16994.909043045587,17975.278581294166,16669.0,20362.057256219618,16564.5,15281.500000000007,13114.500000000004,13869.320429015828,18775.0,14479.03655140465,13255.197283597568,10598.2272833111,16529.293438611003,17198.907491497306,14866.856158089015,17096.5,17056.0,8271.06266390333,12176.68051907885],\"type\":\"scatter\"},{\"name\":\"Participant 4 Weekday\",\"x\":[1,2,3,4,5,6,7,8,9,10,11,12,13,14,15,16,17,18,19,20,21,22,23,24,25,26,27,28,29,30,31,32,33,34,35,36],\"y\":[9825.001668293215,7464.925976986606,10043.687022708813,9615.38995057379,8384.847043884467,10523.275241281526,9462.263931351838,10357.311300415944,8089.199999999999,9341.781429611152,11842.004508723749,7750.710125374726,11288.33085354038,11744.666818471305,10747.134076215985,7505.762804013973,12228.199999999997,11002.805766222144,11632.340529013454,12165.429801938606,9245.731340898452,8322.088852871759,8160.201137471513,8872.2,7453.0,7064.671495523578,12972.75639245477,11290.732459642168,11777.285003774414,10954.675394517766,7038.692223252185,9167.600000000002,9939.821773158536,10305.826460686714,11229.204302156842,11858.5],\"type\":\"scatter\"},{\"name\":\"Participant 5 Weekend\",\"x\":[5,6,7,8,9,10,11,12,13,14,15,16,17,18,19,20,21,22,23,24,25,26,27,28,29,30,31,32,33,34],\"y\":[4135.5,6213.0,5051.5,7411.5,6611.5,9593.0,5577.5,14677.0,24111.5,15727.5,7797.5,13377.0,22618.5,5719.0,9528.5,10943.5,8915.5,13783.0,14222.5,12390.5,11867.0,7648.0,6009.5,10152.5,6954.0,10209.5,8635.5,5754.5,10207.5,12686.5],\"type\":\"scatter\"},{\"name\":\"Participant 5 Weekday\",\"x\":[1,2,4,5,6,7,8,9,10,11,12,13,14,15,16,17,18,19,20,21,22,23,24,25,26,27,28,29,30,31,32,33,34,35],\"y\":[6479.0,239.0,4.0,4120.0,7105.6,5091.8,6920.6,7436.6,8806.4,10004.2,12186.4,5783.6,13823.2,14646.6,9671.6,17177.4,6184.6,6303.0,7503.6,7594.6,8096.4,10777.0,20673.4,18628.8,7445.2,7660.4,10399.0,6619.6,6219.2,7179.0,4466.8,9206.0,8946.4,8284.5],\"type\":\"scatter\"},{\"name\":\"Participant 7 Weekend\",\"x\":[1,2,3,4,5,6,7,8,9,10,11,12,13,14,15,16,17,18,19,20,21,22,23,24,25,26,27,28,29,30,31,32,33,34,35,36],\"y\":[6318.499999999999,4909.000000000002,4621.5,6614.999999999997,5770.999999999997,8607.500000000005,8648.0,4871.5,8352.5,9995.5,8385.0,8684.000000000004,7516.5,7061.500000000004,9410.000000000004,9577.000000000004,2727.0000000000005,6084.0,8731.5,4569.499999999999,9593.999999999996,7044.000000000002,6613.000000000002,7614.0,6174.5,4372.0,6175.0,7638.499999999998,8143.0,9650.5,8829.017921077571,9607.499999999998,7960.8664958580375,7342.444226438449,8264.199059797673,8082.000000000003],\"type\":\"scatter\"},{\"name\":\"Participant 7 Weekday\",\"x\":[1,2,3,4,5,6,7,8,9,10,11,12,13,14,15,16,17,18,19,20,21,22,23,24,25,26,27,28,29,30,31,32,33,34,35,36,37],\"y\":[7074.200000000002,7190.800000000001,11072.399999999998,7779.4,8246.399999999998,7994.200000000002,9858.399999999998,7537.600000000001,6917.0,6740.2,8021.2,9933.399999999998,7977.600000000001,9032.8,8628.8,7615.799999999998,4372.200000000001,8158.0,7580.0,8144.599999999997,7745.6,7721.0,7772.4000000000015,6236.999999999996,6525.6,10088.4,5984.4000000000015,7867.399999999999,7322.799999999997,8408.200000000006,8932.599999999999,7537.9239975461705,8778.916375085226,8004.738007576758,6710.146703255034,9808.536800589543,6542.183243953544],\"type\":\"scatter\"},{\"name\":\"Participant 8 Weekend\",\"x\":[1,2,3,4,5,6,7,8,9,10,11,12,13,14,15,16,17,18,19,20,21,22,23,24,25,26,27,28,29,30,31,32,33,34,35,36],\"y\":[7703.0,5056.0,8234.000000000004,5479.000000000005,8582.0,9477.499999999998,8105.0,10659.999999999995,3342.5,9391.999999999996,12106.0,11675.0,3527.5000000000014,9780.000000000002,13567.0,10904.5,11962.999999999996,9858.5,10159.499999999993,9184.5,7134.0,8024.500000000003,6036.499999999999,10444.0,8717.999999999996,8962.499999999993,10599.5,7384.5,8683.000000000004,8236.499999999996,10661.999999999996,10419.5,12832.999999999998,12214.000000000002,9045.0,10004.5],\"type\":\"scatter\"},{\"name\":\"Participant 8 Weekday\",\"x\":[1,2,3,4,5,6,7,8,9,10,11,12,13,14,15,16,17,18,19,20,21,22,23,24,25,26,27,28,29,30,31,32,33,34,35,36,37],\"y\":[7142.799999999998,7584.400000000003,5479.599999999997,8287.8,6674.199999999997,10931.8,7144.800000000001,8898.599999999999,3578.0,7219.6,9319.0,10350.400000000001,11420.600000000002,2328.4,8349.6,12123.399999999998,10147.400000000003,10538.999999999996,12610.6,10823.8,6378.600000000001,6061.000000000002,5708.799999999999,8519.4,8178.5999999999985,7272.199999999999,8647.400000000001,5345.000000000001,8170.6,11908.400000000003,10444.200000000003,7502.999999999998,7688.200000000003,7507.0,10929.200000000003,16016.999999999996,228.0],\"type\":\"scatter\"}],                        {\"template\":{\"data\":{\"histogram2dcontour\":[{\"type\":\"histogram2dcontour\",\"colorbar\":{\"outlinewidth\":0,\"ticks\":\"\"},\"colorscale\":[[0.0,\"#0d0887\"],[0.1111111111111111,\"#46039f\"],[0.2222222222222222,\"#7201a8\"],[0.3333333333333333,\"#9c179e\"],[0.4444444444444444,\"#bd3786\"],[0.5555555555555556,\"#d8576b\"],[0.6666666666666666,\"#ed7953\"],[0.7777777777777778,\"#fb9f3a\"],[0.8888888888888888,\"#fdca26\"],[1.0,\"#f0f921\"]]}],\"choropleth\":[{\"type\":\"choropleth\",\"colorbar\":{\"outlinewidth\":0,\"ticks\":\"\"}}],\"histogram2d\":[{\"type\":\"histogram2d\",\"colorbar\":{\"outlinewidth\":0,\"ticks\":\"\"},\"colorscale\":[[0.0,\"#0d0887\"],[0.1111111111111111,\"#46039f\"],[0.2222222222222222,\"#7201a8\"],[0.3333333333333333,\"#9c179e\"],[0.4444444444444444,\"#bd3786\"],[0.5555555555555556,\"#d8576b\"],[0.6666666666666666,\"#ed7953\"],[0.7777777777777778,\"#fb9f3a\"],[0.8888888888888888,\"#fdca26\"],[1.0,\"#f0f921\"]]}],\"heatmap\":[{\"type\":\"heatmap\",\"colorbar\":{\"outlinewidth\":0,\"ticks\":\"\"},\"colorscale\":[[0.0,\"#0d0887\"],[0.1111111111111111,\"#46039f\"],[0.2222222222222222,\"#7201a8\"],[0.3333333333333333,\"#9c179e\"],[0.4444444444444444,\"#bd3786\"],[0.5555555555555556,\"#d8576b\"],[0.6666666666666666,\"#ed7953\"],[0.7777777777777778,\"#fb9f3a\"],[0.8888888888888888,\"#fdca26\"],[1.0,\"#f0f921\"]]}],\"heatmapgl\":[{\"type\":\"heatmapgl\",\"colorbar\":{\"outlinewidth\":0,\"ticks\":\"\"},\"colorscale\":[[0.0,\"#0d0887\"],[0.1111111111111111,\"#46039f\"],[0.2222222222222222,\"#7201a8\"],[0.3333333333333333,\"#9c179e\"],[0.4444444444444444,\"#bd3786\"],[0.5555555555555556,\"#d8576b\"],[0.6666666666666666,\"#ed7953\"],[0.7777777777777778,\"#fb9f3a\"],[0.8888888888888888,\"#fdca26\"],[1.0,\"#f0f921\"]]}],\"contourcarpet\":[{\"type\":\"contourcarpet\",\"colorbar\":{\"outlinewidth\":0,\"ticks\":\"\"}}],\"contour\":[{\"type\":\"contour\",\"colorbar\":{\"outlinewidth\":0,\"ticks\":\"\"},\"colorscale\":[[0.0,\"#0d0887\"],[0.1111111111111111,\"#46039f\"],[0.2222222222222222,\"#7201a8\"],[0.3333333333333333,\"#9c179e\"],[0.4444444444444444,\"#bd3786\"],[0.5555555555555556,\"#d8576b\"],[0.6666666666666666,\"#ed7953\"],[0.7777777777777778,\"#fb9f3a\"],[0.8888888888888888,\"#fdca26\"],[1.0,\"#f0f921\"]]}],\"surface\":[{\"type\":\"surface\",\"colorbar\":{\"outlinewidth\":0,\"ticks\":\"\"},\"colorscale\":[[0.0,\"#0d0887\"],[0.1111111111111111,\"#46039f\"],[0.2222222222222222,\"#7201a8\"],[0.3333333333333333,\"#9c179e\"],[0.4444444444444444,\"#bd3786\"],[0.5555555555555556,\"#d8576b\"],[0.6666666666666666,\"#ed7953\"],[0.7777777777777778,\"#fb9f3a\"],[0.8888888888888888,\"#fdca26\"],[1.0,\"#f0f921\"]]}],\"mesh3d\":[{\"type\":\"mesh3d\",\"colorbar\":{\"outlinewidth\":0,\"ticks\":\"\"}}],\"scatter\":[{\"fillpattern\":{\"fillmode\":\"overlay\",\"size\":10,\"solidity\":0.2},\"type\":\"scatter\"}],\"parcoords\":[{\"type\":\"parcoords\",\"line\":{\"colorbar\":{\"outlinewidth\":0,\"ticks\":\"\"}}}],\"scatterpolargl\":[{\"type\":\"scatterpolargl\",\"marker\":{\"colorbar\":{\"outlinewidth\":0,\"ticks\":\"\"}}}],\"bar\":[{\"error_x\":{\"color\":\"#2a3f5f\"},\"error_y\":{\"color\":\"#2a3f5f\"},\"marker\":{\"line\":{\"color\":\"#E5ECF6\",\"width\":0.5},\"pattern\":{\"fillmode\":\"overlay\",\"size\":10,\"solidity\":0.2}},\"type\":\"bar\"}],\"scattergeo\":[{\"type\":\"scattergeo\",\"marker\":{\"colorbar\":{\"outlinewidth\":0,\"ticks\":\"\"}}}],\"scatterpolar\":[{\"type\":\"scatterpolar\",\"marker\":{\"colorbar\":{\"outlinewidth\":0,\"ticks\":\"\"}}}],\"histogram\":[{\"marker\":{\"pattern\":{\"fillmode\":\"overlay\",\"size\":10,\"solidity\":0.2}},\"type\":\"histogram\"}],\"scattergl\":[{\"type\":\"scattergl\",\"marker\":{\"colorbar\":{\"outlinewidth\":0,\"ticks\":\"\"}}}],\"scatter3d\":[{\"type\":\"scatter3d\",\"line\":{\"colorbar\":{\"outlinewidth\":0,\"ticks\":\"\"}},\"marker\":{\"colorbar\":{\"outlinewidth\":0,\"ticks\":\"\"}}}],\"scattermapbox\":[{\"type\":\"scattermapbox\",\"marker\":{\"colorbar\":{\"outlinewidth\":0,\"ticks\":\"\"}}}],\"scatterternary\":[{\"type\":\"scatterternary\",\"marker\":{\"colorbar\":{\"outlinewidth\":0,\"ticks\":\"\"}}}],\"scattercarpet\":[{\"type\":\"scattercarpet\",\"marker\":{\"colorbar\":{\"outlinewidth\":0,\"ticks\":\"\"}}}],\"carpet\":[{\"aaxis\":{\"endlinecolor\":\"#2a3f5f\",\"gridcolor\":\"white\",\"linecolor\":\"white\",\"minorgridcolor\":\"white\",\"startlinecolor\":\"#2a3f5f\"},\"baxis\":{\"endlinecolor\":\"#2a3f5f\",\"gridcolor\":\"white\",\"linecolor\":\"white\",\"minorgridcolor\":\"white\",\"startlinecolor\":\"#2a3f5f\"},\"type\":\"carpet\"}],\"table\":[{\"cells\":{\"fill\":{\"color\":\"#EBF0F8\"},\"line\":{\"color\":\"white\"}},\"header\":{\"fill\":{\"color\":\"#C8D4E3\"},\"line\":{\"color\":\"white\"}},\"type\":\"table\"}],\"barpolar\":[{\"marker\":{\"line\":{\"color\":\"#E5ECF6\",\"width\":0.5},\"pattern\":{\"fillmode\":\"overlay\",\"size\":10,\"solidity\":0.2}},\"type\":\"barpolar\"}],\"pie\":[{\"automargin\":true,\"type\":\"pie\"}]},\"layout\":{\"autotypenumbers\":\"strict\",\"colorway\":[\"#636efa\",\"#EF553B\",\"#00cc96\",\"#ab63fa\",\"#FFA15A\",\"#19d3f3\",\"#FF6692\",\"#B6E880\",\"#FF97FF\",\"#FECB52\"],\"font\":{\"color\":\"#2a3f5f\"},\"hovermode\":\"closest\",\"hoverlabel\":{\"align\":\"left\"},\"paper_bgcolor\":\"white\",\"plot_bgcolor\":\"#E5ECF6\",\"polar\":{\"bgcolor\":\"#E5ECF6\",\"angularaxis\":{\"gridcolor\":\"white\",\"linecolor\":\"white\",\"ticks\":\"\"},\"radialaxis\":{\"gridcolor\":\"white\",\"linecolor\":\"white\",\"ticks\":\"\"}},\"ternary\":{\"bgcolor\":\"#E5ECF6\",\"aaxis\":{\"gridcolor\":\"white\",\"linecolor\":\"white\",\"ticks\":\"\"},\"baxis\":{\"gridcolor\":\"white\",\"linecolor\":\"white\",\"ticks\":\"\"},\"caxis\":{\"gridcolor\":\"white\",\"linecolor\":\"white\",\"ticks\":\"\"}},\"coloraxis\":{\"colorbar\":{\"outlinewidth\":0,\"ticks\":\"\"}},\"colorscale\":{\"sequential\":[[0.0,\"#0d0887\"],[0.1111111111111111,\"#46039f\"],[0.2222222222222222,\"#7201a8\"],[0.3333333333333333,\"#9c179e\"],[0.4444444444444444,\"#bd3786\"],[0.5555555555555556,\"#d8576b\"],[0.6666666666666666,\"#ed7953\"],[0.7777777777777778,\"#fb9f3a\"],[0.8888888888888888,\"#fdca26\"],[1.0,\"#f0f921\"]],\"sequentialminus\":[[0.0,\"#0d0887\"],[0.1111111111111111,\"#46039f\"],[0.2222222222222222,\"#7201a8\"],[0.3333333333333333,\"#9c179e\"],[0.4444444444444444,\"#bd3786\"],[0.5555555555555556,\"#d8576b\"],[0.6666666666666666,\"#ed7953\"],[0.7777777777777778,\"#fb9f3a\"],[0.8888888888888888,\"#fdca26\"],[1.0,\"#f0f921\"]],\"diverging\":[[0,\"#8e0152\"],[0.1,\"#c51b7d\"],[0.2,\"#de77ae\"],[0.3,\"#f1b6da\"],[0.4,\"#fde0ef\"],[0.5,\"#f7f7f7\"],[0.6,\"#e6f5d0\"],[0.7,\"#b8e186\"],[0.8,\"#7fbc41\"],[0.9,\"#4d9221\"],[1,\"#276419\"]]},\"xaxis\":{\"gridcolor\":\"white\",\"linecolor\":\"white\",\"ticks\":\"\",\"title\":{\"standoff\":15},\"zerolinecolor\":\"white\",\"automargin\":true,\"zerolinewidth\":2},\"yaxis\":{\"gridcolor\":\"white\",\"linecolor\":\"white\",\"ticks\":\"\",\"title\":{\"standoff\":15},\"zerolinecolor\":\"white\",\"automargin\":true,\"zerolinewidth\":2},\"scene\":{\"xaxis\":{\"backgroundcolor\":\"#E5ECF6\",\"gridcolor\":\"white\",\"linecolor\":\"white\",\"showbackground\":true,\"ticks\":\"\",\"zerolinecolor\":\"white\",\"gridwidth\":2},\"yaxis\":{\"backgroundcolor\":\"#E5ECF6\",\"gridcolor\":\"white\",\"linecolor\":\"white\",\"showbackground\":true,\"ticks\":\"\",\"zerolinecolor\":\"white\",\"gridwidth\":2},\"zaxis\":{\"backgroundcolor\":\"#E5ECF6\",\"gridcolor\":\"white\",\"linecolor\":\"white\",\"showbackground\":true,\"ticks\":\"\",\"zerolinecolor\":\"white\",\"gridwidth\":2}},\"shapedefaults\":{\"line\":{\"color\":\"#2a3f5f\"}},\"annotationdefaults\":{\"arrowcolor\":\"#2a3f5f\",\"arrowhead\":0,\"arrowwidth\":1},\"geo\":{\"bgcolor\":\"white\",\"landcolor\":\"#E5ECF6\",\"subunitcolor\":\"white\",\"showland\":true,\"showlakes\":true,\"lakecolor\":\"white\"},\"title\":{\"x\":0.05},\"mapbox\":{\"style\":\"light\"}}},\"updatemenus\":[{\"active\":0,\"buttons\":[{\"args\":[{\"visible\":[true,true,false,false,false,false,false,false,false,false,false,false,false,false]},{\"title\":\"Weekend vs WeekDay: Number of steps made by Participant 1\"}],\"label\":\"Participant 1\",\"method\":\"update\"},{\"args\":[{\"visible\":[false,false,true,true,false,false,false,false,false,false,false,false,false,false]},{\"title\":\"Weekend vs WeekDay: Number of steps made by Participant 2\"}],\"label\":\"Participant 2\",\"method\":\"update\"},{\"args\":[{\"visible\":[false,false,false,false,true,true,false,false,false,false,false,false,false,false]},{\"title\":\"Weekend vs WeekDay: Number of steps made by Participant 3\"}],\"label\":\"Participant 3\",\"method\":\"update\"},{\"args\":[{\"visible\":[false,false,false,false,false,false,true,true,false,false,false,false,false,false]},{\"title\":\"Weekend vs WeekDay: Number of steps made by Participant 4\"}],\"label\":\"Participant 4\",\"method\":\"update\"},{\"args\":[{\"visible\":[false,false,false,false,false,false,false,false,true,true,false,false,false,false]},{\"title\":\"Weekend vs WeekDay: Number of steps made by Participant 5\"}],\"label\":\"Participant 5\",\"method\":\"update\"},{\"args\":[{\"visible\":[false,false,false,false,false,false,false,false,false,false,true,true,false,false]},{\"title\":\"Weekend vs WeekDay: Number of steps made by Participant 7\"}],\"label\":\"Participant 7\",\"method\":\"update\"},{\"args\":[{\"visible\":[false,false,false,false,false,false,false,false,false,false,false,false,true,true]},{\"title\":\"Weekend vs WeekDay: Number of steps made by Participant 8\"}],\"label\":\"Participant 8\",\"method\":\"update\"}]}]},                        {\"responsive\": true}                    ).then(function(){\n",
       "                            \n",
       "var gd = document.getElementById('7d4b5bdb-9660-4ddb-bcae-1d70e0f7dff5');\n",
       "var x = new MutationObserver(function (mutations, observer) {{\n",
       "        var display = window.getComputedStyle(gd).display;\n",
       "        if (!display || display === 'none') {{\n",
       "            console.log([gd, 'removed!']);\n",
       "            Plotly.purge(gd);\n",
       "            observer.disconnect();\n",
       "        }}\n",
       "}});\n",
       "\n",
       "// Listen for the removal of the full notebook cells\n",
       "var notebookContainer = gd.closest('#notebook-container');\n",
       "if (notebookContainer) {{\n",
       "    x.observe(notebookContainer, {childList: true});\n",
       "}}\n",
       "\n",
       "// Listen for the clearing of the current output cell\n",
       "var outputEl = gd.closest('.output');\n",
       "if (outputEl) {{\n",
       "    x.observe(outputEl, {childList: true});\n",
       "}}\n",
       "\n",
       "                        })                };                });            </script>        </div>"
      ]
     },
     "metadata": {},
     "output_type": "display_data"
    }
   ],
   "source": [
    "import plotly.express as px \n",
    "\n",
    "# Initialize figure\n",
    "fig = go.Figure()\n",
    "\n",
    "# Add Traces\n",
    "\n",
    "wkdf = df.loc[df[\"Is Weekend\"]==True]\n",
    "wddf = df.loc[df[\"Is Weekend\"]!=True]\n",
    "fig.add_trace(\n",
    "    go.Scatter(x=wkdf[\"Week\"], y=wkdf[\"Steps\"],name='Participant 1 Weekend'))\n",
    "fig.add_trace(\n",
    "    go.Scatter(x=wddf[\"Week\"], y=wddf[\"Steps\"],name='Participant 1 Weekday'))\n",
    "\n",
    "wkdf2 = df2.loc[df2[\"Is Weekend\"]==True]\n",
    "wddf2 = df2.loc[df2[\"Is Weekend\"]!=True]\n",
    "fig.add_trace(\n",
    "    go.Scatter(x=wkdf2[\"Week\"], y=wkdf2[\"Steps\"],name='Participant 2 Weekend'))\n",
    "fig.add_trace(\n",
    "    go.Scatter(x=wddf2[\"Week\"], y=wddf2[\"Steps\"],name='Participant 2 Weekday'))\n",
    "\n",
    "wkdf3 = df3.loc[df3[\"Is Weekend\"]==True]\n",
    "wddf3 = df3.loc[df3[\"Is Weekend\"]!=True]\n",
    "fig.add_trace(\n",
    "    go.Scatter(x=wkdf3[\"Week\"], y=wkdf3[\"Steps\"],name='Participant 3 Weekend'))\n",
    "fig.add_trace(\n",
    "    go.Scatter(x=wddf3[\"Week\"], y=wddf3[\"Steps\"],name='Participant 3 Weekday'))\n",
    "\n",
    "wkdf4 = df4.loc[df4[\"Is Weekend\"]==True]\n",
    "wddf4 = df4.loc[df4[\"Is Weekend\"]!=True]\n",
    "fig.add_trace(\n",
    "    go.Scatter(x=wkdf4[\"Week\"], y=wkdf4[\"Steps\"],name='Participant 4 Weekend'))\n",
    "fig.add_trace(\n",
    "    go.Scatter(x=wddf4[\"Week\"], y=wddf4[\"Steps\"],name='Participant 4 Weekday'))\n",
    "\n",
    "wkdf5 = df5.loc[df5[\"Is Weekend\"]==True]\n",
    "wddf5 = df5.loc[df5[\"Is Weekend\"]!=True]\n",
    "fig.add_trace(\n",
    "    go.Scatter(x=wkdf5[\"Week\"], y=wkdf5[\"Steps\"],name='Participant 5 Weekend'))\n",
    "fig.add_trace(\n",
    "    go.Scatter(x=wddf5[\"Week\"], y=wddf5[\"Steps\"],name='Participant 5 Weekday'))\n",
    "\n",
    "wkdf7 = df7.loc[df7[\"Is Weekend\"]==True]\n",
    "wddf7 = df7.loc[df7[\"Is Weekend\"]!=True]\n",
    "fig.add_trace(\n",
    "    go.Scatter(x=wkdf7[\"Week\"], y=wkdf7[\"Steps\"],name='Participant 7 Weekend'))\n",
    "fig.add_trace(\n",
    "    go.Scatter(x=wddf7[\"Week\"], y=wddf7[\"Steps\"],name='Participant 7 Weekday'))\n",
    "\n",
    "wkdf8 = df8.loc[df8[\"Is Weekend\"]==True]\n",
    "wddf8 = df8.loc[df8[\"Is Weekend\"]!=True]\n",
    "fig.add_trace(\n",
    "    go.Scatter(x=wkdf8[\"Week\"], y=wkdf8[\"Steps\"],name='Participant 8 Weekend'))\n",
    "fig.add_trace(\n",
    "    go.Scatter(x=wddf8[\"Week\"], y=wddf8[\"Steps\"],name='Participant 8 Weekday'))\n",
    "# fig.show()\n",
    "fig.update_layout(\n",
    "    updatemenus=[\n",
    "        dict(\n",
    "            active=0,\n",
    "            buttons=list([\n",
    "                dict(label=\"Participant 1\",\n",
    "                     method=\"update\",\n",
    "                     args=[{\"visible\": [True, True, False, False, False, False, False,False, False, False, False, False, False,False]},\n",
    "                           {\"title\": \"Weekend vs WeekDay: Number of steps made by Participant 1\"}]),\n",
    "                dict(label=\"Participant 2\",\n",
    "                     method=\"update\",\n",
    "                     args=[{\"visible\": [False, False, True, True,False, False, False,False, False, False, False, False, False,False]},\n",
    "                           {\"title\": \"Weekend vs WeekDay: Number of steps made by Participant 2\"}]),\n",
    "                dict(label=\"Participant 3\",\n",
    "                     method=\"update\",\n",
    "                     args=[{\"visible\": [False, False, False, False,True, True, False,False, False, False, False, False, False,False]},\n",
    "                           {\"title\": \"Weekend vs WeekDay: Number of steps made by Participant 3\"}]),\n",
    "                dict(label=\"Participant 4\",\n",
    "                     method=\"update\",\n",
    "                     args=[{\"visible\": [False, False, False, False, False, False, True,True, False, False, False, False, False,False]},\n",
    "                           {\"title\": \"Weekend vs WeekDay: Number of steps made by Participant 4\"}]),\n",
    "                dict(label=\"Participant 5\",\n",
    "                     method=\"update\",\n",
    "                     args=[{\"visible\": [False, False, False, False, False,False,False,False, True, True, False, False, False,False]},\n",
    "                           {\"title\": \"Weekend vs WeekDay: Number of steps made by Participant 5\"}]),\n",
    "                dict(label=\"Participant 7\",\n",
    "                     method=\"update\",\n",
    "                     args=[{\"visible\": [False, False, False, False, False, False, False,False, False, False, True, True, False,False]},\n",
    "                           {\"title\": \"Weekend vs WeekDay: Number of steps made by Participant 7\"}]),\n",
    "                dict(label=\"Participant 8\",\n",
    "                     method=\"update\",\n",
    "                     args=[{\"visible\": [False, False, False, False, False, False,False,False, False, False, False, False, True,True]},\n",
    "                           {\"title\": \"Weekend vs WeekDay: Number of steps made by Participant 8\"}])\n",
    "                \n",
    "            ]),\n",
    "        )\n",
    "    ])\n",
    "\n"
   ]
  },
  {
   "cell_type": "markdown",
   "id": "70f98934",
   "metadata": {},
   "source": [
    "# Sub Questions"
   ]
  },
  {
   "cell_type": "markdown",
   "id": "cb0fe0bd",
   "metadata": {},
   "source": [
    "### Does the week day step patterns differ month to month?"
   ]
  },
  {
   "cell_type": "code",
   "execution_count": 33,
   "id": "089c97fc",
   "metadata": {},
   "outputs": [],
   "source": [
    "def graphmonth(df): \n",
    "        # order the months\n",
    "    cat2 = ['December','January','February','March','April','May','June','July','August','September']\n",
    "    cat2_type = CategoricalDtype(categories=cat2, ordered=True)\n",
    "    df['Month'] = df['Month'].astype(cat2_type)\n",
    "    \n",
    "    # group by month and weekday and get mean step count for all 3 participants\n",
    "    week_month_count = df.groupby(['Month','WeekDay']).agg({'Steps': 'mean','Date':'first'}).reset_index()\n",
    "   \n",
    "    sns.set_theme(style=\"dark\")\n",
    "\n",
    "    # Plot each months's step count for day of the week.\n",
    "    g = sns.relplot(\n",
    "        data=week_month_count,\n",
    "        x=\"WeekDay\", y=\"Steps\", col=\"Month\", hue=\"Month\",\n",
    "        kind=\"line\", palette=\"crest\", linewidth=1, zorder=5,\n",
    "        col_wrap=5, height=4, aspect=1.5, legend=False\n",
    "    )\n",
    "\n",
    "    # Iterate over each subplot to customize further\n",
    "    for Month, ax in g.axes_dict.items():\n",
    "        # Rotate the xticks by 90 degrees  \n",
    "        ax.set_xticklabels(ax.get_xticklabels(),rotation = 90)\n",
    "        # Add the title for the months as an annotation within the plot\n",
    "        ax.text(.8, .85, Month, transform=ax.transAxes, fontweight=\"bold\")\n",
    "\n",
    "\n",
    "    # Tweak the supporting aspects of the plot\n",
    "    g.set_titles(\"Monthly step trends of the week\")\n",
    "    g.set_axis_labels(\"Day of the Week\", \"Steps (count)\")\n",
    "    g.tight_layout()"
   ]
  },
  {
   "cell_type": "code",
   "execution_count": 34,
   "id": "7711ad54",
   "metadata": {},
   "outputs": [
    {
     "data": {
      "image/png": "[encoded data removed]",
      "text/plain": [
       "<Figure size 2160x576 with 10 Axes>"
      ]
     },
     "metadata": {},
     "output_type": "display_data"
    }
   ],
   "source": [
    "graphmonth(day)"
   ]
  },
  {
   "cell_type": "code",
   "execution_count": 35,
   "id": "f0d0f0dc",
   "metadata": {},
   "outputs": [
    {
     "data": {
      "application/vnd.plotly.v1+json": {
       "config": {
        "plotlyServerURL": "https://plot.ly"
       },
       "data": [
        {
         "colorscale": [
          [
           0,
           "rgb(255,255,229)"
          ],
          [
           0.125,
           "rgb(247,252,185)"
          ],
          [
           0.25,
           "rgb(217,240,163)"
          ],
          [
           0.375,
           "rgb(173,221,142)"
          ],
          [
           0.5,
           "rgb(120,198,121)"
          ],
          [
           0.625,
           "rgb(65,171,93)"
          ],
          [
           0.75,
           "rgb(35,132,67)"
          ],
          [
           0.875,
           "rgb(0,104,55)"
          ],
          [
           1,
           "rgb(0,69,41)"
          ]
         ],
         "type": "heatmap",
         "x": [
          "Monday",
          "Tuesday",
          "Wednesday",
          "Thursday",
          "Friday",
          "Saturday",
          "Sunday"
         ],
         "y": [
          "September",
          "August",
          "July",
          "June",
          "May",
          "April",
          "March",
          "February",
          "January",
          "December"
         ],
         "z": [
          [
           null,
           null,
           null,
           null,
           0,
           null,
           null
          ],
          [
           10857.8,
           6980.25,
           10929.518766811489,
           11580.980146167365,
           14456.000000000004,
           11611,
           7861.200000000002
          ],
          [
           6703.000000000001,
           7612.999999999996,
           11269.499999999996,
           10439.75,
           6454.731257749722,
           6410.999999999998,
           10231.912911939926
          ],
          [
           8610.749999999996,
           7056.105313393593,
           7248,
           6705.600000000001,
           7792.333313206256,
           8402.783425700785,
           9954.249999999998
          ],
          [
           8870.25,
           7242.7057126918035,
           7941.434563819201,
           6326.352389428903,
           7152.199999999997,
           6826.212647961334,
           8238.25
          ],
          [
           5124.199999999999,
           9920.099179864472,
           9790.329678212343,
           5801.500000000002,
           5597.25,
           8039.326457380743,
           5651.538834095406
          ],
          [
           10567.750000000002,
           13040.849577303692,
           10237.399999999998,
           10701.2,
           7527.999999999998,
           8842.953701944265,
           9252.499999999996
          ],
          [
           9114.249999999995,
           8879,
           10510.203342210523,
           7866.546657789477,
           8515.399999999998,
           5762.800000000002,
           7615.600000000001
          ],
          [
           7944.38368863179,
           7433.6,
           10793.814890496618,
           8466.25,
           8322.249999999998,
           12042.94740740351,
           9234.5
          ],
          [
           null,
           null,
           null,
           14604.000000000004,
           1574.000000000002,
           null,
           null
          ]
         ]
        },
        {
         "colorscale": [
          [
           0,
           "rgb(255,255,229)"
          ],
          [
           0.125,
           "rgb(247,252,185)"
          ],
          [
           0.25,
           "rgb(217,240,163)"
          ],
          [
           0.375,
           "rgb(173,221,142)"
          ],
          [
           0.5,
           "rgb(120,198,121)"
          ],
          [
           0.625,
           "rgb(65,171,93)"
          ],
          [
           0.75,
           "rgb(35,132,67)"
          ],
          [
           0.875,
           "rgb(0,104,55)"
          ],
          [
           1,
           "rgb(0,69,41)"
          ]
         ],
         "type": "heatmap",
         "x": [
          "Monday",
          "Tuesday",
          "Wednesday",
          "Thursday",
          "Friday",
          "Saturday",
          "Sunday"
         ],
         "y": [
          "September",
          "August",
          "July",
          "June",
          "May",
          "April",
          "March",
          "February",
          "January",
          "December"
         ],
         "z": [
          [
           6928,
           7936.75,
           7587,
           4698.25,
           5026.8,
           5791.4,
           6072.25
          ],
          [
           4940,
           6250.2,
           8708.8,
           5546.75,
           8864.75,
           8323.25,
           6318
          ],
          [
           null,
           null,
           null,
           null,
           36,
           null,
           null
          ],
          [
           6213,
           5923.5,
           6401.75,
           7531.75,
           4996.25,
           4984,
           7015.75
          ],
          [
           8009.2,
           5585,
           7278,
           9064.75,
           8593.75,
           9745.6,
           7378.6
          ],
          [
           6748,
           4643.75,
           7042.5,
           7512,
           6863.8,
           5355.6,
           5084.4
          ],
          [
           8242.75,
           11171.25,
           9015.2,
           9643.2,
           4671.75,
           5090.75,
           5550.5
          ],
          [
           7560.25,
           6802.8,
           5509,
           6127.8,
           7255.5,
           7466,
           7586.75
          ],
          [
           4444.4,
           8266.6,
           6437,
           6188.25,
           4386.25,
           7064.5,
           5247
          ],
          [
           null,
           null,
           null,
           6803,
           null,
           null,
           null
          ]
         ]
        },
        {
         "colorscale": [
          [
           0,
           "rgb(255,255,229)"
          ],
          [
           0.125,
           "rgb(247,252,185)"
          ],
          [
           0.25,
           "rgb(217,240,163)"
          ],
          [
           0.375,
           "rgb(173,221,142)"
          ],
          [
           0.5,
           "rgb(120,198,121)"
          ],
          [
           0.625,
           "rgb(65,171,93)"
          ],
          [
           0.75,
           "rgb(35,132,67)"
          ],
          [
           0.875,
           "rgb(0,104,55)"
          ],
          [
           1,
           "rgb(0,69,41)"
          ]
         ],
         "type": "heatmap",
         "x": [
          "Monday",
          "Tuesday",
          "Wednesday",
          "Thursday",
          "Friday",
          "Saturday",
          "Sunday"
         ],
         "y": [
          "September",
          "August",
          "July",
          "June",
          "May",
          "April",
          "March",
          "February",
          "January",
          "December"
         ],
         "z": [
          [
           1102,
           4380.666666626667,
           7209.499999875,
           4253.749999925,
           3067.5999999799997,
           3679.000000156,
           4313.6666666833335
          ],
          [
           8815.599999827999,
           8390.799999879999,
           6021.500000155,
           10789.000000248334,
           7654.000000266667,
           5430.25,
           5996.500000149999
          ],
          [
           4570.999999975,
           2733,
           11521.99999893,
           4449,
           674,
           8770.9999998,
           9169.00000053
          ],
          [
           5985.24999981525,
           6815.2499999075,
           10712.24999978,
           8768.333333683333,
           10975.666666446667,
           6588.666667040001,
           5254.500000149999
          ],
          [
           3646.7500001,
           3426.6666665,
           1803.0000001,
           416,
           1919.25000018,
           3560.1999998961996,
           6147.8
          ],
          [
           5686.33333347,
           3815.9999998999997,
           5938.250000025,
           3707.9999999975,
           4249.799999897999,
           4557.2000001016,
           4417.249999850001
          ],
          [
           7822.2500002,
           3571.50000006325,
           7190.599999928801,
           7108.2000001060005,
           5787.000000133333,
           7913.333333369999,
           2818.3333334036665
          ],
          [
           2648.9999999945,
           4883.80000002,
           7263.400000023999,
           7851.25000005,
           6656.666666810001,
           6822.666666900001,
           3830.5000001
          ],
          [
           8000.799999824,
           7372.49999986,
           11724.333333366667,
           12776.000000040001,
           4897.49999994,
           1242.249999995,
           5044.199999840801
          ],
          [
           9374.0000001,
           3936.500000035,
           9367.9999998,
           9467.999999399999,
           97,
           8045.00000081,
           3966.9999999
          ],
          [
           13390.999999599999,
           647.9999999910001,
           7418.9999996,
           733,
           3814.99999996,
           3510.49999965,
           10649.999999
          ],
          [
           6560,
           426,
           4034.0000001000003,
           6209.499999935,
           10759,
           1231,
           8682.9999996
          ]
         ]
        },
        {
         "colorscale": [
          [
           0,
           "rgb(255,255,229)"
          ],
          [
           0.125,
           "rgb(247,252,185)"
          ],
          [
           0.25,
           "rgb(217,240,163)"
          ],
          [
           0.375,
           "rgb(173,221,142)"
          ],
          [
           0.5,
           "rgb(120,198,121)"
          ],
          [
           0.625,
           "rgb(65,171,93)"
          ],
          [
           0.75,
           "rgb(35,132,67)"
          ],
          [
           0.875,
           "rgb(0,104,55)"
          ],
          [
           1,
           "rgb(0,69,41)"
          ]
         ],
         "type": "heatmap",
         "x": [
          "Monday",
          "Tuesday",
          "Wednesday",
          "Thursday",
          "Friday",
          "Saturday",
          "Sunday"
         ],
         "y": [
          "September",
          "August",
          "July",
          "June",
          "May",
          "April",
          "March",
          "February",
          "January",
          "December"
         ],
         "z": [
          [
           10412.30273561292,
           12729.270832786446,
           5937.893565611134,
           12708.909285440392,
           9986.86256314055,
           25594.13875092369,
           10311.79307303123
          ],
          [
           12451.600000000002,
           6795.193762478241,
           9459.4,
           11477.033075858393,
           6911.155227364591,
           20130.281331951664,
           8514.928079044506
          ],
          [
           7605.942090395482,
           12065.947035124453,
           7625.194541462162,
           14734.094051601907,
           6475.944177583213,
           23611.75,
           7053.118892734517
          ],
          [
           7797.029482846189,
           10823.224478006236,
           6814.4638766352555,
           10346.75,
           9741.280565003803,
           18471.199999999997,
           9908.566700883133
          ],
          [
           14469.30155264075,
           10753.144085492928,
           12524.54049477457,
           8018.6290761567725,
           12081.044646295162,
           17957.458754826424,
           10866.806064542227
          ],
          [
           4361.5,
           8430.75,
           7674.585069837029,
           11615.581108174549,
           8597,
           24095.16021450792,
           6424.999999999998
          ],
          [
           8021.64108174515,
           13557.618879784375,
           9612.781429611152,
           10212.199999999997,
           7767.142178072952,
           20530.50798023549,
           11592.807513490687
          ],
          [
           5631.325847517334,
           12168.999999999998,
           11751.30114248249,
           12147.178800021165,
           11124.631726562005,
           25483.52862810981,
           9812.275049735901
          ],
          [
           8598,
           14000.000000000002,
           10517.000000000002,
           14790,
           6061.001770988241,
           18080,
           6273.361038157697
          ]
         ]
        },
        {
         "colorscale": [
          [
           0,
           "rgb(255,255,229)"
          ],
          [
           0.125,
           "rgb(247,252,185)"
          ],
          [
           0.25,
           "rgb(217,240,163)"
          ],
          [
           0.375,
           "rgb(173,221,142)"
          ],
          [
           0.5,
           "rgb(120,198,121)"
          ],
          [
           0.625,
           "rgb(65,171,93)"
          ],
          [
           0.75,
           "rgb(35,132,67)"
          ],
          [
           0.875,
           "rgb(0,104,55)"
          ],
          [
           1,
           "rgb(0,69,41)"
          ]
         ],
         "type": "heatmap",
         "x": [
          "Monday",
          "Tuesday",
          "Wednesday",
          "Thursday",
          "Friday",
          "Saturday",
          "Sunday"
         ],
         "y": [
          "September",
          "August",
          "July",
          "June",
          "May",
          "April",
          "March",
          "February",
          "January",
          "December"
         ],
         "z": [
          [
           12094,
           10553,
           9670.25,
           13618,
           19286.2,
           15613,
           18753.5
          ],
          [
           5553,
           9287.8,
           7531.2,
           6836.75,
           9030.25,
           9958.75,
           8683.25
          ],
          [
           9833.75,
           4765.75,
           6270.25,
           4934.75,
           4335.25,
           3513.75,
           7892
          ],
          [
           2671.5,
           8031,
           7743,
           4407,
           2707,
           114,
           8479
          ],
          [
           8114.5,
           7805.75,
           6426,
           5751.25,
           11135.6,
           8554.2,
           7835.2
          ],
          [
           14909,
           10322.5,
           19388.2,
           11088.4,
           11109.5,
           9950,
           16181.5
          ],
          [
           12922.75,
           6656.8,
           6838.4,
           11720.8,
           7812,
           9427.5,
           8802
          ],
          [
           10435,
           5655.2,
           4542.5,
           8378.5,
           5643.5,
           8416.25,
           10146.6
          ],
          [
           null,
           null,
           null,
           6801,
           null,
           null,
           null
          ]
         ]
        },
        {
         "colorscale": [
          [
           0,
           "rgb(255,255,229)"
          ],
          [
           0.125,
           "rgb(247,252,185)"
          ],
          [
           0.25,
           "rgb(217,240,163)"
          ],
          [
           0.375,
           "rgb(173,221,142)"
          ],
          [
           0.5,
           "rgb(120,198,121)"
          ],
          [
           0.625,
           "rgb(65,171,93)"
          ],
          [
           0.75,
           "rgb(35,132,67)"
          ],
          [
           0.875,
           "rgb(0,104,55)"
          ],
          [
           1,
           "rgb(0,69,41)"
          ]
         ],
         "type": "heatmap",
         "x": [
          "Monday",
          "Tuesday",
          "Wednesday",
          "Thursday",
          "Friday",
          "Saturday",
          "Sunday"
         ],
         "y": [
          "September",
          "August",
          "July",
          "June",
          "May",
          "April",
          "March",
          "February",
          "January",
          "December"
         ],
         "z": [
          [
           10243.5,
           8720.999999999998,
           5995.499999999998,
           6903.749999999999,
           5696.6,
           7791.200000000003,
           7929.500000000001
          ],
          [
           8686.883987669213,
           9450.12747394163,
           7550.279212377628,
           8485.436107250229,
           7898.106904593166,
           8378.47437394026,
           8491.439947746769
          ],
          [
           9257,
           8700.999999999998,
           7807.25,
           10086.75,
           6874.25,
           7688.5,
           6260.500000000001
          ],
          [
           8500.199999999999,
           6502.499999999999,
           9078.750000000004,
           8070.250000000003,
           8779.249999999998,
           7615,
           4329.199999999999
          ],
          [
           8594,
           7890.500000000002,
           7644.500000000002,
           6649.5,
           7085,
           7990.2,
           6401.4
          ],
          [
           7593.249999999998,
           6367.249999999998,
           8275.399999999998,
           9020.000000000004,
           6177.499999999999,
           6969.25,
           6753.500000000002
          ],
          [
           7677.249999999998,
           7421.8,
           8128.399999999999,
           8143.000000000002,
           7929.999999999996,
           10579.750000000002,
           7128.749999999999
          ],
          [
           7716.4,
           7144.000000000003,
           8800,
           8538.249999999996,
           7138.499999999997,
           9224,
           4594.399999999999
          ],
          [
           11202.792653085056,
           6757.0305415331895,
           7863.519654666039,
           6916.000000000003,
           5181.442223476135,
           8974.6253221152,
           7371.573737682476
          ]
         ]
        },
        {
         "colorscale": [
          [
           0,
           "rgb(255,255,229)"
          ],
          [
           0.125,
           "rgb(247,252,185)"
          ],
          [
           0.25,
           "rgb(217,240,163)"
          ],
          [
           0.375,
           "rgb(173,221,142)"
          ],
          [
           0.5,
           "rgb(120,198,121)"
          ],
          [
           0.625,
           "rgb(65,171,93)"
          ],
          [
           0.75,
           "rgb(35,132,67)"
          ],
          [
           0.875,
           "rgb(0,104,55)"
          ],
          [
           1,
           "rgb(0,69,41)"
          ]
         ],
         "type": "heatmap",
         "x": [
          "Monday",
          "Tuesday",
          "Wednesday",
          "Thursday",
          "Friday",
          "Saturday",
          "Sunday"
         ],
         "y": [
          "September",
          "August",
          "July",
          "June",
          "May",
          "April",
          "March",
          "February",
          "January",
          "December"
         ],
         "z": [
          [
           8302.500000000002,
           7621.75,
           7479.749999999998,
           9831.75,
           8692.000000000004,
           10765.999999999996,
           7976.250000000004
          ],
          [
           10719.000000000004,
           8688.199999999999,
           9847.400000000003,
           7401,
           7460.750000000001,
           13404.25,
           9659.999999999996
          ],
          [
           8402.249999999996,
           8139.250000000001,
           9488.499999999996,
           8681.750000000002,
           8147.749999999999,
           10874.499999999998,
           7537.749999999998
          ],
          [
           6015.000000000001,
           7087.749999999996,
           7762.999999999998,
           7245.999999999999,
           6857.500000000002,
           6753.600000000001,
           6829.8
          ],
          [
           8215.75,
           9640.5,
           9008.000000000002,
           6972.750000000001,
           8556.000000000004,
           7651.799999999997,
           9894.599999999999
          ],
          [
           9623.249999999998,
           5366.75,
           7340.6,
           7557,
           6204,
           9269.000000000002,
           7342.499999999997
          ],
          [
           8132.499999999998,
           8092.600000000003,
           10326.2,
           9284,
           5031.25,
           9610.249999999998,
           8647.5
          ],
          [
           8904.399999999998,
           9662.599999999999,
           10462.749999999998,
           9300.750000000002,
           10384.000000000002,
           9251.499999999996,
           9883.2
          ],
          [
           4587.499999999996,
           12427.999999999995,
           22769,
           11566.499999999996,
           13723.000000000004,
           10393.000000000002,
           8656.5
          ]
         ]
        }
       ],
       "layout": {
        "template": {
         "data": {
          "bar": [
           {
            "error_x": {
             "color": "#2a3f5f"
            },
            "error_y": {
             "color": "#2a3f5f"
            },
            "marker": {
             "line": {
              "color": "#E5ECF6",
              "width": 0.5
             },
             "pattern": {
              "fillmode": "overlay",
              "size": 10,
              "solidity": 0.2
             }
            },
            "type": "bar"
           }
          ],
          "barpolar": [
           {
            "marker": {
             "line": {
              "color": "#E5ECF6",
              "width": 0.5
             },
             "pattern": {
              "fillmode": "overlay",
              "size": 10,
              "solidity": 0.2
             }
            },
            "type": "barpolar"
           }
          ],
          "carpet": [
           {
            "aaxis": {
             "endlinecolor": "#2a3f5f",
             "gridcolor": "white",
             "linecolor": "white",
             "minorgridcolor": "white",
             "startlinecolor": "#2a3f5f"
            },
            "baxis": {
             "endlinecolor": "#2a3f5f",
             "gridcolor": "white",
             "linecolor": "white",
             "minorgridcolor": "white",
             "startlinecolor": "#2a3f5f"
            },
            "type": "carpet"
           }
          ],
          "choropleth": [
           {
            "colorbar": {
             "outlinewidth": 0,
             "ticks": ""
            },
            "type": "choropleth"
           }
          ],
          "contour": [
           {
            "colorbar": {
             "outlinewidth": 0,
             "ticks": ""
            },
            "colorscale": [
             [
              0,
              "#0d0887"
             ],
             [
              0.1111111111111111,
              "#46039f"
             ],
             [
              0.2222222222222222,
              "#7201a8"
             ],
             [
              0.3333333333333333,
              "#9c179e"
             ],
             [
              0.4444444444444444,
              "#bd3786"
             ],
             [
              0.5555555555555556,
              "#d8576b"
             ],
             [
              0.6666666666666666,
              "#ed7953"
             ],
             [
              0.7777777777777778,
              "#fb9f3a"
             ],
             [
              0.8888888888888888,
              "#fdca26"
             ],
             [
              1,
              "#f0f921"
             ]
            ],
            "type": "contour"
           }
          ],
          "contourcarpet": [
           {
            "colorbar": {
             "outlinewidth": 0,
             "ticks": ""
            },
            "type": "contourcarpet"
           }
          ],
          "heatmap": [
           {
            "colorbar": {
             "outlinewidth": 0,
             "ticks": ""
            },
            "colorscale": [
             [
              0,
              "#0d0887"
             ],
             [
              0.1111111111111111,
              "#46039f"
             ],
             [
              0.2222222222222222,
              "#7201a8"
             ],
             [
              0.3333333333333333,
              "#9c179e"
             ],
             [
              0.4444444444444444,
              "#bd3786"
             ],
             [
              0.5555555555555556,
              "#d8576b"
             ],
             [
              0.6666666666666666,
              "#ed7953"
             ],
             [
              0.7777777777777778,
              "#fb9f3a"
             ],
             [
              0.8888888888888888,
              "#fdca26"
             ],
             [
              1,
              "#f0f921"
             ]
            ],
            "type": "heatmap"
           }
          ],
          "heatmapgl": [
           {
            "colorbar": {
             "outlinewidth": 0,
             "ticks": ""
            },
            "colorscale": [
             [
              0,
              "#0d0887"
             ],
             [
              0.1111111111111111,
              "#46039f"
             ],
             [
              0.2222222222222222,
              "#7201a8"
             ],
             [
              0.3333333333333333,
              "#9c179e"
             ],
             [
              0.4444444444444444,
              "#bd3786"
             ],
             [
              0.5555555555555556,
              "#d8576b"
             ],
             [
              0.6666666666666666,
              "#ed7953"
             ],
             [
              0.7777777777777778,
              "#fb9f3a"
             ],
             [
              0.8888888888888888,
              "#fdca26"
             ],
             [
              1,
              "#f0f921"
             ]
            ],
            "type": "heatmapgl"
           }
          ],
          "histogram": [
           {
            "marker": {
             "pattern": {
              "fillmode": "overlay",
              "size": 10,
              "solidity": 0.2
             }
            },
            "type": "histogram"
           }
          ],
          "histogram2d": [
           {
            "colorbar": {
             "outlinewidth": 0,
             "ticks": ""
            },
            "colorscale": [
             [
              0,
              "#0d0887"
             ],
             [
              0.1111111111111111,
              "#46039f"
             ],
             [
              0.2222222222222222,
              "#7201a8"
             ],
             [
              0.3333333333333333,
              "#9c179e"
             ],
             [
              0.4444444444444444,
              "#bd3786"
             ],
             [
              0.5555555555555556,
              "#d8576b"
             ],
             [
              0.6666666666666666,
              "#ed7953"
             ],
             [
              0.7777777777777778,
              "#fb9f3a"
             ],
             [
              0.8888888888888888,
              "#fdca26"
             ],
             [
              1,
              "#f0f921"
             ]
            ],
            "type": "histogram2d"
           }
          ],
          "histogram2dcontour": [
           {
            "colorbar": {
             "outlinewidth": 0,
             "ticks": ""
            },
            "colorscale": [
             [
              0,
              "#0d0887"
             ],
             [
              0.1111111111111111,
              "#46039f"
             ],
             [
              0.2222222222222222,
              "#7201a8"
             ],
             [
              0.3333333333333333,
              "#9c179e"
             ],
             [
              0.4444444444444444,
              "#bd3786"
             ],
             [
              0.5555555555555556,
              "#d8576b"
             ],
             [
              0.6666666666666666,
              "#ed7953"
             ],
             [
              0.7777777777777778,
              "#fb9f3a"
             ],
             [
              0.8888888888888888,
              "#fdca26"
             ],
             [
              1,
              "#f0f921"
             ]
            ],
            "type": "histogram2dcontour"
           }
          ],
          "mesh3d": [
           {
            "colorbar": {
             "outlinewidth": 0,
             "ticks": ""
            },
            "type": "mesh3d"
           }
          ],
          "parcoords": [
           {
            "line": {
             "colorbar": {
              "outlinewidth": 0,
              "ticks": ""
             }
            },
            "type": "parcoords"
           }
          ],
          "pie": [
           {
            "automargin": true,
            "type": "pie"
           }
          ],
          "scatter": [
           {
            "fillpattern": {
             "fillmode": "overlay",
             "size": 10,
             "solidity": 0.2
            },
            "type": "scatter"
           }
          ],
          "scatter3d": [
           {
            "line": {
             "colorbar": {
              "outlinewidth": 0,
              "ticks": ""
             }
            },
            "marker": {
             "colorbar": {
              "outlinewidth": 0,
              "ticks": ""
             }
            },
            "type": "scatter3d"
           }
          ],
          "scattercarpet": [
           {
            "marker": {
             "colorbar": {
              "outlinewidth": 0,
              "ticks": ""
             }
            },
            "type": "scattercarpet"
           }
          ],
          "scattergeo": [
           {
            "marker": {
             "colorbar": {
              "outlinewidth": 0,
              "ticks": ""
             }
            },
            "type": "scattergeo"
           }
          ],
          "scattergl": [
           {
            "marker": {
             "colorbar": {
              "outlinewidth": 0,
              "ticks": ""
             }
            },
            "type": "scattergl"
           }
          ],
          "scattermapbox": [
           {
            "marker": {
             "colorbar": {
              "outlinewidth": 0,
              "ticks": ""
             }
            },
            "type": "scattermapbox"
           }
          ],
          "scatterpolar": [
           {
            "marker": {
             "colorbar": {
              "outlinewidth": 0,
              "ticks": ""
             }
            },
            "type": "scatterpolar"
           }
          ],
          "scatterpolargl": [
           {
            "marker": {
             "colorbar": {
              "outlinewidth": 0,
              "ticks": ""
             }
            },
            "type": "scatterpolargl"
           }
          ],
          "scatterternary": [
           {
            "marker": {
             "colorbar": {
              "outlinewidth": 0,
              "ticks": ""
             }
            },
            "type": "scatterternary"
           }
          ],
          "surface": [
           {
            "colorbar": {
             "outlinewidth": 0,
             "ticks": ""
            },
            "colorscale": [
             [
              0,
              "#0d0887"
             ],
             [
              0.1111111111111111,
              "#46039f"
             ],
             [
              0.2222222222222222,
              "#7201a8"
             ],
             [
              0.3333333333333333,
              "#9c179e"
             ],
             [
              0.4444444444444444,
              "#bd3786"
             ],
             [
              0.5555555555555556,
              "#d8576b"
             ],
             [
              0.6666666666666666,
              "#ed7953"
             ],
             [
              0.7777777777777778,
              "#fb9f3a"
             ],
             [
              0.8888888888888888,
              "#fdca26"
             ],
             [
              1,
              "#f0f921"
             ]
            ],
            "type": "surface"
           }
          ],
          "table": [
           {
            "cells": {
             "fill": {
              "color": "#EBF0F8"
             },
             "line": {
              "color": "white"
             }
            },
            "header": {
             "fill": {
              "color": "#C8D4E3"
             },
             "line": {
              "color": "white"
             }
            },
            "type": "table"
           }
          ]
         },
         "layout": {
          "annotationdefaults": {
           "arrowcolor": "#2a3f5f",
           "arrowhead": 0,
           "arrowwidth": 1
          },
          "autotypenumbers": "strict",
          "coloraxis": {
           "colorbar": {
            "outlinewidth": 0,
            "ticks": ""
           }
          },
          "colorscale": {
           "diverging": [
            [
             0,
             "#8e0152"
            ],
            [
             0.1,
             "#c51b7d"
            ],
            [
             0.2,
             "#de77ae"
            ],
            [
             0.3,
             "#f1b6da"
            ],
            [
             0.4,
             "#fde0ef"
            ],
            [
             0.5,
             "#f7f7f7"
            ],
            [
             0.6,
             "#e6f5d0"
            ],
            [
             0.7,
             "#b8e186"
            ],
            [
             0.8,
             "#7fbc41"
            ],
            [
             0.9,
             "#4d9221"
            ],
            [
             1,
             "#276419"
            ]
           ],
           "sequential": [
            [
             0,
             "#0d0887"
            ],
            [
             0.1111111111111111,
             "#46039f"
            ],
            [
             0.2222222222222222,
             "#7201a8"
            ],
            [
             0.3333333333333333,
             "#9c179e"
            ],
            [
             0.4444444444444444,
             "#bd3786"
            ],
            [
             0.5555555555555556,
             "#d8576b"
            ],
            [
             0.6666666666666666,
             "#ed7953"
            ],
            [
             0.7777777777777778,
             "#fb9f3a"
            ],
            [
             0.8888888888888888,
             "#fdca26"
            ],
            [
             1,
             "#f0f921"
            ]
           ],
           "sequentialminus": [
            [
             0,
             "#0d0887"
            ],
            [
             0.1111111111111111,
             "#46039f"
            ],
            [
             0.2222222222222222,
             "#7201a8"
            ],
            [
             0.3333333333333333,
             "#9c179e"
            ],
            [
             0.4444444444444444,
             "#bd3786"
            ],
            [
             0.5555555555555556,
             "#d8576b"
            ],
            [
             0.6666666666666666,
             "#ed7953"
            ],
            [
             0.7777777777777778,
             "#fb9f3a"
            ],
            [
             0.8888888888888888,
             "#fdca26"
            ],
            [
             1,
             "#f0f921"
            ]
           ]
          },
          "colorway": [
           "#636efa",
           "#EF553B",
           "#00cc96",
           "#ab63fa",
           "#FFA15A",
           "#19d3f3",
           "#FF6692",
           "#B6E880",
           "#FF97FF",
           "#FECB52"
          ],
          "font": {
           "color": "#2a3f5f"
          },
          "geo": {
           "bgcolor": "white",
           "lakecolor": "white",
           "landcolor": "#E5ECF6",
           "showlakes": true,
           "showland": true,
           "subunitcolor": "white"
          },
          "hoverlabel": {
           "align": "left"
          },
          "hovermode": "closest",
          "mapbox": {
           "style": "light"
          },
          "paper_bgcolor": "white",
          "plot_bgcolor": "#E5ECF6",
          "polar": {
           "angularaxis": {
            "gridcolor": "white",
            "linecolor": "white",
            "ticks": ""
           },
           "bgcolor": "#E5ECF6",
           "radialaxis": {
            "gridcolor": "white",
            "linecolor": "white",
            "ticks": ""
           }
          },
          "scene": {
           "xaxis": {
            "backgroundcolor": "#E5ECF6",
            "gridcolor": "white",
            "gridwidth": 2,
            "linecolor": "white",
            "showbackground": true,
            "ticks": "",
            "zerolinecolor": "white"
           },
           "yaxis": {
            "backgroundcolor": "#E5ECF6",
            "gridcolor": "white",
            "gridwidth": 2,
            "linecolor": "white",
            "showbackground": true,
            "ticks": "",
            "zerolinecolor": "white"
           },
           "zaxis": {
            "backgroundcolor": "#E5ECF6",
            "gridcolor": "white",
            "gridwidth": 2,
            "linecolor": "white",
            "showbackground": true,
            "ticks": "",
            "zerolinecolor": "white"
           }
          },
          "shapedefaults": {
           "line": {
            "color": "#2a3f5f"
           }
          },
          "ternary": {
           "aaxis": {
            "gridcolor": "white",
            "linecolor": "white",
            "ticks": ""
           },
           "baxis": {
            "gridcolor": "white",
            "linecolor": "white",
            "ticks": ""
           },
           "bgcolor": "#E5ECF6",
           "caxis": {
            "gridcolor": "white",
            "linecolor": "white",
            "ticks": ""
           }
          },
          "title": {
           "x": 0.05
          },
          "xaxis": {
           "automargin": true,
           "gridcolor": "white",
           "linecolor": "white",
           "ticks": "",
           "title": {
            "standoff": 15
           },
           "zerolinecolor": "white",
           "zerolinewidth": 2
          },
          "yaxis": {
           "automargin": true,
           "gridcolor": "white",
           "linecolor": "white",
           "ticks": "",
           "title": {
            "standoff": 15
           },
           "zerolinecolor": "white",
           "zerolinewidth": 2
          }
         }
        },
        "updatemenus": [
         {
          "active": 0,
          "buttons": [
           {
            "args": [
             {
              "visible": [
               true,
               false,
               false,
               false,
               false,
               false,
               false
              ]
             },
             {
              "title": "Monthly Average Step count:"
             }
            ],
            "label": "Participant 1",
            "method": "update"
           },
           {
            "args": [
             {
              "visible": [
               false,
               true,
               false,
               false,
               false,
               false,
               false
              ]
             },
             {
              "title": "Monthly Average Step count:"
             }
            ],
            "label": "Participant 2",
            "method": "update"
           },
           {
            "args": [
             {
              "visible": [
               false,
               false,
               true,
               false,
               false,
               false,
               false
              ]
             },
             {
              "title": "Monthly Average Step count"
             }
            ],
            "label": "Participant 3",
            "method": "update"
           },
           {
            "args": [
             {
              "visible": [
               false,
               false,
               false,
               true,
               false,
               false,
               false
              ]
             },
             {
              "title": "Monthly Average Step count"
             }
            ],
            "label": "Participant 4",
            "method": "update"
           },
           {
            "args": [
             {
              "visible": [
               false,
               false,
               false,
               false,
               true,
               false,
               false
              ]
             },
             {
              "title": "Monthly Average Step count"
             }
            ],
            "label": "Participant 5",
            "method": "update"
           },
           {
            "args": [
             {
              "visible": [
               false,
               false,
               false,
               false,
               false,
               true,
               false
              ]
             },
             {
              "title": "Monthly Average Step count"
             }
            ],
            "label": "Participant 7",
            "method": "update"
           },
           {
            "args": [
             {
              "visible": [
               false,
               false,
               false,
               false,
               false,
               false,
               true
              ]
             },
             {
              "title": "Monthly Average Step count"
             }
            ],
            "label": "Participant 8",
            "method": "update"
           }
          ]
         }
        ]
       }
      },
      "text/html": [
       "<div>                            <div id=\"5bb4ff54-15dc-48fe-968d-2912db89bd34\" class=\"plotly-graph-div\" style=\"height:525px; width:100%;\"></div>            <script type=\"text/javascript\">                require([\"plotly\"], function(Plotly) {                    window.PLOTLYENV=window.PLOTLYENV || {};                                    if (document.getElementById(\"5bb4ff54-15dc-48fe-968d-2912db89bd34\")) {                    Plotly.newPlot(                        \"5bb4ff54-15dc-48fe-968d-2912db89bd34\",                        [{\"colorscale\":[[0.0,\"rgb(255,255,229)\"],[0.125,\"rgb(247,252,185)\"],[0.25,\"rgb(217,240,163)\"],[0.375,\"rgb(173,221,142)\"],[0.5,\"rgb(120,198,121)\"],[0.625,\"rgb(65,171,93)\"],[0.75,\"rgb(35,132,67)\"],[0.875,\"rgb(0,104,55)\"],[1.0,\"rgb(0,69,41)\"]],\"x\":[\"Monday\",\"Tuesday\",\"Wednesday\",\"Thursday\",\"Friday\",\"Saturday\",\"Sunday\"],\"y\":[\"September\",\"August\",\"July\",\"June\",\"May\",\"April\",\"March\",\"February\",\"January\",\"December\"],\"z\":[[null,null,null,null,0.0,null,null],[10857.8,6980.25,10929.518766811489,11580.980146167365,14456.000000000004,11611.0,7861.200000000002],[6703.000000000001,7612.999999999996,11269.499999999996,10439.75,6454.731257749722,6410.999999999998,10231.912911939926],[8610.749999999996,7056.105313393593,7248.0,6705.600000000001,7792.333313206256,8402.783425700785,9954.249999999998],[8870.25,7242.7057126918035,7941.434563819201,6326.352389428903,7152.199999999997,6826.212647961334,8238.25],[5124.199999999999,9920.099179864472,9790.329678212343,5801.500000000002,5597.25,8039.326457380743,5651.538834095406],[10567.750000000002,13040.849577303692,10237.399999999998,10701.2,7527.999999999998,8842.953701944265,9252.499999999996],[9114.249999999995,8879.0,10510.203342210523,7866.546657789477,8515.399999999998,5762.800000000002,7615.600000000001],[7944.38368863179,7433.6,10793.814890496618,8466.25,8322.249999999998,12042.94740740351,9234.5],[null,null,null,14604.000000000004,1574.000000000002,null,null]],\"type\":\"heatmap\"},{\"colorscale\":[[0.0,\"rgb(255,255,229)\"],[0.125,\"rgb(247,252,185)\"],[0.25,\"rgb(217,240,163)\"],[0.375,\"rgb(173,221,142)\"],[0.5,\"rgb(120,198,121)\"],[0.625,\"rgb(65,171,93)\"],[0.75,\"rgb(35,132,67)\"],[0.875,\"rgb(0,104,55)\"],[1.0,\"rgb(0,69,41)\"]],\"x\":[\"Monday\",\"Tuesday\",\"Wednesday\",\"Thursday\",\"Friday\",\"Saturday\",\"Sunday\"],\"y\":[\"September\",\"August\",\"July\",\"June\",\"May\",\"April\",\"March\",\"February\",\"January\",\"December\"],\"z\":[[6928.0,7936.75,7587.0,4698.25,5026.8,5791.4,6072.25],[4940.0,6250.2,8708.8,5546.75,8864.75,8323.25,6318.0],[null,null,null,null,36.0,null,null],[6213.0,5923.5,6401.75,7531.75,4996.25,4984.0,7015.75],[8009.2,5585.0,7278.0,9064.75,8593.75,9745.6,7378.6],[6748.0,4643.75,7042.5,7512.0,6863.8,5355.6,5084.4],[8242.75,11171.25,9015.2,9643.2,4671.75,5090.75,5550.5],[7560.25,6802.8,5509.0,6127.8,7255.5,7466.0,7586.75],[4444.4,8266.6,6437.0,6188.25,4386.25,7064.5,5247.0],[null,null,null,6803.0,null,null,null]],\"type\":\"heatmap\"},{\"colorscale\":[[0.0,\"rgb(255,255,229)\"],[0.125,\"rgb(247,252,185)\"],[0.25,\"rgb(217,240,163)\"],[0.375,\"rgb(173,221,142)\"],[0.5,\"rgb(120,198,121)\"],[0.625,\"rgb(65,171,93)\"],[0.75,\"rgb(35,132,67)\"],[0.875,\"rgb(0,104,55)\"],[1.0,\"rgb(0,69,41)\"]],\"x\":[\"Monday\",\"Tuesday\",\"Wednesday\",\"Thursday\",\"Friday\",\"Saturday\",\"Sunday\"],\"y\":[\"September\",\"August\",\"July\",\"June\",\"May\",\"April\",\"March\",\"February\",\"January\",\"December\"],\"z\":[[1102.0,4380.666666626667,7209.499999875,4253.749999925,3067.5999999799997,3679.000000156,4313.6666666833335],[8815.599999827999,8390.799999879999,6021.500000155,10789.000000248334,7654.000000266667,5430.25,5996.500000149999],[4570.999999975,2733.0,11521.99999893,4449.0,674.0,8770.9999998,9169.00000053],[5985.24999981525,6815.2499999075,10712.24999978,8768.333333683333,10975.666666446667,6588.666667040001,5254.500000149999],[3646.7500001,3426.6666665,1803.0000001,416.0,1919.25000018,3560.1999998961996,6147.8],[5686.33333347,3815.9999998999997,5938.250000025,3707.9999999975,4249.799999897999,4557.2000001016,4417.249999850001],[7822.2500002,3571.50000006325,7190.599999928801,7108.2000001060005,5787.000000133333,7913.333333369999,2818.3333334036665],[2648.9999999945,4883.80000002,7263.400000023999,7851.25000005,6656.666666810001,6822.666666900001,3830.5000001],[8000.799999824,7372.49999986,11724.333333366667,12776.000000040001,4897.49999994,1242.249999995,5044.199999840801],[9374.0000001,3936.500000035,9367.9999998,9467.999999399999,97.0,8045.00000081,3966.9999999],[13390.999999599999,647.9999999910001,7418.9999996,733.0,3814.99999996,3510.49999965,10649.999999],[6560.0,426.0,4034.0000001000003,6209.499999935,10759.0,1231.0,8682.9999996]],\"type\":\"heatmap\"},{\"colorscale\":[[0.0,\"rgb(255,255,229)\"],[0.125,\"rgb(247,252,185)\"],[0.25,\"rgb(217,240,163)\"],[0.375,\"rgb(173,221,142)\"],[0.5,\"rgb(120,198,121)\"],[0.625,\"rgb(65,171,93)\"],[0.75,\"rgb(35,132,67)\"],[0.875,\"rgb(0,104,55)\"],[1.0,\"rgb(0,69,41)\"]],\"x\":[\"Monday\",\"Tuesday\",\"Wednesday\",\"Thursday\",\"Friday\",\"Saturday\",\"Sunday\"],\"y\":[\"September\",\"August\",\"July\",\"June\",\"May\",\"April\",\"March\",\"February\",\"January\",\"December\"],\"z\":[[10412.30273561292,12729.270832786446,5937.893565611134,12708.909285440392,9986.86256314055,25594.13875092369,10311.79307303123],[12451.600000000002,6795.193762478241,9459.4,11477.033075858393,6911.155227364591,20130.281331951664,8514.928079044506],[7605.942090395482,12065.947035124453,7625.194541462162,14734.094051601907,6475.944177583213,23611.75,7053.118892734517],[7797.029482846189,10823.224478006236,6814.4638766352555,10346.75,9741.280565003803,18471.199999999997,9908.566700883133],[14469.30155264075,10753.144085492928,12524.54049477457,8018.6290761567725,12081.044646295162,17957.458754826424,10866.806064542227],[4361.5,8430.75,7674.585069837029,11615.581108174549,8597.0,24095.16021450792,6424.999999999998],[8021.64108174515,13557.618879784375,9612.781429611152,10212.199999999997,7767.142178072952,20530.50798023549,11592.807513490687],[5631.325847517334,12168.999999999998,11751.30114248249,12147.178800021165,11124.631726562005,25483.52862810981,9812.275049735901],[8598.0,14000.000000000002,10517.000000000002,14790.0,6061.001770988241,18080.0,6273.361038157697]],\"type\":\"heatmap\"},{\"colorscale\":[[0.0,\"rgb(255,255,229)\"],[0.125,\"rgb(247,252,185)\"],[0.25,\"rgb(217,240,163)\"],[0.375,\"rgb(173,221,142)\"],[0.5,\"rgb(120,198,121)\"],[0.625,\"rgb(65,171,93)\"],[0.75,\"rgb(35,132,67)\"],[0.875,\"rgb(0,104,55)\"],[1.0,\"rgb(0,69,41)\"]],\"x\":[\"Monday\",\"Tuesday\",\"Wednesday\",\"Thursday\",\"Friday\",\"Saturday\",\"Sunday\"],\"y\":[\"September\",\"August\",\"July\",\"June\",\"May\",\"April\",\"March\",\"February\",\"January\",\"December\"],\"z\":[[12094.0,10553.0,9670.25,13618.0,19286.2,15613.0,18753.5],[5553.0,9287.8,7531.2,6836.75,9030.25,9958.75,8683.25],[9833.75,4765.75,6270.25,4934.75,4335.25,3513.75,7892.0],[2671.5,8031.0,7743.0,4407.0,2707.0,114.0,8479.0],[8114.5,7805.75,6426.0,5751.25,11135.6,8554.2,7835.2],[14909.0,10322.5,19388.2,11088.4,11109.5,9950.0,16181.5],[12922.75,6656.8,6838.4,11720.8,7812.0,9427.5,8802.0],[10435.0,5655.2,4542.5,8378.5,5643.5,8416.25,10146.6],[null,null,null,6801.0,null,null,null]],\"type\":\"heatmap\"},{\"colorscale\":[[0.0,\"rgb(255,255,229)\"],[0.125,\"rgb(247,252,185)\"],[0.25,\"rgb(217,240,163)\"],[0.375,\"rgb(173,221,142)\"],[0.5,\"rgb(120,198,121)\"],[0.625,\"rgb(65,171,93)\"],[0.75,\"rgb(35,132,67)\"],[0.875,\"rgb(0,104,55)\"],[1.0,\"rgb(0,69,41)\"]],\"x\":[\"Monday\",\"Tuesday\",\"Wednesday\",\"Thursday\",\"Friday\",\"Saturday\",\"Sunday\"],\"y\":[\"September\",\"August\",\"July\",\"June\",\"May\",\"April\",\"March\",\"February\",\"January\",\"December\"],\"z\":[[10243.5,8720.999999999998,5995.499999999998,6903.749999999999,5696.6,7791.200000000003,7929.500000000001],[8686.883987669213,9450.12747394163,7550.279212377628,8485.436107250229,7898.106904593166,8378.47437394026,8491.439947746769],[9257.0,8700.999999999998,7807.25,10086.75,6874.25,7688.5,6260.500000000001],[8500.199999999999,6502.499999999999,9078.750000000004,8070.250000000003,8779.249999999998,7615.0,4329.199999999999],[8594.0,7890.500000000002,7644.500000000002,6649.5,7085.0,7990.2,6401.4],[7593.249999999998,6367.249999999998,8275.399999999998,9020.000000000004,6177.499999999999,6969.25,6753.500000000002],[7677.249999999998,7421.8,8128.399999999999,8143.000000000002,7929.999999999996,10579.750000000002,7128.749999999999],[7716.4,7144.000000000003,8800.0,8538.249999999996,7138.499999999997,9224.0,4594.399999999999],[11202.792653085056,6757.0305415331895,7863.519654666039,6916.000000000003,5181.442223476135,8974.6253221152,7371.573737682476]],\"type\":\"heatmap\"},{\"colorscale\":[[0.0,\"rgb(255,255,229)\"],[0.125,\"rgb(247,252,185)\"],[0.25,\"rgb(217,240,163)\"],[0.375,\"rgb(173,221,142)\"],[0.5,\"rgb(120,198,121)\"],[0.625,\"rgb(65,171,93)\"],[0.75,\"rgb(35,132,67)\"],[0.875,\"rgb(0,104,55)\"],[1.0,\"rgb(0,69,41)\"]],\"x\":[\"Monday\",\"Tuesday\",\"Wednesday\",\"Thursday\",\"Friday\",\"Saturday\",\"Sunday\"],\"y\":[\"September\",\"August\",\"July\",\"June\",\"May\",\"April\",\"March\",\"February\",\"January\",\"December\"],\"z\":[[8302.500000000002,7621.75,7479.749999999998,9831.75,8692.000000000004,10765.999999999996,7976.250000000004],[10719.000000000004,8688.199999999999,9847.400000000003,7401.0,7460.750000000001,13404.25,9659.999999999996],[8402.249999999996,8139.250000000001,9488.499999999996,8681.750000000002,8147.749999999999,10874.499999999998,7537.749999999998],[6015.000000000001,7087.749999999996,7762.999999999998,7245.999999999999,6857.500000000002,6753.600000000001,6829.8],[8215.75,9640.5,9008.000000000002,6972.750000000001,8556.000000000004,7651.799999999997,9894.599999999999],[9623.249999999998,5366.75,7340.6,7557.0,6204.0,9269.000000000002,7342.499999999997],[8132.499999999998,8092.600000000003,10326.2,9284.0,5031.25,9610.249999999998,8647.5],[8904.399999999998,9662.599999999999,10462.749999999998,9300.750000000002,10384.000000000002,9251.499999999996,9883.2],[4587.499999999996,12427.999999999995,22769.0,11566.499999999996,13723.000000000004,10393.000000000002,8656.5]],\"type\":\"heatmap\"}],                        {\"template\":{\"data\":{\"histogram2dcontour\":[{\"type\":\"histogram2dcontour\",\"colorbar\":{\"outlinewidth\":0,\"ticks\":\"\"},\"colorscale\":[[0.0,\"#0d0887\"],[0.1111111111111111,\"#46039f\"],[0.2222222222222222,\"#7201a8\"],[0.3333333333333333,\"#9c179e\"],[0.4444444444444444,\"#bd3786\"],[0.5555555555555556,\"#d8576b\"],[0.6666666666666666,\"#ed7953\"],[0.7777777777777778,\"#fb9f3a\"],[0.8888888888888888,\"#fdca26\"],[1.0,\"#f0f921\"]]}],\"choropleth\":[{\"type\":\"choropleth\",\"colorbar\":{\"outlinewidth\":0,\"ticks\":\"\"}}],\"histogram2d\":[{\"type\":\"histogram2d\",\"colorbar\":{\"outlinewidth\":0,\"ticks\":\"\"},\"colorscale\":[[0.0,\"#0d0887\"],[0.1111111111111111,\"#46039f\"],[0.2222222222222222,\"#7201a8\"],[0.3333333333333333,\"#9c179e\"],[0.4444444444444444,\"#bd3786\"],[0.5555555555555556,\"#d8576b\"],[0.6666666666666666,\"#ed7953\"],[0.7777777777777778,\"#fb9f3a\"],[0.8888888888888888,\"#fdca26\"],[1.0,\"#f0f921\"]]}],\"heatmap\":[{\"type\":\"heatmap\",\"colorbar\":{\"outlinewidth\":0,\"ticks\":\"\"},\"colorscale\":[[0.0,\"#0d0887\"],[0.1111111111111111,\"#46039f\"],[0.2222222222222222,\"#7201a8\"],[0.3333333333333333,\"#9c179e\"],[0.4444444444444444,\"#bd3786\"],[0.5555555555555556,\"#d8576b\"],[0.6666666666666666,\"#ed7953\"],[0.7777777777777778,\"#fb9f3a\"],[0.8888888888888888,\"#fdca26\"],[1.0,\"#f0f921\"]]}],\"heatmapgl\":[{\"type\":\"heatmapgl\",\"colorbar\":{\"outlinewidth\":0,\"ticks\":\"\"},\"colorscale\":[[0.0,\"#0d0887\"],[0.1111111111111111,\"#46039f\"],[0.2222222222222222,\"#7201a8\"],[0.3333333333333333,\"#9c179e\"],[0.4444444444444444,\"#bd3786\"],[0.5555555555555556,\"#d8576b\"],[0.6666666666666666,\"#ed7953\"],[0.7777777777777778,\"#fb9f3a\"],[0.8888888888888888,\"#fdca26\"],[1.0,\"#f0f921\"]]}],\"contourcarpet\":[{\"type\":\"contourcarpet\",\"colorbar\":{\"outlinewidth\":0,\"ticks\":\"\"}}],\"contour\":[{\"type\":\"contour\",\"colorbar\":{\"outlinewidth\":0,\"ticks\":\"\"},\"colorscale\":[[0.0,\"#0d0887\"],[0.1111111111111111,\"#46039f\"],[0.2222222222222222,\"#7201a8\"],[0.3333333333333333,\"#9c179e\"],[0.4444444444444444,\"#bd3786\"],[0.5555555555555556,\"#d8576b\"],[0.6666666666666666,\"#ed7953\"],[0.7777777777777778,\"#fb9f3a\"],[0.8888888888888888,\"#fdca26\"],[1.0,\"#f0f921\"]]}],\"surface\":[{\"type\":\"surface\",\"colorbar\":{\"outlinewidth\":0,\"ticks\":\"\"},\"colorscale\":[[0.0,\"#0d0887\"],[0.1111111111111111,\"#46039f\"],[0.2222222222222222,\"#7201a8\"],[0.3333333333333333,\"#9c179e\"],[0.4444444444444444,\"#bd3786\"],[0.5555555555555556,\"#d8576b\"],[0.6666666666666666,\"#ed7953\"],[0.7777777777777778,\"#fb9f3a\"],[0.8888888888888888,\"#fdca26\"],[1.0,\"#f0f921\"]]}],\"mesh3d\":[{\"type\":\"mesh3d\",\"colorbar\":{\"outlinewidth\":0,\"ticks\":\"\"}}],\"scatter\":[{\"fillpattern\":{\"fillmode\":\"overlay\",\"size\":10,\"solidity\":0.2},\"type\":\"scatter\"}],\"parcoords\":[{\"type\":\"parcoords\",\"line\":{\"colorbar\":{\"outlinewidth\":0,\"ticks\":\"\"}}}],\"scatterpolargl\":[{\"type\":\"scatterpolargl\",\"marker\":{\"colorbar\":{\"outlinewidth\":0,\"ticks\":\"\"}}}],\"bar\":[{\"error_x\":{\"color\":\"#2a3f5f\"},\"error_y\":{\"color\":\"#2a3f5f\"},\"marker\":{\"line\":{\"color\":\"#E5ECF6\",\"width\":0.5},\"pattern\":{\"fillmode\":\"overlay\",\"size\":10,\"solidity\":0.2}},\"type\":\"bar\"}],\"scattergeo\":[{\"type\":\"scattergeo\",\"marker\":{\"colorbar\":{\"outlinewidth\":0,\"ticks\":\"\"}}}],\"scatterpolar\":[{\"type\":\"scatterpolar\",\"marker\":{\"colorbar\":{\"outlinewidth\":0,\"ticks\":\"\"}}}],\"histogram\":[{\"marker\":{\"pattern\":{\"fillmode\":\"overlay\",\"size\":10,\"solidity\":0.2}},\"type\":\"histogram\"}],\"scattergl\":[{\"type\":\"scattergl\",\"marker\":{\"colorbar\":{\"outlinewidth\":0,\"ticks\":\"\"}}}],\"scatter3d\":[{\"type\":\"scatter3d\",\"line\":{\"colorbar\":{\"outlinewidth\":0,\"ticks\":\"\"}},\"marker\":{\"colorbar\":{\"outlinewidth\":0,\"ticks\":\"\"}}}],\"scattermapbox\":[{\"type\":\"scattermapbox\",\"marker\":{\"colorbar\":{\"outlinewidth\":0,\"ticks\":\"\"}}}],\"scatterternary\":[{\"type\":\"scatterternary\",\"marker\":{\"colorbar\":{\"outlinewidth\":0,\"ticks\":\"\"}}}],\"scattercarpet\":[{\"type\":\"scattercarpet\",\"marker\":{\"colorbar\":{\"outlinewidth\":0,\"ticks\":\"\"}}}],\"carpet\":[{\"aaxis\":{\"endlinecolor\":\"#2a3f5f\",\"gridcolor\":\"white\",\"linecolor\":\"white\",\"minorgridcolor\":\"white\",\"startlinecolor\":\"#2a3f5f\"},\"baxis\":{\"endlinecolor\":\"#2a3f5f\",\"gridcolor\":\"white\",\"linecolor\":\"white\",\"minorgridcolor\":\"white\",\"startlinecolor\":\"#2a3f5f\"},\"type\":\"carpet\"}],\"table\":[{\"cells\":{\"fill\":{\"color\":\"#EBF0F8\"},\"line\":{\"color\":\"white\"}},\"header\":{\"fill\":{\"color\":\"#C8D4E3\"},\"line\":{\"color\":\"white\"}},\"type\":\"table\"}],\"barpolar\":[{\"marker\":{\"line\":{\"color\":\"#E5ECF6\",\"width\":0.5},\"pattern\":{\"fillmode\":\"overlay\",\"size\":10,\"solidity\":0.2}},\"type\":\"barpolar\"}],\"pie\":[{\"automargin\":true,\"type\":\"pie\"}]},\"layout\":{\"autotypenumbers\":\"strict\",\"colorway\":[\"#636efa\",\"#EF553B\",\"#00cc96\",\"#ab63fa\",\"#FFA15A\",\"#19d3f3\",\"#FF6692\",\"#B6E880\",\"#FF97FF\",\"#FECB52\"],\"font\":{\"color\":\"#2a3f5f\"},\"hovermode\":\"closest\",\"hoverlabel\":{\"align\":\"left\"},\"paper_bgcolor\":\"white\",\"plot_bgcolor\":\"#E5ECF6\",\"polar\":{\"bgcolor\":\"#E5ECF6\",\"angularaxis\":{\"gridcolor\":\"white\",\"linecolor\":\"white\",\"ticks\":\"\"},\"radialaxis\":{\"gridcolor\":\"white\",\"linecolor\":\"white\",\"ticks\":\"\"}},\"ternary\":{\"bgcolor\":\"#E5ECF6\",\"aaxis\":{\"gridcolor\":\"white\",\"linecolor\":\"white\",\"ticks\":\"\"},\"baxis\":{\"gridcolor\":\"white\",\"linecolor\":\"white\",\"ticks\":\"\"},\"caxis\":{\"gridcolor\":\"white\",\"linecolor\":\"white\",\"ticks\":\"\"}},\"coloraxis\":{\"colorbar\":{\"outlinewidth\":0,\"ticks\":\"\"}},\"colorscale\":{\"sequential\":[[0.0,\"#0d0887\"],[0.1111111111111111,\"#46039f\"],[0.2222222222222222,\"#7201a8\"],[0.3333333333333333,\"#9c179e\"],[0.4444444444444444,\"#bd3786\"],[0.5555555555555556,\"#d8576b\"],[0.6666666666666666,\"#ed7953\"],[0.7777777777777778,\"#fb9f3a\"],[0.8888888888888888,\"#fdca26\"],[1.0,\"#f0f921\"]],\"sequentialminus\":[[0.0,\"#0d0887\"],[0.1111111111111111,\"#46039f\"],[0.2222222222222222,\"#7201a8\"],[0.3333333333333333,\"#9c179e\"],[0.4444444444444444,\"#bd3786\"],[0.5555555555555556,\"#d8576b\"],[0.6666666666666666,\"#ed7953\"],[0.7777777777777778,\"#fb9f3a\"],[0.8888888888888888,\"#fdca26\"],[1.0,\"#f0f921\"]],\"diverging\":[[0,\"#8e0152\"],[0.1,\"#c51b7d\"],[0.2,\"#de77ae\"],[0.3,\"#f1b6da\"],[0.4,\"#fde0ef\"],[0.5,\"#f7f7f7\"],[0.6,\"#e6f5d0\"],[0.7,\"#b8e186\"],[0.8,\"#7fbc41\"],[0.9,\"#4d9221\"],[1,\"#276419\"]]},\"xaxis\":{\"gridcolor\":\"white\",\"linecolor\":\"white\",\"ticks\":\"\",\"title\":{\"standoff\":15},\"zerolinecolor\":\"white\",\"automargin\":true,\"zerolinewidth\":2},\"yaxis\":{\"gridcolor\":\"white\",\"linecolor\":\"white\",\"ticks\":\"\",\"title\":{\"standoff\":15},\"zerolinecolor\":\"white\",\"automargin\":true,\"zerolinewidth\":2},\"scene\":{\"xaxis\":{\"backgroundcolor\":\"#E5ECF6\",\"gridcolor\":\"white\",\"linecolor\":\"white\",\"showbackground\":true,\"ticks\":\"\",\"zerolinecolor\":\"white\",\"gridwidth\":2},\"yaxis\":{\"backgroundcolor\":\"#E5ECF6\",\"gridcolor\":\"white\",\"linecolor\":\"white\",\"showbackground\":true,\"ticks\":\"\",\"zerolinecolor\":\"white\",\"gridwidth\":2},\"zaxis\":{\"backgroundcolor\":\"#E5ECF6\",\"gridcolor\":\"white\",\"linecolor\":\"white\",\"showbackground\":true,\"ticks\":\"\",\"zerolinecolor\":\"white\",\"gridwidth\":2}},\"shapedefaults\":{\"line\":{\"color\":\"#2a3f5f\"}},\"annotationdefaults\":{\"arrowcolor\":\"#2a3f5f\",\"arrowhead\":0,\"arrowwidth\":1},\"geo\":{\"bgcolor\":\"white\",\"landcolor\":\"#E5ECF6\",\"subunitcolor\":\"white\",\"showland\":true,\"showlakes\":true,\"lakecolor\":\"white\"},\"title\":{\"x\":0.05},\"mapbox\":{\"style\":\"light\"}}},\"updatemenus\":[{\"active\":0,\"buttons\":[{\"args\":[{\"visible\":[true,false,false,false,false,false,false]},{\"title\":\"Monthly Average Step count:\"}],\"label\":\"Participant 1\",\"method\":\"update\"},{\"args\":[{\"visible\":[false,true,false,false,false,false,false]},{\"title\":\"Monthly Average Step count:\"}],\"label\":\"Participant 2\",\"method\":\"update\"},{\"args\":[{\"visible\":[false,false,true,false,false,false,false]},{\"title\":\"Monthly Average Step count\"}],\"label\":\"Participant 3\",\"method\":\"update\"},{\"args\":[{\"visible\":[false,false,false,true,false,false,false]},{\"title\":\"Monthly Average Step count\"}],\"label\":\"Participant 4\",\"method\":\"update\"},{\"args\":[{\"visible\":[false,false,false,false,true,false,false]},{\"title\":\"Monthly Average Step count\"}],\"label\":\"Participant 5\",\"method\":\"update\"},{\"args\":[{\"visible\":[false,false,false,false,false,true,false]},{\"title\":\"Monthly Average Step count\"}],\"label\":\"Participant 7\",\"method\":\"update\"},{\"args\":[{\"visible\":[false,false,false,false,false,false,true]},{\"title\":\"Monthly Average Step count\"}],\"label\":\"Participant 8\",\"method\":\"update\"}]}]},                        {\"responsive\": true}                    ).then(function(){\n",
       "                            \n",
       "var gd = document.getElementById('5bb4ff54-15dc-48fe-968d-2912db89bd34');\n",
       "var x = new MutationObserver(function (mutations, observer) {{\n",
       "        var display = window.getComputedStyle(gd).display;\n",
       "        if (!display || display === 'none') {{\n",
       "            console.log([gd, 'removed!']);\n",
       "            Plotly.purge(gd);\n",
       "            observer.disconnect();\n",
       "        }}\n",
       "}});\n",
       "\n",
       "// Listen for the removal of the full notebook cells\n",
       "var notebookContainer = gd.closest('#notebook-container');\n",
       "if (notebookContainer) {{\n",
       "    x.observe(notebookContainer, {childList: true});\n",
       "}}\n",
       "\n",
       "// Listen for the clearing of the current output cell\n",
       "var outputEl = gd.closest('.output');\n",
       "if (outputEl) {{\n",
       "    x.observe(outputEl, {childList: true});\n",
       "}}\n",
       "\n",
       "                        })                };                });            </script>        </div>"
      ]
     },
     "metadata": {},
     "output_type": "display_data"
    }
   ],
   "source": [
    "# create figure\n",
    "fig = go.Figure()\n",
    "\n",
    "hm = day.groupby(['Month','WeekDay']).agg({'Steps': 'mean'}).reset_index()\n",
    "hm = hm.pivot(\"Month\", \"WeekDay\", \"Steps\")\n",
    "# Add surface trace\n",
    "fig.add_trace(go.Heatmap(x=['Monday', 'Tuesday', 'Wednesday', 'Thursday', 'Friday','Saturday','Sunday'],y=['September','August','July','June','May','April','March','February','January','December'],z=hm, colorscale=\"YlGn\"))\n",
    "\n",
    "hm2 = day2.groupby(['Month','WeekDay']).agg({'Steps': 'mean'}).reset_index()\n",
    "hm2 = hm2.pivot(\"Month\", \"WeekDay\", \"Steps\")\n",
    "# Add surface trace\n",
    "fig.add_trace(go.Heatmap(x=['Monday', 'Tuesday', 'Wednesday', 'Thursday', 'Friday','Saturday','Sunday'],y=['September','August','July','June','May','April','March','February','January','December'],z=hm2, colorscale=\"YlGn\"))\n",
    "\n",
    "\n",
    "hm3 = day3.groupby(['Month','WeekDay']).agg({'Steps': 'mean'}).reset_index()\n",
    "hm3 = hm3.pivot(\"Month\", \"WeekDay\", \"Steps\")\n",
    "# Add surface trace\n",
    "fig.add_trace(go.Heatmap(x=['Monday', 'Tuesday', 'Wednesday', 'Thursday', 'Friday','Saturday','Sunday'],y=['September','August','July','June','May','April','March','February','January','December'],z=hm3, colorscale=\"YlGn\"))\n",
    "\n",
    "hm4 = day4.groupby(['Month','WeekDay']).agg({'Steps': 'mean'}).reset_index()\n",
    "hm4 = hm4.pivot(\"Month\", \"WeekDay\", \"Steps\")\n",
    "# Add surface trace\n",
    "fig.add_trace(go.Heatmap(x=['Monday', 'Tuesday', 'Wednesday', 'Thursday', 'Friday','Saturday','Sunday'],y=['September','August','July','June','May','April','March','February','January','December'],z=hm4, colorscale=\"YlGn\"))\n",
    "\n",
    "hm5 = day5.groupby(['Month','WeekDay']).agg({'Steps': 'mean'}).reset_index()\n",
    "hm5 = hm5.pivot(\"Month\", \"WeekDay\", \"Steps\")\n",
    "# Add surface trace\n",
    "fig.add_trace(go.Heatmap(x=['Monday', 'Tuesday', 'Wednesday', 'Thursday', 'Friday','Saturday','Sunday'],y=['September','August','July','June','May','April','March','February','January','December'],z=hm5, colorscale=\"YlGn\"))\n",
    "\n",
    "hm7 = day7.groupby(['Month','WeekDay']).agg({'Steps': 'mean'}).reset_index()\n",
    "hm7 = hm7.pivot(\"Month\", \"WeekDay\", \"Steps\")\n",
    "# Add surface trace\n",
    "fig.add_trace(go.Heatmap(x=['Monday', 'Tuesday', 'Wednesday', 'Thursday', 'Friday','Saturday','Sunday'],y=['September','August','July','June','May','April','March','February','January','December'],z=hm7, colorscale=\"YlGn\"))\n",
    "\n",
    "hm8 = day8.groupby(['Month','WeekDay']).agg({'Steps': 'mean'}).reset_index()\n",
    "hm8 = hm8.pivot(\"Month\", \"WeekDay\", \"Steps\")\n",
    "# Add surface trace\n",
    "fig.add_trace(go.Heatmap(x=['Monday', 'Tuesday', 'Wednesday', 'Thursday', 'Friday','Saturday','Sunday'],y=['September','August','July','June','May','April','March','February','January','December'],z=hm8, colorscale=\"YlGn\"))\n",
    "\n",
    "# fig.show()\n",
    "fig.update_layout(\n",
    "    updatemenus=[\n",
    "        dict(\n",
    "            active=0,\n",
    "            buttons=list([\n",
    "                dict(label=\"Participant 1\",\n",
    "                     method=\"update\",\n",
    "                     args=[{\"visible\": [True, False, False, False, False, False, False]},\n",
    "                           {\"title\": \"Monthly Average Step count:\"}]),\n",
    "                dict(label=\"Participant 2\",\n",
    "                     method=\"update\",\n",
    "                     args=[{\"visible\": [False, True, False, False,False, False, False]},\n",
    "                           {\"title\": \"Monthly Average Step count:\"}]),\n",
    "                dict(label=\"Participant 3\",\n",
    "                     method=\"update\",\n",
    "                     args=[{\"visible\": [False, False, True, False,False, False, False]},\n",
    "                           {\"title\": \"Monthly Average Step count\"}]),\n",
    "                dict(label=\"Participant 4\",\n",
    "                     method=\"update\",\n",
    "                     args=[{\"visible\": [False, False, False, True, False, False, False]},\n",
    "                           {\"title\": \"Monthly Average Step count\"}]),\n",
    "                dict(label=\"Participant 5\",\n",
    "                     method=\"update\",\n",
    "                     args=[{\"visible\": [False, False, False, False, True,False,False]},\n",
    "                           {\"title\": \"Monthly Average Step count\"}]),\n",
    "                dict(label=\"Participant 7\",\n",
    "                     method=\"update\",\n",
    "                     args=[{\"visible\": [False, False, False, False, False, True, False]},\n",
    "                           {\"title\": \"Monthly Average Step count\"}]),\n",
    "                dict(label=\"Participant 8\",\n",
    "                     method=\"update\",\n",
    "                     args=[{\"visible\": [False, False, False, False, False, False,True]},\n",
    "                           {\"title\": \"Monthly Average Step count\"}])\n",
    "                \n",
    "            ]),\n",
    "        )\n",
    "    ])\n"
   ]
  },
  {
   "cell_type": "markdown",
   "id": "cdcaf04e",
   "metadata": {},
   "source": [
    "### What are the trends for different times of day across the week?"
   ]
  },
  {
   "cell_type": "markdown",
   "id": "adf02ef7",
   "metadata": {},
   "source": [
    "**Hypothesis**: I anticipate that most participants's step counts will typically peak in the morning as they commute to work/university or go for a morning run. I expect there will be another peak around lunchtime and the amount of step counts will wane towards the end of the day.  "
   ]
  },
  {
   "cell_type": "markdown",
   "id": "8dbcc13d",
   "metadata": {},
   "source": [
    "For each participant, I will create an \"hour\" column to represent the starting time that the step counts for each hour was recorded."
   ]
  },
  {
   "cell_type": "code",
   "execution_count": 36,
   "id": "9f240b25",
   "metadata": {},
   "outputs": [],
   "source": [
    "# Author: Emily\n",
    "# 24/10/22\n",
    "p1['Hour'] = p1['Start'].dt.hour\n",
    "p3['Hour'] = p3['Start'].dt.hour\n",
    "p4['Hour'] = p4['Start'].dt.hour\n",
    "p7['Hour'] = p7['Start'].dt.hour\n",
    "p8['Hour'] = p8['Start'].dt.hour"
   ]
  },
  {
   "cell_type": "markdown",
   "id": "88e1769e",
   "metadata": {},
   "source": [
    "These hours have been further broken down into the different times of day categorised as follows:\n",
    "* \"night\" represents the period between the hours of 0 to 5 inclusive\n",
    "* \"morning\" represents the period between the hours of 6 to 11 inclusive\n",
    "* \"afternoon\" represents the period between the hours of 12 to 17 inclusive\n",
    "* \"evening\" represents the period between the hours of 18 to 23 inclusive\n",
    "    "
   ]
  },
  {
   "cell_type": "markdown",
   "id": "ff874449",
   "metadata": {},
   "source": [
    "The following plot shows the distribution of step counts for the different times of days across the week."
   ]
  },
  {
   "cell_type": "code",
   "execution_count": 121,
   "id": "d7780af7",
   "metadata": {},
   "outputs": [
    {
     "data": {
      "image/png": "[encoded data removed]",
      "text/plain": [
       "<Figure size 863.95x432 with 7 Axes>"
      ]
     },
     "metadata": {},
     "output_type": "display_data"
    }
   ],
   "source": [
    "# Authors: Amelia, Emily\n",
    "# 19/10/22 - 29/10/22\n",
    "\"\"\"Function that outputs an ecdf plot for any given participant\n",
    "    parameters: \n",
    "        df: a dataframe of the format p#, \n",
    "        where # is a number between 1 and 8 inclusive (not including 6)\n",
    "            \n",
    "\"\"\"\n",
    "def graphHour(df):\n",
    "    df[\"time of day\"] = pd.qcut(df[\"Hour\"], 4, labels = [\"night\", \"morning\", \"afternoon\", \"evening\"])\n",
    "    sns.set(style=\"darkgrid\") \n",
    "    plot = sns.displot(\n",
    "        data=df, y=\"Steps\", hue=\"time of day\", col='WeekDay', col_wrap = 4,\n",
    "        kind=\"ecdf\", height=3, aspect=.9, palette=\"cubehelix\"\n",
    "    )\n",
    "    \n",
    "    plot.set_axis_labels(\"Percentile (%)\") # set x labels\n",
    "    \"\"\"change number of sig figs for percentiles to be 1, \n",
    "    as the decimal representation (3 sig figs) unnecessarily shows too many zeroes\n",
    "    when this level of detail is not needed and can be overwhelming visually.\n",
    "    The percentage representation looks a lot less cluttered and makes the plot\n",
    "    easier to interpret.\n",
    "    \"\"\"\n",
    "    plot.set_xticklabels(['0','25','50','75','100'])\n",
    "    # write the caption\n",
    "    plt.figtext(0.5,10**-10, \"To interpret the ecdf plot, compare the percentile \"\n",
    "    + \"against the steps to see the distribution\" +\n",
    "    \" of step counts at any given point in time.\", ha=\"center\", va=\"center\", \n",
    "    fontsize=18, bbox={\"facecolor\":\"#1cdac4\", \"alpha\":0.5})\n",
    "\n",
    "graphHour(p7)"
   ]
  },
  {
   "cell_type": "markdown",
   "id": "1842a0d3",
   "metadata": {},
   "source": [
    "Using participant 7 as an example, we can see that this participant is most noticeably most active on Sunday afternoons, followed by Thursday mornings. Although there are higher step counts recorded on Saturday afternoons and Tuesday mornings, they seem to account for a smaller proportion of step counts. Other than these observations, the trends appear to be fairly consistent throughout the week."
   ]
  },
  {
   "cell_type": "markdown",
   "id": "96cda340",
   "metadata": {},
   "source": [
    "The ecdf plot contains lots of information that may be hard to absorb. The following heatmap uses colour to convey levels of fitness activity throughout the day, which may be better for a quick overview. "
   ]
  },
  {
   "cell_type": "code",
   "execution_count": 1,
   "id": "f0bb03d8",
   "metadata": {},
   "outputs": [
    {
     "ename": "NameError",
     "evalue": "name 'p1' is not defined",
     "output_type": "error",
     "traceback": [
      "\u001b[1;31m---------------------------------------------------------------------------\u001b[0m",
      "\u001b[1;31mNameError\u001b[0m                                 Traceback (most recent call last)",
      "Input \u001b[1;32mIn [1]\u001b[0m, in \u001b[0;36m<cell line: 36>\u001b[1;34m()\u001b[0m\n\u001b[0;32m     30\u001b[0m     \u001b[38;5;66;03m# write the caption\u001b[39;00m\n\u001b[0;32m     31\u001b[0m     plt\u001b[38;5;241m.\u001b[39mfigtext(\u001b[38;5;241m0.5\u001b[39m,\u001b[38;5;241m10\u001b[39m\u001b[38;5;241m*\u001b[39m\u001b[38;5;241m*\u001b[39m\u001b[38;5;241m-\u001b[39m\u001b[38;5;241m10\u001b[39m, \u001b[38;5;124m\"\u001b[39m\u001b[38;5;124mThe mean step counts taken at any given time \u001b[39m\u001b[38;5;124m\"\u001b[39m \u001b[38;5;241m+\u001b[39m \n\u001b[0;32m     32\u001b[0m     \u001b[38;5;124m\"\u001b[39m\u001b[38;5;124mis indicated by the intensity of colour,\u001b[39m\u001b[38;5;124m\"\u001b[39m \u001b[38;5;241m+\u001b[39m\n\u001b[0;32m     33\u001b[0m     \u001b[38;5;124m\"\u001b[39m\u001b[38;5;124m where warmer colours represent higher step counts\u001b[39m\u001b[38;5;124m\"\u001b[39m, ha\u001b[38;5;241m=\u001b[39m\u001b[38;5;124m\"\u001b[39m\u001b[38;5;124mcenter\u001b[39m\u001b[38;5;124m\"\u001b[39m, va\u001b[38;5;241m=\u001b[39m\u001b[38;5;124m\"\u001b[39m\u001b[38;5;124mcenter\u001b[39m\u001b[38;5;124m\"\u001b[39m, fontsize\u001b[38;5;241m=\u001b[39m\u001b[38;5;241m12\u001b[39m, \n\u001b[0;32m     34\u001b[0m     bbox\u001b[38;5;241m=\u001b[39m{\u001b[38;5;124m\"\u001b[39m\u001b[38;5;124mfacecolor\u001b[39m\u001b[38;5;124m\"\u001b[39m:\u001b[38;5;124m\"\u001b[39m\u001b[38;5;124m#1cdac4\u001b[39m\u001b[38;5;124m\"\u001b[39m, \u001b[38;5;124m\"\u001b[39m\u001b[38;5;124malpha\u001b[39m\u001b[38;5;124m\"\u001b[39m:\u001b[38;5;241m0.5\u001b[39m})\n\u001b[1;32m---> 36\u001b[0m graphHour3(\u001b[43mp1\u001b[49m)\n",
      "\u001b[1;31mNameError\u001b[0m: name 'p1' is not defined"
     ]
    }
   ],
   "source": [
    "# Authors: Amelia, Emily\n",
    "# 19/10/22 - 29/10/22\n",
    "\"\"\"Function that outputs a heatmap for any given participant\n",
    "    parameters: \n",
    "        df: a dataframe of the format p#, \n",
    "        where # is a number between 1 and 8 inclusive (not including 6)\n",
    "            \n",
    "\"\"\"\n",
    "def graphHour3(df):\n",
    "    df[\"time of day\"] = pd.qcut(df[\"Hour\"], 4, labels = [\"night\", \"morning\", \"afternoon\", \"evening\"])\n",
    "    # obtain the mean step counts for each hour of each day of the week\n",
    "    hour_dow_count = df.groupby(['time of day','WeekDay']).agg({'Steps': 'mean'}).reset_index()\n",
    "    # change the format such that each cell contains a step count value\n",
    "    hour_dow_count = hour_dow_count.pivot(\"time of day\", \"WeekDay\", \"Steps\")\n",
    "    # change the order of the days of the week\n",
    "    hour_dow_count = hour_dow_count.reindex(\n",
    "        columns = [\n",
    "        'Monday',\n",
    "        'Tuesday',\n",
    "        'Wednesday',\n",
    "        'Thursday',\n",
    "        'Friday',\n",
    "        'Saturday',\n",
    "        'Sunday'])\n",
    "    # plot the heatmap\n",
    "    hmap = sns.heatmap(hour_dow_count, cmap=\"coolwarm\")\n",
    "    # add label to colorbar\n",
    "    cb = hmap.collections[0].colorbar\n",
    "    cb.set_label('Steps (average)', labelpad=20)\n",
    "    # write the caption\n",
    "    plt.figtext(0.5,10**-10, \"The mean step counts taken at any given time \" + \n",
    "    \"is indicated by the intensity of colour,\" +\n",
    "    \" where warmer colours represent higher step counts\", ha=\"center\", va=\"center\", fontsize=12, \n",
    "    bbox={\"facecolor\":\"#1cdac4\", \"alpha\":0.5})\n",
    "    \n",
    "graphHour3(p1)"
   ]
  },
  {
   "cell_type": "markdown",
   "id": "ceed7a46",
   "metadata": {},
   "source": [
    "Using participant 1 as an example, they are most active on Sunday afternoons and consistently average high step counts in the afternoon across the week. The mornings are generally unpredictable and evenings typically have lower step counts."
   ]
  },
  {
   "cell_type": "markdown",
   "id": "df52cdb5",
   "metadata": {},
   "source": [
    "**Results:** I predicted that most participants are active in the mornings: this turned out not to be the case. The afternoons tend to have more step count activity. While nights are the most inactive period for most, there were some participants that recorded their highest step counts during this time. This could be due to these participants being in a different time zone or working late-night shifts. Overall, the most active times of day seem to be largely dependent on the individual and it is hard to make a blanket statement about the participants' activity levels across different times of day."
   ]
  },
  {
   "cell_type": "markdown",
   "id": "ec52964f",
   "metadata": {},
   "source": [
    "### Step Count Correlation with Weather"
   ]
  },
  {
   "cell_type": "code",
   "execution_count": 39,
   "id": "b6d7c851",
   "metadata": {},
   "outputs": [
    {
     "data": {
      "image/png": "[encoded data removed]",
      "text/plain": [
       "<Figure size 720x360 with 1 Axes>"
      ]
     },
     "metadata": {},
     "output_type": "display_data"
    }
   ],
   "source": [
    "def graphsuncorr(df):\n",
    "    test = pd.merge(df,sun[['Daily global solar exposure (MJ/m*m)','Date']],on='Date', how='left')\n",
    "    t2 = test.groupby(['WeekDay','Week']).agg({'Steps':'mean','Daily global solar exposure (MJ/m*m)':'mean'}).reset_index()\n",
    "    cor = {}\n",
    "    m = t2.loc[t2['WeekDay']=='Monday']\n",
    "    t = t2.loc[t2['WeekDay']=='Tuesday']\n",
    "    w = t2.loc[t2['WeekDay']=='Wednesday']\n",
    "    th = t2.loc[t2['WeekDay']=='Thursday']\n",
    "    f = t2.loc[t2['WeekDay']=='Friday']\n",
    "    s = t2.loc[t2['WeekDay']=='Saturday']\n",
    "    sn = t2.loc[t2['WeekDay']=='Sunday']\n",
    "\n",
    "    cor['Monday'] = m['Steps'].corr(m['Daily global solar exposure (MJ/m*m)'])\n",
    "    cor['Tuesday'] = t['Steps'].corr(t['Daily global solar exposure (MJ/m*m)'])\n",
    "    cor['Wednesday'] = w['Steps'].corr(w['Daily global solar exposure (MJ/m*m)'])\n",
    "    cor['Thursday'] = th['Steps'].corr(th['Daily global solar exposure (MJ/m*m)'])\n",
    "    cor['Friday'] = f['Steps'].corr(f['Daily global solar exposure (MJ/m*m)'])\n",
    "    cor['Saturday'] = s['Steps'].corr(s['Daily global solar exposure (MJ/m*m)'])\n",
    "    cor['Sunday'] = sn['Steps'].corr(sn['Daily global solar exposure (MJ/m*m)'])\n",
    "\n",
    "\n",
    "    plt.rcParams[\"figure.figsize\"] = (10,5)\n",
    "    plt.bar(range(len(cor)), list(cor.values()), align='center')\n",
    "    plt.xticks(range(len(cor)), list(cor.keys()))\n",
    "    plt.xlabel('Days of the Week') \n",
    "    plt.ylabel('Correlation coefficient') \n",
    "    plt.title(\"Correlation between Step Count and Sun Exposure\")\n",
    "    plt.show()\n",
    "    \n",
    "# use day# to get correlation graph for participant    \n",
    "graphsuncorr(day)"
   ]
  },
  {
   "cell_type": "code",
   "execution_count": 40,
   "id": "348f3af0",
   "metadata": {},
   "outputs": [
    {
     "data": {
      "image/png": "[encoded data removed]",
      "text/plain": [
       "<Figure size 720x360 with 1 Axes>"
      ]
     },
     "metadata": {},
     "output_type": "display_data"
    }
   ],
   "source": [
    "def graphrfcorr(df):\n",
    "    test = pd.merge(df,sydrain[['Rainfall amount (millimetres)','Date']],on='Date', how='left')\n",
    "    t2 = test.groupby(['WeekDay','Week']).agg({'Steps':'mean','Rainfall amount (millimetres)':'mean'}).reset_index()\n",
    "    cor = {}\n",
    "    m = t2.loc[t2['WeekDay']=='Monday']\n",
    "    t = t2.loc[t2['WeekDay']=='Tuesday']\n",
    "    w = t2.loc[t2['WeekDay']=='Wednesday']\n",
    "    th = t2.loc[t2['WeekDay']=='Thursday']\n",
    "    f = t2.loc[t2['WeekDay']=='Friday']\n",
    "    s = t2.loc[t2['WeekDay']=='Saturday']\n",
    "    sn = t2.loc[t2['WeekDay']=='Sunday']\n",
    "\n",
    "    cor['Monday'] = m['Steps'].corr(m['Rainfall amount (millimetres)'])\n",
    "    cor['Tuesday'] = t['Steps'].corr(t['Rainfall amount (millimetres)'])\n",
    "    cor['Wednesday'] = w['Steps'].corr(w['Rainfall amount (millimetres)'])\n",
    "    cor['Thursday'] = th['Steps'].corr(th['Rainfall amount (millimetres)'])\n",
    "    cor['Friday'] = f['Steps'].corr(f['Rainfall amount (millimetres)'])\n",
    "    cor['Saturday'] = s['Steps'].corr(s['Rainfall amount (millimetres)'])\n",
    "    cor['Sunday'] = sn['Steps'].corr(sn['Rainfall amount (millimetres)'])\n",
    "\n",
    "\n",
    "    plt.rcParams[\"figure.figsize\"] = (10,5)\n",
    "    plt.bar(range(len(cor)), list(cor.values()), align='center')\n",
    "    plt.xticks(range(len(cor)), list(cor.keys()))\n",
    "    plt.xlabel('Days of the Week') \n",
    "    plt.ylabel('Correlation coefficient') \n",
    "    plt.title(\"Correlation between Step Count and Rainfall\")\n",
    "    plt.show()\n",
    "    \n",
    "# use day# to get correlation graph for participant    \n",
    "graphrfcorr(day7)"
   ]
  },
  {
   "cell_type": "markdown",
   "id": "09d9e500",
   "metadata": {},
   "source": [
    "### How frequently does the participant reaches the recommended 7,500 and 10,000-step goal?"
   ]
  },
  {
   "cell_type": "code",
   "execution_count": 41,
   "id": "f2b61114",
   "metadata": {},
   "outputs": [
    {
     "ename": "NameError",
     "evalue": "name 'weekdays' is not defined",
     "output_type": "error",
     "traceback": [
      "\u001b[1;31m---------------------------------------------------------------------------\u001b[0m",
      "\u001b[1;31mNameError\u001b[0m                                 Traceback (most recent call last)",
      "Input \u001b[1;32mIn [41]\u001b[0m, in \u001b[0;36m<cell line: 30>\u001b[1;34m()\u001b[0m\n\u001b[0;32m     27\u001b[0m     plt\u001b[38;5;241m.\u001b[39mlegend()\n\u001b[0;32m     28\u001b[0m     plt\u001b[38;5;241m.\u001b[39mshow()\n\u001b[1;32m---> 30\u001b[0m \u001b[43mplot_weekday_patterns\u001b[49m\u001b[43m(\u001b[49m\u001b[43mdaily_sums_p1\u001b[49m\u001b[43m,\u001b[49m\u001b[43m \u001b[49m\u001b[38;5;124;43m'\u001b[39;49m\u001b[38;5;124;43mP1\u001b[39;49m\u001b[38;5;124;43m'\u001b[39;49m\u001b[43m)\u001b[49m\n",
      "Input \u001b[1;32mIn [41]\u001b[0m, in \u001b[0;36mplot_weekday_patterns\u001b[1;34m(daily_sums, suffix)\u001b[0m\n\u001b[0;32m     24\u001b[0m ax\u001b[38;5;241m.\u001b[39mset(frame_on\u001b[38;5;241m=\u001b[39m\u001b[38;5;28;01mFalse\u001b[39;00m)\n\u001b[0;32m     25\u001b[0m plt\u001b[38;5;241m.\u001b[39mtitle(\u001b[38;5;124mf\u001b[39m\u001b[38;5;124m'\u001b[39m\u001b[38;5;124mPercentage of days that participant reached goal - \u001b[39m\u001b[38;5;132;01m{\u001b[39;00msuffix\u001b[38;5;132;01m}\u001b[39;00m\u001b[38;5;124m'\u001b[39m)\n\u001b[1;32m---> 26\u001b[0m plt\u001b[38;5;241m.\u001b[39mxticks(x, labels\u001b[38;5;241m=\u001b[39m\u001b[43mweekdays\u001b[49m)\n\u001b[0;32m     27\u001b[0m plt\u001b[38;5;241m.\u001b[39mlegend()\n\u001b[0;32m     28\u001b[0m plt\u001b[38;5;241m.\u001b[39mshow()\n",
      "\u001b[1;31mNameError\u001b[0m: name 'weekdays' is not defined"
     ]
    },
    {
     "data": {
      "image/png": "[encoded data removed]",
      "text/plain": [
       "<Figure size 720x360 with 1 Axes>"
      ]
     },
     "metadata": {},
     "output_type": "display_data"
    }
   ],
   "source": [
    "daily_sums_p1 = p1.groupby('Date').agg({'Steps':'sum','WeekDay':'first'}).reset_index()\n",
    "daily_sums_p2 = p2.groupby('Date').agg({'Steps':'sum','WeekDay':'first'}).reset_index()\n",
    "daily_sums_p3 = p3.groupby('Date').agg({'Steps':'sum','WeekDay':'first'}).reset_index()\n",
    "daily_sums_p4 = p4.groupby('Date').agg({'Steps':'sum','WeekDay':'first'}).reset_index()\n",
    "daily_sums_p5 = p5.groupby('Date').agg({'Steps':'sum','WeekDay':'first'}).reset_index()\n",
    "daily_sums_p7 = p7.groupby('Date').agg({'Steps':'sum','WeekDay':'first'}).reset_index()\n",
    "daily_sums_p8 = p8.groupby('Date').agg({'Steps':'sum','WeekDay':'first'}).reset_index()\n",
    "\n",
    "def plot_weekday_patterns(daily_sums, suffix):\n",
    "    num_weekday_days = daily_sums.groupby('WeekDay').size()\n",
    "    p_days_7500 = daily_sums[daily_sums['Steps'] > 7500].groupby('WeekDay').size() / num_weekday_days * 100\n",
    "    p_days_10000 = daily_sums[daily_sums['Steps'] > 10000].groupby('WeekDay').size() / num_weekday_days * 100\n",
    "\n",
    "    x = np.arange(7)\n",
    "    width = 0.4\n",
    "\n",
    "    fig, ax = plt.subplots()\n",
    "\n",
    "    bar_7500 = ax.bar(x - width / 2, p_days_7500, width=width, color='#E6BA7E', label='>7,500')\n",
    "    ax.bar_label(bar_7500, fmt='%d')\n",
    "    bar_10000 = ax.bar(x + width / 2, p_days_10000, width=width, color='#FA8D3E', label='>10,000')\n",
    "    ax.bar_label(bar_10000, fmt='%d')\n",
    "\n",
    "    ax.set(frame_on=False)\n",
    "    plt.title(f'Percentage of days that participant reached goal - {suffix}')\n",
    "    plt.xticks(x, labels=weekdays)\n",
    "    plt.legend()\n",
    "    plt.show()\n",
    "\n",
    "plot_weekday_patterns(daily_sums_p1, 'P1')"
   ]
  },
  {
   "cell_type": "markdown",
   "id": "21e9dd54",
   "metadata": {},
   "source": [
    "### What is the composition of activity for days of the week?"
   ]
  },
  {
   "cell_type": "code",
   "execution_count": null,
   "id": "1fb0371f",
   "metadata": {},
   "outputs": [],
   "source": [
    "def sub_q(df):\n",
    "    df = df.groupby('Date').agg({'Steps':'sum','WeekDay':'first'}).reset_index()\n",
    "    # df = df.assign(Health_index = lambda x: (x['Steps']))\n",
    "    df.loc[df['Steps'] < 10000,'Step_index'] = '5k-10k'\n",
    "    df.loc[df['Steps'] < 5000,'Step_index'] = '<5k'\n",
    "    df.loc[df['Steps'] > 10000,'Step_index'] = '>10k'\n",
    "    df = df[['WeekDay','Step_index']].copy()\n",
    "    cats = ['Monday','Tuesday','Wednesday','Thursday','Friday','Saturday','Sunday']\n",
    "    cat_type = CategoricalDtype(categories=cats, ordered=False)\n",
    "    df['WeekDay'] = df['WeekDay'].astype(cat_type)\n",
    "    # grouped = df.groupby(by = ['Weekday','Step_index']).count()\n",
    "    df = pd.get_dummies(df['Step_index']).groupby(df['WeekDay']).sum().reset_index()\n",
    "    df = df.loc[:,['WeekDay','<5k','5k-10k','>10k']]\n",
    "    df.plot(\n",
    "        x = 'WeekDay',\n",
    "        kind = 'barh',\n",
    "        stacked = True,\n",
    "        title = 'Percentage Stacked Bar Graph of Daily Step',\n",
    "        mark_right = True)\n",
    "    df_total = df['<5k'] + df['5k-10k'] + df['>10k']\n",
    "    df_rel = df[df.columns[1:]].div(df_total, 0)*100\n",
    "\n",
    "    for n in df_rel:\n",
    "        for i, (cs, ab, pc) in enumerate(zip(df.iloc[:, 1:].cumsum(1)[n], \n",
    "                                             df[n], df_rel[n])):\n",
    "            plt.text(cs - ab / 2, i, str(np.round(pc, 1)) + '%', \n",
    "                     va = 'center', ha = 'center')\n",
    "    return df\n",
    "\n",
    "sub_q(p1)"
   ]
  },
  {
   "cell_type": "markdown",
   "id": "8893b32a",
   "metadata": {},
   "source": [
    "### Does inactivity differ weekday vs weekend?"
   ]
  },
  {
   "cell_type": "code",
   "execution_count": null,
   "id": "f4af4c73",
   "metadata": {},
   "outputs": [],
   "source": [
    "\n",
    "\n",
    "def graphinact(p):\n",
    "    inact = p.copy()\n",
    "    inact.loc[(inact['Steps'] <= 30) & (inact['Steps'] > 0 ), 'Inactive Hour'] = 1\n",
    "    inact.loc[inact['Steps'] > 30, 'Inactive Hour'] = 0\n",
    "    inact = inact.groupby(['Date'], as_index=False).agg({'Steps': 'sum','Inactive Hour':'sum','WeekDay': 'first','Month': 'first'})\n",
    "\n",
    "    wkday = inact.groupby(['WeekDay']).agg({'Inactive Hour':'mean'}).reset_index()\n",
    "    fig = px.bar(wkday, x='WeekDay', y='Inactive Hour',title=\"Inactivity over the days of the week\")\n",
    "    fig.show()\n",
    "\n",
    "graphinact(p8)\n",
    "\n"
   ]
  },
  {
   "cell_type": "markdown",
   "id": "2c1afdba",
   "metadata": {},
   "source": [
    "# References\n",
    "We report here relevant references:\n",
    "1. https://www.folkstalk.com/2022/10/jupyter-ignore-warnings-with-code-examples.html#:~:text=How%20do%20you%20avoid%20warnings%20in%20Jupyter%20notebook%3F,3%3A%20Turn%20off%20warnings%20completely%20for%20the%20Notebook.\n",
    "2. https://www.autoscripts.net/add-caption-to-plot-python/#adding-caption-below-x-axis-for-a-scatter-plot-using-matplotlib\n",
    "3. https://stackoverflow.com/questions/52205416/moving-label-of-seaborn-colour-bar#:~:text=You%20can%20use%20ax.collections.colorbarto%20get%20access%20to%20the,colorbars%20label%2C%20and%20you%20can%20use%20the%20labelpad%3Dargument%3A\n",
    "4. https://www.delftstack.com/howto/seaborn/set-axis-tick-labels-seaborn-python/\n",
    "5. https://stats.stackexchange.com/questions/7129/should-percentages-be-reported-with-decimal-places"
   ]
  }
 ],
 "metadata": {
  "kernelspec": {
   "display_name": "Python 3 (ipykernel)",
   "language": "python",
   "name": "python3"
  },
  "language_info": {
   "codemirror_mode": {
    "name": "ipython",
    "version": 3
   },
   "file_extension": ".py",
   "mimetype": "text/x-python",
   "name": "python",
   "nbconvert_exporter": "python",
   "pygments_lexer": "ipython3",
   "version": "3.10.2"
  }
 },
 "nbformat": 4,
 "nbformat_minor": 5
}
