{
 "cells": [
  {
   "cell_type": "code",
   "execution_count": 1,
   "id": "1d8c61cb",
   "metadata": {},
   "outputs": [
    {
     "data": {
      "text/html": [
       "\n",
       "    <style> body {font-family: \"Roboto Condensed Light\", \"Roboto Condensed\";} h2 {padding: 10px 12px; background-color: #E64626; position: static; color: #ffffff; font-size: 40px;} .text_cell_render p { font-size: 15px; } .text_cell_render h1 { font-size: 30px; } h1 {padding: 10px 12px; background-color: #E64626; color: #ffffff; font-size: 40px;} .text_cell_render h3 { padding: 10px 12px; background-color: #0148A4; position: static; color: #ffffff; font-size: 20px;} h4:before{ \n",
       "    content: \"@\"; font-family:\"Wingdings\"; font-style:regular; margin-right: 4px;} .text_cell_render h4 {padding: 8px; font-family: \"Roboto Condensed Light\"; position: static; font-style: italic; background-color: #FFB800; color: #ffffff; font-size: 18px; text-align: center; border-radius: 5px;}input[type=submit] {background-color: #E64626; border: solid; border-color: #734036; color: white; padding: 8px 16px; text-decoration: none; margin: 4px 2px; cursor: pointer; border-radius: 20px;}</style>\n",
       "    <script> code_show=true; function code_toggle() {if (code_show){$('div.input').hide();} else {$('div.input').show();} code_show = !code_show} $( document ).ready(code_toggle);</script>\n",
       "    <form action=\"javascript:code_toggle()\"><input type=\"submit\" value=\"Hide/show all code.\"></form>\n"
      ],
      "text/plain": [
       "<IPython.core.display.HTML object>"
      ]
     },
     "execution_count": 1,
     "metadata": {},
     "output_type": "execute_result"
    }
   ],
   "source": [
    "# Material last updated: 15 Oct 2022\n",
    "# Note materials were designed with the Roboto Condensed font, which can be installed here: https://www.1001fonts.com/roboto-condensed-font.html\n",
    "\n",
    "from IPython.display import HTML\n",
    "HTML('''\n",
    "    <style> body {font-family: \"Roboto Condensed Light\", \"Roboto Condensed\";} h2 {padding: 10px 12px; background-color: #E64626; position: static; color: #ffffff; font-size: 40px;} .text_cell_render p { font-size: 15px; } .text_cell_render h1 { font-size: 30px; } h1 {padding: 10px 12px; background-color: #E64626; color: #ffffff; font-size: 40px;} .text_cell_render h3 { padding: 10px 12px; background-color: #0148A4; position: static; color: #ffffff; font-size: 20px;} h4:before{ \n",
    "    content: \"@\"; font-family:\"Wingdings\"; font-style:regular; margin-right: 4px;} .text_cell_render h4 {padding: 8px; font-family: \"Roboto Condensed Light\"; position: static; font-style: italic; background-color: #FFB800; color: #ffffff; font-size: 18px; text-align: center; border-radius: 5px;}input[type=submit] {background-color: #E64626; border: solid; border-color: #734036; color: white; padding: 8px 16px; text-decoration: none; margin: 4px 2px; cursor: pointer; border-radius: 20px;}</style>\n",
    "    <script> code_show=true; function code_toggle() {if (code_show){$('div.input').hide();} else {$('div.input').show();} code_show = !code_show} $( document ).ready(code_toggle);</script>\n",
    "    <form action=\"javascript:code_toggle()\"><input type=\"submit\" value=\"Hide/show all code.\"></form>\n",
    "''')"
   ]
  },
  {
   "cell_type": "markdown",
   "id": "35951d41",
   "metadata": {},
   "source": [
    "# Group 3 - Trends in Step Activity across the Week\n",
    "\n",
    "\n",
    "## Driving Q\n",
    "\n",
    "## Ethical Analysis\n",
    "\n",
    "### Stakeholder\n",
    "\n",
    "### Raw Data"
   ]
  },
  {
   "cell_type": "markdown",
   "id": "15296b6a",
   "metadata": {},
   "source": [
    "# Setup\n",
    "\n",
    "### Library import\n"
   ]
  },
  {
   "cell_type": "code",
   "execution_count": 2,
   "id": "dd0e4337",
   "metadata": {},
   "outputs": [],
   "source": [
    "# Data manipulation\n",
    "import pandas as pd\n",
    "import numpy as np\n",
    "from pandas.api.types import CategoricalDtype\n",
    "from pathlib import Path\n",
    "\n",
    "# Visualizations\n",
    "import seaborn as sns\n",
    "import matplotlib.pyplot as plt\n",
    "import plotly.graph_objects as go\n",
    "import plotly.express as px\n"
   ]
  },
  {
   "cell_type": "markdown",
   "id": "48f79464",
   "metadata": {},
   "source": [
    "### Data Import"
   ]
  },
  {
   "cell_type": "code",
   "execution_count": 3,
   "id": "20d3fa14",
   "metadata": {},
   "outputs": [],
   "source": [
    "# Include data paths\n",
    "dataset_path = Path('../../datasets')\n",
    "add_dataset_path = Path('../../datasets/additional')\n",
    "# Import datasets\n",
    "raw_data_p1 = pd.read_csv(dataset_path / 'Participant-01.csv')\n",
    "p1 = raw_data_p1.copy()\n",
    "\n",
    "raw_data_p2 = pd.read_csv(dataset_path / 'Participant-02-detail.csv')\n",
    "p2 = raw_data_p2.copy()\n",
    "\n",
    "raw_data_p3 = pd.read_csv(dataset_path / 'Participant-03.csv')\n",
    "p3 = raw_data_p3.copy()\n",
    "\n",
    "raw_data_p4 = pd.read_csv(dataset_path / 'Participant-04.csv')\n",
    "p4 = raw_data_p4.copy()\n",
    "\n",
    "\n",
    "raw_data_p5 = pd.read_csv(dataset_path / 'Participant-05-detail.csv')\n",
    "p5 = raw_data_p5.copy()\n",
    "\n",
    "raw_data_p7 = pd.read_csv(dataset_path / 'Participant-07.csv')\n",
    "p7 = raw_data_p7.copy()\n",
    "\n",
    "raw_data_p8 = pd.read_csv(dataset_path / 'Participant-08.csv')\n",
    "p8 = raw_data_p8.copy()\n",
    "\n",
    "# for climate datasets the year month day are separated i need them to be together therefore i parsed them together\n",
    "raw_data = pd.read_csv(add_dataset_path / 'rainfall_syd.csv',parse_dates= {\"Date\" : [\"Year\",\"Month\",\"Day\"]})\n",
    "sydrain = raw_data.copy()\n",
    "\n",
    "raw_data2 = pd.read_csv(add_dataset_path / 'solar_cent_park.csv',parse_dates= {\"Date\" : [\"Year\",\"Month\",\"Day\"]})\n",
    "sun = raw_data2.copy()"
   ]
  },
  {
   "cell_type": "markdown",
   "id": "6bb01ad4",
   "metadata": {},
   "source": [
    "# Data Cleaning"
   ]
  },
  {
   "cell_type": "markdown",
   "id": "181c6e18",
   "metadata": {},
   "source": [
    "1. The variable name containing data for step counts is different therefore is renamed 'Steps\" in all 7 datasets so there is consistency."
   ]
  },
  {
   "cell_type": "code",
   "execution_count": 4,
   "id": "f0eb8c07",
   "metadata": {},
   "outputs": [],
   "source": [
    "# change count name so it matches format of non-detail datasets\n",
    "p1 = p1.rename(columns={'Steps (count)':'Steps'})\n",
    "p2 = p2.rename(columns={'Count':'Steps'})\n",
    "p3 = p3.rename(columns={'Steps (count)':'Steps'})\n",
    "p4 = p4.rename(columns={'Steps (count)':'Steps'})\n",
    "p5 = p5.rename(columns={'Count':'Steps'})\n",
    "p7 = p7.rename(columns={'Steps (count)':'Steps'})\n",
    "p8 = p8.rename(columns={'Steps (count)':'Steps'})\n",
    "\n"
   ]
  },
  {
   "cell_type": "markdown",
   "id": "ee953a9b",
   "metadata": {},
   "source": [
    "2. From duplicate testing, duplicated were found for the datasets of p2 and p5 therefore these duplicate values are dropped from the datasets."
   ]
  },
  {
   "cell_type": "code",
   "execution_count": 5,
   "id": "83de0856",
   "metadata": {},
   "outputs": [],
   "source": [
    "# will now drop the duplicates as identified by duplicated testing \n",
    "p2.drop_duplicates(keep=False, inplace=True)\n",
    "p5.drop_duplicates(keep=False, inplace=True)"
   ]
  },
  {
   "cell_type": "markdown",
   "id": "99bbccbd",
   "metadata": {},
   "source": [
    "# Data Processing \n",
    "\n",
    "1. Before the data can be used the dates given in the datasets need to be converted to datetime datatype, the weekday name, month names,year and date in YYYY-MM-DD need to be extracted and added as a column to the dataset, and the days of the weeks ordered from weekday to weekend so that when displayed it does not cause confusion.\n",
    "\n",
    "    Days of the week are ordered like so: 'Monday', 'Tuesday', 'Wednesday', 'Thursday', 'Friday', 'Saturday', 'Sunday', as it is a familiar order of the days of the week to most people.\n",
    "\n",
    "    Due to the different formating of the raw data given, there is different operations that apply on the datasets therefore two functions are used to complete what is mentioned in the paragraph above. \n",
    "\n",
    "    Function sub(data) is used for the datasets for participant 1, 3, 4, 7, 8. e.g sub(p1)\n",
    "\n",
    "    Function subdetail(data) is used for detailed datasets of participant 2 and 5 e.g. subdetail(p2)\n"
   ]
  },
  {
   "cell_type": "code",
   "execution_count": 6,
   "id": "3276e912",
   "metadata": {},
   "outputs": [],
   "source": [
    "# i want to create a function that subs in the dataset for the following operations so I don't have to repeat these steps\n",
    "def sub(data):\n",
    "#     convert start,finish columns to datetime formats\n",
    "    data['Start'] = pd.to_datetime(data['Start'])\n",
    "    data['Finish'] = pd.to_datetime(data['Finish'])\n",
    "#     extract the weekday name, month names , year and date in YYYY-MM-DD format from start column\n",
    "    data['WeekDay'] = data['Start'].dt.day_name()\n",
    "    data['Month'] = data['Start'].dt.month_name()\n",
    "    data['Year'] = data['Start'].dt.year\n",
    "    data['Date'] = data['Start'].dt.date\n",
    "#     convert date to datetime format\n",
    "    data['Date'] = pd.to_datetime(data['Date'])\n",
    "#     week days are ordered so that it's matches the order that day of the week are.\n",
    "    cats = [ 'Monday', 'Tuesday', 'Wednesday', 'Thursday', 'Friday', 'Saturday', 'Sunday']\n",
    "    cat_type = CategoricalDtype(categories=cats, ordered=True)\n",
    "    data['WeekDay'] = data['WeekDay'].astype(cat_type)\n",
    "\n",
    "    \n"
   ]
  },
  {
   "cell_type": "code",
   "execution_count": 7,
   "id": "d918e647",
   "metadata": {},
   "outputs": [],
   "source": [
    "# function for detail data\n",
    "def subdetail(data):\n",
    "#     convert date to datetime format\n",
    "    data['Date'] = pd.to_datetime(data['Date'])\n",
    "#     extract week day and month from date\n",
    "    data['WeekDay'] = data['Date'].dt.day_name()\n",
    "    data['Month'] = data['Date'].dt.month_name()\n",
    "    data['Year'] = data['Date'].dt.year\n",
    "#     order week days\n",
    "    cats = [ 'Monday', 'Tuesday', 'Wednesday', 'Thursday', 'Friday', 'Saturday', 'Sunday']\n",
    "    cat_type = CategoricalDtype(categories=cats, ordered=True)\n",
    "    data['WeekDay'] = data['WeekDay'].astype(cat_type)\n",
    "\n",
    "    \n"
   ]
  },
  {
   "cell_type": "markdown",
   "id": "573bd04e",
   "metadata": {},
   "source": [
    "2. As data for solar exposure and rainfall is also used in this analysis, a function is also created to add the month and day of the week to the dataset, and order the days of the week into the order that is commonly known.\n",
    "\n",
    "    Function subw(data) is used for the dataset 'sydrain' or 'sun'"
   ]
  },
  {
   "cell_type": "code",
   "execution_count": 8,
   "id": "7c027820",
   "metadata": {},
   "outputs": [],
   "source": [
    "\n",
    "# function for weather dataset\n",
    "def subw(data):\n",
    "#     extract week day and month from date\n",
    "    data['Month'] = data['Date'].dt.month_name()\n",
    "    data['WeekDay'] = data['Date'].dt.day_name()\n",
    "#     order week days\n",
    "    cats = [ 'Monday', 'Tuesday', 'Wednesday', 'Thursday', 'Friday', 'Saturday', 'Sunday']\n",
    "    cat_type = CategoricalDtype(categories=cats, ordered=True)\n",
    "    data['WeekDay'] = data['WeekDay'].astype(cat_type)"
   ]
  },
  {
   "cell_type": "code",
   "execution_count": 9,
   "id": "1b4ec220",
   "metadata": {},
   "outputs": [],
   "source": [
    "# now sub the datasets into the functions\n",
    "sub(p1)\n",
    "subdetail(p2)\n",
    "sub(p3)\n",
    "sub(p4)\n",
    "subdetail(p5)\n",
    "sub(p7)\n",
    "sub(p8)\n",
    "subw(sydrain)\n",
    "subw(sun)\n"
   ]
  },
  {
   "cell_type": "markdown",
   "id": "68f3f47a",
   "metadata": {},
   "source": [
    "3. Participant 2 dataset contains data points from both their mobile phone and smartwatch, aggregating would resulting in duplicate data. We keep only data from the smartwatch as it is usually more accurate."
   ]
  },
  {
   "cell_type": "code",
   "execution_count": 10,
   "id": "92ed649f",
   "metadata": {},
   "outputs": [],
   "source": [
    "\n",
    "\n",
    "#     dataset contains data points from both their mobile phone and smartwatch, \n",
    "# aggregating would resulting in duplicate data. We keep only data from the smartwatch as it is usually more accurate\n",
    "p2 = p2[p2['Source'].str.contains('Watch')]\n",
    "\n"
   ]
  },
  {
   "cell_type": "markdown",
   "id": "0e3905f1",
   "metadata": {},
   "source": [
    "4. Detailed datasets are group by hour as it has more than one record for each hour in comparision to the non-detailed datasets where each hour only exist once."
   ]
  },
  {
   "cell_type": "code",
   "execution_count": 11,
   "id": "eecd6c0d",
   "metadata": {},
   "outputs": [],
   "source": [
    "# group by hour as detailed datasets has more than one record for each hour incomparision to the non-detailed datasets.\n",
    "p2 = p2.groupby(['Date','Hour']).agg({'Steps':'sum','WeekDay':'first','Month':'first','Year':'first','Source':'first'}).reset_index()\n",
    "p5 = p5.groupby(['Date','Hour']).agg({'Steps':'sum','WeekDay':'first','Month':'first','Year':'first','Source':'first'}).reset_index()"
   ]
  },
  {
   "cell_type": "markdown",
   "id": "70f98934",
   "metadata": {},
   "source": [
    "# Sub Questions"
   ]
  },
  {
   "cell_type": "markdown",
   "id": "cb0fe0bd",
   "metadata": {},
   "source": [
    "### Does the week day step patterns differ with season?"
   ]
  },
  {
   "cell_type": "markdown",
   "id": "a01dff42",
   "metadata": {},
   "source": [
    "It has been researched that people can tend to be less active during Winter time as they staying indoors more due to the cold. Therefore we want to analyse if participants' step activity are impacted by the seasonal changes. \n",
    "\n",
    "Initial Hypothesis: Participants will be the most active in summer in participular the weekends.\n",
    "\n",
    "Reason: hypothesis is formed with knowledge that people then to be less active in winter and that Australia being a country that isn't typically known for winter sports but more summer sports, therefore it would be understandable if participant's activity dropped in the winter and be the highest in summer as not only they have accessibility to summer sports now but that are also more likely to go out of the house.\n",
    "\n",
    "\n",
    "Assumptions made: that the participants were all in Australia during the whole 8 month duration as the months are grouped based on the Australian classification of the seasons where;\n",
    "\n",
    "Spring - September, October and November.\n",
    "\n",
    "Summer - December, January and February.\n",
    "\n",
    "Autumn - March, April and May.\n",
    "\n",
    "Winter - June, July and August.\n",
    "\n",
    "However, as we are lacking in data for the months of September, October and November, the season of Spring is not analysed in this sub question.\n",
    "\n",
    "\n",
    "A bar graph is chosen to compare the three seasons as when comparing trends across the week in different seasons, bar graphs provides a simple and direct visualisation of the seasons side by side enabling direct comparision. The numbers of colours used is also not excessive. There is a drop down menu provided which enables the viewer to view the trends for each season, instead of all the seasons at once, this allows more a clearer view of the trend in each season.\n",
    "\n",
    "_to view the graph for a different participant, please change the code in the code block below, then run both code blocks below_"
   ]
  },
  {
   "cell_type": "code",
   "execution_count": 51,
   "id": "a9bdda61",
   "metadata": {},
   "outputs": [],
   "source": [
    "# Function that creates a dataset to only have these three months\n",
    "def getMonths(input, m1, m2, m3):\n",
    "    return input.loc[(input.Date.dt.month==m1) | (input.Date.dt.month==m2) | (input.Date.dt.month==m3)]\n",
    "\n",
    "# Group by date. \n",
    "# SWITCH HERE! For a different participant, change 'p3' to participant 'p1', 'p2', 'p7' etc.\n",
    "df = p8.groupby(['Date'], as_index=False).agg({'Steps': 'sum','WeekDay': 'first','Month': 'first'})\n",
    "\n",
    "# sub the function in\n",
    "Autumn = getMonths(df,3,4,5)\n",
    "Winter = getMonths(df,6,7,8)\n",
    "Summer = getMonths(df,12,1,2)\n",
    "\n",
    "# group by weekday\n",
    "Aut = Autumn.groupby('WeekDay').agg({'Steps':'mean'}).reset_index()\n",
    "Win = Winter.groupby('WeekDay').agg({'Steps':'mean'}).reset_index()\n",
    "Sum = Summer.groupby('WeekDay').agg({'Steps':'mean'}).reset_index()"
   ]
  },
  {
   "cell_type": "markdown",
   "id": "c709c0c4",
   "metadata": {},
   "source": [
    "Now as an example, lets visualise Participant 8's average step count across the week for different seasons.\n",
    "\n",
    "_please first click on the drop down menu to select the graph_"
   ]
  },
  {
   "cell_type": "code",
   "execution_count": 52,
   "id": "bc0ca95c",
   "metadata": {},
   "outputs": [
    {
     "data": {
      "application/vnd.plotly.v1+json": {
       "config": {
        "plotlyServerURL": "https://plot.ly"
       },
       "data": [
        {
         "marker": {
          "color": "rgb(240, 90, 101)"
         },
         "name": "Summer",
         "type": "bar",
         "x": [
          "Monday",
          "Tuesday",
          "Wednesday",
          "Thursday",
          "Friday",
          "Saturday",
          "Sunday"
         ],
         "y": [
          7075.999999999999,
          7613.499999999998,
          8625.749999999998,
          7963.875,
          7502.625,
          8585.111111111111,
          7144.444444444443
         ]
        },
        {
         "marker": {
          "color": "rgb(250, 148, 34)"
         },
         "name": "Autumn",
         "type": "bar",
         "x": [
          "Monday",
          "Tuesday",
          "Wednesday",
          "Thursday",
          "Friday",
          "Saturday",
          "Sunday"
         ],
         "y": [
          8481.692307692309,
          8518.785714285714,
          9492.384615384613,
          9457.692307692309,
          8086.23076923077,
          9944.384615384613,
          8916.23076923077
         ]
        },
        {
         "marker": {
          "color": "rgb(83, 205, 241)"
         },
         "name": "Winter",
         "type": "bar",
         "x": [
          "Monday",
          "Tuesday",
          "Wednesday",
          "Thursday",
          "Friday",
          "Saturday",
          "Sunday"
         ],
         "y": [
          9611.615384615385,
          7959.230769230768,
          8712.285714285716,
          7329.2307692307695,
          7495.307692307693,
          9919.384615384615,
          9037.153846153844
         ]
        }
       ],
       "layout": {
        "bargap": 0.15,
        "bargroupgap": 0.1,
        "barmode": "group",
        "legend": {
         "bgcolor": "rgba(255, 255, 255, 0)",
         "bordercolor": "rgba(255, 255, 255, 0)",
         "x": 0,
         "y": 1
        },
        "template": {
         "data": {
          "bar": [
           {
            "error_x": {
             "color": "#2a3f5f"
            },
            "error_y": {
             "color": "#2a3f5f"
            },
            "marker": {
             "line": {
              "color": "#E5ECF6",
              "width": 0.5
             },
             "pattern": {
              "fillmode": "overlay",
              "size": 10,
              "solidity": 0.2
             }
            },
            "type": "bar"
           }
          ],
          "barpolar": [
           {
            "marker": {
             "line": {
              "color": "#E5ECF6",
              "width": 0.5
             },
             "pattern": {
              "fillmode": "overlay",
              "size": 10,
              "solidity": 0.2
             }
            },
            "type": "barpolar"
           }
          ],
          "carpet": [
           {
            "aaxis": {
             "endlinecolor": "#2a3f5f",
             "gridcolor": "white",
             "linecolor": "white",
             "minorgridcolor": "white",
             "startlinecolor": "#2a3f5f"
            },
            "baxis": {
             "endlinecolor": "#2a3f5f",
             "gridcolor": "white",
             "linecolor": "white",
             "minorgridcolor": "white",
             "startlinecolor": "#2a3f5f"
            },
            "type": "carpet"
           }
          ],
          "choropleth": [
           {
            "colorbar": {
             "outlinewidth": 0,
             "ticks": ""
            },
            "type": "choropleth"
           }
          ],
          "contour": [
           {
            "colorbar": {
             "outlinewidth": 0,
             "ticks": ""
            },
            "colorscale": [
             [
              0,
              "#0d0887"
             ],
             [
              0.1111111111111111,
              "#46039f"
             ],
             [
              0.2222222222222222,
              "#7201a8"
             ],
             [
              0.3333333333333333,
              "#9c179e"
             ],
             [
              0.4444444444444444,
              "#bd3786"
             ],
             [
              0.5555555555555556,
              "#d8576b"
             ],
             [
              0.6666666666666666,
              "#ed7953"
             ],
             [
              0.7777777777777778,
              "#fb9f3a"
             ],
             [
              0.8888888888888888,
              "#fdca26"
             ],
             [
              1,
              "#f0f921"
             ]
            ],
            "type": "contour"
           }
          ],
          "contourcarpet": [
           {
            "colorbar": {
             "outlinewidth": 0,
             "ticks": ""
            },
            "type": "contourcarpet"
           }
          ],
          "heatmap": [
           {
            "colorbar": {
             "outlinewidth": 0,
             "ticks": ""
            },
            "colorscale": [
             [
              0,
              "#0d0887"
             ],
             [
              0.1111111111111111,
              "#46039f"
             ],
             [
              0.2222222222222222,
              "#7201a8"
             ],
             [
              0.3333333333333333,
              "#9c179e"
             ],
             [
              0.4444444444444444,
              "#bd3786"
             ],
             [
              0.5555555555555556,
              "#d8576b"
             ],
             [
              0.6666666666666666,
              "#ed7953"
             ],
             [
              0.7777777777777778,
              "#fb9f3a"
             ],
             [
              0.8888888888888888,
              "#fdca26"
             ],
             [
              1,
              "#f0f921"
             ]
            ],
            "type": "heatmap"
           }
          ],
          "heatmapgl": [
           {
            "colorbar": {
             "outlinewidth": 0,
             "ticks": ""
            },
            "colorscale": [
             [
              0,
              "#0d0887"
             ],
             [
              0.1111111111111111,
              "#46039f"
             ],
             [
              0.2222222222222222,
              "#7201a8"
             ],
             [
              0.3333333333333333,
              "#9c179e"
             ],
             [
              0.4444444444444444,
              "#bd3786"
             ],
             [
              0.5555555555555556,
              "#d8576b"
             ],
             [
              0.6666666666666666,
              "#ed7953"
             ],
             [
              0.7777777777777778,
              "#fb9f3a"
             ],
             [
              0.8888888888888888,
              "#fdca26"
             ],
             [
              1,
              "#f0f921"
             ]
            ],
            "type": "heatmapgl"
           }
          ],
          "histogram": [
           {
            "marker": {
             "pattern": {
              "fillmode": "overlay",
              "size": 10,
              "solidity": 0.2
             }
            },
            "type": "histogram"
           }
          ],
          "histogram2d": [
           {
            "colorbar": {
             "outlinewidth": 0,
             "ticks": ""
            },
            "colorscale": [
             [
              0,
              "#0d0887"
             ],
             [
              0.1111111111111111,
              "#46039f"
             ],
             [
              0.2222222222222222,
              "#7201a8"
             ],
             [
              0.3333333333333333,
              "#9c179e"
             ],
             [
              0.4444444444444444,
              "#bd3786"
             ],
             [
              0.5555555555555556,
              "#d8576b"
             ],
             [
              0.6666666666666666,
              "#ed7953"
             ],
             [
              0.7777777777777778,
              "#fb9f3a"
             ],
             [
              0.8888888888888888,
              "#fdca26"
             ],
             [
              1,
              "#f0f921"
             ]
            ],
            "type": "histogram2d"
           }
          ],
          "histogram2dcontour": [
           {
            "colorbar": {
             "outlinewidth": 0,
             "ticks": ""
            },
            "colorscale": [
             [
              0,
              "#0d0887"
             ],
             [
              0.1111111111111111,
              "#46039f"
             ],
             [
              0.2222222222222222,
              "#7201a8"
             ],
             [
              0.3333333333333333,
              "#9c179e"
             ],
             [
              0.4444444444444444,
              "#bd3786"
             ],
             [
              0.5555555555555556,
              "#d8576b"
             ],
             [
              0.6666666666666666,
              "#ed7953"
             ],
             [
              0.7777777777777778,
              "#fb9f3a"
             ],
             [
              0.8888888888888888,
              "#fdca26"
             ],
             [
              1,
              "#f0f921"
             ]
            ],
            "type": "histogram2dcontour"
           }
          ],
          "mesh3d": [
           {
            "colorbar": {
             "outlinewidth": 0,
             "ticks": ""
            },
            "type": "mesh3d"
           }
          ],
          "parcoords": [
           {
            "line": {
             "colorbar": {
              "outlinewidth": 0,
              "ticks": ""
             }
            },
            "type": "parcoords"
           }
          ],
          "pie": [
           {
            "automargin": true,
            "type": "pie"
           }
          ],
          "scatter": [
           {
            "fillpattern": {
             "fillmode": "overlay",
             "size": 10,
             "solidity": 0.2
            },
            "type": "scatter"
           }
          ],
          "scatter3d": [
           {
            "line": {
             "colorbar": {
              "outlinewidth": 0,
              "ticks": ""
             }
            },
            "marker": {
             "colorbar": {
              "outlinewidth": 0,
              "ticks": ""
             }
            },
            "type": "scatter3d"
           }
          ],
          "scattercarpet": [
           {
            "marker": {
             "colorbar": {
              "outlinewidth": 0,
              "ticks": ""
             }
            },
            "type": "scattercarpet"
           }
          ],
          "scattergeo": [
           {
            "marker": {
             "colorbar": {
              "outlinewidth": 0,
              "ticks": ""
             }
            },
            "type": "scattergeo"
           }
          ],
          "scattergl": [
           {
            "marker": {
             "colorbar": {
              "outlinewidth": 0,
              "ticks": ""
             }
            },
            "type": "scattergl"
           }
          ],
          "scattermapbox": [
           {
            "marker": {
             "colorbar": {
              "outlinewidth": 0,
              "ticks": ""
             }
            },
            "type": "scattermapbox"
           }
          ],
          "scatterpolar": [
           {
            "marker": {
             "colorbar": {
              "outlinewidth": 0,
              "ticks": ""
             }
            },
            "type": "scatterpolar"
           }
          ],
          "scatterpolargl": [
           {
            "marker": {
             "colorbar": {
              "outlinewidth": 0,
              "ticks": ""
             }
            },
            "type": "scatterpolargl"
           }
          ],
          "scatterternary": [
           {
            "marker": {
             "colorbar": {
              "outlinewidth": 0,
              "ticks": ""
             }
            },
            "type": "scatterternary"
           }
          ],
          "surface": [
           {
            "colorbar": {
             "outlinewidth": 0,
             "ticks": ""
            },
            "colorscale": [
             [
              0,
              "#0d0887"
             ],
             [
              0.1111111111111111,
              "#46039f"
             ],
             [
              0.2222222222222222,
              "#7201a8"
             ],
             [
              0.3333333333333333,
              "#9c179e"
             ],
             [
              0.4444444444444444,
              "#bd3786"
             ],
             [
              0.5555555555555556,
              "#d8576b"
             ],
             [
              0.6666666666666666,
              "#ed7953"
             ],
             [
              0.7777777777777778,
              "#fb9f3a"
             ],
             [
              0.8888888888888888,
              "#fdca26"
             ],
             [
              1,
              "#f0f921"
             ]
            ],
            "type": "surface"
           }
          ],
          "table": [
           {
            "cells": {
             "fill": {
              "color": "#EBF0F8"
             },
             "line": {
              "color": "white"
             }
            },
            "header": {
             "fill": {
              "color": "#C8D4E3"
             },
             "line": {
              "color": "white"
             }
            },
            "type": "table"
           }
          ]
         },
         "layout": {
          "annotationdefaults": {
           "arrowcolor": "#2a3f5f",
           "arrowhead": 0,
           "arrowwidth": 1
          },
          "autotypenumbers": "strict",
          "coloraxis": {
           "colorbar": {
            "outlinewidth": 0,
            "ticks": ""
           }
          },
          "colorscale": {
           "diverging": [
            [
             0,
             "#8e0152"
            ],
            [
             0.1,
             "#c51b7d"
            ],
            [
             0.2,
             "#de77ae"
            ],
            [
             0.3,
             "#f1b6da"
            ],
            [
             0.4,
             "#fde0ef"
            ],
            [
             0.5,
             "#f7f7f7"
            ],
            [
             0.6,
             "#e6f5d0"
            ],
            [
             0.7,
             "#b8e186"
            ],
            [
             0.8,
             "#7fbc41"
            ],
            [
             0.9,
             "#4d9221"
            ],
            [
             1,
             "#276419"
            ]
           ],
           "sequential": [
            [
             0,
             "#0d0887"
            ],
            [
             0.1111111111111111,
             "#46039f"
            ],
            [
             0.2222222222222222,
             "#7201a8"
            ],
            [
             0.3333333333333333,
             "#9c179e"
            ],
            [
             0.4444444444444444,
             "#bd3786"
            ],
            [
             0.5555555555555556,
             "#d8576b"
            ],
            [
             0.6666666666666666,
             "#ed7953"
            ],
            [
             0.7777777777777778,
             "#fb9f3a"
            ],
            [
             0.8888888888888888,
             "#fdca26"
            ],
            [
             1,
             "#f0f921"
            ]
           ],
           "sequentialminus": [
            [
             0,
             "#0d0887"
            ],
            [
             0.1111111111111111,
             "#46039f"
            ],
            [
             0.2222222222222222,
             "#7201a8"
            ],
            [
             0.3333333333333333,
             "#9c179e"
            ],
            [
             0.4444444444444444,
             "#bd3786"
            ],
            [
             0.5555555555555556,
             "#d8576b"
            ],
            [
             0.6666666666666666,
             "#ed7953"
            ],
            [
             0.7777777777777778,
             "#fb9f3a"
            ],
            [
             0.8888888888888888,
             "#fdca26"
            ],
            [
             1,
             "#f0f921"
            ]
           ]
          },
          "colorway": [
           "#636efa",
           "#EF553B",
           "#00cc96",
           "#ab63fa",
           "#FFA15A",
           "#19d3f3",
           "#FF6692",
           "#B6E880",
           "#FF97FF",
           "#FECB52"
          ],
          "font": {
           "color": "#2a3f5f"
          },
          "geo": {
           "bgcolor": "white",
           "lakecolor": "white",
           "landcolor": "#E5ECF6",
           "showlakes": true,
           "showland": true,
           "subunitcolor": "white"
          },
          "hoverlabel": {
           "align": "left"
          },
          "hovermode": "closest",
          "mapbox": {
           "style": "light"
          },
          "paper_bgcolor": "white",
          "plot_bgcolor": "#E5ECF6",
          "polar": {
           "angularaxis": {
            "gridcolor": "white",
            "linecolor": "white",
            "ticks": ""
           },
           "bgcolor": "#E5ECF6",
           "radialaxis": {
            "gridcolor": "white",
            "linecolor": "white",
            "ticks": ""
           }
          },
          "scene": {
           "xaxis": {
            "backgroundcolor": "#E5ECF6",
            "gridcolor": "white",
            "gridwidth": 2,
            "linecolor": "white",
            "showbackground": true,
            "ticks": "",
            "zerolinecolor": "white"
           },
           "yaxis": {
            "backgroundcolor": "#E5ECF6",
            "gridcolor": "white",
            "gridwidth": 2,
            "linecolor": "white",
            "showbackground": true,
            "ticks": "",
            "zerolinecolor": "white"
           },
           "zaxis": {
            "backgroundcolor": "#E5ECF6",
            "gridcolor": "white",
            "gridwidth": 2,
            "linecolor": "white",
            "showbackground": true,
            "ticks": "",
            "zerolinecolor": "white"
           }
          },
          "shapedefaults": {
           "line": {
            "color": "#2a3f5f"
           }
          },
          "ternary": {
           "aaxis": {
            "gridcolor": "white",
            "linecolor": "white",
            "ticks": ""
           },
           "baxis": {
            "gridcolor": "white",
            "linecolor": "white",
            "ticks": ""
           },
           "bgcolor": "#E5ECF6",
           "caxis": {
            "gridcolor": "white",
            "linecolor": "white",
            "ticks": ""
           }
          },
          "title": {
           "x": 0.05
          },
          "xaxis": {
           "automargin": true,
           "gridcolor": "white",
           "linecolor": "white",
           "ticks": "",
           "title": {
            "standoff": 15
           },
           "zerolinecolor": "white",
           "zerolinewidth": 2
          },
          "yaxis": {
           "automargin": true,
           "gridcolor": "white",
           "linecolor": "white",
           "ticks": "",
           "title": {
            "standoff": 15
           },
           "zerolinecolor": "white",
           "zerolinewidth": 2
          }
         }
        },
        "title": {
         "x": 0.5
        },
        "updatemenus": [
         {
          "active": 0,
          "buttons": [
           {
            "args": [
             {
              "visible": [
               true,
               true,
               true
              ]
             },
             {
              "title": "Average step count of days of the week over in different seasons",
              "xaxis": {
               "title": "Day of the Week"
              },
              "yaxis": {
               "title": "Average Step Count"
              }
             }
            ],
            "label": "Seasons",
            "method": "update"
           },
           {
            "args": [
             {
              "visible": [
               true,
               false,
               false
              ]
             },
             {
              "title": "Average step count of days of the week over in Summer",
              "xaxis": {
               "title": "Day of the Week"
              },
              "yaxis": {
               "title": "Average Step Count"
              }
             }
            ],
            "label": "Summer",
            "method": "update"
           },
           {
            "args": [
             {
              "visible": [
               false,
               true,
               false
              ]
             },
             {
              "title": "Average step count of days of the week over in Autumn",
              "xaxis": {
               "title": "Day of the Week"
              },
              "yaxis": {
               "title": "Average Step Count"
              }
             }
            ],
            "label": "Autumn",
            "method": "update"
           },
           {
            "args": [
             {
              "visible": [
               false,
               false,
               true
              ]
             },
             {
              "title": "Average step count of days of the week over in Winter",
              "xaxis": {
               "title": "Day of the Week"
              },
              "yaxis": {
               "title": "Average Step Count"
              }
             }
            ],
            "label": "Winter",
            "method": "update"
           }
          ]
         }
        ]
       }
      },
      "text/html": [
       "<div>                            <div id=\"730e476e-d5a8-4577-924a-3c1a6735dbce\" class=\"plotly-graph-div\" style=\"height:525px; width:100%;\"></div>            <script type=\"text/javascript\">                require([\"plotly\"], function(Plotly) {                    window.PLOTLYENV=window.PLOTLYENV || {};                                    if (document.getElementById(\"730e476e-d5a8-4577-924a-3c1a6735dbce\")) {                    Plotly.newPlot(                        \"730e476e-d5a8-4577-924a-3c1a6735dbce\",                        [{\"marker\":{\"color\":\"rgb(240, 90, 101)\"},\"name\":\"Summer\",\"x\":[\"Monday\",\"Tuesday\",\"Wednesday\",\"Thursday\",\"Friday\",\"Saturday\",\"Sunday\"],\"y\":[7075.999999999999,7613.499999999998,8625.749999999998,7963.875,7502.625,8585.111111111111,7144.444444444443],\"type\":\"bar\"},{\"marker\":{\"color\":\"rgb(250, 148, 34)\"},\"name\":\"Autumn\",\"x\":[\"Monday\",\"Tuesday\",\"Wednesday\",\"Thursday\",\"Friday\",\"Saturday\",\"Sunday\"],\"y\":[8481.692307692309,8518.785714285714,9492.384615384613,9457.692307692309,8086.23076923077,9944.384615384613,8916.23076923077],\"type\":\"bar\"},{\"marker\":{\"color\":\"rgb(83, 205, 241)\"},\"name\":\"Winter\",\"x\":[\"Monday\",\"Tuesday\",\"Wednesday\",\"Thursday\",\"Friday\",\"Saturday\",\"Sunday\"],\"y\":[9611.615384615385,7959.230769230768,8712.285714285716,7329.2307692307695,7495.307692307693,9919.384615384615,9037.153846153844],\"type\":\"bar\"}],                        {\"template\":{\"data\":{\"histogram2dcontour\":[{\"type\":\"histogram2dcontour\",\"colorbar\":{\"outlinewidth\":0,\"ticks\":\"\"},\"colorscale\":[[0.0,\"#0d0887\"],[0.1111111111111111,\"#46039f\"],[0.2222222222222222,\"#7201a8\"],[0.3333333333333333,\"#9c179e\"],[0.4444444444444444,\"#bd3786\"],[0.5555555555555556,\"#d8576b\"],[0.6666666666666666,\"#ed7953\"],[0.7777777777777778,\"#fb9f3a\"],[0.8888888888888888,\"#fdca26\"],[1.0,\"#f0f921\"]]}],\"choropleth\":[{\"type\":\"choropleth\",\"colorbar\":{\"outlinewidth\":0,\"ticks\":\"\"}}],\"histogram2d\":[{\"type\":\"histogram2d\",\"colorbar\":{\"outlinewidth\":0,\"ticks\":\"\"},\"colorscale\":[[0.0,\"#0d0887\"],[0.1111111111111111,\"#46039f\"],[0.2222222222222222,\"#7201a8\"],[0.3333333333333333,\"#9c179e\"],[0.4444444444444444,\"#bd3786\"],[0.5555555555555556,\"#d8576b\"],[0.6666666666666666,\"#ed7953\"],[0.7777777777777778,\"#fb9f3a\"],[0.8888888888888888,\"#fdca26\"],[1.0,\"#f0f921\"]]}],\"heatmap\":[{\"type\":\"heatmap\",\"colorbar\":{\"outlinewidth\":0,\"ticks\":\"\"},\"colorscale\":[[0.0,\"#0d0887\"],[0.1111111111111111,\"#46039f\"],[0.2222222222222222,\"#7201a8\"],[0.3333333333333333,\"#9c179e\"],[0.4444444444444444,\"#bd3786\"],[0.5555555555555556,\"#d8576b\"],[0.6666666666666666,\"#ed7953\"],[0.7777777777777778,\"#fb9f3a\"],[0.8888888888888888,\"#fdca26\"],[1.0,\"#f0f921\"]]}],\"heatmapgl\":[{\"type\":\"heatmapgl\",\"colorbar\":{\"outlinewidth\":0,\"ticks\":\"\"},\"colorscale\":[[0.0,\"#0d0887\"],[0.1111111111111111,\"#46039f\"],[0.2222222222222222,\"#7201a8\"],[0.3333333333333333,\"#9c179e\"],[0.4444444444444444,\"#bd3786\"],[0.5555555555555556,\"#d8576b\"],[0.6666666666666666,\"#ed7953\"],[0.7777777777777778,\"#fb9f3a\"],[0.8888888888888888,\"#fdca26\"],[1.0,\"#f0f921\"]]}],\"contourcarpet\":[{\"type\":\"contourcarpet\",\"colorbar\":{\"outlinewidth\":0,\"ticks\":\"\"}}],\"contour\":[{\"type\":\"contour\",\"colorbar\":{\"outlinewidth\":0,\"ticks\":\"\"},\"colorscale\":[[0.0,\"#0d0887\"],[0.1111111111111111,\"#46039f\"],[0.2222222222222222,\"#7201a8\"],[0.3333333333333333,\"#9c179e\"],[0.4444444444444444,\"#bd3786\"],[0.5555555555555556,\"#d8576b\"],[0.6666666666666666,\"#ed7953\"],[0.7777777777777778,\"#fb9f3a\"],[0.8888888888888888,\"#fdca26\"],[1.0,\"#f0f921\"]]}],\"surface\":[{\"type\":\"surface\",\"colorbar\":{\"outlinewidth\":0,\"ticks\":\"\"},\"colorscale\":[[0.0,\"#0d0887\"],[0.1111111111111111,\"#46039f\"],[0.2222222222222222,\"#7201a8\"],[0.3333333333333333,\"#9c179e\"],[0.4444444444444444,\"#bd3786\"],[0.5555555555555556,\"#d8576b\"],[0.6666666666666666,\"#ed7953\"],[0.7777777777777778,\"#fb9f3a\"],[0.8888888888888888,\"#fdca26\"],[1.0,\"#f0f921\"]]}],\"mesh3d\":[{\"type\":\"mesh3d\",\"colorbar\":{\"outlinewidth\":0,\"ticks\":\"\"}}],\"scatter\":[{\"fillpattern\":{\"fillmode\":\"overlay\",\"size\":10,\"solidity\":0.2},\"type\":\"scatter\"}],\"parcoords\":[{\"type\":\"parcoords\",\"line\":{\"colorbar\":{\"outlinewidth\":0,\"ticks\":\"\"}}}],\"scatterpolargl\":[{\"type\":\"scatterpolargl\",\"marker\":{\"colorbar\":{\"outlinewidth\":0,\"ticks\":\"\"}}}],\"bar\":[{\"error_x\":{\"color\":\"#2a3f5f\"},\"error_y\":{\"color\":\"#2a3f5f\"},\"marker\":{\"line\":{\"color\":\"#E5ECF6\",\"width\":0.5},\"pattern\":{\"fillmode\":\"overlay\",\"size\":10,\"solidity\":0.2}},\"type\":\"bar\"}],\"scattergeo\":[{\"type\":\"scattergeo\",\"marker\":{\"colorbar\":{\"outlinewidth\":0,\"ticks\":\"\"}}}],\"scatterpolar\":[{\"type\":\"scatterpolar\",\"marker\":{\"colorbar\":{\"outlinewidth\":0,\"ticks\":\"\"}}}],\"histogram\":[{\"marker\":{\"pattern\":{\"fillmode\":\"overlay\",\"size\":10,\"solidity\":0.2}},\"type\":\"histogram\"}],\"scattergl\":[{\"type\":\"scattergl\",\"marker\":{\"colorbar\":{\"outlinewidth\":0,\"ticks\":\"\"}}}],\"scatter3d\":[{\"type\":\"scatter3d\",\"line\":{\"colorbar\":{\"outlinewidth\":0,\"ticks\":\"\"}},\"marker\":{\"colorbar\":{\"outlinewidth\":0,\"ticks\":\"\"}}}],\"scattermapbox\":[{\"type\":\"scattermapbox\",\"marker\":{\"colorbar\":{\"outlinewidth\":0,\"ticks\":\"\"}}}],\"scatterternary\":[{\"type\":\"scatterternary\",\"marker\":{\"colorbar\":{\"outlinewidth\":0,\"ticks\":\"\"}}}],\"scattercarpet\":[{\"type\":\"scattercarpet\",\"marker\":{\"colorbar\":{\"outlinewidth\":0,\"ticks\":\"\"}}}],\"carpet\":[{\"aaxis\":{\"endlinecolor\":\"#2a3f5f\",\"gridcolor\":\"white\",\"linecolor\":\"white\",\"minorgridcolor\":\"white\",\"startlinecolor\":\"#2a3f5f\"},\"baxis\":{\"endlinecolor\":\"#2a3f5f\",\"gridcolor\":\"white\",\"linecolor\":\"white\",\"minorgridcolor\":\"white\",\"startlinecolor\":\"#2a3f5f\"},\"type\":\"carpet\"}],\"table\":[{\"cells\":{\"fill\":{\"color\":\"#EBF0F8\"},\"line\":{\"color\":\"white\"}},\"header\":{\"fill\":{\"color\":\"#C8D4E3\"},\"line\":{\"color\":\"white\"}},\"type\":\"table\"}],\"barpolar\":[{\"marker\":{\"line\":{\"color\":\"#E5ECF6\",\"width\":0.5},\"pattern\":{\"fillmode\":\"overlay\",\"size\":10,\"solidity\":0.2}},\"type\":\"barpolar\"}],\"pie\":[{\"automargin\":true,\"type\":\"pie\"}]},\"layout\":{\"autotypenumbers\":\"strict\",\"colorway\":[\"#636efa\",\"#EF553B\",\"#00cc96\",\"#ab63fa\",\"#FFA15A\",\"#19d3f3\",\"#FF6692\",\"#B6E880\",\"#FF97FF\",\"#FECB52\"],\"font\":{\"color\":\"#2a3f5f\"},\"hovermode\":\"closest\",\"hoverlabel\":{\"align\":\"left\"},\"paper_bgcolor\":\"white\",\"plot_bgcolor\":\"#E5ECF6\",\"polar\":{\"bgcolor\":\"#E5ECF6\",\"angularaxis\":{\"gridcolor\":\"white\",\"linecolor\":\"white\",\"ticks\":\"\"},\"radialaxis\":{\"gridcolor\":\"white\",\"linecolor\":\"white\",\"ticks\":\"\"}},\"ternary\":{\"bgcolor\":\"#E5ECF6\",\"aaxis\":{\"gridcolor\":\"white\",\"linecolor\":\"white\",\"ticks\":\"\"},\"baxis\":{\"gridcolor\":\"white\",\"linecolor\":\"white\",\"ticks\":\"\"},\"caxis\":{\"gridcolor\":\"white\",\"linecolor\":\"white\",\"ticks\":\"\"}},\"coloraxis\":{\"colorbar\":{\"outlinewidth\":0,\"ticks\":\"\"}},\"colorscale\":{\"sequential\":[[0.0,\"#0d0887\"],[0.1111111111111111,\"#46039f\"],[0.2222222222222222,\"#7201a8\"],[0.3333333333333333,\"#9c179e\"],[0.4444444444444444,\"#bd3786\"],[0.5555555555555556,\"#d8576b\"],[0.6666666666666666,\"#ed7953\"],[0.7777777777777778,\"#fb9f3a\"],[0.8888888888888888,\"#fdca26\"],[1.0,\"#f0f921\"]],\"sequentialminus\":[[0.0,\"#0d0887\"],[0.1111111111111111,\"#46039f\"],[0.2222222222222222,\"#7201a8\"],[0.3333333333333333,\"#9c179e\"],[0.4444444444444444,\"#bd3786\"],[0.5555555555555556,\"#d8576b\"],[0.6666666666666666,\"#ed7953\"],[0.7777777777777778,\"#fb9f3a\"],[0.8888888888888888,\"#fdca26\"],[1.0,\"#f0f921\"]],\"diverging\":[[0,\"#8e0152\"],[0.1,\"#c51b7d\"],[0.2,\"#de77ae\"],[0.3,\"#f1b6da\"],[0.4,\"#fde0ef\"],[0.5,\"#f7f7f7\"],[0.6,\"#e6f5d0\"],[0.7,\"#b8e186\"],[0.8,\"#7fbc41\"],[0.9,\"#4d9221\"],[1,\"#276419\"]]},\"xaxis\":{\"gridcolor\":\"white\",\"linecolor\":\"white\",\"ticks\":\"\",\"title\":{\"standoff\":15},\"zerolinecolor\":\"white\",\"automargin\":true,\"zerolinewidth\":2},\"yaxis\":{\"gridcolor\":\"white\",\"linecolor\":\"white\",\"ticks\":\"\",\"title\":{\"standoff\":15},\"zerolinecolor\":\"white\",\"automargin\":true,\"zerolinewidth\":2},\"scene\":{\"xaxis\":{\"backgroundcolor\":\"#E5ECF6\",\"gridcolor\":\"white\",\"linecolor\":\"white\",\"showbackground\":true,\"ticks\":\"\",\"zerolinecolor\":\"white\",\"gridwidth\":2},\"yaxis\":{\"backgroundcolor\":\"#E5ECF6\",\"gridcolor\":\"white\",\"linecolor\":\"white\",\"showbackground\":true,\"ticks\":\"\",\"zerolinecolor\":\"white\",\"gridwidth\":2},\"zaxis\":{\"backgroundcolor\":\"#E5ECF6\",\"gridcolor\":\"white\",\"linecolor\":\"white\",\"showbackground\":true,\"ticks\":\"\",\"zerolinecolor\":\"white\",\"gridwidth\":2}},\"shapedefaults\":{\"line\":{\"color\":\"#2a3f5f\"}},\"annotationdefaults\":{\"arrowcolor\":\"#2a3f5f\",\"arrowhead\":0,\"arrowwidth\":1},\"geo\":{\"bgcolor\":\"white\",\"landcolor\":\"#E5ECF6\",\"subunitcolor\":\"white\",\"showland\":true,\"showlakes\":true,\"lakecolor\":\"white\"},\"title\":{\"x\":0.05},\"mapbox\":{\"style\":\"light\"}}},\"updatemenus\":[{\"active\":0,\"buttons\":[{\"args\":[{\"visible\":[true,true,true]},{\"title\":\"Average step count of days of the week over in different seasons\",\"xaxis\":{\"title\":\"Day of the Week\"},\"yaxis\":{\"title\":\"Average Step Count\"}}],\"label\":\"Seasons\",\"method\":\"update\"},{\"args\":[{\"visible\":[true,false,false]},{\"title\":\"Average step count of days of the week over in Summer\",\"xaxis\":{\"title\":\"Day of the Week\"},\"yaxis\":{\"title\":\"Average Step Count\"}}],\"label\":\"Summer\",\"method\":\"update\"},{\"args\":[{\"visible\":[false,true,false]},{\"title\":\"Average step count of days of the week over in Autumn\",\"xaxis\":{\"title\":\"Day of the Week\"},\"yaxis\":{\"title\":\"Average Step Count\"}}],\"label\":\"Autumn\",\"method\":\"update\"},{\"args\":[{\"visible\":[false,false,true]},{\"title\":\"Average step count of days of the week over in Winter\",\"xaxis\":{\"title\":\"Day of the Week\"},\"yaxis\":{\"title\":\"Average Step Count\"}}],\"label\":\"Winter\",\"method\":\"update\"}]}],\"title\":{\"x\":0.5},\"legend\":{\"x\":0,\"y\":1.0,\"bgcolor\":\"rgba(255, 255, 255, 0)\",\"bordercolor\":\"rgba(255, 255, 255, 0)\"},\"barmode\":\"group\",\"bargap\":0.15,\"bargroupgap\":0.1},                        {\"responsive\": true}                    ).then(function(){\n",
       "                            \n",
       "var gd = document.getElementById('730e476e-d5a8-4577-924a-3c1a6735dbce');\n",
       "var x = new MutationObserver(function (mutations, observer) {{\n",
       "        var display = window.getComputedStyle(gd).display;\n",
       "        if (!display || display === 'none') {{\n",
       "            console.log([gd, 'removed!']);\n",
       "            Plotly.purge(gd);\n",
       "            observer.disconnect();\n",
       "        }}\n",
       "}});\n",
       "\n",
       "// Listen for the removal of the full notebook cells\n",
       "var notebookContainer = gd.closest('#notebook-container');\n",
       "if (notebookContainer) {{\n",
       "    x.observe(notebookContainer, {childList: true});\n",
       "}}\n",
       "\n",
       "// Listen for the clearing of the current output cell\n",
       "var outputEl = gd.closest('.output');\n",
       "if (outputEl) {{\n",
       "    x.observe(outputEl, {childList: true});\n",
       "}}\n",
       "\n",
       "                        })                };                });            </script>        </div>"
      ]
     },
     "metadata": {},
     "output_type": "display_data"
    }
   ],
   "source": [
    "# This is an interactive graph allows you to compares the seasons but also each season by it self. Able to analyse the trends separately\n",
    "# THIS CODE BLOCK DOES NOT NEED TO BE CHANGED when switching participants!!! Just rerun this block!\n",
    "# Initialize figure\n",
    "fig = go.Figure()\n",
    "\n",
    "# Add Traces which are basically the layers for the graph, set colours to colours that are typically associated with each season\n",
    "fig.add_trace(\n",
    "    go.Bar(name='Summer', x=Sum[\"WeekDay\"], y=Sum['Steps'],marker_color='rgb(240, 90, 101)'))\n",
    "\n",
    "fig.add_trace(\n",
    "    go.Bar(name='Autumn', x=Aut[\"WeekDay\"], y=Aut['Steps'],marker_color='rgb(250, 148, 34)'))\n",
    "\n",
    "fig.add_trace(\n",
    "    go.Bar(name='Winter', x=Win[\"WeekDay\"], y=Win['Steps'],marker_color='rgb(83, 205, 241)'))\n",
    "\n",
    "# put the traces together with a drop down menu, along with title, x-axis label, y-axis label\n",
    "fig.update_layout(\n",
    "    updatemenus=[\n",
    "        dict(\n",
    "            active=0,\n",
    "            buttons=list([\n",
    "                dict(label=\"Seasons\",\n",
    "                     method=\"update\",\n",
    "                     args=[{\"visible\": [True, True, True]},\n",
    "                           {\"title\": \"Average step count of days of the week over in different seasons\",\n",
    "                           'xaxis': {'title': 'Day of the Week'},\n",
    "                          'yaxis': {'title': 'Average Step Count'}}]),\n",
    "                dict(label=\"Summer\",\n",
    "                     method=\"update\",\n",
    "                     args=[{\"visible\": [True, False, False]},\n",
    "                           {\"title\": \"Average step count of days of the week over in Summer\",\n",
    "                           'xaxis': {'title': 'Day of the Week'},\n",
    "                          'yaxis': {'title': 'Average Step Count'}}]),\n",
    "                dict(label=\"Autumn\",\n",
    "                     method=\"update\",\n",
    "                     args=[{\"visible\": [False, True, False]},\n",
    "                           {\"title\": \"Average step count of days of the week over in Autumn\",\n",
    "                           'xaxis': {'title': 'Day of the Week'},\n",
    "                          'yaxis': {'title': 'Average Step Count'}}]),\n",
    "                dict(label=\"Winter\",\n",
    "                     method=\"update\",\n",
    "                     args=[{\"visible\": [False,False, True]},\n",
    "                           {\"title\": \"Average step count of days of the week over in Winter\",\n",
    "                           'xaxis': {'title': 'Day of the Week'},\n",
    "                          'yaxis': {'title': 'Average Step Count'}}])\n",
    "                \n",
    "                \n",
    "            ]),\n",
    "        )\n",
    "    ])\n",
    "\n",
    "# Update the positioning of title and gap between bars.\n",
    "fig.update_layout(\n",
    "    title_x=0.5,\n",
    "    \n",
    "        legend=dict(\n",
    "            x=0,\n",
    "            y=1.0,\n",
    "            bgcolor='rgba(255, 255, 255, 0)',\n",
    "            bordercolor='rgba(255, 255, 255, 0)'\n",
    "        ),\n",
    "        barmode='group',\n",
    "        bargap=0.15, # gap between bars of adjacent location coordinates.\n",
    "        bargroupgap=0.1 # gap between bars of the same location coordinate.\n",
    "    )\n"
   ]
  },
  {
   "cell_type": "markdown",
   "id": "c74bc4cc",
   "metadata": {},
   "source": [
    "We can see that the assumption for participants being most active in the summer is not applicable to this participant as for everyday across the week, it can be observed that Summer has the lowest steps in comparision to Autumn and Winter. Autumn seems to be the season where the steps counts are highest for this participant. Looking at each season separately, we can see this participant has higher step counts on Saturdays.\n",
    "\n",
    "**Overall Results**\n",
    "\n",
    "The assumptions that Participants would have higher step counts for weekends during the summer is not True as besides Participant 3 which showed a clear difference that during summer the step counts increase for the weekends, no other participant show a hgiher step activity for weekends in summer. There were 2 participants which showed a higher step count in summer, however the day that they were most active was during Wednesdays and not the weekends. The was one participant that showed a preference for Saturday where their steps had a significant increase compared to other days of the week however showed similar level of steps for all seasons. There was also one participant that showed lower steps in summer. Overall it seems that different individuals have different preference for seasons and Australians having higher activity in summer can not be applied as a general assumption for everyone.\n"
   ]
  },
  {
   "cell_type": "markdown",
   "id": "ec52964f",
   "metadata": {},
   "source": [
    "### Step Count Correlation with Weather"
   ]
  },
  {
   "cell_type": "markdown",
   "id": "d408f141",
   "metadata": {},
   "source": [
    "Understanding if there is a correlation between Steps and Weather, not only could benefit the individual in getting deeper insight into their preferences but also be of interest to event planners and health organisation as by understanding the relationship between steps and weather, they could better plan future events with consideration of weather.\n",
    "\n",
    "Initial Hypothesis: Participants will be less affected by rainfall during weekdays and show stronger corelation to sun exposure on weekends.\n",
    "\n",
    "Reason: participants will be less affected by rainfall for weekdays as often for work and school, people have a requirement to be there, in comparision to weekends where they have a day off (for most people) therefore they have a choice to not go out on days that rain. participants will show stronger correlation to sun exposure on weekends as people tend to plan social outings on weekends, therefore it is more likely that the plan goes through for days that are sunny.\n",
    "\n",
    "Assumptions made: that the participants have some locational association with the University of Sydney or the area around the CBD of Sydney as the rainfall and solar exposure datasets is retrieved from the nearest weather station to the University of Sydney. This introduces high level of uncertainty into the analysis as the participant could have no relation to USYD or the city of Sydney on a daily basis.\n",
    "\n",
    "Two bar graph is chosen to visualise the correlation for each day of the week between step count and rainfall or stepcount and solar exposure. \n",
    "\n",
    "\n",
    "\n",
    "_to view the graph for a different participant, please change the code in the code block below, then run all code blocks below_"
   ]
  },
  {
   "cell_type": "code",
   "execution_count": 78,
   "id": "aff45043",
   "metadata": {},
   "outputs": [],
   "source": [
    "# group data by date and find which week does the date belong to in the year.\n",
    "# CHANGE PARTICIPANTS HERE: CHANGE p#.groupby.. in the line below to the participant you want e.g. p2.groupby...,p7.groupby...\n",
    "day = p8.groupby(['Date'], as_index=False).agg({'Steps': 'sum','WeekDay': 'first','Month': 'first'})\n",
    "day['Week'] =  day['Date'].dt.isocalendar().week"
   ]
  },
  {
   "cell_type": "markdown",
   "id": "ae27a218",
   "metadata": {},
   "source": [
    "Looking at the correlation between step count and sun exposure for participant 1 as example:"
   ]
  },
  {
   "cell_type": "code",
   "execution_count": 79,
   "id": "b6d7c851",
   "metadata": {},
   "outputs": [
    {
     "data": {
      "image/png": "[encoded data removed]",
      "text/plain": [
       "<Figure size 720x360 with 1 Axes>"
      ]
     },
     "metadata": {
      "needs_background": "light"
     },
     "output_type": "display_data"
    }
   ],
   "source": [
    "# DO NOT CHANGE THIS CHUNK\n",
    "# creates a function that calculates the correlaton between step count and sun exposure for each day across the week\n",
    "def graphsuncorr(df):\n",
    "#     combines participant step data with sun exposure data\n",
    "    test = pd.merge(df,sun[['Daily global solar exposure (MJ/m*m)','Date']],on='Date', how='left')\n",
    "    t2 = test.groupby(['WeekDay','Week']).agg({'Steps':'mean','Daily global solar exposure (MJ/m*m)':'mean'}).reset_index()\n",
    "#     dictionary that stores the correlation for days across the week\n",
    "    cor = {}\n",
    "#     separate by day of week \n",
    "    m = t2.loc[t2['WeekDay']=='Monday']\n",
    "    t = t2.loc[t2['WeekDay']=='Tuesday']\n",
    "    w = t2.loc[t2['WeekDay']=='Wednesday']\n",
    "    th = t2.loc[t2['WeekDay']=='Thursday']\n",
    "    f = t2.loc[t2['WeekDay']=='Friday']\n",
    "    s = t2.loc[t2['WeekDay']=='Saturday']\n",
    "    sn = t2.loc[t2['WeekDay']=='Sunday']\n",
    "\n",
    "#     calculate correlation (using corr function) individually for days across week, put into dictionary\n",
    "    cor['Monday'] = m['Steps'].corr(m['Daily global solar exposure (MJ/m*m)'])\n",
    "    cor['Tuesday'] = t['Steps'].corr(t['Daily global solar exposure (MJ/m*m)'])\n",
    "    cor['Wednesday'] = w['Steps'].corr(w['Daily global solar exposure (MJ/m*m)'])\n",
    "    cor['Thursday'] = th['Steps'].corr(th['Daily global solar exposure (MJ/m*m)'])\n",
    "    cor['Friday'] = f['Steps'].corr(f['Daily global solar exposure (MJ/m*m)'])\n",
    "    cor['Saturday'] = s['Steps'].corr(s['Daily global solar exposure (MJ/m*m)'])\n",
    "    cor['Sunday'] = sn['Steps'].corr(sn['Daily global solar exposure (MJ/m*m)'])\n",
    "\n",
    "# now plot the bar graph\n",
    "    plt.rcParams[\"figure.figsize\"] = (10,5)\n",
    "#     goes through dictionary then plots the values \n",
    "    plt.bar(range(len(cor)), list(cor.values()), align='center')\n",
    "#     the x-ticks are keys of the dictionary which are week day names\n",
    "    plt.xticks(range(len(cor)), list(cor.keys()))\n",
    "#     set title, x-label, y-label\n",
    "    plt.xlabel('Days of the Week') \n",
    "    plt.ylabel('Correlation coefficient') \n",
    "    plt.title(\"Correlation between Step Count and Sun Exposure\")\n",
    "    plt.show()\n",
    "\n",
    "    \n",
    "# call function to get correlation graph for participant    \n",
    "graphsuncorr(day)"
   ]
  },
  {
   "cell_type": "markdown",
   "id": "c1924aec",
   "metadata": {},
   "source": [
    "From the graph we can see that for Wednesday, Friday and Sunday your step count have moderate positive correlation with the amount of sunlight as it has a higher corelation coefficient and that these days show a stronger correlation between steps ad sun exposure. The correlation for all days across the week is positive, therefore for days that have higher sun exposure, participant 1 is possible to make more steps.\n",
    "\n",
    "Now looking at the correlation between step count and rainfall for participant 1:"
   ]
  },
  {
   "cell_type": "code",
   "execution_count": 80,
   "id": "348f3af0",
   "metadata": {},
   "outputs": [
    {
     "data": {
      "image/png": "[encoded data removed]",
      "text/plain": [
       "<Figure size 720x360 with 1 Axes>"
      ]
     },
     "metadata": {
      "needs_background": "light"
     },
     "output_type": "display_data"
    }
   ],
   "source": [
    "# DO NOT CHANGE THIS CHUNK\n",
    "# creates a function that calculates the correlaton between step count and rainfall for each day across the week\n",
    "def graphrfcorr(df):\n",
    "    #     combines participant step data with rainfall data\n",
    "    test = pd.merge(df,sydrain[['Rainfall amount (millimetres)','Date']],on='Date', how='left')\n",
    "    t2 = test.groupby(['WeekDay','Week']).agg({'Steps':'mean','Rainfall amount (millimetres)':'mean'}).reset_index()\n",
    "    #     dictionary that stores the correlation for days across the week\n",
    "    cor = {}\n",
    "    #     separate by day of week \n",
    "    m = t2.loc[t2['WeekDay']=='Monday']\n",
    "    t = t2.loc[t2['WeekDay']=='Tuesday']\n",
    "    w = t2.loc[t2['WeekDay']=='Wednesday']\n",
    "    th = t2.loc[t2['WeekDay']=='Thursday']\n",
    "    f = t2.loc[t2['WeekDay']=='Friday']\n",
    "    s = t2.loc[t2['WeekDay']=='Saturday']\n",
    "    sn = t2.loc[t2['WeekDay']=='Sunday']\n",
    "    \n",
    "    #     calculate correlation (using corr function) individually for days across week, put into dictionary\n",
    "\n",
    "    cor['Monday'] = m['Steps'].corr(m['Rainfall amount (millimetres)'])\n",
    "    cor['Tuesday'] = t['Steps'].corr(t['Rainfall amount (millimetres)'])\n",
    "    cor['Wednesday'] = w['Steps'].corr(w['Rainfall amount (millimetres)'])\n",
    "    cor['Thursday'] = th['Steps'].corr(th['Rainfall amount (millimetres)'])\n",
    "    cor['Friday'] = f['Steps'].corr(f['Rainfall amount (millimetres)'])\n",
    "    cor['Saturday'] = s['Steps'].corr(s['Rainfall amount (millimetres)'])\n",
    "    cor['Sunday'] = sn['Steps'].corr(sn['Rainfall amount (millimetres)'])\n",
    "\n",
    "    # now plot the bar graph\n",
    "    plt.rcParams[\"figure.figsize\"] = (10,5)\n",
    "    #     goes through dictionary then plots the values \n",
    "    plt.bar(range(len(cor)), list(cor.values()), align='center')\n",
    "    #     the x-ticks are keys of the dictionary which are week day names\n",
    "    plt.xticks(range(len(cor)), list(cor.keys()))\n",
    "#     plot title, x-label, y-label\n",
    "    plt.xlabel('Days of the Week') \n",
    "    plt.ylabel('Correlation coefficient') \n",
    "    plt.title(\"Correlation between Step Count and Rainfall\")\n",
    "    plt.show()\n",
    "    \n",
    "    \n",
    "# call function to get correlation graph for participant    \n",
    "graphrfcorr(day)"
   ]
  },
  {
   "cell_type": "markdown",
   "id": "af8ec96a",
   "metadata": {},
   "source": [
    "We can see that for most weekdays and Sunday, the amount of steps participant 1 take show a slight negative correlation with the amount of rain. This means that for days with higher rainfall, they are slightly likely to be less active. However it can be seen that Friday and Saturday has low positive correlation, showing that for these day their steps are not impacted by the rain and continue to make their steps like a day with no rain.\n",
    "\n",
    "**Overall Results**\n",
    "\n",
    "The assumption that Participants will be less affected by rainfall during weekdays and show stronger corelation to sun exposure on weekends is not true. Rainfall for most participants show a negative correlation with step count meaning that for days that rain more participants walk less, which does not support the assumption that during weekdays the correlation will still be positive as people still have to walk as much to get to mandatory job or school. Friday and Saturday surprisingly was positive for quite a few participant's step correlation with rainfall, which might suggest these two days people go out as normal and their plans are not impacted by rain. For sun exposure's correation to step count, the initial assumption was that there would be higher correlation on weekends, this could not be identified in the data as for most participants most days of the week showed a similiar weak to moderate correlation and there wasn't any particular day that had a stand out correlation. \n",
    "\n",
    "However, it is to note that corelation does not mean causation for this result where the change in one variable is the cause of the change in the values of the other variable. Having higher rain or sun exposure does not cause steps to increase or decrease."
   ]
  },
  {
   "cell_type": "markdown",
   "id": "2c1afdba",
   "metadata": {},
   "source": [
    "# References\n",
    "We report here relevant references:\n",
    "1. author1, article1, journal1, year1, url1\n",
    "2. author2, article2, journal2, year2, url2"
   ]
  },
  {
   "cell_type": "code",
   "execution_count": null,
   "id": "94bbb2b0",
   "metadata": {},
   "outputs": [],
   "source": []
  },
  {
   "cell_type": "code",
   "execution_count": null,
   "id": "17c82da9",
   "metadata": {},
   "outputs": [],
   "source": []
  }
 ],
 "metadata": {
  "kernelspec": {
   "display_name": "Python 3 (ipykernel)",
   "language": "python",
   "name": "python3"
  },
  "language_info": {
   "codemirror_mode": {
    "name": "ipython",
    "version": 3
   },
   "file_extension": ".py",
   "mimetype": "text/x-python",
   "name": "python",
   "nbconvert_exporter": "python",
   "pygments_lexer": "ipython3",
   "version": "3.9.7"
  }
 },
 "nbformat": 4,
 "nbformat_minor": 5
}
