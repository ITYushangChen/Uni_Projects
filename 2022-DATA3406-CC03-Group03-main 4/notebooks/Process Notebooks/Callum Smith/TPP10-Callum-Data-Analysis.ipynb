{
 "cells": [
  {
   "cell_type": "markdown",
   "metadata": {},
   "source": [
    "Callum's Analysis of Dataset 3 & 4\n",
    "\n",
    "The aim of this Data Analysis is to investigate the patterns between the average number of steps on weekends and weekdays.\n",
    "\n",
    "The below code imports all relevant libraries, and handles the initial loading of the datasets"
   ]
  },
  {
   "cell_type": "code",
   "execution_count": 1,
   "metadata": {},
   "outputs": [],
   "source": [
    "import pandas as pd\n",
    "from scipy.stats import ttest_ind\n",
    "import numpy as np\n",
    "import matplotlib.pyplot as plt\n",
    "import datetime as dt\n",
    "import seaborn as sns\n",
    "\n",
    "#Import the Data\n",
    "dataset3 = pd.read_csv(\"../../../datasets/Participant-03.csv\")\n",
    "dataset4 = pd.read_csv(\"../../../datasets/Participant-04.csv\")\n",
    "\n",
    "#rename Columns names to uniform standard\n",
    "dataset3.rename(columns = {\"Steps (count)\": \"Steps\"}, inplace = True)\n",
    "dataset4.rename(columns = {\"Steps (count)\": \"Steps\"}, inplace = True)\n",
    "\n",
    "\n",
    "#Drop any rows with null Values, and print the head and tail of the dataset for intial investigation\n",
    "# dataset3.dropna()\n",
    "# dataset4.dropna() \n"
   ]
  },
  {
   "cell_type": "markdown",
   "metadata": {},
   "source": [
    "The above results show the shape of the data (6020 records), as well as the makeup of the inputed columns, especially the Start and End columns, which will be reformatted in the next section. \n",
    "\n",
    "The goal of the next section is to investigate whether there are board trends based on days of the week in terms of steps taken."
   ]
  },
  {
   "cell_type": "code",
   "execution_count": 2,
   "metadata": {},
   "outputs": [],
   "source": [
    "#Transform String into DataTime format for Start and Finish Columns\n",
    "dataset3['Start'] = pd.to_datetime( dataset3['Start'], infer_datetime_format = True)\n",
    "dataset3['Finish'] = pd.to_datetime( dataset3['Finish'], infer_datetime_format = True)\n",
    "\n",
    "dataset4['Start'] = pd.to_datetime( dataset4['Start'], infer_datetime_format = True)\n",
    "dataset4['Finish'] = pd.to_datetime( dataset4['Finish'], infer_datetime_format = True)\n",
    "\n",
    "#Create a new column with the starting day of each sample 1 hours period\n",
    "dataset3['Day'] = dataset3['Start'].dt.day_of_week\n",
    "dataset4['Day'] = dataset4['Start'].dt.day_of_week\n",
    "\n",
    "#Creates an hour column, ranging from 0 to 23\n",
    "dataset3['Hour'] = dataset3['Start'].dt.hour\n",
    "dataset4['Hour'] = dataset4['Start'].dt.hour\n",
    "\n",
    "#seperate both datasets into weekend and weekday subsets\n",
    "weekdays3 = dataset3[(dataset3['Day'] != 6) & (dataset3['Day'] != 7)]\n",
    "weekends3 = dataset3[(dataset3['Day'] == 6) | (dataset3['Day'] == 7)]\n",
    "#TODO make 0-6 into mon-sun\n",
    "\n",
    "weekdays4 = dataset4[(dataset4['Day'] != 6) & (dataset4['Day'] != 7)]\n",
    "weekends4 = dataset4[(dataset4['Day'] == 6) | (dataset4['Day'] == 7)]\n"
   ]
  },
  {
   "cell_type": "code",
   "execution_count": 8,
   "metadata": {},
   "outputs": [
    {
     "data": {
      "text/plain": [
       "<AxesSubplot:xlabel='Hour', ylabel='Steps'>"
      ]
     },
     "execution_count": 8,
     "metadata": {},
     "output_type": "execute_result"
    },
    {
     "data": {
      "image/png": "[encoded data removed]",
      "text/plain": [
       "<Figure size 432x288 with 1 Axes>"
      ]
     },
     "metadata": {
      "needs_background": "light"
     },
     "output_type": "display_data"
    }
   ],
   "source": [
    "#perform t-test on participant-3 dataset between the weekend and weekday means \n",
    "ttest_ind(weekdays3['Steps'], weekends3['Steps'], equal_var=False)\n",
    "\n",
    "#Weekdays\n",
    "hour_weekdays3 = weekdays3.groupby(['Hour'])['Steps'].mean().to_frame()\n",
    "hour_weekdays3['Hour'] = pd.Series(range(1,24))\n",
    "\n",
    "#Weekends\n",
    "hour_weekends3 = weekends3.groupby(['Hour'])['Steps'].mean().to_frame()\n",
    "hour_weekends3['Hour'] = pd.Series(range(1,24))\n",
    "\n",
    "#Plots\n",
    "sns.barplot(data=hour_weekends3, x=\"Hour\", y=\"Steps\")\n",
    "sns.barplot(data=hour_weekdays3, x=\"Hour\", y=\"Steps\")"
   ]
  },
  {
   "cell_type": "code",
   "execution_count": 10,
   "metadata": {},
   "outputs": [
    {
     "data": {
      "text/plain": [
       "<AxesSubplot:xlabel='Hour', ylabel='Steps'>"
      ]
     },
     "execution_count": 10,
     "metadata": {},
     "output_type": "execute_result"
    },
    {
     "data": {
      "image/png": "[encoded data removed]",
      "text/plain": [
       "<Figure size 432x288 with 1 Axes>"
      ]
     },
     "metadata": {
      "needs_background": "light"
     },
     "output_type": "display_data"
    }
   ],
   "source": [
    "#perform t-test on participant-4 dataset between the weekend and weekday means \n",
    "ttest_ind(weekdays4['Steps'], weekends4['Steps'], equal_var=False)\n",
    "\n",
    "#TODO sort out this code, instead of adding a new column, get back the column that was initially defaulted to be the index\n",
    "\n",
    "#Weekdays\n",
    "hour_weekdays4 = weekdays4.groupby(['Hour'])['Steps'].mean().to_frame()\n",
    "hour_weekdays4['Hour'] = pd.Series(range(1,24))\n",
    "\n",
    "#Weekends\n",
    "hour_weekends4 = weekends4.groupby(['Hour'])['Steps'].mean().to_frame()\n",
    "hour_weekends4['Hour'] = pd.Series(range(1,24))\n",
    "\n",
    "#Plots\n",
    "sns.barplot(data=hour_weekends4, x=\"Hour\", y=\"Steps\")\n"
   ]
  },
  {
   "cell_type": "code",
   "execution_count": 9,
   "metadata": {},
   "outputs": [
    {
     "data": {
      "text/plain": [
       "<AxesSubplot:xlabel='Hour', ylabel='Steps'>"
      ]
     },
     "execution_count": 9,
     "metadata": {},
     "output_type": "execute_result"
    },
    {
     "data": {
      "image/png": "[encoded data removed]",
      "text/plain": [
       "<Figure size 432x288 with 1 Axes>"
      ]
     },
     "metadata": {
      "needs_background": "light"
     },
     "output_type": "display_data"
    }
   ],
   "source": [
    "sns.barplot(data=hour_weekdays4, x=\"Hour\", y=\"Steps\")"
   ]
  },
  {
   "cell_type": "markdown",
   "metadata": {},
   "source": [
    "As both p-values are less than 0.05, therefore there is a statistically significant difference between the mean steps taken on weekdays and weekends.\n",
    "\n",
    "These results show that there is a significant difference across the different days, with a clear dip during Saturday and Sunday, with a mid-week \"hump\" in the number of steps walked. This lines up with previous literature on the subject. This initial Analysis informs the further questions that can be tested on this dataset, including why there is such a large weekend reduction, and why wednesday is the most active. Whether these trends hold across seasons may be another question for our research."
   ]
  },
  {
   "cell_type": "code",
   "execution_count": 5,
   "metadata": {},
   "outputs": [],
   "source": [
    "#TODO Add graph comparing hourly differences between weekends and weekdays\n",
    "#TODO Add priors for tests/graphs\n",
    "#TODO Add participant-08 dataset\n",
    "#TODO make 0-6 into mon-sun"
   ]
  }
 ],
 "metadata": {
  "kernelspec": {
   "display_name": "Python 3 (ipykernel)",
   "language": "python",
   "name": "python3"
  },
  "language_info": {
   "codemirror_mode": {
    "name": "ipython",
    "version": 3
   },
   "file_extension": ".py",
   "mimetype": "text/x-python",
   "name": "python",
   "nbconvert_exporter": "python",
   "pygments_lexer": "ipython3",
   "version": "3.10.2"
  },
  "vscode": {
   "interpreter": {
    "hash": "aee8b7b246df8f9039afb4144a1f6fd8d2ca17a180786b69acc140d282b71a49"
   }
  }
 },
 "nbformat": 4,
 "nbformat_minor": 2
}
