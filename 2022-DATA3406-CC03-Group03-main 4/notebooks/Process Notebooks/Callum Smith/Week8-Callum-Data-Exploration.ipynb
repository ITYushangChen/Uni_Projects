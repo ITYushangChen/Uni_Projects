{
 "cells": [
  {
   "cell_type": "markdown",
   "metadata": {},
   "source": [
    "Callum's Branch\n",
    "\n",
    "The aim of this Initial Data exploration is to investigate patterns that may exist within the dataset, which may be worth of further statistical investigation.\n",
    "\n",
    "The below code imports all relevant libraries, and handles the initial loading of the dataset"
   ]
  },
  {
   "cell_type": "code",
   "execution_count": 2,
   "metadata": {},
   "outputs": [
    {
     "name": "stdout",
     "output_type": "stream",
     "text": [
      "<bound method NDFrame.head of                  Start            Finish        Steps\n",
      "0     31/12/2021 23:00   01/01/2022 0:00     0.000000\n",
      "1      01/01/2022 0:00   01/01/2022 1:00    14.000000\n",
      "2      01/01/2022 1:00   01/01/2022 2:00     0.000000\n",
      "3      01/01/2022 2:00   01/01/2022 3:00     0.000000\n",
      "4      01/01/2022 3:00   01/01/2022 4:00     0.000000\n",
      "...                ...               ...          ...\n",
      "6015  08/09/2022 13:00  08/09/2022 14:00     0.000000\n",
      "6016  08/09/2022 14:00  08/09/2022 15:00   893.959035\n",
      "6017  08/09/2022 15:00  08/09/2022 16:00   534.040965\n",
      "6018  08/09/2022 16:00  08/09/2022 17:00   390.020268\n",
      "6019  08/09/2022 17:00  08/09/2022 18:00  1191.979732\n",
      "\n",
      "[6020 rows x 3 columns]>\n"
     ]
    }
   ],
   "source": [
    "import pandas as pd\n",
    "import numpy as np\n",
    "import matplotlib.pyplot as plt\n",
    "import datetime as dt\n",
    "\n",
    "#Import the Data\n",
    "dataset = pd.read_csv(\"../../datasets/Participant-03.csv\")\n",
    "\n",
    "#rename Columns names to uniform standard\n",
    "dataset.rename(columns = {\"Steps (count)\": \"Steps\"}, inplace = True)\n",
    "\n",
    "#Drop any rows with null Values, and print the head and tail of the dataset for intial investigation\n",
    "dataset.dropna()\n",
    "print(dataset.head)\n",
    "\n"
   ]
  },
  {
   "cell_type": "markdown",
   "metadata": {},
   "source": [
    "The above results show the shape of the data (6020 records), as well as the makeup of the inputed columns, especially the Start and End columns, which will be reformatted in the next section. \n",
    "\n",
    "The goal of the next section is to investigate whether there are board trends based on days of the week in terms of steps taken."
   ]
  },
  {
   "cell_type": "code",
   "execution_count": 3,
   "metadata": {},
   "outputs": [
    {
     "data": {
      "text/plain": [
       "count    5155.000000\n",
       "mean      252.261106\n",
       "std       548.980608\n",
       "min         0.000000\n",
       "25%         0.000000\n",
       "50%         0.000000\n",
       "75%       148.000000\n",
       "max      4828.967310\n",
       "Name: Steps, dtype: float64"
      ]
     },
     "execution_count": 3,
     "metadata": {},
     "output_type": "execute_result"
    }
   ],
   "source": [
    "#Transform String into DataTime format for Start and Finish Columns\n",
    "dataset['Start'] = pd.to_datetime( dataset['Start'], infer_datetime_format = True)\n",
    "dataset['Finish'] = pd.to_datetime( dataset['Finish'], infer_datetime_format = True)\n",
    "\n",
    "#Create a new column with the starting day of each sample 1 hours period\n",
    "dataset['Day'] = dataset['Start'].dt.day_of_week\n",
    "#dataset.info()\n",
    "\n",
    "weekdays = dataset[(dataset['Day'] != 6) & (dataset['Day'] != 7)]\n",
    "weekends = dataset[(dataset['Day'] == 6) | (dataset['Day'] == 7)]\n",
    "\n",
    "weekdays['Steps'].describe()\n",
    "\n"
   ]
  },
  {
   "cell_type": "code",
   "execution_count": 4,
   "metadata": {},
   "outputs": [
    {
     "data": {
      "text/html": [
       "<div>\n",
       "<style scoped>\n",
       "    .dataframe tbody tr th:only-of-type {\n",
       "        vertical-align: middle;\n",
       "    }\n",
       "\n",
       "    .dataframe tbody tr th {\n",
       "        vertical-align: top;\n",
       "    }\n",
       "\n",
       "    .dataframe thead th {\n",
       "        text-align: right;\n",
       "    }\n",
       "</style>\n",
       "<table border=\"1\" class=\"dataframe\">\n",
       "  <thead>\n",
       "    <tr style=\"text-align: right;\">\n",
       "      <th></th>\n",
       "      <th>Start</th>\n",
       "      <th>Finish</th>\n",
       "      <th>Steps</th>\n",
       "      <th>Day</th>\n",
       "    </tr>\n",
       "  </thead>\n",
       "  <tbody>\n",
       "    <tr>\n",
       "      <th>25</th>\n",
       "      <td>2022-01-02 00:00:00</td>\n",
       "      <td>2022-02-01 01:00:00</td>\n",
       "      <td>0.0</td>\n",
       "      <td>6</td>\n",
       "    </tr>\n",
       "    <tr>\n",
       "      <th>26</th>\n",
       "      <td>2022-01-02 01:00:00</td>\n",
       "      <td>2022-02-01 02:00:00</td>\n",
       "      <td>16.0</td>\n",
       "      <td>6</td>\n",
       "    </tr>\n",
       "    <tr>\n",
       "      <th>27</th>\n",
       "      <td>2022-01-02 02:00:00</td>\n",
       "      <td>2022-02-01 03:00:00</td>\n",
       "      <td>0.0</td>\n",
       "      <td>6</td>\n",
       "    </tr>\n",
       "    <tr>\n",
       "      <th>28</th>\n",
       "      <td>2022-01-02 03:00:00</td>\n",
       "      <td>2022-02-01 04:00:00</td>\n",
       "      <td>0.0</td>\n",
       "      <td>6</td>\n",
       "    </tr>\n",
       "    <tr>\n",
       "      <th>29</th>\n",
       "      <td>2022-01-02 04:00:00</td>\n",
       "      <td>2022-02-01 05:00:00</td>\n",
       "      <td>0.0</td>\n",
       "      <td>6</td>\n",
       "    </tr>\n",
       "  </tbody>\n",
       "</table>\n",
       "</div>"
      ],
      "text/plain": [
       "                 Start              Finish  Steps  Day\n",
       "25 2022-01-02 00:00:00 2022-02-01 01:00:00    0.0    6\n",
       "26 2022-01-02 01:00:00 2022-02-01 02:00:00   16.0    6\n",
       "27 2022-01-02 02:00:00 2022-02-01 03:00:00    0.0    6\n",
       "28 2022-01-02 03:00:00 2022-02-01 04:00:00    0.0    6\n",
       "29 2022-01-02 04:00:00 2022-02-01 05:00:00    0.0    6"
      ]
     },
     "execution_count": 4,
     "metadata": {},
     "output_type": "execute_result"
    }
   ],
   "source": [
    "weekends['Steps'].describe()\n",
    "weekends.head()"
   ]
  },
  {
   "cell_type": "markdown",
   "metadata": {},
   "source": [
    "These results show that there is ia significant difference across the different days, with a clear dip during Saturday and Sunday, with a mid-week \"hump\" in the number of steps walked. This lines up with previous literature on the subject. This initial Analysis informs the further questions that can be tested on this dataset, including why there is such a large weekend reduction, and why wednesday is the most active. Whether these trends hold across seasons may be another question for our research."
   ]
  }
 ],
 "metadata": {
  "kernelspec": {
   "display_name": "Python 3.10.6 64-bit",
   "language": "python",
   "name": "python3"
  },
  "language_info": {
   "codemirror_mode": {
    "name": "ipython",
    "version": 3
   },
   "file_extension": ".py",
   "mimetype": "text/x-python",
   "name": "python",
   "nbconvert_exporter": "python",
   "pygments_lexer": "ipython3",
   "version": "3.10.6"
  },
  "orig_nbformat": 4,
  "vscode": {
   "interpreter": {
    "hash": "aee8b7b246df8f9039afb4144a1f6fd8d2ca17a180786b69acc140d282b71a49"
   }
  }
 },
 "nbformat": 4,
 "nbformat_minor": 2
}
