{
 "cells": [
  {
   "cell_type": "markdown",
   "metadata": {},
   "source": [
    "# Data exploration - dataset 2\n",
    "\n",
    "Process notebook for TPP08\n",
    "\n",
    "Author: Ziyang Lin (zlin4387)\n",
    "\n",
    "Date: 20/09/2022"
   ]
  },
  {
   "cell_type": "code",
   "execution_count": 42,
   "metadata": {},
   "outputs": [],
   "source": [
    "import pandas as pd\n",
    "import numpy as np\n",
    "import matplotlib.pyplot as plt\n",
    "from pathlib import Path"
   ]
  },
  {
   "cell_type": "markdown",
   "metadata": {},
   "source": [
    "We load the data we're interested in, and then create a copy if it so we can perform data cleaning without modifying the raw data."
   ]
  },
  {
   "cell_type": "code",
   "execution_count": 43,
   "metadata": {},
   "outputs": [
    {
     "data": {
      "text/html": [
       "<div>\n",
       "<style scoped>\n",
       "    .dataframe tbody tr th:only-of-type {\n",
       "        vertical-align: middle;\n",
       "    }\n",
       "\n",
       "    .dataframe tbody tr th {\n",
       "        vertical-align: top;\n",
       "    }\n",
       "\n",
       "    .dataframe thead th {\n",
       "        text-align: right;\n",
       "    }\n",
       "</style>\n",
       "<table border=\"1\" class=\"dataframe\">\n",
       "  <thead>\n",
       "    <tr style=\"text-align: right;\">\n",
       "      <th></th>\n",
       "      <th>Source</th>\n",
       "      <th>Date</th>\n",
       "      <th>Hour</th>\n",
       "      <th>Count</th>\n",
       "    </tr>\n",
       "  </thead>\n",
       "  <tbody>\n",
       "    <tr>\n",
       "      <th>0</th>\n",
       "      <td>P2 Phone</td>\n",
       "      <td>2022-01-01</td>\n",
       "      <td>5</td>\n",
       "      <td>31</td>\n",
       "    </tr>\n",
       "    <tr>\n",
       "      <th>1</th>\n",
       "      <td>P2’s Apple Watch</td>\n",
       "      <td>2021-12-31</td>\n",
       "      <td>21</td>\n",
       "      <td>20</td>\n",
       "    </tr>\n",
       "    <tr>\n",
       "      <th>2</th>\n",
       "      <td>P2’s Apple Watch</td>\n",
       "      <td>2021-12-31</td>\n",
       "      <td>21</td>\n",
       "      <td>16</td>\n",
       "    </tr>\n",
       "    <tr>\n",
       "      <th>3</th>\n",
       "      <td>P2’s Apple Watch</td>\n",
       "      <td>2022-01-01</td>\n",
       "      <td>5</td>\n",
       "      <td>29</td>\n",
       "    </tr>\n",
       "    <tr>\n",
       "      <th>4</th>\n",
       "      <td>P2’s Apple Watch</td>\n",
       "      <td>2022-01-01</td>\n",
       "      <td>5</td>\n",
       "      <td>13</td>\n",
       "    </tr>\n",
       "  </tbody>\n",
       "</table>\n",
       "</div>"
      ],
      "text/plain": [
       "             Source        Date  Hour  Count\n",
       "0          P2 Phone  2022-01-01     5     31\n",
       "1  P2’s Apple Watch  2021-12-31    21     20\n",
       "2  P2’s Apple Watch  2021-12-31    21     16\n",
       "3  P2’s Apple Watch  2022-01-01     5     29\n",
       "4  P2’s Apple Watch  2022-01-01     5     13"
      ]
     },
     "execution_count": 43,
     "metadata": {},
     "output_type": "execute_result"
    }
   ],
   "source": [
    "dataset_path = Path('../../datasets')\n",
    "raw_data_p2 = pd.read_csv(dataset_path / 'Participant-02-detail.csv')\n",
    "data_p2 = raw_data_p2.copy()\n",
    "raw_data_p2.head()"
   ]
  },
  {
   "cell_type": "markdown",
   "metadata": {},
   "source": [
    "We can see from the above that the dataset contains hourly step count collected from various sources (mobile phone and smartwatch)."
   ]
  },
  {
   "cell_type": "markdown",
   "metadata": {},
   "source": [
    "## Data cleaning\n",
    "\n",
    "The code below displays the sources (devices that Participant 02 uses) in the data and the corresponding number of rows."
   ]
  },
  {
   "cell_type": "code",
   "execution_count": 44,
   "metadata": {},
   "outputs": [
    {
     "data": {
      "text/plain": [
       "Source\n",
       "P2 Phone             8190\n",
       "P2’s Apple Watch    23447\n",
       "P2’s iPhone             1\n",
       "dtype: int64"
      ]
     },
     "execution_count": 44,
     "metadata": {},
     "output_type": "execute_result"
    }
   ],
   "source": [
    "data_p2.groupby('Source').size()"
   ]
  },
  {
   "cell_type": "markdown",
   "metadata": {},
   "source": [
    "We can see that there are two souces that both mean the smartphone. We can merge them into one category and convert the column from string to a categorical variable."
   ]
  },
  {
   "cell_type": "code",
   "execution_count": 45,
   "metadata": {},
   "outputs": [
    {
     "data": {
      "text/plain": [
       "SourceCat\n",
       "Phone          8191\n",
       "Smartwatch    23447\n",
       "dtype: int64"
      ]
     },
     "execution_count": 45,
     "metadata": {},
     "output_type": "execute_result"
    }
   ],
   "source": [
    "def convert_source(s):\n",
    "    if s.find('Phone') >= 0:\n",
    "        return 'Phone'\n",
    "    if s.find('Watch') >= 0:\n",
    "        return 'Smartwatch'\n",
    "    return None\n",
    "data_p2['SourceCat'] = data_p2['Source'].map(convert_source).astype('category')\n",
    "data_p2.groupby('SourceCat').size()"
   ]
  },
  {
   "cell_type": "markdown",
   "metadata": {},
   "source": [
    "Next, because the `Date` column is a string like \"2022-01-01\", we need to convert it to three columns `Year`, `Month`, and `Day` to make it more useful for data analysis."
   ]
  },
  {
   "cell_type": "code",
   "execution_count": 46,
   "metadata": {},
   "outputs": [
    {
     "data": {
      "text/html": [
       "<div>\n",
       "<style scoped>\n",
       "    .dataframe tbody tr th:only-of-type {\n",
       "        vertical-align: middle;\n",
       "    }\n",
       "\n",
       "    .dataframe tbody tr th {\n",
       "        vertical-align: top;\n",
       "    }\n",
       "\n",
       "    .dataframe thead th {\n",
       "        text-align: right;\n",
       "    }\n",
       "</style>\n",
       "<table border=\"1\" class=\"dataframe\">\n",
       "  <thead>\n",
       "    <tr style=\"text-align: right;\">\n",
       "      <th></th>\n",
       "      <th>Source</th>\n",
       "      <th>Date</th>\n",
       "      <th>Hour</th>\n",
       "      <th>Count</th>\n",
       "      <th>SourceCat</th>\n",
       "      <th>Year</th>\n",
       "      <th>Month</th>\n",
       "      <th>Day</th>\n",
       "    </tr>\n",
       "  </thead>\n",
       "  <tbody>\n",
       "    <tr>\n",
       "      <th>0</th>\n",
       "      <td>P2 Phone</td>\n",
       "      <td>2022-01-01</td>\n",
       "      <td>5</td>\n",
       "      <td>31</td>\n",
       "      <td>Phone</td>\n",
       "      <td>2022</td>\n",
       "      <td>1</td>\n",
       "      <td>1</td>\n",
       "    </tr>\n",
       "    <tr>\n",
       "      <th>1</th>\n",
       "      <td>P2’s Apple Watch</td>\n",
       "      <td>2021-12-31</td>\n",
       "      <td>21</td>\n",
       "      <td>20</td>\n",
       "      <td>Smartwatch</td>\n",
       "      <td>2021</td>\n",
       "      <td>12</td>\n",
       "      <td>31</td>\n",
       "    </tr>\n",
       "    <tr>\n",
       "      <th>2</th>\n",
       "      <td>P2’s Apple Watch</td>\n",
       "      <td>2021-12-31</td>\n",
       "      <td>21</td>\n",
       "      <td>16</td>\n",
       "      <td>Smartwatch</td>\n",
       "      <td>2021</td>\n",
       "      <td>12</td>\n",
       "      <td>31</td>\n",
       "    </tr>\n",
       "    <tr>\n",
       "      <th>3</th>\n",
       "      <td>P2’s Apple Watch</td>\n",
       "      <td>2022-01-01</td>\n",
       "      <td>5</td>\n",
       "      <td>29</td>\n",
       "      <td>Smartwatch</td>\n",
       "      <td>2022</td>\n",
       "      <td>1</td>\n",
       "      <td>1</td>\n",
       "    </tr>\n",
       "    <tr>\n",
       "      <th>4</th>\n",
       "      <td>P2’s Apple Watch</td>\n",
       "      <td>2022-01-01</td>\n",
       "      <td>5</td>\n",
       "      <td>13</td>\n",
       "      <td>Smartwatch</td>\n",
       "      <td>2022</td>\n",
       "      <td>1</td>\n",
       "      <td>1</td>\n",
       "    </tr>\n",
       "  </tbody>\n",
       "</table>\n",
       "</div>"
      ],
      "text/plain": [
       "             Source        Date  Hour  Count   SourceCat  Year  Month  Day\n",
       "0          P2 Phone  2022-01-01     5     31       Phone  2022      1    1\n",
       "1  P2’s Apple Watch  2021-12-31    21     20  Smartwatch  2021     12   31\n",
       "2  P2’s Apple Watch  2021-12-31    21     16  Smartwatch  2021     12   31\n",
       "3  P2’s Apple Watch  2022-01-01     5     29  Smartwatch  2022      1    1\n",
       "4  P2’s Apple Watch  2022-01-01     5     13  Smartwatch  2022      1    1"
      ]
     },
     "execution_count": 46,
     "metadata": {},
     "output_type": "execute_result"
    }
   ],
   "source": [
    "data_p2[['Year', 'Month', 'Day']] = data_p2['Date'].str.split('-', 2, expand=True).astype('int')\n",
    "data_p2.head()"
   ]
  },
  {
   "cell_type": "markdown",
   "metadata": {},
   "source": [
    "Because we will look at the weekly step count patterns, it is also helpful to include weekday in the cleaned dataset."
   ]
  },
  {
   "cell_type": "code",
   "execution_count": 47,
   "metadata": {},
   "outputs": [
    {
     "data": {
      "text/html": [
       "<div>\n",
       "<style scoped>\n",
       "    .dataframe tbody tr th:only-of-type {\n",
       "        vertical-align: middle;\n",
       "    }\n",
       "\n",
       "    .dataframe tbody tr th {\n",
       "        vertical-align: top;\n",
       "    }\n",
       "\n",
       "    .dataframe thead th {\n",
       "        text-align: right;\n",
       "    }\n",
       "</style>\n",
       "<table border=\"1\" class=\"dataframe\">\n",
       "  <thead>\n",
       "    <tr style=\"text-align: right;\">\n",
       "      <th></th>\n",
       "      <th>SourceCat</th>\n",
       "      <th>Timestamp</th>\n",
       "      <th>Weekday</th>\n",
       "      <th>Year</th>\n",
       "      <th>Month</th>\n",
       "      <th>Day</th>\n",
       "      <th>Hour</th>\n",
       "      <th>Count</th>\n",
       "    </tr>\n",
       "  </thead>\n",
       "  <tbody>\n",
       "    <tr>\n",
       "      <th>0</th>\n",
       "      <td>Phone</td>\n",
       "      <td>2022-01-01 05:00:00</td>\n",
       "      <td>5</td>\n",
       "      <td>2022</td>\n",
       "      <td>1</td>\n",
       "      <td>1</td>\n",
       "      <td>5</td>\n",
       "      <td>31</td>\n",
       "    </tr>\n",
       "    <tr>\n",
       "      <th>1</th>\n",
       "      <td>Smartwatch</td>\n",
       "      <td>2021-12-31 21:00:00</td>\n",
       "      <td>4</td>\n",
       "      <td>2021</td>\n",
       "      <td>12</td>\n",
       "      <td>31</td>\n",
       "      <td>21</td>\n",
       "      <td>20</td>\n",
       "    </tr>\n",
       "    <tr>\n",
       "      <th>2</th>\n",
       "      <td>Smartwatch</td>\n",
       "      <td>2021-12-31 21:00:00</td>\n",
       "      <td>4</td>\n",
       "      <td>2021</td>\n",
       "      <td>12</td>\n",
       "      <td>31</td>\n",
       "      <td>21</td>\n",
       "      <td>16</td>\n",
       "    </tr>\n",
       "    <tr>\n",
       "      <th>3</th>\n",
       "      <td>Smartwatch</td>\n",
       "      <td>2022-01-01 05:00:00</td>\n",
       "      <td>5</td>\n",
       "      <td>2022</td>\n",
       "      <td>1</td>\n",
       "      <td>1</td>\n",
       "      <td>5</td>\n",
       "      <td>29</td>\n",
       "    </tr>\n",
       "    <tr>\n",
       "      <th>4</th>\n",
       "      <td>Smartwatch</td>\n",
       "      <td>2022-01-01 05:00:00</td>\n",
       "      <td>5</td>\n",
       "      <td>2022</td>\n",
       "      <td>1</td>\n",
       "      <td>1</td>\n",
       "      <td>5</td>\n",
       "      <td>13</td>\n",
       "    </tr>\n",
       "  </tbody>\n",
       "</table>\n",
       "</div>"
      ],
      "text/plain": [
       "    SourceCat           Timestamp  Weekday  Year  Month  Day  Hour  Count\n",
       "0       Phone 2022-01-01 05:00:00        5  2022      1    1     5     31\n",
       "1  Smartwatch 2021-12-31 21:00:00        4  2021     12   31    21     20\n",
       "2  Smartwatch 2021-12-31 21:00:00        4  2021     12   31    21     16\n",
       "3  Smartwatch 2022-01-01 05:00:00        5  2022      1    1     5     29\n",
       "4  Smartwatch 2022-01-01 05:00:00        5  2022      1    1     5     13"
      ]
     },
     "execution_count": 47,
     "metadata": {},
     "output_type": "execute_result"
    }
   ],
   "source": [
    "data_p2['Timestamp'] = pd.to_datetime(data_p2[['Year', 'Month', 'Day', 'Hour']])\n",
    "data_p2['Weekday'] = data_p2['Timestamp'].dt.weekday\n",
    "\n",
    "cleaned_p2 = data_p2[['SourceCat', 'Timestamp', 'Weekday', 'Year', 'Month', 'Day', 'Hour', 'Count']]\n",
    "cleaned_p2.head()"
   ]
  },
  {
   "cell_type": "markdown",
   "metadata": {},
   "source": [
    "Note that the `Weekday` column assigns Monday as 0 and Sunday as 6."
   ]
  },
  {
   "cell_type": "code",
   "execution_count": 48,
   "metadata": {},
   "outputs": [],
   "source": [
    "weekdays = ['Mon', 'Tue', 'Wed', 'Thu', 'Fri', 'Sat', 'Sun']"
   ]
  },
  {
   "cell_type": "markdown",
   "metadata": {},
   "source": [
    "One problem with the data is that the activity from the same day can be twice by both the phone and the smartwatch. As the smartwatch data point is more accurate, we will mainly focus on data from the smartwatch."
   ]
  },
  {
   "cell_type": "code",
   "execution_count": 49,
   "metadata": {},
   "outputs": [
    {
     "data": {
      "text/html": [
       "<div>\n",
       "<style scoped>\n",
       "    .dataframe tbody tr th:only-of-type {\n",
       "        vertical-align: middle;\n",
       "    }\n",
       "\n",
       "    .dataframe tbody tr th {\n",
       "        vertical-align: top;\n",
       "    }\n",
       "\n",
       "    .dataframe thead th {\n",
       "        text-align: right;\n",
       "    }\n",
       "</style>\n",
       "<table border=\"1\" class=\"dataframe\">\n",
       "  <thead>\n",
       "    <tr style=\"text-align: right;\">\n",
       "      <th></th>\n",
       "      <th>SourceCat</th>\n",
       "      <th>Timestamp</th>\n",
       "      <th>Weekday</th>\n",
       "      <th>Year</th>\n",
       "      <th>Month</th>\n",
       "      <th>Day</th>\n",
       "      <th>Hour</th>\n",
       "      <th>Count</th>\n",
       "    </tr>\n",
       "  </thead>\n",
       "  <tbody>\n",
       "    <tr>\n",
       "      <th>1</th>\n",
       "      <td>Smartwatch</td>\n",
       "      <td>2021-12-31 21:00:00</td>\n",
       "      <td>4</td>\n",
       "      <td>2021</td>\n",
       "      <td>12</td>\n",
       "      <td>31</td>\n",
       "      <td>21</td>\n",
       "      <td>20</td>\n",
       "    </tr>\n",
       "    <tr>\n",
       "      <th>2</th>\n",
       "      <td>Smartwatch</td>\n",
       "      <td>2021-12-31 21:00:00</td>\n",
       "      <td>4</td>\n",
       "      <td>2021</td>\n",
       "      <td>12</td>\n",
       "      <td>31</td>\n",
       "      <td>21</td>\n",
       "      <td>16</td>\n",
       "    </tr>\n",
       "    <tr>\n",
       "      <th>3</th>\n",
       "      <td>Smartwatch</td>\n",
       "      <td>2022-01-01 05:00:00</td>\n",
       "      <td>5</td>\n",
       "      <td>2022</td>\n",
       "      <td>1</td>\n",
       "      <td>1</td>\n",
       "      <td>5</td>\n",
       "      <td>29</td>\n",
       "    </tr>\n",
       "    <tr>\n",
       "      <th>4</th>\n",
       "      <td>Smartwatch</td>\n",
       "      <td>2022-01-01 05:00:00</td>\n",
       "      <td>5</td>\n",
       "      <td>2022</td>\n",
       "      <td>1</td>\n",
       "      <td>1</td>\n",
       "      <td>5</td>\n",
       "      <td>13</td>\n",
       "    </tr>\n",
       "    <tr>\n",
       "      <th>7</th>\n",
       "      <td>Smartwatch</td>\n",
       "      <td>2022-01-01 05:00:00</td>\n",
       "      <td>5</td>\n",
       "      <td>2022</td>\n",
       "      <td>1</td>\n",
       "      <td>1</td>\n",
       "      <td>5</td>\n",
       "      <td>19</td>\n",
       "    </tr>\n",
       "  </tbody>\n",
       "</table>\n",
       "</div>"
      ],
      "text/plain": [
       "    SourceCat           Timestamp  Weekday  Year  Month  Day  Hour  Count\n",
       "1  Smartwatch 2021-12-31 21:00:00        4  2021     12   31    21     20\n",
       "2  Smartwatch 2021-12-31 21:00:00        4  2021     12   31    21     16\n",
       "3  Smartwatch 2022-01-01 05:00:00        5  2022      1    1     5     29\n",
       "4  Smartwatch 2022-01-01 05:00:00        5  2022      1    1     5     13\n",
       "7  Smartwatch 2022-01-01 05:00:00        5  2022      1    1     5     19"
      ]
     },
     "execution_count": 49,
     "metadata": {},
     "output_type": "execute_result"
    }
   ],
   "source": [
    "smartwatch_data = cleaned_p2[cleaned_p2['SourceCat'] == 'Smartwatch']\n",
    "smartwatch_data.head()"
   ]
  },
  {
   "cell_type": "markdown",
   "metadata": {},
   "source": [
    "## Exploration"
   ]
  },
  {
   "cell_type": "markdown",
   "metadata": {},
   "source": [
    "We would like to know the weekly patterns, so it is helpful to create boxplots for each weekday and compute the daily averages."
   ]
  },
  {
   "cell_type": "code",
   "execution_count": 50,
   "metadata": {},
   "outputs": [
    {
     "data": {
      "image/png": "[encoded data removed]",
      "text/plain": [
       "<Figure size 640x480 with 2 Axes>"
      ]
     },
     "metadata": {},
     "output_type": "display_data"
    }
   ],
   "source": [
    "daily_sums = smartwatch_data.groupby(['Year', 'Month', 'Day', 'Weekday'], as_index=False)['Count'].sum()\n",
    "# daily_sums['WeekdayStr'] = daily_sums['Weekday'].map(lambda x : weekdays[x])\n",
    "weekday_avgs = daily_sums.groupby('Weekday')['Count'].agg(np.average)\n",
    "\n",
    "fig, axs = plt.subplots(2, 1)\n",
    "axs[0].bar(weekdays, weekday_avgs)\n",
    "axs[0].set_title('Average daily steps by weekday')\n",
    "\n",
    "daily_sums.boxplot(column='Count', by='Weekday', ax=axs[1])\n",
    "axs[1].set_title('Daily step counts by weekday')\n",
    "axs[1].set_xticks(np.arange(7) + 1, labels=weekdays)\n",
    "axs[1].set_xlabel(None)\n",
    "\n",
    "fig.suptitle('')\n",
    "fig.tight_layout()\n",
    "plt.show()\n"
   ]
  },
  {
   "cell_type": "markdown",
   "metadata": {},
   "source": [
    "From the plots we can see that the participant is most active on Wednesdays on average, and least active on Fridays with lowest mean and median daily steps."
   ]
  },
  {
   "cell_type": "markdown",
   "metadata": {},
   "source": [
    "Using 7,500 [1] and 10,000 days [2] as indicators, we plot the proportion of days where the participant reaches the goal."
   ]
  },
  {
   "cell_type": "code",
   "execution_count": 51,
   "metadata": {},
   "outputs": [
    {
     "data": {
      "image/png": "[encoded data removed]",
      "text/plain": [
       "<Figure size 640x480 with 1 Axes>"
      ]
     },
     "metadata": {},
     "output_type": "display_data"
    }
   ],
   "source": [
    "num_weekday_days = daily_sums.groupby('Weekday').size()\n",
    "p_days_7500 = daily_sums[daily_sums['Count'] > 7500].groupby('Weekday').size() / num_weekday_days * 100\n",
    "p_days_10000 = daily_sums[daily_sums['Count'] > 10000].groupby('Weekday').size() / num_weekday_days * 100\n",
    "\n",
    "x = np.arange(7)\n",
    "width = 0.4\n",
    "\n",
    "fig, ax = plt.subplots()\n",
    "\n",
    "bar_7500 = ax.bar(x - width / 2, p_days_7500, width=width, color='#E6BA7E', label='>7,500')\n",
    "ax.bar_label(bar_7500, fmt='%d')\n",
    "bar_10000 = ax.bar(x + width / 2, p_days_10000, width=width, color='#FA8D3E', label='>10,000')\n",
    "ax.bar_label(bar_10000, fmt='%d')\n",
    "\n",
    "ax.set(frame_on=False)\n",
    "plt.title('Percentage of days that participant reached target')\n",
    "plt.xticks(x, labels=weekdays)\n",
    "plt.legend()\n",
    "plt.show()"
   ]
  },
  {
   "cell_type": "markdown",
   "metadata": {},
   "source": [
    "The plot agrees with previous statistics. We can see that the participant usually walks more on Tuesdays, Wednesdays, and Saturdays. Friday is the overall least active day. "
   ]
  },
  {
   "cell_type": "markdown",
   "metadata": {},
   "source": [
    "## References\n",
    "\n",
    "[1] A. E. Paluch et al., “Daily steps and all-cause mortality: a meta-analysis of 15 international cohorts,” The Lancet Public Health, vol. 7, no. 3, pp. e219–e228, Mar. 2022, doi: 10.1016/S2468-2667(21)00302-9.\n",
    "\n",
    "[2] Anthony L. Komaroff, “How many steps should I take each day? - Harvard Health.” https://www.health.harvard.edu/staying-healthy/how-many-steps-should-i-take-each-day (accessed Sep. 20, 2022).\n",
    "\n"
   ]
  }
 ],
 "metadata": {
  "kernelspec": {
   "display_name": "Python 3.10.4 ('ds')",
   "language": "python",
   "name": "python3"
  },
  "language_info": {
   "codemirror_mode": {
    "name": "ipython",
    "version": 3
   },
   "file_extension": ".py",
   "mimetype": "text/x-python",
   "name": "python",
   "nbconvert_exporter": "python",
   "pygments_lexer": "ipython3",
   "version": "3.10.4"
  },
  "orig_nbformat": 4,
  "vscode": {
   "interpreter": {
    "hash": "d90735a8ba106b0e68e607766b896cbba90b52c9ca0c7e999a926ac529a5b08c"
   }
  }
 },
 "nbformat": 4,
 "nbformat_minor": 2
}
