{
 "cells": [
  {
   "cell_type": "markdown",
   "id": "08c427ea",
   "metadata": {},
   "source": [
    "# Outline for Product Notebook"
   ]
  },
  {
   "cell_type": "markdown",
   "id": "a3ea91c2",
   "metadata": {},
   "source": [
    "## Consider the ethics of the data"
   ]
  },
  {
   "cell_type": "markdown",
   "id": "88b7db84",
   "metadata": {},
   "source": [
    "Before analysing a dataset, it is important to understand the ethical context behind it, as it may explain any anomalies in the data and can help in the formulation of more well-informed initial assumptions."
   ]
  },
  {
   "cell_type": "markdown",
   "id": "238bdffd",
   "metadata": {},
   "source": [
    "## Read through each team member's notebook to ensure that it makes sense"
   ]
  },
  {
   "cell_type": "markdown",
   "id": "d14af812",
   "metadata": {},
   "source": [
    "It is easier to correct mistakes before the work is integrated together and it's harder to keep track of who did what."
   ]
  },
  {
   "cell_type": "markdown",
   "id": "22ed8ef1",
   "metadata": {},
   "source": [
    "## Run through each team member's notebook to ensure it's reproducible"
   ]
  },
  {
   "cell_type": "markdown",
   "id": "cefc155a",
   "metadata": {},
   "source": [
    "It is crucial to make sure that the code actually works for others being merging it and finding out that it doesn't compile."
   ]
  },
  {
   "cell_type": "markdown",
   "id": "bd405070",
   "metadata": {},
   "source": [
    "## Integrate each team member's analysis of the subquestion such that they relate to each other"
   ]
  },
  {
   "cell_type": "markdown",
   "id": "eefc1847",
   "metadata": {},
   "source": [
    "Make sure that the way the each analysis of each subquestion is laid out flows well from the beginning to the end. "
   ]
  }
 ],
 "metadata": {
  "kernelspec": {
   "display_name": "Python 3 (ipykernel)",
   "language": "python",
   "name": "python3"
  },
  "language_info": {
   "codemirror_mode": {
    "name": "ipython",
    "version": 3
   },
   "file_extension": ".py",
   "mimetype": "text/x-python",
   "name": "python",
   "nbconvert_exporter": "python",
   "pygments_lexer": "ipython3",
   "version": "3.10.2"
  }
 },
 "nbformat": 4,
 "nbformat_minor": 5
}
