{
 "cells": [
  {
   "cell_type": "markdown",
   "id": "03d424b7",
   "metadata": {},
   "source": [
    "Author: Amelia Xie\n",
    "\n",
    "Date(s): 17/9/22, 18/9/22"
   ]
  },
  {
   "cell_type": "markdown",
   "id": "c733e6dc",
   "metadata": {},
   "source": [
    "17/9/22"
   ]
  },
  {
   "cell_type": "markdown",
   "id": "6ee37cca",
   "metadata": {},
   "source": [
    "# Research background and aim\n",
    "We will look at the dataset corresponding to participant 4 with the goal of analysing the step counts of participants in a week."
   ]
  },
  {
   "cell_type": "markdown",
   "id": "014ceeee",
   "metadata": {},
   "source": [
    "Let's load in the data"
   ]
  },
  {
   "cell_type": "code",
   "execution_count": 3,
   "id": "5880f57b",
   "metadata": {},
   "outputs": [],
   "source": [
    "import pandas as pd\n",
    "url = \"../../../datasets/Participant-04.csv\"\n",
    "p4 = pd.read_csv(url)"
   ]
  },
  {
   "cell_type": "markdown",
   "id": "3f17a512",
   "metadata": {},
   "source": [
    "Let's have a look at the dataset"
   ]
  },
  {
   "cell_type": "code",
   "execution_count": 4,
   "id": "e500beaf",
   "metadata": {},
   "outputs": [
    {
     "data": {
      "text/html": [
       "<div>\n",
       "<style scoped>\n",
       "    .dataframe tbody tr th:only-of-type {\n",
       "        vertical-align: middle;\n",
       "    }\n",
       "\n",
       "    .dataframe tbody tr th {\n",
       "        vertical-align: top;\n",
       "    }\n",
       "\n",
       "    .dataframe thead th {\n",
       "        text-align: right;\n",
       "    }\n",
       "</style>\n",
       "<table border=\"1\" class=\"dataframe\">\n",
       "  <thead>\n",
       "    <tr style=\"text-align: right;\">\n",
       "      <th></th>\n",
       "      <th>Start</th>\n",
       "      <th>Finish</th>\n",
       "      <th>Steps (count)</th>\n",
       "    </tr>\n",
       "  </thead>\n",
       "  <tbody>\n",
       "    <tr>\n",
       "      <th>0</th>\n",
       "      <td>01-Jan-2022 00:00</td>\n",
       "      <td>01-Jan-2022 01:00</td>\n",
       "      <td>0.0</td>\n",
       "    </tr>\n",
       "    <tr>\n",
       "      <th>1</th>\n",
       "      <td>01-Jan-2022 01:00</td>\n",
       "      <td>01-Jan-2022 02:00</td>\n",
       "      <td>0.0</td>\n",
       "    </tr>\n",
       "    <tr>\n",
       "      <th>2</th>\n",
       "      <td>01-Jan-2022 02:00</td>\n",
       "      <td>01-Jan-2022 03:00</td>\n",
       "      <td>0.0</td>\n",
       "    </tr>\n",
       "    <tr>\n",
       "      <th>3</th>\n",
       "      <td>01-Jan-2022 03:00</td>\n",
       "      <td>01-Jan-2022 04:00</td>\n",
       "      <td>0.0</td>\n",
       "    </tr>\n",
       "    <tr>\n",
       "      <th>4</th>\n",
       "      <td>01-Jan-2022 04:00</td>\n",
       "      <td>01-Jan-2022 05:00</td>\n",
       "      <td>0.0</td>\n",
       "    </tr>\n",
       "    <tr>\n",
       "      <th>5</th>\n",
       "      <td>01-Jan-2022 05:00</td>\n",
       "      <td>01-Jan-2022 06:00</td>\n",
       "      <td>0.0</td>\n",
       "    </tr>\n",
       "    <tr>\n",
       "      <th>6</th>\n",
       "      <td>01-Jan-2022 06:00</td>\n",
       "      <td>01-Jan-2022 07:00</td>\n",
       "      <td>0.0</td>\n",
       "    </tr>\n",
       "    <tr>\n",
       "      <th>7</th>\n",
       "      <td>01-Jan-2022 07:00</td>\n",
       "      <td>01-Jan-2022 08:00</td>\n",
       "      <td>107.0</td>\n",
       "    </tr>\n",
       "    <tr>\n",
       "      <th>8</th>\n",
       "      <td>01-Jan-2022 08:00</td>\n",
       "      <td>01-Jan-2022 09:00</td>\n",
       "      <td>293.0</td>\n",
       "    </tr>\n",
       "    <tr>\n",
       "      <th>9</th>\n",
       "      <td>01-Jan-2022 09:00</td>\n",
       "      <td>01-Jan-2022 10:00</td>\n",
       "      <td>511.0</td>\n",
       "    </tr>\n",
       "  </tbody>\n",
       "</table>\n",
       "</div>"
      ],
      "text/plain": [
       "               Start             Finish  Steps (count)\n",
       "0  01-Jan-2022 00:00  01-Jan-2022 01:00            0.0\n",
       "1  01-Jan-2022 01:00  01-Jan-2022 02:00            0.0\n",
       "2  01-Jan-2022 02:00  01-Jan-2022 03:00            0.0\n",
       "3  01-Jan-2022 03:00  01-Jan-2022 04:00            0.0\n",
       "4  01-Jan-2022 04:00  01-Jan-2022 05:00            0.0\n",
       "5  01-Jan-2022 05:00  01-Jan-2022 06:00            0.0\n",
       "6  01-Jan-2022 06:00  01-Jan-2022 07:00            0.0\n",
       "7  01-Jan-2022 07:00  01-Jan-2022 08:00          107.0\n",
       "8  01-Jan-2022 08:00  01-Jan-2022 09:00          293.0\n",
       "9  01-Jan-2022 09:00  01-Jan-2022 10:00          511.0"
      ]
     },
     "execution_count": 4,
     "metadata": {},
     "output_type": "execute_result"
    }
   ],
   "source": [
    "p4.head(10)"
   ]
  },
  {
   "cell_type": "code",
   "execution_count": 5,
   "id": "ed28bda1",
   "metadata": {},
   "outputs": [
    {
     "data": {
      "text/html": [
       "<div>\n",
       "<style scoped>\n",
       "    .dataframe tbody tr th:only-of-type {\n",
       "        vertical-align: middle;\n",
       "    }\n",
       "\n",
       "    .dataframe tbody tr th {\n",
       "        vertical-align: top;\n",
       "    }\n",
       "\n",
       "    .dataframe thead th {\n",
       "        text-align: right;\n",
       "    }\n",
       "</style>\n",
       "<table border=\"1\" class=\"dataframe\">\n",
       "  <thead>\n",
       "    <tr style=\"text-align: right;\">\n",
       "      <th></th>\n",
       "      <th>Steps (count)</th>\n",
       "    </tr>\n",
       "  </thead>\n",
       "  <tbody>\n",
       "    <tr>\n",
       "      <th>count</th>\n",
       "      <td>6023.000000</td>\n",
       "    </tr>\n",
       "    <tr>\n",
       "      <th>mean</th>\n",
       "      <td>479.807881</td>\n",
       "    </tr>\n",
       "    <tr>\n",
       "      <th>std</th>\n",
       "      <td>1111.769551</td>\n",
       "    </tr>\n",
       "    <tr>\n",
       "      <th>min</th>\n",
       "      <td>0.000000</td>\n",
       "    </tr>\n",
       "    <tr>\n",
       "      <th>25%</th>\n",
       "      <td>0.000000</td>\n",
       "    </tr>\n",
       "    <tr>\n",
       "      <th>50%</th>\n",
       "      <td>133.797022</td>\n",
       "    </tr>\n",
       "    <tr>\n",
       "      <th>75%</th>\n",
       "      <td>462.000000</td>\n",
       "    </tr>\n",
       "    <tr>\n",
       "      <th>max</th>\n",
       "      <td>9322.137698</td>\n",
       "    </tr>\n",
       "  </tbody>\n",
       "</table>\n",
       "</div>"
      ],
      "text/plain": [
       "       Steps (count)\n",
       "count    6023.000000\n",
       "mean      479.807881\n",
       "std      1111.769551\n",
       "min         0.000000\n",
       "25%         0.000000\n",
       "50%       133.797022\n",
       "75%       462.000000\n",
       "max      9322.137698"
      ]
     },
     "execution_count": 5,
     "metadata": {},
     "output_type": "execute_result"
    }
   ],
   "source": [
    "p4.describe()"
   ]
  },
  {
   "cell_type": "markdown",
   "id": "9bc54581",
   "metadata": {},
   "source": [
    "Participant 4 walks an average of 480 steps per hour, however there is high variance in step counts. At least 25% of hours did not have any activity recorded, while the highest number of steps recorded was 9322. "
   ]
  },
  {
   "cell_type": "markdown",
   "id": "d0212b29",
   "metadata": {},
   "source": [
    "I should check if there are any values that require data engineering."
   ]
  },
  {
   "cell_type": "code",
   "execution_count": 6,
   "id": "8ce692b3",
   "metadata": {},
   "outputs": [
    {
     "data": {
      "text/plain": [
       "Start            False\n",
       "Finish           False\n",
       "Steps (count)    False\n",
       "dtype: bool"
      ]
     },
     "execution_count": 6,
     "metadata": {},
     "output_type": "execute_result"
    }
   ],
   "source": [
    "p4.isna().any()"
   ]
  },
  {
   "cell_type": "markdown",
   "id": "b5d0cfc1",
   "metadata": {},
   "source": [
    "There does not appear to be any missing or invalid values in the data. "
   ]
  },
  {
   "cell_type": "markdown",
   "id": "3f885ad7",
   "metadata": {},
   "source": [
    "Since I am analysing trends across a week, it would make sense to convert the dates into week format. I will create a new column for the days of the week and group them together."
   ]
  },
  {
   "cell_type": "code",
   "execution_count": 7,
   "id": "0a9a02d2",
   "metadata": {},
   "outputs": [
    {
     "data": {
      "text/plain": [
       "Day of week\n",
       "Friday       318868\n",
       "Monday       317481\n",
       "Saturday     783599\n",
       "Sunday       334801\n",
       "Thursday     416447\n",
       "Tuesday      395820\n",
       "Wednesday    322864\n",
       "Name: Steps (count), dtype: int32"
      ]
     },
     "execution_count": 7,
     "metadata": {},
     "output_type": "execute_result"
    }
   ],
   "source": [
    "p4['Start'] = pd.to_datetime(p4['Start'])\n",
    "p4['Day of week'] = p4['Start'].dt.day_name()\n",
    "# 24/9/22\n",
    "p4[\"Steps (count)\"] = round(p4[\"Steps (count)\"])\n",
    "p4[\"Steps (count)\"] = p4[\"Steps (count)\"].astype(int)\n",
    "#convert step counts to whole numbers\n",
    "week_count = p4.groupby(['Day of week'])['Steps (count)'].sum()\n",
    "week_count "
   ]
  },
  {
   "cell_type": "markdown",
   "id": "bb7bf636",
   "metadata": {},
   "source": [
    "It appears that this participant is most active on Saturdays and the least active on Fridays, although the step counts for other days seem to be fairly consistent. We should plot the data to better identify the trends within each day."
   ]
  },
  {
   "cell_type": "code",
   "execution_count": 8,
   "id": "895ad7fd",
   "metadata": {},
   "outputs": [
    {
     "data": {
      "text/plain": [
       "<seaborn.axisgrid.FacetGrid at 0x234af90f280>"
      ]
     },
     "execution_count": 8,
     "metadata": {},
     "output_type": "execute_result"
    },
    {
     "data": {
      "image/png": "[encoded data removed]",
      "text/plain": [
       "<Figure size 648x648 with 7 Axes>"
      ]
     },
     "metadata": {
      "needs_background": "light"
     },
     "output_type": "display_data"
    }
   ],
   "source": [
    "import seaborn as sns\n",
    "p4['hour'] = p4['Start'].dt.hour\n",
    "p4['date'] = p4['Start'].dt.date\n",
    "dest = '../../../datasets/Modified_dataset04.csv'\n",
    "# 24/9/22\n",
    "p4.to_csv(dest) #saving a csv to do future analyses on\n",
    "#\n",
    "plot = sns.FacetGrid(p4, col ='Day of week',                     \n",
    "col_order = [\n",
    "    'Monday',\n",
    "    'Tuesday',\n",
    "    'Wednesday',\n",
    "    'Thursday',\n",
    "    'Friday',\n",
    "    'Saturday',\n",
    "    'Sunday'\n",
    "], col_wrap = 3)\n",
    "plot.map_dataframe(sns.lineplot, \"hour\", \"Steps (count)\")"
   ]
  },
  {
   "cell_type": "markdown",
   "id": "9fc53142",
   "metadata": {},
   "source": [
    "18/09/22"
   ]
  },
  {
   "cell_type": "markdown",
   "id": "a8ba12eb",
   "metadata": {},
   "source": [
    "It appears that the peak activity is recorded in the morning, between 5 - 10 am, especially on Saturday, where the peak appears to be 4 times higher than usual. There is also a peak in the afternoon, especially noticable on Tuesdays, Wednesdays and Thursdays."
   ]
  }
 ],
 "metadata": {
  "kernelspec": {
   "display_name": "Python 3 (ipykernel)",
   "language": "python",
   "name": "python3"
  },
  "language_info": {
   "codemirror_mode": {
    "name": "ipython",
    "version": 3
   },
   "file_extension": ".py",
   "mimetype": "text/x-python",
   "name": "python",
   "nbconvert_exporter": "python",
   "pygments_lexer": "ipython3",
   "version": "3.10.2"
  }
 },
 "nbformat": 4,
 "nbformat_minor": 5
}
