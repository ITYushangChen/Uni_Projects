{
 "cells": [
  {
   "cell_type": "markdown",
   "id": "ff033710",
   "metadata": {},
   "source": [
    "# Sub-question for Additional dataset"
   ]
  },
  {
   "cell_type": "markdown",
   "id": "28de472c",
   "metadata": {},
   "source": [
    "## Import dataset and clean data cleaning"
   ]
  },
  {
   "cell_type": "markdown",
   "id": "df77c165",
   "metadata": {},
   "source": [
    "Firstly, we import all the packages and create a copied dataframe of our dataset. We have a look at the first 5 lines of the dataframe."
   ]
  },
  {
   "cell_type": "code",
   "execution_count": 10,
   "id": "e3c78574",
   "metadata": {},
   "outputs": [
    {
     "name": "stderr",
     "output_type": "stream",
     "text": [
      "/var/folders/94/d6zglr4j7fs8fyf3mq_1t2_w0000gn/T/ipykernel_10943/3594694561.py:12: DtypeWarning: Columns (2,9,10,11,12) have mixed types. Specify dtype option on import or set low_memory=False.\n",
      "  raw_df = pd.read_csv(\"../dataset/yu.csv\")\n"
     ]
    },
    {
     "data": {
      "text/html": [
       "<div>\n",
       "<style scoped>\n",
       "    .dataframe tbody tr th:only-of-type {\n",
       "        vertical-align: middle;\n",
       "    }\n",
       "\n",
       "    .dataframe tbody tr th {\n",
       "        vertical-align: top;\n",
       "    }\n",
       "\n",
       "    .dataframe thead th {\n",
       "        text-align: right;\n",
       "    }\n",
       "</style>\n",
       "<table border=\"1\" class=\"dataframe\">\n",
       "  <thead>\n",
       "    <tr style=\"text-align: right;\">\n",
       "      <th></th>\n",
       "      <th>Steps</th>\n",
       "      <th>Date</th>\n",
       "      <th>Weekday</th>\n",
       "    </tr>\n",
       "  </thead>\n",
       "  <tbody>\n",
       "    <tr>\n",
       "      <th>0</th>\n",
       "      <td>175.0</td>\n",
       "      <td>2019-07-26</td>\n",
       "      <td>Friday</td>\n",
       "    </tr>\n",
       "    <tr>\n",
       "      <th>1</th>\n",
       "      <td>176.0</td>\n",
       "      <td>2021-06-05</td>\n",
       "      <td>Saturday</td>\n",
       "    </tr>\n",
       "    <tr>\n",
       "      <th>2</th>\n",
       "      <td>176.0</td>\n",
       "      <td>2021-06-05</td>\n",
       "      <td>Saturday</td>\n",
       "    </tr>\n",
       "    <tr>\n",
       "      <th>3</th>\n",
       "      <td>80.0</td>\n",
       "      <td>2019-07-26</td>\n",
       "      <td>Friday</td>\n",
       "    </tr>\n",
       "    <tr>\n",
       "      <th>4</th>\n",
       "      <td>76.0</td>\n",
       "      <td>2021-06-05</td>\n",
       "      <td>Saturday</td>\n",
       "    </tr>\n",
       "    <tr>\n",
       "      <th>...</th>\n",
       "      <td>...</td>\n",
       "      <td>...</td>\n",
       "      <td>...</td>\n",
       "    </tr>\n",
       "    <tr>\n",
       "      <th>248068</th>\n",
       "      <td>1.0</td>\n",
       "      <td>2022-08-26</td>\n",
       "      <td>Friday</td>\n",
       "    </tr>\n",
       "    <tr>\n",
       "      <th>248069</th>\n",
       "      <td>1.0</td>\n",
       "      <td>2022-09-02</td>\n",
       "      <td>Friday</td>\n",
       "    </tr>\n",
       "    <tr>\n",
       "      <th>248070</th>\n",
       "      <td>1.0</td>\n",
       "      <td>2022-09-09</td>\n",
       "      <td>Friday</td>\n",
       "    </tr>\n",
       "    <tr>\n",
       "      <th>248071</th>\n",
       "      <td>1.0</td>\n",
       "      <td>2022-09-16</td>\n",
       "      <td>Friday</td>\n",
       "    </tr>\n",
       "    <tr>\n",
       "      <th>248072</th>\n",
       "      <td>1.0</td>\n",
       "      <td>2022-09-23</td>\n",
       "      <td>Friday</td>\n",
       "    </tr>\n",
       "  </tbody>\n",
       "</table>\n",
       "<p>248073 rows × 3 columns</p>\n",
       "</div>"
      ],
      "text/plain": [
       "        Steps       Date   Weekday\n",
       "0       175.0 2019-07-26    Friday\n",
       "1       176.0 2021-06-05  Saturday\n",
       "2       176.0 2021-06-05  Saturday\n",
       "3        80.0 2019-07-26    Friday\n",
       "4        76.0 2021-06-05  Saturday\n",
       "...       ...        ...       ...\n",
       "248068    1.0 2022-08-26    Friday\n",
       "248069    1.0 2022-09-02    Friday\n",
       "248070    1.0 2022-09-09    Friday\n",
       "248071    1.0 2022-09-16    Friday\n",
       "248072    1.0 2022-09-23    Friday\n",
       "\n",
       "[248073 rows x 3 columns]"
      ]
     },
     "execution_count": 10,
     "metadata": {},
     "output_type": "execute_result"
    }
   ],
   "source": [
    "import pandas as pd\n",
    "import matplotlib.pyplot as plt\n",
    "from scipy.stats import chi2_contingency\n",
    "from scipy.stats import chi2 \n",
    "import scipy.stats as stats\n",
    "import seaborn as sns\n",
    "\n",
    "import numpy as np\n",
    "import matplotlib.pyplot as plt\n",
    "import csv\n",
    "\n",
    "raw_df = pd.read_csv(\"../../../datasets/additional/yu.csv\")\n",
    "df = raw_df.copy()\n",
    "df.head()\n",
    "df = df[['_startDate', '_value']].copy()\n",
    "df.head()\n",
    "new_df_date = df[\"_startDate\"].str.split(\" \",n = 1,expand = True)\n",
    "df.drop('_startDate', inplace=True, axis=1)\n",
    "\n",
    "\n",
    "df[\"Date\"] = new_df_date[0]\n",
    "df[\"Date\"] = pd.to_datetime(df[\"Date\"])\n",
    "#df.drop('_startDate', inplace=True, axis=1)\n",
    "df[\"Weekday\"] = df['Date'].dt.day_name()\n",
    "df = df.rename(columns = {\"_value\":\"Steps\"})\n",
    "df[\"Steps\"]\n",
    "df[pd.to_numeric(df['Steps'], errors='coerce').notnull()]\n",
    "\n",
    "\n"
   ]
  },
  {
   "cell_type": "markdown",
   "id": "4f860c15",
   "metadata": {},
   "source": [
    "## Hypothesis testing on sub-question"
   ]
  },
  {
   "cell_type": "markdown",
   "id": "a58adcd3",
   "metadata": {},
   "source": [
    "The following code blocks used to get some useful statistics from the dataset. We will use them in our hypothesis testing."
   ]
  },
  {
   "cell_type": "code",
   "execution_count": 11,
   "id": "41f7b296",
   "metadata": {},
   "outputs": [],
   "source": [
    "# convert dataframe columns into python lists.\n",
    "df.Date = df.Date.dt.strftime('%Y-%m-%d')\n",
    "df_steps = df.Steps.values.tolist()\n",
    "df_dates = df.Date.values.tolist()\n",
    "df_Weekday = df.Weekday.values.tolist()\n",
    "\n",
    "df_list = [df_steps,df_dates,df_Weekday]\n",
    "list_df = pd.DataFrame(df_list).transpose()\n",
    "list_df.columns = ['Steps','Date','Weekday']"
   ]
  },
  {
   "cell_type": "code",
   "execution_count": 12,
   "id": "09c8ee7c",
   "metadata": {},
   "outputs": [],
   "source": [
    "# Creating the step matrix.\n",
    "date = \"\"\n",
    "step = 0\n",
    "weekday = \"\"\n",
    "first = True\n",
    "rows = []\n",
    "for i in range(len(df_dates)):\n",
    "    if first:\n",
    "        first = False\n",
    "        date = df_dates[0]\n",
    "        step = df_steps[0]\n",
    "        weekday = df_Weekday[0]\n",
    "    if date != df_dates[i]:\n",
    "        rows.append([int(step),date,weekday])\n",
    "        date = df_dates[i]\n",
    "        step = df_steps[i]\n",
    "        weekday = df_Weekday[i]\n",
    "    else:\n",
    "        step += df_steps[i]\n"
   ]
  },
  {
   "cell_type": "code",
   "execution_count": 13,
   "id": "a0196561",
   "metadata": {
    "scrolled": true
   },
   "outputs": [],
   "source": [
    "# Creating the matrix for chi-squared testing\n",
    "Mon_5k = 0\n",
    "Tue_5k = 0\n",
    "Wed_5k = 0\n",
    "Thu_5k = 0\n",
    "Fri_5k = 0\n",
    "Sat_5k = 0\n",
    "Sun_5k = 0\n",
    "Mon_10k = 0\n",
    "Tue_10k = 0\n",
    "Wed_10k = 0\n",
    "Thu_10k = 0\n",
    "Fri_10k = 0\n",
    "Sat_10k = 0\n",
    "Sun_10k = 0\n",
    "mon = 0\n",
    "tue = 0\n",
    "wed = 0\n",
    "thu = 0\n",
    "fri = 0\n",
    "sat = 0\n",
    "sun = 0\n",
    "mon_small = 0\n",
    "mon_medium = 0\n",
    "mon_large = 0\n",
    "tue_small = 0\n",
    "tue_medium = 0\n",
    "tue_large = 0\n",
    "wed_small = 0\n",
    "wed_medium = 0\n",
    "wed_large = 0\n",
    "thu_small = 0\n",
    "thu_medium = 0\n",
    "thu_large = 0\n",
    "fri_small = 0\n",
    "fri_medium = 0\n",
    "fri_large = 0\n",
    "sat_small = 0\n",
    "sat_medium = 0\n",
    "sat_large = 0\n",
    "sun_small = 0\n",
    "sun_medium = 0\n",
    "sun_large = 0\n",
    "\n",
    "mon_inactive = 0\n",
    "tue_inactive = 0\n",
    "wed_inactive = 0\n",
    "thu_inactive = 0\n",
    "fri_inactive = 0\n",
    "sat_inactive = 0\n",
    "sun_inactive = 0\n",
    "\n",
    "\n",
    "for i in rows:\n",
    "    day_step = i[0]\n",
    "    day_weekday = i[2]\n",
    "    if (5000<day_step<10000):\n",
    "        if day_weekday == 'Monday':\n",
    "            Mon_5k += 1\n",
    "            mon += 1\n",
    "            mon_medium += 1\n",
    "        if day_weekday == 'Tuesday':\n",
    "            Tue_5k += 1\n",
    "            tue += 1\n",
    "            tue_medium += 1\n",
    "        if day_weekday == 'Wednesday':\n",
    "            Wed_5k += 1\n",
    "            wed += 1\n",
    "            wed_medium += 1\n",
    "        if day_weekday == 'Thursday':\n",
    "            Thu_5k += 1\n",
    "            thu += 1\n",
    "            thu_medium += 1\n",
    "        if day_weekday == 'Friday':\n",
    "            Fri_5k += 1\n",
    "            fri += 1\n",
    "            fri_medium += 1\n",
    "        if day_weekday == 'Saturday':\n",
    "            Sat_5k += 1\n",
    "            sat += 1\n",
    "            sat_medium += 1\n",
    "        if day_weekday == 'Sunday':\n",
    "            Sun_5k += 1\n",
    "            sun += 1\n",
    "            sun_medium += 1\n",
    "    if (day_step>10000):\n",
    "        if day_weekday == 'Monday':\n",
    "            Mon_10k += 1\n",
    "            mon += 2\n",
    "            mon_large += 1\n",
    "        if day_weekday == 'Tuesday':\n",
    "            Tue_10k += 1\n",
    "            tue += 2\n",
    "            tue_large += 1\n",
    "        if day_weekday == 'Wednesday':\n",
    "            Wed_10k += 1\n",
    "            wed += 2\n",
    "            wed_large += 1\n",
    "        if day_weekday == 'Thursday':\n",
    "            Thu_10k += 1\n",
    "            thu += 2\n",
    "            thu_large += 1\n",
    "        if day_weekday == 'Friday':\n",
    "            Fri_10k += 1\n",
    "            fri += 2\n",
    "            fri_large += 1\n",
    "        if day_weekday == 'Saturday':\n",
    "            Sat_10k += 1\n",
    "            sat += 2\n",
    "            sat_large+= 1\n",
    "        if day_weekday == 'Sunday':\n",
    "            Sun_10k += 1\n",
    "            sun += 2\n",
    "            sun_large += 1\n",
    "    if (day_step < 5000):\n",
    "        if day_weekday == 'Monday':\n",
    "            mon_small += 1\n",
    "        if day_weekday == 'Tuesday':\n",
    "            tue_small += 1\n",
    "        if day_weekday == 'Wednesday':\n",
    "            wed_small += 1\n",
    "        if day_weekday == 'Thursday':\n",
    "            thu_small += 1\n",
    "        if day_weekday == 'Friday':\n",
    "            fri_small += 1\n",
    "        if day_weekday == 'Saturday':\n",
    "            sat_small += 1\n",
    "        if day_weekday == 'Sunday':\n",
    "            sun_small += 1\n",
    "    if (day_step < 3000):\n",
    "        if day_weekday == 'Monday':\n",
    "            mon_inactive += 1\n",
    "        if day_weekday == 'Tuesday':\n",
    "            tue_inactive += 1\n",
    "        if day_weekday == 'Wednesday':\n",
    "            wed_inactive += 1\n",
    "        if day_weekday == 'Thursday':\n",
    "            thu_inactive += 1\n",
    "        if day_weekday == 'Friday':\n",
    "            fri_inactive += 1\n",
    "        if day_weekday == 'Saturday':\n",
    "            sat_inactive += 1\n",
    "        if day_weekday == 'Sunday':\n",
    "            sun_inactive += 1\n",
    "ls_score = [mon,tue,wed,thu,fri,sat,sun]\n",
    "ls_score_5k = [Mon_5k,Tue_5k,Wed_5k,Thu_5k,Fri_5k,Sat_5k,Sun_5k]\n",
    "ls_score_10k = [Mon_10k,Tue_10k,Wed_10k,Thu_10k,Fri_10k,Sat_10k,Sun_10k]\n",
    "mon_ls = [\"Mon\",mon_small,mon_medium,mon_large]\n",
    "tue_ls = [\"Tue\",tue_small,tue_medium,tue_large]\n",
    "wed_ls = [\"Wed\",wed_small,wed_medium,wed_large]\n",
    "thu_ls = [\"Thu\",thu_small,thu_medium,thu_large]\n",
    "fri_ls = [\"Fri\",fri_small,fri_medium,fri_large]\n",
    "sat_ls = [\"Sat\",sat_small,sat_medium,sat_large]\n",
    "sun_ls = [\"Sun\",sun_small,sun_medium,sun_large]\n",
    "ls_mon = [Mon_5k,Mon_10k]\n",
    "ls_tue = [Tue_5k,Tue_10k]\n",
    "ls_wed = [Wed_5k,Wed_10k]\n",
    "ls_thu = [Thu_5k,Thu_10k]\n",
    "ls_fri = [Fri_5k,Fri_10k]\n",
    "ls_sat = [Sat_5k,Sat_10k]\n",
    "ls_sun = [Sun_5k,Sun_10k]\n",
    "mon_act = [\"Monday\",mon_inactive,mon_large]\n",
    "tue_act = [\"Tuesday\",tue_inactive,tue_large]\n",
    "wed_act = [\"Wednesday\",wed_inactive,wed_large]\n",
    "thu_act = [\"Thursday\",thu_inactive, thu_large]\n",
    "fri_act = [\"Friday\",fri_inactive,fri_large]\n",
    "sat_act = [\"Saturday\",sat_inactive,sat_large]\n",
    "sun_act = [\"Sunday\",sun_inactive,sun_large]"
   ]
  },
  {
   "cell_type": "markdown",
   "id": "daa984fa",
   "metadata": {},
   "source": [
    "Firstly, we perform the chi-square hypothesis testing on two variables. One is 5k and 10k days and the other variable is weekday.\n",
    "Our assumption H0 would be these two variables are independent from each other. The significant level is set to be 0.05."
   ]
  },
  {
   "cell_type": "code",
   "execution_count": 14,
   "id": "baf09d5f",
   "metadata": {},
   "outputs": [
    {
     "name": "stdout",
     "output_type": "stream",
     "text": [
      "dof=6\n",
      "[[31.61904762 16.38095238]\n",
      " [38.86507937 20.13492063]\n",
      " [30.96031746 16.03968254]\n",
      " [33.5952381  17.4047619 ]\n",
      " [33.5952381  17.4047619 ]\n",
      " [38.86507937 20.13492063]\n",
      " [41.5        21.5       ]]\n",
      "p-value = 0.2876948732076428\n"
     ]
    }
   ],
   "source": [
    "# chi-square hypothesis testing\n",
    "table = [ls_score_5k,ls_score_10k]\n",
    "table_2 = [ls_mon,ls_tue,ls_wed,ls_thu,ls_fri,ls_sat,ls_sun]\n",
    "stat, p, dof, expected = chi2_contingency(table_2)\n",
    "print('dof=%d' % dof)\n",
    "print(expected)\n",
    "print(\"p-value = \", end = \"\")\n",
    "print(p)"
   ]
  },
  {
   "cell_type": "markdown",
   "id": "31291d43",
   "metadata": {},
   "source": [
    "As we can see here, the pvalue is larger than 0.05 so we retain the hypothesis."
   ]
  },
  {
   "cell_type": "markdown",
   "id": "ddb50919",
   "metadata": {},
   "source": [
    "We then perform a chi-square testing on one cateogircal variable for weekday. Our assumption H0 would be there is no difference exist on different week day. The significant level is also set to be 0.05."
   ]
  },
  {
   "cell_type": "code",
   "execution_count": 16,
   "id": "a70275b8",
   "metadata": {},
   "outputs": [
    {
     "name": "stdout",
     "output_type": "stream",
     "text": [
      "Chi-square hypothesis testing statistics for weekday\n",
      "p-value = 0.297611791216374\n"
     ]
    }
   ],
   "source": [
    "# chi-square hypothesis testing for one categorical variable\n",
    "avg = (mon+tue+wed+thu+fri+sat+sun)/7 # a mistake, I assumed the number of days of each weekday would be the same.\n",
    "expected2 = [avg,avg,avg,avg,avg,avg,avg]\n",
    "\n",
    "expected_5k = []\n",
    "expected_10k = []\n",
    "for i in expected:\n",
    "    expected_5k.append(i[0])\n",
    "    expected_10k.append(i[1])\n",
    "observed_5k = ls_score_5k\n",
    "observed_10k = ls_score_10k\n",
    "statis, p = stats.chisquare(f_obs=ls_score, f_exp=expected2)\n",
    "print(\"Chi-square hypothesis testing statistics for weekday\")\n",
    "print(\"p-value = \", end = \"\")\n",
    "print(p)\n",
    "\n"
   ]
  },
  {
   "cell_type": "markdown",
   "id": "d253a2c9",
   "metadata": {},
   "source": [
    "We can conclude there is no significant difference between each weekday as p value is 0.29 which is much larger than 0.05."
   ]
  },
  {
   "cell_type": "markdown",
   "id": "20afb4c4",
   "metadata": {},
   "source": [
    "## Visualization of sub-question"
   ]
  },
  {
   "cell_type": "markdown",
   "id": "f738b029",
   "metadata": {},
   "source": [
    "### Visualization for hypothesis testing"
   ]
  },
  {
   "cell_type": "code",
   "execution_count": 17,
   "id": "d66e3c1b",
   "metadata": {},
   "outputs": [
    {
     "name": "stdout",
     "output_type": "stream",
     "text": [
      "[72.42857142857143, 72.42857142857143, 72.42857142857143, 72.42857142857143, 72.42857142857143, 72.42857142857143, 72.42857142857143]\n",
      "[68, 80, 59, 66, 69, 85, 80]\n"
     ]
    },
    {
     "data": {
      "text/plain": [
       "<matplotlib.legend.Legend at 0x7fec29eb67c0>"
      ]
     },
     "execution_count": 17,
     "metadata": {},
     "output_type": "execute_result"
    },
    {
     "data": {
      "image/png": "[encoded data removed]",
      "text/plain": [
       "<Figure size 432x288 with 1 Axes>"
      ]
     },
     "metadata": {
      "needs_background": "light"
     },
     "output_type": "display_data"
    }
   ],
   "source": [
    "# graphs of expected value and observed value\n",
    "\n",
    "table_1 = [mon,tue,wed,thu,fri,sat,sun]\n",
    "print(expected2)\n",
    "print(ls_score)\n",
    "X = np.arange(7)\n",
    "fig = plt.figure()\n",
    "ax = fig.add_axes([0,0,1,1])\n",
    "ax.bar(X + 0.00, expected2, color = 'b', width = 0.25)\n",
    "ax.bar(X + 0.25, ls_score, color = 'g', width = 0.25)\n",
    "ax.legend(labels=['Expected', 'Observed'])\n",
    "\n"
   ]
  },
  {
   "cell_type": "markdown",
   "id": "3729a9d7",
   "metadata": {},
   "source": [
    "From the graph, we can see there is no large difference between weekday. However, we can see a pattern which is increasing between Wednesday to Saturday."
   ]
  },
  {
   "cell_type": "markdown",
   "id": "4702ceed",
   "metadata": {},
   "source": [
    "### Visualization for 0-5k, 5-10k, and >10k"
   ]
  },
  {
   "cell_type": "code",
   "execution_count": 19,
   "id": "1faa5cc6",
   "metadata": {},
   "outputs": [
    {
     "data": {
      "image/png": "[encoded data removed]",
      "text/plain": [
       "<Figure size 432x288 with 1 Axes>"
      ]
     },
     "metadata": {
      "needs_background": "light"
     },
     "output_type": "display_data"
    }
   ],
   "source": [
    "products_list = [mon_ls,tue_ls,wed_ls,thu_ls,fri_ls,sat_ls,sun_ls]\n",
    "df = pd.DataFrame (products_list, columns = ['Weekday', '< 5000',\"5000-10000\",\"> 10000\"])\n",
    "df.plot(\n",
    "  x = 'Weekday', \n",
    "  kind = 'barh', \n",
    "  stacked = True, \n",
    "  title = 'Percentage Stacked Bar Graph of Daily Step', \n",
    "  mark_right = True,\n",
    "  legend = False)\n",
    "  \n",
    "df_total = df[\"< 5000\"] + df[\"5000-10000\"] + df[\"> 10000\"]\n",
    "df_rel = df[df.columns[1:]].div(df_total, 0)*100\n",
    "  \n",
    "for n in df_rel:\n",
    "    for i, (cs, ab, pc) in enumerate(zip(df.iloc[:, 1:].cumsum(1)[n], \n",
    "                                         df[n], df_rel[n])):\n",
    "        plt.text(cs - ab / 2, i, str(np.round(pc, 1)) + '%', \n",
    "                 va = 'center', ha = 'center')"
   ]
  },
  {
   "cell_type": "markdown",
   "id": "4493bc94",
   "metadata": {},
   "source": [
    "This graph shows percentage of different step range on each weekday. We can see for this participant, it is hard to see any pattern. Most of the days are less than 5k steps."
   ]
  },
  {
   "cell_type": "markdown",
   "id": "1df3067e",
   "metadata": {},
   "source": []
  },
  {
   "cell_type": "code",
   "execution_count": 20,
   "id": "e89e2758",
   "metadata": {},
   "outputs": [
    {
     "data": {
      "image/png": "[encoded data removed]",
      "text/plain": [
       "<Figure size 432x288 with 1 Axes>"
      ]
     },
     "metadata": {
      "needs_background": "light"
     },
     "output_type": "display_data"
    }
   ],
   "source": [
    "# mon_act = [mon_inactive,mon_large]\n",
    "# tue_act = [tue_inactive,tue_large]\n",
    "# wed_act = [wed_inactive,wed_large]\n",
    "# thu_act = [thu_inactive, thu_large]\n",
    "# fri_act = [fri_inactive,fri_large]\n",
    "# sat_act = [sat_inactive,sat_large]\n",
    "# sun_act = [sun_inactive,sun_large]\n",
    "act_list = [mon_act,tue_act,wed_act,thu_act,fri_act,sat_act,sun_act]\n",
    "df = pd.DataFrame (act_list, columns = ['Weekday','inactive', 'active'])\n",
    " \n",
    "# plot data in stack manner of bar type\n",
    "df.plot(x='Weekday', kind='bar', stacked=True,\n",
    "        title='Stacked Bar Graph by dataframe')\n",
    "plt.show()\n",
    "\n"
   ]
  }
 ],
 "metadata": {
  "kernelspec": {
   "display_name": "Python 3 (ipykernel)",
   "language": "python",
   "name": "python3"
  },
  "language_info": {
   "codemirror_mode": {
    "name": "ipython",
    "version": 3
   },
   "file_extension": ".py",
   "mimetype": "text/x-python",
   "name": "python",
   "nbconvert_exporter": "python",
   "pygments_lexer": "ipython3",
   "version": "3.9.12"
  }
 },
 "nbformat": 4,
 "nbformat_minor": 5
}
