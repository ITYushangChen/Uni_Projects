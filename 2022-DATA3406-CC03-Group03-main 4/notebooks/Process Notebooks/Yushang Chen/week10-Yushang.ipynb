{
 "cells": [
  {
   "cell_type": "markdown",
   "id": "0263d522",
   "metadata": {},
   "source": [
    "# Given dataset"
   ]
  },
  {
   "cell_type": "code",
   "execution_count": 90,
   "id": "767a8a00",
   "metadata": {},
   "outputs": [
    {
     "data": {
      "text/html": [
       "<div>\n",
       "<style scoped>\n",
       "    .dataframe tbody tr th:only-of-type {\n",
       "        vertical-align: middle;\n",
       "    }\n",
       "\n",
       "    .dataframe tbody tr th {\n",
       "        vertical-align: top;\n",
       "    }\n",
       "\n",
       "    .dataframe thead th {\n",
       "        text-align: right;\n",
       "    }\n",
       "</style>\n",
       "<table border=\"1\" class=\"dataframe\">\n",
       "  <thead>\n",
       "    <tr style=\"text-align: right;\">\n",
       "      <th></th>\n",
       "      <th>Steps</th>\n",
       "      <th>Date</th>\n",
       "      <th>Weekday</th>\n",
       "    </tr>\n",
       "  </thead>\n",
       "  <tbody>\n",
       "    <tr>\n",
       "      <th>0</th>\n",
       "      <td>32.0</td>\n",
       "      <td>2022-01-01</td>\n",
       "      <td>Saturday</td>\n",
       "    </tr>\n",
       "    <tr>\n",
       "      <th>1</th>\n",
       "      <td>0.0</td>\n",
       "      <td>2022-01-01</td>\n",
       "      <td>Saturday</td>\n",
       "    </tr>\n",
       "    <tr>\n",
       "      <th>2</th>\n",
       "      <td>0.0</td>\n",
       "      <td>2022-01-01</td>\n",
       "      <td>Saturday</td>\n",
       "    </tr>\n",
       "    <tr>\n",
       "      <th>3</th>\n",
       "      <td>0.0</td>\n",
       "      <td>2022-01-01</td>\n",
       "      <td>Saturday</td>\n",
       "    </tr>\n",
       "    <tr>\n",
       "      <th>4</th>\n",
       "      <td>0.0</td>\n",
       "      <td>2022-01-01</td>\n",
       "      <td>Saturday</td>\n",
       "    </tr>\n",
       "  </tbody>\n",
       "</table>\n",
       "</div>"
      ],
      "text/plain": [
       "   Steps       Date   Weekday\n",
       "0   32.0 2022-01-01  Saturday\n",
       "1    0.0 2022-01-01  Saturday\n",
       "2    0.0 2022-01-01  Saturday\n",
       "3    0.0 2022-01-01  Saturday\n",
       "4    0.0 2022-01-01  Saturday"
      ]
     },
     "execution_count": 90,
     "metadata": {},
     "output_type": "execute_result"
    }
   ],
   "source": [
    "import pandas as pd\n",
    "import matplotlib.pyplot as plt\n",
    "from scipy.stats import chi2_contingency\n",
    "from scipy.stats import chi2 \n",
    "import scipy.stats as stats\n",
    "import seaborn as sns\n",
    "\n",
    "import numpy as np\n",
    "import matplotlib.pyplot as plt\n",
    "\n",
    "raw_df = pd.read_csv(\"../../../dataset/Participant-07.csv\")\n",
    "df = raw_df.copy()\n",
    "new_df_date = df[\"Start\"].str.split(\" \",n = 1,expand = True)\n",
    "df[\"Date\"] = new_df_date[0]\n",
    "df[\"Date\"] = pd.to_datetime(df[\"Date\"])\n",
    "df[\"Weekday\"] = df['Date'].dt.day_name()\n",
    "df = df.drop(columns = [\"Start\",\"Finish\"]) #https://www.geeksforgeeks.org/python-pandas-split-strings-into-two-list-columns-using-str-split/\n",
    "df = df.rename(columns = {\"Steps (count)\":\"Steps\"})\n",
    "\n",
    "df.head()"
   ]
  },
  {
   "cell_type": "code",
   "execution_count": 57,
   "id": "ca02aa74",
   "metadata": {},
   "outputs": [
    {
     "name": "stdout",
     "output_type": "stream",
     "text": [
      "              Steps\n",
      "Weekday            \n",
      "Monday     320383.0\n",
      "Tuesday    286323.0\n",
      "Wednesday  284938.0\n",
      "Thursday   294583.0\n",
      "Friday     253461.0\n",
      "Saturday   306291.0\n",
      "Sunday     237623.0\n"
     ]
    }
   ],
   "source": [
    "outcome_1 = df[[\"Weekday\",\"Steps\"]].groupby(\"Weekday\").sum()\n",
    "week_dict = {'Monday':1,'Tuesday':2,'Wednesday':3, 'Thursday':4, 'Friday':5, 'Saturday':6, 'Sunday':7}\n",
    "outcome_1[\"Steps\"] = outcome_1[\"Steps\"].round() # remove the digit in the steps\n",
    "sum_up = outcome_1.sort_values(\"Weekday\", key = lambda x : x.apply (lambda x : week_dict[x]))\n",
    "print(sum_up)"
   ]
  },
  {
   "cell_type": "code",
   "execution_count": 58,
   "id": "4dffda6c",
   "metadata": {},
   "outputs": [],
   "source": [
    "df.Date = df.Date.dt.strftime('%Y-%m-%d')\n",
    "df_steps = df.Steps.values.tolist()\n",
    "df_dates = df.Date.values.tolist()\n",
    "df_Weekday = df.Weekday.values.tolist()\n",
    "\n",
    "df_list = [df_steps,df_dates,df_Weekday]\n",
    "list_df = pd.DataFrame(df_list).transpose()\n",
    "list_df.columns = ['Steps','Date','Weekday']"
   ]
  },
  {
   "cell_type": "code",
   "execution_count": 59,
   "id": "5fcdc68a",
   "metadata": {},
   "outputs": [],
   "source": [
    "# Creating the step matrix.\n",
    "date = \"\"\n",
    "step = 0\n",
    "weekday = \"\"\n",
    "first = True\n",
    "rows = []\n",
    "for i in range(len(df_dates)):\n",
    "    if first:\n",
    "        first = False\n",
    "        date = df_dates[0]\n",
    "        step = df_steps[0]\n",
    "        weekday = df_Weekday[0]\n",
    "    if date != df_dates[i]:\n",
    "        rows.append([int(step),date,weekday])\n",
    "        date = df_dates[i]\n",
    "        step = df_steps[i]\n",
    "        weekday = df_Weekday[i]\n",
    "    else:\n",
    "        step += df_steps[i]\n",
    "\n",
    "# for i in rows:\n",
    "#     print(i)\n",
    "\n",
    "    "
   ]
  },
  {
   "cell_type": "code",
   "execution_count": 98,
   "id": "12d8deea",
   "metadata": {
    "scrolled": true
   },
   "outputs": [
    {
     "name": "stdout",
     "output_type": "stream",
     "text": [
      "[19, 18, 23, 19, 27, 25, 25]\n",
      "[15, 11, 9, 11, 4, 10, 2]\n"
     ]
    }
   ],
   "source": [
    "# Creating the matrix for chi-squared testing\n",
    "Mon_5k = 0\n",
    "Tue_5k = 0\n",
    "Wed_5k = 0\n",
    "Thu_5k = 0\n",
    "Fri_5k = 0\n",
    "Sat_5k = 0\n",
    "Sun_5k = 0\n",
    "Mon_10k = 0\n",
    "Tue_10k = 0\n",
    "Wed_10k = 0\n",
    "Thu_10k = 0\n",
    "Fri_10k = 0\n",
    "Sat_10k = 0\n",
    "Sun_10k = 0\n",
    "mon = 0\n",
    "tue = 0\n",
    "wed = 0\n",
    "thu = 0\n",
    "fri = 0\n",
    "sat = 0\n",
    "sun = 0\n",
    "mon_small = 0\n",
    "mon_medium = 0\n",
    "mon_large = 0\n",
    "tue_small = 0\n",
    "tue_medium = 0\n",
    "tue_large = 0\n",
    "\n",
    "wed_small = 0\n",
    "wed_medium = 0\n",
    "wed_large = 0\n",
    "\n",
    "thu_small = 0\n",
    "thu_medium = 0\n",
    "thu_large = 0\n",
    "\n",
    "fri_small = 0\n",
    "fri_medium = 0\n",
    "fri_large = 0\n",
    "\n",
    "sat_small = 0\n",
    "sat_medium = 0\n",
    "sat_large = 0\n",
    "\n",
    "sun_small = 0\n",
    "sun_medium = 0\n",
    "sun_large = 0\n",
    "\n",
    "\n",
    "for i in rows:\n",
    "    day_step = i[0]\n",
    "    day_weekday = i[2]\n",
    "    if (5000<day_step<10000):\n",
    "        if day_weekday == 'Monday':\n",
    "            Mon_5k += 1\n",
    "            mon += 1\n",
    "            mon_medium += 1\n",
    "        if day_weekday == 'Tuesday':\n",
    "            Tue_5k += 1\n",
    "            tue += 1\n",
    "            tue_medium += 1\n",
    "        if day_weekday == 'Wednesday':\n",
    "            Wed_5k += 1\n",
    "            wed += 1\n",
    "            wed_medium += 1\n",
    "        if day_weekday == 'Thursday':\n",
    "            Thu_5k += 1\n",
    "            thu += 1\n",
    "            thu_medium += 1\n",
    "        if day_weekday == 'Friday':\n",
    "            Fri_5k += 1\n",
    "            fri += 1\n",
    "            fri_medium += 1\n",
    "        if day_weekday == 'Saturday':\n",
    "            Sat_5k += 1\n",
    "            sat += 1\n",
    "            sat_medium += 1\n",
    "        if day_weekday == 'Sunday':\n",
    "            Sun_5k += 1\n",
    "            sun += 1\n",
    "            sun_medium += 1\n",
    "    if (day_step>10000):\n",
    "        if day_weekday == 'Monday':\n",
    "            Mon_10k += 1\n",
    "            mon += 2\n",
    "            mon_large += 1\n",
    "        if day_weekday == 'Tuesday':\n",
    "            Tue_10k += 1\n",
    "            tue += 2\n",
    "            tue_large += 1\n",
    "        if day_weekday == 'Wednesday':\n",
    "            Wed_10k += 1\n",
    "            wed += 2\n",
    "            wed_large += 1\n",
    "        if day_weekday == 'Thursday':\n",
    "            Thu_10k += 1\n",
    "            thu += 2\n",
    "            thu_large += 1\n",
    "        if day_weekday == 'Friday':\n",
    "            Fri_10k += 1\n",
    "            fri += 2\n",
    "            fri_large += 1\n",
    "        if day_weekday == 'Saturday':\n",
    "            Sat_10k += 1\n",
    "            sat += 2\n",
    "            sat_large+= 1\n",
    "        if day_weekday == 'Sunday':\n",
    "            Sun_10k += 1\n",
    "            sun += 2\n",
    "            sun_large += 1\n",
    "    if (day_step < 5000):\n",
    "        if day_weekday == 'Monday':\n",
    "            mon_small += 1\n",
    "        if day_weekday == 'Tuesday':\n",
    "            tue_small += 1\n",
    "        if day_weekday == 'Wednesday':\n",
    "            wed_small += 1\n",
    "        if day_weekday == 'Thursday':\n",
    "            thu_small += 1\n",
    "        if day_weekday == 'Friday':\n",
    "            fri_small += 1\n",
    "        if day_weekday == 'Saturday':\n",
    "            sat_small += 1\n",
    "        if day_weekday == 'Sunday':\n",
    "            sun_small += 1\n",
    "ls_score = [mon,tue,wed,thu,fri,sat,sun]\n",
    "ls_score_5k = [Mon_5k,Tue_5k,Wed_5k,Thu_5k,Fri_5k,Sat_5k,Sun_5k]\n",
    "ls_score_10k = [Mon_10k,Tue_10k,Wed_10k,Thu_10k,Fri_10k,Sat_10k,Sun_10k]\n",
    "print(ls_score_5k)\n",
    "print(ls_score_10k)\n",
    "mon_ls = [\"Mon\",mon_small,mon_medium,mon_large]\n",
    "tue_ls = [\"Tue\",tue_small,tue_medium,tue_large]\n",
    "\n",
    "wed_ls = [\"Wed\",wed_small,wed_medium,wed_large]\n",
    "\n",
    "thu_ls = [\"Thu\",thu_small,thu_medium,thu_large]\n",
    "\n",
    "fri_ls = [\"Fri\",fri_small,fri_medium,fri_large]\n",
    "sat_ls = [\"Sat\",sat_small,sat_medium,sat_large]\n",
    "sun_ls = [\"Sun\",sun_small,sun_medium,sun_large]\n",
    "\n",
    "\n",
    "ls_mon = [Mon_5k,Mon_10k]\n",
    "ls_tue = [Tue_5k,Tue_10k]\n",
    "ls_wed = [Wed_5k,Wed_10k]\n",
    "ls_thu = [Thu_5k,Thu_10k]\n",
    "ls_fri = [Fri_5k,Fri_10k]\n",
    "ls_sat = [Sat_5k,Sat_10k]\n",
    "ls_sun = [Sun_5k,Sun_10k]"
   ]
  },
  {
   "cell_type": "code",
   "execution_count": 68,
   "id": "20492765",
   "metadata": {},
   "outputs": [
    {
     "name": "stdout",
     "output_type": "stream",
     "text": [
      "dof=6\n",
      "[[24.33027523  9.66972477]\n",
      " [20.75229358  8.24770642]\n",
      " [22.89908257  9.10091743]\n",
      " [21.46788991  8.53211009]\n",
      " [22.18348624  8.81651376]\n",
      " [25.04587156  9.95412844]\n",
      " [19.32110092  7.67889908]]\n",
      "0.014107840982684914\n"
     ]
    }
   ],
   "source": [
    "# chi-square hypothesis testing\n",
    "table = [ls_score_5k,ls_score_10k]\n",
    "table_2 = [ls_mon,ls_tue,ls_wed,ls_thu,ls_fri,ls_sat,ls_sun]\n",
    "stat, p, dof, expected = chi2_contingency(table_2)\n",
    "print('dof=%d' % dof)\n",
    "print(expected)\n",
    "print(p)"
   ]
  },
  {
   "cell_type": "code",
   "execution_count": 71,
   "id": "39e55e8b",
   "metadata": {},
   "outputs": [],
   "source": [
    "# graphs of expected value and real value\n",
    "expected_5k = []\n",
    "expected_10k = []\n",
    "for i in expected:\n",
    "    expected_5k.append(i[0])\n",
    "    expected_10k.append(i[1])\n",
    "observed_5k = ls_score_5k\n",
    "observed_10k = ls_score_10k"
   ]
  },
  {
   "cell_type": "code",
   "execution_count": 88,
   "id": "3919e5d4",
   "metadata": {},
   "outputs": [
    {
     "name": "stdout",
     "output_type": "stream",
     "text": [
      "[40.0, 40.0, 40.0, 40.0, 40.0, 40.0, 40.0]\n",
      "[49, 40, 41, 41, 35, 45, 29]\n"
     ]
    },
    {
     "data": {
      "text/plain": [
       "Power_divergenceResult(statistic=6.35, pvalue=0.3851457298000636)"
      ]
     },
     "execution_count": 88,
     "metadata": {},
     "output_type": "execute_result"
    },
    {
     "data": {
      "image/png": "[encoded data removed]",
      "text/plain": [
       "<Figure size 432x288 with 1 Axes>"
      ]
     },
     "metadata": {
      "needs_background": "light"
     },
     "output_type": "display_data"
    }
   ],
   "source": [
    "# chi-square hypothesis testing for one categorical variable\n",
    "table_1 = [mon,tue,wed,thu,fri,sat,sun]\n",
    "avg = (mon+tue+wed+thu+fri+sat+sun)/7\n",
    "expected2 = [avg,avg,avg,avg,avg,avg,avg]\n",
    "print(expected2)\n",
    "print(ls_score)\n",
    "X = np.arange(7)\n",
    "fig = plt.figure()\n",
    "ax = fig.add_axes([0,0,1,1])\n",
    "ax.bar(X + 0.00, expected2, color = 'b', width = 0.25)\n",
    "ax.bar(X + 0.25, ls_score, color = 'g', width = 0.25)\n",
    "ax.legend(labels=['Expected', 'Observed'])\n",
    "\n",
    "stats.chisquare(f_obs=ls_score, f_exp=expected2)\n",
    "\n"
   ]
  },
  {
   "cell_type": "code",
   "execution_count": null,
   "id": "ad1d7687",
   "metadata": {},
   "outputs": [],
   "source": []
  },
  {
   "cell_type": "code",
   "execution_count": 120,
   "id": "a06fb054",
   "metadata": {},
   "outputs": [
    {
     "data": {
      "image/png": "[encoded data removed]",
      "text/plain": [
       "<Figure size 432x288 with 1 Axes>"
      ]
     },
     "metadata": {
      "needs_background": "light"
     },
     "output_type": "display_data"
    }
   ],
   "source": [
    "products_list = [mon_ls,tue_ls,wed_ls,thu_ls,fri_ls,sat_ls,sun_ls]\n",
    "df = pd.DataFrame (products_list, columns = ['Weekday', '< 5000',\"5000-10000\",\"> 10000\"])\n",
    "df.plot(\n",
    "  x = 'Weekday', \n",
    "  kind = 'barh', \n",
    "  stacked = True, \n",
    "  title = 'Percentage Stacked Bar Graph of Daily Step', \n",
    "  mark_right = True,\n",
    "  legend = True)\n",
    "  \n",
    "df_total = df[\"< 5000\"] + df[\"5000-10000\"] + df[\"> 10000\"]\n",
    "df_rel = df[df.columns[1:]].div(df_total, 0)*100\n",
    "  \n",
    "for n in df_rel:\n",
    "    for i, (cs, ab, pc) in enumerate(zip(df.iloc[:, 1:].cumsum(1)[n], \n",
    "                                         df[n], df_rel[n])):\n",
    "        plt.text(cs - ab / 2, i, str(np.round(pc, 1)) + '%', \n",
    "                 va = 'center', ha = 'center')"
   ]
  },
  {
   "cell_type": "code",
   "execution_count": null,
   "id": "7c50f7fb",
   "metadata": {},
   "outputs": [],
   "source": []
  },
  {
   "cell_type": "code",
   "execution_count": null,
   "id": "c252217c",
   "metadata": {},
   "outputs": [],
   "source": []
  },
  {
   "cell_type": "code",
   "execution_count": null,
   "id": "e2b48778",
   "metadata": {},
   "outputs": [],
   "source": []
  },
  {
   "cell_type": "code",
   "execution_count": null,
   "id": "21c94230",
   "metadata": {},
   "outputs": [],
   "source": []
  }
 ],
 "metadata": {
  "kernelspec": {
   "display_name": "Python 3 (ipykernel)",
   "language": "python",
   "name": "python3"
  },
  "language_info": {
   "codemirror_mode": {
    "name": "ipython",
    "version": 3
   },
   "file_extension": ".py",
   "mimetype": "text/x-python",
   "name": "python",
   "nbconvert_exporter": "python",
   "pygments_lexer": "ipython3",
   "version": "3.9.12"
  }
 },
 "nbformat": 4,
 "nbformat_minor": 5
}
