{
 "cells": [
  {
   "cell_type": "markdown",
   "id": "42621d94",
   "metadata": {},
   "source": [
    "# TTP08"
   ]
  },
  {
   "cell_type": "markdown",
   "id": "e0b48fa4",
   "metadata": {},
   "source": [
    "## Introduction"
   ]
  },
  {
   "cell_type": "markdown",
   "id": "b13f9d9f",
   "metadata": {},
   "source": [
    "In this report, we are going to explore a dataset which store the hourly step counts of a participant for 9 months. Our purpose is to analyze the trends of the daily step within a week. Now, let's take a look at the row data."
   ]
  },
  {
   "cell_type": "markdown",
   "id": "1fcb88f7",
   "metadata": {},
   "source": [
    "## Dataset"
   ]
  },
  {
   "cell_type": "markdown",
   "id": "192968a0",
   "metadata": {},
   "source": [
    "The dataset collects the hourly step from participant 7 from 1st January to 13th September. We show the examples of data below."
   ]
  },
  {
   "cell_type": "code",
   "execution_count": 101,
   "id": "0d783c9f",
   "metadata": {},
   "outputs": [
    {
     "data": {
      "text/html": [
       "<div>\n",
       "<style scoped>\n",
       "    .dataframe tbody tr th:only-of-type {\n",
       "        vertical-align: middle;\n",
       "    }\n",
       "\n",
       "    .dataframe tbody tr th {\n",
       "        vertical-align: top;\n",
       "    }\n",
       "\n",
       "    .dataframe thead th {\n",
       "        text-align: right;\n",
       "    }\n",
       "</style>\n",
       "<table border=\"1\" class=\"dataframe\">\n",
       "  <thead>\n",
       "    <tr style=\"text-align: right;\">\n",
       "      <th></th>\n",
       "      <th>Start</th>\n",
       "      <th>Finish</th>\n",
       "      <th>Steps (count)</th>\n",
       "    </tr>\n",
       "  </thead>\n",
       "  <tbody>\n",
       "    <tr>\n",
       "      <th>0</th>\n",
       "      <td>01-Jan-2022 00:00</td>\n",
       "      <td>01-Jan-2022 01:00</td>\n",
       "      <td>32.0</td>\n",
       "    </tr>\n",
       "    <tr>\n",
       "      <th>1</th>\n",
       "      <td>01-Jan-2022 01:00</td>\n",
       "      <td>01-Jan-2022 02:00</td>\n",
       "      <td>0.0</td>\n",
       "    </tr>\n",
       "    <tr>\n",
       "      <th>2</th>\n",
       "      <td>01-Jan-2022 02:00</td>\n",
       "      <td>01-Jan-2022 03:00</td>\n",
       "      <td>0.0</td>\n",
       "    </tr>\n",
       "    <tr>\n",
       "      <th>3</th>\n",
       "      <td>01-Jan-2022 03:00</td>\n",
       "      <td>01-Jan-2022 04:00</td>\n",
       "      <td>0.0</td>\n",
       "    </tr>\n",
       "    <tr>\n",
       "      <th>4</th>\n",
       "      <td>01-Jan-2022 04:00</td>\n",
       "      <td>01-Jan-2022 05:00</td>\n",
       "      <td>0.0</td>\n",
       "    </tr>\n",
       "  </tbody>\n",
       "</table>\n",
       "</div>"
      ],
      "text/plain": [
       "               Start             Finish  Steps (count)\n",
       "0  01-Jan-2022 00:00  01-Jan-2022 01:00           32.0\n",
       "1  01-Jan-2022 01:00  01-Jan-2022 02:00            0.0\n",
       "2  01-Jan-2022 02:00  01-Jan-2022 03:00            0.0\n",
       "3  01-Jan-2022 03:00  01-Jan-2022 04:00            0.0\n",
       "4  01-Jan-2022 04:00  01-Jan-2022 05:00            0.0"
      ]
     },
     "execution_count": 101,
     "metadata": {},
     "output_type": "execute_result"
    }
   ],
   "source": [
    "import pandas as pd\n",
    "import matplotlib.pyplot as plt\n",
    "raw_df = pd.read_csv(\"Participant-07.csv\")\n",
    "df = raw_df.copy()\n",
    "df.head()"
   ]
  },
  {
   "cell_type": "markdown",
   "id": "8e09921e",
   "metadata": {},
   "source": [
    "## Data Cleaning"
   ]
  },
  {
   "cell_type": "markdown",
   "id": "f8614895",
   "metadata": {},
   "source": [
    "Out goal is to analyze the trends in a week, so we need to clean our data so that it could reflects on what we want."
   ]
  },
  {
   "cell_type": "code",
   "execution_count": 102,
   "id": "41f6525a",
   "metadata": {},
   "outputs": [
    {
     "data": {
      "text/html": [
       "<div>\n",
       "<style scoped>\n",
       "    .dataframe tbody tr th:only-of-type {\n",
       "        vertical-align: middle;\n",
       "    }\n",
       "\n",
       "    .dataframe tbody tr th {\n",
       "        vertical-align: top;\n",
       "    }\n",
       "\n",
       "    .dataframe thead th {\n",
       "        text-align: right;\n",
       "    }\n",
       "</style>\n",
       "<table border=\"1\" class=\"dataframe\">\n",
       "  <thead>\n",
       "    <tr style=\"text-align: right;\">\n",
       "      <th></th>\n",
       "      <th>Steps</th>\n",
       "      <th>Date</th>\n",
       "      <th>Weekday</th>\n",
       "    </tr>\n",
       "  </thead>\n",
       "  <tbody>\n",
       "    <tr>\n",
       "      <th>0</th>\n",
       "      <td>32.0</td>\n",
       "      <td>2022-01-01</td>\n",
       "      <td>Saturday</td>\n",
       "    </tr>\n",
       "    <tr>\n",
       "      <th>1</th>\n",
       "      <td>0.0</td>\n",
       "      <td>2022-01-01</td>\n",
       "      <td>Saturday</td>\n",
       "    </tr>\n",
       "    <tr>\n",
       "      <th>2</th>\n",
       "      <td>0.0</td>\n",
       "      <td>2022-01-01</td>\n",
       "      <td>Saturday</td>\n",
       "    </tr>\n",
       "    <tr>\n",
       "      <th>3</th>\n",
       "      <td>0.0</td>\n",
       "      <td>2022-01-01</td>\n",
       "      <td>Saturday</td>\n",
       "    </tr>\n",
       "    <tr>\n",
       "      <th>4</th>\n",
       "      <td>0.0</td>\n",
       "      <td>2022-01-01</td>\n",
       "      <td>Saturday</td>\n",
       "    </tr>\n",
       "  </tbody>\n",
       "</table>\n",
       "</div>"
      ],
      "text/plain": [
       "   Steps       Date   Weekday\n",
       "0   32.0 2022-01-01  Saturday\n",
       "1    0.0 2022-01-01  Saturday\n",
       "2    0.0 2022-01-01  Saturday\n",
       "3    0.0 2022-01-01  Saturday\n",
       "4    0.0 2022-01-01  Saturday"
      ]
     },
     "execution_count": 102,
     "metadata": {},
     "output_type": "execute_result"
    }
   ],
   "source": [
    "new_df_date = df[\"Start\"].str.split(\" \",n = 1,expand = True)\n",
    "df[\"Date\"] = new_df_date[0]\n",
    "df[\"Date\"] = pd.to_datetime(df[\"Date\"])\n",
    "df[\"Weekday\"] = df['Date'].dt.day_name()\n",
    "df = df.drop(columns = [\"Start\",\"Finish\"]) #https://www.geeksforgeeks.org/python-pandas-split-strings-into-two-list-columns-using-str-split/\n",
    "df = df.rename(columns = {\"Steps (count)\":\"Steps\"})\n",
    "\n",
    "df.head()"
   ]
  },
  {
   "cell_type": "markdown",
   "id": "6eeca93c",
   "metadata": {},
   "source": [
    "## Statistics of The Dataset"
   ]
  },
  {
   "cell_type": "markdown",
   "id": "aba0f83b",
   "metadata": {},
   "source": [
    "We will next provide some statistics of the dataset"
   ]
  },
  {
   "cell_type": "code",
   "execution_count": 107,
   "id": "1bdbf299",
   "metadata": {},
   "outputs": [
    {
     "name": "stdout",
     "output_type": "stream",
     "text": [
      "              Steps\n",
      "Weekday            \n",
      "Monday     320383.0\n",
      "Tuesday    286323.0\n",
      "Wednesday  284938.0\n",
      "Thursday   294583.0\n",
      "Friday     253461.0\n",
      "Saturday   306291.0\n",
      "Sunday     237623.0\n"
     ]
    }
   ],
   "source": [
    "outcome_1 = df[[\"Weekday\",\"Steps\"]].groupby(\"Weekday\").sum()\n",
    "week_dict = {'Monday':1,'Tuesday':2,'Wednesday':3, 'Thursday':4, 'Friday':5, 'Saturday':6, 'Sunday':7}\n",
    "outcome_1[\"Steps\"] = outcome_1[\"Steps\"].round() # remove the digit in the steps\n",
    "outcome_1 = outcome_1.sort_values(\"Weekday\", key = lambda x : x.apply (lambda x : week_dict[x]))\n",
    "print(outcome_1)"
   ]
  },
  {
   "cell_type": "markdown",
   "id": "006eb28a",
   "metadata": {},
   "source": [
    "The table above shows the total steps for each weekday, we generate a list in decreasing order below."
   ]
  },
  {
   "cell_type": "code",
   "execution_count": 104,
   "id": "7877b35d",
   "metadata": {},
   "outputs": [
    {
     "name": "stdout",
     "output_type": "stream",
     "text": [
      "              Steps\n",
      "Weekday            \n",
      "Monday     320383.0\n",
      "Saturday   306291.0\n",
      "Thursday   294583.0\n",
      "Tuesday    286323.0\n",
      "Wednesday  284938.0\n",
      "Friday     253461.0\n",
      "Sunday     237623.0\n"
     ]
    }
   ],
   "source": [
    "outcome_2 = outcome_1.sort_values(by = \"Steps\",ascending=False)\n",
    "print(outcome_2)\n"
   ]
  },
  {
   "cell_type": "markdown",
   "id": "1d9fec72",
   "metadata": {},
   "source": [
    "## Visualization"
   ]
  },
  {
   "cell_type": "code",
   "execution_count": 109,
   "id": "22a137f7",
   "metadata": {},
   "outputs": [
    {
     "name": "stderr",
     "output_type": "stream",
     "text": [
      "No artists with labels found to put in legend.  Note that artists whose label start with an underscore are ignored when legend() is called with no argument.\n"
     ]
    },
    {
     "data": {
      "image/png": "[encoded data removed]",
      "text/plain": [
       "<Figure size 432x288 with 1 Axes>"
      ]
     },
     "metadata": {
      "needs_background": "light"
     },
     "output_type": "display_data"
    }
   ],
   "source": [
    "plt.bar([\"Monday\",\"Tuesday\",\"Wednesday\",\"Thursday\",\"Friday\",\"Saturday\",\"Sunday\"], outcome_1[\"Steps\"], color='b')\n",
    "plt.plot()\n",
    "\n",
    "plt.xlabel(\"Week Day\")\n",
    "plt.ylabel(\"Step Counts\")\n",
    "plt.title(\"Step Counts for Each Week Day\")\n",
    "plt.legend()\n",
    "plt.show()"
   ]
  },
  {
   "cell_type": "markdown",
   "id": "bbdf45c3",
   "metadata": {},
   "source": [
    "We can see Friday and Sunday are the two days which is relatively lower than the others. Monday is the highest one compare to others."
   ]
  }
 ],
 "metadata": {
  "kernelspec": {
   "display_name": "Python 3 (ipykernel)",
   "language": "python",
   "name": "python3"
  },
  "language_info": {
   "codemirror_mode": {
    "name": "ipython",
    "version": 3
   },
   "file_extension": ".py",
   "mimetype": "text/x-python",
   "name": "python",
   "nbconvert_exporter": "python",
   "pygments_lexer": "ipython3",
   "version": "3.9.12"
  }
 },
 "nbformat": 4,
 "nbformat_minor": 5
}
