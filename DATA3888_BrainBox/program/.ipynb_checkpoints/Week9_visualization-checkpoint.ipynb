{
 "cells": [
  {
   "cell_type": "markdown",
   "id": "6f1a1b20",
   "metadata": {},
   "source": [
    "# E-Reader Project"
   ]
  },
  {
   "cell_type": "markdown",
   "id": "9e329857",
   "metadata": {},
   "source": []
  },
  {
   "cell_type": "markdown",
   "id": "263988ef",
   "metadata": {},
   "source": [
    "## Load Packages"
   ]
  },
  {
   "cell_type": "code",
   "execution_count": 78,
   "id": "bbcb2ff9",
   "metadata": {},
   "outputs": [],
   "source": [
    "from os import listdir\n",
    "from scipy.io import wavfile\n",
    "import matplotlib.pyplot as plt\n",
    "import numpy as np\n",
    "from sklearn.svm import SVC\n",
    "import seaborn as sns\n",
    "import pandas as pd\n",
    "import os\n",
    "from decimal import Decimal\n",
    "from sklearn.model_selection import train_test_split\n",
    "from sklearn.neighbors import KNeighborsClassifier\n",
    "from sklearn.model_selection import train_test_split\n",
    "from tsfresh.feature_extraction import extract_features, MinimalFCParameters, EfficientFCParameters\n",
    "from tsfresh.utilities.dataframe_functions import make_forecasting_frame\n",
    "from tsfresh.utilities.dataframe_functions import impute\n",
    "from scipy import stats\n",
    "from sklearn.ensemble import RandomForestClassifier\n",
    "from statsmodels.tsa.stattools import acf, pacf\n",
    "from statsmodels.graphics.tsaplots import plot_acf, plot_pacf\n",
    "from scipy.signal import argrelextrema\n",
    "from sklearn.metrics import accuracy_score, confusion_matrix\n",
    "from sklearn.linear_model import LogisticRegression\n",
    "from sklearn.tree import DecisionTreeClassifier\n",
    "from sklearn.ensemble import GradientBoostingClassifier\n",
    "from sklearn.model_selection import cross_val_score\n",
    "import pyautogui\n",
    "from sklearn.metrics import plot_confusion_matrix\n",
    "from sklearn.model_selection import cross_validate\n",
    "import pickle\n"
   ]
  },
  {
   "cell_type": "markdown",
   "id": "fd026671",
   "metadata": {},
   "source": [
    "# Train the Data"
   ]
  },
  {
   "cell_type": "markdown",
   "id": "bc85bc1e",
   "metadata": {},
   "source": [
    "In this section, we are aiming to read all the data and get a feature matrix for training"
   ]
  },
  {
   "cell_type": "markdown",
   "id": "37575593",
   "metadata": {},
   "source": [
    "## Label Training Data"
   ]
  },
  {
   "cell_type": "markdown",
   "id": "315cff8d",
   "metadata": {},
   "source": [
    "Firstly, read the data and get all of the events selected and labeled."
   ]
  },
  {
   "cell_type": "code",
   "execution_count": 51,
   "id": "a77ace55",
   "metadata": {},
   "outputs": [],
   "source": [
    "def eye_movement_ZC(Y, time, windowSize=0.5, thresholdEvents=20, downSampleRate=50):\n",
    "    Y = Y - 500\n",
    "    ind = np.arange(0, np.where(time == np.round(time[-1] - windowSize, 4))[0][0] + 1, downSampleRate)\n",
    "    Y = Y - np.average(Y)\n",
    "    timeMiddle = time[ind] + windowSize / 2\n",
    "    testStat = np.empty(len(ind), dtype=int)\n",
    "    for i in range(len(ind)):\n",
    "        Y_subset = Y[(time >= time[ind[i]]) & (time < time[ind[i]] + windowSize)]\n",
    "        if np.ndim(Y_subset) > 1:\n",
    "            Y_subset = Y_subset[:, 1]\n",
    "        testStat[i] = sum(Decimal(int(Y_subset[i])) * Decimal(int(Y_subset[i + 1])) <= 0 for i in range(len(Y_subset) - 1))\n",
    "    predictedEvent = np.where(testStat < thresholdEvents)[0]\n",
    "    eventTimes = timeMiddle[predictedEvent]\n",
    "    gaps = np.where(np.diff(eventTimes) > windowSize)[0]\n",
    "    if len(eventTimes) == 0:\n",
    "        return None\n",
    "    event_time_interval = [np.min(eventTimes)]\n",
    "    for i in range(len(gaps)):\n",
    "        event_time_interval.extend([eventTimes[gaps[i]], eventTimes[gaps[i] + 1]])\n",
    "    event_time_interval.append(np.max(eventTimes))\n",
    "    event_time_interval = np.reshape(event_time_interval, (-1, 2))\n",
    "\n",
    "    predictedEventTimes = np.full(len(Y), False)\n",
    "    for i in range(event_time_interval.shape[0]):\n",
    "        predictedEventTimes[(event_time_interval[i, 0] <= time) & (event_time_interval[i, 1] >= time)] = True\n",
    "\n",
    "    num_event = len(gaps) + 1\n",
    "    movement_list = []\n",
    "    y_values = []\n",
    "    for i in range(event_time_interval.shape[0]):\n",
    "        interval_start, interval_end = event_time_interval[i]\n",
    "        interval_indices = (time >= interval_start) & (time <= interval_end)\n",
    "        interval_Y = Y[interval_indices]\n",
    "        y_values.append(interval_Y)\n",
    "        movement = LR_detection(interval_Y)\n",
    "        movement_list.append(movement)\n",
    "    return {\n",
    "        \"num_event\": num_event,\n",
    "        \"predictedEventTimes\": predictedEventTimes,\n",
    "        \"predictedInterval\": event_time_interval,\n",
    "        \"labels\": movement_list,\n",
    "        \"signals\": y_values\n",
    "    }\n",
    "\n",
    "def LR_detection(seq):\n",
    "    maxval = np.max(seq)\n",
    "    minval = np.min(seq)\n",
    "    movement = \"L\" if maxval < -minval else \"R\"\n",
    "    return movement\n",
    "def record_all_training(files,method):\n",
    "    ls_signals = []\n",
    "    ls_labels = []\n",
    "    ls_intervals = []\n",
    "    for i in range(len(files)):\n",
    "        wave = files[i]\n",
    "        print(wave)\n",
    "        if wave[-3:] != \"wav\":\n",
    "            continue\n",
    "        window_size, Y = wavfile.read(wave)\n",
    "        timeSeq = []\n",
    "        for i in range(len(Y)):\n",
    "            timeSeq.append(i / window_size)\n",
    "        timeSeq = np.array(timeSeq)\n",
    "        if np.ndim(Y) > 1:\n",
    "            Y = Y[:, 1]\n",
    "            Y = Y-500\n",
    "        Y = np.array(Y)\n",
    "        if method == \"zc\":\n",
    "            result = eye_movement_ZC(Y=Y, time=timeSeq)\n",
    "        elif method == \"max\":\n",
    "            result = eye_movement_max(Y=Y,time = timeSeq)\n",
    "        if result == None:\n",
    "            continue\n",
    "        ls_signals.append(result[\"signals\"])\n",
    "        ls_labels.append(result[\"labels\"])\n",
    "        ls_intervals.append(result[\"predictedInterval\"])\n",
    "    ls_labels = [item for sublist in ls_labels for item in sublist]\n",
    "    ls_signals = [item for sublist in ls_signals for item in sublist]\n",
    "    ls_intervals = [item for sublist in ls_intervals for item in sublist]\n",
    "    return {\n",
    "        \"ls_signals\":ls_signals,\n",
    "        \"ls_labels\":ls_labels,\n",
    "        \"ls_intervals\": ls_intervals\n",
    "    }\n",
    "\n",
    "# make a feature matrix for the following classifier\n",
    "def make_matrix(signals, labels):\n",
    "    mean_ls = []\n",
    "    sd_ls = []\n",
    "    zero_crossing = []\n",
    "    # entropy = []\n",
    "    # lumpiness = []\n",
    "    # flat_spots = []\n",
    "    for i in range(len(signals)):\n",
    "        mean = np.mean(signals[i])\n",
    "        zero_crossing.append(len(np.where(np.diff(np.sign(signals[i])))[0]))\n",
    "        sd = np.std(signals[i])\n",
    "        mean_ls.append(mean)\n",
    "        sd_ls.append(sd)\n",
    "        #entropy.append(ts_entropy(signals))\n",
    "        # lumpiness.append(ts_lumpiness(signals))\n",
    "        # flat_spots.append(ts_flat_spots(signals))\n",
    "    # , 'Signals': signals}\n",
    "    dependent_vars = pd.DataFrame({'Mean': mean_ls, 'SD': sd_ls})\n",
    "    feature_matrix = pd.concat([pd.Series(labels, name='Label'), dependent_vars], axis=1)\n",
    "    feature_matrix.to_csv(\"matrix.csv\", index=False)\n",
    "    return feature_matrix\n"
   ]
  },
  {
   "cell_type": "markdown",
   "id": "cbbd83ce",
   "metadata": {},
   "source": [
    "## Get features using Tsfresh"
   ]
  },
  {
   "cell_type": "markdown",
   "id": "237bf942",
   "metadata": {},
   "source": [
    "Get some useful features for each event using the Python package (Tsfresh)"
   ]
  },
  {
   "cell_type": "code",
   "execution_count": 52,
   "id": "2ba5bbf2",
   "metadata": {},
   "outputs": [],
   "source": [
    "def make_matrix_tsfresh(signals, labels):\n",
    "    df_list = []\n",
    "    for i, signal in enumerate(signals):\n",
    "        temp_df = pd.DataFrame({'id': i, 'time': np.arange(len(signal)), 'value': signal.astype(float)})\n",
    "        df_list.append(temp_df)\n",
    "\n",
    "    df = pd.concat(df_list, ignore_index=True)\n",
    "    extracted_features = extract_features(df, column_id='id', column_sort='time',default_fc_parameters=EfficientFCParameters())\n",
    "    impute(extracted_features)\n",
    "    extracted_features['Label'] = labels\n",
    "    feature_matrix.to_csv(\"matrix.csv\", index=False)\n",
    "    return extracted_features\n",
    "\n",
    "#matrix = make_matrix_tsfresh(ls_signals,ls_labels)\n"
   ]
  },
  {
   "cell_type": "markdown",
   "id": "532b423d",
   "metadata": {},
   "source": [
    "## Read matrix csv file"
   ]
  },
  {
   "cell_type": "code",
   "execution_count": 73,
   "id": "970ae2f5",
   "metadata": {},
   "outputs": [],
   "source": [
    "def save_feature_matrix_to_csv(feature_matrix, file_path):\n",
    "    feature_matrix.to_csv(file_path, index=False)\n",
    "\n",
    "def load_feature_matrix_from_csv(file_path):\n",
    "    return pd.read_csv(file_path)"
   ]
  },
  {
   "cell_type": "markdown",
   "id": "e6683395",
   "metadata": {},
   "source": [
    "# Different Classifiers"
   ]
  },
  {
   "cell_type": "markdown",
   "id": "c70aec0f",
   "metadata": {},
   "source": [
    "The next stage is to build up several classifiers using different algorithms. Now, Knn, Random Forest, Svm, Logistic Regression, Decision Tree and Gradient Boosting is included."
   ]
  },
  {
   "cell_type": "markdown",
   "id": "df3a9860",
   "metadata": {},
   "source": [
    "## Knn"
   ]
  },
  {
   "cell_type": "code",
   "execution_count": 53,
   "id": "9982aa51",
   "metadata": {},
   "outputs": [],
   "source": [
    "def classifier_knn(feature_matrix):\n",
    "    X = feature_matrix.drop('Label', axis=1)\n",
    "    y = feature_matrix['Label']\n",
    "    X_train, X_test, y_train, y_test = train_test_split(X, y, test_size=0.2, random_state=42)\n",
    "\n",
    "    knn = KNeighborsClassifier(n_neighbors=3)\n",
    "    knn.fit(X_train, y_train)\n",
    "    y_pred = knn.predict()\n",
    "    accuracy = accuracy_score(y_test, y_pred)\n",
    "    cm = confusion_matrix(y_test, y_pred)\n",
    "\n",
    "    return accuracy, cm, knn, X_test, y_test"
   ]
  },
  {
   "cell_type": "markdown",
   "id": "9be1a659",
   "metadata": {},
   "source": [
    "## Random Forest"
   ]
  },
  {
   "cell_type": "code",
   "execution_count": 54,
   "id": "60b792f2",
   "metadata": {},
   "outputs": [],
   "source": [
    "def classifier_rf(feature_matrix):\n",
    "    X = feature_matrix.drop('Label', axis=1)\n",
    "    y = feature_matrix['Label']\n",
    "    X_train, X_test, y_train, y_test = train_test_split(X, y, test_size=0.2, random_state=42)\n",
    "\n",
    "    rf = RandomForestClassifier(n_estimators=100, random_state=42)\n",
    "    rf.fit(X_train, y_train)\n",
    "    y_pred = rf.predict(X_test)\n",
    "    accuracy = accuracy_score(y_test, y_pred)\n",
    "    cm = confusion_matrix(y_test, y_pred)\n",
    "\n",
    "    return accuracy, cm, rf, X_test, y_test"
   ]
  },
  {
   "cell_type": "markdown",
   "id": "c08e3ada",
   "metadata": {},
   "source": [
    "## SVM"
   ]
  },
  {
   "cell_type": "code",
   "execution_count": 55,
   "id": "269f85a7",
   "metadata": {},
   "outputs": [],
   "source": [
    "def classifier_svm(feature_matrix):\n",
    "    X = feature_matrix.drop('Label', axis=1)\n",
    "    y = feature_matrix['Label']\n",
    "    X_train, X_test, y_train, y_test = train_test_split(X, y, test_size=0.2, random_state=42)\n",
    "\n",
    "    svm = SVC(kernel='linear', C=1, random_state=42)\n",
    "    svm.fit(X_train, y_train)\n",
    "    y_pred = svm.predict(X_test)\n",
    "    accuracy = accuracy_score(y_test, y_pred)\n",
    "    cm = confusion_matrix(y_test, y_pred)\n",
    "\n",
    "    return accuracy, cm, svm, X_test, y_test"
   ]
  },
  {
   "cell_type": "markdown",
   "id": "a85b79ee",
   "metadata": {},
   "source": [
    "## Decision Tree"
   ]
  },
  {
   "cell_type": "code",
   "execution_count": 56,
   "id": "bd7dff43",
   "metadata": {},
   "outputs": [],
   "source": [
    "def classifier_dt(feature_matrix):\n",
    "    X = feature_matrix.drop('Label', axis=1)\n",
    "    y = feature_matrix['Label']\n",
    "    X_train, X_test, y_train, y_test = train_test_split(X, y, test_size=0.2, random_state=42)\n",
    "\n",
    "    dt = DecisionTreeClassifier(random_state=42)\n",
    "    dt.fit(X_train, y_train)\n",
    "    y_pred = dt.predict(X_test)\n",
    "    accuracy = accuracy_score(y_test, y_pred)\n",
    "    cm = confusion_matrix(y_test, y_pred)\n",
    "\n",
    "    return accuracy, cm, dt, X_test, y_test\n"
   ]
  },
  {
   "cell_type": "markdown",
   "id": "f3b34c71",
   "metadata": {},
   "source": [
    "## Logistic Regression"
   ]
  },
  {
   "cell_type": "code",
   "execution_count": 57,
   "id": "5a5393b0",
   "metadata": {},
   "outputs": [],
   "source": [
    "def classifier_lr(feature_matrix):\n",
    "    X = feature_matrix.drop('Label', axis=1)\n",
    "    y = feature_matrix['Label']\n",
    "    X_train, X_test, y_train, y_test = train_test_split(X, y, test_size=0.2, random_state=42)\n",
    "\n",
    "    lr = LogisticRegression(random_state=42)\n",
    "    lr.fit(X_train, y_train)\n",
    "    y_pred = lr.predict(X_test)\n",
    "    accuracy = accuracy_score(y_test, y_pred)\n",
    "    cm = confusion_matrix(y_test, y_pred)\n",
    "\n",
    "    return accuracy, cm, lr, X_test, y_test\n"
   ]
  },
  {
   "cell_type": "markdown",
   "id": "8a93615f",
   "metadata": {},
   "source": [
    "## Gradient Boosting"
   ]
  },
  {
   "cell_type": "code",
   "execution_count": 58,
   "id": "68ec320e",
   "metadata": {},
   "outputs": [],
   "source": [
    "def classifier_gb(feature_matrix):\n",
    "    X = feature_matrix.drop('Label', axis=1)\n",
    "    y = feature_matrix['Label']\n",
    "    X_train, X_test, y_train, y_test = train_test_split(X, y, test_size=0.2, random_state=42)\n",
    "\n",
    "    gb = GradientBoostingClassifier(random_state=42)\n",
    "    gb.fit(X_train, y_train)\n",
    "    y_pred = gb.predict(X_test)\n",
    "    accuracy = accuracy_score(y_test, y_pred)\n",
    "    cm = confusion_matrix(y_test, y_pred)\n",
    "\n",
    "    return accuracy, cm, gb, X_test, y_test\n"
   ]
  },
  {
   "cell_type": "code",
   "execution_count": null,
   "id": "1f2c35ab",
   "metadata": {},
   "outputs": [],
   "source": [
    "def predict(signals,classifier):\n",
    "    for i, signal in enumerate(signals):\n",
    "        temp_df = pd.DataFrame({'id': i, 'time': np.arange(len(signal)), 'value': signal.astype(float)})\n",
    "        df_list.append(temp_df)\n",
    "\n",
    "    df = pd.concat(df_list, ignore_index=True)\n",
    "    extracted_features = extract_features(df, column_id='id', column_sort='time',default_fc_parameters=EfficientFCParameters())\n",
    "    impute(extracted_features)    \n",
    "    predicted_class = classifier.predict(extracted_features)\n",
    "    return predicted_class"
   ]
  },
  {
   "cell_type": "markdown",
   "id": "93f6c489",
   "metadata": {},
   "source": [
    "## Write classifiers into files"
   ]
  },
  {
   "cell_type": "code",
   "execution_count": 82,
   "id": "967ccc0b",
   "metadata": {},
   "outputs": [],
   "source": [
    "def save_classifier(classifier, filename):\n",
    "    with open(filename, 'wb') as file:\n",
    "        pickle.dump(classifier, file)\n",
    "def train_and_save_classifiers(classifiers, feature_matrix):\n",
    "    for name, classifier_func in classifiers.items():\n",
    "        accuracy, _, classifier, _, _ = classifier_func(feature_matrix)\n",
    "        save_classifier(classifier, f\"{name}_classifier.pkl\")\n",
    "        print(f\"{name} classifier trained and saved.\")\n",
    "\n",
    "def load_all_classifiers(filenames):\n",
    "    classifiers = {}\n",
    "    for filename in filenames:\n",
    "        classifier_name = filename[:-4].replace(\"_\", \" \")\n",
    "        classifiers[classifier_name] = load_classifier(filename)\n",
    "        print(f\"{classifier_name} classifier loaded.\")\n",
    "    return classifiers\n",
    "\n",
    "    "
   ]
  },
  {
   "cell_type": "markdown",
   "id": "34e9ecd8",
   "metadata": {},
   "source": [
    "## Comparison of Different Classifiers"
   ]
  },
  {
   "cell_type": "markdown",
   "id": "7ede2a70",
   "metadata": {},
   "source": [
    "## Simple Visualization of Accuracy"
   ]
  },
  {
   "cell_type": "code",
   "execution_count": 85,
   "id": "1872947d",
   "metadata": {},
   "outputs": [],
   "source": [
    "def compare_classifiers(classifiers, feature_matrix):\n",
    "    names, accuracies = [], []\n",
    "    for name, classifier_func in classifiers.items():\n",
    "        accuracy, _, _, _, _ = classifier_func(feature_matrix)\n",
    "        names.append(name)\n",
    "        accuracies.append(accuracy)\n",
    "    plt.figure(figsize=(12, 6))\n",
    "    sns.barplot(x=names, y=accuracies)\n",
    "    plt.xlabel(\"Classifier\")\n",
    "    plt.ylabel(\"Accuracy\")\n",
    "    plt.title(\"Comparison of Classifier Accuracies\")\n",
    "    plt.show()\n",
    "\n",
    "classifiers = {\n",
    "    \"KNN\": classifier_knn,\n",
    "    \"Random Forest\": classifier_rf,\n",
    "    \"SVM\": classifier_svm,\n",
    "    \"Logistic Regression\": classifier_lr,\n",
    "    \"Decision Tree\": classifier_dt,\n",
    "    \"Gradient Boosting\": classifier_gb,\n",
    "}\n",
    "classifier_filenames = [\n",
    "    \"KNN_classifier.pkl\",\n",
    "    \"Random_Forest_classifier.pkl\",\n",
    "    \"SVM_classifier.pkl\",\n",
    "    \"Logistic_Regression_classifier.pkl\",\n",
    "    \"Decision_Tree_classifier.pkl\",\n",
    "    \"Gradient_Boosting_classifier.pkl\",\n",
    "]\n",
    "# compare_classifiers(classifiers, feature_matrix)"
   ]
  },
  {
   "cell_type": "markdown",
   "id": "2c8fa982",
   "metadata": {},
   "source": [
    "## Visualization of Confusion Matrix"
   ]
  },
  {
   "cell_type": "code",
   "execution_count": 60,
   "id": "831953c8",
   "metadata": {},
   "outputs": [],
   "source": [
    "def visualize_confusion_matrix(classifier, X_test, y_test):\n",
    "    fig, ax = plt.subplots(figsize=(8, 8))\n",
    "    plot_confusion_matrix(classifier, X_test, y_test, ax=ax, cmap=plt.cm.Blues)\n",
    "    plt.title(\"Confusion Matrix\")\n",
    "    plt.show()"
   ]
  },
  {
   "cell_type": "markdown",
   "id": "d7607e95",
   "metadata": {},
   "source": [
    "## Multiple classifiers"
   ]
  },
  {
   "cell_type": "code",
   "execution_count": 61,
   "id": "707c7d77",
   "metadata": {},
   "outputs": [],
   "source": [
    "def plot_all_confusion_matrices(classifiers, feature_matrix):\n",
    "    X = feature_matrix.drop('Label', axis=1)\n",
    "    y = feature_matrix['Label']\n",
    "    X_train, X_test, y_train, y_test = train_test_split(X, y, test_size=0.2, random_state=42)\n",
    "    \n",
    "    n_classifiers = len(classifiers)\n",
    "    nrows = 2\n",
    "    ncols = int(np.ceil(n_classifiers / nrows))\n",
    "    fig, axes = plt.subplots(nrows=nrows, ncols=ncols, figsize=(5 * ncols, 5 * nrows))\n",
    "    \n",
    "    axes = axes.flatten()\n",
    "    \n",
    "    for ax, (name, classifier_func) in zip(axes, classifiers.items()):\n",
    "        _, _, classifier, _, _ = classifier_func(feature_matrix)\n",
    "        plot_confusion_matrix(classifier, X_test, y_test, ax=ax, cmap=plt.cm.Blues)\n",
    "        ax.set_title(f\"{name} Confusion Matrix\")\n",
    "    \n",
    "    for i in range(n_classifiers, nrows * ncols):\n",
    "        axes[i].axis('off')\n",
    "    \n",
    "    plt.tight_layout()\n",
    "    plt.show()\n"
   ]
  },
  {
   "cell_type": "markdown",
   "id": "dd6ad31d",
   "metadata": {},
   "source": [
    "## K-fold Cross Validation"
   ]
  },
  {
   "cell_type": "code",
   "execution_count": 74,
   "id": "037e3314",
   "metadata": {},
   "outputs": [],
   "source": [
    "def all_classifiers_cross_validation(classifiers, feature_matrix, n_splits=5):\n",
    "    X = feature_matrix.drop('Label', axis=1)\n",
    "    y = feature_matrix['Label']\n",
    "    cv_scores_dict = {}\n",
    "    cv_times_dict = {}\n",
    "    \n",
    "    for name, classifier_func in classifiers.items():\n",
    "        accuracy, _, classifier, _, _ = classifier_func(feature_matrix)\n",
    "        cv_results = cross_validate(classifier, X, y, cv=n_splits, return_train_score=False)\n",
    "        cv_scores_dict[name] = cv_results['test_score']\n",
    "        cv_times_dict[name] = cv_results['score_time']\n",
    "        \n",
    "    cv_scores_df = pd.DataFrame(cv_scores_dict)\n",
    "    cv_times_df = pd.DataFrame(cv_times_dict)\n",
    "    \n",
    "    # Plot cross-validation scores\n",
    "    plt.figure(figsize=(12, 6))\n",
    "    sns.boxplot(data=cv_scores_df)\n",
    "    plt.title(\"Classifier Cross-Validation Scores\")\n",
    "    plt.xlabel(\"Classifier\")\n",
    "    plt.ylabel(\"Cross-Validation Score\")\n",
    "    plt.show()\n",
    "    \n",
    "    # Plot prediction times\n",
    "    plt.figure(figsize=(12, 6))\n",
    "    sns.boxplot(data=cv_times_df)\n",
    "    plt.title(\"Classifier Prediction Times\")\n",
    "    plt.xlabel(\"Classifier\")\n",
    "    plt.ylabel(\"Prediction Time (seconds)\")\n",
    "    plt.show()\n",
    "\n",
    "    return cv_scores_dict, cv_times_dict"
   ]
  },
  {
   "cell_type": "markdown",
   "id": "c3e42c4e",
   "metadata": {},
   "source": [
    "# Streaming Condition"
   ]
  },
  {
   "cell_type": "code",
   "execution_count": 63,
   "id": "78f9245f",
   "metadata": {},
   "outputs": [],
   "source": [
    "def streaming_condition(knn_classifier, sample_rate, window_size=None, increment=None):\n",
    "    if window_size is None:\n",
    "        window_size = sample_rate\n",
    "    if increment is None:\n",
    "        increment = window_size // 3\n",
    "    input_buffer = []\n",
    "    lower_interval = 0\n",
    "    return_str = \"\"\n",
    "\n",
    "    while True:\n",
    "        new_data = read_data_from_spikerbox()\n",
    "        input_buffer.extend(new_data)\n",
    "        if len(input_buffer) >= lower_interval + window_size:\n",
    "            upper_interval = lower_interval + window_size\n",
    "            interval = np.array(input_buffer[lower_interval:upper_interval])\n",
    "            input_buffer = input_buffer[upper_interval:]\n",
    "            lower_interval = 0\n",
    "\n",
    "            mean = np.mean(interval)\n",
    "            sd = np.std(interval)\n",
    "            zero_crossing_point = len(np.where(np.diff(np.sign(interval)))[0])\n",
    "\n",
    "            if zero_crossing_point < 40:\n",
    "                temp_df = pd.DataFrame({'id': 0, 'time': np.arange(len(interval)), 'value': interval.astype(float)})\n",
    "                extracted_features = extract_features(temp_df, column_id='id', column_sort='time',\n",
    "                                                      default_fc_parameters=EfficientFCParameters())\n",
    "                impute(extracted_features)\n",
    "                features = extracted_features\n",
    "\n",
    "                predicted = knn_classifier.predict(features)\n",
    "                if predicted[0] == \"L\":\n",
    "                    goLeft()\n",
    "                elif predicted[0] == \"R\":\n",
    "                    goRight()\n",
    "                elif predicted[0] == \"B\":\n",
    "                    status = not status\n",
    "            else:\n",
    "                lower_interval = lower_interval + increment\n",
    "    return None\n"
   ]
  },
  {
   "cell_type": "markdown",
   "id": "dbea5cbe",
   "metadata": {},
   "source": [
    "# Connect to Keyboard"
   ]
  },
  {
   "cell_type": "code",
   "execution_count": 64,
   "id": "d8536a3a",
   "metadata": {},
   "outputs": [],
   "source": [
    "def goLeft():\n",
    "    pyautogui.press('left')\n",
    "\n",
    "def goRight():\n",
    "    pyautogui.press('right')\n"
   ]
  },
  {
   "cell_type": "markdown",
   "id": "2a20f1c7",
   "metadata": {},
   "source": [
    "# Visualization of Different Classifiers"
   ]
  },
  {
   "cell_type": "code",
   "execution_count": 83,
   "id": "f61bbcde",
   "metadata": {},
   "outputs": [
    {
     "name": "stdout",
     "output_type": "stream",
     "text": [
      "../datasets/zoe_spiker/Length3/LLR_z.wav\n",
      "../datasets/zoe_spiker/Length3/RLL_z.wav\n",
      "../datasets/zoe_spiker/Length3/.DS_Store\n",
      "../datasets/zoe_spiker/Length3/RRR_z.wav\n",
      "../datasets/zoe_spiker/Length3/LRL_z.wav\n",
      "../datasets/zoe_spiker/Length3/RRL_z.wav\n",
      "../datasets/zoe_spiker/Length3/LRR_z.wav\n",
      "../datasets/zoe_spiker/Length3/RLR_z.wav\n",
      "../datasets/zoe_spiker/Length3/RRL_z2.wav\n",
      "../datasets/zoe_spiker/Length3/RRL_z3.wav\n",
      "../datasets/zoe_spiker/Length3/归档.zip\n",
      "../datasets/zoe_spiker/Length3/LLR_z3.wav\n",
      "../datasets/zoe_spiker/Length3/LLR_z2.wav\n",
      "../datasets/zoe_spiker/Length3/RLR_z2.wav\n",
      "../datasets/zoe_spiker/Length3/RLR_z3.wav\n",
      "../datasets/zoe_spiker/Length3/LRL_z3.wav\n",
      "../datasets/zoe_spiker/Length3/LRL_z2.wav\n",
      "../datasets/zoe_spiker/Length3/LLL_z3.wav\n",
      "../datasets/zoe_spiker/Length3/LLL_z2.wav\n",
      "../datasets/zoe_spiker/Length3/RRR_z2.wav\n",
      "../datasets/zoe_spiker/Length3/LRRz_2.wav\n",
      "../datasets/zoe_spiker/Length3/RRR_z3.wav\n",
      "../datasets/zoe_spiker/Length3/LRR_z3.wav\n",
      "../datasets/zoe_spiker/Length3/RLL_z2.wav\n",
      "../datasets/zoe_spiker/Length3/RLL_z3.wav\n"
     ]
    },
    {
     "name": "stderr",
     "output_type": "stream",
     "text": [
      "Feature Extraction: 100%|███████████████████| 20/20 [01:58<00:00,  5.95s/it]\n",
      "/Users/yche7179/opt/anaconda3/lib/python3.9/site-packages/tsfresh/utilities/dataframe_functions.py:198: RuntimeWarning: The columns ['value__query_similarity_count__query_None__threshold_0.0'] did not have any finite values. Filling with zeros.\n",
      "  warnings.warn(\n"
     ]
    },
    {
     "name": "stdout",
     "output_type": "stream",
     "text": [
      "    value__variance_larger_than_standard_deviation  value__has_duplicate_max  \\\n",
      "0                                              1.0                       1.0   \n",
      "1                                              1.0                       1.0   \n",
      "2                                              1.0                       1.0   \n",
      "3                                              1.0                       1.0   \n",
      "4                                              1.0                       1.0   \n",
      "..                                             ...                       ...   \n",
      "72                                             1.0                       1.0   \n",
      "73                                             1.0                       1.0   \n",
      "74                                             1.0                       1.0   \n",
      "75                                             1.0                       1.0   \n",
      "76                                             1.0                       0.0   \n",
      "\n",
      "    value__has_duplicate_min  value__has_duplicate  value__sum_values  \\\n",
      "0                        0.0                   1.0      -6.574972e+05   \n",
      "1                        1.0                   1.0      -2.488980e+06   \n",
      "2                        1.0                   1.0       6.044780e+05   \n",
      "3                        1.0                   1.0       1.476205e+06   \n",
      "4                        1.0                   1.0      -1.473831e+06   \n",
      "..                       ...                   ...                ...   \n",
      "72                       1.0                   1.0      -1.483565e+06   \n",
      "73                       1.0                   1.0      -1.195668e+06   \n",
      "74                       1.0                   1.0       2.528954e+06   \n",
      "75                       1.0                   1.0      -1.880082e+06   \n",
      "76                       0.0                   1.0      -2.047131e+06   \n",
      "\n",
      "    value__abs_energy  value__mean_abs_change  value__mean_change  \\\n",
      "0        6.884565e+09                2.062203           -0.023612   \n",
      "1        7.374055e+09                2.096373            0.027358   \n",
      "2        1.585577e+10                2.420000           -0.000302   \n",
      "3        2.645044e+10                1.594432            0.155730   \n",
      "4        8.458565e+09                1.474107            0.040714   \n",
      "..                ...                     ...                 ...   \n",
      "72       5.052951e+09                1.911378            0.029244   \n",
      "73       7.473183e+09                2.040076           -0.008626   \n",
      "74       2.580845e+10                2.705955            0.151798   \n",
      "75       7.418509e+09                2.137816            0.060115   \n",
      "76       9.589290e+09                2.384412            0.143824   \n",
      "\n",
      "    value__mean_second_derivative_central  value__median  ...  \\\n",
      "0                                0.000264     -50.868754  ...   \n",
      "1                                0.000104    -306.868754  ...   \n",
      "2                                0.000452     -97.868754  ...   \n",
      "3                                0.000054      95.000286  ...   \n",
      "4                                0.000134     -64.999714  ...   \n",
      "..                                    ...            ...  ...   \n",
      "72                               0.000000     -48.779874  ...   \n",
      "73                               0.000038      17.220126  ...   \n",
      "74                              -0.000449     293.730889  ...   \n",
      "75                               0.000230    -372.269111  ...   \n",
      "76                              -0.000074    -657.269111  ...   \n",
      "\n",
      "    value__fourier_entropy__bins_10  value__fourier_entropy__bins_100  \\\n",
      "0                          0.136002                          0.136002   \n",
      "1                          0.136002                          0.136002   \n",
      "2                          0.090729                          0.136002   \n",
      "3                          0.090729                          0.136002   \n",
      "4                          0.090729                          0.136002   \n",
      "..                              ...                               ...   \n",
      "72                         0.136002                          0.136002   \n",
      "73                         0.136002                          0.136002   \n",
      "74                         0.090729                          0.136002   \n",
      "75                         0.136002                          0.136002   \n",
      "76                         0.136002                          0.136002   \n",
      "\n",
      "    value__permutation_entropy__dimension_3__tau_1  \\\n",
      "0                                         1.025641   \n",
      "1                                         1.036479   \n",
      "2                                         1.041836   \n",
      "3                                         1.127445   \n",
      "4                                         1.151358   \n",
      "..                                             ...   \n",
      "72                                        1.079742   \n",
      "73                                        1.031689   \n",
      "74                                        1.005345   \n",
      "75                                        1.005685   \n",
      "76                                        0.981825   \n",
      "\n",
      "    value__permutation_entropy__dimension_4__tau_1  \\\n",
      "0                                         1.261297   \n",
      "1                                         1.285327   \n",
      "2                                         1.285566   \n",
      "3                                         1.462698   \n",
      "4                                         1.497564   \n",
      "..                                             ...   \n",
      "72                                        1.350059   \n",
      "73                                        1.273309   \n",
      "74                                        1.237509   \n",
      "75                                        1.236514   \n",
      "76                                        1.190451   \n",
      "\n",
      "    value__permutation_entropy__dimension_5__tau_1  \\\n",
      "0                                         1.462012   \n",
      "1                                         1.485765   \n",
      "2                                         1.494932   \n",
      "3                                         1.752847   \n",
      "4                                         1.785675   \n",
      "..                                             ...   \n",
      "72                                        1.580532   \n",
      "73                                        1.473221   \n",
      "74                                        1.431445   \n",
      "75                                        1.429780   \n",
      "76                                        1.364492   \n",
      "\n",
      "    value__permutation_entropy__dimension_6__tau_1  \\\n",
      "0                                         1.645348   \n",
      "1                                         1.675433   \n",
      "2                                         1.684043   \n",
      "3                                         2.018234   \n",
      "4                                         2.045445   \n",
      "..                                             ...   \n",
      "72                                        1.795989   \n",
      "73                                        1.657210   \n",
      "74                                        1.605158   \n",
      "75                                        1.610784   \n",
      "76                                        1.527536   \n",
      "\n",
      "    value__permutation_entropy__dimension_7__tau_1  \\\n",
      "0                                         1.820051   \n",
      "1                                         1.855437   \n",
      "2                                         1.861944   \n",
      "3                                         2.265561   \n",
      "4                                         2.288738   \n",
      "..                                             ...   \n",
      "72                                        1.995525   \n",
      "73                                        1.829785   \n",
      "74                                        1.764850   \n",
      "75                                        1.780785   \n",
      "76                                        1.679777   \n",
      "\n",
      "    value__query_similarity_count__query_None__threshold_0.0  \\\n",
      "0                                                 0.0          \n",
      "1                                                 0.0          \n",
      "2                                                 0.0          \n",
      "3                                                 0.0          \n",
      "4                                                 0.0          \n",
      "..                                                ...          \n",
      "72                                                0.0          \n",
      "73                                                0.0          \n",
      "74                                                0.0          \n",
      "75                                                0.0          \n",
      "76                                                0.0          \n",
      "\n",
      "    value__mean_n_absolute_max__number_of_maxima_7  Label  \n",
      "0                                      2451.868754      L  \n",
      "1                                      2209.868754      L  \n",
      "2                                      3240.702674      R  \n",
      "3                                      3723.428857      R  \n",
      "4                                      2539.999714      L  \n",
      "..                                             ...    ...  \n",
      "72                                     1671.208446      L  \n",
      "73                                     2547.494160      L  \n",
      "74                                     4243.588031      R  \n",
      "75                                     1983.697683      L  \n",
      "76                                     2771.411969      L  \n",
      "\n",
      "[77 rows x 778 columns]\n",
      "KNN classifier trained and saved.\n",
      "Random Forest classifier trained and saved.\n",
      "SVM classifier trained and saved.\n"
     ]
    },
    {
     "name": "stderr",
     "output_type": "stream",
     "text": [
      "/Users/yche7179/opt/anaconda3/lib/python3.9/site-packages/sklearn/linear_model/_logistic.py:814: ConvergenceWarning: lbfgs failed to converge (status=2):\n",
      "ABNORMAL_TERMINATION_IN_LNSRCH.\n",
      "\n",
      "Increase the number of iterations (max_iter) or scale the data as shown in:\n",
      "    https://scikit-learn.org/stable/modules/preprocessing.html\n",
      "Please also refer to the documentation for alternative solver options:\n",
      "    https://scikit-learn.org/stable/modules/linear_model.html#logistic-regression\n",
      "  n_iter_i = _check_optimize_result(\n"
     ]
    },
    {
     "name": "stdout",
     "output_type": "stream",
     "text": [
      "Logistic Regression classifier trained and saved.\n",
      "Decision Tree classifier trained and saved.\n",
      "Gradient Boosting classifier trained and saved.\n"
     ]
    }
   ],
   "source": [
    "if __name__ == '__main__':\n",
    "    # Load the classifier\n",
    "    path = \"../datasets/zoe_spiker/Length3\"\n",
    "    file_ls = []\n",
    "    wave_file_ls = os.listdir(path)\n",
    "    for i in range(len(wave_file_ls)):\n",
    "        file_path = path + \"/\" + wave_file_ls[i]\n",
    "        file_ls.append(file_path)\n",
    "    results = record_all_training(files = file_ls,method=\"zc\")\n",
    "\n",
    "    if results != None:\n",
    "        matrix = make_matrix_tsfresh(results[\"ls_signals\"], results[\"ls_labels\"])\n",
    "        print(matrix)\n",
    "        train_and_save_classifiers(classifiers, matrix)"
   ]
  },
  {
   "cell_type": "markdown",
   "id": "54d6f928",
   "metadata": {},
   "source": [
    "## Load classifiers"
   ]
  },
  {
   "cell_type": "code",
   "execution_count": 92,
   "id": "3b60913b",
   "metadata": {},
   "outputs": [
    {
     "name": "stdout",
     "output_type": "stream",
     "text": [
      "KNN classifier classifier loaded.\n",
      "Random Forest classifier classifier loaded.\n",
      "SVM classifier classifier loaded.\n",
      "Logistic Regression classifier classifier loaded.\n",
      "Decision Tree classifier classifier loaded.\n",
      "Gradient Boosting classifier classifier loaded.\n",
      "{'KNN classifier': KNeighborsClassifier(n_neighbors=3), 'Random Forest classifier': RandomForestClassifier(random_state=42), 'SVM classifier': SVC(C=1, kernel='linear', random_state=42), 'Logistic Regression classifier': LogisticRegression(random_state=42), 'Decision Tree classifier': DecisionTreeClassifier(random_state=42), 'Gradient Boosting classifier': GradientBoostingClassifier(random_state=42)}\n"
     ]
    }
   ],
   "source": [
    "classifiers = load_all_classifiers(classifier_filenames)\n",
    "print(classifiers)"
   ]
  },
  {
   "cell_type": "code",
   "execution_count": 90,
   "id": "fac16bc0",
   "metadata": {},
   "outputs": [
    {
     "ename": "TypeError",
     "evalue": "'KNeighborsClassifier' object is not callable",
     "output_type": "error",
     "traceback": [
      "\u001b[0;31m---------------------------------------------------------------------------\u001b[0m",
      "\u001b[0;31mTypeError\u001b[0m                                 Traceback (most recent call last)",
      "Input \u001b[0;32mIn [90]\u001b[0m, in \u001b[0;36m<cell line: 1>\u001b[0;34m()\u001b[0m\n\u001b[0;32m----> 1\u001b[0m \u001b[43mcompare_classifiers\u001b[49m\u001b[43m(\u001b[49m\u001b[43mclassifiers\u001b[49m\u001b[43m,\u001b[49m\u001b[43m \u001b[49m\u001b[43mmatrix\u001b[49m\u001b[43m)\u001b[49m\n",
      "Input \u001b[0;32mIn [85]\u001b[0m, in \u001b[0;36mcompare_classifiers\u001b[0;34m(classifiers, feature_matrix)\u001b[0m\n\u001b[1;32m      2\u001b[0m names, accuracies \u001b[38;5;241m=\u001b[39m [], []\n\u001b[1;32m      3\u001b[0m \u001b[38;5;28;01mfor\u001b[39;00m name, classifier_func \u001b[38;5;129;01min\u001b[39;00m classifiers\u001b[38;5;241m.\u001b[39mitems():\n\u001b[0;32m----> 4\u001b[0m     accuracy, _, _, _, _ \u001b[38;5;241m=\u001b[39m \u001b[43mclassifier_func\u001b[49m\u001b[43m(\u001b[49m\u001b[43mfeature_matrix\u001b[49m\u001b[43m)\u001b[49m\n\u001b[1;32m      5\u001b[0m     names\u001b[38;5;241m.\u001b[39mappend(name)\n\u001b[1;32m      6\u001b[0m     accuracies\u001b[38;5;241m.\u001b[39mappend(accuracy)\n",
      "\u001b[0;31mTypeError\u001b[0m: 'KNeighborsClassifier' object is not callable"
     ]
    }
   ],
   "source": [
    "compare_classifiers(classifiers, matrix)"
   ]
  },
  {
   "cell_type": "code",
   "execution_count": 67,
   "id": "e00c1902",
   "metadata": {},
   "outputs": [
    {
     "name": "stderr",
     "output_type": "stream",
     "text": [
      "/Users/yche7179/opt/anaconda3/lib/python3.9/site-packages/sklearn/utils/deprecation.py:87: FutureWarning: Function plot_confusion_matrix is deprecated; Function `plot_confusion_matrix` is deprecated in 1.0 and will be removed in 1.2. Use one of the class methods: ConfusionMatrixDisplay.from_predictions or ConfusionMatrixDisplay.from_estimator.\n",
      "  warnings.warn(msg, category=FutureWarning)\n"
     ]
    },
    {
     "data": {
      "image/png": "[encoded data removed]",
      "text/plain": [
       "<Figure size 576x576 with 2 Axes>"
      ]
     },
     "metadata": {
      "needs_background": "light"
     },
     "output_type": "display_data"
    }
   ],
   "source": [
    "accuracy, cm, svm_classifier, X_test, y_test = classifier_svm(matrix)\n",
    "visualize_confusion_matrix(svm_classifier, X_test, y_test)"
   ]
  },
  {
   "cell_type": "code",
   "execution_count": 68,
   "id": "40135e92",
   "metadata": {},
   "outputs": [
    {
     "name": "stderr",
     "output_type": "stream",
     "text": [
      "/Users/yche7179/opt/anaconda3/lib/python3.9/site-packages/sklearn/utils/deprecation.py:87: FutureWarning: Function plot_confusion_matrix is deprecated; Function `plot_confusion_matrix` is deprecated in 1.0 and will be removed in 1.2. Use one of the class methods: ConfusionMatrixDisplay.from_predictions or ConfusionMatrixDisplay.from_estimator.\n",
      "  warnings.warn(msg, category=FutureWarning)\n",
      "/Users/yche7179/opt/anaconda3/lib/python3.9/site-packages/sklearn/utils/deprecation.py:87: FutureWarning: Function plot_confusion_matrix is deprecated; Function `plot_confusion_matrix` is deprecated in 1.0 and will be removed in 1.2. Use one of the class methods: ConfusionMatrixDisplay.from_predictions or ConfusionMatrixDisplay.from_estimator.\n",
      "  warnings.warn(msg, category=FutureWarning)\n",
      "/Users/yche7179/opt/anaconda3/lib/python3.9/site-packages/sklearn/utils/deprecation.py:87: FutureWarning: Function plot_confusion_matrix is deprecated; Function `plot_confusion_matrix` is deprecated in 1.0 and will be removed in 1.2. Use one of the class methods: ConfusionMatrixDisplay.from_predictions or ConfusionMatrixDisplay.from_estimator.\n",
      "  warnings.warn(msg, category=FutureWarning)\n",
      "/Users/yche7179/opt/anaconda3/lib/python3.9/site-packages/sklearn/linear_model/_logistic.py:814: ConvergenceWarning: lbfgs failed to converge (status=2):\n",
      "ABNORMAL_TERMINATION_IN_LNSRCH.\n",
      "\n",
      "Increase the number of iterations (max_iter) or scale the data as shown in:\n",
      "    https://scikit-learn.org/stable/modules/preprocessing.html\n",
      "Please also refer to the documentation for alternative solver options:\n",
      "    https://scikit-learn.org/stable/modules/linear_model.html#logistic-regression\n",
      "  n_iter_i = _check_optimize_result(\n",
      "/Users/yche7179/opt/anaconda3/lib/python3.9/site-packages/sklearn/utils/deprecation.py:87: FutureWarning: Function plot_confusion_matrix is deprecated; Function `plot_confusion_matrix` is deprecated in 1.0 and will be removed in 1.2. Use one of the class methods: ConfusionMatrixDisplay.from_predictions or ConfusionMatrixDisplay.from_estimator.\n",
      "  warnings.warn(msg, category=FutureWarning)\n",
      "/Users/yche7179/opt/anaconda3/lib/python3.9/site-packages/sklearn/utils/deprecation.py:87: FutureWarning: Function plot_confusion_matrix is deprecated; Function `plot_confusion_matrix` is deprecated in 1.0 and will be removed in 1.2. Use one of the class methods: ConfusionMatrixDisplay.from_predictions or ConfusionMatrixDisplay.from_estimator.\n",
      "  warnings.warn(msg, category=FutureWarning)\n",
      "/Users/yche7179/opt/anaconda3/lib/python3.9/site-packages/sklearn/utils/deprecation.py:87: FutureWarning: Function plot_confusion_matrix is deprecated; Function `plot_confusion_matrix` is deprecated in 1.0 and will be removed in 1.2. Use one of the class methods: ConfusionMatrixDisplay.from_predictions or ConfusionMatrixDisplay.from_estimator.\n",
      "  warnings.warn(msg, category=FutureWarning)\n"
     ]
    },
    {
     "data": {
      "image/png": "[encoded data removed]",
      "text/plain": [
       "<Figure size 1080x720 with 12 Axes>"
      ]
     },
     "metadata": {
      "needs_background": "light"
     },
     "output_type": "display_data"
    }
   ],
   "source": [
    "plot_all_confusion_matrices(classifiers, matrix)"
   ]
  },
  {
   "cell_type": "code",
   "execution_count": 69,
   "id": "265cb2ac",
   "metadata": {},
   "outputs": [
    {
     "name": "stderr",
     "output_type": "stream",
     "text": [
      "/Users/yche7179/opt/anaconda3/lib/python3.9/site-packages/sklearn/linear_model/_logistic.py:814: ConvergenceWarning: lbfgs failed to converge (status=2):\n",
      "ABNORMAL_TERMINATION_IN_LNSRCH.\n",
      "\n",
      "Increase the number of iterations (max_iter) or scale the data as shown in:\n",
      "    https://scikit-learn.org/stable/modules/preprocessing.html\n",
      "Please also refer to the documentation for alternative solver options:\n",
      "    https://scikit-learn.org/stable/modules/linear_model.html#logistic-regression\n",
      "  n_iter_i = _check_optimize_result(\n",
      "/Users/yche7179/opt/anaconda3/lib/python3.9/site-packages/sklearn/linear_model/_logistic.py:814: ConvergenceWarning: lbfgs failed to converge (status=2):\n",
      "ABNORMAL_TERMINATION_IN_LNSRCH.\n",
      "\n",
      "Increase the number of iterations (max_iter) or scale the data as shown in:\n",
      "    https://scikit-learn.org/stable/modules/preprocessing.html\n",
      "Please also refer to the documentation for alternative solver options:\n",
      "    https://scikit-learn.org/stable/modules/linear_model.html#logistic-regression\n",
      "  n_iter_i = _check_optimize_result(\n",
      "/Users/yche7179/opt/anaconda3/lib/python3.9/site-packages/sklearn/linear_model/_logistic.py:814: ConvergenceWarning: lbfgs failed to converge (status=2):\n",
      "ABNORMAL_TERMINATION_IN_LNSRCH.\n",
      "\n",
      "Increase the number of iterations (max_iter) or scale the data as shown in:\n",
      "    https://scikit-learn.org/stable/modules/preprocessing.html\n",
      "Please also refer to the documentation for alternative solver options:\n",
      "    https://scikit-learn.org/stable/modules/linear_model.html#logistic-regression\n",
      "  n_iter_i = _check_optimize_result(\n"
     ]
    },
    {
     "data": {
      "image/png": "[encoded data removed]",
      "text/plain": [
       "<Figure size 864x432 with 1 Axes>"
      ]
     },
     "metadata": {
      "needs_background": "light"
     },
     "output_type": "display_data"
    }
   ],
   "source": [
    "cv_scores_dict = all_classifiers_cross_validation(classifiers, matrix, n_splits=5)"
   ]
  },
  {
   "cell_type": "code",
   "execution_count": 77,
   "id": "a6a57f43",
   "metadata": {},
   "outputs": [
    {
     "name": "stderr",
     "output_type": "stream",
     "text": [
      "/Users/yche7179/opt/anaconda3/lib/python3.9/site-packages/sklearn/linear_model/_logistic.py:814: ConvergenceWarning: lbfgs failed to converge (status=2):\n",
      "ABNORMAL_TERMINATION_IN_LNSRCH.\n",
      "\n",
      "Increase the number of iterations (max_iter) or scale the data as shown in:\n",
      "    https://scikit-learn.org/stable/modules/preprocessing.html\n",
      "Please also refer to the documentation for alternative solver options:\n",
      "    https://scikit-learn.org/stable/modules/linear_model.html#logistic-regression\n",
      "  n_iter_i = _check_optimize_result(\n",
      "/Users/yche7179/opt/anaconda3/lib/python3.9/site-packages/sklearn/linear_model/_logistic.py:814: ConvergenceWarning: lbfgs failed to converge (status=2):\n",
      "ABNORMAL_TERMINATION_IN_LNSRCH.\n",
      "\n",
      "Increase the number of iterations (max_iter) or scale the data as shown in:\n",
      "    https://scikit-learn.org/stable/modules/preprocessing.html\n",
      "Please also refer to the documentation for alternative solver options:\n",
      "    https://scikit-learn.org/stable/modules/linear_model.html#logistic-regression\n",
      "  n_iter_i = _check_optimize_result(\n",
      "/Users/yche7179/opt/anaconda3/lib/python3.9/site-packages/sklearn/linear_model/_logistic.py:814: ConvergenceWarning: lbfgs failed to converge (status=2):\n",
      "ABNORMAL_TERMINATION_IN_LNSRCH.\n",
      "\n",
      "Increase the number of iterations (max_iter) or scale the data as shown in:\n",
      "    https://scikit-learn.org/stable/modules/preprocessing.html\n",
      "Please also refer to the documentation for alternative solver options:\n",
      "    https://scikit-learn.org/stable/modules/linear_model.html#logistic-regression\n",
      "  n_iter_i = _check_optimize_result(\n"
     ]
    },
    {
     "data": {
      "image/png": "[encoded data removed]",
      "text/plain": [
       "<Figure size 864x432 with 1 Axes>"
      ]
     },
     "metadata": {
      "needs_background": "light"
     },
     "output_type": "display_data"
    },
    {
     "data": {
      "image/png": "[encoded data removed]",
      "text/plain": [
       "<Figure size 864x432 with 1 Axes>"
      ]
     },
     "metadata": {
      "needs_background": "light"
     },
     "output_type": "display_data"
    }
   ],
   "source": [
    "cv_scores, cv_times = all_classifiers_cross_validation(classifiers, matrix, n_splits=5)\n"
   ]
  },
  {
   "cell_type": "code",
   "execution_count": 72,
   "id": "656240e4",
   "metadata": {},
   "outputs": [],
   "source": [
    "matrix.to_csv(\"test_feature.csv\", index=False)"
   ]
  }
 ],
 "metadata": {
  "kernelspec": {
   "display_name": "Python 3 (ipykernel)",
   "language": "python",
   "name": "python3"
  },
  "language_info": {
   "codemirror_mode": {
    "name": "ipython",
    "version": 3
   },
   "file_extension": ".py",
   "mimetype": "text/x-python",
   "name": "python",
   "nbconvert_exporter": "python",
   "pygments_lexer": "ipython3",
   "version": "3.9.12"
  }
 },
 "nbformat": 4,
 "nbformat_minor": 5
}
